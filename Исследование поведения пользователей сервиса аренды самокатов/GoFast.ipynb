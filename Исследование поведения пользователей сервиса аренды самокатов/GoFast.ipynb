{
 "cells": [
  {
   "cell_type": "markdown",
   "id": "502309d9-1327-4cac-9fa3-e99e341d9754",
   "metadata": {},
   "source": [
    "# Исследование сервиса аренды самокатов GoFast"
   ]
  },
  {
   "cell_type": "markdown",
   "id": "13851240-5e29-4843-b7b0-82cf2b510773",
   "metadata": {},
   "source": [
    "<div style=\"border:solid black 2px; padding: 20px\">\n",
    "\n",
    "На данных сервиса аренды самокатов GoFast проведем исследовательский анализ и проверим выдвинутые гипотезы.\n",
    "\n",
    "**Цель исследования** — проверим четыре гипотезы:\n",
    "1. Пользователи с подпиской тратят больше времени на поездки чем пользователи без подписки.\n",
    "2. Расстояние одной поездки в 3130 метров — оптимальное с точки зрения износа самоката. Среднее расстояние, которое проезжают пользователи с подпиской за одну поездку, не превышает \n",
    "3130 метров.\n",
    "3.  Помесячная выручка от пользователей с подпиской по месяцам выше, чем выручка от пользователей без подписки.\n",
    "4. Техническая команда сервиса обновила сервера, с которыми взаимодействует мобильное приложение. Предполагаем, что количество обращений в техподдержку значимо снизилось.\n",
    "\n",
    "**Ход исследования**\n",
    "\n",
    "Данные о поведении пользователей получили из файлов:\n",
    "* `/datasets/users_go.csv`\n",
    "* `/datasets/rides_go.csv`\n",
    "* `/datasets/subscriptions_go.csv`\n",
    "\n",
    "О качестве данных нам ничего не известно. Поэтому перед проверкой гипотез проведем обзор данных. Так как работаем с тремя файлами, понадобится объединение данных.\n",
    "\n",
    "Таким образом, исследование пройдёт в семь этапов:\n",
    "1. [Загрузка и обзор данных](#Загрузка_и_обзор_данных)\n",
    "2. [Предобработка данных](#Предобработка_данных)\n",
    "3. [Исследовательский анализ данных](#Исследовательский_анализ_данных)\n",
    "4. [Объединение данных](#Объединение_данных)\n",
    "5. [Подсчёт выручки](#Подсчёт_выручки)\n",
    "6. [Проверка гипотез](#Проверка_гипотез)\n",
    "7. [Итоги исследования](#Итоги_исследования)\n",
    "\n",
    "**Описание данных**\n",
    "\n",
    "**Пользователи — users_go.csv**:\n",
    "* user_id: уникальный идентификатор пользователя\n",
    "* name: имя пользователя\n",
    "* age: возраст\n",
    "* city: город\n",
    "* subscription_type: тип подписки (free, ultra)\n",
    "\n",
    "**Поездки — rides_go.csv**:\n",
    "* user_id: уникальный идентификатор пользователя\n",
    "* distance: расстояние, которое пользователь проехал в текущей сессии (в метрах)\n",
    "* duration: продолжительность сессии (в минутах) — время с того момента, как пользователь нажал кнопку «Начать поездку» до момента, как он нажал кнопку «Завершить поездку»\n",
    "* date: дата совершения поездки\n",
    "\n",
    "**Подписки — subscriptions_go.csv**:\n",
    "* subscription_type: тип подписки\n",
    "* minute_price: стоимость одной минуты поездки по данной подписке\n",
    "* start_ride_price: стоимость начала поездки\n",
    "* subscription_fee: стоимость ежемесячного платежа\n",
    "\n",
    "</div>"
   ]
  },
  {
   "cell_type": "markdown",
   "id": "70a8e296-7d9b-4262-b35d-9961ad46232e",
   "metadata": {},
   "source": [
    "<a id=\"Загрузка_и_обзор_данных\"></a>"
   ]
  },
  {
   "cell_type": "markdown",
   "id": "6a310889-5572-4fce-be2a-9c6b8dd5adae",
   "metadata": {},
   "source": [
    "## Загрузка и обзор данных"
   ]
  },
  {
   "cell_type": "markdown",
   "id": "fd2be3a4-42b8-4694-8683-4ece521ff3c8",
   "metadata": {},
   "source": [
    "<div style=\"border:solid black 2px; padding: 20px\">\n",
    "\n",
    "**Шаг 1.** Импортируем библиотеки. Считываем данные из csv-файлов в датафрейм и сохраняем в переменные.\n",
    "\n",
    "</div>"
   ]
  },
  {
   "cell_type": "code",
   "execution_count": 1,
   "id": "9557bfe1",
   "metadata": {},
   "outputs": [],
   "source": [
    "import pandas as pd\n",
    "import matplotlib.pyplot as plt \n",
    "import numpy as np \n",
    "from scipy import stats as st\n",
    "import math\n",
    "from random import randint"
   ]
  },
  {
   "cell_type": "code",
   "execution_count": 2,
   "id": "98f7df03-cf96-4344-beb9-e8b0b2f0f676",
   "metadata": {},
   "outputs": [],
   "source": [
    "data_users = pd.read_csv('users_go.csv') # чтение файла с данными пользователях и сохранение в data_users\n",
    "data_rides = pd.read_csv('rides_go.csv') # чтение файла с данными о поезках и сохранение в data_rides\n",
    "data_subscriptions = pd.read_csv('subscriptions_go.csv') # чтение файла с подписках о поезках и сохранение в data_subscriptions"
   ]
  },
  {
   "cell_type": "markdown",
   "id": "70fa09fa-b03a-4395-81c6-d9b36c702c47",
   "metadata": {},
   "source": [
    "<div style=\"border:solid black 2px; padding: 20px\">\n",
    "\n",
    "**Шаг 2.** Выведем первые 10 строчек датафреймов на экран.\n",
    "\n",
    "</div>"
   ]
  },
  {
   "cell_type": "code",
   "execution_count": 3,
   "id": "1fd214f2-0342-4de7-ab91-cccd9d4431b9",
   "metadata": {},
   "outputs": [
    {
     "data": {
      "text/html": [
       "<div>\n",
       "<style scoped>\n",
       "    .dataframe tbody tr th:only-of-type {\n",
       "        vertical-align: middle;\n",
       "    }\n",
       "\n",
       "    .dataframe tbody tr th {\n",
       "        vertical-align: top;\n",
       "    }\n",
       "\n",
       "    .dataframe thead th {\n",
       "        text-align: right;\n",
       "    }\n",
       "</style>\n",
       "<table border=\"1\" class=\"dataframe\">\n",
       "  <thead>\n",
       "    <tr style=\"text-align: right;\">\n",
       "      <th></th>\n",
       "      <th>user_id</th>\n",
       "      <th>name</th>\n",
       "      <th>age</th>\n",
       "      <th>city</th>\n",
       "      <th>subscription_type</th>\n",
       "    </tr>\n",
       "  </thead>\n",
       "  <tbody>\n",
       "    <tr>\n",
       "      <th>0</th>\n",
       "      <td>1</td>\n",
       "      <td>Кира</td>\n",
       "      <td>22</td>\n",
       "      <td>Тюмень</td>\n",
       "      <td>ultra</td>\n",
       "    </tr>\n",
       "    <tr>\n",
       "      <th>1</th>\n",
       "      <td>2</td>\n",
       "      <td>Станислав</td>\n",
       "      <td>31</td>\n",
       "      <td>Омск</td>\n",
       "      <td>ultra</td>\n",
       "    </tr>\n",
       "    <tr>\n",
       "      <th>2</th>\n",
       "      <td>3</td>\n",
       "      <td>Алексей</td>\n",
       "      <td>20</td>\n",
       "      <td>Москва</td>\n",
       "      <td>ultra</td>\n",
       "    </tr>\n",
       "    <tr>\n",
       "      <th>3</th>\n",
       "      <td>4</td>\n",
       "      <td>Константин</td>\n",
       "      <td>26</td>\n",
       "      <td>Ростов-на-Дону</td>\n",
       "      <td>ultra</td>\n",
       "    </tr>\n",
       "    <tr>\n",
       "      <th>4</th>\n",
       "      <td>5</td>\n",
       "      <td>Адель</td>\n",
       "      <td>28</td>\n",
       "      <td>Омск</td>\n",
       "      <td>ultra</td>\n",
       "    </tr>\n",
       "  </tbody>\n",
       "</table>\n",
       "</div>"
      ],
      "text/plain": [
       "   user_id        name  age            city subscription_type\n",
       "0        1        Кира   22          Тюмень             ultra\n",
       "1        2   Станислав   31            Омск             ultra\n",
       "2        3     Алексей   20          Москва             ultra\n",
       "3        4  Константин   26  Ростов-на-Дону             ultra\n",
       "4        5       Адель   28            Омск             ultra"
      ]
     },
     "execution_count": 3,
     "metadata": {},
     "output_type": "execute_result"
    }
   ],
   "source": [
    "data_users.head() # получение первых 5 строк таблицы data_users"
   ]
  },
  {
   "cell_type": "code",
   "execution_count": 4,
   "id": "e4b421e5-2694-4dac-bf31-63d2c7e5a012",
   "metadata": {},
   "outputs": [
    {
     "data": {
      "text/html": [
       "<div>\n",
       "<style scoped>\n",
       "    .dataframe tbody tr th:only-of-type {\n",
       "        vertical-align: middle;\n",
       "    }\n",
       "\n",
       "    .dataframe tbody tr th {\n",
       "        vertical-align: top;\n",
       "    }\n",
       "\n",
       "    .dataframe thead th {\n",
       "        text-align: right;\n",
       "    }\n",
       "</style>\n",
       "<table border=\"1\" class=\"dataframe\">\n",
       "  <thead>\n",
       "    <tr style=\"text-align: right;\">\n",
       "      <th></th>\n",
       "      <th>user_id</th>\n",
       "      <th>distance</th>\n",
       "      <th>duration</th>\n",
       "      <th>date</th>\n",
       "    </tr>\n",
       "  </thead>\n",
       "  <tbody>\n",
       "    <tr>\n",
       "      <th>0</th>\n",
       "      <td>1</td>\n",
       "      <td>4409.919140</td>\n",
       "      <td>25.599769</td>\n",
       "      <td>2021-01-01</td>\n",
       "    </tr>\n",
       "    <tr>\n",
       "      <th>1</th>\n",
       "      <td>1</td>\n",
       "      <td>2617.592153</td>\n",
       "      <td>15.816871</td>\n",
       "      <td>2021-01-18</td>\n",
       "    </tr>\n",
       "    <tr>\n",
       "      <th>2</th>\n",
       "      <td>1</td>\n",
       "      <td>754.159807</td>\n",
       "      <td>6.232113</td>\n",
       "      <td>2021-04-20</td>\n",
       "    </tr>\n",
       "    <tr>\n",
       "      <th>3</th>\n",
       "      <td>1</td>\n",
       "      <td>2694.783254</td>\n",
       "      <td>18.511000</td>\n",
       "      <td>2021-08-11</td>\n",
       "    </tr>\n",
       "    <tr>\n",
       "      <th>4</th>\n",
       "      <td>1</td>\n",
       "      <td>4028.687306</td>\n",
       "      <td>26.265803</td>\n",
       "      <td>2021-08-28</td>\n",
       "    </tr>\n",
       "    <tr>\n",
       "      <th>5</th>\n",
       "      <td>1</td>\n",
       "      <td>2770.890808</td>\n",
       "      <td>16.650138</td>\n",
       "      <td>2021-10-09</td>\n",
       "    </tr>\n",
       "    <tr>\n",
       "      <th>6</th>\n",
       "      <td>1</td>\n",
       "      <td>3039.020292</td>\n",
       "      <td>14.927879</td>\n",
       "      <td>2021-10-19</td>\n",
       "    </tr>\n",
       "    <tr>\n",
       "      <th>7</th>\n",
       "      <td>1</td>\n",
       "      <td>2842.118050</td>\n",
       "      <td>23.117468</td>\n",
       "      <td>2021-11-06</td>\n",
       "    </tr>\n",
       "    <tr>\n",
       "      <th>8</th>\n",
       "      <td>1</td>\n",
       "      <td>3412.690668</td>\n",
       "      <td>15.238072</td>\n",
       "      <td>2021-11-14</td>\n",
       "    </tr>\n",
       "    <tr>\n",
       "      <th>9</th>\n",
       "      <td>1</td>\n",
       "      <td>748.690645</td>\n",
       "      <td>15.041884</td>\n",
       "      <td>2021-11-22</td>\n",
       "    </tr>\n",
       "    <tr>\n",
       "      <th>10</th>\n",
       "      <td>1</td>\n",
       "      <td>4031.020195</td>\n",
       "      <td>17.674448</td>\n",
       "      <td>2021-12-14</td>\n",
       "    </tr>\n",
       "    <tr>\n",
       "      <th>11</th>\n",
       "      <td>1</td>\n",
       "      <td>2720.609748</td>\n",
       "      <td>9.529463</td>\n",
       "      <td>2021-12-22</td>\n",
       "    </tr>\n",
       "    <tr>\n",
       "      <th>12</th>\n",
       "      <td>2</td>\n",
       "      <td>3105.086678</td>\n",
       "      <td>24.307514</td>\n",
       "      <td>2021-03-15</td>\n",
       "    </tr>\n",
       "    <tr>\n",
       "      <th>13</th>\n",
       "      <td>2</td>\n",
       "      <td>3053.519401</td>\n",
       "      <td>11.543256</td>\n",
       "      <td>2021-03-18</td>\n",
       "    </tr>\n",
       "    <tr>\n",
       "      <th>14</th>\n",
       "      <td>2</td>\n",
       "      <td>4029.116927</td>\n",
       "      <td>25.109188</td>\n",
       "      <td>2021-03-23</td>\n",
       "    </tr>\n",
       "  </tbody>\n",
       "</table>\n",
       "</div>"
      ],
      "text/plain": [
       "    user_id     distance   duration        date\n",
       "0         1  4409.919140  25.599769  2021-01-01\n",
       "1         1  2617.592153  15.816871  2021-01-18\n",
       "2         1   754.159807   6.232113  2021-04-20\n",
       "3         1  2694.783254  18.511000  2021-08-11\n",
       "4         1  4028.687306  26.265803  2021-08-28\n",
       "5         1  2770.890808  16.650138  2021-10-09\n",
       "6         1  3039.020292  14.927879  2021-10-19\n",
       "7         1  2842.118050  23.117468  2021-11-06\n",
       "8         1  3412.690668  15.238072  2021-11-14\n",
       "9         1   748.690645  15.041884  2021-11-22\n",
       "10        1  4031.020195  17.674448  2021-12-14\n",
       "11        1  2720.609748   9.529463  2021-12-22\n",
       "12        2  3105.086678  24.307514  2021-03-15\n",
       "13        2  3053.519401  11.543256  2021-03-18\n",
       "14        2  4029.116927  25.109188  2021-03-23"
      ]
     },
     "execution_count": 4,
     "metadata": {},
     "output_type": "execute_result"
    }
   ],
   "source": [
    "data_rides.head(15) # получение первых 15 строк таблицы data_rides"
   ]
  },
  {
   "cell_type": "code",
   "execution_count": 5,
   "id": "0bbe191e-4ab4-4ea6-b6dc-a0f3e8728a58",
   "metadata": {},
   "outputs": [
    {
     "data": {
      "text/html": [
       "<div>\n",
       "<style scoped>\n",
       "    .dataframe tbody tr th:only-of-type {\n",
       "        vertical-align: middle;\n",
       "    }\n",
       "\n",
       "    .dataframe tbody tr th {\n",
       "        vertical-align: top;\n",
       "    }\n",
       "\n",
       "    .dataframe thead th {\n",
       "        text-align: right;\n",
       "    }\n",
       "</style>\n",
       "<table border=\"1\" class=\"dataframe\">\n",
       "  <thead>\n",
       "    <tr style=\"text-align: right;\">\n",
       "      <th></th>\n",
       "      <th>subscription_type</th>\n",
       "      <th>minute_price</th>\n",
       "      <th>start_ride_price</th>\n",
       "      <th>subscription_fee</th>\n",
       "    </tr>\n",
       "  </thead>\n",
       "  <tbody>\n",
       "    <tr>\n",
       "      <th>0</th>\n",
       "      <td>free</td>\n",
       "      <td>8</td>\n",
       "      <td>50</td>\n",
       "      <td>0</td>\n",
       "    </tr>\n",
       "    <tr>\n",
       "      <th>1</th>\n",
       "      <td>ultra</td>\n",
       "      <td>6</td>\n",
       "      <td>0</td>\n",
       "      <td>199</td>\n",
       "    </tr>\n",
       "  </tbody>\n",
       "</table>\n",
       "</div>"
      ],
      "text/plain": [
       "  subscription_type  minute_price  start_ride_price  subscription_fee\n",
       "0              free             8                50                 0\n",
       "1             ultra             6                 0               199"
      ]
     },
     "execution_count": 5,
     "metadata": {},
     "output_type": "execute_result"
    }
   ],
   "source": [
    "data_subscriptions.head() # получение первых 5 строк таблицы data_subscriptions"
   ]
  },
  {
   "cell_type": "markdown",
   "id": "769356f1-8586-4ac6-8417-0258fa326b4b",
   "metadata": {},
   "source": [
    "<div style=\"border:solid black 2px; padding: 20px\">\n",
    "\n",
    "**Шаг 3.** Получим общую информацию о таблицах.\n",
    "\n",
    "</div>"
   ]
  },
  {
   "cell_type": "code",
   "execution_count": 6,
   "id": "93995479-c317-4c8c-b55b-f6de06381e7b",
   "metadata": {},
   "outputs": [
    {
     "name": "stdout",
     "output_type": "stream",
     "text": [
      "<class 'pandas.core.frame.DataFrame'>\n",
      "RangeIndex: 1565 entries, 0 to 1564\n",
      "Data columns (total 5 columns):\n",
      " #   Column             Non-Null Count  Dtype \n",
      "---  ------             --------------  ----- \n",
      " 0   user_id            1565 non-null   int64 \n",
      " 1   name               1565 non-null   object\n",
      " 2   age                1565 non-null   int64 \n",
      " 3   city               1565 non-null   object\n",
      " 4   subscription_type  1565 non-null   object\n",
      "dtypes: int64(2), object(3)\n",
      "memory usage: 61.3+ KB\n"
     ]
    }
   ],
   "source": [
    "data_users.info() # получение общей информации о данных в таблице data_users"
   ]
  },
  {
   "cell_type": "code",
   "execution_count": 7,
   "id": "0b5e5782-a904-4222-a640-1d703c1099be",
   "metadata": {},
   "outputs": [
    {
     "name": "stdout",
     "output_type": "stream",
     "text": [
      "<class 'pandas.core.frame.DataFrame'>\n",
      "RangeIndex: 18068 entries, 0 to 18067\n",
      "Data columns (total 4 columns):\n",
      " #   Column    Non-Null Count  Dtype  \n",
      "---  ------    --------------  -----  \n",
      " 0   user_id   18068 non-null  int64  \n",
      " 1   distance  18068 non-null  float64\n",
      " 2   duration  18068 non-null  float64\n",
      " 3   date      18068 non-null  object \n",
      "dtypes: float64(2), int64(1), object(1)\n",
      "memory usage: 564.8+ KB\n"
     ]
    }
   ],
   "source": [
    "data_rides.info() # получение общей информации о данных в таблице data_rides"
   ]
  },
  {
   "cell_type": "code",
   "execution_count": 8,
   "id": "af6d202c",
   "metadata": {},
   "outputs": [
    {
     "name": "stdout",
     "output_type": "stream",
     "text": [
      "<class 'pandas.core.frame.DataFrame'>\n",
      "RangeIndex: 2 entries, 0 to 1\n",
      "Data columns (total 4 columns):\n",
      " #   Column             Non-Null Count  Dtype \n",
      "---  ------             --------------  ----- \n",
      " 0   subscription_type  2 non-null      object\n",
      " 1   minute_price       2 non-null      int64 \n",
      " 2   start_ride_price   2 non-null      int64 \n",
      " 3   subscription_fee   2 non-null      int64 \n",
      "dtypes: int64(3), object(1)\n",
      "memory usage: 196.0+ bytes\n"
     ]
    }
   ],
   "source": [
    "data_subscriptions.info() # получение общей информации о данных в таблице data_subscriptions"
   ]
  },
  {
   "cell_type": "markdown",
   "id": "2ad3a811-64c9-4583-93a6-d8f18a3974f1",
   "metadata": {},
   "source": [
    "<div style=\"border:solid black 2px; padding: 20px\">\n",
    "\n",
    "**Шаг 4.** Получим стандартное отклонение и другие характеристики таблицы data_rides.\n",
    "\n",
    "</div>"
   ]
  },
  {
   "cell_type": "code",
   "execution_count": 9,
   "id": "2ffad075-8d6d-4f06-a856-632934c0fe45",
   "metadata": {},
   "outputs": [
    {
     "data": {
      "text/html": [
       "<div>\n",
       "<style scoped>\n",
       "    .dataframe tbody tr th:only-of-type {\n",
       "        vertical-align: middle;\n",
       "    }\n",
       "\n",
       "    .dataframe tbody tr th {\n",
       "        vertical-align: top;\n",
       "    }\n",
       "\n",
       "    .dataframe thead th {\n",
       "        text-align: right;\n",
       "    }\n",
       "</style>\n",
       "<table border=\"1\" class=\"dataframe\">\n",
       "  <thead>\n",
       "    <tr style=\"text-align: right;\">\n",
       "      <th></th>\n",
       "      <th>count</th>\n",
       "      <th>mean</th>\n",
       "      <th>std</th>\n",
       "      <th>min</th>\n",
       "      <th>25%</th>\n",
       "      <th>50%</th>\n",
       "      <th>75%</th>\n",
       "      <th>max</th>\n",
       "    </tr>\n",
       "  </thead>\n",
       "  <tbody>\n",
       "    <tr>\n",
       "      <th>user_id</th>\n",
       "      <td>18068.0</td>\n",
       "      <td>842.869936</td>\n",
       "      <td>434.734317</td>\n",
       "      <td>1.000000</td>\n",
       "      <td>487.000000</td>\n",
       "      <td>889.000000</td>\n",
       "      <td>1213.250000</td>\n",
       "      <td>1534.000000</td>\n",
       "    </tr>\n",
       "    <tr>\n",
       "      <th>distance</th>\n",
       "      <td>18068.0</td>\n",
       "      <td>3070.659976</td>\n",
       "      <td>1116.831209</td>\n",
       "      <td>0.855683</td>\n",
       "      <td>2543.226360</td>\n",
       "      <td>3133.609994</td>\n",
       "      <td>3776.222735</td>\n",
       "      <td>7211.007745</td>\n",
       "    </tr>\n",
       "    <tr>\n",
       "      <th>duration</th>\n",
       "      <td>18068.0</td>\n",
       "      <td>17.805011</td>\n",
       "      <td>6.091051</td>\n",
       "      <td>0.500000</td>\n",
       "      <td>13.597563</td>\n",
       "      <td>17.678395</td>\n",
       "      <td>21.724800</td>\n",
       "      <td>40.823963</td>\n",
       "    </tr>\n",
       "  </tbody>\n",
       "</table>\n",
       "</div>"
      ],
      "text/plain": [
       "            count         mean          std       min          25%  \\\n",
       "user_id   18068.0   842.869936   434.734317  1.000000   487.000000   \n",
       "distance  18068.0  3070.659976  1116.831209  0.855683  2543.226360   \n",
       "duration  18068.0    17.805011     6.091051  0.500000    13.597563   \n",
       "\n",
       "                  50%          75%          max  \n",
       "user_id    889.000000  1213.250000  1534.000000  \n",
       "distance  3133.609994  3776.222735  7211.007745  \n",
       "duration    17.678395    21.724800    40.823963  "
      ]
     },
     "execution_count": 9,
     "metadata": {},
     "output_type": "execute_result"
    }
   ],
   "source": [
    "data_rides.describe().T # просмотр основных статистических данных"
   ]
  },
  {
   "cell_type": "markdown",
   "id": "ee6074b6-2f2f-43d2-99e4-a1a102579925",
   "metadata": {},
   "source": [
    "<div style=\"border:solid green 2px; padding: 20px\">\n",
    "\n",
    "В предобработке данных рассмотреть комментарии ниже:\n",
    "* В таблицах нет пропусков исходя из данных info.\n",
    "* Столбец date: Dtype object. Изменить Dtype на datetime.\n",
    "* Проверить неявные дубликаты в столбце city.\n",
    "* Так как таблицы необходимо будет объединять, учесть момент дублей.\n",
    "\n",
    "</div>"
   ]
  },
  {
   "cell_type": "markdown",
   "id": "a62aae95-af99-47d2-b018-8473b1b2825d",
   "metadata": {},
   "source": [
    "<a id='Предобработка_данных'></a>"
   ]
  },
  {
   "cell_type": "markdown",
   "id": "e95ebca7",
   "metadata": {},
   "source": [
    "## Предобработка данных"
   ]
  },
  {
   "cell_type": "markdown",
   "id": "7f8b276b-60b7-4007-b585-964176ba3ac3",
   "metadata": {},
   "source": [
    "### Приведем столбец 'date' к типу даты pandas"
   ]
  },
  {
   "cell_type": "code",
   "execution_count": 10,
   "id": "f69e1761-e652-4c0a-b328-d479e7519352",
   "metadata": {},
   "outputs": [],
   "source": [
    "# меняем тип данных на 'datetime'\n",
    "data_rides['date'] = pd.to_datetime(data_rides['date'], format='%Y-%m-%d')"
   ]
  },
  {
   "cell_type": "code",
   "execution_count": 11,
   "id": "a75a6015-01f8-41a3-bb86-d53a193409a4",
   "metadata": {},
   "outputs": [],
   "source": [
    "data_rides['month'] = data_rides['date'].dt.month # создаем новый столбец и присваиваем месяц"
   ]
  },
  {
   "cell_type": "code",
   "execution_count": 12,
   "id": "c7b95f01",
   "metadata": {},
   "outputs": [],
   "source": [
    "data_rides['year'] = data_rides['date'].dt.year"
   ]
  },
  {
   "cell_type": "code",
   "execution_count": 13,
   "id": "cf1a40f8",
   "metadata": {},
   "outputs": [
    {
     "data": {
      "text/plain": [
       "year\n",
       "2021    18068\n",
       "Name: count, dtype: int64"
      ]
     },
     "execution_count": 13,
     "metadata": {},
     "output_type": "execute_result"
    }
   ],
   "source": [
    "data_rides['year'].value_counts()"
   ]
  },
  {
   "cell_type": "code",
   "execution_count": 14,
   "id": "052def94-89b3-4292-abcd-8de91879bb2e",
   "metadata": {},
   "outputs": [
    {
     "data": {
      "text/html": [
       "<div>\n",
       "<style scoped>\n",
       "    .dataframe tbody tr th:only-of-type {\n",
       "        vertical-align: middle;\n",
       "    }\n",
       "\n",
       "    .dataframe tbody tr th {\n",
       "        vertical-align: top;\n",
       "    }\n",
       "\n",
       "    .dataframe thead th {\n",
       "        text-align: right;\n",
       "    }\n",
       "</style>\n",
       "<table border=\"1\" class=\"dataframe\">\n",
       "  <thead>\n",
       "    <tr style=\"text-align: right;\">\n",
       "      <th></th>\n",
       "      <th>user_id</th>\n",
       "      <th>distance</th>\n",
       "      <th>duration</th>\n",
       "      <th>date</th>\n",
       "      <th>month</th>\n",
       "      <th>year</th>\n",
       "    </tr>\n",
       "  </thead>\n",
       "  <tbody>\n",
       "    <tr>\n",
       "      <th>0</th>\n",
       "      <td>1</td>\n",
       "      <td>4409.919140</td>\n",
       "      <td>25.599769</td>\n",
       "      <td>2021-01-01</td>\n",
       "      <td>1</td>\n",
       "      <td>2021</td>\n",
       "    </tr>\n",
       "    <tr>\n",
       "      <th>1</th>\n",
       "      <td>1</td>\n",
       "      <td>2617.592153</td>\n",
       "      <td>15.816871</td>\n",
       "      <td>2021-01-18</td>\n",
       "      <td>1</td>\n",
       "      <td>2021</td>\n",
       "    </tr>\n",
       "    <tr>\n",
       "      <th>2</th>\n",
       "      <td>1</td>\n",
       "      <td>754.159807</td>\n",
       "      <td>6.232113</td>\n",
       "      <td>2021-04-20</td>\n",
       "      <td>4</td>\n",
       "      <td>2021</td>\n",
       "    </tr>\n",
       "    <tr>\n",
       "      <th>3</th>\n",
       "      <td>1</td>\n",
       "      <td>2694.783254</td>\n",
       "      <td>18.511000</td>\n",
       "      <td>2021-08-11</td>\n",
       "      <td>8</td>\n",
       "      <td>2021</td>\n",
       "    </tr>\n",
       "    <tr>\n",
       "      <th>4</th>\n",
       "      <td>1</td>\n",
       "      <td>4028.687306</td>\n",
       "      <td>26.265803</td>\n",
       "      <td>2021-08-28</td>\n",
       "      <td>8</td>\n",
       "      <td>2021</td>\n",
       "    </tr>\n",
       "  </tbody>\n",
       "</table>\n",
       "</div>"
      ],
      "text/plain": [
       "   user_id     distance   duration       date  month  year\n",
       "0        1  4409.919140  25.599769 2021-01-01      1  2021\n",
       "1        1  2617.592153  15.816871 2021-01-18      1  2021\n",
       "2        1   754.159807   6.232113 2021-04-20      4  2021\n",
       "3        1  2694.783254  18.511000 2021-08-11      8  2021\n",
       "4        1  4028.687306  26.265803 2021-08-28      8  2021"
      ]
     },
     "execution_count": 14,
     "metadata": {},
     "output_type": "execute_result"
    }
   ],
   "source": [
    "data_rides.head() # получение первых 5 строк таблицы data_rides"
   ]
  },
  {
   "cell_type": "markdown",
   "id": "54a16e6a-66e5-4ee6-8c1d-712df8e662a1",
   "metadata": {},
   "source": [
    "<div style=\"border:solid green 2px; padding: 20px\">\n",
    "\n",
    "Изменили тип данных в столбце 'date' на 'datetime'.\n",
    "\n",
    "Создали новый столбец 'month'.\n",
    "\n",
    "</div>"
   ]
  },
  {
   "cell_type": "markdown",
   "id": "dccc7bb2-56da-4f4e-a469-f730c3dfc2e7",
   "metadata": {},
   "source": [
    "### Обработка пропущенных значений"
   ]
  },
  {
   "cell_type": "code",
   "execution_count": 15,
   "id": "7badc002-123c-4a4a-b6ea-e726e900b4a5",
   "metadata": {},
   "outputs": [
    {
     "data": {
      "text/plain": [
       "user_id              0.0\n",
       "name                 0.0\n",
       "age                  0.0\n",
       "city                 0.0\n",
       "subscription_type    0.0\n",
       "dtype: float64"
      ]
     },
     "execution_count": 15,
     "metadata": {},
     "output_type": "execute_result"
    }
   ],
   "source": [
    "data_users.isnull().mean() * 100 # проверяем наличие и долю пропусков в data_users"
   ]
  },
  {
   "cell_type": "code",
   "execution_count": 16,
   "id": "ab13a6db-10e7-4762-b4cb-eda3308da04b",
   "metadata": {},
   "outputs": [
    {
     "data": {
      "text/plain": [
       "user_id     0.0\n",
       "distance    0.0\n",
       "duration    0.0\n",
       "date        0.0\n",
       "month       0.0\n",
       "year        0.0\n",
       "dtype: float64"
      ]
     },
     "execution_count": 16,
     "metadata": {},
     "output_type": "execute_result"
    }
   ],
   "source": [
    "data_rides.isnull().mean() * 100 # проверяем наличие и долю пропусков в data_rides"
   ]
  },
  {
   "cell_type": "code",
   "execution_count": 17,
   "id": "4e7436b8-4911-4549-899e-acfb4c10bfa7",
   "metadata": {},
   "outputs": [
    {
     "data": {
      "text/plain": [
       "subscription_type    0.0\n",
       "minute_price         0.0\n",
       "start_ride_price     0.0\n",
       "subscription_fee     0.0\n",
       "dtype: float64"
      ]
     },
     "execution_count": 17,
     "metadata": {},
     "output_type": "execute_result"
    }
   ],
   "source": [
    "data_subscriptions.isnull().mean() * 100 # проверяем наличие и долю пропусков в data_subscriptions"
   ]
  },
  {
   "cell_type": "markdown",
   "id": "accef93c-9db5-4989-ba24-d14147eefdc8",
   "metadata": {},
   "source": [
    "<div style=\"border:solid green 2px; padding: 20px\">\n",
    "\n",
    "Мы убедились, что пропущенных значений в таблицах нет.\n",
    "\n",
    "</div>"
   ]
  },
  {
   "cell_type": "markdown",
   "id": "b1a96f20-acdb-4c2d-a21f-72a83d8f7162",
   "metadata": {},
   "source": [
    "### Обработка дубликатов"
   ]
  },
  {
   "cell_type": "markdown",
   "id": "b38e4edf-0fb1-4cfc-a814-b29d6d032976",
   "metadata": {},
   "source": [
    "<div style=\"border:solid black 2px; padding: 20px\">\n",
    "    \n",
    "Проверим явные дубликаты в таблицах.\n",
    "\n",
    "</div>"
   ]
  },
  {
   "cell_type": "code",
   "execution_count": 18,
   "id": "18c29717-ec54-4fb3-98c7-0040e5eb0322",
   "metadata": {},
   "outputs": [
    {
     "data": {
      "text/plain": [
       "31"
      ]
     },
     "execution_count": 18,
     "metadata": {},
     "output_type": "execute_result"
    }
   ],
   "source": [
    "data_users.duplicated().sum() # проверка на отсутствие явных дубликатов в data_users"
   ]
  },
  {
   "cell_type": "code",
   "execution_count": 19,
   "id": "4f5667ab-ac7e-4147-affc-808e4db042ba",
   "metadata": {},
   "outputs": [
    {
     "data": {
      "text/plain": [
       "0"
      ]
     },
     "execution_count": 19,
     "metadata": {},
     "output_type": "execute_result"
    }
   ],
   "source": [
    "data_rides.duplicated().sum() # проверка на отсутствие явных дубликатов в data_rides"
   ]
  },
  {
   "cell_type": "code",
   "execution_count": 20,
   "id": "b9b2ef05-356e-4249-a52b-7b17ff6ca8cb",
   "metadata": {},
   "outputs": [
    {
     "data": {
      "text/plain": [
       "0"
      ]
     },
     "execution_count": 20,
     "metadata": {},
     "output_type": "execute_result"
    }
   ],
   "source": [
    "data_subscriptions.duplicated().sum() # проверка на отсутствие явных дубликатов в data_subscriptions"
   ]
  },
  {
   "cell_type": "code",
   "execution_count": 21,
   "id": "ebc920b6-b5bd-44d1-bb62-ea2dc4901c9e",
   "metadata": {},
   "outputs": [],
   "source": [
    "data_users = data_users.drop_duplicates().reset_index(drop=True) # удаление явных дубликатов, создание новых индексов и удаление старых"
   ]
  },
  {
   "cell_type": "code",
   "execution_count": 22,
   "id": "e2a54313-f907-46d5-9c6a-0943c1621eab",
   "metadata": {},
   "outputs": [
    {
     "data": {
      "text/plain": [
       "0"
      ]
     },
     "execution_count": 22,
     "metadata": {},
     "output_type": "execute_result"
    }
   ],
   "source": [
    "data_users.duplicated().sum() # проверка на отсутствие явных дубликатов в data_users"
   ]
  },
  {
   "cell_type": "markdown",
   "id": "e741c6a1-0f33-40ae-8db0-7be11d2df874",
   "metadata": {},
   "source": [
    "<div style=\"border:solid green 2px; padding: 20px\">\n",
    "\n",
    "Удалили явные дубликаты.\n",
    "\n",
    "</div>"
   ]
  },
  {
   "cell_type": "markdown",
   "id": "0876873c-abff-4f68-a093-ea74de85181b",
   "metadata": {},
   "source": [
    "<div style=\"border:solid black 2px; padding: 20px\">\n",
    "    \n",
    "Проверим неявные дубликаты в таблицах.\n",
    "\n",
    "</div>"
   ]
  },
  {
   "cell_type": "code",
   "execution_count": 23,
   "id": "dc0fc70e-3834-4b2a-ac1c-85402453ef1b",
   "metadata": {},
   "outputs": [
    {
     "data": {
      "text/plain": [
       "array(['Екатеринбург', 'Краснодар', 'Москва', 'Омск', 'Пятигорск',\n",
       "       'Ростов-на-Дону', 'Сочи', 'Тюмень'], dtype=object)"
      ]
     },
     "execution_count": 23,
     "metadata": {},
     "output_type": "execute_result"
    }
   ],
   "source": [
    "data_users['city'].sort_values().unique() # просмотр уникальных отсортированных названий городов"
   ]
  },
  {
   "cell_type": "code",
   "execution_count": 24,
   "id": "ea3850d6-7d6d-44e5-b641-0a5dd8f36be9",
   "metadata": {},
   "outputs": [
    {
     "data": {
      "text/plain": [
       "city\n",
       "Пятигорск         219\n",
       "Екатеринбург      204\n",
       "Ростов-на-Дону    198\n",
       "Краснодар         193\n",
       "Сочи              189\n",
       "Омск              183\n",
       "Тюмень            180\n",
       "Москва            168\n",
       "Name: count, dtype: int64"
      ]
     },
     "execution_count": 24,
     "metadata": {},
     "output_type": "execute_result"
    }
   ],
   "source": [
    "data_users['city'].value_counts() # количество уникальных совпадений по городам"
   ]
  },
  {
   "cell_type": "code",
   "execution_count": 25,
   "id": "200a4300-bdbe-41dc-bd01-06486a09c11b",
   "metadata": {},
   "outputs": [
    {
     "data": {
      "text/plain": [
       "age\n",
       "12      4\n",
       "13      8\n",
       "14      9\n",
       "15     13\n",
       "16     19\n",
       "17     26\n",
       "18     46\n",
       "19     47\n",
       "20     71\n",
       "21     93\n",
       "22    119\n",
       "23    129\n",
       "24    132\n",
       "25    145\n",
       "26    131\n",
       "27    119\n",
       "28    112\n",
       "29     68\n",
       "30     68\n",
       "31     48\n",
       "32     41\n",
       "33     39\n",
       "34     19\n",
       "35     15\n",
       "36      6\n",
       "37      2\n",
       "38      3\n",
       "39      1\n",
       "43      1\n",
       "Name: count, dtype: int64"
      ]
     },
     "execution_count": 25,
     "metadata": {},
     "output_type": "execute_result"
    }
   ],
   "source": [
    "data_users['age'].value_counts().sort_index(ascending=True) # количество уникальных совпадений по возрасту"
   ]
  },
  {
   "cell_type": "code",
   "execution_count": 26,
   "id": "586fa6ec-d2ab-46ec-998a-fb84b9453c8e",
   "metadata": {},
   "outputs": [],
   "source": [
    "# для удобстава анализа создадим еще один столбец с категориями по возрасту\n",
    "\n",
    "# функция возвращает категорию по значению от возраста, используя правила:\n",
    "def type_age(row):\n",
    "    if row['age'] < 21:\n",
    "        return 'от 12 до 20 лет'\n",
    "    elif row['age'] < 31:\n",
    "        return 'от 21 до 30 лет'\n",
    "    return 'от 31 до 43 лет'\n",
    "\n",
    "data_users['age_type'] = data_users.apply(type_age, axis=1)"
   ]
  },
  {
   "cell_type": "code",
   "execution_count": 27,
   "id": "33ee3fc0-d89c-4f39-afee-7c5694d32bc2",
   "metadata": {},
   "outputs": [
    {
     "data": {
      "text/plain": [
       "age_type         age\n",
       "от 12 до 20 лет  20      71\n",
       "                 19      47\n",
       "                 18      46\n",
       "                 17      26\n",
       "                 16      19\n",
       "                 15      13\n",
       "                 14       9\n",
       "                 13       8\n",
       "                 12       4\n",
       "от 21 до 30 лет  25     145\n",
       "                 24     132\n",
       "                 26     131\n",
       "                 23     129\n",
       "                 27     119\n",
       "                 22     119\n",
       "                 28     112\n",
       "                 21      93\n",
       "                 30      68\n",
       "                 29      68\n",
       "от 31 до 43 лет  31      48\n",
       "                 32      41\n",
       "                 33      39\n",
       "                 34      19\n",
       "                 35      15\n",
       "                 36       6\n",
       "                 38       3\n",
       "                 37       2\n",
       "                 39       1\n",
       "                 43       1\n",
       "Name: count, dtype: int64"
      ]
     },
     "execution_count": 27,
     "metadata": {},
     "output_type": "execute_result"
    }
   ],
   "source": [
    "data_users.groupby('age_type')['age'].value_counts() # проверяем работу функции"
   ]
  },
  {
   "cell_type": "markdown",
   "id": "cf723441-f226-4774-ae55-926771031167",
   "metadata": {},
   "source": [
    "<div style=\"border:solid green 2px; padding: 20px\">\n",
    "\n",
    "Неявных дубликатов нет.\n",
    "    \n",
    "Изначально планировали объединить города по количеству пользователей (например, там, где их немного, вывести отдельно), но как мы видим количество пользователей не сильно отличается по городам.\n",
    "\n",
    "Добавили новый столбец 'age_type' для аналитики по возрасту.\n",
    "\n",
    "</div>"
   ]
  },
  {
   "cell_type": "markdown",
   "id": "85ef5bbc-0051-4b8a-8df0-72ddba68e64a",
   "metadata": {},
   "source": [
    "<a id=\"Исследовательский_анализ_данных\"></a>"
   ]
  },
  {
   "cell_type": "markdown",
   "id": "212593c7",
   "metadata": {},
   "source": [
    "## Исследовательский анализ данных"
   ]
  },
  {
   "cell_type": "markdown",
   "id": "78aa2d55-6176-4d11-83d3-55ef15ede301",
   "metadata": {},
   "source": [
    "<div style=\"border:solid black 2px; padding: 20px\">\n",
    "    \n",
    "Опишем и визуализируем общую информацию о пользователях и поездках.\n",
    "\n",
    "</div>"
   ]
  },
  {
   "cell_type": "markdown",
   "id": "d08bfc2a-f796-42aa-886c-0dd19a449e39",
   "metadata": {},
   "source": [
    "### Частота встречаемости городов"
   ]
  },
  {
   "cell_type": "code",
   "execution_count": 28,
   "id": "a6ef1db5-04c4-4b52-a5d4-ebc47c2a55af",
   "metadata": {},
   "outputs": [
    {
     "data": {
      "text/plain": [
       "count          1534\n",
       "unique            8\n",
       "top       Пятигорск\n",
       "freq            219\n",
       "Name: city, dtype: object"
      ]
     },
     "execution_count": 28,
     "metadata": {},
     "output_type": "execute_result"
    }
   ],
   "source": [
    "data_users['city'].describe() # выводим основные статистические данные по столбцу"
   ]
  },
  {
   "cell_type": "code",
   "execution_count": 29,
   "id": "0cc5bdac-7f2e-4f24-aec4-62a891660376",
   "metadata": {},
   "outputs": [
    {
     "data": {
      "text/html": [
       "<div>\n",
       "<style scoped>\n",
       "    .dataframe tbody tr th:only-of-type {\n",
       "        vertical-align: middle;\n",
       "    }\n",
       "\n",
       "    .dataframe tbody tr th {\n",
       "        vertical-align: top;\n",
       "    }\n",
       "\n",
       "    .dataframe thead th {\n",
       "        text-align: right;\n",
       "    }\n",
       "</style>\n",
       "<table border=\"1\" class=\"dataframe\">\n",
       "  <thead>\n",
       "    <tr style=\"text-align: right;\">\n",
       "      <th></th>\n",
       "      <th>Город</th>\n",
       "      <th>Количество пользователей</th>\n",
       "    </tr>\n",
       "  </thead>\n",
       "  <tbody>\n",
       "    <tr>\n",
       "      <th>0</th>\n",
       "      <td>Пятигорск</td>\n",
       "      <td>219</td>\n",
       "    </tr>\n",
       "    <tr>\n",
       "      <th>1</th>\n",
       "      <td>Екатеринбург</td>\n",
       "      <td>204</td>\n",
       "    </tr>\n",
       "    <tr>\n",
       "      <th>2</th>\n",
       "      <td>Ростов-на-Дону</td>\n",
       "      <td>198</td>\n",
       "    </tr>\n",
       "    <tr>\n",
       "      <th>3</th>\n",
       "      <td>Краснодар</td>\n",
       "      <td>193</td>\n",
       "    </tr>\n",
       "    <tr>\n",
       "      <th>4</th>\n",
       "      <td>Сочи</td>\n",
       "      <td>189</td>\n",
       "    </tr>\n",
       "    <tr>\n",
       "      <th>5</th>\n",
       "      <td>Омск</td>\n",
       "      <td>183</td>\n",
       "    </tr>\n",
       "    <tr>\n",
       "      <th>6</th>\n",
       "      <td>Тюмень</td>\n",
       "      <td>180</td>\n",
       "    </tr>\n",
       "    <tr>\n",
       "      <th>7</th>\n",
       "      <td>Москва</td>\n",
       "      <td>168</td>\n",
       "    </tr>\n",
       "  </tbody>\n",
       "</table>\n",
       "</div>"
      ],
      "text/plain": [
       "            Город  Количество пользователей\n",
       "0       Пятигорск                       219\n",
       "1    Екатеринбург                       204\n",
       "2  Ростов-на-Дону                       198\n",
       "3       Краснодар                       193\n",
       "4            Сочи                       189\n",
       "5            Омск                       183\n",
       "6          Тюмень                       180\n",
       "7          Москва                       168"
      ]
     },
     "execution_count": 29,
     "metadata": {},
     "output_type": "execute_result"
    }
   ],
   "source": [
    "# сгруппируем данные по столбцу 'city'\n",
    "# посчитаем количество строк по столбцу 'user_id'\n",
    "data_users.groupby('city')['user_id'].agg('count').sort_values(ascending=False)\\\n",
    "          .reset_index().rename(columns= {'user_id': 'Количество пользователей', 'city': 'Город'})"
   ]
  },
  {
   "cell_type": "code",
   "execution_count": 30,
   "id": "4c441e50",
   "metadata": {},
   "outputs": [
    {
     "data": {
      "image/png": "[encoded data removed]",
      "text/plain": [
       "<Figure size 700x500 with 1 Axes>"
      ]
     },
     "metadata": {},
     "output_type": "display_data"
    }
   ],
   "source": [
    "data_users.pivot_table(index='city', values='user_id', aggfunc='count')\\\n",
    "          .sort_values(by='user_id').plot(kind='barh', grid=True, figsize=(7,5), title='Частота встречаемости городов')\n",
    "plt.xlabel('Количество пользователей')\n",
    "plt.ylabel('Город')\n",
    "plt.show()"
   ]
  },
  {
   "cell_type": "markdown",
   "id": "b879c57e-8ae3-4a75-97f1-f12fb5725d55",
   "metadata": {},
   "source": [
    "<div style=\"border:solid green 2px; padding: 20px\">\n",
    "\n",
    "Частота встречаемости городов:\n",
    "\n",
    "* В таблице 'Пользователи' мы имеем данные о пользователях из 8 городов.\n",
    "* В данных Top по частоте встречаемости - Пятигорск.\n",
    "* Разница по частоте встречаемости между городами небольшая (например, доля количества пользователей в Пятигорске 14% от общего количества пользователей в выгрузке, а в Москве 11%). Соответственно вопрос по укрупнению групп для анализа не рассматриваем.\n",
    "* Нам передали данные о некоторых пользователях из нескольких городов, но нет информации, эта выборка была сделана по соотношению долей от общего количества пользователей в городах или рандомно, соответственно мы не можем сделать вывод, что в городе Пятигорск услугами сервиса аренды самокатов пользуется больше пользователей чем в городе Москва.\n",
    "\n",
    "</div>"
   ]
  },
  {
   "cell_type": "markdown",
   "id": "31bae02b-cbec-4925-b966-8dcf7fde83e0",
   "metadata": {},
   "source": [
    "### Соотношение пользователей с подпиской и без подписки"
   ]
  },
  {
   "cell_type": "code",
   "execution_count": 31,
   "id": "2b23f20d-24a2-4071-9caa-be2e5419b161",
   "metadata": {},
   "outputs": [
    {
     "data": {
      "text/plain": [
       "count     1534\n",
       "unique       2\n",
       "top       free\n",
       "freq       835\n",
       "Name: subscription_type, dtype: object"
      ]
     },
     "execution_count": 31,
     "metadata": {},
     "output_type": "execute_result"
    }
   ],
   "source": [
    "data_users['subscription_type'].describe() # выводим основные статистические данные по столбцу"
   ]
  },
  {
   "cell_type": "code",
   "execution_count": 32,
   "id": "3db7914a-17e4-4a68-9b1a-8a4b6cb5c2a8",
   "metadata": {},
   "outputs": [
    {
     "data": {
      "text/plain": [
       "subscription_type\n",
       "free     0.544\n",
       "ultra    0.456\n",
       "Name: proportion, dtype: float64"
      ]
     },
     "execution_count": 32,
     "metadata": {},
     "output_type": "execute_result"
    }
   ],
   "source": [
    "# представим значения Value_counts в процентах (в формате десятичных дробей)\n",
    "data_users['subscription_type'].value_counts(normalize=True).round(3)"
   ]
  },
  {
   "cell_type": "code",
   "execution_count": 33,
   "id": "8f9dd0c2",
   "metadata": {},
   "outputs": [
    {
     "data": {
      "image/png": "[encoded data removed]",
      "text/plain": [
       "<Figure size 600x600 with 1 Axes>"
      ]
     },
     "metadata": {},
     "output_type": "display_data"
    }
   ],
   "source": [
    "data_users.groupby('subscription_type')['user_id'].count()\\\n",
    ".plot(kind='pie', figsize=(6,6), shadow=True, autopct='%1.1f%%', title='Соотношение пользователей с подпиской и без подписки')\n",
    "plt.ylabel('Количество пользователей')\n",
    "plt.xlabel('Тип подписки: free - без подписки, ultra - с подпиской')\n",
    "plt.show()"
   ]
  },
  {
   "cell_type": "code",
   "execution_count": 34,
   "id": "fb43d4e2-1504-4539-b3d7-f5939fe79fad",
   "metadata": {},
   "outputs": [
    {
     "data": {
      "text/html": [
       "<div>\n",
       "<style scoped>\n",
       "    .dataframe tbody tr th:only-of-type {\n",
       "        vertical-align: middle;\n",
       "    }\n",
       "\n",
       "    .dataframe tbody tr th {\n",
       "        vertical-align: top;\n",
       "    }\n",
       "\n",
       "    .dataframe thead th {\n",
       "        text-align: right;\n",
       "    }\n",
       "</style>\n",
       "<table border=\"1\" class=\"dataframe\">\n",
       "  <thead>\n",
       "    <tr style=\"text-align: right;\">\n",
       "      <th></th>\n",
       "      <th>city</th>\n",
       "      <th>subscription_type</th>\n",
       "      <th>Количество пользователей по типу подписки</th>\n",
       "    </tr>\n",
       "  </thead>\n",
       "  <tbody>\n",
       "    <tr>\n",
       "      <th>0</th>\n",
       "      <td>Екатеринбург</td>\n",
       "      <td>free</td>\n",
       "      <td>112</td>\n",
       "    </tr>\n",
       "    <tr>\n",
       "      <th>1</th>\n",
       "      <td>Екатеринбург</td>\n",
       "      <td>ultra</td>\n",
       "      <td>92</td>\n",
       "    </tr>\n",
       "    <tr>\n",
       "      <th>2</th>\n",
       "      <td>Краснодар</td>\n",
       "      <td>free</td>\n",
       "      <td>112</td>\n",
       "    </tr>\n",
       "    <tr>\n",
       "      <th>3</th>\n",
       "      <td>Краснодар</td>\n",
       "      <td>ultra</td>\n",
       "      <td>81</td>\n",
       "    </tr>\n",
       "    <tr>\n",
       "      <th>4</th>\n",
       "      <td>Москва</td>\n",
       "      <td>free</td>\n",
       "      <td>84</td>\n",
       "    </tr>\n",
       "    <tr>\n",
       "      <th>5</th>\n",
       "      <td>Москва</td>\n",
       "      <td>ultra</td>\n",
       "      <td>84</td>\n",
       "    </tr>\n",
       "    <tr>\n",
       "      <th>6</th>\n",
       "      <td>Омск</td>\n",
       "      <td>free</td>\n",
       "      <td>92</td>\n",
       "    </tr>\n",
       "    <tr>\n",
       "      <th>7</th>\n",
       "      <td>Омск</td>\n",
       "      <td>ultra</td>\n",
       "      <td>91</td>\n",
       "    </tr>\n",
       "    <tr>\n",
       "      <th>8</th>\n",
       "      <td>Пятигорск</td>\n",
       "      <td>free</td>\n",
       "      <td>125</td>\n",
       "    </tr>\n",
       "    <tr>\n",
       "      <th>9</th>\n",
       "      <td>Пятигорск</td>\n",
       "      <td>ultra</td>\n",
       "      <td>94</td>\n",
       "    </tr>\n",
       "    <tr>\n",
       "      <th>10</th>\n",
       "      <td>Ростов-на-Дону</td>\n",
       "      <td>free</td>\n",
       "      <td>109</td>\n",
       "    </tr>\n",
       "    <tr>\n",
       "      <th>11</th>\n",
       "      <td>Ростов-на-Дону</td>\n",
       "      <td>ultra</td>\n",
       "      <td>89</td>\n",
       "    </tr>\n",
       "    <tr>\n",
       "      <th>12</th>\n",
       "      <td>Сочи</td>\n",
       "      <td>free</td>\n",
       "      <td>103</td>\n",
       "    </tr>\n",
       "    <tr>\n",
       "      <th>13</th>\n",
       "      <td>Сочи</td>\n",
       "      <td>ultra</td>\n",
       "      <td>86</td>\n",
       "    </tr>\n",
       "    <tr>\n",
       "      <th>14</th>\n",
       "      <td>Тюмень</td>\n",
       "      <td>free</td>\n",
       "      <td>98</td>\n",
       "    </tr>\n",
       "    <tr>\n",
       "      <th>15</th>\n",
       "      <td>Тюмень</td>\n",
       "      <td>ultra</td>\n",
       "      <td>82</td>\n",
       "    </tr>\n",
       "  </tbody>\n",
       "</table>\n",
       "</div>"
      ],
      "text/plain": [
       "              city subscription_type  \\\n",
       "0     Екатеринбург              free   \n",
       "1     Екатеринбург             ultra   \n",
       "2        Краснодар              free   \n",
       "3        Краснодар             ultra   \n",
       "4           Москва              free   \n",
       "5           Москва             ultra   \n",
       "6             Омск              free   \n",
       "7             Омск             ultra   \n",
       "8        Пятигорск              free   \n",
       "9        Пятигорск             ultra   \n",
       "10  Ростов-на-Дону              free   \n",
       "11  Ростов-на-Дону             ultra   \n",
       "12            Сочи              free   \n",
       "13            Сочи             ultra   \n",
       "14          Тюмень              free   \n",
       "15          Тюмень             ultra   \n",
       "\n",
       "    Количество пользователей по типу подписки  \n",
       "0                                         112  \n",
       "1                                          92  \n",
       "2                                         112  \n",
       "3                                          81  \n",
       "4                                          84  \n",
       "5                                          84  \n",
       "6                                          92  \n",
       "7                                          91  \n",
       "8                                         125  \n",
       "9                                          94  \n",
       "10                                        109  \n",
       "11                                         89  \n",
       "12                                        103  \n",
       "13                                         86  \n",
       "14                                         98  \n",
       "15                                         82  "
      ]
     },
     "execution_count": 34,
     "metadata": {},
     "output_type": "execute_result"
    }
   ],
   "source": [
    "# сгруппируем данные по столбцу 'city'\n",
    "# посчитаем количество строк по столбцу 'subscription_type'\n",
    "data_users.groupby(['city', 'subscription_type'])['user_id'].count()\\\n",
    "          .reset_index().rename(columns= {'user_id': 'Количество пользователей по типу подписки'})"
   ]
  },
  {
   "cell_type": "markdown",
   "id": "90805d87-747d-4fac-8c7e-d387400c8d60",
   "metadata": {},
   "source": [
    "<div style=\"border:solid green 2px; padding: 20px\">\n",
    "\n",
    "**Соотношение пользователей с подпиской и без подписки:**\n",
    "\n",
    "Доля пользователей без подписки составила 54%, с подпиской 46%. Разница 8%.\n",
    "\n",
    "В данной выборке количество пользователей без подписки больше, чем количество пользователей с подпиской.\n",
    "\n",
    "Разница небольшая, возможно если бы соотношение количества пользователей по городам было другое, то мы могли бы получить значение ближе к 50%. Например, была бы больше выборка по Москве (где доли с подпиской и без подписки равны), или добавлен город Санкт-Петербург, пользователи в этих городах знакомы ближе с подписками и вероятно более активно ими пользуются.\n",
    "\n",
    "</div>"
   ]
  },
  {
   "cell_type": "markdown",
   "id": "fd5a643e-2b14-4aa7-b48d-1aa9a8243673",
   "metadata": {},
   "source": [
    "### Возраст пользователей"
   ]
  },
  {
   "cell_type": "code",
   "execution_count": 35,
   "id": "46579e03-3e70-485c-aff6-bad0c6776edb",
   "metadata": {},
   "outputs": [
    {
     "data": {
      "text/plain": [
       "count    1534.000000\n",
       "mean       24.903520\n",
       "std         4.572367\n",
       "min        12.000000\n",
       "25%        22.000000\n",
       "50%        25.000000\n",
       "75%        28.000000\n",
       "max        43.000000\n",
       "Name: age, dtype: float64"
      ]
     },
     "execution_count": 35,
     "metadata": {},
     "output_type": "execute_result"
    }
   ],
   "source": [
    "data_users['age'].describe() # выводим основные статистические данные по столбцу"
   ]
  },
  {
   "cell_type": "code",
   "execution_count": 36,
   "id": "e6e9d21e-91b7-43fc-89ec-f85a71b62445",
   "metadata": {},
   "outputs": [
    {
     "name": "stdout",
     "output_type": "stream",
     "text": [
      "Количество пользователей младше 15 лет: 34\n"
     ]
    }
   ],
   "source": [
    "# считаем количество строк по условию\n",
    "print('Количество пользователей младше 15 лет:', len(data_users[data_users['age'] <= 15]))"
   ]
  },
  {
   "cell_type": "code",
   "execution_count": 37,
   "id": "88c4999d-d566-43d5-a0cc-9d85e6dff5ed",
   "metadata": {},
   "outputs": [
    {
     "name": "stdout",
     "output_type": "stream",
     "text": [
      "Количество пользователей старше 35 лет: 28\n"
     ]
    }
   ],
   "source": [
    "# считаем количество строк по условию\n",
    "print('Количество пользователей старше 35 лет:', len(data_users[data_users['age'] >= 35]))"
   ]
  },
  {
   "cell_type": "code",
   "execution_count": 38,
   "id": "c61cb22e-d471-44e3-a963-823313e48dfa",
   "metadata": {},
   "outputs": [
    {
     "data": {
      "image/png": "[encoded data removed]",
      "text/plain": [
       "<Figure size 400x400 with 1 Axes>"
      ]
     },
     "metadata": {},
     "output_type": "display_data"
    }
   ],
   "source": [
    "# строим гистограмму\n",
    "data_users['age'].hist(bins=20, range=(15, 35), figsize=(4,4))\n",
    "plt.ylabel('Количество пользователей')\n",
    "plt.xlabel('Возраст пользователей')\n",
    "plt.title('Возраст пользователей')\n",
    "plt.show()"
   ]
  },
  {
   "cell_type": "code",
   "execution_count": 39,
   "id": "802f5949-2198-489a-90b3-2e979214b13d",
   "metadata": {},
   "outputs": [
    {
     "data": {
      "text/plain": [
       "age_type\n",
       "от 21 до 30 лет    0.73\n",
       "от 12 до 20 лет    0.16\n",
       "от 31 до 43 лет    0.11\n",
       "Name: proportion, dtype: float64"
      ]
     },
     "execution_count": 39,
     "metadata": {},
     "output_type": "execute_result"
    }
   ],
   "source": [
    "# представим значения Value_counts в процентах (в формате десятичных дробей)\n",
    "data_users['age_type'].value_counts(normalize=True).round(2)"
   ]
  },
  {
   "cell_type": "markdown",
   "id": "d7bb0975-c965-40cf-b3ae-77ceab73d9fd",
   "metadata": {},
   "source": [
    "<div style=\"border:solid green 2px; padding: 20px\">\n",
    "\n",
    "**Возраст пользователей:**\n",
    "\n",
    "В выборке пользователи от 12 до 43 лет. У большинства пользователей возраст от 23 до 28 лет. Медиана 25 лет.\n",
    "\n",
    "Сделали также категоризацию по возрасту, самая большая доля у пользователей от 21 до 30 лет (73%).\n",
    "\n",
    "Типичный пользователь:\n",
    "* трудоустроен (старше 23 лет)\n",
    "* возраст до 28 лет заставляет задуматься о семейном статусе и наличии детей\n",
    "\n",
    "</div>"
   ]
  },
  {
   "cell_type": "markdown",
   "id": "e07a60f3-cfa7-4f80-ad71-46bc89cd608f",
   "metadata": {},
   "source": [
    "### Расстояние, которое пользователь преодолел за одну поездку"
   ]
  },
  {
   "cell_type": "code",
   "execution_count": 40,
   "id": "f5ae8a1f-1e12-497a-b29a-7148143af98f",
   "metadata": {},
   "outputs": [
    {
     "data": {
      "text/plain": [
       "count    18068.000000\n",
       "mean      3070.659976\n",
       "std       1116.831209\n",
       "min          0.855683\n",
       "25%       2543.226360\n",
       "50%       3133.609994\n",
       "75%       3776.222735\n",
       "max       7211.007745\n",
       "Name: distance, dtype: float64"
      ]
     },
     "execution_count": 40,
     "metadata": {},
     "output_type": "execute_result"
    }
   ],
   "source": [
    "data_rides['distance'].describe() # выводим основные статистические данные по столбцу"
   ]
  },
  {
   "cell_type": "code",
   "execution_count": 41,
   "id": "68ede66e-1670-49b1-be72-64cbc1975219",
   "metadata": {},
   "outputs": [
    {
     "data": {
      "image/png": "[encoded data removed]",
      "text/plain": [
       "<Figure size 500x500 with 1 Axes>"
      ]
     },
     "metadata": {},
     "output_type": "display_data"
    }
   ],
   "source": [
    "# строим диаграмму размаха\n",
    "data_rides.boxplot('distance', figsize=(5, 5))\n",
    "plt.ylabel('Расстояние за одну поездку в метрах')\n",
    "plt.title('Расстояние за одну поездку')\n",
    "plt.show()"
   ]
  },
  {
   "cell_type": "code",
   "execution_count": 42,
   "id": "caaac826-6543-4406-bfab-9bb48f17a7b6",
   "metadata": {},
   "outputs": [
    {
     "name": "stdout",
     "output_type": "stream",
     "text": [
      "Расстояние меньше 400 метров: 424\n"
     ]
    }
   ],
   "source": [
    "# считаем количество строк по условию\n",
    "print('Расстояние меньше 400 метров:', len(data_rides[data_rides['distance'] < 400]))"
   ]
  },
  {
   "cell_type": "code",
   "execution_count": 43,
   "id": "7452ba5b-8f82-4ed3-8446-24dbf31432f5",
   "metadata": {},
   "outputs": [
    {
     "name": "stdout",
     "output_type": "stream",
     "text": [
      "Расстояние больше 5700 метров: 100\n"
     ]
    }
   ],
   "source": [
    "# считаем количество строк по условию\n",
    "print('Расстояние больше 5700 метров:', len(data_rides[data_rides['distance'] > 5700]))"
   ]
  },
  {
   "cell_type": "code",
   "execution_count": 44,
   "id": "6a1c4eb0-743c-40b3-8fde-281c0882fcd9",
   "metadata": {},
   "outputs": [
    {
     "data": {
      "image/png": "[encoded data removed]",
      "text/plain": [
       "<Figure size 400x400 with 1 Axes>"
      ]
     },
     "metadata": {},
     "output_type": "display_data"
    }
   ],
   "source": [
    "data_rides['distance'].hist(bins=30, range=(400, 5700), figsize=(4,4)) # строим гистограмму\n",
    "plt.ylabel('Количество поездок')\n",
    "plt.xlabel('Расстояние за одну поездку в метрах')\n",
    "plt.title('Расстояние за одну поездку')\n",
    "plt.show()"
   ]
  },
  {
   "cell_type": "markdown",
   "id": "6bd8f00d-f661-4d53-b144-5fa01826e5ce",
   "metadata": {},
   "source": [
    "<div style=\"border:solid green 2px; padding: 20px\">\n",
    "\n",
    "**Расстояние, которое пользователь преодолел за одну поездку:**\n",
    "* Медиана 3133 м., среднее 3070 м. Это же значение является пиковым на гистограмме.\n",
    "* У большинства пользователей расстояние поездки от 2500 до 3500 м.\n",
    "* Обычный, со здоровым организмом человек, считается, может пройти 1 километр за 12 минут, так как средняя скорость человека 5 км/час.\n",
    "Соответственно пользователь на самокате в среднем преодолевает расстояние, на которое мог потратить 37 минут пешком.\n",
    "* Малый пик в районе 500-700 метров говорит о том, что есть потребность и в преодолении небольших расстояний.\n",
    "\n",
    "</div>"
   ]
  },
  {
   "cell_type": "markdown",
   "id": "c4a69834-ce4b-4060-b114-a6b3ee86e903",
   "metadata": {},
   "source": [
    "### Продолжительность поездок"
   ]
  },
  {
   "cell_type": "code",
   "execution_count": 45,
   "id": "3e542e22-fa66-4169-8ab0-6ffaae4b4029",
   "metadata": {},
   "outputs": [
    {
     "data": {
      "text/plain": [
       "count    18068.000000\n",
       "mean        17.805011\n",
       "std          6.091051\n",
       "min          0.500000\n",
       "25%         13.597563\n",
       "50%         17.678395\n",
       "75%         21.724800\n",
       "max         40.823963\n",
       "Name: duration, dtype: float64"
      ]
     },
     "execution_count": 45,
     "metadata": {},
     "output_type": "execute_result"
    }
   ],
   "source": [
    "data_rides['duration'].describe() # выводим основные статистические данные по столбцу"
   ]
  },
  {
   "cell_type": "code",
   "execution_count": 46,
   "id": "ef8cc0f7-7c33-4bd6-95a3-38dc8d3e3456",
   "metadata": {},
   "outputs": [
    {
     "data": {
      "image/png": "[encoded data removed]",
      "text/plain": [
       "<Figure size 500x500 with 1 Axes>"
      ]
     },
     "metadata": {},
     "output_type": "display_data"
    }
   ],
   "source": [
    "# строим диаграмму размаха\n",
    "data_rides.boxplot('duration', figsize=(5, 5))\n",
    "plt.ylabel('Время одной поездки в минутах')\n",
    "plt.title('Время одной поездки')\n",
    "plt.show()"
   ]
  },
  {
   "cell_type": "code",
   "execution_count": 47,
   "id": "0bdef6b0-aece-4c18-b684-25dc9faeeefd",
   "metadata": {},
   "outputs": [
    {
     "name": "stdout",
     "output_type": "stream",
     "text": [
      "Продолжительность поездки меньше 3 минут: 128\n"
     ]
    }
   ],
   "source": [
    "# считаем количество строк по условию\n",
    "print('Продолжительность поездки меньше 3 минут:', len(data_rides[data_rides['duration'] < 3]))"
   ]
  },
  {
   "cell_type": "code",
   "execution_count": 48,
   "id": "90151218-9fe7-4dc8-9443-c74e136cb138",
   "metadata": {},
   "outputs": [
    {
     "name": "stdout",
     "output_type": "stream",
     "text": [
      "Продолжительность поездки больше 33 минут: 146\n"
     ]
    }
   ],
   "source": [
    "# считаем количество строк по условию\n",
    "print('Продолжительность поездки больше 33 минут:', len(data_rides[data_rides['duration'] > 33]))"
   ]
  },
  {
   "cell_type": "code",
   "execution_count": 49,
   "id": "5ff5f177-f7a9-4b17-b9f1-d72539475bb8",
   "metadata": {},
   "outputs": [
    {
     "data": {
      "image/png": "[encoded data removed]",
      "text/plain": [
       "<Figure size 500x400 with 1 Axes>"
      ]
     },
     "metadata": {},
     "output_type": "display_data"
    }
   ],
   "source": [
    "data_rides['duration'].hist(bins=30, range=(3, 33), figsize=(5,4)) # строим гистограмму\n",
    "plt.ylabel('Количество поездок')\n",
    "plt.xlabel('Время одной поездки в минутах')\n",
    "plt.title('Время одной поездки')\n",
    "plt.show()"
   ]
  },
  {
   "cell_type": "markdown",
   "id": "63610ecd-b976-4a04-a8ac-ba99fadafcea",
   "metadata": {},
   "source": [
    "<div style=\"border:solid green 2px; padding: 20px\">\n",
    "\n",
    "**Продолжительность одной поездки (в минутах)** — время с того момента, как пользователь нажал кнопку «Начать поездку» до момента, как он нажал кнопку «Завершить поездку».\n",
    "\n",
    "Медиана 17.7 минут, среднее 17.8 минут. На гистограмме отсутствуют заметные выбросы.\n",
    "\n",
    "У большинства пользователей время одной поездки от 13 до 22 минут.\n",
    "\n",
    "Поездки до 3х минут и больше 33 минут практически отсутствуют (доля каждого меньше 1% от общего числа поездок).\n",
    "\n",
    "</div>"
   ]
  },
  {
   "cell_type": "markdown",
   "id": "1a3b23ef-28ca-4c65-bf83-cbdf9eed4ca4",
   "metadata": {},
   "source": [
    "### Исследование по аномалиям в продолжительности сессии"
   ]
  },
  {
   "cell_type": "code",
   "execution_count": 50,
   "id": "217e5737",
   "metadata": {},
   "outputs": [
    {
     "name": "stdout",
     "output_type": "stream",
     "text": [
      "Расстояние в метрах (медиана): 3133.6099936787664 . Время в минутах (медиана): 17.678394530393803\n",
      "Расстояние в метрах за минуту: 177.25648040557462\n"
     ]
    }
   ],
   "source": [
    "print('Расстояние в метрах (медиана):', data_rides['distance'].median(),\\\n",
    "      '. Время в минутах (медиана):', data_rides['duration'].median())\n",
    "meters_per_minute = data_rides['distance'].median() / data_rides['duration'].median()\n",
    "print('Расстояние в метрах за минуту:', meters_per_minute)"
   ]
  },
  {
   "cell_type": "code",
   "execution_count": 51,
   "id": "fa21163a",
   "metadata": {},
   "outputs": [
    {
     "name": "stdout",
     "output_type": "stream",
     "text": [
      "          count    mean  median  calculation_time\n",
      "duration                                         \n",
      "0.5          95  5113.0  5053.0             28.51\n",
      "2.0           1    11.0    11.0              0.06\n",
      "2.1           1    24.0    24.0              0.14\n",
      "2.2           4    76.0    75.0              0.42\n",
      "2.3           6   110.0   105.0              0.59\n",
      "2.4           2   127.0   127.0              0.72\n",
      "2.5           5   190.0   215.0              1.21\n",
      "2.7           2   268.0   268.0              1.51\n",
      "2.8           3   333.0   295.0              1.66\n",
      "2.9           7   361.0   393.0              2.22\n",
      "3.0           5   295.0   407.0              2.30\n",
      "3.1           5   345.0   392.0              2.21\n",
      "3.2           5   167.0    87.0              0.49\n",
      "3.3           3   423.0   588.0              3.32\n",
      "3.4           5   415.0   613.0              3.46\n",
      "3.5           5   336.0   236.0              1.33\n",
      "3.6           9   512.0   560.0              3.16\n",
      "3.7           4   376.0   290.0              1.64\n",
      "3.8           9   323.0   345.0              1.95\n",
      "3.9           3   286.0   302.0              1.70\n",
      "4.0           4   525.0   558.0              3.15\n"
     ]
    }
   ],
   "source": [
    "# группируем данные по коротким отрезкам времени и пройденному расстоянию\n",
    "duration_min = data_rides.query('duration < 4').groupby(data_rides['duration'].round(1))['distance'].agg(['count', 'mean', 'median']).round()\n",
    "duration_min['calculation_time'] = (duration_min['median'] / meters_per_minute).round(2)\n",
    "print(duration_min)"
   ]
  },
  {
   "cell_type": "code",
   "execution_count": 52,
   "id": "2512d6cb",
   "metadata": {},
   "outputs": [
    {
     "data": {
      "text/html": [
       "<div>\n",
       "<style scoped>\n",
       "    .dataframe tbody tr th:only-of-type {\n",
       "        vertical-align: middle;\n",
       "    }\n",
       "\n",
       "    .dataframe tbody tr th {\n",
       "        vertical-align: top;\n",
       "    }\n",
       "\n",
       "    .dataframe thead th {\n",
       "        text-align: right;\n",
       "    }\n",
       "</style>\n",
       "<table border=\"1\" class=\"dataframe\">\n",
       "  <thead>\n",
       "    <tr style=\"text-align: right;\">\n",
       "      <th></th>\n",
       "      <th></th>\n",
       "      <th></th>\n",
       "      <th>count</th>\n",
       "      <th>median</th>\n",
       "    </tr>\n",
       "    <tr>\n",
       "      <th>duration</th>\n",
       "      <th>user_id</th>\n",
       "      <th>date</th>\n",
       "      <th></th>\n",
       "      <th></th>\n",
       "    </tr>\n",
       "  </thead>\n",
       "  <tbody>\n",
       "    <tr>\n",
       "      <th rowspan=\"20\" valign=\"top\">0.5</th>\n",
       "      <th>701</th>\n",
       "      <th>2021-08-31</th>\n",
       "      <td>1</td>\n",
       "      <td>4196.0</td>\n",
       "    </tr>\n",
       "    <tr>\n",
       "      <th>704</th>\n",
       "      <th>2021-10-14</th>\n",
       "      <td>1</td>\n",
       "      <td>4831.0</td>\n",
       "    </tr>\n",
       "    <tr>\n",
       "      <th>712</th>\n",
       "      <th>2021-03-04</th>\n",
       "      <td>1</td>\n",
       "      <td>4684.0</td>\n",
       "    </tr>\n",
       "    <tr>\n",
       "      <th>713</th>\n",
       "      <th>2021-02-25</th>\n",
       "      <td>1</td>\n",
       "      <td>5216.0</td>\n",
       "    </tr>\n",
       "    <tr>\n",
       "      <th>718</th>\n",
       "      <th>2021-02-11</th>\n",
       "      <td>1</td>\n",
       "      <td>5197.0</td>\n",
       "    </tr>\n",
       "    <tr>\n",
       "      <th>724</th>\n",
       "      <th>2021-12-16</th>\n",
       "      <td>1</td>\n",
       "      <td>6226.0</td>\n",
       "    </tr>\n",
       "    <tr>\n",
       "      <th>726</th>\n",
       "      <th>2021-03-01</th>\n",
       "      <td>1</td>\n",
       "      <td>4452.0</td>\n",
       "    </tr>\n",
       "    <tr>\n",
       "      <th>735</th>\n",
       "      <th>2021-04-13</th>\n",
       "      <td>1</td>\n",
       "      <td>4407.0</td>\n",
       "    </tr>\n",
       "    <tr>\n",
       "      <th>745</th>\n",
       "      <th>2021-08-17</th>\n",
       "      <td>1</td>\n",
       "      <td>5286.0</td>\n",
       "    </tr>\n",
       "    <tr>\n",
       "      <th>760</th>\n",
       "      <th>2021-08-29</th>\n",
       "      <td>1</td>\n",
       "      <td>4881.0</td>\n",
       "    </tr>\n",
       "    <tr>\n",
       "      <th>766</th>\n",
       "      <th>2021-12-22</th>\n",
       "      <td>1</td>\n",
       "      <td>4539.0</td>\n",
       "    </tr>\n",
       "    <tr>\n",
       "      <th>772</th>\n",
       "      <th>2021-05-22</th>\n",
       "      <td>1</td>\n",
       "      <td>4719.0</td>\n",
       "    </tr>\n",
       "    <tr>\n",
       "      <th>774</th>\n",
       "      <th>2021-05-27</th>\n",
       "      <td>1</td>\n",
       "      <td>5488.0</td>\n",
       "    </tr>\n",
       "    <tr>\n",
       "      <th>780</th>\n",
       "      <th>2021-11-23</th>\n",
       "      <td>1</td>\n",
       "      <td>6113.0</td>\n",
       "    </tr>\n",
       "    <tr>\n",
       "      <th>784</th>\n",
       "      <th>2021-06-03</th>\n",
       "      <td>1</td>\n",
       "      <td>5203.0</td>\n",
       "    </tr>\n",
       "    <tr>\n",
       "      <th>792</th>\n",
       "      <th>2021-11-06</th>\n",
       "      <td>1</td>\n",
       "      <td>5353.0</td>\n",
       "    </tr>\n",
       "    <tr>\n",
       "      <th>795</th>\n",
       "      <th>2021-09-09</th>\n",
       "      <td>1</td>\n",
       "      <td>6262.0</td>\n",
       "    </tr>\n",
       "    <tr>\n",
       "      <th>800</th>\n",
       "      <th>2021-07-19</th>\n",
       "      <td>1</td>\n",
       "      <td>5052.0</td>\n",
       "    </tr>\n",
       "    <tr>\n",
       "      <th>804</th>\n",
       "      <th>2021-05-10</th>\n",
       "      <td>1</td>\n",
       "      <td>5548.0</td>\n",
       "    </tr>\n",
       "    <tr>\n",
       "      <th>836</th>\n",
       "      <th>2021-01-12</th>\n",
       "      <td>1</td>\n",
       "      <td>4959.0</td>\n",
       "    </tr>\n",
       "  </tbody>\n",
       "</table>\n",
       "</div>"
      ],
      "text/plain": [
       "                             count  median\n",
       "duration user_id date                     \n",
       "0.5      701     2021-08-31      1  4196.0\n",
       "         704     2021-10-14      1  4831.0\n",
       "         712     2021-03-04      1  4684.0\n",
       "         713     2021-02-25      1  5216.0\n",
       "         718     2021-02-11      1  5197.0\n",
       "         724     2021-12-16      1  6226.0\n",
       "         726     2021-03-01      1  4452.0\n",
       "         735     2021-04-13      1  4407.0\n",
       "         745     2021-08-17      1  5286.0\n",
       "         760     2021-08-29      1  4881.0\n",
       "         766     2021-12-22      1  4539.0\n",
       "         772     2021-05-22      1  4719.0\n",
       "         774     2021-05-27      1  5488.0\n",
       "         780     2021-11-23      1  6113.0\n",
       "         784     2021-06-03      1  5203.0\n",
       "         792     2021-11-06      1  5353.0\n",
       "         795     2021-09-09      1  6262.0\n",
       "         800     2021-07-19      1  5052.0\n",
       "         804     2021-05-10      1  5548.0\n",
       "         836     2021-01-12      1  4959.0"
      ]
     },
     "execution_count": 52,
     "metadata": {},
     "output_type": "execute_result"
    }
   ],
   "source": [
    "user_id_1min = data_rides.query('duration < 2').groupby([data_rides['duration'].round(1), 'user_id', 'date'])['distance'].agg(['count', 'median']).round()\n",
    "user_id_1min.head(20)"
   ]
  },
  {
   "cell_type": "markdown",
   "id": "d493f1bf-bd8b-4dfb-a36c-dee3aba31c11",
   "metadata": {},
   "source": [
    "<div style=\"border:solid green 2px; padding: 20px\">\n",
    "\n",
    "Сравнили продолжительность сессий (выбрав только короткие до 4 минут) и расстояние поездок.\n",
    "\n",
    "Вычислили значение 'медианное расстояние в метрах за минуту' и разделили это значение на 'медианное расстояние в метрах' сгруппированной таблицы.\n",
    "\n",
    "Особенно не стыкуются данные первой строки, где время одной поездки в исходнике 1/2 минуты, а расчетное реальное время, за которое можно поехать данное расстояние, получилось 28.5 минут. Не получилось найти очевидную взаимосвязь между аномальными поездками (пользователи и даты разные).\n",
    "\n",
    "Хоть эти данные и не бьются с реальностью, но удалять их не будем, так как это повлияет на выручку.\n",
    "\n",
    "</div>"
   ]
  },
  {
   "cell_type": "markdown",
   "id": "268a7a87-c183-47f6-940f-194eb3a6d6d1",
   "metadata": {},
   "source": [
    "### Вывод по исследовательскому анализу данных"
   ]
  },
  {
   "cell_type": "markdown",
   "id": "a0f2b9dc-65ca-4206-bc9b-9ae3b93e662a",
   "metadata": {},
   "source": [
    "<div style=\"border:solid blue 2px; padding: 20px\">\n",
    "\n",
    "***Изучив общую информацию о пользователях и поезках, можно сделать следующие выводы:***\n",
    "\n",
    "**Частота встречаемости городов.**\n",
    "\n",
    "* В таблице 'Пользователи' мы имеем данные о пользователях из 8 городов.\n",
    "* В данных Top по частоте встречаемости - Пятигорск, но в целом разница по количеству пользователей небольшая между городами (доля количества пользователей в Пятигорске 14% от общего количества пользователей в выгрузке, а в Москве 11%).\n",
    "Нам передали данные о некоторых пользователях из нескольких городов, но нет информации, эта выборка была сделана по соотношению долей от общего количества пользователей в городах или рандомно, соответственно мы не может сделать вывод, что в городе Пятигорск услугами сервиса аренды самокатов пользуется больше пользователей чем в городе Москва.\n",
    "\n",
    "**Соотношение пользователей с подпиской и без подписки.**\n",
    "* Доля пользователей без подписки составила 54%, с подпиской 46%. Разница 8%.\n",
    "* В данной выборке количество пользователей без подписки больше, чем количество пользователей с подпиской.\n",
    "* Разница долей небольшая, возможно если бы соотношение количества пользователей по городам было другое, то мы могли бы получить значение ближе к 50%. Например, была бы больше выборка по Москве (где доли с подпиской и без подписки равны), или добавлен город Санкт-Петербург, пользователи в этих городах знакомы ближе с подписками и вероятно более активно ими пользуются.\n",
    "\n",
    "**Возраст пользователей.**\n",
    "* В выборке пользователи от 12 до 43 лет. У большинства пользователей возраст от 23 до 28 лет. Медиана 25 лет.\n",
    "* Сделали также категоризацию по возрасту, самая большая доля по возрасту у пользователей от 21 до 30 лет (73%).\n",
    "* Пользователь: трудоустроен (старше 23 лет) и возраст до 28 лет заставляет задуматься о семейном статусе и наличии детей.\n",
    "\n",
    "**Расстояние, которое пользователь преодолел за одну поездку (в метрах).**\n",
    "* Медиана 3133 м., среднее 3070 м. Это же значение является пиковым на гистограмме.\n",
    "* У большинства пользователей расстояние поездки от 2500 до 3500 м.\n",
    "* Обычный, со здоровым организмом человек, считается, может пройти 1 километр за 12 минут, так как средняя скорость человека 5 км/час. Соответственно пользователь на самокате в среднем преодолевает расстояние, на которое мог потратить 37 минут пешком.\n",
    "* Малый пик в районе 500-700 метров говорит о том, что есть потребность и в преодолении небольших расстояний.\n",
    "\n",
    "**Продолжительность поездок (в минутах).**\n",
    "* Медиана 17.7 минут, среднее 17.8 минут. На гистограмме отсутствуют заметные выбросы.\n",
    "* У большинства пользователей время одной поездки от 13 до 22 минут.\n",
    "* Поездки до 3х минут и больше 33 минут практически отсутствуют (доля каждого меньше 1% от общего числа поездок).\n",
    "\n",
    "</div>"
   ]
  },
  {
   "cell_type": "markdown",
   "id": "19005a44-0469-460d-961f-ea4930c4a71f",
   "metadata": {},
   "source": [
    "<a id=\"Объединение_данных\"></a>"
   ]
  },
  {
   "cell_type": "markdown",
   "id": "4ef51331",
   "metadata": {},
   "source": [
    "## Объединение данных"
   ]
  },
  {
   "cell_type": "markdown",
   "id": "a8b0d151-cf7c-46c3-adac-b1aa519efdc0",
   "metadata": {},
   "source": [
    "### Объединение данных"
   ]
  },
  {
   "cell_type": "markdown",
   "id": "c84efba1-1fae-43b7-a5bd-074ecb6c9772",
   "metadata": {},
   "source": [
    "<div style=\"border:solid black 2px; padding: 20px\">\n",
    "    \n",
    "Объединим данные о пользователях, поездках и подписках в один датафрейм. Для этого воспользуемся методом merge().\n",
    "\n",
    "</div>"
   ]
  },
  {
   "cell_type": "code",
   "execution_count": 53,
   "id": "6f70ae72",
   "metadata": {},
   "outputs": [],
   "source": [
    "# каждое значение из столбца округляется с помощью «потолка»\n",
    "data_rides['duration'] = np.ceil(data_rides['duration'])"
   ]
  },
  {
   "cell_type": "code",
   "execution_count": 54,
   "id": "b0a210bb-e23a-4ac3-817f-8aa0b45a4c7d",
   "metadata": {},
   "outputs": [],
   "source": [
    "# используем метод merge() и соединим датафреймы\n",
    "data_combine = (data_users.merge(data_rides, on='user_id').merge(data_subscriptions, on='subscription_type'))"
   ]
  },
  {
   "cell_type": "code",
   "execution_count": 55,
   "id": "369dc4e0-d01d-4faa-8486-d6cb883d1ab1",
   "metadata": {},
   "outputs": [
    {
     "name": "stdout",
     "output_type": "stream",
     "text": [
      "Размер таблицы data_combine: (18068, 14)\n"
     ]
    }
   ],
   "source": [
    "print('Размер таблицы data_combine:', data_combine.shape) # размер таблицы"
   ]
  },
  {
   "cell_type": "code",
   "execution_count": 56,
   "id": "01689c1f-7238-4d7d-8728-d8a8ccc77b9a",
   "metadata": {},
   "outputs": [
    {
     "name": "stdout",
     "output_type": "stream",
     "text": [
      "Размер таблицы data_rides: (18068, 6)\n"
     ]
    }
   ],
   "source": [
    "print('Размер таблицы data_rides:', data_rides.shape) # размер таблицы"
   ]
  },
  {
   "cell_type": "code",
   "execution_count": 57,
   "id": "cb2ea50e-9f19-41fc-9886-82f8e33c2596",
   "metadata": {},
   "outputs": [
    {
     "data": {
      "text/plain": [
       "1534"
      ]
     },
     "execution_count": 57,
     "metadata": {},
     "output_type": "execute_result"
    }
   ],
   "source": [
    "data_combine['user_id'].nunique() # количество уникальных значений в столбце"
   ]
  },
  {
   "cell_type": "code",
   "execution_count": 58,
   "id": "520b7137-b405-40f1-a5d6-81aa43b721ef",
   "metadata": {},
   "outputs": [
    {
     "data": {
      "text/plain": [
       "1534"
      ]
     },
     "execution_count": 58,
     "metadata": {},
     "output_type": "execute_result"
    }
   ],
   "source": [
    "data_users['user_id'].nunique() # количество уникальных значений в столбце"
   ]
  },
  {
   "cell_type": "code",
   "execution_count": 59,
   "id": "4b5f9def-5827-4eb5-868b-1c2eda11afda",
   "metadata": {},
   "outputs": [
    {
     "data": {
      "text/plain": [
       "user_id              0\n",
       "name                 0\n",
       "age                  0\n",
       "city                 0\n",
       "subscription_type    0\n",
       "age_type             0\n",
       "distance             0\n",
       "duration             0\n",
       "date                 0\n",
       "month                0\n",
       "year                 0\n",
       "minute_price         0\n",
       "start_ride_price     0\n",
       "subscription_fee     0\n",
       "dtype: int64"
      ]
     },
     "execution_count": 59,
     "metadata": {},
     "output_type": "execute_result"
    }
   ],
   "source": [
    "data_combine.isna().sum() # количество пропущенных значений"
   ]
  },
  {
   "cell_type": "markdown",
   "id": "6ce23c5c-3915-420c-bbb4-1f85710c456b",
   "metadata": {},
   "source": [
    "<div style=\"border:solid green 2px; padding: 20px\">\n",
    "\n",
    "Объединили 3 датафрейма в один.\n",
    "\n",
    "Проверили количество строк в новом датафрейме относительно исходных таблиц.\n",
    "\n",
    "Проверили количество пропущенных значений.\n",
    "\n",
    "\n",
    "</div>"
   ]
  },
  {
   "cell_type": "markdown",
   "id": "5c64577a-54a1-46d2-b7a4-23764ad060a7",
   "metadata": {},
   "source": [
    "### Датафреймы по типу подписки"
   ]
  },
  {
   "cell_type": "markdown",
   "id": "aa2189b8-47af-4dbd-a20a-f7632dd32f1c",
   "metadata": {},
   "source": [
    "<div style=\"border:solid black 2px; padding: 20px\">\n",
    "    \n",
    "Создадим ещё два датафрейма из датафрейма, созданного на этапе 4.1:\n",
    "* c данными о пользователях без подписки 'data_free'\n",
    "* с данными о пользователях с подпиской 'data_ultra'\n",
    "\n",
    "</div>"
   ]
  },
  {
   "cell_type": "code",
   "execution_count": 60,
   "id": "2b6e6d34-79c0-4dc4-b8d4-89fb3f0d6400",
   "metadata": {},
   "outputs": [],
   "source": [
    "# фильтруем строки в соответствии с указанным логическим выражением\n",
    "data_free = data_combine.query('subscription_type == \"free\"')"
   ]
  },
  {
   "cell_type": "code",
   "execution_count": 61,
   "id": "d201ecfc-6a42-4ebf-a8d7-11b6777e429a",
   "metadata": {},
   "outputs": [],
   "source": [
    "# фильтруем строки в соответствии с указанным логическим выражением\n",
    "data_ultra = data_combine.query('subscription_type == \"ultra\"')"
   ]
  },
  {
   "cell_type": "code",
   "execution_count": 62,
   "id": "109d77e0-eeaf-46fa-a7c1-56b80f971273",
   "metadata": {
    "scrolled": true
   },
   "outputs": [
    {
     "data": {
      "text/plain": [
       "0"
      ]
     },
     "execution_count": 62,
     "metadata": {},
     "output_type": "execute_result"
    }
   ],
   "source": [
    "len(data_combine) - (len(data_free) + len(data_ultra)) # проверяем разницу строк после фильтрации"
   ]
  },
  {
   "cell_type": "code",
   "execution_count": 63,
   "id": "7c7ecd20",
   "metadata": {},
   "outputs": [
    {
     "data": {
      "text/html": [
       "<div>\n",
       "<style scoped>\n",
       "    .dataframe tbody tr th:only-of-type {\n",
       "        vertical-align: middle;\n",
       "    }\n",
       "\n",
       "    .dataframe tbody tr th {\n",
       "        vertical-align: top;\n",
       "    }\n",
       "\n",
       "    .dataframe thead th {\n",
       "        text-align: right;\n",
       "    }\n",
       "</style>\n",
       "<table border=\"1\" class=\"dataframe\">\n",
       "  <thead>\n",
       "    <tr style=\"text-align: right;\">\n",
       "      <th></th>\n",
       "      <th>user_id</th>\n",
       "      <th>name</th>\n",
       "      <th>age</th>\n",
       "      <th>city</th>\n",
       "      <th>subscription_type</th>\n",
       "      <th>age_type</th>\n",
       "      <th>distance</th>\n",
       "      <th>duration</th>\n",
       "      <th>date</th>\n",
       "      <th>month</th>\n",
       "      <th>year</th>\n",
       "      <th>minute_price</th>\n",
       "      <th>start_ride_price</th>\n",
       "      <th>subscription_fee</th>\n",
       "    </tr>\n",
       "  </thead>\n",
       "  <tbody>\n",
       "    <tr>\n",
       "      <th>6500</th>\n",
       "      <td>700</td>\n",
       "      <td>Айдар</td>\n",
       "      <td>22</td>\n",
       "      <td>Омск</td>\n",
       "      <td>free</td>\n",
       "      <td>от 21 до 30 лет</td>\n",
       "      <td>2515.690719</td>\n",
       "      <td>15.0</td>\n",
       "      <td>2021-01-02</td>\n",
       "      <td>1</td>\n",
       "      <td>2021</td>\n",
       "      <td>8</td>\n",
       "      <td>50</td>\n",
       "      <td>0</td>\n",
       "    </tr>\n",
       "    <tr>\n",
       "      <th>6501</th>\n",
       "      <td>700</td>\n",
       "      <td>Айдар</td>\n",
       "      <td>22</td>\n",
       "      <td>Омск</td>\n",
       "      <td>free</td>\n",
       "      <td>от 21 до 30 лет</td>\n",
       "      <td>846.932642</td>\n",
       "      <td>17.0</td>\n",
       "      <td>2021-02-01</td>\n",
       "      <td>2</td>\n",
       "      <td>2021</td>\n",
       "      <td>8</td>\n",
       "      <td>50</td>\n",
       "      <td>0</td>\n",
       "    </tr>\n",
       "  </tbody>\n",
       "</table>\n",
       "</div>"
      ],
      "text/plain": [
       "      user_id   name  age  city subscription_type         age_type  \\\n",
       "6500      700  Айдар   22  Омск              free  от 21 до 30 лет   \n",
       "6501      700  Айдар   22  Омск              free  от 21 до 30 лет   \n",
       "\n",
       "         distance  duration       date  month  year  minute_price  \\\n",
       "6500  2515.690719      15.0 2021-01-02      1  2021             8   \n",
       "6501   846.932642      17.0 2021-02-01      2  2021             8   \n",
       "\n",
       "      start_ride_price  subscription_fee  \n",
       "6500                50                 0  \n",
       "6501                50                 0  "
      ]
     },
     "execution_count": 63,
     "metadata": {},
     "output_type": "execute_result"
    }
   ],
   "source": [
    "data_free.head(2)"
   ]
  },
  {
   "cell_type": "code",
   "execution_count": 64,
   "id": "0cef72bc",
   "metadata": {},
   "outputs": [
    {
     "data": {
      "text/html": [
       "<div>\n",
       "<style scoped>\n",
       "    .dataframe tbody tr th:only-of-type {\n",
       "        vertical-align: middle;\n",
       "    }\n",
       "\n",
       "    .dataframe tbody tr th {\n",
       "        vertical-align: top;\n",
       "    }\n",
       "\n",
       "    .dataframe thead th {\n",
       "        text-align: right;\n",
       "    }\n",
       "</style>\n",
       "<table border=\"1\" class=\"dataframe\">\n",
       "  <thead>\n",
       "    <tr style=\"text-align: right;\">\n",
       "      <th></th>\n",
       "      <th>user_id</th>\n",
       "      <th>name</th>\n",
       "      <th>age</th>\n",
       "      <th>city</th>\n",
       "      <th>subscription_type</th>\n",
       "      <th>age_type</th>\n",
       "      <th>distance</th>\n",
       "      <th>duration</th>\n",
       "      <th>date</th>\n",
       "      <th>month</th>\n",
       "      <th>year</th>\n",
       "      <th>minute_price</th>\n",
       "      <th>start_ride_price</th>\n",
       "      <th>subscription_fee</th>\n",
       "    </tr>\n",
       "  </thead>\n",
       "  <tbody>\n",
       "    <tr>\n",
       "      <th>0</th>\n",
       "      <td>1</td>\n",
       "      <td>Кира</td>\n",
       "      <td>22</td>\n",
       "      <td>Тюмень</td>\n",
       "      <td>ultra</td>\n",
       "      <td>от 21 до 30 лет</td>\n",
       "      <td>4409.919140</td>\n",
       "      <td>26.0</td>\n",
       "      <td>2021-01-01</td>\n",
       "      <td>1</td>\n",
       "      <td>2021</td>\n",
       "      <td>6</td>\n",
       "      <td>0</td>\n",
       "      <td>199</td>\n",
       "    </tr>\n",
       "    <tr>\n",
       "      <th>1</th>\n",
       "      <td>1</td>\n",
       "      <td>Кира</td>\n",
       "      <td>22</td>\n",
       "      <td>Тюмень</td>\n",
       "      <td>ultra</td>\n",
       "      <td>от 21 до 30 лет</td>\n",
       "      <td>2617.592153</td>\n",
       "      <td>16.0</td>\n",
       "      <td>2021-01-18</td>\n",
       "      <td>1</td>\n",
       "      <td>2021</td>\n",
       "      <td>6</td>\n",
       "      <td>0</td>\n",
       "      <td>199</td>\n",
       "    </tr>\n",
       "  </tbody>\n",
       "</table>\n",
       "</div>"
      ],
      "text/plain": [
       "   user_id  name  age    city subscription_type         age_type     distance  \\\n",
       "0        1  Кира   22  Тюмень             ultra  от 21 до 30 лет  4409.919140   \n",
       "1        1  Кира   22  Тюмень             ultra  от 21 до 30 лет  2617.592153   \n",
       "\n",
       "   duration       date  month  year  minute_price  start_ride_price  \\\n",
       "0      26.0 2021-01-01      1  2021             6                 0   \n",
       "1      16.0 2021-01-18      1  2021             6                 0   \n",
       "\n",
       "   subscription_fee  \n",
       "0               199  \n",
       "1               199  "
      ]
     },
     "execution_count": 64,
     "metadata": {},
     "output_type": "execute_result"
    }
   ],
   "source": [
    "data_ultra.head(2)"
   ]
  },
  {
   "cell_type": "markdown",
   "id": "49815957-b431-4b90-80a4-8e3f113621ab",
   "metadata": {},
   "source": [
    "### Визуализация данных по типу подписки"
   ]
  },
  {
   "cell_type": "markdown",
   "id": "85aacd0b-8c5b-4485-8b53-887a0a54bd89",
   "metadata": {},
   "source": [
    "<div style=\"border:solid black 2px; padding: 20px\">\n",
    "    \n",
    "Визуализируем информацию о расстоянии поездки и типу подписки.\n",
    "\n",
    "</div>"
   ]
  },
  {
   "cell_type": "code",
   "execution_count": 65,
   "id": "dde4b114-70b0-4b1d-bb16-39389e6da14a",
   "metadata": {},
   "outputs": [
    {
     "data": {
      "text/plain": [
       "count    11568.000000\n",
       "mean      3045.495282\n",
       "std       1246.173806\n",
       "min          0.855683\n",
       "25%       2366.562689\n",
       "50%       3114.648465\n",
       "75%       3905.697894\n",
       "max       7211.007745\n",
       "Name: distance, dtype: float64"
      ]
     },
     "execution_count": 65,
     "metadata": {},
     "output_type": "execute_result"
    }
   ],
   "source": [
    "data_free['distance'].describe() # выводим основные статистические данные по столбцу"
   ]
  },
  {
   "cell_type": "code",
   "execution_count": 66,
   "id": "73cc1f54-cc8b-40c9-a553-e7ad8191b7ee",
   "metadata": {},
   "outputs": [
    {
     "data": {
      "text/plain": [
       "count    6500.000000\n",
       "mean     3115.445388\n",
       "std       836.895330\n",
       "min       244.210438\n",
       "25%      2785.444017\n",
       "50%      3148.637229\n",
       "75%      3560.574425\n",
       "max      5699.769662\n",
       "Name: distance, dtype: float64"
      ]
     },
     "execution_count": 66,
     "metadata": {},
     "output_type": "execute_result"
    }
   ],
   "source": [
    "data_ultra['distance'].describe() # выводим основные статистические данные по столбцу"
   ]
  },
  {
   "cell_type": "code",
   "execution_count": 67,
   "id": "1d6ce97d-45c1-4cb1-b06e-fa8f2afdeb96",
   "metadata": {},
   "outputs": [
    {
     "data": {
      "text/plain": [
       "count    50.680000\n",
       "mean     -0.699501\n",
       "std       4.092785\n",
       "min      -2.433548\n",
       "25%      -4.188813\n",
       "50%      -0.339888\n",
       "75%       3.451235\n",
       "max      15.112381\n",
       "Name: distance, dtype: float64"
      ]
     },
     "execution_count": 67,
     "metadata": {},
     "output_type": "execute_result"
    }
   ],
   "source": [
    "# отношение data_free['distance'] к data_ultra['distance']\n",
    "(data_free['distance'].describe() - data_ultra['distance'].describe()) / 100"
   ]
  },
  {
   "cell_type": "code",
   "execution_count": 68,
   "id": "54a7b7c7-2f2b-4e95-ae0c-c81c7fadd86d",
   "metadata": {},
   "outputs": [
    {
     "data": {
      "image/png": "[encoded data removed]",
      "text/plain": [
       "<Figure size 640x480 with 1 Axes>"
      ]
     },
     "metadata": {},
     "output_type": "display_data"
    }
   ],
   "source": [
    "# строим гистограмму для двух таблиц\n",
    "data1 = data_free['distance']\n",
    "data2 = data_ultra['distance']\n",
    "\n",
    "plt.hist(data1, alpha=0.8, label='free - без подписки')\n",
    "plt.hist(data2, alpha=0.8, label='ultra - с подпиской')\n",
    "plt.grid(True)\n",
    "plt.ylabel('Количество поездок')\n",
    "plt.xlabel('Расстояние за одну поездку в метрах')\n",
    "plt.title('Соотношение типа подписки и расстояния одной поездки')\n",
    "plt.legend(loc='upper right')\n",
    "plt.show()"
   ]
  },
  {
   "cell_type": "markdown",
   "id": "89dc51bd-b01c-4d6d-a031-e33fc5d30f10",
   "metadata": {},
   "source": [
    "<div style=\"border:solid green 2px; padding: 20px\">\n",
    "\n",
    "Соотношение типа подписки и расстояния, которое пользователь проезжает за одну поездку:\n",
    "* Средняя и медиана по длине поездок у разных типов подписки практически равны (в среднем 3100 м.).\n",
    "* Существенная разница в количестве поездок: у пользователей без подписки их в 2 раза больше, чем у пользователей с подпиской.\n",
    "* У пользователей без подписки диапазон расстояния одной поездки шире (от 1 до 7211 метров), а у пользователей с подпиской от 244 до 5699 метров.\n",
    "* У пользователей без подписки малый пик в промежутке от 1 до 600 метров. Возможно это не длительная запланированная поездка, а знакомство с самокатом и проверка удобства транспорта для конкретного пользователя.\n",
    "\n",
    "</div>"
   ]
  },
  {
   "cell_type": "markdown",
   "id": "a7f5179f-fa0c-4552-b649-cc595066dfe2",
   "metadata": {},
   "source": [
    "<div style=\"border:solid black 2px; padding: 20px\">\n",
    "    \n",
    "Визуализируем информацию о времени поездки и типу подписки.\n",
    "\n",
    "</div>"
   ]
  },
  {
   "cell_type": "code",
   "execution_count": 69,
   "id": "0b662194-cdde-487b-b5f4-6ad236ece672",
   "metadata": {},
   "outputs": [
    {
     "data": {
      "text/plain": [
       "count    11568.000000\n",
       "mean        17.890992\n",
       "std          6.330250\n",
       "min          1.000000\n",
       "25%         13.000000\n",
       "50%         18.000000\n",
       "75%         22.000000\n",
       "max         35.000000\n",
       "Name: duration, dtype: float64"
      ]
     },
     "execution_count": 69,
     "metadata": {},
     "output_type": "execute_result"
    }
   ],
   "source": [
    "data_free['duration'].describe() # выводим основные статистические данные по столбцу"
   ]
  },
  {
   "cell_type": "code",
   "execution_count": 70,
   "id": "071926c3-2ab9-4c01-86b2-3b64cabf1ca1",
   "metadata": {},
   "outputs": [
    {
     "data": {
      "text/plain": [
       "count    6500.000000\n",
       "mean       19.037692\n",
       "std         5.577439\n",
       "min         4.000000\n",
       "25%        15.000000\n",
       "50%        19.000000\n",
       "75%        22.000000\n",
       "max        41.000000\n",
       "Name: duration, dtype: float64"
      ]
     },
     "execution_count": 70,
     "metadata": {},
     "output_type": "execute_result"
    }
   ],
   "source": [
    "data_ultra['duration'].describe() # выводим основные статистические данные по столбцу"
   ]
  },
  {
   "cell_type": "code",
   "execution_count": 71,
   "id": "9fec97c9-c54f-4b6d-bc38-b0992ec6e1cd",
   "metadata": {},
   "outputs": [
    {
     "data": {
      "text/plain": [
       "count    50.680000\n",
       "mean     -0.011467\n",
       "std       0.007528\n",
       "min      -0.030000\n",
       "25%      -0.020000\n",
       "50%      -0.010000\n",
       "75%       0.000000\n",
       "max      -0.060000\n",
       "Name: duration, dtype: float64"
      ]
     },
     "execution_count": 71,
     "metadata": {},
     "output_type": "execute_result"
    }
   ],
   "source": [
    "# отношение data_free['distance'] к data_ultra['distance']\n",
    "(data_free['duration'].describe() - data_ultra['duration'].describe()) / 100"
   ]
  },
  {
   "cell_type": "code",
   "execution_count": 72,
   "id": "99dc2277-6b8e-4171-a510-1f9afd727bac",
   "metadata": {},
   "outputs": [
    {
     "data": {
      "image/png": "[encoded data removed]",
      "text/plain": [
       "<Figure size 640x480 with 1 Axes>"
      ]
     },
     "metadata": {},
     "output_type": "display_data"
    }
   ],
   "source": [
    "# строим гистограмму для двух таблиц\n",
    "data3 = data_free['duration']\n",
    "data4 = data_ultra['duration']\n",
    "\n",
    "plt.hist(data3, alpha=0.8, label='free - без подписки')\n",
    "plt.hist(data4, alpha=0.8, label='ultra - с подпиской')\n",
    "plt.grid(True)\n",
    "plt.ylabel('Количество поездок')\n",
    "plt.xlabel('Время за одну поездку в минутах')\n",
    "plt.title('Соотношение типа подписки и времени одной поездки')\n",
    "plt.legend(loc='upper right')\n",
    "plt.show()"
   ]
  },
  {
   "cell_type": "code",
   "execution_count": 73,
   "id": "07cdfb4f-2251-42bd-bc56-89f03c047986",
   "metadata": {},
   "outputs": [
    {
     "name": "stdout",
     "output_type": "stream",
     "text": [
      "Без подписки. Расстояние в метрах (медиана): 3114.648464847295 . Время в минутах(медиана): 18.0\n",
      "Без подписки. Расстояние в метрах за минуту: 173.03602582484973\n",
      "С подпиской. Расстояние  в метрах (медиана): 3148.6372291760854 . Время в минутах(медиана): 19.0\n",
      "С подпиской. Расстояние в метрах за минуту: 165.71774890400448\n"
     ]
    }
   ],
   "source": [
    "# медианные значения\n",
    "print('Без подписки. Расстояние в метрах (медиана):', data_free['distance'].median(),\\\n",
    "      '. Время в минутах(медиана):', data_free['duration'].median())\n",
    "print('Без подписки. Расстояние в метрах за минуту:', data_free['distance'].median() / data_free['duration'].median())\n",
    "print('С подпиской. Расстояние  в метрах (медиана):', data_ultra['distance'].median(),\\\n",
    "      '. Время в минутах(медиана):', data_ultra['duration'].median())\n",
    "print('С подпиской. Расстояние в метрах за минуту:', data_ultra['distance'].median() / data_ultra['duration'].median())      "
   ]
  },
  {
   "cell_type": "markdown",
   "id": "9779898d-796b-437a-a4cc-69c912c74183",
   "metadata": {},
   "source": [
    "<div style=\"border:solid green 2px; padding: 20px\">\n",
    "\n",
    "Соотношение типа подписки и времени, за которое пользователь проезжает одну поездку:\n",
    "* Среднее время одной поездки у пользователей с подпиской на 1 минуту дольше, чем у пользователей без подписки (19 к 17.9).\n",
    "* Существенная разница в количестве поездок: у пользователей без подписки их в 2 раза больше, чем у пользователей с подпиской.\n",
    "* У пользователей с подпиской время поездки дольше (от 4 до 41 минут), а у пользователей с подпиской от 1 до 35 минут.\n",
    "* По медианным значениям скорость у пользователей без подписки выше (Без подписки: 173 метра в минуту, С подпиской: 165.7 метра в минуту).\n",
    "  \n",
    "</div>"
   ]
  },
  {
   "cell_type": "markdown",
   "id": "762c7057-9cfe-4f68-86c8-44183fe4f293",
   "metadata": {},
   "source": [
    "<div style=\"border:solid blue 2px; padding: 20px\">\n",
    "\n",
    "**Вывод**\n",
    "\n",
    "Мы увидели, что есть разница по ряду параметров между пользователями с подпиской и без подписки:\n",
    "* У пользователей без подписки количество поездок в 2 раза больше, чем у пользователей с подпиской.\n",
    "* У пользователей без подписки диапазон расстояния одной поездки шире (от 1 до 7211 метров), а у пользователей с подпиской от 244 до 5699 метров.\n",
    "* У пользователей с подпиской время поездки дольше (от 4 до 41 минут), а у пользователей с подпиской от 1 до 35 минут.\n",
    "* Среднее время одной поездки у пользователей с подпиской на 1 минуту дольше, чем у пользователей без подписки.\n",
    "* По медианным значениям скорость у пользователей без подписки выше (Без подписки: 173 метра в минуту, С подпиской: 165.7 метра в минуту).\n",
    "* У пользователей без подписки малый пик в промежутке от 1 до 600 метров. Возможно это не длительная запланированная поездка, а знакомство с самокатом и проверка удобства транспорта для конкретного пользователя.\n",
    " \n",
    "</div>"
   ]
  },
  {
   "cell_type": "markdown",
   "id": "c6883bc9-601f-498d-9661-f3f182e3e139",
   "metadata": {},
   "source": [
    "<a id=\"Подсчёт_выручки\"></a>"
   ]
  },
  {
   "cell_type": "markdown",
   "id": "402d620f",
   "metadata": {},
   "source": [
    "## Подсчёт выручки"
   ]
  },
  {
   "cell_type": "markdown",
   "id": "abca2ea9-1314-4b1e-bbbb-1fbb87bfed63",
   "metadata": {},
   "source": [
    "### Создание нового датафрейма с агрегированными данными"
   ]
  },
  {
   "cell_type": "markdown",
   "id": "f2d5d347-2d9a-459d-8489-98f8c8bb3a9a",
   "metadata": {},
   "source": [
    "<div style=\"border:solid black 2px; padding: 20px\">\n",
    "\n",
    "Создадим датафрейм с агрегированными данными о поездках на основе датафрейма 'data_combine' и найдем:\n",
    "* суммарное расстояние для каждого пользователя за каждый месяц\n",
    "* количество поездок для каждого пользователя за каждый месяц\n",
    "* суммарное время для каждого пользователя за каждый месяц\n",
    "\n",
    "</div>"
   ]
  },
  {
   "cell_type": "code",
   "execution_count": 74,
   "id": "c7a780c8-c4fe-4f14-91a0-5d8de0c1b54b",
   "metadata": {
    "scrolled": true
   },
   "outputs": [
    {
     "data": {
      "text/html": [
       "<div>\n",
       "<style scoped>\n",
       "    .dataframe tbody tr th:only-of-type {\n",
       "        vertical-align: middle;\n",
       "    }\n",
       "\n",
       "    .dataframe tbody tr th {\n",
       "        vertical-align: top;\n",
       "    }\n",
       "\n",
       "    .dataframe thead th {\n",
       "        text-align: right;\n",
       "    }\n",
       "</style>\n",
       "<table border=\"1\" class=\"dataframe\">\n",
       "  <thead>\n",
       "    <tr style=\"text-align: right;\">\n",
       "      <th></th>\n",
       "      <th>user_id</th>\n",
       "      <th>name</th>\n",
       "      <th>age</th>\n",
       "      <th>city</th>\n",
       "      <th>subscription_type</th>\n",
       "      <th>age_type</th>\n",
       "      <th>distance</th>\n",
       "      <th>duration</th>\n",
       "      <th>date</th>\n",
       "      <th>month</th>\n",
       "      <th>year</th>\n",
       "      <th>minute_price</th>\n",
       "      <th>start_ride_price</th>\n",
       "      <th>subscription_fee</th>\n",
       "    </tr>\n",
       "  </thead>\n",
       "  <tbody>\n",
       "    <tr>\n",
       "      <th>0</th>\n",
       "      <td>1</td>\n",
       "      <td>Кира</td>\n",
       "      <td>22</td>\n",
       "      <td>Тюмень</td>\n",
       "      <td>ultra</td>\n",
       "      <td>от 21 до 30 лет</td>\n",
       "      <td>4409.919140</td>\n",
       "      <td>26.0</td>\n",
       "      <td>2021-01-01</td>\n",
       "      <td>1</td>\n",
       "      <td>2021</td>\n",
       "      <td>6</td>\n",
       "      <td>0</td>\n",
       "      <td>199</td>\n",
       "    </tr>\n",
       "    <tr>\n",
       "      <th>1</th>\n",
       "      <td>1</td>\n",
       "      <td>Кира</td>\n",
       "      <td>22</td>\n",
       "      <td>Тюмень</td>\n",
       "      <td>ultra</td>\n",
       "      <td>от 21 до 30 лет</td>\n",
       "      <td>2617.592153</td>\n",
       "      <td>16.0</td>\n",
       "      <td>2021-01-18</td>\n",
       "      <td>1</td>\n",
       "      <td>2021</td>\n",
       "      <td>6</td>\n",
       "      <td>0</td>\n",
       "      <td>199</td>\n",
       "    </tr>\n",
       "    <tr>\n",
       "      <th>2</th>\n",
       "      <td>1</td>\n",
       "      <td>Кира</td>\n",
       "      <td>22</td>\n",
       "      <td>Тюмень</td>\n",
       "      <td>ultra</td>\n",
       "      <td>от 21 до 30 лет</td>\n",
       "      <td>754.159807</td>\n",
       "      <td>7.0</td>\n",
       "      <td>2021-04-20</td>\n",
       "      <td>4</td>\n",
       "      <td>2021</td>\n",
       "      <td>6</td>\n",
       "      <td>0</td>\n",
       "      <td>199</td>\n",
       "    </tr>\n",
       "    <tr>\n",
       "      <th>3</th>\n",
       "      <td>1</td>\n",
       "      <td>Кира</td>\n",
       "      <td>22</td>\n",
       "      <td>Тюмень</td>\n",
       "      <td>ultra</td>\n",
       "      <td>от 21 до 30 лет</td>\n",
       "      <td>2694.783254</td>\n",
       "      <td>19.0</td>\n",
       "      <td>2021-08-11</td>\n",
       "      <td>8</td>\n",
       "      <td>2021</td>\n",
       "      <td>6</td>\n",
       "      <td>0</td>\n",
       "      <td>199</td>\n",
       "    </tr>\n",
       "    <tr>\n",
       "      <th>4</th>\n",
       "      <td>1</td>\n",
       "      <td>Кира</td>\n",
       "      <td>22</td>\n",
       "      <td>Тюмень</td>\n",
       "      <td>ultra</td>\n",
       "      <td>от 21 до 30 лет</td>\n",
       "      <td>4028.687306</td>\n",
       "      <td>27.0</td>\n",
       "      <td>2021-08-28</td>\n",
       "      <td>8</td>\n",
       "      <td>2021</td>\n",
       "      <td>6</td>\n",
       "      <td>0</td>\n",
       "      <td>199</td>\n",
       "    </tr>\n",
       "  </tbody>\n",
       "</table>\n",
       "</div>"
      ],
      "text/plain": [
       "   user_id  name  age    city subscription_type         age_type     distance  \\\n",
       "0        1  Кира   22  Тюмень             ultra  от 21 до 30 лет  4409.919140   \n",
       "1        1  Кира   22  Тюмень             ultra  от 21 до 30 лет  2617.592153   \n",
       "2        1  Кира   22  Тюмень             ultra  от 21 до 30 лет   754.159807   \n",
       "3        1  Кира   22  Тюмень             ultra  от 21 до 30 лет  2694.783254   \n",
       "4        1  Кира   22  Тюмень             ultra  от 21 до 30 лет  4028.687306   \n",
       "\n",
       "   duration       date  month  year  minute_price  start_ride_price  \\\n",
       "0      26.0 2021-01-01      1  2021             6                 0   \n",
       "1      16.0 2021-01-18      1  2021             6                 0   \n",
       "2       7.0 2021-04-20      4  2021             6                 0   \n",
       "3      19.0 2021-08-11      8  2021             6                 0   \n",
       "4      27.0 2021-08-28      8  2021             6                 0   \n",
       "\n",
       "   subscription_fee  \n",
       "0               199  \n",
       "1               199  \n",
       "2               199  \n",
       "3               199  \n",
       "4               199  "
      ]
     },
     "execution_count": 74,
     "metadata": {},
     "output_type": "execute_result"
    }
   ],
   "source": [
    "data_combine.head() # выводим первый 5 строк и выбираем нужные столбцы для нового датафрейма"
   ]
  },
  {
   "cell_type": "code",
   "execution_count": 75,
   "id": "86cdb3e4-5474-40a8-b361-d85e395d354a",
   "metadata": {},
   "outputs": [],
   "source": [
    "# создаем новый датафрейм\n",
    "data_combine_agg = data_combine.pivot_table(index=['user_id', 'month', 'subscription_type'], values=['distance', 'duration', 'minute_price', 'start_ride_price', 'subscription_fee'],\n",
    "                   aggfunc={'user_id': 'count', 'distance': 'sum', 'duration': 'sum', 'minute_price': 'sum', 'start_ride_price': 'sum', 'subscription_fee': 'sum'})\\\n",
    "                  .rename(columns= {'user_id': 'Количество поездок', 'distance': 'Расстояние', 'duration': 'Время', 'minute_price': 'Стоимость минуты', 'start_ride_price': 'Стоимость начала поездки', 'subscription_fee': 'Ежемесячный платеж'})"
   ]
  },
  {
   "cell_type": "code",
   "execution_count": 76,
   "id": "91c2ce0a-1053-4bb3-846a-a89f2d939055",
   "metadata": {},
   "outputs": [],
   "source": [
    "# меняем значение столбца для будущих расчетов\n",
    "data_combine_agg['Стоимость минуты'] = data_combine_agg['Стоимость минуты'] / data_combine_agg['Количество поездок']\n",
    "data_combine_agg['Стоимость начала поездки'] = data_combine_agg['Стоимость начала поездки'] / data_combine_agg['Количество поездок']\n",
    "data_combine_agg['Ежемесячный платеж'] = data_combine_agg['Ежемесячный платеж'] / data_combine_agg['Количество поездок']"
   ]
  },
  {
   "cell_type": "code",
   "execution_count": 77,
   "id": "16e4a801-d87e-4261-b1f0-caf6332b1a5e",
   "metadata": {},
   "outputs": [
    {
     "data": {
      "text/html": [
       "<div>\n",
       "<style scoped>\n",
       "    .dataframe tbody tr th:only-of-type {\n",
       "        vertical-align: middle;\n",
       "    }\n",
       "\n",
       "    .dataframe tbody tr th {\n",
       "        vertical-align: top;\n",
       "    }\n",
       "\n",
       "    .dataframe thead th {\n",
       "        text-align: right;\n",
       "    }\n",
       "</style>\n",
       "<table border=\"1\" class=\"dataframe\">\n",
       "  <thead>\n",
       "    <tr style=\"text-align: right;\">\n",
       "      <th></th>\n",
       "      <th></th>\n",
       "      <th></th>\n",
       "      <th>Расстояние</th>\n",
       "      <th>Время</th>\n",
       "      <th>Стоимость минуты</th>\n",
       "      <th>Стоимость начала поездки</th>\n",
       "      <th>Ежемесячный платеж</th>\n",
       "      <th>Количество поездок</th>\n",
       "    </tr>\n",
       "    <tr>\n",
       "      <th>user_id</th>\n",
       "      <th>month</th>\n",
       "      <th>subscription_type</th>\n",
       "      <th></th>\n",
       "      <th></th>\n",
       "      <th></th>\n",
       "      <th></th>\n",
       "      <th></th>\n",
       "      <th></th>\n",
       "    </tr>\n",
       "  </thead>\n",
       "  <tbody>\n",
       "    <tr>\n",
       "      <th rowspan=\"5\" valign=\"top\">1</th>\n",
       "      <th>1</th>\n",
       "      <th>ultra</th>\n",
       "      <td>7027.511294</td>\n",
       "      <td>42.0</td>\n",
       "      <td>6.0</td>\n",
       "      <td>0.0</td>\n",
       "      <td>199.0</td>\n",
       "      <td>2</td>\n",
       "    </tr>\n",
       "    <tr>\n",
       "      <th>4</th>\n",
       "      <th>ultra</th>\n",
       "      <td>754.159807</td>\n",
       "      <td>7.0</td>\n",
       "      <td>6.0</td>\n",
       "      <td>0.0</td>\n",
       "      <td>199.0</td>\n",
       "      <td>1</td>\n",
       "    </tr>\n",
       "    <tr>\n",
       "      <th>8</th>\n",
       "      <th>ultra</th>\n",
       "      <td>6723.470560</td>\n",
       "      <td>46.0</td>\n",
       "      <td>6.0</td>\n",
       "      <td>0.0</td>\n",
       "      <td>199.0</td>\n",
       "      <td>2</td>\n",
       "    </tr>\n",
       "    <tr>\n",
       "      <th>10</th>\n",
       "      <th>ultra</th>\n",
       "      <td>5809.911100</td>\n",
       "      <td>32.0</td>\n",
       "      <td>6.0</td>\n",
       "      <td>0.0</td>\n",
       "      <td>199.0</td>\n",
       "      <td>2</td>\n",
       "    </tr>\n",
       "    <tr>\n",
       "      <th>11</th>\n",
       "      <th>ultra</th>\n",
       "      <td>7003.499363</td>\n",
       "      <td>56.0</td>\n",
       "      <td>6.0</td>\n",
       "      <td>0.0</td>\n",
       "      <td>199.0</td>\n",
       "      <td>3</td>\n",
       "    </tr>\n",
       "  </tbody>\n",
       "</table>\n",
       "</div>"
      ],
      "text/plain": [
       "                                  Расстояние  Время  Стоимость минуты  \\\n",
       "user_id month subscription_type                                         \n",
       "1       1     ultra              7027.511294   42.0               6.0   \n",
       "        4     ultra               754.159807    7.0               6.0   \n",
       "        8     ultra              6723.470560   46.0               6.0   \n",
       "        10    ultra              5809.911100   32.0               6.0   \n",
       "        11    ultra              7003.499363   56.0               6.0   \n",
       "\n",
       "                                 Стоимость начала поездки  Ежемесячный платеж  \\\n",
       "user_id month subscription_type                                                 \n",
       "1       1     ultra                                   0.0               199.0   \n",
       "        4     ultra                                   0.0               199.0   \n",
       "        8     ultra                                   0.0               199.0   \n",
       "        10    ultra                                   0.0               199.0   \n",
       "        11    ultra                                   0.0               199.0   \n",
       "\n",
       "                                 Количество поездок  \n",
       "user_id month subscription_type                      \n",
       "1       1     ultra                               2  \n",
       "        4     ultra                               1  \n",
       "        8     ultra                               2  \n",
       "        10    ultra                               2  \n",
       "        11    ultra                               3  "
      ]
     },
     "execution_count": 77,
     "metadata": {},
     "output_type": "execute_result"
    }
   ],
   "source": [
    "data_combine_agg.head() # выводим первый 5 строк нового датафрейма"
   ]
  },
  {
   "cell_type": "markdown",
   "id": "7bd52f51-251b-4fc4-a10c-654db8de08d5",
   "metadata": {},
   "source": [
    "### Подсчёт выручки"
   ]
  },
  {
   "cell_type": "markdown",
   "id": "0893a9f7-e358-48bb-8432-18668a47e0fe",
   "metadata": {},
   "source": [
    "<div style=\"border:solid black 2px; padding: 20px\">\n",
    "\n",
    "Помесячная выручка:\n",
    "* стоимость старта поездки*количество поездок\n",
    "* +стоимость одной минуты поездки*общая продолжительность всех поездок в минутах\n",
    "* +стоимость подписки\n",
    "\n",
    "</div>"
   ]
  },
  {
   "cell_type": "code",
   "execution_count": 78,
   "id": "b36f61b1-050e-48d8-ab42-836fe2d3fde0",
   "metadata": {},
   "outputs": [],
   "source": [
    "data_combine_agg['Выручка'] = (data_combine_agg['Стоимость начала поездки'] * data_combine_agg['Количество поездок']) + (data_combine_agg['Стоимость минуты'] * data_combine_agg['Время']) + data_combine_agg['Ежемесячный платеж']"
   ]
  },
  {
   "cell_type": "code",
   "execution_count": 79,
   "id": "a544daca-d87f-4ca8-b14b-a5588aec9064",
   "metadata": {
    "scrolled": true
   },
   "outputs": [
    {
     "data": {
      "text/html": [
       "<div>\n",
       "<style scoped>\n",
       "    .dataframe tbody tr th:only-of-type {\n",
       "        vertical-align: middle;\n",
       "    }\n",
       "\n",
       "    .dataframe tbody tr th {\n",
       "        vertical-align: top;\n",
       "    }\n",
       "\n",
       "    .dataframe thead th {\n",
       "        text-align: right;\n",
       "    }\n",
       "</style>\n",
       "<table border=\"1\" class=\"dataframe\">\n",
       "  <thead>\n",
       "    <tr style=\"text-align: right;\">\n",
       "      <th></th>\n",
       "      <th></th>\n",
       "      <th></th>\n",
       "      <th>Расстояние</th>\n",
       "      <th>Время</th>\n",
       "      <th>Стоимость минуты</th>\n",
       "      <th>Стоимость начала поездки</th>\n",
       "      <th>Ежемесячный платеж</th>\n",
       "      <th>Количество поездок</th>\n",
       "      <th>Выручка</th>\n",
       "    </tr>\n",
       "    <tr>\n",
       "      <th>user_id</th>\n",
       "      <th>month</th>\n",
       "      <th>subscription_type</th>\n",
       "      <th></th>\n",
       "      <th></th>\n",
       "      <th></th>\n",
       "      <th></th>\n",
       "      <th></th>\n",
       "      <th></th>\n",
       "      <th></th>\n",
       "    </tr>\n",
       "  </thead>\n",
       "  <tbody>\n",
       "    <tr>\n",
       "      <th rowspan=\"5\" valign=\"top\">1</th>\n",
       "      <th>1</th>\n",
       "      <th>ultra</th>\n",
       "      <td>7027.511294</td>\n",
       "      <td>42.0</td>\n",
       "      <td>6.0</td>\n",
       "      <td>0.0</td>\n",
       "      <td>199.0</td>\n",
       "      <td>2</td>\n",
       "      <td>451.0</td>\n",
       "    </tr>\n",
       "    <tr>\n",
       "      <th>4</th>\n",
       "      <th>ultra</th>\n",
       "      <td>754.159807</td>\n",
       "      <td>7.0</td>\n",
       "      <td>6.0</td>\n",
       "      <td>0.0</td>\n",
       "      <td>199.0</td>\n",
       "      <td>1</td>\n",
       "      <td>241.0</td>\n",
       "    </tr>\n",
       "    <tr>\n",
       "      <th>8</th>\n",
       "      <th>ultra</th>\n",
       "      <td>6723.470560</td>\n",
       "      <td>46.0</td>\n",
       "      <td>6.0</td>\n",
       "      <td>0.0</td>\n",
       "      <td>199.0</td>\n",
       "      <td>2</td>\n",
       "      <td>475.0</td>\n",
       "    </tr>\n",
       "    <tr>\n",
       "      <th>10</th>\n",
       "      <th>ultra</th>\n",
       "      <td>5809.911100</td>\n",
       "      <td>32.0</td>\n",
       "      <td>6.0</td>\n",
       "      <td>0.0</td>\n",
       "      <td>199.0</td>\n",
       "      <td>2</td>\n",
       "      <td>391.0</td>\n",
       "    </tr>\n",
       "    <tr>\n",
       "      <th>11</th>\n",
       "      <th>ultra</th>\n",
       "      <td>7003.499363</td>\n",
       "      <td>56.0</td>\n",
       "      <td>6.0</td>\n",
       "      <td>0.0</td>\n",
       "      <td>199.0</td>\n",
       "      <td>3</td>\n",
       "      <td>535.0</td>\n",
       "    </tr>\n",
       "  </tbody>\n",
       "</table>\n",
       "</div>"
      ],
      "text/plain": [
       "                                  Расстояние  Время  Стоимость минуты  \\\n",
       "user_id month subscription_type                                         \n",
       "1       1     ultra              7027.511294   42.0               6.0   \n",
       "        4     ultra               754.159807    7.0               6.0   \n",
       "        8     ultra              6723.470560   46.0               6.0   \n",
       "        10    ultra              5809.911100   32.0               6.0   \n",
       "        11    ultra              7003.499363   56.0               6.0   \n",
       "\n",
       "                                 Стоимость начала поездки  Ежемесячный платеж  \\\n",
       "user_id month subscription_type                                                 \n",
       "1       1     ultra                                   0.0               199.0   \n",
       "        4     ultra                                   0.0               199.0   \n",
       "        8     ultra                                   0.0               199.0   \n",
       "        10    ultra                                   0.0               199.0   \n",
       "        11    ultra                                   0.0               199.0   \n",
       "\n",
       "                                 Количество поездок  Выручка  \n",
       "user_id month subscription_type                               \n",
       "1       1     ultra                               2    451.0  \n",
       "        4     ultra                               1    241.0  \n",
       "        8     ultra                               2    475.0  \n",
       "        10    ultra                               2    391.0  \n",
       "        11    ultra                               3    535.0  "
      ]
     },
     "execution_count": 79,
     "metadata": {},
     "output_type": "execute_result"
    }
   ],
   "source": [
    "data_combine_agg.head() # выводим первый 5 строк нового датафрейма"
   ]
  },
  {
   "cell_type": "markdown",
   "id": "28973e2a-d8ac-42b9-9245-be9cc5673d7e",
   "metadata": {},
   "source": [
    "<div style=\"border:solid green 2px; padding: 20px\">\n",
    "\n",
    "Создали датафрейм для проверки гипотез.\n",
    "\n",
    "</div>"
   ]
  },
  {
   "cell_type": "markdown",
   "id": "6abf5575-e200-4050-8613-6e244019885f",
   "metadata": {},
   "source": [
    "<a id=\"Проверка_гипотез\"></a>"
   ]
  },
  {
   "cell_type": "markdown",
   "id": "41545ac0",
   "metadata": {},
   "source": [
    "## Проверка гипотез"
   ]
  },
  {
   "cell_type": "markdown",
   "id": "18c64b0d-c9be-4c51-9f57-d842baa68975",
   "metadata": {},
   "source": [
    "<div style=\"border:solid black 2px; padding: 20px\">\n",
    "\n",
    "Продакт-менеджеры сервиса хотят увеличить количество пользователей с подпиской.\n",
    "Для этого они будут проводить различные акции.\n",
    "\n",
    "Для запуска активностей надо проверить гипотезы ниже.\n",
    "\n",
    "</div>"
   ]
  },
  {
   "cell_type": "markdown",
   "id": "5065df69-5fcf-4e6d-87de-bf7343247eae",
   "metadata": {},
   "source": [
    "### Гипотеза. Пользователи с подпиской тратят больше времени на поездки"
   ]
  },
  {
   "cell_type": "markdown",
   "id": "de143b59-f101-4fd2-aecb-33b35e020788",
   "metadata": {},
   "source": [
    "<div style=\"border:solid black 2px; padding: 20px\">\n",
    "\n",
    "Гипотеза. Пользователи с подпиской тратят больше времени на поездки, чем пользователи без подписки.\n",
    "\n",
    "В пункте 3.2 мы выяснили, что доля пользователей без подписки составила 54%, с подпиской 46%. \n",
    "\n",
    "Соответственно будем сравнивать по средним значениям.\n",
    "\n",
    "Гипотеза:\n",
    "* H₀: Среднее время поездки пользователей с подпиской равно среднему времени поездки пользователей без подписки.\n",
    "* H1: Среднее время поездки пользователей с подпиской больше среднего времени поездки пользователей без подписки.\n",
    "\n",
    "Применим двухвыборочный t-тест для независимых выборок.\n",
    "\n",
    "Ответим на вопросы:\n",
    "* Тратят ли пользователи с подпиской больше времени на поездки?\n",
    "* Если да, то пользователи с подпиской могут быть «выгоднее» для компании?\n",
    "\n",
    "</div>"
   ]
  },
  {
   "cell_type": "code",
   "execution_count": 80,
   "id": "02edf76e-7747-4f04-816d-053a3a9a6701",
   "metadata": {
    "scrolled": true
   },
   "outputs": [
    {
     "name": "stdout",
     "output_type": "stream",
     "text": [
      "Среднее время пользователя с подпиской: 19.037692307692307\n",
      "Среднее время пользователя без подписки: 17.890992392807746\n",
      "p-значение: 2.4959453720736625e-34\n",
      "Отвергаем нулевую гипотезу\n"
     ]
    }
   ],
   "source": [
    "# пользователи с подпиской\n",
    "sample_time1 = data_ultra['duration']\n",
    "\n",
    "# пользователи без подписки\n",
    "sample_time2 = data_free['duration']\n",
    "\n",
    "print(f'Среднее время пользователя с подпиской: {np.mean(sample_time1)}')\n",
    "print(f'Среднее время пользователя без подписки: {np.mean(sample_time2)}')\n",
    "\n",
    "alpha = 0.05 # задаем уровень стат. значимости\n",
    "\n",
    "results1 = st.ttest_ind(sample_time1, sample_time2, alternative='greater') # проведем стат. тест \n",
    "\n",
    "# выведем на экран получившееся p-значение\n",
    "print('p-значение:', results1.pvalue)\n",
    "\n",
    "if results1.pvalue < alpha: # сравним p-значение с alpha\n",
    "    print('Отвергаем нулевую гипотезу')\n",
    "else:\n",
    "    print('Не получилось отвергнуть нулевую гипотезу')"
   ]
  },
  {
   "cell_type": "markdown",
   "id": "d92045a7-3774-4702-a939-3476f39e19c6",
   "metadata": {},
   "source": [
    "<div style=\"border:solid green 2px; padding: 20px\">\n",
    "\n",
    "Есть основания полагать, что пользователи с подпиской тратят больше времени на поездки, чем пользователи без подписки.\n",
    "\n",
    "Только по параметру время нельзя однозначно сказать, что пользователи с подпиской могут быть «выгоднее» для компании, надо в первую очередь смотреть на выручку.\n",
    "\n",
    "</div>"
   ]
  },
  {
   "cell_type": "markdown",
   "id": "691d9c6b-6e53-43d6-a22b-88fe05ea2914",
   "metadata": {},
   "source": [
    "### Гипотеза. Пользователи с подпиской за поездку проезжают не больше 3130 метров"
   ]
  },
  {
   "cell_type": "markdown",
   "id": "bd4ebe56-0113-4d38-9224-3d9ab8eb4bbd",
   "metadata": {},
   "source": [
    "<div style=\"border:solid black 2px; padding: 20px\">\n",
    "\n",
    "Расстояние одной поездки в 3130 метров — оптимальное с точки зрения износа самокат.\n",
    "\n",
    "Гипотеза. Пользователи с подпиской за поездку проезжают не больше 3130 метров.\n",
    "* H₀: Среднее расстояние за поездку пользователей с подпиской равно 3130 метров.\n",
    "* Н1: Среднее расстояние за поездку пользователей с подпиской больше 3130 метров..\n",
    "\n",
    "\n",
    "Одновыборочный t-тест.\n",
    "\n",
    "</div>"
   ]
  },
  {
   "cell_type": "code",
   "execution_count": 81,
   "id": "c1893e66-6be1-4aa3-b747-4e8845c615f6",
   "metadata": {
    "scrolled": true
   },
   "outputs": [
    {
     "name": "stdout",
     "output_type": "stream",
     "text": [
      "Среднее расстояние с подпиской: 3115.4453880370247\n",
      "p-значение: 0.9195368847849785\n",
      "Не отвергаем нулевую гипотезу\n"
     ]
    }
   ],
   "source": [
    "distance_ultra = data_ultra['distance']\n",
    "# пользователи с подпиской\n",
    "\n",
    "prev_distance_ultra = 3130\n",
    "\n",
    "print(f'Среднее расстояние с подпиской: {np.mean(distance_ultra)}')\n",
    "\n",
    "alpha = 0.05 # уровень статистической значимости\n",
    "\n",
    "results2 = st.ttest_1samp(distance_ultra, prev_distance_ultra, alternative='greater')\n",
    "\n",
    "print('p-значение:', results2.pvalue)\n",
    "\n",
    "if (results2.pvalue < alpha):\n",
    "    print('Отвергаем нулевую гипотезу')\n",
    "else:\n",
    "    print('Не отвергаем нулевую гипотезу') "
   ]
  },
  {
   "cell_type": "markdown",
   "id": "86e75b62-6133-4e51-ab58-580f852a30ad",
   "metadata": {},
   "source": [
    "<div style=\"border:solid green 2px; padding: 20px\">\n",
    "\n",
    "Не отвергаем нулевую гипотезу.\n",
    "\n",
    "Есть основания говорить, что пользователи с подпиской не проезжают больше 3130 м.\n",
    "\n",
    "Это является оптимальным с точки зрения износа.\n",
    "\n",
    "</div>"
   ]
  },
  {
   "cell_type": "markdown",
   "id": "0d834d9a-fb31-4ce9-af1d-0b1ffb536b18",
   "metadata": {},
   "source": [
    "### Гипотеза. Помесячная выручка от пользователей с подпиской по месяцам выше, чем выручка от пользователей без подписки"
   ]
  },
  {
   "cell_type": "markdown",
   "id": "1d2c847b-201f-45b8-af15-86ab6e76bdf4",
   "metadata": {},
   "source": [
    "<div style=\"border:solid black 2px; padding: 20px\">\n",
    "\n",
    "Гипотеза. Помесячная выручка от пользователей с подпиской по месяцам выше, чем выручка от пользователей без подписки.\n",
    "\n",
    "В пункте 3.2 мы выяснили, что доля пользователей без подписки составила 54%, с подпиской 46%. \n",
    "\n",
    "Соответственно мы не можем сравнивать общую выручку, и для сравнения возьмем среднюю выручку по типу подписки.\n",
    "\n",
    "Гипотеза:\n",
    "* H₀: Средняя помесячная выручка пользователей с подпиской равна средней помесячной выручке пользователей без подписки.\n",
    "* Н1: Средняя помесячная выручка пользователей с подпиской больше средней помесячной выручки пользователей без подписки.\n",
    "\n",
    "Применим двухвыборочный t-тест для независимых выборок.\n",
    "\n",
    "</div>"
   ]
  },
  {
   "cell_type": "code",
   "execution_count": 82,
   "id": "57800aaa-5fde-4b5b-bc30-57fc2bfc00c8",
   "metadata": {
    "scrolled": true
   },
   "outputs": [
    {
     "name": "stdout",
     "output_type": "stream",
     "text": [
      "Средняя выручка пользователей с подпиской: 362.7921906022502\n",
      "Средняя выручка пользователей без подписки: 328.6413651073845\n",
      "p-значение: 1.8850394384715216e-31\n",
      "Отвергаем нулевую гипотезу\n"
     ]
    }
   ],
   "source": [
    "# пользователи с подпиской\n",
    "sample_value1 =  data_combine_agg[data_combine_agg['Ежемесячный платеж'] > 0]['Выручка']\n",
    "\n",
    "# пользователи без подписки\n",
    "sample_value2 = data_combine_agg[data_combine_agg['Ежемесячный платеж'] == 0]['Выручка']\n",
    "\n",
    "print(f'Средняя выручка пользователей с подпиской: {np.mean(sample_value1)}')\n",
    "print(f'Средняя выручка пользователей без подписки: {np.mean(sample_value2)}')\n",
    "\n",
    "alpha = 0.05 # задаем уровень стат. значимости\n",
    "\n",
    "results3 = st.ttest_ind(sample_value1, sample_value2, alternative='greater') # проведем стат. тест \n",
    "\n",
    "# выведем на экран получившееся p-значение\n",
    "print('p-значение:', results3.pvalue)\n",
    "\n",
    "if results3.pvalue < alpha: # сравним p-значение с alpha\n",
    "    print('Отвергаем нулевую гипотезу')\n",
    "else:\n",
    "    print('Не получилось отвергнуть нулевую гипотезу')"
   ]
  },
  {
   "cell_type": "markdown",
   "id": "b76dc161-f3aa-4edd-920e-99e9a11a53c9",
   "metadata": {},
   "source": [
    "<div style=\"border:solid black 2px; padding: 20px\">\n",
    "\n",
    "Проверим результат с помощью графика.\n",
    "\n",
    "</div>"
   ]
  },
  {
   "cell_type": "code",
   "execution_count": 83,
   "id": "cf6bd428-607f-4977-b89e-94c522e07731",
   "metadata": {},
   "outputs": [
    {
     "data": {
      "image/png": "[encoded data removed]",
      "text/plain": [
       "<Figure size 640x480 with 1 Axes>"
      ]
     },
     "metadata": {},
     "output_type": "display_data"
    }
   ],
   "source": [
    "labels = [1,2,2,4,5,6,7,8,9,10,11,12]\n",
    "\n",
    "free = data_combine_agg[data_combine_agg['Ежемесячный платеж'] == 0].groupby('month')['Выручка'].mean()\n",
    "ultra = data_combine_agg[data_combine_agg['Ежемесячный платеж'] > 0].groupby('month')['Выручка'].mean()\n",
    "x = np.arange(len(labels)) \n",
    "\n",
    "width = 0.3\n",
    "fig, ax = plt.subplots()\n",
    "rect1 = ax.bar(x - width/2, free, width, label='free')\n",
    "rect2 = ax.bar(x + width/2, ultra, width, label='ultra')\n",
    "\n",
    "ax.set_ylabel('Средняя выручка')\n",
    "ax.set_xlabel('Месяц')\n",
    "ax.set_xticks(x)\n",
    "ax.set_xticklabels(labels)\n",
    "ax.set_title('Соотношение типа подписки и выручки')\n",
    "ax.legend()\n",
    "\n",
    "plt.show()"
   ]
  },
  {
   "cell_type": "markdown",
   "id": "5fa303eb-d524-438e-a854-532ea92856b1",
   "metadata": {},
   "source": [
    "<div style=\"border:solid green 2px; padding: 20px\">\n",
    "\n",
    "Есть основания говорить, что пользователи с подпиской генерируют сервису большую выручку, чем пользователи без подписки.\n",
    "\n",
    "Если отвечать на вопрос из пункта 6.1 \"пользователи с подпиской могут быть «выгоднее» для компании?\", то да, пользователи с подпиской вероятно могут быть «выгоднее» для компании.\n",
    "\n",
    "</div>"
   ]
  },
  {
   "cell_type": "markdown",
   "id": "d556c08f-cc2e-4406-9eea-9413e876e83d",
   "metadata": {},
   "source": [
    "### Гипотеза. Количество обращений в техподдержку значимо снизилось после обновления сервера"
   ]
  },
  {
   "cell_type": "markdown",
   "id": "6e51c727-c490-4584-8594-613a035f52d0",
   "metadata": {},
   "source": [
    "<div style=\"border:solid black 2px; padding: 20px\">\n",
    "\n",
    "Рассмотрим ситуацию: техническая команда сервиса обновила сервера, с которыми взаимодействует мобильное приложение.\n",
    "\n",
    "Она надеется, что из-за этого количество обращений в техподдержку значимо снизилось.\n",
    "\n",
    "Некоторый файл содержит для каждого пользователя данные о количестве обращений до обновления и после него.\n",
    "\n",
    "Какой тест нам понадобится бы для проверки этой гипотезы?\n",
    "\n",
    "</div>"
   ]
  },
  {
   "cell_type": "markdown",
   "id": "1a3b29c2-03f7-4f3f-abe9-e77fabaabb6c",
   "metadata": {},
   "source": [
    "<div style=\"border:solid green 2px; padding: 20px\">\n",
    "\n",
    "В данном случае будем анализировать одну генеральную совокупность, с которой произошли некоторые изменения.\n",
    "\n",
    "Предполагаю, что выборки в этом случае будут зависимыми, так как в условии указано, что \"файл содержит для каждого пользователя данные о количестве обращений до обновления и после него\".\n",
    "\n",
    "Важно убедиться, что обе выборки одинаковые по размеру, т.е. порядок объектов, для которых сделаны измерения, в обоих массивах тоже одинаковый.\n",
    "\n",
    "Сформулируем гипотезы:\n",
    "* H₀: Среднее количество обращений после обновления равно среднему количеству обращений до обновления.\n",
    "* Н1: Среднее количество обращений после обновления меньше среднего количества обращений до обновления.\n",
    "\n",
    "Применим метод scipy.stats.ttest_rel() для проверки гипотезы о равенстве среднего генеральной совокупности для зависимых выборок.\n",
    "\n",
    "Напишем код в качестве примера, где сделаем генерацию случайных чисел.\n",
    "\n",
    "\n",
    "\n",
    "</div>"
   ]
  },
  {
   "cell_type": "code",
   "execution_count": 84,
   "id": "fbd364e9-81bd-46d1-b835-2e1080ffcaab",
   "metadata": {},
   "outputs": [
    {
     "name": "stdout",
     "output_type": "stream",
     "text": [
      "Среднее after: 19.1\n",
      "Среднее before: 12.5\n",
      "p-значение: 0.9176132953467435\n",
      "Не получилось отвергнуть нулевую гипотезу\n"
     ]
    }
   ],
   "source": [
    "after = [randint(1, 30) for i in range(10)]\n",
    "\n",
    "before = [randint(1, 30) for i in range(10)]\n",
    "\n",
    "print(f'Среднее after: {np.mean(after)}')\n",
    "print(f'Среднее before: {np.mean(before)}')\n",
    "\n",
    "alpha = 0.05 # уровень статистической значимости\n",
    "\n",
    "results = st.ttest_rel(after, before, alternative='less')\n",
    "\n",
    "print('p-значение:', results.pvalue)\n",
    "\n",
    "if results.pvalue < alpha:\n",
    "    print('Отвергаем нулевую гипотезу')\n",
    "else:\n",
    "    print('Не получилось отвергнуть нулевую гипотезу')"
   ]
  },
  {
   "cell_type": "markdown",
   "id": "dfec5c37-d289-47c9-94b4-5dd13e099706",
   "metadata": {},
   "source": [
    "<div style=\"border:solid green 2px; padding: 20px\">\n",
    "\n",
    "Получились значения ниже при первом запуске.\n",
    "* Среднее after: 13.3\n",
    "* Среднее before: 16.7\n",
    "* p-значение: 0.2138672633535681\n",
    "* Не получилось отвергнуть нулевую гипотезу\n",
    "\n",
    "\n",
    "Есть основания говорить, что количество обращений уменьшилось после обновления сервера.\n",
    "\n",
    "</div>"
   ]
  },
  {
   "cell_type": "markdown",
   "id": "4fafbe79-180d-4ada-b4b7-b7de2e05efc7",
   "metadata": {},
   "source": [
    "<div style=\"border:solid blue 2px; padding: 20px\">\n",
    "\n",
    "**Выводы по результатам проверки гипотез:**\n",
    "\n",
    "* Есть основания считать, что пользователи с подпиской тратят больше времени на поездки, чем пользователи без подписки.\n",
    "* Есть основания говорить, что пользователи с подпиской не проезжают больше 3130 м.\n",
    "* Можно сделать вывод, что пользователи с подпиской тратят в сервисе больше денег, чем пользователи без подписки. Таким образом, пользователи с подпиской могут быть «выгоднее» для компании.\n",
    "* В пункте 6.4 применили метод scipy.stats.ttest_rel() для проверки гипотезы о равенстве среднего генеральной совокупности для зависимых выборок. Важно убедиться, что обе выборки одинаковые по размеру, т.е. порядок объектов, для которых сделаны измерения, в обоих массивах тоже одинаковый.\n",
    "\n",
    "</div>"
   ]
  },
  {
   "cell_type": "markdown",
   "id": "6a4a3d68-8491-4aa2-b326-cef13515ac3f",
   "metadata": {},
   "source": [
    "<a id=\"Итоги_исследования\"></a>"
   ]
  },
  {
   "cell_type": "markdown",
   "id": "a401197d-20ca-4412-b0b7-31596d709495",
   "metadata": {},
   "source": [
    "## Итоги исследования"
   ]
  },
  {
   "cell_type": "markdown",
   "id": "5a8f84dc-0ec7-4cbc-a630-6c4806082fc3",
   "metadata": {},
   "source": [
    "<div style=\"border:solid blue 2px; padding: 20px\">\n",
    "\n",
    "Для улучшений работы качества и повышения прибыли сервиса аренды самокатов GoFast провели исследование на основании предоставленных данных и проверили ряд гипотез.\n",
    "\n",
    "**Обзор пользователя сервиса аренды самокатов GoFast:**\n",
    "* **Локация.** Пользователи из 8 городов (Пятигорск, Екатеринбург, Ростов-на-Дону, Краснодар, Сочи, Омск, Тюмень, Москва). Нам передали данные о некоторых пользователях из нескольких городов, но нет информации, эта выборка была сделана по соотношению долей от общего количества пользователей в городах или рандомно, соответственно мы не может сделать вывод, что в городе Пятигорск услугами сервиса аренды самокатов пользуется больше пользователей чем в городе Москва (исходя из полученных данных: доля количества пользователей в Пятигорске 14% от общего количества пользователей в выгрузке, а в Москве 11%).\n",
    "* **Наличие подписки.** Доля пользователей без подписки составила 54%, с подпиской 46%. Разница долей небольшая, возможно если бы соотношение количества пользователей по городам было другое, то мы могли бы получить значение ближе к 50%. Например, была бы больше выборка по Москве (где доли с подпиской и без подписки равны), или добавлен город Санкт-Петербург, пользователи в этих городах знакомы ближе с подписками и вероятно более активно ими пользуются.\n",
    "* **Возраст пользователей.** В выборке пользователи от 12 до 43 лет. У большинства пользователей возраст от 23 до 28 лет. Медиана 25 лет. Пользователи в возрасте от 21 до 30 лет занимают долю 73%.\n",
    "* **Расстояние, которое пользователь преодолел за одну поездку (в метрах).** У большинства пользователей расстояние поездки от 2500 до 3500 м. Медиана 3133 м., среднее 3070 м. Это же значение является пиковым на гистограмме. Малый пик в районе 500-700 метров говорит о том, что есть потребность и в преодолении небольших расстояний.\n",
    "* **Продолжительность поездок (в минутах).** У большинства пользователей время одной поездки от 13 до 22 минут. Медиана 17.7 минут, среднее 17.8 минут. На гистограмме отсутствуют заметные выбросы. Поездки до 3х минут и больше 33 минут практически отсутствуют (доля каждого меньше 1% от общего числа поездок).\n",
    "    \n",
    "    \n",
    "**Мы увидели, что есть разница по ряду параметров между пользователями с подпиской и без подписки:**\n",
    "* У пользователей без подписки количество поездок в 2 раза больше, чем у пользователей с подпиской.\n",
    "* У пользователей без подписки диапазон расстояния одной поездки шире (от 1 до 7211 метров), а у пользователей с подпиской от 244 до 5699 метров.\n",
    "* У пользователей с подпиской время поездки дольше (от 4 до 41 минут), а у пользователей с подпиской от 1 до 35 минут.\n",
    "* Среднее время одной поездки у пользователей с подпиской на 1 минуту дольше, чем у пользователей без подписки.\n",
    "* По медианным значениям скорость у пользователей без подписки выше (Без подписки: 173 метра в минуту, С подпиской: 165.7 метра в минуту).\n",
    "* У пользователей без подписки малый пик в промежутке от 1 до 600 метров. Возможно это не длительная запланированная поездка, а знакомство с самокатом и проверка удобства транспорта для конкретного пользователя.\n",
    " \n",
    "\n",
    "\n",
    "**Проверили гипотезы и установили, что все гипотезы подтвердились.**\n",
    "\n",
    "* Гипотеза 1. Пользователи с подпиской тратят больше времени на поездки.\n",
    "* Гипотеза 2. Пользователи с подпиской за поездку проезжают не больше 3130 метров.\n",
    "* Гипотеза 3. Помесячная выручка от пользователей с подпиской по месяцам выше, чем выручка от пользователей без подписки.\n",
    "* Гипотеза 4. Количество обращений в техподдержку значимо снизилось после обновления сервера. Какой тест вам понадобился бы для проверки этой гипотезы? Для проверки данной гипотезы применили метод scipy.stats.ttest_rel() о равенстве среднего генеральной совокупности для зависимых выборок.\n",
    "\n",
    "Исходя из комментариев выше, можно сделать вывод, что пользователи с подпиской генерируют большую часть выручки для сервиса.\n",
    "\n",
    "Соответственно сервис должен стимулировать путем различных активностей пользователей без подписки приобретать подписку.\n",
    "\n",
    "Обращаем внимание, что по пункту 4.3 скорость у пользователей без подписки выше. Мы можем полагать, что пользователи без подписки чаще создают риски попадания в аварийные ситуации, которые влекут за собой ремонт самокатов. Целесообразно провести дополнительные исследования пользователей на аварийность.\n",
    "\n",
    "</div>"
   ]
  }
 ],
 "metadata": {
  "ExecuteTimeLog": [
   {
    "duration": 1266,
    "start_time": "2024-05-05T20:09:03.650Z"
   },
   {
    "duration": 13,
    "start_time": "2024-05-05T20:09:04.918Z"
   },
   {
    "duration": 34,
    "start_time": "2024-05-05T20:09:04.932Z"
   },
   {
    "duration": 22,
    "start_time": "2024-05-05T20:09:04.968Z"
   },
   {
    "duration": 35,
    "start_time": "2024-05-05T20:09:04.991Z"
   },
   {
    "duration": 36,
    "start_time": "2024-05-05T20:09:05.027Z"
   },
   {
    "duration": 16,
    "start_time": "2024-05-05T20:09:05.065Z"
   },
   {
    "duration": 38,
    "start_time": "2024-05-05T20:09:05.083Z"
   },
   {
    "duration": 29,
    "start_time": "2024-05-05T20:09:05.123Z"
   },
   {
    "duration": 24,
    "start_time": "2024-05-05T20:09:05.155Z"
   },
   {
    "duration": 23,
    "start_time": "2024-05-05T20:09:05.181Z"
   },
   {
    "duration": 41,
    "start_time": "2024-05-05T20:09:05.206Z"
   },
   {
    "duration": 36,
    "start_time": "2024-05-05T20:09:05.249Z"
   },
   {
    "duration": 17,
    "start_time": "2024-05-05T20:09:05.287Z"
   },
   {
    "duration": 24,
    "start_time": "2024-05-05T20:09:05.306Z"
   },
   {
    "duration": 21,
    "start_time": "2024-05-05T20:09:05.332Z"
   },
   {
    "duration": 16,
    "start_time": "2024-05-05T20:09:05.355Z"
   },
   {
    "duration": 11,
    "start_time": "2024-05-05T20:09:05.372Z"
   },
   {
    "duration": 8,
    "start_time": "2024-05-05T20:09:05.385Z"
   },
   {
    "duration": 23,
    "start_time": "2024-05-05T20:09:05.395Z"
   },
   {
    "duration": 10,
    "start_time": "2024-05-05T20:09:05.419Z"
   },
   {
    "duration": 43,
    "start_time": "2024-05-05T20:09:05.430Z"
   },
   {
    "duration": 28,
    "start_time": "2024-05-05T20:09:05.474Z"
   },
   {
    "duration": 7,
    "start_time": "2024-05-05T20:09:05.504Z"
   },
   {
    "duration": 13,
    "start_time": "2024-05-05T20:09:05.513Z"
   },
   {
    "duration": 17,
    "start_time": "2024-05-05T20:09:05.528Z"
   },
   {
    "duration": 12,
    "start_time": "2024-05-05T20:09:05.547Z"
   },
   {
    "duration": 26,
    "start_time": "2024-05-05T20:09:05.563Z"
   },
   {
    "duration": 188,
    "start_time": "2024-05-05T20:09:05.591Z"
   },
   {
    "duration": 6,
    "start_time": "2024-05-05T20:09:05.781Z"
   },
   {
    "duration": 32,
    "start_time": "2024-05-05T20:09:05.789Z"
   },
   {
    "duration": 180,
    "start_time": "2024-05-05T20:09:05.823Z"
   },
   {
    "duration": 13,
    "start_time": "2024-05-05T20:09:06.004Z"
   },
   {
    "duration": 23,
    "start_time": "2024-05-05T20:09:06.019Z"
   },
   {
    "duration": 11,
    "start_time": "2024-05-05T20:09:06.044Z"
   },
   {
    "duration": 31,
    "start_time": "2024-05-05T20:09:06.056Z"
   },
   {
    "duration": 169,
    "start_time": "2024-05-05T20:09:06.089Z"
   },
   {
    "duration": 7,
    "start_time": "2024-05-05T20:09:06.259Z"
   },
   {
    "duration": 34,
    "start_time": "2024-05-05T20:09:06.267Z"
   },
   {
    "duration": 135,
    "start_time": "2024-05-05T20:09:06.303Z"
   },
   {
    "duration": 5,
    "start_time": "2024-05-05T20:09:06.439Z"
   },
   {
    "duration": 8,
    "start_time": "2024-05-05T20:09:06.446Z"
   },
   {
    "duration": 177,
    "start_time": "2024-05-05T20:09:06.456Z"
   },
   {
    "duration": 8,
    "start_time": "2024-05-05T20:09:06.635Z"
   },
   {
    "duration": 138,
    "start_time": "2024-05-05T20:09:06.645Z"
   },
   {
    "duration": 5,
    "start_time": "2024-05-05T20:09:06.784Z"
   },
   {
    "duration": 15,
    "start_time": "2024-05-05T20:09:06.790Z"
   },
   {
    "duration": 193,
    "start_time": "2024-05-05T20:09:06.807Z"
   },
   {
    "duration": 17,
    "start_time": "2024-05-05T20:09:07.002Z"
   },
   {
    "duration": 3,
    "start_time": "2024-05-05T20:09:07.020Z"
   },
   {
    "duration": 4,
    "start_time": "2024-05-05T20:09:07.025Z"
   },
   {
    "duration": 6,
    "start_time": "2024-05-05T20:09:07.031Z"
   },
   {
    "duration": 10,
    "start_time": "2024-05-05T20:09:07.042Z"
   },
   {
    "duration": 36,
    "start_time": "2024-05-05T20:09:07.053Z"
   },
   {
    "duration": 11,
    "start_time": "2024-05-05T20:09:07.091Z"
   },
   {
    "duration": 7,
    "start_time": "2024-05-05T20:09:07.104Z"
   },
   {
    "duration": 5,
    "start_time": "2024-05-05T20:09:07.112Z"
   },
   {
    "duration": 8,
    "start_time": "2024-05-05T20:09:07.118Z"
   },
   {
    "duration": 8,
    "start_time": "2024-05-05T20:09:07.128Z"
   },
   {
    "duration": 53,
    "start_time": "2024-05-05T20:09:07.138Z"
   },
   {
    "duration": 191,
    "start_time": "2024-05-05T20:09:07.193Z"
   },
   {
    "duration": 9,
    "start_time": "2024-05-05T20:09:07.386Z"
   },
   {
    "duration": 7,
    "start_time": "2024-05-05T20:09:07.396Z"
   },
   {
    "duration": 9,
    "start_time": "2024-05-05T20:09:07.405Z"
   },
   {
    "duration": 203,
    "start_time": "2024-05-05T20:09:07.416Z"
   },
   {
    "duration": 10,
    "start_time": "2024-05-05T20:09:07.621Z"
   },
   {
    "duration": 19,
    "start_time": "2024-05-05T20:09:07.632Z"
   },
   {
    "duration": 131,
    "start_time": "2024-05-05T20:09:07.653Z"
   },
   {
    "duration": 6,
    "start_time": "2024-05-05T20:09:07.785Z"
   },
   {
    "duration": 19,
    "start_time": "2024-05-05T20:09:07.792Z"
   },
   {
    "duration": 17,
    "start_time": "2024-05-05T20:09:07.812Z"
   },
   {
    "duration": 6,
    "start_time": "2024-05-05T20:09:07.831Z"
   },
   {
    "duration": 13,
    "start_time": "2024-05-05T20:09:07.839Z"
   },
   {
    "duration": 7,
    "start_time": "2024-05-05T20:09:07.853Z"
   },
   {
    "duration": 25,
    "start_time": "2024-05-05T20:09:07.862Z"
   },
   {
    "duration": 16,
    "start_time": "2024-05-05T20:09:07.888Z"
   },
   {
    "duration": 236,
    "start_time": "2024-05-05T20:09:07.906Z"
   },
   {
    "duration": 6,
    "start_time": "2024-05-05T20:09:08.144Z"
   },
   {
    "duration": 11,
    "start_time": "2024-05-05T20:16:51.885Z"
   },
   {
    "duration": 1206,
    "start_time": "2024-05-05T20:17:35.319Z"
   },
   {
    "duration": 13,
    "start_time": "2024-05-05T20:17:36.527Z"
   },
   {
    "duration": 19,
    "start_time": "2024-05-05T20:17:36.542Z"
   },
   {
    "duration": 25,
    "start_time": "2024-05-05T20:17:36.563Z"
   },
   {
    "duration": 12,
    "start_time": "2024-05-05T20:17:36.590Z"
   },
   {
    "duration": 19,
    "start_time": "2024-05-05T20:17:36.604Z"
   },
   {
    "duration": 21,
    "start_time": "2024-05-05T20:17:36.625Z"
   },
   {
    "duration": 26,
    "start_time": "2024-05-05T20:17:36.647Z"
   },
   {
    "duration": 9,
    "start_time": "2024-05-05T20:17:36.674Z"
   },
   {
    "duration": 6,
    "start_time": "2024-05-05T20:17:36.686Z"
   },
   {
    "duration": 8,
    "start_time": "2024-05-05T20:17:36.694Z"
   },
   {
    "duration": 9,
    "start_time": "2024-05-05T20:17:36.704Z"
   },
   {
    "duration": 7,
    "start_time": "2024-05-05T20:17:36.715Z"
   },
   {
    "duration": 6,
    "start_time": "2024-05-05T20:17:36.724Z"
   },
   {
    "duration": 7,
    "start_time": "2024-05-05T20:17:36.732Z"
   },
   {
    "duration": 42,
    "start_time": "2024-05-05T20:17:36.741Z"
   },
   {
    "duration": 5,
    "start_time": "2024-05-05T20:17:36.785Z"
   },
   {
    "duration": 19,
    "start_time": "2024-05-05T20:17:36.791Z"
   },
   {
    "duration": 7,
    "start_time": "2024-05-05T20:17:36.811Z"
   },
   {
    "duration": 5,
    "start_time": "2024-05-05T20:17:36.820Z"
   },
   {
    "duration": 12,
    "start_time": "2024-05-05T20:17:36.827Z"
   },
   {
    "duration": 7,
    "start_time": "2024-05-05T20:17:36.841Z"
   },
   {
    "duration": 45,
    "start_time": "2024-05-05T20:17:36.850Z"
   },
   {
    "duration": 8,
    "start_time": "2024-05-05T20:17:36.897Z"
   },
   {
    "duration": 4,
    "start_time": "2024-05-05T20:17:36.907Z"
   },
   {
    "duration": 10,
    "start_time": "2024-05-05T20:17:36.912Z"
   },
   {
    "duration": 11,
    "start_time": "2024-05-05T20:17:36.923Z"
   },
   {
    "duration": 9,
    "start_time": "2024-05-05T20:17:36.938Z"
   },
   {
    "duration": 193,
    "start_time": "2024-05-05T20:17:36.982Z"
   },
   {
    "duration": 7,
    "start_time": "2024-05-05T20:17:37.182Z"
   },
   {
    "duration": 7,
    "start_time": "2024-05-05T20:17:37.190Z"
   },
   {
    "duration": 172,
    "start_time": "2024-05-05T20:17:37.198Z"
   },
   {
    "duration": 18,
    "start_time": "2024-05-05T20:17:37.371Z"
   },
   {
    "duration": 7,
    "start_time": "2024-05-05T20:17:37.391Z"
   },
   {
    "duration": 4,
    "start_time": "2024-05-05T20:17:37.399Z"
   },
   {
    "duration": 4,
    "start_time": "2024-05-05T20:17:37.405Z"
   },
   {
    "duration": 167,
    "start_time": "2024-05-05T20:17:37.410Z"
   },
   {
    "duration": 9,
    "start_time": "2024-05-05T20:17:37.578Z"
   },
   {
    "duration": 28,
    "start_time": "2024-05-05T20:17:37.588Z"
   },
   {
    "duration": 112,
    "start_time": "2024-05-05T20:17:37.617Z"
   },
   {
    "duration": 5,
    "start_time": "2024-05-05T20:17:37.731Z"
   },
   {
    "duration": 4,
    "start_time": "2024-05-05T20:17:37.737Z"
   },
   {
    "duration": 183,
    "start_time": "2024-05-05T20:17:37.743Z"
   },
   {
    "duration": 9,
    "start_time": "2024-05-05T20:17:37.927Z"
   },
   {
    "duration": 137,
    "start_time": "2024-05-05T20:17:37.937Z"
   },
   {
    "duration": 10,
    "start_time": "2024-05-05T20:17:38.075Z"
   },
   {
    "duration": 31,
    "start_time": "2024-05-05T20:17:38.086Z"
   },
   {
    "duration": 191,
    "start_time": "2024-05-05T20:17:38.119Z"
   },
   {
    "duration": 17,
    "start_time": "2024-05-05T20:17:38.311Z"
   },
   {
    "duration": 46,
    "start_time": "2024-05-05T20:17:38.330Z"
   },
   {
    "duration": 33,
    "start_time": "2024-05-05T20:17:38.378Z"
   },
   {
    "duration": 13,
    "start_time": "2024-05-05T20:17:38.413Z"
   },
   {
    "duration": 5,
    "start_time": "2024-05-05T20:17:38.427Z"
   },
   {
    "duration": 29,
    "start_time": "2024-05-05T20:17:38.433Z"
   },
   {
    "duration": 16,
    "start_time": "2024-05-05T20:17:38.463Z"
   },
   {
    "duration": 12,
    "start_time": "2024-05-05T20:17:38.480Z"
   },
   {
    "duration": 6,
    "start_time": "2024-05-05T20:17:38.494Z"
   },
   {
    "duration": 29,
    "start_time": "2024-05-05T20:17:38.501Z"
   },
   {
    "duration": 24,
    "start_time": "2024-05-05T20:17:38.531Z"
   },
   {
    "duration": 15,
    "start_time": "2024-05-05T20:17:38.556Z"
   },
   {
    "duration": 191,
    "start_time": "2024-05-05T20:17:38.573Z"
   },
   {
    "duration": 16,
    "start_time": "2024-05-05T20:17:38.766Z"
   },
   {
    "duration": 10,
    "start_time": "2024-05-05T20:17:38.783Z"
   },
   {
    "duration": 12,
    "start_time": "2024-05-05T20:17:38.795Z"
   },
   {
    "duration": 216,
    "start_time": "2024-05-05T20:17:38.808Z"
   },
   {
    "duration": 10,
    "start_time": "2024-05-05T20:17:39.026Z"
   },
   {
    "duration": 13,
    "start_time": "2024-05-05T20:17:39.038Z"
   },
   {
    "duration": 132,
    "start_time": "2024-05-05T20:17:39.053Z"
   },
   {
    "duration": 5,
    "start_time": "2024-05-05T20:17:39.187Z"
   },
   {
    "duration": 19,
    "start_time": "2024-05-05T20:17:39.194Z"
   },
   {
    "duration": 16,
    "start_time": "2024-05-05T20:17:39.215Z"
   },
   {
    "duration": 5,
    "start_time": "2024-05-05T20:17:39.232Z"
   },
   {
    "duration": 14,
    "start_time": "2024-05-05T20:17:39.238Z"
   },
   {
    "duration": 11,
    "start_time": "2024-05-05T20:17:39.254Z"
   },
   {
    "duration": 20,
    "start_time": "2024-05-05T20:17:39.266Z"
   },
   {
    "duration": 9,
    "start_time": "2024-05-05T20:17:39.288Z"
   },
   {
    "duration": 21,
    "start_time": "2024-05-05T20:17:39.298Z"
   },
   {
    "duration": 208,
    "start_time": "2024-05-05T20:17:39.321Z"
   },
   {
    "duration": 6,
    "start_time": "2024-05-05T20:17:39.531Z"
   },
   {
    "duration": 1243,
    "start_time": "2024-05-05T20:21:26.908Z"
   },
   {
    "duration": 14,
    "start_time": "2024-05-05T20:21:28.153Z"
   },
   {
    "duration": 10,
    "start_time": "2024-05-05T20:21:28.169Z"
   },
   {
    "duration": 8,
    "start_time": "2024-05-05T20:21:28.181Z"
   },
   {
    "duration": 11,
    "start_time": "2024-05-05T20:21:28.191Z"
   },
   {
    "duration": 15,
    "start_time": "2024-05-05T20:21:28.204Z"
   },
   {
    "duration": 12,
    "start_time": "2024-05-05T20:21:28.221Z"
   },
   {
    "duration": 57,
    "start_time": "2024-05-05T20:21:28.234Z"
   },
   {
    "duration": 6,
    "start_time": "2024-05-05T20:21:28.293Z"
   },
   {
    "duration": 5,
    "start_time": "2024-05-05T20:21:28.302Z"
   },
   {
    "duration": 9,
    "start_time": "2024-05-05T20:21:28.308Z"
   },
   {
    "duration": 9,
    "start_time": "2024-05-05T20:21:28.318Z"
   },
   {
    "duration": 6,
    "start_time": "2024-05-05T20:21:28.329Z"
   },
   {
    "duration": 5,
    "start_time": "2024-05-05T20:21:28.337Z"
   },
   {
    "duration": 40,
    "start_time": "2024-05-05T20:21:28.344Z"
   },
   {
    "duration": 9,
    "start_time": "2024-05-05T20:21:28.385Z"
   },
   {
    "duration": 5,
    "start_time": "2024-05-05T20:21:28.396Z"
   },
   {
    "duration": 6,
    "start_time": "2024-05-05T20:21:28.402Z"
   },
   {
    "duration": 7,
    "start_time": "2024-05-05T20:21:28.410Z"
   },
   {
    "duration": 7,
    "start_time": "2024-05-05T20:21:28.419Z"
   },
   {
    "duration": 9,
    "start_time": "2024-05-05T20:21:28.428Z"
   },
   {
    "duration": 46,
    "start_time": "2024-05-05T20:21:28.439Z"
   },
   {
    "duration": 20,
    "start_time": "2024-05-05T20:21:28.487Z"
   },
   {
    "duration": 9,
    "start_time": "2024-05-05T20:21:28.509Z"
   },
   {
    "duration": 5,
    "start_time": "2024-05-05T20:21:28.519Z"
   },
   {
    "duration": 11,
    "start_time": "2024-05-05T20:21:28.525Z"
   },
   {
    "duration": 10,
    "start_time": "2024-05-05T20:21:28.538Z"
   },
   {
    "duration": 10,
    "start_time": "2024-05-05T20:21:28.584Z"
   },
   {
    "duration": 194,
    "start_time": "2024-05-05T20:21:28.595Z"
   },
   {
    "duration": 7,
    "start_time": "2024-05-05T20:21:28.790Z"
   },
   {
    "duration": 6,
    "start_time": "2024-05-05T20:21:28.799Z"
   },
   {
    "duration": 169,
    "start_time": "2024-05-05T20:21:28.807Z"
   },
   {
    "duration": 21,
    "start_time": "2024-05-05T20:21:28.978Z"
   },
   {
    "duration": 10,
    "start_time": "2024-05-05T20:21:29.001Z"
   },
   {
    "duration": 5,
    "start_time": "2024-05-05T20:21:29.013Z"
   },
   {
    "duration": 9,
    "start_time": "2024-05-05T20:21:29.019Z"
   },
   {
    "duration": 195,
    "start_time": "2024-05-05T20:21:29.030Z"
   },
   {
    "duration": 10,
    "start_time": "2024-05-05T20:21:29.226Z"
   },
   {
    "duration": 9,
    "start_time": "2024-05-05T20:21:29.238Z"
   },
   {
    "duration": 149,
    "start_time": "2024-05-05T20:21:29.249Z"
   },
   {
    "duration": 6,
    "start_time": "2024-05-05T20:21:29.400Z"
   },
   {
    "duration": 5,
    "start_time": "2024-05-05T20:21:29.409Z"
   },
   {
    "duration": 239,
    "start_time": "2024-05-05T20:21:29.416Z"
   },
   {
    "duration": 10,
    "start_time": "2024-05-05T20:21:29.656Z"
   },
   {
    "duration": 138,
    "start_time": "2024-05-05T20:21:29.668Z"
   },
   {
    "duration": 5,
    "start_time": "2024-05-05T20:21:29.808Z"
   },
   {
    "duration": 11,
    "start_time": "2024-05-05T20:21:29.815Z"
   },
   {
    "duration": 189,
    "start_time": "2024-05-05T20:21:29.828Z"
   },
   {
    "duration": 18,
    "start_time": "2024-05-05T20:21:30.019Z"
   },
   {
    "duration": 26,
    "start_time": "2024-05-05T20:21:30.038Z"
   },
   {
    "duration": 65,
    "start_time": "2024-05-05T20:21:30.065Z"
   },
   {
    "duration": 82,
    "start_time": "2024-05-05T20:21:30.132Z"
   },
   {
    "duration": 86,
    "start_time": "2024-05-05T20:21:30.216Z"
   },
   {
    "duration": 61,
    "start_time": "2024-05-05T20:21:30.304Z"
   },
   {
    "duration": 59,
    "start_time": "2024-05-05T20:21:30.367Z"
   },
   {
    "duration": 69,
    "start_time": "2024-05-05T20:21:30.428Z"
   },
   {
    "duration": 34,
    "start_time": "2024-05-05T20:21:30.498Z"
   },
   {
    "duration": 53,
    "start_time": "2024-05-05T20:21:30.534Z"
   },
   {
    "duration": 69,
    "start_time": "2024-05-05T20:21:30.589Z"
   },
   {
    "duration": 43,
    "start_time": "2024-05-05T20:21:30.659Z"
   },
   {
    "duration": 241,
    "start_time": "2024-05-05T20:21:30.704Z"
   },
   {
    "duration": 9,
    "start_time": "2024-05-05T20:21:30.947Z"
   },
   {
    "duration": 41,
    "start_time": "2024-05-05T20:21:30.957Z"
   },
   {
    "duration": 32,
    "start_time": "2024-05-05T20:21:31.000Z"
   },
   {
    "duration": 233,
    "start_time": "2024-05-05T20:21:31.034Z"
   },
   {
    "duration": 17,
    "start_time": "2024-05-05T20:21:31.268Z"
   },
   {
    "duration": 70,
    "start_time": "2024-05-05T20:21:31.287Z"
   },
   {
    "duration": 130,
    "start_time": "2024-05-05T20:21:31.359Z"
   },
   {
    "duration": 6,
    "start_time": "2024-05-05T20:21:31.491Z"
   },
   {
    "duration": 23,
    "start_time": "2024-05-05T20:21:31.498Z"
   },
   {
    "duration": 24,
    "start_time": "2024-05-05T20:21:31.522Z"
   },
   {
    "duration": 24,
    "start_time": "2024-05-05T20:21:31.548Z"
   },
   {
    "duration": 27,
    "start_time": "2024-05-05T20:21:31.574Z"
   },
   {
    "duration": 9,
    "start_time": "2024-05-05T20:21:31.603Z"
   },
   {
    "duration": 8,
    "start_time": "2024-05-05T20:21:31.613Z"
   },
   {
    "duration": 11,
    "start_time": "2024-05-05T20:21:31.623Z"
   },
   {
    "duration": 239,
    "start_time": "2024-05-05T20:21:31.636Z"
   },
   {
    "duration": 10,
    "start_time": "2024-05-05T20:21:31.878Z"
   },
   {
    "duration": 1199,
    "start_time": "2024-05-05T20:23:28.821Z"
   },
   {
    "duration": 13,
    "start_time": "2024-05-05T20:23:30.022Z"
   },
   {
    "duration": 40,
    "start_time": "2024-05-05T20:23:30.036Z"
   },
   {
    "duration": 18,
    "start_time": "2024-05-05T20:23:30.077Z"
   },
   {
    "duration": 18,
    "start_time": "2024-05-05T20:23:30.096Z"
   },
   {
    "duration": 28,
    "start_time": "2024-05-05T20:23:30.116Z"
   },
   {
    "duration": 24,
    "start_time": "2024-05-05T20:23:30.145Z"
   },
   {
    "duration": 57,
    "start_time": "2024-05-05T20:23:30.170Z"
   },
   {
    "duration": 55,
    "start_time": "2024-05-05T20:23:30.228Z"
   },
   {
    "duration": 35,
    "start_time": "2024-05-05T20:23:30.286Z"
   },
   {
    "duration": 27,
    "start_time": "2024-05-05T20:23:30.322Z"
   },
   {
    "duration": 34,
    "start_time": "2024-05-05T20:23:30.351Z"
   },
   {
    "duration": 42,
    "start_time": "2024-05-05T20:23:30.387Z"
   },
   {
    "duration": 50,
    "start_time": "2024-05-05T20:23:30.431Z"
   },
   {
    "duration": 54,
    "start_time": "2024-05-05T20:23:30.483Z"
   },
   {
    "duration": 26,
    "start_time": "2024-05-05T20:23:30.538Z"
   },
   {
    "duration": 27,
    "start_time": "2024-05-05T20:23:30.565Z"
   },
   {
    "duration": 28,
    "start_time": "2024-05-05T20:23:30.594Z"
   },
   {
    "duration": 27,
    "start_time": "2024-05-05T20:23:30.623Z"
   },
   {
    "duration": 33,
    "start_time": "2024-05-05T20:23:30.652Z"
   },
   {
    "duration": 34,
    "start_time": "2024-05-05T20:23:30.687Z"
   },
   {
    "duration": 34,
    "start_time": "2024-05-05T20:23:30.723Z"
   },
   {
    "duration": 118,
    "start_time": "2024-05-05T20:23:30.759Z"
   },
   {
    "duration": 18,
    "start_time": "2024-05-05T20:23:30.879Z"
   },
   {
    "duration": 40,
    "start_time": "2024-05-05T20:23:30.899Z"
   },
   {
    "duration": 25,
    "start_time": "2024-05-05T20:23:30.940Z"
   },
   {
    "duration": 54,
    "start_time": "2024-05-05T20:23:30.967Z"
   },
   {
    "duration": 41,
    "start_time": "2024-05-05T20:23:31.025Z"
   },
   {
    "duration": 261,
    "start_time": "2024-05-05T20:23:31.068Z"
   },
   {
    "duration": 7,
    "start_time": "2024-05-05T20:23:31.330Z"
   },
   {
    "duration": 91,
    "start_time": "2024-05-05T20:23:31.338Z"
   },
   {
    "duration": 214,
    "start_time": "2024-05-05T20:23:31.430Z"
   },
   {
    "duration": 13,
    "start_time": "2024-05-05T20:23:31.646Z"
   },
   {
    "duration": 7,
    "start_time": "2024-05-05T20:23:31.660Z"
   },
   {
    "duration": 5,
    "start_time": "2024-05-05T20:23:31.682Z"
   },
   {
    "duration": 8,
    "start_time": "2024-05-05T20:23:31.689Z"
   },
   {
    "duration": 176,
    "start_time": "2024-05-05T20:23:31.698Z"
   },
   {
    "duration": 11,
    "start_time": "2024-05-05T20:23:31.876Z"
   },
   {
    "duration": 12,
    "start_time": "2024-05-05T20:23:31.888Z"
   },
   {
    "duration": 142,
    "start_time": "2024-05-05T20:23:31.903Z"
   },
   {
    "duration": 6,
    "start_time": "2024-05-05T20:23:32.047Z"
   },
   {
    "duration": 15,
    "start_time": "2024-05-05T20:23:32.055Z"
   },
   {
    "duration": 208,
    "start_time": "2024-05-05T20:23:32.073Z"
   },
   {
    "duration": 11,
    "start_time": "2024-05-05T20:23:32.283Z"
   },
   {
    "duration": 167,
    "start_time": "2024-05-05T20:23:32.296Z"
   },
   {
    "duration": 18,
    "start_time": "2024-05-05T20:23:32.466Z"
   },
   {
    "duration": 7,
    "start_time": "2024-05-05T20:23:32.486Z"
   },
   {
    "duration": 209,
    "start_time": "2024-05-05T20:23:32.494Z"
   },
   {
    "duration": 15,
    "start_time": "2024-05-05T20:23:32.705Z"
   },
   {
    "duration": 6,
    "start_time": "2024-05-05T20:23:32.722Z"
   },
   {
    "duration": 10,
    "start_time": "2024-05-05T20:23:32.729Z"
   },
   {
    "duration": 12,
    "start_time": "2024-05-05T20:23:32.740Z"
   },
   {
    "duration": 10,
    "start_time": "2024-05-05T20:23:32.754Z"
   },
   {
    "duration": 20,
    "start_time": "2024-05-05T20:23:32.766Z"
   },
   {
    "duration": 14,
    "start_time": "2024-05-05T20:23:32.788Z"
   },
   {
    "duration": 20,
    "start_time": "2024-05-05T20:23:32.804Z"
   },
   {
    "duration": 11,
    "start_time": "2024-05-05T20:23:32.825Z"
   },
   {
    "duration": 18,
    "start_time": "2024-05-05T20:23:32.838Z"
   },
   {
    "duration": 15,
    "start_time": "2024-05-05T20:23:32.858Z"
   },
   {
    "duration": 14,
    "start_time": "2024-05-05T20:23:32.875Z"
   },
   {
    "duration": 194,
    "start_time": "2024-05-05T20:23:32.891Z"
   },
   {
    "duration": 9,
    "start_time": "2024-05-05T20:23:33.087Z"
   },
   {
    "duration": 8,
    "start_time": "2024-05-05T20:23:33.097Z"
   },
   {
    "duration": 22,
    "start_time": "2024-05-05T20:23:33.106Z"
   },
   {
    "duration": 207,
    "start_time": "2024-05-05T20:23:33.130Z"
   },
   {
    "duration": 9,
    "start_time": "2024-05-05T20:23:33.339Z"
   },
   {
    "duration": 45,
    "start_time": "2024-05-05T20:23:33.350Z"
   },
   {
    "duration": 124,
    "start_time": "2024-05-05T20:23:33.397Z"
   },
   {
    "duration": 6,
    "start_time": "2024-05-05T20:23:33.523Z"
   },
   {
    "duration": 15,
    "start_time": "2024-05-05T20:23:33.530Z"
   },
   {
    "duration": 21,
    "start_time": "2024-05-05T20:23:33.547Z"
   },
   {
    "duration": 16,
    "start_time": "2024-05-05T20:23:33.569Z"
   },
   {
    "duration": 21,
    "start_time": "2024-05-05T20:23:33.587Z"
   },
   {
    "duration": 27,
    "start_time": "2024-05-05T20:23:33.609Z"
   },
   {
    "duration": 18,
    "start_time": "2024-05-05T20:23:33.638Z"
   },
   {
    "duration": 21,
    "start_time": "2024-05-05T20:23:33.658Z"
   },
   {
    "duration": 234,
    "start_time": "2024-05-05T20:23:33.680Z"
   },
   {
    "duration": 8,
    "start_time": "2024-05-05T20:23:33.917Z"
   },
   {
    "duration": 1416,
    "start_time": "2024-05-06T06:25:13.499Z"
   },
   {
    "duration": 225,
    "start_time": "2024-05-06T06:25:14.917Z"
   },
   {
    "duration": 16,
    "start_time": "2024-05-06T06:25:15.143Z"
   },
   {
    "duration": 28,
    "start_time": "2024-05-06T06:25:15.162Z"
   },
   {
    "duration": 26,
    "start_time": "2024-05-06T06:25:15.191Z"
   },
   {
    "duration": 21,
    "start_time": "2024-05-06T06:25:15.218Z"
   },
   {
    "duration": 14,
    "start_time": "2024-05-06T06:25:15.240Z"
   },
   {
    "duration": 21,
    "start_time": "2024-05-06T06:25:15.256Z"
   },
   {
    "duration": 27,
    "start_time": "2024-05-06T06:25:15.278Z"
   },
   {
    "duration": 17,
    "start_time": "2024-05-06T06:25:15.309Z"
   },
   {
    "duration": 11,
    "start_time": "2024-05-06T06:25:15.328Z"
   },
   {
    "duration": 22,
    "start_time": "2024-05-06T06:25:15.340Z"
   },
   {
    "duration": 33,
    "start_time": "2024-05-06T06:25:15.364Z"
   },
   {
    "duration": 20,
    "start_time": "2024-05-06T06:25:15.399Z"
   },
   {
    "duration": 11,
    "start_time": "2024-05-06T06:25:15.421Z"
   },
   {
    "duration": 40,
    "start_time": "2024-05-06T06:25:15.434Z"
   },
   {
    "duration": 39,
    "start_time": "2024-05-06T06:25:15.476Z"
   },
   {
    "duration": 21,
    "start_time": "2024-05-06T06:25:15.517Z"
   },
   {
    "duration": 16,
    "start_time": "2024-05-06T06:25:15.540Z"
   },
   {
    "duration": 27,
    "start_time": "2024-05-06T06:25:15.557Z"
   },
   {
    "duration": 13,
    "start_time": "2024-05-06T06:25:15.585Z"
   },
   {
    "duration": 11,
    "start_time": "2024-05-06T06:25:15.599Z"
   },
   {
    "duration": 19,
    "start_time": "2024-05-06T06:25:15.612Z"
   },
   {
    "duration": 35,
    "start_time": "2024-05-06T06:25:15.633Z"
   },
   {
    "duration": 37,
    "start_time": "2024-05-06T06:25:15.670Z"
   },
   {
    "duration": 21,
    "start_time": "2024-05-06T06:25:15.708Z"
   },
   {
    "duration": 40,
    "start_time": "2024-05-06T06:25:15.731Z"
   },
   {
    "duration": 25,
    "start_time": "2024-05-06T06:25:15.775Z"
   },
   {
    "duration": 19,
    "start_time": "2024-05-06T06:25:15.801Z"
   },
   {
    "duration": 194,
    "start_time": "2024-05-06T06:25:15.822Z"
   },
   {
    "duration": 8,
    "start_time": "2024-05-06T06:25:16.018Z"
   },
   {
    "duration": 27,
    "start_time": "2024-05-06T06:25:16.028Z"
   },
   {
    "duration": 191,
    "start_time": "2024-05-06T06:25:16.057Z"
   },
   {
    "duration": 14,
    "start_time": "2024-05-06T06:25:16.250Z"
   },
   {
    "duration": 23,
    "start_time": "2024-05-06T06:25:16.266Z"
   },
   {
    "duration": 19,
    "start_time": "2024-05-06T06:25:16.291Z"
   },
   {
    "duration": 5,
    "start_time": "2024-05-06T06:25:16.312Z"
   },
   {
    "duration": 168,
    "start_time": "2024-05-06T06:25:16.318Z"
   },
   {
    "duration": 7,
    "start_time": "2024-05-06T06:25:16.488Z"
   },
   {
    "duration": 18,
    "start_time": "2024-05-06T06:25:16.497Z"
   },
   {
    "duration": 146,
    "start_time": "2024-05-06T06:25:16.518Z"
   },
   {
    "duration": 18,
    "start_time": "2024-05-06T06:25:16.666Z"
   },
   {
    "duration": 18,
    "start_time": "2024-05-06T06:25:16.685Z"
   },
   {
    "duration": 179,
    "start_time": "2024-05-06T06:25:16.705Z"
   },
   {
    "duration": 9,
    "start_time": "2024-05-06T06:25:16.886Z"
   },
   {
    "duration": 132,
    "start_time": "2024-05-06T06:25:16.897Z"
   },
   {
    "duration": 5,
    "start_time": "2024-05-06T06:25:17.031Z"
   },
   {
    "duration": 5,
    "start_time": "2024-05-06T06:25:17.038Z"
   },
   {
    "duration": 184,
    "start_time": "2024-05-06T06:25:17.045Z"
   },
   {
    "duration": 18,
    "start_time": "2024-05-06T06:25:17.230Z"
   },
   {
    "duration": 3,
    "start_time": "2024-05-06T06:25:17.249Z"
   },
   {
    "duration": 10,
    "start_time": "2024-05-06T06:25:17.254Z"
   },
   {
    "duration": 5,
    "start_time": "2024-05-06T06:25:17.282Z"
   },
   {
    "duration": 5,
    "start_time": "2024-05-06T06:25:17.288Z"
   },
   {
    "duration": 12,
    "start_time": "2024-05-06T06:25:17.294Z"
   },
   {
    "duration": 14,
    "start_time": "2024-05-06T06:25:17.308Z"
   },
   {
    "duration": 6,
    "start_time": "2024-05-06T06:25:17.324Z"
   },
   {
    "duration": 4,
    "start_time": "2024-05-06T06:25:17.332Z"
   },
   {
    "duration": 45,
    "start_time": "2024-05-06T06:25:17.337Z"
   },
   {
    "duration": 9,
    "start_time": "2024-05-06T06:25:17.383Z"
   },
   {
    "duration": 10,
    "start_time": "2024-05-06T06:25:17.393Z"
   },
   {
    "duration": 199,
    "start_time": "2024-05-06T06:25:17.404Z"
   },
   {
    "duration": 9,
    "start_time": "2024-05-06T06:25:17.605Z"
   },
   {
    "duration": 19,
    "start_time": "2024-05-06T06:25:17.616Z"
   },
   {
    "duration": 12,
    "start_time": "2024-05-06T06:25:17.637Z"
   },
   {
    "duration": 206,
    "start_time": "2024-05-06T06:25:17.650Z"
   },
   {
    "duration": 10,
    "start_time": "2024-05-06T06:25:17.858Z"
   },
   {
    "duration": 35,
    "start_time": "2024-05-06T06:25:17.870Z"
   },
   {
    "duration": 149,
    "start_time": "2024-05-06T06:25:17.907Z"
   },
   {
    "duration": 6,
    "start_time": "2024-05-06T06:25:18.058Z"
   },
   {
    "duration": 17,
    "start_time": "2024-05-06T06:25:18.065Z"
   },
   {
    "duration": 13,
    "start_time": "2024-05-06T06:25:18.084Z"
   },
   {
    "duration": 6,
    "start_time": "2024-05-06T06:25:18.099Z"
   },
   {
    "duration": 16,
    "start_time": "2024-05-06T06:25:18.107Z"
   },
   {
    "duration": 19,
    "start_time": "2024-05-06T06:25:18.124Z"
   },
   {
    "duration": 7,
    "start_time": "2024-05-06T06:25:18.145Z"
   },
   {
    "duration": 37,
    "start_time": "2024-05-06T06:25:18.154Z"
   },
   {
    "duration": 221,
    "start_time": "2024-05-06T06:25:18.193Z"
   },
   {
    "duration": 6,
    "start_time": "2024-05-06T06:25:18.416Z"
   },
   {
    "duration": 43,
    "start_time": "2024-05-06T06:29:22.678Z"
   },
   {
    "duration": 5,
    "start_time": "2024-05-06T06:30:59.288Z"
   },
   {
    "duration": 6,
    "start_time": "2024-05-06T06:31:42.792Z"
   },
   {
    "duration": 1170,
    "start_time": "2024-05-06T06:38:41.009Z"
   },
   {
    "duration": 73,
    "start_time": "2024-05-06T06:38:42.182Z"
   },
   {
    "duration": 12,
    "start_time": "2024-05-06T06:38:42.257Z"
   },
   {
    "duration": 9,
    "start_time": "2024-05-06T06:38:42.271Z"
   },
   {
    "duration": 10,
    "start_time": "2024-05-06T06:38:42.282Z"
   },
   {
    "duration": 12,
    "start_time": "2024-05-06T06:38:42.294Z"
   },
   {
    "duration": 14,
    "start_time": "2024-05-06T06:38:42.308Z"
   },
   {
    "duration": 22,
    "start_time": "2024-05-06T06:38:42.324Z"
   },
   {
    "duration": 36,
    "start_time": "2024-05-06T06:38:42.348Z"
   },
   {
    "duration": 16,
    "start_time": "2024-05-06T06:38:42.386Z"
   },
   {
    "duration": 22,
    "start_time": "2024-05-06T06:38:42.403Z"
   },
   {
    "duration": 7,
    "start_time": "2024-05-06T06:38:42.426Z"
   },
   {
    "duration": 14,
    "start_time": "2024-05-06T06:38:42.434Z"
   },
   {
    "duration": 28,
    "start_time": "2024-05-06T06:38:42.450Z"
   },
   {
    "duration": 10,
    "start_time": "2024-05-06T06:38:42.480Z"
   },
   {
    "duration": 19,
    "start_time": "2024-05-06T06:38:42.491Z"
   },
   {
    "duration": 21,
    "start_time": "2024-05-06T06:38:42.513Z"
   },
   {
    "duration": 12,
    "start_time": "2024-05-06T06:38:42.536Z"
   },
   {
    "duration": 16,
    "start_time": "2024-05-06T06:38:42.550Z"
   },
   {
    "duration": 7,
    "start_time": "2024-05-06T06:38:42.567Z"
   },
   {
    "duration": 10,
    "start_time": "2024-05-06T06:38:42.575Z"
   },
   {
    "duration": 7,
    "start_time": "2024-05-06T06:38:42.587Z"
   },
   {
    "duration": 8,
    "start_time": "2024-05-06T06:38:42.596Z"
   },
   {
    "duration": 5,
    "start_time": "2024-05-06T06:38:42.605Z"
   },
   {
    "duration": 10,
    "start_time": "2024-05-06T06:38:42.612Z"
   },
   {
    "duration": 20,
    "start_time": "2024-05-06T06:38:42.624Z"
   },
   {
    "duration": 39,
    "start_time": "2024-05-06T06:38:42.645Z"
   },
   {
    "duration": 2,
    "start_time": "2024-05-06T06:38:42.689Z"
   },
   {
    "duration": 10,
    "start_time": "2024-05-06T06:38:42.692Z"
   },
   {
    "duration": 8,
    "start_time": "2024-05-06T06:38:42.704Z"
   },
   {
    "duration": 10,
    "start_time": "2024-05-06T06:38:42.714Z"
   },
   {
    "duration": 214,
    "start_time": "2024-05-06T06:38:42.726Z"
   },
   {
    "duration": 7,
    "start_time": "2024-05-06T06:38:42.941Z"
   },
   {
    "duration": 6,
    "start_time": "2024-05-06T06:38:42.950Z"
   },
   {
    "duration": 188,
    "start_time": "2024-05-06T06:38:42.957Z"
   },
   {
    "duration": 14,
    "start_time": "2024-05-06T06:38:43.146Z"
   },
   {
    "duration": 27,
    "start_time": "2024-05-06T06:38:43.162Z"
   },
   {
    "duration": 5,
    "start_time": "2024-05-06T06:38:43.192Z"
   },
   {
    "duration": 5,
    "start_time": "2024-05-06T06:38:43.199Z"
   },
   {
    "duration": 186,
    "start_time": "2024-05-06T06:38:43.206Z"
   },
   {
    "duration": 6,
    "start_time": "2024-05-06T06:38:43.394Z"
   },
   {
    "duration": 9,
    "start_time": "2024-05-06T06:38:43.402Z"
   },
   {
    "duration": 147,
    "start_time": "2024-05-06T06:38:43.412Z"
   },
   {
    "duration": 6,
    "start_time": "2024-05-06T06:38:43.560Z"
   },
   {
    "duration": 16,
    "start_time": "2024-05-06T06:38:43.567Z"
   },
   {
    "duration": 173,
    "start_time": "2024-05-06T06:38:43.585Z"
   },
   {
    "duration": 9,
    "start_time": "2024-05-06T06:38:43.759Z"
   },
   {
    "duration": 135,
    "start_time": "2024-05-06T06:38:43.769Z"
   },
   {
    "duration": 5,
    "start_time": "2024-05-06T06:38:43.905Z"
   },
   {
    "duration": 12,
    "start_time": "2024-05-06T06:38:43.912Z"
   },
   {
    "duration": 174,
    "start_time": "2024-05-06T06:38:43.926Z"
   },
   {
    "duration": 17,
    "start_time": "2024-05-06T06:38:44.102Z"
   },
   {
    "duration": 3,
    "start_time": "2024-05-06T06:38:44.121Z"
   },
   {
    "duration": 5,
    "start_time": "2024-05-06T06:38:44.125Z"
   },
   {
    "duration": 5,
    "start_time": "2024-05-06T06:38:44.132Z"
   },
   {
    "duration": 4,
    "start_time": "2024-05-06T06:38:44.139Z"
   },
   {
    "duration": 41,
    "start_time": "2024-05-06T06:38:44.144Z"
   },
   {
    "duration": 12,
    "start_time": "2024-05-06T06:38:44.187Z"
   },
   {
    "duration": 8,
    "start_time": "2024-05-06T06:38:44.200Z"
   },
   {
    "duration": 6,
    "start_time": "2024-05-06T06:38:44.209Z"
   },
   {
    "duration": 11,
    "start_time": "2024-05-06T06:38:44.216Z"
   },
   {
    "duration": 8,
    "start_time": "2024-05-06T06:38:44.228Z"
   },
   {
    "duration": 46,
    "start_time": "2024-05-06T06:38:44.237Z"
   },
   {
    "duration": 200,
    "start_time": "2024-05-06T06:38:44.285Z"
   },
   {
    "duration": 9,
    "start_time": "2024-05-06T06:38:44.486Z"
   },
   {
    "duration": 27,
    "start_time": "2024-05-06T06:38:44.496Z"
   },
   {
    "duration": 12,
    "start_time": "2024-05-06T06:38:44.525Z"
   },
   {
    "duration": 184,
    "start_time": "2024-05-06T06:38:44.539Z"
   },
   {
    "duration": 10,
    "start_time": "2024-05-06T06:38:44.724Z"
   },
   {
    "duration": 13,
    "start_time": "2024-05-06T06:38:44.735Z"
   },
   {
    "duration": 127,
    "start_time": "2024-05-06T06:38:44.749Z"
   },
   {
    "duration": 6,
    "start_time": "2024-05-06T06:38:44.882Z"
   },
   {
    "duration": 5,
    "start_time": "2024-05-06T06:38:44.889Z"
   },
   {
    "duration": 13,
    "start_time": "2024-05-06T06:38:44.896Z"
   },
   {
    "duration": 5,
    "start_time": "2024-05-06T06:38:44.911Z"
   },
   {
    "duration": 14,
    "start_time": "2024-05-06T06:38:44.917Z"
   },
   {
    "duration": 10,
    "start_time": "2024-05-06T06:38:44.933Z"
   },
   {
    "duration": 37,
    "start_time": "2024-05-06T06:38:44.945Z"
   },
   {
    "duration": 11,
    "start_time": "2024-05-06T06:38:44.986Z"
   },
   {
    "duration": 253,
    "start_time": "2024-05-06T06:38:44.999Z"
   },
   {
    "duration": 6,
    "start_time": "2024-05-06T06:38:45.254Z"
   },
   {
    "duration": 165,
    "start_time": "2024-05-06T06:41:11.975Z"
   },
   {
    "duration": 160,
    "start_time": "2024-05-06T06:41:28.900Z"
   },
   {
    "duration": 163,
    "start_time": "2024-05-06T06:41:48.753Z"
   },
   {
    "duration": 171,
    "start_time": "2024-05-06T06:41:56.685Z"
   },
   {
    "duration": 166,
    "start_time": "2024-05-06T06:42:28.118Z"
   },
   {
    "duration": 174,
    "start_time": "2024-05-06T06:42:54.204Z"
   },
   {
    "duration": 174,
    "start_time": "2024-05-06T06:43:15.293Z"
   },
   {
    "duration": 13075,
    "start_time": "2024-05-06T06:47:21.605Z"
   },
   {
    "duration": 202,
    "start_time": "2024-05-06T06:47:47.238Z"
   },
   {
    "duration": 10,
    "start_time": "2024-05-06T06:52:13.988Z"
   },
   {
    "duration": 109,
    "start_time": "2024-05-06T06:52:27.065Z"
   },
   {
    "duration": 12,
    "start_time": "2024-05-06T06:54:18.093Z"
   },
   {
    "duration": 10,
    "start_time": "2024-05-06T06:54:36.941Z"
   },
   {
    "duration": 11,
    "start_time": "2024-05-06T06:55:01.117Z"
   },
   {
    "duration": 110,
    "start_time": "2024-05-06T06:57:47.409Z"
   },
   {
    "duration": 110,
    "start_time": "2024-05-06T06:58:09.710Z"
   },
   {
    "duration": 123,
    "start_time": "2024-05-06T06:59:02.059Z"
   },
   {
    "duration": 118,
    "start_time": "2024-05-06T06:59:37.573Z"
   },
   {
    "duration": 113,
    "start_time": "2024-05-06T06:59:48.537Z"
   },
   {
    "duration": 11,
    "start_time": "2024-05-06T06:59:58.740Z"
   },
   {
    "duration": 10,
    "start_time": "2024-05-06T07:00:15.972Z"
   },
   {
    "duration": 296,
    "start_time": "2024-05-06T07:00:35.052Z"
   },
   {
    "duration": 127,
    "start_time": "2024-05-06T07:01:03.478Z"
   },
   {
    "duration": 265,
    "start_time": "2024-05-06T07:04:14.986Z"
   },
   {
    "duration": 13,
    "start_time": "2024-05-06T07:05:39.789Z"
   },
   {
    "duration": 87,
    "start_time": "2024-05-06T07:05:56.673Z"
   },
   {
    "duration": 89,
    "start_time": "2024-05-06T07:06:26.665Z"
   },
   {
    "duration": 89,
    "start_time": "2024-05-06T07:06:44.011Z"
   },
   {
    "duration": 97,
    "start_time": "2024-05-06T07:07:02.224Z"
   },
   {
    "duration": 102,
    "start_time": "2024-05-06T07:08:26.393Z"
   },
   {
    "duration": 122,
    "start_time": "2024-05-06T07:09:33.813Z"
   },
   {
    "duration": 117,
    "start_time": "2024-05-06T07:11:07.050Z"
   },
   {
    "duration": 155,
    "start_time": "2024-05-06T07:13:48.127Z"
   },
   {
    "duration": 148,
    "start_time": "2024-05-06T07:14:02.249Z"
   },
   {
    "duration": 159,
    "start_time": "2024-05-06T07:14:13.057Z"
   },
   {
    "duration": 170,
    "start_time": "2024-05-06T07:15:09.832Z"
   },
   {
    "duration": 128,
    "start_time": "2024-05-06T07:18:00.513Z"
   },
   {
    "duration": 173,
    "start_time": "2024-05-06T07:18:54.099Z"
   },
   {
    "duration": 43,
    "start_time": "2024-05-06T07:19:13.264Z"
   },
   {
    "duration": 135,
    "start_time": "2024-05-06T07:20:49.192Z"
   },
   {
    "duration": 186,
    "start_time": "2024-05-06T07:21:59.025Z"
   },
   {
    "duration": 14,
    "start_time": "2024-05-06T07:24:43.915Z"
   },
   {
    "duration": 186,
    "start_time": "2024-05-06T07:28:00.916Z"
   },
   {
    "duration": 427,
    "start_time": "2024-05-06T07:29:17.539Z"
   },
   {
    "duration": 4,
    "start_time": "2024-05-06T07:30:46.280Z"
   },
   {
    "duration": 14,
    "start_time": "2024-05-06T07:30:50.068Z"
   },
   {
    "duration": 33,
    "start_time": "2024-05-06T07:30:53.562Z"
   },
   {
    "duration": 6,
    "start_time": "2024-05-06T07:30:55.938Z"
   },
   {
    "duration": 1200,
    "start_time": "2024-05-06T07:32:54.100Z"
   },
   {
    "duration": 75,
    "start_time": "2024-05-06T07:32:55.302Z"
   },
   {
    "duration": 12,
    "start_time": "2024-05-06T07:32:55.379Z"
   },
   {
    "duration": 29,
    "start_time": "2024-05-06T07:32:55.393Z"
   },
   {
    "duration": 39,
    "start_time": "2024-05-06T07:32:55.423Z"
   },
   {
    "duration": 20,
    "start_time": "2024-05-06T07:32:55.464Z"
   },
   {
    "duration": 25,
    "start_time": "2024-05-06T07:32:55.485Z"
   },
   {
    "duration": 9,
    "start_time": "2024-05-06T07:32:55.512Z"
   },
   {
    "duration": 28,
    "start_time": "2024-05-06T07:32:55.523Z"
   },
   {
    "duration": 13,
    "start_time": "2024-05-06T07:32:55.554Z"
   },
   {
    "duration": 6,
    "start_time": "2024-05-06T07:32:55.568Z"
   },
   {
    "duration": 24,
    "start_time": "2024-05-06T07:32:55.576Z"
   },
   {
    "duration": 12,
    "start_time": "2024-05-06T07:32:55.602Z"
   },
   {
    "duration": 13,
    "start_time": "2024-05-06T07:32:55.615Z"
   },
   {
    "duration": 18,
    "start_time": "2024-05-06T07:32:55.630Z"
   },
   {
    "duration": 34,
    "start_time": "2024-05-06T07:32:55.650Z"
   },
   {
    "duration": 13,
    "start_time": "2024-05-06T07:32:55.685Z"
   },
   {
    "duration": 28,
    "start_time": "2024-05-06T07:32:55.700Z"
   },
   {
    "duration": 17,
    "start_time": "2024-05-06T07:32:55.729Z"
   },
   {
    "duration": 22,
    "start_time": "2024-05-06T07:32:55.747Z"
   },
   {
    "duration": 19,
    "start_time": "2024-05-06T07:32:55.770Z"
   },
   {
    "duration": 24,
    "start_time": "2024-05-06T07:32:55.790Z"
   },
   {
    "duration": 23,
    "start_time": "2024-05-06T07:32:55.815Z"
   },
   {
    "duration": 15,
    "start_time": "2024-05-06T07:32:55.839Z"
   },
   {
    "duration": 25,
    "start_time": "2024-05-06T07:32:55.855Z"
   },
   {
    "duration": 29,
    "start_time": "2024-05-06T07:32:55.882Z"
   },
   {
    "duration": 7,
    "start_time": "2024-05-06T07:32:55.913Z"
   },
   {
    "duration": 17,
    "start_time": "2024-05-06T07:32:55.924Z"
   },
   {
    "duration": 25,
    "start_time": "2024-05-06T07:32:55.942Z"
   },
   {
    "duration": 40,
    "start_time": "2024-05-06T07:32:55.968Z"
   },
   {
    "duration": 35,
    "start_time": "2024-05-06T07:32:56.010Z"
   },
   {
    "duration": 202,
    "start_time": "2024-05-06T07:32:56.046Z"
   },
   {
    "duration": 179,
    "start_time": "2024-05-06T07:32:56.250Z"
   },
   {
    "duration": 7,
    "start_time": "2024-05-06T07:32:56.431Z"
   },
   {
    "duration": 34,
    "start_time": "2024-05-06T07:32:56.439Z"
   },
   {
    "duration": 168,
    "start_time": "2024-05-06T07:32:56.475Z"
   },
   {
    "duration": 125,
    "start_time": "2024-05-06T07:32:56.645Z"
   },
   {
    "duration": 12,
    "start_time": "2024-05-06T07:32:56.781Z"
   },
   {
    "duration": 24,
    "start_time": "2024-05-06T07:32:56.795Z"
   },
   {
    "duration": 24,
    "start_time": "2024-05-06T07:32:56.820Z"
   },
   {
    "duration": 17,
    "start_time": "2024-05-06T07:32:56.846Z"
   },
   {
    "duration": 159,
    "start_time": "2024-05-06T07:32:56.865Z"
   },
   {
    "duration": 7,
    "start_time": "2024-05-06T07:32:57.026Z"
   },
   {
    "duration": 15,
    "start_time": "2024-05-06T07:32:57.034Z"
   },
   {
    "duration": 172,
    "start_time": "2024-05-06T07:32:57.051Z"
   },
   {
    "duration": 5,
    "start_time": "2024-05-06T07:32:57.225Z"
   },
   {
    "duration": 4,
    "start_time": "2024-05-06T07:32:57.232Z"
   },
   {
    "duration": 202,
    "start_time": "2024-05-06T07:32:57.238Z"
   },
   {
    "duration": 9,
    "start_time": "2024-05-06T07:32:57.442Z"
   },
   {
    "duration": 145,
    "start_time": "2024-05-06T07:32:57.452Z"
   },
   {
    "duration": 4,
    "start_time": "2024-05-06T07:32:57.599Z"
   },
   {
    "duration": 6,
    "start_time": "2024-05-06T07:32:57.605Z"
   },
   {
    "duration": 185,
    "start_time": "2024-05-06T07:32:57.613Z"
   },
   {
    "duration": 18,
    "start_time": "2024-05-06T07:32:57.800Z"
   },
   {
    "duration": 10,
    "start_time": "2024-05-06T07:32:57.819Z"
   },
   {
    "duration": 45,
    "start_time": "2024-05-06T07:32:57.830Z"
   },
   {
    "duration": 16,
    "start_time": "2024-05-06T07:32:57.877Z"
   },
   {
    "duration": 20,
    "start_time": "2024-05-06T07:32:57.895Z"
   },
   {
    "duration": 29,
    "start_time": "2024-05-06T07:32:57.917Z"
   },
   {
    "duration": 118,
    "start_time": "2024-05-06T07:32:57.948Z"
   },
   {
    "duration": 45,
    "start_time": "2024-05-06T07:32:58.067Z"
   },
   {
    "duration": 21,
    "start_time": "2024-05-06T07:32:58.113Z"
   },
   {
    "duration": 25,
    "start_time": "2024-05-06T07:32:58.136Z"
   },
   {
    "duration": 14,
    "start_time": "2024-05-06T07:32:58.163Z"
   },
   {
    "duration": 24,
    "start_time": "2024-05-06T07:32:58.179Z"
   },
   {
    "duration": 20,
    "start_time": "2024-05-06T07:32:58.205Z"
   },
   {
    "duration": 208,
    "start_time": "2024-05-06T07:32:58.227Z"
   },
   {
    "duration": 9,
    "start_time": "2024-05-06T07:32:58.436Z"
   },
   {
    "duration": 37,
    "start_time": "2024-05-06T07:32:58.446Z"
   },
   {
    "duration": 27,
    "start_time": "2024-05-06T07:32:58.485Z"
   },
   {
    "duration": 192,
    "start_time": "2024-05-06T07:32:58.514Z"
   },
   {
    "duration": 12,
    "start_time": "2024-05-06T07:32:58.708Z"
   },
   {
    "duration": 112,
    "start_time": "2024-05-06T07:32:58.721Z"
   },
   {
    "duration": 0,
    "start_time": "2024-05-06T07:32:58.835Z"
   },
   {
    "duration": 0,
    "start_time": "2024-05-06T07:32:58.836Z"
   },
   {
    "duration": 0,
    "start_time": "2024-05-06T07:32:58.837Z"
   },
   {
    "duration": 0,
    "start_time": "2024-05-06T07:32:58.838Z"
   },
   {
    "duration": 0,
    "start_time": "2024-05-06T07:32:58.839Z"
   },
   {
    "duration": 0,
    "start_time": "2024-05-06T07:32:58.840Z"
   },
   {
    "duration": 0,
    "start_time": "2024-05-06T07:32:58.841Z"
   },
   {
    "duration": 0,
    "start_time": "2024-05-06T07:32:58.842Z"
   },
   {
    "duration": 0,
    "start_time": "2024-05-06T07:32:58.843Z"
   },
   {
    "duration": 0,
    "start_time": "2024-05-06T07:32:58.844Z"
   },
   {
    "duration": 0,
    "start_time": "2024-05-06T07:32:58.845Z"
   },
   {
    "duration": 1176,
    "start_time": "2024-05-06T07:34:00.590Z"
   },
   {
    "duration": 74,
    "start_time": "2024-05-06T07:34:01.768Z"
   },
   {
    "duration": 14,
    "start_time": "2024-05-06T07:34:01.843Z"
   },
   {
    "duration": 15,
    "start_time": "2024-05-06T07:34:01.860Z"
   },
   {
    "duration": 42,
    "start_time": "2024-05-06T07:34:01.877Z"
   },
   {
    "duration": 53,
    "start_time": "2024-05-06T07:34:01.921Z"
   },
   {
    "duration": 43,
    "start_time": "2024-05-06T07:34:01.976Z"
   },
   {
    "duration": 24,
    "start_time": "2024-05-06T07:34:02.021Z"
   },
   {
    "duration": 48,
    "start_time": "2024-05-06T07:34:02.047Z"
   },
   {
    "duration": 22,
    "start_time": "2024-05-06T07:34:02.098Z"
   },
   {
    "duration": 29,
    "start_time": "2024-05-06T07:34:02.121Z"
   },
   {
    "duration": 7,
    "start_time": "2024-05-06T07:34:02.152Z"
   },
   {
    "duration": 7,
    "start_time": "2024-05-06T07:34:02.161Z"
   },
   {
    "duration": 13,
    "start_time": "2024-05-06T07:34:02.170Z"
   },
   {
    "duration": 42,
    "start_time": "2024-05-06T07:34:02.185Z"
   },
   {
    "duration": 14,
    "start_time": "2024-05-06T07:34:02.229Z"
   },
   {
    "duration": 7,
    "start_time": "2024-05-06T07:34:02.244Z"
   },
   {
    "duration": 7,
    "start_time": "2024-05-06T07:34:02.252Z"
   },
   {
    "duration": 9,
    "start_time": "2024-05-06T07:34:02.260Z"
   },
   {
    "duration": 5,
    "start_time": "2024-05-06T07:34:02.271Z"
   },
   {
    "duration": 22,
    "start_time": "2024-05-06T07:34:02.278Z"
   },
   {
    "duration": 12,
    "start_time": "2024-05-06T07:34:02.301Z"
   },
   {
    "duration": 9,
    "start_time": "2024-05-06T07:34:02.315Z"
   },
   {
    "duration": 21,
    "start_time": "2024-05-06T07:34:02.325Z"
   },
   {
    "duration": 8,
    "start_time": "2024-05-06T07:34:02.348Z"
   },
   {
    "duration": 31,
    "start_time": "2024-05-06T07:34:02.358Z"
   },
   {
    "duration": 12,
    "start_time": "2024-05-06T07:34:02.391Z"
   },
   {
    "duration": 12,
    "start_time": "2024-05-06T07:34:02.407Z"
   },
   {
    "duration": 19,
    "start_time": "2024-05-06T07:34:02.421Z"
   },
   {
    "duration": 19,
    "start_time": "2024-05-06T07:34:02.442Z"
   },
   {
    "duration": 43,
    "start_time": "2024-05-06T07:34:02.463Z"
   },
   {
    "duration": 217,
    "start_time": "2024-05-06T07:34:02.508Z"
   },
   {
    "duration": 181,
    "start_time": "2024-05-06T07:34:02.726Z"
   },
   {
    "duration": 7,
    "start_time": "2024-05-06T07:34:02.908Z"
   },
   {
    "duration": 7,
    "start_time": "2024-05-06T07:34:02.917Z"
   },
   {
    "duration": 184,
    "start_time": "2024-05-06T07:34:02.926Z"
   },
   {
    "duration": 137,
    "start_time": "2024-05-06T07:34:03.112Z"
   },
   {
    "duration": 13,
    "start_time": "2024-05-06T07:34:03.251Z"
   },
   {
    "duration": 21,
    "start_time": "2024-05-06T07:34:03.266Z"
   },
   {
    "duration": 9,
    "start_time": "2024-05-06T07:34:03.289Z"
   },
   {
    "duration": 4,
    "start_time": "2024-05-06T07:34:03.300Z"
   },
   {
    "duration": 180,
    "start_time": "2024-05-06T07:34:03.306Z"
   },
   {
    "duration": 6,
    "start_time": "2024-05-06T07:34:03.488Z"
   },
   {
    "duration": 20,
    "start_time": "2024-05-06T07:34:03.495Z"
   },
   {
    "duration": 145,
    "start_time": "2024-05-06T07:34:03.516Z"
   },
   {
    "duration": 19,
    "start_time": "2024-05-06T07:34:03.663Z"
   },
   {
    "duration": 5,
    "start_time": "2024-05-06T07:34:03.684Z"
   },
   {
    "duration": 182,
    "start_time": "2024-05-06T07:34:03.690Z"
   },
   {
    "duration": 15,
    "start_time": "2024-05-06T07:34:03.874Z"
   },
   {
    "duration": 175,
    "start_time": "2024-05-06T07:34:03.891Z"
   },
   {
    "duration": 14,
    "start_time": "2024-05-06T07:34:04.068Z"
   },
   {
    "duration": 6,
    "start_time": "2024-05-06T07:34:04.083Z"
   },
   {
    "duration": 190,
    "start_time": "2024-05-06T07:34:04.090Z"
   },
   {
    "duration": 17,
    "start_time": "2024-05-06T07:34:04.282Z"
   },
   {
    "duration": 4,
    "start_time": "2024-05-06T07:34:04.300Z"
   },
   {
    "duration": 3,
    "start_time": "2024-05-06T07:34:04.305Z"
   },
   {
    "duration": 5,
    "start_time": "2024-05-06T07:34:04.310Z"
   },
   {
    "duration": 5,
    "start_time": "2024-05-06T07:34:04.316Z"
   },
   {
    "duration": 10,
    "start_time": "2024-05-06T07:34:04.322Z"
   },
   {
    "duration": 127,
    "start_time": "2024-05-06T07:34:04.334Z"
   },
   {
    "duration": 9,
    "start_time": "2024-05-06T07:34:04.463Z"
   },
   {
    "duration": 9,
    "start_time": "2024-05-06T07:34:04.474Z"
   },
   {
    "duration": 13,
    "start_time": "2024-05-06T07:34:04.484Z"
   },
   {
    "duration": 7,
    "start_time": "2024-05-06T07:34:04.499Z"
   },
   {
    "duration": 7,
    "start_time": "2024-05-06T07:34:04.508Z"
   },
   {
    "duration": 11,
    "start_time": "2024-05-06T07:34:04.517Z"
   },
   {
    "duration": 228,
    "start_time": "2024-05-06T07:34:04.529Z"
   },
   {
    "duration": 9,
    "start_time": "2024-05-06T07:34:04.759Z"
   },
   {
    "duration": 18,
    "start_time": "2024-05-06T07:34:04.769Z"
   },
   {
    "duration": 10,
    "start_time": "2024-05-06T07:34:04.789Z"
   },
   {
    "duration": 208,
    "start_time": "2024-05-06T07:34:04.801Z"
   },
   {
    "duration": 11,
    "start_time": "2024-05-06T07:34:05.010Z"
   },
   {
    "duration": 118,
    "start_time": "2024-05-06T07:34:05.023Z"
   },
   {
    "duration": 0,
    "start_time": "2024-05-06T07:34:05.142Z"
   },
   {
    "duration": 0,
    "start_time": "2024-05-06T07:34:05.144Z"
   },
   {
    "duration": 0,
    "start_time": "2024-05-06T07:34:05.145Z"
   },
   {
    "duration": 0,
    "start_time": "2024-05-06T07:34:05.146Z"
   },
   {
    "duration": 0,
    "start_time": "2024-05-06T07:34:05.147Z"
   },
   {
    "duration": 0,
    "start_time": "2024-05-06T07:34:05.149Z"
   },
   {
    "duration": 0,
    "start_time": "2024-05-06T07:34:05.150Z"
   },
   {
    "duration": 0,
    "start_time": "2024-05-06T07:34:05.151Z"
   },
   {
    "duration": 0,
    "start_time": "2024-05-06T07:34:05.152Z"
   },
   {
    "duration": 0,
    "start_time": "2024-05-06T07:34:05.154Z"
   },
   {
    "duration": 0,
    "start_time": "2024-05-06T07:34:05.156Z"
   },
   {
    "duration": 4,
    "start_time": "2024-05-06T07:46:45.507Z"
   },
   {
    "duration": 1206,
    "start_time": "2024-05-06T07:49:02.632Z"
   },
   {
    "duration": 83,
    "start_time": "2024-05-06T07:49:03.840Z"
   },
   {
    "duration": 12,
    "start_time": "2024-05-06T07:49:03.924Z"
   },
   {
    "duration": 9,
    "start_time": "2024-05-06T07:49:03.938Z"
   },
   {
    "duration": 7,
    "start_time": "2024-05-06T07:49:03.948Z"
   },
   {
    "duration": 12,
    "start_time": "2024-05-06T07:49:03.956Z"
   },
   {
    "duration": 25,
    "start_time": "2024-05-06T07:49:03.969Z"
   },
   {
    "duration": 29,
    "start_time": "2024-05-06T07:49:03.995Z"
   },
   {
    "duration": 53,
    "start_time": "2024-05-06T07:49:04.026Z"
   },
   {
    "duration": 23,
    "start_time": "2024-05-06T07:49:04.081Z"
   },
   {
    "duration": 9,
    "start_time": "2024-05-06T07:49:04.106Z"
   },
   {
    "duration": 50,
    "start_time": "2024-05-06T07:49:04.116Z"
   },
   {
    "duration": 18,
    "start_time": "2024-05-06T07:49:04.168Z"
   },
   {
    "duration": 44,
    "start_time": "2024-05-06T07:49:04.191Z"
   },
   {
    "duration": 23,
    "start_time": "2024-05-06T07:49:04.237Z"
   },
   {
    "duration": 13,
    "start_time": "2024-05-06T07:49:04.262Z"
   },
   {
    "duration": 27,
    "start_time": "2024-05-06T07:49:04.276Z"
   },
   {
    "duration": 9,
    "start_time": "2024-05-06T07:49:04.305Z"
   },
   {
    "duration": 26,
    "start_time": "2024-05-06T07:49:04.316Z"
   },
   {
    "duration": 5,
    "start_time": "2024-05-06T07:49:04.344Z"
   },
   {
    "duration": 13,
    "start_time": "2024-05-06T07:49:04.350Z"
   },
   {
    "duration": 32,
    "start_time": "2024-05-06T07:49:04.365Z"
   },
   {
    "duration": 10,
    "start_time": "2024-05-06T07:49:04.398Z"
   },
   {
    "duration": 28,
    "start_time": "2024-05-06T07:49:04.409Z"
   },
   {
    "duration": 37,
    "start_time": "2024-05-06T07:49:04.438Z"
   },
   {
    "duration": 35,
    "start_time": "2024-05-06T07:49:04.476Z"
   },
   {
    "duration": 22,
    "start_time": "2024-05-06T07:49:04.512Z"
   },
   {
    "duration": 17,
    "start_time": "2024-05-06T07:49:04.539Z"
   },
   {
    "duration": 45,
    "start_time": "2024-05-06T07:49:04.558Z"
   },
   {
    "duration": 8,
    "start_time": "2024-05-06T07:49:04.604Z"
   },
   {
    "duration": 36,
    "start_time": "2024-05-06T07:49:04.613Z"
   },
   {
    "duration": 204,
    "start_time": "2024-05-06T07:49:04.651Z"
   },
   {
    "duration": 192,
    "start_time": "2024-05-06T07:49:04.857Z"
   },
   {
    "duration": 7,
    "start_time": "2024-05-06T07:49:05.050Z"
   },
   {
    "duration": 8,
    "start_time": "2024-05-06T07:49:05.059Z"
   },
   {
    "duration": 182,
    "start_time": "2024-05-06T07:49:05.088Z"
   },
   {
    "duration": 144,
    "start_time": "2024-05-06T07:49:05.272Z"
   },
   {
    "duration": 14,
    "start_time": "2024-05-06T07:49:05.418Z"
   },
   {
    "duration": 17,
    "start_time": "2024-05-06T07:49:05.434Z"
   },
   {
    "duration": 19,
    "start_time": "2024-05-06T07:49:05.452Z"
   },
   {
    "duration": 19,
    "start_time": "2024-05-06T07:49:05.473Z"
   },
   {
    "duration": 161,
    "start_time": "2024-05-06T07:49:05.495Z"
   },
   {
    "duration": 7,
    "start_time": "2024-05-06T07:49:05.658Z"
   },
   {
    "duration": 33,
    "start_time": "2024-05-06T07:49:05.667Z"
   },
   {
    "duration": 159,
    "start_time": "2024-05-06T07:49:05.701Z"
   },
   {
    "duration": 6,
    "start_time": "2024-05-06T07:49:05.862Z"
   },
   {
    "duration": 9,
    "start_time": "2024-05-06T07:49:05.870Z"
   },
   {
    "duration": 210,
    "start_time": "2024-05-06T07:49:05.885Z"
   },
   {
    "duration": 10,
    "start_time": "2024-05-06T07:49:06.097Z"
   },
   {
    "duration": 144,
    "start_time": "2024-05-06T07:49:06.109Z"
   },
   {
    "duration": 5,
    "start_time": "2024-05-06T07:49:06.255Z"
   },
   {
    "duration": 6,
    "start_time": "2024-05-06T07:49:06.262Z"
   },
   {
    "duration": 188,
    "start_time": "2024-05-06T07:49:06.281Z"
   },
   {
    "duration": 22,
    "start_time": "2024-05-06T07:49:06.470Z"
   },
   {
    "duration": 23,
    "start_time": "2024-05-06T07:49:06.494Z"
   },
   {
    "duration": 4,
    "start_time": "2024-05-06T07:49:06.519Z"
   },
   {
    "duration": 17,
    "start_time": "2024-05-06T07:49:06.524Z"
   },
   {
    "duration": 20,
    "start_time": "2024-05-06T07:49:06.543Z"
   },
   {
    "duration": 9,
    "start_time": "2024-05-06T07:49:06.564Z"
   },
   {
    "duration": 20,
    "start_time": "2024-05-06T07:49:06.574Z"
   },
   {
    "duration": 99,
    "start_time": "2024-05-06T07:49:06.598Z"
   },
   {
    "duration": 7,
    "start_time": "2024-05-06T07:49:06.699Z"
   },
   {
    "duration": 4,
    "start_time": "2024-05-06T07:49:06.708Z"
   },
   {
    "duration": 14,
    "start_time": "2024-05-06T07:49:06.713Z"
   },
   {
    "duration": 12,
    "start_time": "2024-05-06T07:49:06.729Z"
   },
   {
    "duration": 12,
    "start_time": "2024-05-06T07:49:06.743Z"
   },
   {
    "duration": 34,
    "start_time": "2024-05-06T07:49:06.757Z"
   },
   {
    "duration": 238,
    "start_time": "2024-05-06T07:49:06.792Z"
   },
   {
    "duration": 9,
    "start_time": "2024-05-06T07:49:07.032Z"
   },
   {
    "duration": 8,
    "start_time": "2024-05-06T07:49:07.042Z"
   },
   {
    "duration": 10,
    "start_time": "2024-05-06T07:49:07.052Z"
   },
   {
    "duration": 224,
    "start_time": "2024-05-06T07:49:07.084Z"
   },
   {
    "duration": 11,
    "start_time": "2024-05-06T07:49:07.310Z"
   },
   {
    "duration": 27,
    "start_time": "2024-05-06T07:49:07.323Z"
   },
   {
    "duration": 44,
    "start_time": "2024-05-06T07:49:07.352Z"
   },
   {
    "duration": 7,
    "start_time": "2024-05-06T07:49:07.397Z"
   },
   {
    "duration": 17,
    "start_time": "2024-05-06T07:49:07.406Z"
   },
   {
    "duration": 7,
    "start_time": "2024-05-06T07:49:07.425Z"
   },
   {
    "duration": 12,
    "start_time": "2024-05-06T07:49:07.434Z"
   },
   {
    "duration": 8,
    "start_time": "2024-05-06T07:49:07.448Z"
   },
   {
    "duration": 11,
    "start_time": "2024-05-06T07:49:07.482Z"
   },
   {
    "duration": 10,
    "start_time": "2024-05-06T07:49:07.501Z"
   },
   {
    "duration": 228,
    "start_time": "2024-05-06T07:49:07.513Z"
   },
   {
    "duration": 5,
    "start_time": "2024-05-06T07:49:07.743Z"
   },
   {
    "duration": 210,
    "start_time": "2024-05-06T07:55:46.847Z"
   },
   {
    "duration": 112,
    "start_time": "2024-05-06T08:31:06.770Z"
   },
   {
    "duration": 14,
    "start_time": "2024-05-06T08:31:34.282Z"
   },
   {
    "duration": 16,
    "start_time": "2024-05-06T08:31:59.609Z"
   },
   {
    "duration": 15,
    "start_time": "2024-05-06T08:33:19.280Z"
   },
   {
    "duration": 8,
    "start_time": "2024-05-06T08:36:16.611Z"
   },
   {
    "duration": 8,
    "start_time": "2024-05-06T08:36:34.901Z"
   },
   {
    "duration": 18,
    "start_time": "2024-05-06T08:36:52.664Z"
   },
   {
    "duration": 8,
    "start_time": "2024-05-06T08:37:08.338Z"
   },
   {
    "duration": 8,
    "start_time": "2024-05-06T08:37:31.256Z"
   },
   {
    "duration": 44,
    "start_time": "2024-05-06T08:40:27.121Z"
   },
   {
    "duration": 9,
    "start_time": "2024-05-06T08:41:02.461Z"
   },
   {
    "duration": 8,
    "start_time": "2024-05-06T08:41:17.765Z"
   },
   {
    "duration": 12,
    "start_time": "2024-05-06T08:42:23.678Z"
   },
   {
    "duration": 3,
    "start_time": "2024-05-06T08:42:36.800Z"
   },
   {
    "duration": 16,
    "start_time": "2024-05-06T08:42:44.111Z"
   },
   {
    "duration": 8,
    "start_time": "2024-05-06T08:47:47.615Z"
   },
   {
    "duration": 43,
    "start_time": "2024-05-06T08:48:47.391Z"
   },
   {
    "duration": 42,
    "start_time": "2024-05-06T08:49:08.504Z"
   },
   {
    "duration": 48,
    "start_time": "2024-05-06T08:49:31.048Z"
   },
   {
    "duration": 15,
    "start_time": "2024-05-06T08:50:04.009Z"
   },
   {
    "duration": 22,
    "start_time": "2024-05-06T08:50:36.525Z"
   },
   {
    "duration": 10,
    "start_time": "2024-05-06T08:54:03.643Z"
   },
   {
    "duration": 13,
    "start_time": "2024-05-06T08:54:28.533Z"
   },
   {
    "duration": 15,
    "start_time": "2024-05-06T08:54:47.751Z"
   },
   {
    "duration": 21,
    "start_time": "2024-05-06T08:59:43.866Z"
   },
   {
    "duration": 16,
    "start_time": "2024-05-06T09:11:09.250Z"
   },
   {
    "duration": 20,
    "start_time": "2024-05-06T09:11:24.395Z"
   },
   {
    "duration": 15,
    "start_time": "2024-05-06T09:11:52.378Z"
   },
   {
    "duration": 10,
    "start_time": "2024-05-06T09:13:09.494Z"
   },
   {
    "duration": 12,
    "start_time": "2024-05-06T09:13:26.784Z"
   },
   {
    "duration": 17,
    "start_time": "2024-05-06T09:14:01.271Z"
   },
   {
    "duration": 703,
    "start_time": "2024-05-06T09:14:22.604Z"
   },
   {
    "duration": 720,
    "start_time": "2024-05-06T09:15:31.438Z"
   },
   {
    "duration": 13,
    "start_time": "2024-05-06T09:16:09.985Z"
   },
   {
    "duration": 18,
    "start_time": "2024-05-06T09:17:32.182Z"
   },
   {
    "duration": 17,
    "start_time": "2024-05-06T09:17:57.520Z"
   },
   {
    "duration": 16,
    "start_time": "2024-05-06T09:18:05.179Z"
   },
   {
    "duration": 19,
    "start_time": "2024-05-06T09:18:16.739Z"
   },
   {
    "duration": 14,
    "start_time": "2024-05-06T09:19:47.300Z"
   },
   {
    "duration": 33,
    "start_time": "2024-05-06T09:20:04.275Z"
   },
   {
    "duration": 19,
    "start_time": "2024-05-06T09:20:36.381Z"
   },
   {
    "duration": 22,
    "start_time": "2024-05-06T09:21:36.646Z"
   },
   {
    "duration": 1175,
    "start_time": "2024-05-06T09:24:53.092Z"
   },
   {
    "duration": 73,
    "start_time": "2024-05-06T09:24:54.269Z"
   },
   {
    "duration": 12,
    "start_time": "2024-05-06T09:24:54.344Z"
   },
   {
    "duration": 14,
    "start_time": "2024-05-06T09:24:54.358Z"
   },
   {
    "duration": 17,
    "start_time": "2024-05-06T09:24:54.373Z"
   },
   {
    "duration": 23,
    "start_time": "2024-05-06T09:24:54.392Z"
   },
   {
    "duration": 33,
    "start_time": "2024-05-06T09:24:54.416Z"
   },
   {
    "duration": 17,
    "start_time": "2024-05-06T09:24:54.451Z"
   },
   {
    "duration": 39,
    "start_time": "2024-05-06T09:24:54.470Z"
   },
   {
    "duration": 10,
    "start_time": "2024-05-06T09:24:54.512Z"
   },
   {
    "duration": 17,
    "start_time": "2024-05-06T09:24:54.523Z"
   },
   {
    "duration": 16,
    "start_time": "2024-05-06T09:24:54.542Z"
   },
   {
    "duration": 5,
    "start_time": "2024-05-06T09:24:54.560Z"
   },
   {
    "duration": 41,
    "start_time": "2024-05-06T09:24:54.567Z"
   },
   {
    "duration": 15,
    "start_time": "2024-05-06T09:24:54.610Z"
   },
   {
    "duration": 15,
    "start_time": "2024-05-06T09:24:54.626Z"
   },
   {
    "duration": 11,
    "start_time": "2024-05-06T09:24:54.642Z"
   },
   {
    "duration": 15,
    "start_time": "2024-05-06T09:24:54.655Z"
   },
   {
    "duration": 11,
    "start_time": "2024-05-06T09:24:54.671Z"
   },
   {
    "duration": 36,
    "start_time": "2024-05-06T09:24:54.684Z"
   },
   {
    "duration": 21,
    "start_time": "2024-05-06T09:24:54.722Z"
   },
   {
    "duration": 17,
    "start_time": "2024-05-06T09:24:54.745Z"
   },
   {
    "duration": 18,
    "start_time": "2024-05-06T09:24:54.764Z"
   },
   {
    "duration": 30,
    "start_time": "2024-05-06T09:24:54.784Z"
   },
   {
    "duration": 25,
    "start_time": "2024-05-06T09:24:54.815Z"
   },
   {
    "duration": 35,
    "start_time": "2024-05-06T09:24:54.842Z"
   },
   {
    "duration": 10,
    "start_time": "2024-05-06T09:24:54.878Z"
   },
   {
    "duration": 18,
    "start_time": "2024-05-06T09:24:54.893Z"
   },
   {
    "duration": 32,
    "start_time": "2024-05-06T09:24:54.913Z"
   },
   {
    "duration": 23,
    "start_time": "2024-05-06T09:24:54.947Z"
   },
   {
    "duration": 26,
    "start_time": "2024-05-06T09:24:54.972Z"
   },
   {
    "duration": 188,
    "start_time": "2024-05-06T09:24:55.000Z"
   },
   {
    "duration": 187,
    "start_time": "2024-05-06T09:24:55.189Z"
   },
   {
    "duration": 10,
    "start_time": "2024-05-06T09:24:55.378Z"
   },
   {
    "duration": 12,
    "start_time": "2024-05-06T09:24:55.389Z"
   },
   {
    "duration": 189,
    "start_time": "2024-05-06T09:24:55.403Z"
   },
   {
    "duration": 144,
    "start_time": "2024-05-06T09:24:55.594Z"
   },
   {
    "duration": 14,
    "start_time": "2024-05-06T09:24:55.740Z"
   },
   {
    "duration": 9,
    "start_time": "2024-05-06T09:24:55.755Z"
   },
   {
    "duration": 23,
    "start_time": "2024-05-06T09:24:55.766Z"
   },
   {
    "duration": 12,
    "start_time": "2024-05-06T09:24:55.790Z"
   },
   {
    "duration": 170,
    "start_time": "2024-05-06T09:24:55.804Z"
   },
   {
    "duration": 7,
    "start_time": "2024-05-06T09:24:55.981Z"
   },
   {
    "duration": 27,
    "start_time": "2024-05-06T09:24:55.990Z"
   },
   {
    "duration": 155,
    "start_time": "2024-05-06T09:24:56.019Z"
   },
   {
    "duration": 5,
    "start_time": "2024-05-06T09:24:56.181Z"
   },
   {
    "duration": 23,
    "start_time": "2024-05-06T09:24:56.188Z"
   },
   {
    "duration": 176,
    "start_time": "2024-05-06T09:24:56.212Z"
   },
   {
    "duration": 10,
    "start_time": "2024-05-06T09:24:56.389Z"
   },
   {
    "duration": 154,
    "start_time": "2024-05-06T09:24:56.401Z"
   },
   {
    "duration": 5,
    "start_time": "2024-05-06T09:24:56.557Z"
   },
   {
    "duration": 19,
    "start_time": "2024-05-06T09:24:56.564Z"
   },
   {
    "duration": 207,
    "start_time": "2024-05-06T09:24:56.584Z"
   },
   {
    "duration": 10,
    "start_time": "2024-05-06T09:24:56.793Z"
   },
   {
    "duration": 109,
    "start_time": "2024-05-06T09:24:56.805Z"
   },
   {
    "duration": 23,
    "start_time": "2024-05-06T09:24:56.915Z"
   },
   {
    "duration": 4,
    "start_time": "2024-05-06T09:24:56.940Z"
   },
   {
    "duration": 42,
    "start_time": "2024-05-06T09:24:56.946Z"
   },
   {
    "duration": 3,
    "start_time": "2024-05-06T09:24:56.990Z"
   },
   {
    "duration": 4,
    "start_time": "2024-05-06T09:24:56.995Z"
   },
   {
    "duration": 9,
    "start_time": "2024-05-06T09:24:57.000Z"
   },
   {
    "duration": 8,
    "start_time": "2024-05-06T09:24:57.010Z"
   },
   {
    "duration": 11,
    "start_time": "2024-05-06T09:24:57.020Z"
   },
   {
    "duration": 52,
    "start_time": "2024-05-06T09:24:57.032Z"
   },
   {
    "duration": 6,
    "start_time": "2024-05-06T09:24:57.086Z"
   },
   {
    "duration": 15,
    "start_time": "2024-05-06T09:24:57.094Z"
   },
   {
    "duration": 14,
    "start_time": "2024-05-06T09:24:57.110Z"
   },
   {
    "duration": 18,
    "start_time": "2024-05-06T09:24:57.126Z"
   },
   {
    "duration": 10,
    "start_time": "2024-05-06T09:24:57.146Z"
   },
   {
    "duration": 34,
    "start_time": "2024-05-06T09:24:57.158Z"
   },
   {
    "duration": 198,
    "start_time": "2024-05-06T09:24:57.194Z"
   },
   {
    "duration": 8,
    "start_time": "2024-05-06T09:24:57.394Z"
   },
   {
    "duration": 7,
    "start_time": "2024-05-06T09:24:57.404Z"
   },
   {
    "duration": 14,
    "start_time": "2024-05-06T09:24:57.412Z"
   },
   {
    "duration": 207,
    "start_time": "2024-05-06T09:24:57.428Z"
   },
   {
    "duration": 10,
    "start_time": "2024-05-06T09:24:57.636Z"
   },
   {
    "duration": 17,
    "start_time": "2024-05-06T09:24:57.648Z"
   },
   {
    "duration": 46,
    "start_time": "2024-05-06T09:24:57.666Z"
   },
   {
    "duration": 5,
    "start_time": "2024-05-06T09:24:57.713Z"
   },
   {
    "duration": 12,
    "start_time": "2024-05-06T09:24:57.720Z"
   },
   {
    "duration": 7,
    "start_time": "2024-05-06T09:24:57.733Z"
   },
   {
    "duration": 44,
    "start_time": "2024-05-06T09:24:57.745Z"
   },
   {
    "duration": 7,
    "start_time": "2024-05-06T09:24:57.790Z"
   },
   {
    "duration": 12,
    "start_time": "2024-05-06T09:24:57.799Z"
   },
   {
    "duration": 10,
    "start_time": "2024-05-06T09:24:57.813Z"
   },
   {
    "duration": 243,
    "start_time": "2024-05-06T09:24:57.824Z"
   },
   {
    "duration": 12,
    "start_time": "2024-05-06T09:24:58.069Z"
   },
   {
    "duration": 20,
    "start_time": "2024-05-06T09:33:34.792Z"
   },
   {
    "duration": 22,
    "start_time": "2024-05-06T09:33:47.035Z"
   },
   {
    "duration": 1168,
    "start_time": "2024-05-06T09:33:58.145Z"
   },
   {
    "duration": 73,
    "start_time": "2024-05-06T09:33:59.315Z"
   },
   {
    "duration": 17,
    "start_time": "2024-05-06T09:33:59.390Z"
   },
   {
    "duration": 15,
    "start_time": "2024-05-06T09:33:59.410Z"
   },
   {
    "duration": 11,
    "start_time": "2024-05-06T09:33:59.427Z"
   },
   {
    "duration": 23,
    "start_time": "2024-05-06T09:33:59.440Z"
   },
   {
    "duration": 18,
    "start_time": "2024-05-06T09:33:59.481Z"
   },
   {
    "duration": 14,
    "start_time": "2024-05-06T09:33:59.501Z"
   },
   {
    "duration": 23,
    "start_time": "2024-05-06T09:33:59.517Z"
   },
   {
    "duration": 7,
    "start_time": "2024-05-06T09:33:59.542Z"
   },
   {
    "duration": 34,
    "start_time": "2024-05-06T09:33:59.550Z"
   },
   {
    "duration": 15,
    "start_time": "2024-05-06T09:33:59.586Z"
   },
   {
    "duration": 19,
    "start_time": "2024-05-06T09:33:59.603Z"
   },
   {
    "duration": 16,
    "start_time": "2024-05-06T09:33:59.624Z"
   },
   {
    "duration": 8,
    "start_time": "2024-05-06T09:33:59.642Z"
   },
   {
    "duration": 9,
    "start_time": "2024-05-06T09:33:59.651Z"
   },
   {
    "duration": 24,
    "start_time": "2024-05-06T09:33:59.662Z"
   },
   {
    "duration": 6,
    "start_time": "2024-05-06T09:33:59.688Z"
   },
   {
    "duration": 13,
    "start_time": "2024-05-06T09:33:59.696Z"
   },
   {
    "duration": 5,
    "start_time": "2024-05-06T09:33:59.711Z"
   },
   {
    "duration": 5,
    "start_time": "2024-05-06T09:33:59.718Z"
   },
   {
    "duration": 10,
    "start_time": "2024-05-06T09:33:59.725Z"
   },
   {
    "duration": 46,
    "start_time": "2024-05-06T09:33:59.737Z"
   },
   {
    "duration": 6,
    "start_time": "2024-05-06T09:33:59.785Z"
   },
   {
    "duration": 6,
    "start_time": "2024-05-06T09:33:59.792Z"
   },
   {
    "duration": 26,
    "start_time": "2024-05-06T09:33:59.799Z"
   },
   {
    "duration": 9,
    "start_time": "2024-05-06T09:33:59.826Z"
   },
   {
    "duration": 3,
    "start_time": "2024-05-06T09:33:59.840Z"
   },
   {
    "duration": 44,
    "start_time": "2024-05-06T09:33:59.844Z"
   },
   {
    "duration": 16,
    "start_time": "2024-05-06T09:33:59.890Z"
   },
   {
    "duration": 17,
    "start_time": "2024-05-06T09:33:59.908Z"
   },
   {
    "duration": 216,
    "start_time": "2024-05-06T09:33:59.927Z"
   },
   {
    "duration": 188,
    "start_time": "2024-05-06T09:34:00.145Z"
   },
   {
    "duration": 7,
    "start_time": "2024-05-06T09:34:00.335Z"
   },
   {
    "duration": 45,
    "start_time": "2024-05-06T09:34:00.343Z"
   },
   {
    "duration": 209,
    "start_time": "2024-05-06T09:34:00.389Z"
   },
   {
    "duration": 136,
    "start_time": "2024-05-06T09:34:00.600Z"
   },
   {
    "duration": 16,
    "start_time": "2024-05-06T09:34:00.738Z"
   },
   {
    "duration": 74,
    "start_time": "2024-05-06T09:34:00.755Z"
   },
   {
    "duration": 22,
    "start_time": "2024-05-06T09:34:00.831Z"
   },
   {
    "duration": 65,
    "start_time": "2024-05-06T09:34:00.855Z"
   },
   {
    "duration": 234,
    "start_time": "2024-05-06T09:34:00.922Z"
   },
   {
    "duration": 7,
    "start_time": "2024-05-06T09:34:01.157Z"
   },
   {
    "duration": 88,
    "start_time": "2024-05-06T09:34:01.166Z"
   },
   {
    "duration": 332,
    "start_time": "2024-05-06T09:34:01.256Z"
   },
   {
    "duration": 61,
    "start_time": "2024-05-06T09:34:01.589Z"
   },
   {
    "duration": 77,
    "start_time": "2024-05-06T09:34:01.651Z"
   },
   {
    "duration": 244,
    "start_time": "2024-05-06T09:34:01.731Z"
   },
   {
    "duration": 12,
    "start_time": "2024-05-06T09:34:01.977Z"
   },
   {
    "duration": 174,
    "start_time": "2024-05-06T09:34:01.991Z"
   },
   {
    "duration": 6,
    "start_time": "2024-05-06T09:34:02.166Z"
   },
   {
    "duration": 17,
    "start_time": "2024-05-06T09:34:02.174Z"
   },
   {
    "duration": 189,
    "start_time": "2024-05-06T09:34:02.193Z"
   },
   {
    "duration": 10,
    "start_time": "2024-05-06T09:34:02.384Z"
   },
   {
    "duration": 138,
    "start_time": "2024-05-06T09:34:02.395Z"
   },
   {
    "duration": 31,
    "start_time": "2024-05-06T09:34:02.535Z"
   },
   {
    "duration": 15,
    "start_time": "2024-05-06T09:34:02.568Z"
   },
   {
    "duration": 16,
    "start_time": "2024-05-06T09:34:02.585Z"
   },
   {
    "duration": 4,
    "start_time": "2024-05-06T09:34:02.603Z"
   },
   {
    "duration": 14,
    "start_time": "2024-05-06T09:34:02.609Z"
   },
   {
    "duration": 29,
    "start_time": "2024-05-06T09:34:02.625Z"
   },
   {
    "duration": 13,
    "start_time": "2024-05-06T09:34:02.655Z"
   },
   {
    "duration": 18,
    "start_time": "2024-05-06T09:34:02.670Z"
   },
   {
    "duration": 17,
    "start_time": "2024-05-06T09:34:02.690Z"
   },
   {
    "duration": 7,
    "start_time": "2024-05-06T09:34:02.710Z"
   },
   {
    "duration": 9,
    "start_time": "2024-05-06T09:34:02.719Z"
   },
   {
    "duration": 15,
    "start_time": "2024-05-06T09:34:02.730Z"
   },
   {
    "duration": 9,
    "start_time": "2024-05-06T09:34:02.747Z"
   },
   {
    "duration": 31,
    "start_time": "2024-05-06T09:34:02.758Z"
   },
   {
    "duration": 16,
    "start_time": "2024-05-06T09:34:02.791Z"
   },
   {
    "duration": 228,
    "start_time": "2024-05-06T09:34:02.809Z"
   },
   {
    "duration": 9,
    "start_time": "2024-05-06T09:34:03.039Z"
   },
   {
    "duration": 9,
    "start_time": "2024-05-06T09:34:03.050Z"
   },
   {
    "duration": 14,
    "start_time": "2024-05-06T09:34:03.085Z"
   },
   {
    "duration": 234,
    "start_time": "2024-05-06T09:34:03.102Z"
   },
   {
    "duration": 11,
    "start_time": "2024-05-06T09:34:03.337Z"
   },
   {
    "duration": 14,
    "start_time": "2024-05-06T09:34:03.350Z"
   },
   {
    "duration": 47,
    "start_time": "2024-05-06T09:34:03.366Z"
   },
   {
    "duration": 6,
    "start_time": "2024-05-06T09:34:03.415Z"
   },
   {
    "duration": 13,
    "start_time": "2024-05-06T09:34:03.423Z"
   },
   {
    "duration": 11,
    "start_time": "2024-05-06T09:34:03.437Z"
   },
   {
    "duration": 14,
    "start_time": "2024-05-06T09:34:03.481Z"
   },
   {
    "duration": 8,
    "start_time": "2024-05-06T09:34:03.497Z"
   },
   {
    "duration": 15,
    "start_time": "2024-05-06T09:34:03.506Z"
   },
   {
    "duration": 25,
    "start_time": "2024-05-06T09:34:03.522Z"
   },
   {
    "duration": 227,
    "start_time": "2024-05-06T09:34:03.548Z"
   },
   {
    "duration": 5,
    "start_time": "2024-05-06T09:34:03.782Z"
   },
   {
    "duration": 26,
    "start_time": "2024-05-06T09:35:12.112Z"
   },
   {
    "duration": 1234,
    "start_time": "2024-05-06T09:35:36.361Z"
   },
   {
    "duration": 73,
    "start_time": "2024-05-06T09:35:37.597Z"
   },
   {
    "duration": 12,
    "start_time": "2024-05-06T09:35:37.672Z"
   },
   {
    "duration": 10,
    "start_time": "2024-05-06T09:35:37.686Z"
   },
   {
    "duration": 8,
    "start_time": "2024-05-06T09:35:37.697Z"
   },
   {
    "duration": 15,
    "start_time": "2024-05-06T09:35:37.706Z"
   },
   {
    "duration": 14,
    "start_time": "2024-05-06T09:35:37.722Z"
   },
   {
    "duration": 9,
    "start_time": "2024-05-06T09:35:37.738Z"
   },
   {
    "duration": 54,
    "start_time": "2024-05-06T09:35:37.749Z"
   },
   {
    "duration": 8,
    "start_time": "2024-05-06T09:35:37.806Z"
   },
   {
    "duration": 6,
    "start_time": "2024-05-06T09:35:37.815Z"
   },
   {
    "duration": 5,
    "start_time": "2024-05-06T09:35:37.823Z"
   },
   {
    "duration": 7,
    "start_time": "2024-05-06T09:35:37.829Z"
   },
   {
    "duration": 48,
    "start_time": "2024-05-06T09:35:37.838Z"
   },
   {
    "duration": 17,
    "start_time": "2024-05-06T09:35:37.888Z"
   },
   {
    "duration": 11,
    "start_time": "2024-05-06T09:35:37.907Z"
   },
   {
    "duration": 6,
    "start_time": "2024-05-06T09:35:37.920Z"
   },
   {
    "duration": 11,
    "start_time": "2024-05-06T09:35:37.928Z"
   },
   {
    "duration": 12,
    "start_time": "2024-05-06T09:35:37.940Z"
   },
   {
    "duration": 29,
    "start_time": "2024-05-06T09:35:37.953Z"
   },
   {
    "duration": 16,
    "start_time": "2024-05-06T09:35:37.984Z"
   },
   {
    "duration": 8,
    "start_time": "2024-05-06T09:35:38.002Z"
   },
   {
    "duration": 7,
    "start_time": "2024-05-06T09:35:38.013Z"
   },
   {
    "duration": 13,
    "start_time": "2024-05-06T09:35:38.022Z"
   },
   {
    "duration": 9,
    "start_time": "2024-05-06T09:35:38.037Z"
   },
   {
    "duration": 44,
    "start_time": "2024-05-06T09:35:38.048Z"
   },
   {
    "duration": 10,
    "start_time": "2024-05-06T09:35:38.094Z"
   },
   {
    "duration": 2,
    "start_time": "2024-05-06T09:35:38.110Z"
   },
   {
    "duration": 15,
    "start_time": "2024-05-06T09:35:38.114Z"
   },
   {
    "duration": 9,
    "start_time": "2024-05-06T09:35:38.131Z"
   },
   {
    "duration": 44,
    "start_time": "2024-05-06T09:35:38.143Z"
   },
   {
    "duration": 217,
    "start_time": "2024-05-06T09:35:38.188Z"
   },
   {
    "duration": 206,
    "start_time": "2024-05-06T09:35:38.407Z"
   },
   {
    "duration": 8,
    "start_time": "2024-05-06T09:35:38.615Z"
   },
   {
    "duration": 13,
    "start_time": "2024-05-06T09:35:38.625Z"
   },
   {
    "duration": 170,
    "start_time": "2024-05-06T09:35:38.640Z"
   },
   {
    "duration": 132,
    "start_time": "2024-05-06T09:35:38.811Z"
   },
   {
    "duration": 13,
    "start_time": "2024-05-06T09:35:38.944Z"
   },
   {
    "duration": 25,
    "start_time": "2024-05-06T09:35:38.958Z"
   },
   {
    "duration": 9,
    "start_time": "2024-05-06T09:35:38.985Z"
   },
   {
    "duration": 11,
    "start_time": "2024-05-06T09:35:38.996Z"
   },
   {
    "duration": 184,
    "start_time": "2024-05-06T09:35:39.009Z"
   },
   {
    "duration": 7,
    "start_time": "2024-05-06T09:35:39.194Z"
   },
   {
    "duration": 10,
    "start_time": "2024-05-06T09:35:39.203Z"
   },
   {
    "duration": 163,
    "start_time": "2024-05-06T09:35:39.216Z"
   },
   {
    "duration": 6,
    "start_time": "2024-05-06T09:35:39.382Z"
   },
   {
    "duration": 5,
    "start_time": "2024-05-06T09:35:39.389Z"
   },
   {
    "duration": 189,
    "start_time": "2024-05-06T09:35:39.395Z"
   },
   {
    "duration": 11,
    "start_time": "2024-05-06T09:35:39.586Z"
   },
   {
    "duration": 155,
    "start_time": "2024-05-06T09:35:39.598Z"
   },
   {
    "duration": 5,
    "start_time": "2024-05-06T09:35:39.755Z"
   },
   {
    "duration": 19,
    "start_time": "2024-05-06T09:35:39.763Z"
   },
   {
    "duration": 199,
    "start_time": "2024-05-06T09:35:39.785Z"
   },
   {
    "duration": 10,
    "start_time": "2024-05-06T09:35:39.986Z"
   },
   {
    "duration": 131,
    "start_time": "2024-05-06T09:35:39.997Z"
   },
   {
    "duration": 30,
    "start_time": "2024-05-06T09:35:40.130Z"
   },
   {
    "duration": 15,
    "start_time": "2024-05-06T09:35:40.169Z"
   },
   {
    "duration": 18,
    "start_time": "2024-05-06T09:35:40.186Z"
   },
   {
    "duration": 4,
    "start_time": "2024-05-06T09:35:40.206Z"
   },
   {
    "duration": 6,
    "start_time": "2024-05-06T09:35:40.212Z"
   },
   {
    "duration": 5,
    "start_time": "2024-05-06T09:35:40.220Z"
   },
   {
    "duration": 5,
    "start_time": "2024-05-06T09:35:40.227Z"
   },
   {
    "duration": 50,
    "start_time": "2024-05-06T09:35:40.233Z"
   },
   {
    "duration": 8,
    "start_time": "2024-05-06T09:35:40.285Z"
   },
   {
    "duration": 11,
    "start_time": "2024-05-06T09:35:40.295Z"
   },
   {
    "duration": 10,
    "start_time": "2024-05-06T09:35:40.307Z"
   },
   {
    "duration": 21,
    "start_time": "2024-05-06T09:35:40.318Z"
   },
   {
    "duration": 9,
    "start_time": "2024-05-06T09:35:40.340Z"
   },
   {
    "duration": 35,
    "start_time": "2024-05-06T09:35:40.350Z"
   },
   {
    "duration": 11,
    "start_time": "2024-05-06T09:35:40.387Z"
   },
   {
    "duration": 206,
    "start_time": "2024-05-06T09:35:40.399Z"
   },
   {
    "duration": 9,
    "start_time": "2024-05-06T09:35:40.607Z"
   },
   {
    "duration": 10,
    "start_time": "2024-05-06T09:35:40.617Z"
   },
   {
    "duration": 11,
    "start_time": "2024-05-06T09:35:40.629Z"
   },
   {
    "duration": 217,
    "start_time": "2024-05-06T09:35:40.641Z"
   },
   {
    "duration": 23,
    "start_time": "2024-05-06T09:35:40.859Z"
   },
   {
    "duration": 14,
    "start_time": "2024-05-06T09:35:40.884Z"
   },
   {
    "duration": 32,
    "start_time": "2024-05-06T09:35:40.900Z"
   },
   {
    "duration": 6,
    "start_time": "2024-05-06T09:35:40.933Z"
   },
   {
    "duration": 15,
    "start_time": "2024-05-06T09:35:40.941Z"
   },
   {
    "duration": 6,
    "start_time": "2024-05-06T09:35:40.982Z"
   },
   {
    "duration": 14,
    "start_time": "2024-05-06T09:35:40.994Z"
   },
   {
    "duration": 19,
    "start_time": "2024-05-06T09:35:41.010Z"
   },
   {
    "duration": 14,
    "start_time": "2024-05-06T09:35:41.030Z"
   },
   {
    "duration": 12,
    "start_time": "2024-05-06T09:35:41.046Z"
   },
   {
    "duration": 248,
    "start_time": "2024-05-06T09:35:41.060Z"
   },
   {
    "duration": 7,
    "start_time": "2024-05-06T09:35:41.310Z"
   },
   {
    "duration": 22,
    "start_time": "2024-05-06T09:38:12.051Z"
   },
   {
    "duration": 26,
    "start_time": "2024-05-06T09:38:21.142Z"
   },
   {
    "duration": 1364,
    "start_time": "2024-05-06T09:38:29.662Z"
   },
   {
    "duration": 72,
    "start_time": "2024-05-06T09:38:31.028Z"
   },
   {
    "duration": 16,
    "start_time": "2024-05-06T09:38:31.102Z"
   },
   {
    "duration": 32,
    "start_time": "2024-05-06T09:38:31.121Z"
   },
   {
    "duration": 59,
    "start_time": "2024-05-06T09:38:31.156Z"
   },
   {
    "duration": 27,
    "start_time": "2024-05-06T09:38:31.217Z"
   },
   {
    "duration": 57,
    "start_time": "2024-05-06T09:38:31.246Z"
   },
   {
    "duration": 33,
    "start_time": "2024-05-06T09:38:31.305Z"
   },
   {
    "duration": 59,
    "start_time": "2024-05-06T09:38:31.341Z"
   },
   {
    "duration": 16,
    "start_time": "2024-05-06T09:38:31.404Z"
   },
   {
    "duration": 41,
    "start_time": "2024-05-06T09:38:31.422Z"
   },
   {
    "duration": 22,
    "start_time": "2024-05-06T09:38:31.465Z"
   },
   {
    "duration": 39,
    "start_time": "2024-05-06T09:38:31.489Z"
   },
   {
    "duration": 36,
    "start_time": "2024-05-06T09:38:31.529Z"
   },
   {
    "duration": 59,
    "start_time": "2024-05-06T09:38:31.567Z"
   },
   {
    "duration": 42,
    "start_time": "2024-05-06T09:38:31.628Z"
   },
   {
    "duration": 60,
    "start_time": "2024-05-06T09:38:31.672Z"
   },
   {
    "duration": 33,
    "start_time": "2024-05-06T09:38:31.735Z"
   },
   {
    "duration": 36,
    "start_time": "2024-05-06T09:38:31.770Z"
   },
   {
    "duration": 7,
    "start_time": "2024-05-06T09:38:31.809Z"
   },
   {
    "duration": 42,
    "start_time": "2024-05-06T09:38:31.818Z"
   },
   {
    "duration": 9,
    "start_time": "2024-05-06T09:38:31.862Z"
   },
   {
    "duration": 19,
    "start_time": "2024-05-06T09:38:31.874Z"
   },
   {
    "duration": 9,
    "start_time": "2024-05-06T09:38:31.896Z"
   },
   {
    "duration": 19,
    "start_time": "2024-05-06T09:38:31.907Z"
   },
   {
    "duration": 27,
    "start_time": "2024-05-06T09:38:31.928Z"
   },
   {
    "duration": 29,
    "start_time": "2024-05-06T09:38:31.956Z"
   },
   {
    "duration": 4,
    "start_time": "2024-05-06T09:38:31.989Z"
   },
   {
    "duration": 23,
    "start_time": "2024-05-06T09:38:31.995Z"
   },
   {
    "duration": 14,
    "start_time": "2024-05-06T09:38:32.020Z"
   },
   {
    "duration": 10,
    "start_time": "2024-05-06T09:38:32.036Z"
   },
   {
    "duration": 194,
    "start_time": "2024-05-06T09:38:32.048Z"
   },
   {
    "duration": 196,
    "start_time": "2024-05-06T09:38:32.244Z"
   },
   {
    "duration": 7,
    "start_time": "2024-05-06T09:38:32.442Z"
   },
   {
    "duration": 9,
    "start_time": "2024-05-06T09:38:32.452Z"
   },
   {
    "duration": 182,
    "start_time": "2024-05-06T09:38:32.463Z"
   },
   {
    "duration": 135,
    "start_time": "2024-05-06T09:38:32.647Z"
   },
   {
    "duration": 18,
    "start_time": "2024-05-06T09:38:32.785Z"
   },
   {
    "duration": 11,
    "start_time": "2024-05-06T09:38:32.806Z"
   },
   {
    "duration": 6,
    "start_time": "2024-05-06T09:38:32.818Z"
   },
   {
    "duration": 6,
    "start_time": "2024-05-06T09:38:32.826Z"
   },
   {
    "duration": 211,
    "start_time": "2024-05-06T09:38:32.833Z"
   },
   {
    "duration": 10,
    "start_time": "2024-05-06T09:38:33.046Z"
   },
   {
    "duration": 26,
    "start_time": "2024-05-06T09:38:33.059Z"
   },
   {
    "duration": 162,
    "start_time": "2024-05-06T09:38:33.087Z"
   },
   {
    "duration": 6,
    "start_time": "2024-05-06T09:38:33.251Z"
   },
   {
    "duration": 17,
    "start_time": "2024-05-06T09:38:33.259Z"
   },
   {
    "duration": 209,
    "start_time": "2024-05-06T09:38:33.284Z"
   },
   {
    "duration": 8,
    "start_time": "2024-05-06T09:38:33.495Z"
   },
   {
    "duration": 153,
    "start_time": "2024-05-06T09:38:33.505Z"
   },
   {
    "duration": 4,
    "start_time": "2024-05-06T09:38:33.660Z"
   },
   {
    "duration": 17,
    "start_time": "2024-05-06T09:38:33.666Z"
   },
   {
    "duration": 190,
    "start_time": "2024-05-06T09:38:33.685Z"
   },
   {
    "duration": 9,
    "start_time": "2024-05-06T09:38:33.882Z"
   },
   {
    "duration": 130,
    "start_time": "2024-05-06T09:38:33.894Z"
   },
   {
    "duration": 23,
    "start_time": "2024-05-06T09:38:34.025Z"
   },
   {
    "duration": 4,
    "start_time": "2024-05-06T09:38:34.049Z"
   },
   {
    "duration": 38,
    "start_time": "2024-05-06T09:38:34.054Z"
   },
   {
    "duration": 4,
    "start_time": "2024-05-06T09:38:34.094Z"
   },
   {
    "duration": 14,
    "start_time": "2024-05-06T09:38:34.099Z"
   },
   {
    "duration": 10,
    "start_time": "2024-05-06T09:38:34.115Z"
   },
   {
    "duration": 5,
    "start_time": "2024-05-06T09:38:34.127Z"
   },
   {
    "duration": 13,
    "start_time": "2024-05-06T09:38:34.133Z"
   },
   {
    "duration": 44,
    "start_time": "2024-05-06T09:38:34.148Z"
   },
   {
    "duration": 11,
    "start_time": "2024-05-06T09:38:34.194Z"
   },
   {
    "duration": 5,
    "start_time": "2024-05-06T09:38:34.207Z"
   },
   {
    "duration": 21,
    "start_time": "2024-05-06T09:38:34.214Z"
   },
   {
    "duration": 13,
    "start_time": "2024-05-06T09:38:34.237Z"
   },
   {
    "duration": 30,
    "start_time": "2024-05-06T09:38:34.253Z"
   },
   {
    "duration": 11,
    "start_time": "2024-05-06T09:38:34.285Z"
   },
   {
    "duration": 222,
    "start_time": "2024-05-06T09:38:34.298Z"
   },
   {
    "duration": 11,
    "start_time": "2024-05-06T09:38:34.522Z"
   },
   {
    "duration": 8,
    "start_time": "2024-05-06T09:38:34.536Z"
   },
   {
    "duration": 42,
    "start_time": "2024-05-06T09:38:34.546Z"
   },
   {
    "duration": 225,
    "start_time": "2024-05-06T09:38:34.590Z"
   },
   {
    "duration": 13,
    "start_time": "2024-05-06T09:38:34.817Z"
   },
   {
    "duration": 19,
    "start_time": "2024-05-06T09:38:34.832Z"
   },
   {
    "duration": 70,
    "start_time": "2024-05-06T09:38:34.853Z"
   },
   {
    "duration": 8,
    "start_time": "2024-05-06T09:38:34.926Z"
   },
   {
    "duration": 24,
    "start_time": "2024-05-06T09:38:34.936Z"
   },
   {
    "duration": 12,
    "start_time": "2024-05-06T09:38:34.962Z"
   },
   {
    "duration": 19,
    "start_time": "2024-05-06T09:38:34.991Z"
   },
   {
    "duration": 10,
    "start_time": "2024-05-06T09:38:35.012Z"
   },
   {
    "duration": 9,
    "start_time": "2024-05-06T09:38:35.024Z"
   },
   {
    "duration": 14,
    "start_time": "2024-05-06T09:38:35.034Z"
   },
   {
    "duration": 307,
    "start_time": "2024-05-06T09:38:35.050Z"
   },
   {
    "duration": 6,
    "start_time": "2024-05-06T09:38:35.359Z"
   },
   {
    "duration": 24,
    "start_time": "2024-05-06T09:39:34.222Z"
   },
   {
    "duration": 1191,
    "start_time": "2024-05-06T09:40:11.595Z"
   },
   {
    "duration": 75,
    "start_time": "2024-05-06T09:40:12.788Z"
   },
   {
    "duration": 15,
    "start_time": "2024-05-06T09:40:12.865Z"
   },
   {
    "duration": 14,
    "start_time": "2024-05-06T09:40:12.883Z"
   },
   {
    "duration": 9,
    "start_time": "2024-05-06T09:40:12.900Z"
   },
   {
    "duration": 16,
    "start_time": "2024-05-06T09:40:12.911Z"
   },
   {
    "duration": 11,
    "start_time": "2024-05-06T09:40:12.929Z"
   },
   {
    "duration": 10,
    "start_time": "2024-05-06T09:40:12.942Z"
   },
   {
    "duration": 53,
    "start_time": "2024-05-06T09:40:12.954Z"
   },
   {
    "duration": 7,
    "start_time": "2024-05-06T09:40:13.010Z"
   },
   {
    "duration": 27,
    "start_time": "2024-05-06T09:40:13.019Z"
   },
   {
    "duration": 9,
    "start_time": "2024-05-06T09:40:13.049Z"
   },
   {
    "duration": 5,
    "start_time": "2024-05-06T09:40:13.060Z"
   },
   {
    "duration": 22,
    "start_time": "2024-05-06T09:40:13.067Z"
   },
   {
    "duration": 9,
    "start_time": "2024-05-06T09:40:13.091Z"
   },
   {
    "duration": 8,
    "start_time": "2024-05-06T09:40:13.102Z"
   },
   {
    "duration": 10,
    "start_time": "2024-05-06T09:40:13.111Z"
   },
   {
    "duration": 7,
    "start_time": "2024-05-06T09:40:13.122Z"
   },
   {
    "duration": 10,
    "start_time": "2024-05-06T09:40:13.130Z"
   },
   {
    "duration": 40,
    "start_time": "2024-05-06T09:40:13.142Z"
   },
   {
    "duration": 6,
    "start_time": "2024-05-06T09:40:13.184Z"
   },
   {
    "duration": 7,
    "start_time": "2024-05-06T09:40:13.192Z"
   },
   {
    "duration": 7,
    "start_time": "2024-05-06T09:40:13.201Z"
   },
   {
    "duration": 6,
    "start_time": "2024-05-06T09:40:13.209Z"
   },
   {
    "duration": 7,
    "start_time": "2024-05-06T09:40:13.216Z"
   },
   {
    "duration": 59,
    "start_time": "2024-05-06T09:40:13.225Z"
   },
   {
    "duration": 8,
    "start_time": "2024-05-06T09:40:13.285Z"
   },
   {
    "duration": 3,
    "start_time": "2024-05-06T09:40:13.297Z"
   },
   {
    "duration": 13,
    "start_time": "2024-05-06T09:40:13.301Z"
   },
   {
    "duration": 7,
    "start_time": "2024-05-06T09:40:13.315Z"
   },
   {
    "duration": 10,
    "start_time": "2024-05-06T09:40:13.323Z"
   },
   {
    "duration": 230,
    "start_time": "2024-05-06T09:40:13.335Z"
   },
   {
    "duration": 189,
    "start_time": "2024-05-06T09:40:13.567Z"
   },
   {
    "duration": 7,
    "start_time": "2024-05-06T09:40:13.758Z"
   },
   {
    "duration": 17,
    "start_time": "2024-05-06T09:40:13.766Z"
   },
   {
    "duration": 181,
    "start_time": "2024-05-06T09:40:13.784Z"
   },
   {
    "duration": 129,
    "start_time": "2024-05-06T09:40:13.966Z"
   },
   {
    "duration": 13,
    "start_time": "2024-05-06T09:40:14.096Z"
   },
   {
    "duration": 8,
    "start_time": "2024-05-06T09:40:14.111Z"
   },
   {
    "duration": 20,
    "start_time": "2024-05-06T09:40:14.120Z"
   },
   {
    "duration": 11,
    "start_time": "2024-05-06T09:40:14.142Z"
   },
   {
    "duration": 183,
    "start_time": "2024-05-06T09:40:14.155Z"
   },
   {
    "duration": 7,
    "start_time": "2024-05-06T09:40:14.340Z"
   },
   {
    "duration": 13,
    "start_time": "2024-05-06T09:40:14.349Z"
   },
   {
    "duration": 183,
    "start_time": "2024-05-06T09:40:14.364Z"
   },
   {
    "duration": 10,
    "start_time": "2024-05-06T09:40:14.549Z"
   },
   {
    "duration": 6,
    "start_time": "2024-05-06T09:40:14.561Z"
   },
   {
    "duration": 189,
    "start_time": "2024-05-06T09:40:14.576Z"
   },
   {
    "duration": 20,
    "start_time": "2024-05-06T09:40:14.767Z"
   },
   {
    "duration": 138,
    "start_time": "2024-05-06T09:40:14.789Z"
   },
   {
    "duration": 5,
    "start_time": "2024-05-06T09:40:14.929Z"
   },
   {
    "duration": 12,
    "start_time": "2024-05-06T09:40:14.935Z"
   },
   {
    "duration": 184,
    "start_time": "2024-05-06T09:40:14.949Z"
   },
   {
    "duration": 8,
    "start_time": "2024-05-06T09:40:15.135Z"
   },
   {
    "duration": 110,
    "start_time": "2024-05-06T09:40:15.144Z"
   },
   {
    "duration": 30,
    "start_time": "2024-05-06T09:40:15.256Z"
   },
   {
    "duration": 4,
    "start_time": "2024-05-06T09:40:15.287Z"
   },
   {
    "duration": 25,
    "start_time": "2024-05-06T09:40:15.293Z"
   },
   {
    "duration": 11,
    "start_time": "2024-05-06T09:40:15.319Z"
   },
   {
    "duration": 18,
    "start_time": "2024-05-06T09:40:15.332Z"
   },
   {
    "duration": 11,
    "start_time": "2024-05-06T09:40:15.352Z"
   },
   {
    "duration": 28,
    "start_time": "2024-05-06T09:40:15.365Z"
   },
   {
    "duration": 19,
    "start_time": "2024-05-06T09:40:15.395Z"
   },
   {
    "duration": 22,
    "start_time": "2024-05-06T09:40:15.416Z"
   },
   {
    "duration": 28,
    "start_time": "2024-05-06T09:40:15.440Z"
   },
   {
    "duration": 42,
    "start_time": "2024-05-06T09:40:15.470Z"
   },
   {
    "duration": 29,
    "start_time": "2024-05-06T09:40:15.514Z"
   },
   {
    "duration": 27,
    "start_time": "2024-05-06T09:40:15.545Z"
   },
   {
    "duration": 24,
    "start_time": "2024-05-06T09:40:15.574Z"
   },
   {
    "duration": 20,
    "start_time": "2024-05-06T09:40:15.600Z"
   },
   {
    "duration": 216,
    "start_time": "2024-05-06T09:40:15.622Z"
   },
   {
    "duration": 12,
    "start_time": "2024-05-06T09:40:15.840Z"
   },
   {
    "duration": 28,
    "start_time": "2024-05-06T09:40:15.854Z"
   },
   {
    "duration": 13,
    "start_time": "2024-05-06T09:40:15.884Z"
   },
   {
    "duration": 236,
    "start_time": "2024-05-06T09:40:15.899Z"
   },
   {
    "duration": 13,
    "start_time": "2024-05-06T09:40:16.138Z"
   },
   {
    "duration": 36,
    "start_time": "2024-05-06T09:40:16.153Z"
   },
   {
    "duration": 74,
    "start_time": "2024-05-06T09:40:16.191Z"
   },
   {
    "duration": 7,
    "start_time": "2024-05-06T09:40:16.267Z"
   },
   {
    "duration": 22,
    "start_time": "2024-05-06T09:40:16.276Z"
   },
   {
    "duration": 25,
    "start_time": "2024-05-06T09:40:16.300Z"
   },
   {
    "duration": 22,
    "start_time": "2024-05-06T09:40:16.330Z"
   },
   {
    "duration": 23,
    "start_time": "2024-05-06T09:40:16.354Z"
   },
   {
    "duration": 27,
    "start_time": "2024-05-06T09:40:16.379Z"
   },
   {
    "duration": 18,
    "start_time": "2024-05-06T09:40:16.408Z"
   },
   {
    "duration": 224,
    "start_time": "2024-05-06T09:40:16.428Z"
   },
   {
    "duration": 6,
    "start_time": "2024-05-06T09:40:16.654Z"
   },
   {
    "duration": 16,
    "start_time": "2024-05-06T09:41:04.993Z"
   },
   {
    "duration": 1167,
    "start_time": "2024-05-06T09:41:17.322Z"
   },
   {
    "duration": 74,
    "start_time": "2024-05-06T09:41:18.491Z"
   },
   {
    "duration": 12,
    "start_time": "2024-05-06T09:41:18.567Z"
   },
   {
    "duration": 11,
    "start_time": "2024-05-06T09:41:18.581Z"
   },
   {
    "duration": 7,
    "start_time": "2024-05-06T09:41:18.594Z"
   },
   {
    "duration": 13,
    "start_time": "2024-05-06T09:41:18.602Z"
   },
   {
    "duration": 12,
    "start_time": "2024-05-06T09:41:18.616Z"
   },
   {
    "duration": 11,
    "start_time": "2024-05-06T09:41:18.629Z"
   },
   {
    "duration": 56,
    "start_time": "2024-05-06T09:41:18.642Z"
   },
   {
    "duration": 7,
    "start_time": "2024-05-06T09:41:18.700Z"
   },
   {
    "duration": 8,
    "start_time": "2024-05-06T09:41:18.708Z"
   },
   {
    "duration": 6,
    "start_time": "2024-05-06T09:41:18.718Z"
   },
   {
    "duration": 7,
    "start_time": "2024-05-06T09:41:18.725Z"
   },
   {
    "duration": 10,
    "start_time": "2024-05-06T09:41:18.733Z"
   },
   {
    "duration": 42,
    "start_time": "2024-05-06T09:41:18.745Z"
   },
   {
    "duration": 9,
    "start_time": "2024-05-06T09:41:18.789Z"
   },
   {
    "duration": 8,
    "start_time": "2024-05-06T09:41:18.799Z"
   },
   {
    "duration": 8,
    "start_time": "2024-05-06T09:41:18.809Z"
   },
   {
    "duration": 23,
    "start_time": "2024-05-06T09:41:18.818Z"
   },
   {
    "duration": 5,
    "start_time": "2024-05-06T09:41:18.843Z"
   },
   {
    "duration": 36,
    "start_time": "2024-05-06T09:41:18.850Z"
   },
   {
    "duration": 9,
    "start_time": "2024-05-06T09:41:18.888Z"
   },
   {
    "duration": 8,
    "start_time": "2024-05-06T09:41:18.898Z"
   },
   {
    "duration": 12,
    "start_time": "2024-05-06T09:41:18.907Z"
   },
   {
    "duration": 10,
    "start_time": "2024-05-06T09:41:18.920Z"
   },
   {
    "duration": 27,
    "start_time": "2024-05-06T09:41:18.932Z"
   },
   {
    "duration": 27,
    "start_time": "2024-05-06T09:41:18.961Z"
   },
   {
    "duration": 3,
    "start_time": "2024-05-06T09:41:18.992Z"
   },
   {
    "duration": 9,
    "start_time": "2024-05-06T09:41:18.996Z"
   },
   {
    "duration": 12,
    "start_time": "2024-05-06T09:41:19.007Z"
   },
   {
    "duration": 11,
    "start_time": "2024-05-06T09:41:19.021Z"
   },
   {
    "duration": 211,
    "start_time": "2024-05-06T09:41:19.034Z"
   },
   {
    "duration": 190,
    "start_time": "2024-05-06T09:41:19.246Z"
   },
   {
    "duration": 7,
    "start_time": "2024-05-06T09:41:19.437Z"
   },
   {
    "duration": 7,
    "start_time": "2024-05-06T09:41:19.446Z"
   },
   {
    "duration": 181,
    "start_time": "2024-05-06T09:41:19.454Z"
   },
   {
    "duration": 136,
    "start_time": "2024-05-06T09:41:19.637Z"
   },
   {
    "duration": 15,
    "start_time": "2024-05-06T09:41:19.775Z"
   },
   {
    "duration": 7,
    "start_time": "2024-05-06T09:41:19.792Z"
   },
   {
    "duration": 6,
    "start_time": "2024-05-06T09:41:19.800Z"
   },
   {
    "duration": 8,
    "start_time": "2024-05-06T09:41:19.807Z"
   },
   {
    "duration": 213,
    "start_time": "2024-05-06T09:41:19.817Z"
   },
   {
    "duration": 7,
    "start_time": "2024-05-06T09:41:20.032Z"
   },
   {
    "duration": 24,
    "start_time": "2024-05-06T09:41:20.041Z"
   },
   {
    "duration": 156,
    "start_time": "2024-05-06T09:41:20.066Z"
   },
   {
    "duration": 5,
    "start_time": "2024-05-06T09:41:20.224Z"
   },
   {
    "duration": 6,
    "start_time": "2024-05-06T09:41:20.231Z"
   },
   {
    "duration": 200,
    "start_time": "2024-05-06T09:41:20.238Z"
   },
   {
    "duration": 8,
    "start_time": "2024-05-06T09:41:20.440Z"
   },
   {
    "duration": 158,
    "start_time": "2024-05-06T09:41:20.450Z"
   },
   {
    "duration": 6,
    "start_time": "2024-05-06T09:41:20.610Z"
   },
   {
    "duration": 18,
    "start_time": "2024-05-06T09:41:20.618Z"
   },
   {
    "duration": 184,
    "start_time": "2024-05-06T09:41:20.638Z"
   },
   {
    "duration": 8,
    "start_time": "2024-05-06T09:41:20.824Z"
   },
   {
    "duration": 112,
    "start_time": "2024-05-06T09:41:20.834Z"
   },
   {
    "duration": 35,
    "start_time": "2024-05-06T09:41:20.948Z"
   },
   {
    "duration": 5,
    "start_time": "2024-05-06T09:41:20.985Z"
   },
   {
    "duration": 21,
    "start_time": "2024-05-06T09:41:20.992Z"
   },
   {
    "duration": 8,
    "start_time": "2024-05-06T09:41:21.015Z"
   },
   {
    "duration": 9,
    "start_time": "2024-05-06T09:41:21.025Z"
   },
   {
    "duration": 6,
    "start_time": "2024-05-06T09:41:21.036Z"
   },
   {
    "duration": 6,
    "start_time": "2024-05-06T09:41:21.044Z"
   },
   {
    "duration": 40,
    "start_time": "2024-05-06T09:41:21.051Z"
   },
   {
    "duration": 11,
    "start_time": "2024-05-06T09:41:21.093Z"
   },
   {
    "duration": 23,
    "start_time": "2024-05-06T09:41:21.106Z"
   },
   {
    "duration": 16,
    "start_time": "2024-05-06T09:41:21.131Z"
   },
   {
    "duration": 13,
    "start_time": "2024-05-06T09:41:21.149Z"
   },
   {
    "duration": 23,
    "start_time": "2024-05-06T09:41:21.164Z"
   },
   {
    "duration": 9,
    "start_time": "2024-05-06T09:41:21.189Z"
   },
   {
    "duration": 11,
    "start_time": "2024-05-06T09:41:21.199Z"
   },
   {
    "duration": 230,
    "start_time": "2024-05-06T09:41:21.212Z"
   },
   {
    "duration": 11,
    "start_time": "2024-05-06T09:41:21.444Z"
   },
   {
    "duration": 25,
    "start_time": "2024-05-06T09:41:21.457Z"
   },
   {
    "duration": 12,
    "start_time": "2024-05-06T09:41:21.484Z"
   },
   {
    "duration": 227,
    "start_time": "2024-05-06T09:41:21.498Z"
   },
   {
    "duration": 11,
    "start_time": "2024-05-06T09:41:21.727Z"
   },
   {
    "duration": 14,
    "start_time": "2024-05-06T09:41:21.739Z"
   },
   {
    "duration": 51,
    "start_time": "2024-05-06T09:41:21.754Z"
   },
   {
    "duration": 7,
    "start_time": "2024-05-06T09:41:21.807Z"
   },
   {
    "duration": 14,
    "start_time": "2024-05-06T09:41:21.815Z"
   },
   {
    "duration": 9,
    "start_time": "2024-05-06T09:41:21.831Z"
   },
   {
    "duration": 43,
    "start_time": "2024-05-06T09:41:21.847Z"
   },
   {
    "duration": 9,
    "start_time": "2024-05-06T09:41:21.893Z"
   },
   {
    "duration": 9,
    "start_time": "2024-05-06T09:41:21.904Z"
   },
   {
    "duration": 16,
    "start_time": "2024-05-06T09:41:21.915Z"
   },
   {
    "duration": 261,
    "start_time": "2024-05-06T09:41:21.933Z"
   },
   {
    "duration": 6,
    "start_time": "2024-05-06T09:41:22.196Z"
   },
   {
    "duration": 11,
    "start_time": "2024-05-06T09:43:23.892Z"
   },
   {
    "duration": 775,
    "start_time": "2024-05-06T09:44:19.881Z"
   },
   {
    "duration": 740,
    "start_time": "2024-05-06T09:45:23.713Z"
   },
   {
    "duration": 692,
    "start_time": "2024-05-06T09:45:46.900Z"
   },
   {
    "duration": 8,
    "start_time": "2024-05-06T09:47:41.402Z"
   },
   {
    "duration": 1225,
    "start_time": "2024-05-06T09:47:55.842Z"
   },
   {
    "duration": 73,
    "start_time": "2024-05-06T09:47:57.069Z"
   },
   {
    "duration": 17,
    "start_time": "2024-05-06T09:47:57.143Z"
   },
   {
    "duration": 10,
    "start_time": "2024-05-06T09:47:57.162Z"
   },
   {
    "duration": 7,
    "start_time": "2024-05-06T09:47:57.174Z"
   },
   {
    "duration": 12,
    "start_time": "2024-05-06T09:47:57.182Z"
   },
   {
    "duration": 16,
    "start_time": "2024-05-06T09:47:57.196Z"
   },
   {
    "duration": 10,
    "start_time": "2024-05-06T09:47:57.213Z"
   },
   {
    "duration": 24,
    "start_time": "2024-05-06T09:47:57.224Z"
   },
   {
    "duration": 34,
    "start_time": "2024-05-06T09:47:57.250Z"
   },
   {
    "duration": 6,
    "start_time": "2024-05-06T09:47:57.286Z"
   },
   {
    "duration": 4,
    "start_time": "2024-05-06T09:47:57.294Z"
   },
   {
    "duration": 5,
    "start_time": "2024-05-06T09:47:57.300Z"
   },
   {
    "duration": 12,
    "start_time": "2024-05-06T09:47:57.306Z"
   },
   {
    "duration": 9,
    "start_time": "2024-05-06T09:47:57.320Z"
   },
   {
    "duration": 7,
    "start_time": "2024-05-06T09:47:57.330Z"
   },
   {
    "duration": 6,
    "start_time": "2024-05-06T09:47:57.339Z"
   },
   {
    "duration": 40,
    "start_time": "2024-05-06T09:47:57.346Z"
   },
   {
    "duration": 23,
    "start_time": "2024-05-06T09:47:57.388Z"
   },
   {
    "duration": 6,
    "start_time": "2024-05-06T09:47:57.412Z"
   },
   {
    "duration": 6,
    "start_time": "2024-05-06T09:47:57.420Z"
   },
   {
    "duration": 8,
    "start_time": "2024-05-06T09:47:57.428Z"
   },
   {
    "duration": 9,
    "start_time": "2024-05-06T09:47:57.437Z"
   },
   {
    "duration": 10,
    "start_time": "2024-05-06T09:47:57.447Z"
   },
   {
    "duration": 8,
    "start_time": "2024-05-06T09:47:57.481Z"
   },
   {
    "duration": 25,
    "start_time": "2024-05-06T09:47:57.491Z"
   },
   {
    "duration": 8,
    "start_time": "2024-05-06T09:47:57.517Z"
   },
   {
    "duration": 3,
    "start_time": "2024-05-06T09:47:57.529Z"
   },
   {
    "duration": 24,
    "start_time": "2024-05-06T09:47:57.534Z"
   },
   {
    "duration": 10,
    "start_time": "2024-05-06T09:47:57.583Z"
   },
   {
    "duration": 22,
    "start_time": "2024-05-06T09:47:57.595Z"
   },
   {
    "duration": 200,
    "start_time": "2024-05-06T09:47:57.620Z"
   },
   {
    "duration": 213,
    "start_time": "2024-05-06T09:47:57.823Z"
   },
   {
    "duration": 7,
    "start_time": "2024-05-06T09:47:58.038Z"
   },
   {
    "duration": 23,
    "start_time": "2024-05-06T09:47:58.047Z"
   },
   {
    "duration": 191,
    "start_time": "2024-05-06T09:47:58.072Z"
   },
   {
    "duration": 128,
    "start_time": "2024-05-06T09:47:58.264Z"
   },
   {
    "duration": 12,
    "start_time": "2024-05-06T09:47:58.394Z"
   },
   {
    "duration": 12,
    "start_time": "2024-05-06T09:47:58.408Z"
   },
   {
    "duration": 4,
    "start_time": "2024-05-06T09:47:58.421Z"
   },
   {
    "duration": 10,
    "start_time": "2024-05-06T09:47:58.427Z"
   },
   {
    "duration": 179,
    "start_time": "2024-05-06T09:47:58.439Z"
   },
   {
    "duration": 7,
    "start_time": "2024-05-06T09:47:58.619Z"
   },
   {
    "duration": 14,
    "start_time": "2024-05-06T09:47:58.627Z"
   },
   {
    "duration": 152,
    "start_time": "2024-05-06T09:47:58.643Z"
   },
   {
    "duration": 5,
    "start_time": "2024-05-06T09:47:58.796Z"
   },
   {
    "duration": 4,
    "start_time": "2024-05-06T09:47:58.803Z"
   },
   {
    "duration": 194,
    "start_time": "2024-05-06T09:47:58.809Z"
   },
   {
    "duration": 9,
    "start_time": "2024-05-06T09:47:59.005Z"
   },
   {
    "duration": 148,
    "start_time": "2024-05-06T09:47:59.015Z"
   },
   {
    "duration": 5,
    "start_time": "2024-05-06T09:47:59.165Z"
   },
   {
    "duration": 5,
    "start_time": "2024-05-06T09:47:59.181Z"
   },
   {
    "duration": 190,
    "start_time": "2024-05-06T09:47:59.187Z"
   },
   {
    "duration": 8,
    "start_time": "2024-05-06T09:47:59.381Z"
   },
   {
    "duration": 112,
    "start_time": "2024-05-06T09:47:59.390Z"
   },
   {
    "duration": 32,
    "start_time": "2024-05-06T09:47:59.505Z"
   },
   {
    "duration": 14,
    "start_time": "2024-05-06T09:47:59.539Z"
   },
   {
    "duration": 4,
    "start_time": "2024-05-06T09:47:59.554Z"
   },
   {
    "duration": 28,
    "start_time": "2024-05-06T09:47:59.560Z"
   },
   {
    "duration": 4,
    "start_time": "2024-05-06T09:47:59.589Z"
   },
   {
    "duration": 6,
    "start_time": "2024-05-06T09:47:59.595Z"
   },
   {
    "duration": 7,
    "start_time": "2024-05-06T09:47:59.603Z"
   },
   {
    "duration": 18,
    "start_time": "2024-05-06T09:47:59.612Z"
   },
   {
    "duration": 14,
    "start_time": "2024-05-06T09:47:59.632Z"
   },
   {
    "duration": 37,
    "start_time": "2024-05-06T09:47:59.648Z"
   },
   {
    "duration": 8,
    "start_time": "2024-05-06T09:47:59.688Z"
   },
   {
    "duration": 11,
    "start_time": "2024-05-06T09:47:59.698Z"
   },
   {
    "duration": 21,
    "start_time": "2024-05-06T09:47:59.711Z"
   },
   {
    "duration": 13,
    "start_time": "2024-05-06T09:47:59.734Z"
   },
   {
    "duration": 40,
    "start_time": "2024-05-06T09:47:59.749Z"
   },
   {
    "duration": 15,
    "start_time": "2024-05-06T09:47:59.790Z"
   },
   {
    "duration": 209,
    "start_time": "2024-05-06T09:47:59.806Z"
   },
   {
    "duration": 9,
    "start_time": "2024-05-06T09:48:00.016Z"
   },
   {
    "duration": 35,
    "start_time": "2024-05-06T09:48:00.027Z"
   },
   {
    "duration": 22,
    "start_time": "2024-05-06T09:48:00.064Z"
   },
   {
    "duration": 242,
    "start_time": "2024-05-06T09:48:00.088Z"
   },
   {
    "duration": 12,
    "start_time": "2024-05-06T09:48:00.333Z"
   },
   {
    "duration": 72,
    "start_time": "2024-05-06T09:48:00.347Z"
   },
   {
    "duration": 105,
    "start_time": "2024-05-06T09:48:00.421Z"
   },
   {
    "duration": 16,
    "start_time": "2024-05-06T09:48:00.527Z"
   },
   {
    "duration": 40,
    "start_time": "2024-05-06T09:48:00.545Z"
   },
   {
    "duration": 25,
    "start_time": "2024-05-06T09:48:00.592Z"
   },
   {
    "duration": 42,
    "start_time": "2024-05-06T09:48:00.619Z"
   },
   {
    "duration": 71,
    "start_time": "2024-05-06T09:48:00.663Z"
   },
   {
    "duration": 59,
    "start_time": "2024-05-06T09:48:00.736Z"
   },
   {
    "duration": 55,
    "start_time": "2024-05-06T09:48:00.797Z"
   },
   {
    "duration": 264,
    "start_time": "2024-05-06T09:48:00.854Z"
   },
   {
    "duration": 9,
    "start_time": "2024-05-06T09:48:01.120Z"
   },
   {
    "duration": 14,
    "start_time": "2024-05-06T09:51:09.902Z"
   },
   {
    "duration": 16,
    "start_time": "2024-05-06T09:51:28.226Z"
   },
   {
    "duration": 1208,
    "start_time": "2024-05-06T09:51:38.908Z"
   },
   {
    "duration": 74,
    "start_time": "2024-05-06T09:51:40.118Z"
   },
   {
    "duration": 13,
    "start_time": "2024-05-06T09:51:40.193Z"
   },
   {
    "duration": 15,
    "start_time": "2024-05-06T09:51:40.209Z"
   },
   {
    "duration": 20,
    "start_time": "2024-05-06T09:51:40.225Z"
   },
   {
    "duration": 15,
    "start_time": "2024-05-06T09:51:40.246Z"
   },
   {
    "duration": 28,
    "start_time": "2024-05-06T09:51:40.262Z"
   },
   {
    "duration": 21,
    "start_time": "2024-05-06T09:51:40.292Z"
   },
   {
    "duration": 26,
    "start_time": "2024-05-06T09:51:40.315Z"
   },
   {
    "duration": 6,
    "start_time": "2024-05-06T09:51:40.345Z"
   },
   {
    "duration": 6,
    "start_time": "2024-05-06T09:51:40.353Z"
   },
   {
    "duration": 21,
    "start_time": "2024-05-06T09:51:40.361Z"
   },
   {
    "duration": 10,
    "start_time": "2024-05-06T09:51:40.384Z"
   },
   {
    "duration": 10,
    "start_time": "2024-05-06T09:51:40.396Z"
   },
   {
    "duration": 8,
    "start_time": "2024-05-06T09:51:40.407Z"
   },
   {
    "duration": 9,
    "start_time": "2024-05-06T09:51:40.417Z"
   },
   {
    "duration": 7,
    "start_time": "2024-05-06T09:51:40.427Z"
   },
   {
    "duration": 12,
    "start_time": "2024-05-06T09:51:40.435Z"
   },
   {
    "duration": 35,
    "start_time": "2024-05-06T09:51:40.449Z"
   },
   {
    "duration": 5,
    "start_time": "2024-05-06T09:51:40.486Z"
   },
   {
    "duration": 7,
    "start_time": "2024-05-06T09:51:40.492Z"
   },
   {
    "duration": 8,
    "start_time": "2024-05-06T09:51:40.500Z"
   },
   {
    "duration": 5,
    "start_time": "2024-05-06T09:51:40.510Z"
   },
   {
    "duration": 9,
    "start_time": "2024-05-06T09:51:40.517Z"
   },
   {
    "duration": 9,
    "start_time": "2024-05-06T09:51:40.527Z"
   },
   {
    "duration": 60,
    "start_time": "2024-05-06T09:51:40.538Z"
   },
   {
    "duration": 9,
    "start_time": "2024-05-06T09:51:40.600Z"
   },
   {
    "duration": 3,
    "start_time": "2024-05-06T09:51:40.614Z"
   },
   {
    "duration": 18,
    "start_time": "2024-05-06T09:51:40.618Z"
   },
   {
    "duration": 8,
    "start_time": "2024-05-06T09:51:40.638Z"
   },
   {
    "duration": 36,
    "start_time": "2024-05-06T09:51:40.647Z"
   },
   {
    "duration": 198,
    "start_time": "2024-05-06T09:51:40.685Z"
   },
   {
    "duration": 199,
    "start_time": "2024-05-06T09:51:40.885Z"
   },
   {
    "duration": 7,
    "start_time": "2024-05-06T09:51:41.086Z"
   },
   {
    "duration": 17,
    "start_time": "2024-05-06T09:51:41.095Z"
   },
   {
    "duration": 184,
    "start_time": "2024-05-06T09:51:41.114Z"
   },
   {
    "duration": 140,
    "start_time": "2024-05-06T09:51:41.300Z"
   },
   {
    "duration": 15,
    "start_time": "2024-05-06T09:51:41.442Z"
   },
   {
    "duration": 24,
    "start_time": "2024-05-06T09:51:41.459Z"
   },
   {
    "duration": 4,
    "start_time": "2024-05-06T09:51:41.484Z"
   },
   {
    "duration": 9,
    "start_time": "2024-05-06T09:51:41.490Z"
   },
   {
    "duration": 176,
    "start_time": "2024-05-06T09:51:41.500Z"
   },
   {
    "duration": 9,
    "start_time": "2024-05-06T09:51:41.677Z"
   },
   {
    "duration": 8,
    "start_time": "2024-05-06T09:51:41.688Z"
   },
   {
    "duration": 154,
    "start_time": "2024-05-06T09:51:41.697Z"
   },
   {
    "duration": 5,
    "start_time": "2024-05-06T09:51:41.852Z"
   },
   {
    "duration": 5,
    "start_time": "2024-05-06T09:51:41.859Z"
   },
   {
    "duration": 192,
    "start_time": "2024-05-06T09:51:41.865Z"
   },
   {
    "duration": 10,
    "start_time": "2024-05-06T09:51:42.058Z"
   },
   {
    "duration": 149,
    "start_time": "2024-05-06T09:51:42.069Z"
   },
   {
    "duration": 5,
    "start_time": "2024-05-06T09:51:42.220Z"
   },
   {
    "duration": 7,
    "start_time": "2024-05-06T09:51:42.227Z"
   },
   {
    "duration": 191,
    "start_time": "2024-05-06T09:51:42.235Z"
   },
   {
    "duration": 9,
    "start_time": "2024-05-06T09:51:42.428Z"
   },
   {
    "duration": 159,
    "start_time": "2024-05-06T09:51:42.439Z"
   },
   {
    "duration": 32,
    "start_time": "2024-05-06T09:51:42.600Z"
   },
   {
    "duration": 4,
    "start_time": "2024-05-06T09:51:42.634Z"
   },
   {
    "duration": 28,
    "start_time": "2024-05-06T09:51:42.640Z"
   },
   {
    "duration": 14,
    "start_time": "2024-05-06T09:51:42.670Z"
   },
   {
    "duration": 4,
    "start_time": "2024-05-06T09:51:42.686Z"
   },
   {
    "duration": 21,
    "start_time": "2024-05-06T09:51:42.692Z"
   },
   {
    "duration": 11,
    "start_time": "2024-05-06T09:51:42.715Z"
   },
   {
    "duration": 26,
    "start_time": "2024-05-06T09:51:42.728Z"
   },
   {
    "duration": 20,
    "start_time": "2024-05-06T09:51:42.756Z"
   },
   {
    "duration": 21,
    "start_time": "2024-05-06T09:51:42.778Z"
   },
   {
    "duration": 12,
    "start_time": "2024-05-06T09:51:42.801Z"
   },
   {
    "duration": 29,
    "start_time": "2024-05-06T09:51:42.815Z"
   },
   {
    "duration": 21,
    "start_time": "2024-05-06T09:51:42.846Z"
   },
   {
    "duration": 16,
    "start_time": "2024-05-06T09:51:42.869Z"
   },
   {
    "duration": 10,
    "start_time": "2024-05-06T09:51:42.886Z"
   },
   {
    "duration": 14,
    "start_time": "2024-05-06T09:51:42.898Z"
   },
   {
    "duration": 240,
    "start_time": "2024-05-06T09:51:42.914Z"
   },
   {
    "duration": 10,
    "start_time": "2024-05-06T09:51:43.156Z"
   },
   {
    "duration": 18,
    "start_time": "2024-05-06T09:51:43.169Z"
   },
   {
    "duration": 14,
    "start_time": "2024-05-06T09:51:43.189Z"
   },
   {
    "duration": 216,
    "start_time": "2024-05-06T09:51:43.204Z"
   },
   {
    "duration": 11,
    "start_time": "2024-05-06T09:51:43.422Z"
   },
   {
    "duration": 14,
    "start_time": "2024-05-06T09:51:43.434Z"
   },
   {
    "duration": 54,
    "start_time": "2024-05-06T09:51:43.450Z"
   },
   {
    "duration": 6,
    "start_time": "2024-05-06T09:51:43.506Z"
   },
   {
    "duration": 12,
    "start_time": "2024-05-06T09:51:43.513Z"
   },
   {
    "duration": 7,
    "start_time": "2024-05-06T09:51:43.531Z"
   },
   {
    "duration": 14,
    "start_time": "2024-05-06T09:51:43.539Z"
   },
   {
    "duration": 31,
    "start_time": "2024-05-06T09:51:43.554Z"
   },
   {
    "duration": 7,
    "start_time": "2024-05-06T09:51:43.586Z"
   },
   {
    "duration": 9,
    "start_time": "2024-05-06T09:51:43.595Z"
   },
   {
    "duration": 248,
    "start_time": "2024-05-06T09:51:43.606Z"
   },
   {
    "duration": 6,
    "start_time": "2024-05-06T09:51:43.856Z"
   },
   {
    "duration": 1218,
    "start_time": "2024-05-06T09:55:20.841Z"
   },
   {
    "duration": 72,
    "start_time": "2024-05-06T09:55:22.061Z"
   },
   {
    "duration": 13,
    "start_time": "2024-05-06T09:55:22.134Z"
   },
   {
    "duration": 10,
    "start_time": "2024-05-06T09:55:22.149Z"
   },
   {
    "duration": 14,
    "start_time": "2024-05-06T09:55:22.160Z"
   },
   {
    "duration": 13,
    "start_time": "2024-05-06T09:55:22.176Z"
   },
   {
    "duration": 13,
    "start_time": "2024-05-06T09:55:22.191Z"
   },
   {
    "duration": 10,
    "start_time": "2024-05-06T09:55:22.206Z"
   },
   {
    "duration": 23,
    "start_time": "2024-05-06T09:55:22.217Z"
   },
   {
    "duration": 7,
    "start_time": "2024-05-06T09:55:22.243Z"
   },
   {
    "duration": 31,
    "start_time": "2024-05-06T09:55:22.252Z"
   },
   {
    "duration": 7,
    "start_time": "2024-05-06T09:55:22.285Z"
   },
   {
    "duration": 6,
    "start_time": "2024-05-06T09:55:22.294Z"
   },
   {
    "duration": 13,
    "start_time": "2024-05-06T09:55:22.301Z"
   },
   {
    "duration": 10,
    "start_time": "2024-05-06T09:55:22.315Z"
   },
   {
    "duration": 7,
    "start_time": "2024-05-06T09:55:22.327Z"
   },
   {
    "duration": 7,
    "start_time": "2024-05-06T09:55:22.337Z"
   },
   {
    "duration": 7,
    "start_time": "2024-05-06T09:55:22.381Z"
   },
   {
    "duration": 11,
    "start_time": "2024-05-06T09:55:22.391Z"
   },
   {
    "duration": 6,
    "start_time": "2024-05-06T09:55:22.404Z"
   },
   {
    "duration": 6,
    "start_time": "2024-05-06T09:55:22.412Z"
   },
   {
    "duration": 6,
    "start_time": "2024-05-06T09:55:22.420Z"
   },
   {
    "duration": 7,
    "start_time": "2024-05-06T09:55:22.428Z"
   },
   {
    "duration": 6,
    "start_time": "2024-05-06T09:55:22.436Z"
   },
   {
    "duration": 8,
    "start_time": "2024-05-06T09:55:22.483Z"
   },
   {
    "duration": 39,
    "start_time": "2024-05-06T09:55:22.492Z"
   },
   {
    "duration": 13,
    "start_time": "2024-05-06T09:55:22.532Z"
   },
   {
    "duration": 6,
    "start_time": "2024-05-06T09:55:22.550Z"
   },
   {
    "duration": 30,
    "start_time": "2024-05-06T09:55:22.558Z"
   },
   {
    "duration": 14,
    "start_time": "2024-05-06T09:55:22.590Z"
   },
   {
    "duration": 18,
    "start_time": "2024-05-06T09:55:22.606Z"
   },
   {
    "duration": 194,
    "start_time": "2024-05-06T09:55:22.626Z"
   },
   {
    "duration": 195,
    "start_time": "2024-05-06T09:55:22.821Z"
   },
   {
    "duration": 10,
    "start_time": "2024-05-06T09:55:23.017Z"
   },
   {
    "duration": 12,
    "start_time": "2024-05-06T09:55:23.028Z"
   },
   {
    "duration": 201,
    "start_time": "2024-05-06T09:55:23.041Z"
   },
   {
    "duration": 152,
    "start_time": "2024-05-06T09:55:23.244Z"
   },
   {
    "duration": 13,
    "start_time": "2024-05-06T09:55:23.397Z"
   },
   {
    "duration": 11,
    "start_time": "2024-05-06T09:55:23.411Z"
   },
   {
    "duration": 12,
    "start_time": "2024-05-06T09:55:23.423Z"
   },
   {
    "duration": 6,
    "start_time": "2024-05-06T09:55:23.437Z"
   },
   {
    "duration": 180,
    "start_time": "2024-05-06T09:55:23.444Z"
   },
   {
    "duration": 6,
    "start_time": "2024-05-06T09:55:23.625Z"
   },
   {
    "duration": 41,
    "start_time": "2024-05-06T09:55:23.633Z"
   },
   {
    "duration": 142,
    "start_time": "2024-05-06T09:55:23.676Z"
   },
   {
    "duration": 5,
    "start_time": "2024-05-06T09:55:23.819Z"
   },
   {
    "duration": 11,
    "start_time": "2024-05-06T09:55:23.826Z"
   },
   {
    "duration": 199,
    "start_time": "2024-05-06T09:55:23.839Z"
   },
   {
    "duration": 9,
    "start_time": "2024-05-06T09:55:24.040Z"
   },
   {
    "duration": 148,
    "start_time": "2024-05-06T09:55:24.051Z"
   },
   {
    "duration": 5,
    "start_time": "2024-05-06T09:55:24.200Z"
   },
   {
    "duration": 11,
    "start_time": "2024-05-06T09:55:24.206Z"
   },
   {
    "duration": 186,
    "start_time": "2024-05-06T09:55:24.219Z"
   },
   {
    "duration": 8,
    "start_time": "2024-05-06T09:55:24.408Z"
   },
   {
    "duration": 119,
    "start_time": "2024-05-06T09:55:24.418Z"
   },
   {
    "duration": 30,
    "start_time": "2024-05-06T09:55:24.540Z"
   },
   {
    "duration": 11,
    "start_time": "2024-05-06T09:55:24.572Z"
   },
   {
    "duration": 16,
    "start_time": "2024-05-06T09:55:24.584Z"
   },
   {
    "duration": 4,
    "start_time": "2024-05-06T09:55:24.602Z"
   },
   {
    "duration": 7,
    "start_time": "2024-05-06T09:55:24.608Z"
   },
   {
    "duration": 6,
    "start_time": "2024-05-06T09:55:24.617Z"
   },
   {
    "duration": 6,
    "start_time": "2024-05-06T09:55:24.625Z"
   },
   {
    "duration": 58,
    "start_time": "2024-05-06T09:55:24.633Z"
   },
   {
    "duration": 17,
    "start_time": "2024-05-06T09:55:24.693Z"
   },
   {
    "duration": 6,
    "start_time": "2024-05-06T09:55:24.712Z"
   },
   {
    "duration": 7,
    "start_time": "2024-05-06T09:55:24.720Z"
   },
   {
    "duration": 14,
    "start_time": "2024-05-06T09:55:24.729Z"
   },
   {
    "duration": 40,
    "start_time": "2024-05-06T09:55:24.745Z"
   },
   {
    "duration": 11,
    "start_time": "2024-05-06T09:55:24.786Z"
   },
   {
    "duration": 16,
    "start_time": "2024-05-06T09:55:24.799Z"
   },
   {
    "duration": 18,
    "start_time": "2024-05-06T09:55:24.817Z"
   },
   {
    "duration": 240,
    "start_time": "2024-05-06T09:55:24.836Z"
   },
   {
    "duration": 11,
    "start_time": "2024-05-06T09:55:25.078Z"
   },
   {
    "duration": 9,
    "start_time": "2024-05-06T09:55:25.090Z"
   },
   {
    "duration": 11,
    "start_time": "2024-05-06T09:55:25.100Z"
   },
   {
    "duration": 220,
    "start_time": "2024-05-06T09:55:25.112Z"
   },
   {
    "duration": 9,
    "start_time": "2024-05-06T09:55:25.334Z"
   },
   {
    "duration": 25,
    "start_time": "2024-05-06T09:55:25.344Z"
   },
   {
    "duration": 34,
    "start_time": "2024-05-06T09:55:25.370Z"
   },
   {
    "duration": 6,
    "start_time": "2024-05-06T09:55:25.405Z"
   },
   {
    "duration": 21,
    "start_time": "2024-05-06T09:55:25.412Z"
   },
   {
    "duration": 5,
    "start_time": "2024-05-06T09:55:25.438Z"
   },
   {
    "duration": 14,
    "start_time": "2024-05-06T09:55:25.445Z"
   },
   {
    "duration": 9,
    "start_time": "2024-05-06T09:55:25.482Z"
   },
   {
    "duration": 10,
    "start_time": "2024-05-06T09:55:25.493Z"
   },
   {
    "duration": 10,
    "start_time": "2024-05-06T09:55:25.505Z"
   },
   {
    "duration": 248,
    "start_time": "2024-05-06T09:55:25.517Z"
   },
   {
    "duration": 7,
    "start_time": "2024-05-06T09:55:25.766Z"
   },
   {
    "duration": 1116,
    "start_time": "2024-05-06T14:28:25.294Z"
   },
   {
    "duration": 70,
    "start_time": "2024-05-06T14:28:26.413Z"
   },
   {
    "duration": 13,
    "start_time": "2024-05-06T14:28:26.485Z"
   },
   {
    "duration": 10,
    "start_time": "2024-05-06T14:28:26.500Z"
   },
   {
    "duration": 19,
    "start_time": "2024-05-06T14:28:26.511Z"
   },
   {
    "duration": 24,
    "start_time": "2024-05-06T14:28:26.532Z"
   },
   {
    "duration": 37,
    "start_time": "2024-05-06T14:28:26.557Z"
   },
   {
    "duration": 12,
    "start_time": "2024-05-06T14:28:26.596Z"
   },
   {
    "duration": 28,
    "start_time": "2024-05-06T14:28:26.610Z"
   },
   {
    "duration": 9,
    "start_time": "2024-05-06T14:28:26.642Z"
   },
   {
    "duration": 30,
    "start_time": "2024-05-06T14:28:26.653Z"
   },
   {
    "duration": 37,
    "start_time": "2024-05-06T14:28:26.684Z"
   },
   {
    "duration": 10,
    "start_time": "2024-05-06T14:28:26.722Z"
   },
   {
    "duration": 25,
    "start_time": "2024-05-06T14:28:26.733Z"
   },
   {
    "duration": 23,
    "start_time": "2024-05-06T14:28:26.759Z"
   },
   {
    "duration": 17,
    "start_time": "2024-05-06T14:28:26.783Z"
   },
   {
    "duration": 7,
    "start_time": "2024-05-06T14:28:26.802Z"
   },
   {
    "duration": 41,
    "start_time": "2024-05-06T14:28:26.810Z"
   },
   {
    "duration": 48,
    "start_time": "2024-05-06T14:28:26.853Z"
   },
   {
    "duration": 16,
    "start_time": "2024-05-06T14:28:26.903Z"
   },
   {
    "duration": 17,
    "start_time": "2024-05-06T14:28:26.921Z"
   },
   {
    "duration": 26,
    "start_time": "2024-05-06T14:28:26.940Z"
   },
   {
    "duration": 27,
    "start_time": "2024-05-06T14:28:26.968Z"
   },
   {
    "duration": 11,
    "start_time": "2024-05-06T14:28:26.997Z"
   },
   {
    "duration": 20,
    "start_time": "2024-05-06T14:28:27.010Z"
   },
   {
    "duration": 25,
    "start_time": "2024-05-06T14:28:27.032Z"
   },
   {
    "duration": 21,
    "start_time": "2024-05-06T14:28:27.059Z"
   },
   {
    "duration": 24,
    "start_time": "2024-05-06T14:28:27.086Z"
   },
   {
    "duration": 17,
    "start_time": "2024-05-06T14:28:27.112Z"
   },
   {
    "duration": 11,
    "start_time": "2024-05-06T14:28:27.131Z"
   },
   {
    "duration": 23,
    "start_time": "2024-05-06T14:28:27.143Z"
   },
   {
    "duration": 191,
    "start_time": "2024-05-06T14:28:27.167Z"
   },
   {
    "duration": 196,
    "start_time": "2024-05-06T14:28:27.360Z"
   },
   {
    "duration": 7,
    "start_time": "2024-05-06T14:28:27.558Z"
   },
   {
    "duration": 18,
    "start_time": "2024-05-06T14:28:27.567Z"
   },
   {
    "duration": 161,
    "start_time": "2024-05-06T14:28:27.587Z"
   },
   {
    "duration": 127,
    "start_time": "2024-05-06T14:28:27.750Z"
   },
   {
    "duration": 13,
    "start_time": "2024-05-06T14:28:27.879Z"
   },
   {
    "duration": 16,
    "start_time": "2024-05-06T14:28:27.893Z"
   },
   {
    "duration": 26,
    "start_time": "2024-05-06T14:28:27.910Z"
   },
   {
    "duration": 13,
    "start_time": "2024-05-06T14:28:27.937Z"
   },
   {
    "duration": 181,
    "start_time": "2024-05-06T14:28:27.951Z"
   },
   {
    "duration": 7,
    "start_time": "2024-05-06T14:28:28.134Z"
   },
   {
    "duration": 24,
    "start_time": "2024-05-06T14:28:28.142Z"
   },
   {
    "duration": 140,
    "start_time": "2024-05-06T14:28:28.168Z"
   },
   {
    "duration": 5,
    "start_time": "2024-05-06T14:28:28.310Z"
   },
   {
    "duration": 5,
    "start_time": "2024-05-06T14:28:28.330Z"
   },
   {
    "duration": 178,
    "start_time": "2024-05-06T14:28:28.336Z"
   },
   {
    "duration": 15,
    "start_time": "2024-05-06T14:28:28.515Z"
   },
   {
    "duration": 139,
    "start_time": "2024-05-06T14:28:28.532Z"
   },
   {
    "duration": 5,
    "start_time": "2024-05-06T14:28:28.673Z"
   },
   {
    "duration": 18,
    "start_time": "2024-05-06T14:28:28.679Z"
   },
   {
    "duration": 175,
    "start_time": "2024-05-06T14:28:28.699Z"
   },
   {
    "duration": 9,
    "start_time": "2024-05-06T14:28:28.876Z"
   },
   {
    "duration": 105,
    "start_time": "2024-05-06T14:28:28.887Z"
   },
   {
    "duration": 26,
    "start_time": "2024-05-06T14:28:28.993Z"
   },
   {
    "duration": 9,
    "start_time": "2024-05-06T14:28:29.021Z"
   },
   {
    "duration": 29,
    "start_time": "2024-05-06T14:28:29.032Z"
   },
   {
    "duration": 4,
    "start_time": "2024-05-06T14:28:29.063Z"
   },
   {
    "duration": 13,
    "start_time": "2024-05-06T14:28:29.068Z"
   },
   {
    "duration": 12,
    "start_time": "2024-05-06T14:28:29.083Z"
   },
   {
    "duration": 12,
    "start_time": "2024-05-06T14:28:29.097Z"
   },
   {
    "duration": 36,
    "start_time": "2024-05-06T14:28:29.111Z"
   },
   {
    "duration": 16,
    "start_time": "2024-05-06T14:28:29.148Z"
   },
   {
    "duration": 14,
    "start_time": "2024-05-06T14:28:29.165Z"
   },
   {
    "duration": 8,
    "start_time": "2024-05-06T14:28:29.180Z"
   },
   {
    "duration": 63,
    "start_time": "2024-05-06T14:28:29.189Z"
   },
   {
    "duration": 22,
    "start_time": "2024-05-06T14:28:29.254Z"
   },
   {
    "duration": 30,
    "start_time": "2024-05-06T14:28:29.278Z"
   },
   {
    "duration": 8,
    "start_time": "2024-05-06T14:28:29.309Z"
   },
   {
    "duration": 11,
    "start_time": "2024-05-06T14:28:29.319Z"
   },
   {
    "duration": 205,
    "start_time": "2024-05-06T14:28:29.331Z"
   },
   {
    "duration": 10,
    "start_time": "2024-05-06T14:28:29.538Z"
   },
   {
    "duration": 30,
    "start_time": "2024-05-06T14:28:29.550Z"
   },
   {
    "duration": 11,
    "start_time": "2024-05-06T14:28:29.582Z"
   },
   {
    "duration": 219,
    "start_time": "2024-05-06T14:28:29.595Z"
   },
   {
    "duration": 18,
    "start_time": "2024-05-06T14:28:29.816Z"
   },
   {
    "duration": 13,
    "start_time": "2024-05-06T14:28:29.836Z"
   },
   {
    "duration": 36,
    "start_time": "2024-05-06T14:28:29.850Z"
   },
   {
    "duration": 6,
    "start_time": "2024-05-06T14:28:29.888Z"
   },
   {
    "duration": 39,
    "start_time": "2024-05-06T14:28:29.895Z"
   },
   {
    "duration": 18,
    "start_time": "2024-05-06T14:28:29.940Z"
   },
   {
    "duration": 14,
    "start_time": "2024-05-06T14:28:29.960Z"
   },
   {
    "duration": 22,
    "start_time": "2024-05-06T14:28:29.975Z"
   },
   {
    "duration": 66,
    "start_time": "2024-05-06T14:28:29.999Z"
   },
   {
    "duration": 92,
    "start_time": "2024-05-06T14:28:30.066Z"
   },
   {
    "duration": 296,
    "start_time": "2024-05-06T14:28:30.160Z"
   },
   {
    "duration": 6,
    "start_time": "2024-05-06T14:28:30.458Z"
   },
   {
    "duration": 1200,
    "start_time": "2024-05-06T14:33:24.901Z"
   },
   {
    "duration": 69,
    "start_time": "2024-05-06T14:33:26.103Z"
   },
   {
    "duration": 11,
    "start_time": "2024-05-06T14:33:26.174Z"
   },
   {
    "duration": 27,
    "start_time": "2024-05-06T14:33:26.187Z"
   },
   {
    "duration": 26,
    "start_time": "2024-05-06T14:33:26.216Z"
   },
   {
    "duration": 11,
    "start_time": "2024-05-06T14:33:26.244Z"
   },
   {
    "duration": 23,
    "start_time": "2024-05-06T14:33:26.257Z"
   },
   {
    "duration": 16,
    "start_time": "2024-05-06T14:33:26.282Z"
   },
   {
    "duration": 26,
    "start_time": "2024-05-06T14:33:26.299Z"
   },
   {
    "duration": 7,
    "start_time": "2024-05-06T14:33:26.329Z"
   },
   {
    "duration": 18,
    "start_time": "2024-05-06T14:33:26.338Z"
   },
   {
    "duration": 8,
    "start_time": "2024-05-06T14:33:26.358Z"
   },
   {
    "duration": 24,
    "start_time": "2024-05-06T14:33:26.368Z"
   },
   {
    "duration": 10,
    "start_time": "2024-05-06T14:33:26.394Z"
   },
   {
    "duration": 14,
    "start_time": "2024-05-06T14:33:26.405Z"
   },
   {
    "duration": 12,
    "start_time": "2024-05-06T14:33:26.421Z"
   },
   {
    "duration": 6,
    "start_time": "2024-05-06T14:33:26.435Z"
   },
   {
    "duration": 9,
    "start_time": "2024-05-06T14:33:26.442Z"
   },
   {
    "duration": 19,
    "start_time": "2024-05-06T14:33:26.453Z"
   },
   {
    "duration": 10,
    "start_time": "2024-05-06T14:33:26.473Z"
   },
   {
    "duration": 15,
    "start_time": "2024-05-06T14:33:26.485Z"
   },
   {
    "duration": 12,
    "start_time": "2024-05-06T14:33:26.502Z"
   },
   {
    "duration": 6,
    "start_time": "2024-05-06T14:33:26.529Z"
   },
   {
    "duration": 6,
    "start_time": "2024-05-06T14:33:26.537Z"
   },
   {
    "duration": 17,
    "start_time": "2024-05-06T14:33:26.545Z"
   },
   {
    "duration": 20,
    "start_time": "2024-05-06T14:33:26.564Z"
   },
   {
    "duration": 7,
    "start_time": "2024-05-06T14:33:26.586Z"
   },
   {
    "duration": 7,
    "start_time": "2024-05-06T14:33:26.597Z"
   },
   {
    "duration": 31,
    "start_time": "2024-05-06T14:33:26.605Z"
   },
   {
    "duration": 12,
    "start_time": "2024-05-06T14:33:26.637Z"
   },
   {
    "duration": 23,
    "start_time": "2024-05-06T14:33:26.651Z"
   },
   {
    "duration": 193,
    "start_time": "2024-05-06T14:33:26.676Z"
   },
   {
    "duration": 187,
    "start_time": "2024-05-06T14:33:26.871Z"
   },
   {
    "duration": 7,
    "start_time": "2024-05-06T14:33:27.059Z"
   },
   {
    "duration": 17,
    "start_time": "2024-05-06T14:33:27.067Z"
   },
   {
    "duration": 166,
    "start_time": "2024-05-06T14:33:27.085Z"
   },
   {
    "duration": 128,
    "start_time": "2024-05-06T14:33:27.252Z"
   },
   {
    "duration": 14,
    "start_time": "2024-05-06T14:33:27.382Z"
   },
   {
    "duration": 8,
    "start_time": "2024-05-06T14:33:27.398Z"
   },
   {
    "duration": 22,
    "start_time": "2024-05-06T14:33:27.408Z"
   },
   {
    "duration": 7,
    "start_time": "2024-05-06T14:33:27.431Z"
   },
   {
    "duration": 179,
    "start_time": "2024-05-06T14:33:27.440Z"
   },
   {
    "duration": 11,
    "start_time": "2024-05-06T14:33:27.621Z"
   },
   {
    "duration": 17,
    "start_time": "2024-05-06T14:33:27.634Z"
   },
   {
    "duration": 145,
    "start_time": "2024-05-06T14:33:27.652Z"
   },
   {
    "duration": 5,
    "start_time": "2024-05-06T14:33:27.798Z"
   },
   {
    "duration": 16,
    "start_time": "2024-05-06T14:33:27.805Z"
   },
   {
    "duration": 179,
    "start_time": "2024-05-06T14:33:27.822Z"
   },
   {
    "duration": 8,
    "start_time": "2024-05-06T14:33:28.003Z"
   },
   {
    "duration": 199,
    "start_time": "2024-05-06T14:33:28.012Z"
   },
   {
    "duration": 5,
    "start_time": "2024-05-06T14:33:28.213Z"
   },
   {
    "duration": 19,
    "start_time": "2024-05-06T14:33:28.220Z"
   },
   {
    "duration": 199,
    "start_time": "2024-05-06T14:33:28.241Z"
   },
   {
    "duration": 8,
    "start_time": "2024-05-06T14:33:28.442Z"
   },
   {
    "duration": 113,
    "start_time": "2024-05-06T14:33:28.452Z"
   },
   {
    "duration": 23,
    "start_time": "2024-05-06T14:33:28.567Z"
   },
   {
    "duration": 13,
    "start_time": "2024-05-06T14:33:28.592Z"
   },
   {
    "duration": 17,
    "start_time": "2024-05-06T14:33:28.607Z"
   },
   {
    "duration": 4,
    "start_time": "2024-05-06T14:33:28.626Z"
   },
   {
    "duration": 21,
    "start_time": "2024-05-06T14:33:28.632Z"
   },
   {
    "duration": 14,
    "start_time": "2024-05-06T14:33:28.655Z"
   },
   {
    "duration": 7,
    "start_time": "2024-05-06T14:33:28.671Z"
   },
   {
    "duration": 12,
    "start_time": "2024-05-06T14:33:28.679Z"
   },
   {
    "duration": 9,
    "start_time": "2024-05-06T14:33:28.692Z"
   },
   {
    "duration": 16,
    "start_time": "2024-05-06T14:33:28.702Z"
   },
   {
    "duration": 4,
    "start_time": "2024-05-06T14:33:28.720Z"
   },
   {
    "duration": 21,
    "start_time": "2024-05-06T14:33:28.725Z"
   },
   {
    "duration": 15,
    "start_time": "2024-05-06T14:33:28.748Z"
   },
   {
    "duration": 19,
    "start_time": "2024-05-06T14:33:28.765Z"
   },
   {
    "duration": 14,
    "start_time": "2024-05-06T14:33:28.786Z"
   },
   {
    "duration": 10,
    "start_time": "2024-05-06T14:33:28.802Z"
   },
   {
    "duration": 201,
    "start_time": "2024-05-06T14:33:28.814Z"
   },
   {
    "duration": 15,
    "start_time": "2024-05-06T14:33:29.016Z"
   },
   {
    "duration": 8,
    "start_time": "2024-05-06T14:33:29.032Z"
   },
   {
    "duration": 22,
    "start_time": "2024-05-06T14:33:29.042Z"
   },
   {
    "duration": 209,
    "start_time": "2024-05-06T14:33:29.065Z"
   },
   {
    "duration": 9,
    "start_time": "2024-05-06T14:33:29.276Z"
   },
   {
    "duration": 12,
    "start_time": "2024-05-06T14:33:29.287Z"
   },
   {
    "duration": 46,
    "start_time": "2024-05-06T14:33:29.301Z"
   },
   {
    "duration": 6,
    "start_time": "2024-05-06T14:33:29.349Z"
   },
   {
    "duration": 18,
    "start_time": "2024-05-06T14:33:29.356Z"
   },
   {
    "duration": 5,
    "start_time": "2024-05-06T14:33:29.380Z"
   },
   {
    "duration": 26,
    "start_time": "2024-05-06T14:33:29.386Z"
   },
   {
    "duration": 19,
    "start_time": "2024-05-06T14:33:29.413Z"
   },
   {
    "duration": 19,
    "start_time": "2024-05-06T14:33:29.434Z"
   },
   {
    "duration": 21,
    "start_time": "2024-05-06T14:33:29.455Z"
   },
   {
    "duration": 220,
    "start_time": "2024-05-06T14:33:29.478Z"
   },
   {
    "duration": 6,
    "start_time": "2024-05-06T14:33:29.700Z"
   }
  ],
  "kernelspec": {
   "display_name": "Python 3 (ipykernel)",
   "language": "python",
   "name": "python3"
  },
  "language_info": {
   "codemirror_mode": {
    "name": "ipython",
    "version": 3
   },
   "file_extension": ".py",
   "mimetype": "text/x-python",
   "name": "python",
   "nbconvert_exporter": "python",
   "pygments_lexer": "ipython3",
   "version": "3.11.7"
  },
  "toc": {
   "base_numbering": 1,
   "nav_menu": {},
   "number_sections": true,
   "sideBar": true,
   "skip_h1_title": true,
   "title_cell": "Table of Contents",
   "title_sidebar": "Contents",
   "toc_cell": false,
   "toc_position": {
    "height": "calc(100% - 180px)",
    "left": "10px",
    "top": "150px",
    "width": "165px"
   },
   "toc_section_display": true,
   "toc_window_display": true
  }
 },
 "nbformat": 4,
 "nbformat_minor": 5
}
