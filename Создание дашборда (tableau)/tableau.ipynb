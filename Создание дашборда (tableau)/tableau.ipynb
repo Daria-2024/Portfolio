{
 "cells": [
  {
   "cell_type": "markdown",
   "id": "b8485bb1",
   "metadata": {},
   "source": [
    "<div style=\"border:solid black 2px; padding: 20px\">\n",
    "\n",
    "**Проект: Построение дашбордов в Tableau.**\n",
    "    \n",
    "[Исследование истории и основных параметров TED-конференций](https://public.tableau.com/app/profile/daria.orlova4198/viz/project_TED_17207279603580/TED_3?publish=yes)\n",
    "\n",
    "</div>"
   ]
  },
  {
   "cell_type": "markdown",
   "id": "0511c00d-4182-4180-8ec5-5db5f6abe2b2",
   "metadata": {},
   "source": [
    "<div style=\"border:solid black 2px; padding: 20px\">\n",
    "\n",
    "Проведем исследование истории и основных параметров TED-конференций.\n",
    "\n",
    "TED — некоммерческий фонд, который проводит популярные конференции. На них выступают специалисты из разных областей и читают лекции на актуальные социальные, культурные и научные темы. \n",
    "\n",
    "Исследуем историю TED-конференций с помощью Tableau.\n",
    "    \n",
    "Данные собраны на основе материалов сайта TED с помощью специальной программы.\n",
    "\n",
    "**Цели исследования:**\n",
    "* Исследовать историю выступлений в разрезе стран.\n",
    "* Выявить основные тематики выступлений.\n",
    "* Изучить основные профессиональные области авторов выступлений.\n",
    "* Сделать категоризацию конференций по типам и выявить основные типы конференций.\n",
    "\n",
    "\n",
    "**Ход исследования:**\n",
    "\n",
    "* Загрузка и обзор данных\n",
    "* Создание дашборд «История выступлений»\n",
    "* Создание дашборда «Тематики выступлений»\n",
    "* Создание дашборда «Авторы выступлений»\n",
    "* Создание дашборда «Типы конференций»\n",
    "* Создание презентации\n",
    "\n",
    "**Описание данных:**\n",
    "\n",
    "Файлы tableau_project_data_1.csv, tableau_project_data_2.csv, tableau_project_data_3.csv хранят данные выступлений. У них одинаковая структура:\n",
    "\n",
    "* talk_id — идентификатор выступления\n",
    "* url — ссылка на запись выступления\n",
    "* title — название выступления\n",
    "* description — краткое описание\n",
    "* film_date — дата записи выступления\n",
    "* duration — длительность в секундах\n",
    "* views — количество просмотров\n",
    "* main_tag — основная категория, к которой относится выступление\n",
    "* speaker_id — уникальный идентификатор автора выступления\n",
    "* laughter_count — количество раз, когда аудитория смеялась в ходе выступления\n",
    "* applause_count — количество раз, когда аудитория аплодировала в ходе выступления\n",
    "* language — язык, на котором велось выступление\n",
    "* event_id — уникальный идентификатор конференции\n",
    "\n",
    "Файл tableau_project_event_dict.csv — справочник конференций.\n",
    "\n",
    "* conf_id — уникальный идентификатор конференции\n",
    "* event — название конференции\n",
    "* country — страна проведения конференции\n",
    "\n",
    "Файл tableau_project_speakers_dict.csv — справочник авторов выступления.\n",
    "\n",
    "* author_id — уникальный идентификатор автора выступления\n",
    "* speaker_name — имя автора\n",
    "* speaker_occupation — профессиональная область автора\n",
    "* speaker_description — описание профессиональной деятельности автора\n",
    "\n",
    "\n",
    "</div>"
   ]
  }
 ],
 "metadata": {
  "kernelspec": {
   "display_name": "Python 3 (ipykernel)",
   "language": "python",
   "name": "python3"
  },
  "language_info": {
   "codemirror_mode": {
    "name": "ipython",
    "version": 3
   },
   "file_extension": ".py",
   "mimetype": "text/x-python",
   "name": "python",
   "nbconvert_exporter": "python",
   "pygments_lexer": "ipython3",
   "version": "3.11.7"
  },
  "toc": {
   "base_numbering": 1,
   "nav_menu": {},
   "number_sections": true,
   "sideBar": true,
   "skip_h1_title": true,
   "title_cell": "Table of Contents",
   "title_sidebar": "Contents",
   "toc_cell": false,
   "toc_position": {},
   "toc_section_display": true,
   "toc_window_display": false
  }
 },
 "nbformat": 4,
 "nbformat_minor": 5
}
