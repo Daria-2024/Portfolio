{
 "cells": [
  {
   "cell_type": "markdown",
   "id": "080dfc7d-ba52-4e97-af9f-959d74727eb8",
   "metadata": {},
   "source": [
    "# Исследование мобильного приложения стартапа по продажам продуктов питания"
   ]
  },
  {
   "cell_type": "markdown",
   "id": "1ac9e53f-f67a-4af8-a5bf-b07f14efdf57",
   "metadata": {},
   "source": [
    "<a id=\"Начало_проекта\"></a>"
   ]
  },
  {
   "cell_type": "markdown",
   "id": "001e5c20-bd05-4cec-9de2-0f175fb2aff9",
   "metadata": {},
   "source": [
    "<div style=\"border:solid black 2px; padding: 20px\">\n",
    "\n",
    "Проведем исследовательский анализ на данных мобильного приложения стартапа по продажам продуктов питания.\n",
    "\n",
    "Дизайнеры хотят поменять шрифты во всем приложении, но у менеджеров есть сомнения, что пользователям будет непривычно. Примем решение по результатам A/A/B-теста. Пользователей разбили на 3 группы: 2 контрольные со старыми шрифтами и одну экспериментальную — с новыми.\n",
    "\n",
    "**Цели исследования:** \n",
    "* Разобраться, как ведут себя пользователи мобильного приложения.\n",
    "* Изучить воронку продаж. \n",
    "* Исследовать результаты A/A/B-эксперимента.\n",
    "* Принять решение по результатам A/A/B-эксперимента.\n",
    "\n",
    "**Ход исследования**\n",
    "\n",
    "Данные о поведении пользователей получили из файла `/datasets/logs_exp.csv`. О качестве данных нам ничего не известно. Поэтому перед проверкой гипотез проведем обзор данных. \n",
    "\n",
    "Таким образом, исследование пройдёт в несколько этапов:\n",
    "1. [Загрузка и обзор данных](#загрузка)\n",
    "2. [Предобработка данных](#предобработка)\n",
    "3. [Исследовательский анализ данных](#исследовательский)\n",
    "4. [Воронка событий](#воронка)\n",
    "5. [Анализ A/A/B-эксперимента](#эксперимент)\n",
    "7. [Итоги исследования](#итоги)\n",
    "\n",
    "**Описание данных**\n",
    "\n",
    "Файл *logs_exp.csv*:\n",
    "* EventName — название события;\n",
    "* DeviceIDHash — уникальный идентификатор пользователя;\n",
    "* EventTimestamp — время события;\n",
    "* ExpId — номер эксперимента: 246 и 247 — контрольные группы, а 248 — экспериментальная.\n",
    "\n",
    "\n",
    "</div>"
   ]
  },
  {
   "cell_type": "markdown",
   "id": "6d6d0733-4ff1-4119-946d-85cb27bb66aa",
   "metadata": {},
   "source": [
    "[Начало_проекта](#Начало_проекта)"
   ]
  },
  {
   "cell_type": "markdown",
   "id": "c6d4e01f-0a67-418d-b303-e30fa2bcd95c",
   "metadata": {},
   "source": [
    "<a id=\"загрузка\"></a>"
   ]
  },
  {
   "cell_type": "markdown",
   "id": "df6255ed-8c56-498e-a9c3-a758de588c0d",
   "metadata": {},
   "source": [
    "## Загрузка и обзор данных"
   ]
  },
  {
   "cell_type": "markdown",
   "id": "0c8611f2-26a7-443a-8619-9e8b5b344bb8",
   "metadata": {},
   "source": [
    "### Импортируем библиотеки. Считываем данные из csv-файла и сохраняем в переменную"
   ]
  },
  {
   "cell_type": "code",
   "execution_count": 1,
   "id": "f818ea90-babb-4a22-a4eb-06c78bda1397",
   "metadata": {},
   "outputs": [],
   "source": [
    "import pandas as pd\n",
    "import scipy.stats as stats\n",
    "from scipy import stats as st\n",
    "import datetime as dt\n",
    "import numpy as np\n",
    "from matplotlib import pyplot as plt\n",
    "import plotly.express as px\n",
    "from plotly import graph_objects as go\n",
    "from plotly.subplots import make_subplots\n",
    "import math as mth"
   ]
  },
  {
   "cell_type": "code",
   "execution_count": 2,
   "id": "e0cf8da2-07dd-4369-82bc-7c90f395e424",
   "metadata": {},
   "outputs": [],
   "source": [
    "try:\n",
    "    data = pd.read_csv('/datasets/logs_exp.csv', sep='\\t') \n",
    "except:\n",
    "    data = pd.read_csv('logs_exp.csv', sep='\\t')"
   ]
  },
  {
   "cell_type": "markdown",
   "id": "47a2ef1b-df37-465e-87d5-74d23be305c2",
   "metadata": {},
   "source": [
    "### Получим общую информацию о таблице"
   ]
  },
  {
   "cell_type": "code",
   "execution_count": 3,
   "id": "04aa1ce4-f5ab-4796-a41c-11ad84b24e32",
   "metadata": {},
   "outputs": [],
   "source": [
    "def data_info(data):\n",
    "    print('-'*50)\n",
    "    print('Первые 5 строк')\n",
    "    print('-'*50)\n",
    "    display(data.head())\n",
    "    print('-'*50)\n",
    "    print('Общая информация')\n",
    "    print('-'*50)\n",
    "    data.info()\n",
    "    print('-'*50)\n",
    "    print('Основные статистические данные')\n",
    "    print('-'*50)\n",
    "    display(data.describe().T)\n",
    "    print('-'*50)\n",
    "    print('Подсчет пропусков')\n",
    "    print('-'*50)\n",
    "    display(data.isna().sum())\n",
    "    print('-'*50)\n",
    "    print('Проверка явных дубликатов')\n",
    "    print('-'*50)\n",
    "    print(data.duplicated().sum())\n",
    "    print('-'*50)\n",
    "    print('Размер таблицы')\n",
    "    print('-'*50)\n",
    "    print(data.shape)"
   ]
  },
  {
   "cell_type": "code",
   "execution_count": 4,
   "id": "05e0e27e-ae23-463a-98e2-fe379d2adaf2",
   "metadata": {},
   "outputs": [
    {
     "name": "stdout",
     "output_type": "stream",
     "text": [
      "--------------------------------------------------\n",
      "Первые 5 строк\n",
      "--------------------------------------------------\n"
     ]
    },
    {
     "data": {
      "text/html": [
       "<div>\n",
       "<style scoped>\n",
       "    .dataframe tbody tr th:only-of-type {\n",
       "        vertical-align: middle;\n",
       "    }\n",
       "\n",
       "    .dataframe tbody tr th {\n",
       "        vertical-align: top;\n",
       "    }\n",
       "\n",
       "    .dataframe thead th {\n",
       "        text-align: right;\n",
       "    }\n",
       "</style>\n",
       "<table border=\"1\" class=\"dataframe\">\n",
       "  <thead>\n",
       "    <tr style=\"text-align: right;\">\n",
       "      <th></th>\n",
       "      <th>EventName</th>\n",
       "      <th>DeviceIDHash</th>\n",
       "      <th>EventTimestamp</th>\n",
       "      <th>ExpId</th>\n",
       "    </tr>\n",
       "  </thead>\n",
       "  <tbody>\n",
       "    <tr>\n",
       "      <th>0</th>\n",
       "      <td>MainScreenAppear</td>\n",
       "      <td>4575588528974610257</td>\n",
       "      <td>1564029816</td>\n",
       "      <td>246</td>\n",
       "    </tr>\n",
       "    <tr>\n",
       "      <th>1</th>\n",
       "      <td>MainScreenAppear</td>\n",
       "      <td>7416695313311560658</td>\n",
       "      <td>1564053102</td>\n",
       "      <td>246</td>\n",
       "    </tr>\n",
       "    <tr>\n",
       "      <th>2</th>\n",
       "      <td>PaymentScreenSuccessful</td>\n",
       "      <td>3518123091307005509</td>\n",
       "      <td>1564054127</td>\n",
       "      <td>248</td>\n",
       "    </tr>\n",
       "    <tr>\n",
       "      <th>3</th>\n",
       "      <td>CartScreenAppear</td>\n",
       "      <td>3518123091307005509</td>\n",
       "      <td>1564054127</td>\n",
       "      <td>248</td>\n",
       "    </tr>\n",
       "    <tr>\n",
       "      <th>4</th>\n",
       "      <td>PaymentScreenSuccessful</td>\n",
       "      <td>6217807653094995999</td>\n",
       "      <td>1564055322</td>\n",
       "      <td>248</td>\n",
       "    </tr>\n",
       "  </tbody>\n",
       "</table>\n",
       "</div>"
      ],
      "text/plain": [
       "                 EventName         DeviceIDHash  EventTimestamp  ExpId\n",
       "0         MainScreenAppear  4575588528974610257      1564029816    246\n",
       "1         MainScreenAppear  7416695313311560658      1564053102    246\n",
       "2  PaymentScreenSuccessful  3518123091307005509      1564054127    248\n",
       "3         CartScreenAppear  3518123091307005509      1564054127    248\n",
       "4  PaymentScreenSuccessful  6217807653094995999      1564055322    248"
      ]
     },
     "metadata": {},
     "output_type": "display_data"
    },
    {
     "name": "stdout",
     "output_type": "stream",
     "text": [
      "--------------------------------------------------\n",
      "Общая информация\n",
      "--------------------------------------------------\n",
      "<class 'pandas.core.frame.DataFrame'>\n",
      "RangeIndex: 244126 entries, 0 to 244125\n",
      "Data columns (total 4 columns):\n",
      " #   Column          Non-Null Count   Dtype \n",
      "---  ------          --------------   ----- \n",
      " 0   EventName       244126 non-null  object\n",
      " 1   DeviceIDHash    244126 non-null  int64 \n",
      " 2   EventTimestamp  244126 non-null  int64 \n",
      " 3   ExpId           244126 non-null  int64 \n",
      "dtypes: int64(3), object(1)\n",
      "memory usage: 7.5+ MB\n",
      "--------------------------------------------------\n",
      "Основные статистические данные\n",
      "--------------------------------------------------\n"
     ]
    },
    {
     "data": {
      "text/html": [
       "<div>\n",
       "<style scoped>\n",
       "    .dataframe tbody tr th:only-of-type {\n",
       "        vertical-align: middle;\n",
       "    }\n",
       "\n",
       "    .dataframe tbody tr th {\n",
       "        vertical-align: top;\n",
       "    }\n",
       "\n",
       "    .dataframe thead th {\n",
       "        text-align: right;\n",
       "    }\n",
       "</style>\n",
       "<table border=\"1\" class=\"dataframe\">\n",
       "  <thead>\n",
       "    <tr style=\"text-align: right;\">\n",
       "      <th></th>\n",
       "      <th>count</th>\n",
       "      <th>mean</th>\n",
       "      <th>std</th>\n",
       "      <th>min</th>\n",
       "      <th>25%</th>\n",
       "      <th>50%</th>\n",
       "      <th>75%</th>\n",
       "      <th>max</th>\n",
       "    </tr>\n",
       "  </thead>\n",
       "  <tbody>\n",
       "    <tr>\n",
       "      <th>DeviceIDHash</th>\n",
       "      <td>244126.0</td>\n",
       "      <td>4.627568e+18</td>\n",
       "      <td>2.642425e+18</td>\n",
       "      <td>6.888747e+15</td>\n",
       "      <td>2.372212e+18</td>\n",
       "      <td>4.623192e+18</td>\n",
       "      <td>6.932517e+18</td>\n",
       "      <td>9.222603e+18</td>\n",
       "    </tr>\n",
       "    <tr>\n",
       "      <th>EventTimestamp</th>\n",
       "      <td>244126.0</td>\n",
       "      <td>1.564914e+09</td>\n",
       "      <td>1.771343e+05</td>\n",
       "      <td>1.564030e+09</td>\n",
       "      <td>1.564757e+09</td>\n",
       "      <td>1.564919e+09</td>\n",
       "      <td>1.565075e+09</td>\n",
       "      <td>1.565213e+09</td>\n",
       "    </tr>\n",
       "    <tr>\n",
       "      <th>ExpId</th>\n",
       "      <td>244126.0</td>\n",
       "      <td>2.470223e+02</td>\n",
       "      <td>8.244339e-01</td>\n",
       "      <td>2.460000e+02</td>\n",
       "      <td>2.460000e+02</td>\n",
       "      <td>2.470000e+02</td>\n",
       "      <td>2.480000e+02</td>\n",
       "      <td>2.480000e+02</td>\n",
       "    </tr>\n",
       "  </tbody>\n",
       "</table>\n",
       "</div>"
      ],
      "text/plain": [
       "                   count          mean           std           min  \\\n",
       "DeviceIDHash    244126.0  4.627568e+18  2.642425e+18  6.888747e+15   \n",
       "EventTimestamp  244126.0  1.564914e+09  1.771343e+05  1.564030e+09   \n",
       "ExpId           244126.0  2.470223e+02  8.244339e-01  2.460000e+02   \n",
       "\n",
       "                         25%           50%           75%           max  \n",
       "DeviceIDHash    2.372212e+18  4.623192e+18  6.932517e+18  9.222603e+18  \n",
       "EventTimestamp  1.564757e+09  1.564919e+09  1.565075e+09  1.565213e+09  \n",
       "ExpId           2.460000e+02  2.470000e+02  2.480000e+02  2.480000e+02  "
      ]
     },
     "metadata": {},
     "output_type": "display_data"
    },
    {
     "name": "stdout",
     "output_type": "stream",
     "text": [
      "--------------------------------------------------\n",
      "Подсчет пропусков\n",
      "--------------------------------------------------\n"
     ]
    },
    {
     "data": {
      "text/plain": [
       "EventName         0\n",
       "DeviceIDHash      0\n",
       "EventTimestamp    0\n",
       "ExpId             0\n",
       "dtype: int64"
      ]
     },
     "metadata": {},
     "output_type": "display_data"
    },
    {
     "name": "stdout",
     "output_type": "stream",
     "text": [
      "--------------------------------------------------\n",
      "Проверка явных дубликатов\n",
      "--------------------------------------------------\n",
      "413\n",
      "--------------------------------------------------\n",
      "Размер таблицы\n",
      "--------------------------------------------------\n",
      "(244126, 4)\n"
     ]
    }
   ],
   "source": [
    "data_info(data)"
   ]
  },
  {
   "cell_type": "markdown",
   "id": "31e429a0-be66-4ccf-939a-ee9316be076c",
   "metadata": {},
   "source": [
    "<div style=\"border:solid green 2px; padding: 20px\">\n",
    "\n",
    "Выводы:\n",
    "* Пропусков нет.\n",
    "* Явных дубликатов 413. Всего строк 244126. Удалим строки с явными дубликатами.\n",
    "* Добавим столбец даты и времени, а также отдельный столбец дат.\n",
    "* Приведем заголовки столбцов к хорошему стилю (змеиный регистр).\n",
    "\n",
    "</div>"
   ]
  },
  {
   "cell_type": "markdown",
   "id": "a0911629-715f-4d79-b8e5-16c28f6561e9",
   "metadata": {},
   "source": [
    "[Начало_проекта](#Начало_проекта)"
   ]
  },
  {
   "cell_type": "markdown",
   "id": "d89437c6-beee-4b28-999b-eda46f989317",
   "metadata": {},
   "source": [
    "<a id=\"предобработка\"></a>"
   ]
  },
  {
   "cell_type": "markdown",
   "id": "cb07478b-6982-42b7-95ca-dbe5fd823ead",
   "metadata": {},
   "source": [
    "## Предобработка данных"
   ]
  },
  {
   "cell_type": "markdown",
   "id": "9b80fd59-8065-4443-91b8-c91c1cb34438",
   "metadata": {},
   "source": [
    "### Переименование столбцов"
   ]
  },
  {
   "cell_type": "code",
   "execution_count": 5,
   "id": "425efb40-d431-456f-b103-69927aca1558",
   "metadata": {},
   "outputs": [
    {
     "data": {
      "text/plain": [
       "Index(['event_name', 'user_id', 'event_timestamp', 'exp_id'], dtype='object')"
      ]
     },
     "execution_count": 5,
     "metadata": {},
     "output_type": "execute_result"
    }
   ],
   "source": [
    "data = data.rename(columns={'EventName': 'event_name',\n",
    "                            'DeviceIDHash': 'user_id',\n",
    "                            'EventTimestamp': 'event_timestamp',\n",
    "                            'ExpId': 'exp_id'})\n",
    "data.columns"
   ]
  },
  {
   "cell_type": "markdown",
   "id": "e37d3004-00f1-4421-86a6-0d51e74d3e77",
   "metadata": {},
   "source": [
    "<div style=\"border:solid green 2px; padding: 20px\">\n",
    "    \n",
    "Привели заголовки столбцов к хорошему стилю (змеиному регистру).\n",
    "\n",
    "</div>"
   ]
  },
  {
   "cell_type": "markdown",
   "id": "57c6931b-9eed-4a69-9fbd-08246c82936e",
   "metadata": {},
   "source": [
    "### Удаление явных дубликатов"
   ]
  },
  {
   "cell_type": "code",
   "execution_count": 6,
   "id": "975b64e1-1ff3-448e-9f92-93cc1d4358b6",
   "metadata": {},
   "outputs": [],
   "source": [
    "data = data.drop_duplicates().reset_index(drop=True) # удаление явных дубликатов, создание новых индексов и удаление старых"
   ]
  },
  {
   "cell_type": "code",
   "execution_count": 7,
   "id": "e3430977-f0d4-4fc3-9a01-b566a8687192",
   "metadata": {
    "scrolled": true
   },
   "outputs": [
    {
     "data": {
      "text/plain": [
       "0"
      ]
     },
     "execution_count": 7,
     "metadata": {},
     "output_type": "execute_result"
    }
   ],
   "source": [
    "data.duplicated().sum() # проверка на отсутствие явных дубликатов"
   ]
  },
  {
   "cell_type": "markdown",
   "id": "a7feb405-7e5e-4b1e-9510-97b6368dfa28",
   "metadata": {},
   "source": [
    "<div style=\"border:solid green 2px; padding: 20px\">\n",
    "    \n",
    "Явные дубликаты удалили.\n",
    "\n",
    "</div>"
   ]
  },
  {
   "cell_type": "markdown",
   "id": "731d8f5f-4a0d-434f-8ebf-79293b39883a",
   "metadata": {},
   "source": [
    "### Проверка неявных дубликатов"
   ]
  },
  {
   "cell_type": "code",
   "execution_count": 8,
   "id": "01481015-ab54-4e16-8183-611002a4f878",
   "metadata": {},
   "outputs": [
    {
     "data": {
      "text/plain": [
       "event_name\n",
       "MainScreenAppear           119101\n",
       "OffersScreenAppear          46808\n",
       "CartScreenAppear            42668\n",
       "PaymentScreenSuccessful     34118\n",
       "Tutorial                     1018\n",
       "Name: count, dtype: int64"
      ]
     },
     "execution_count": 8,
     "metadata": {},
     "output_type": "execute_result"
    }
   ],
   "source": [
    "data['event_name'].value_counts() # просмотр уникальных значений и количество строк"
   ]
  },
  {
   "cell_type": "code",
   "execution_count": 9,
   "id": "618ad93f-2ff3-4ad3-aa25-8fc5cef88cac",
   "metadata": {},
   "outputs": [
    {
     "data": {
      "text/plain": [
       "exp_id\n",
       "248    85582\n",
       "246    80181\n",
       "247    77950\n",
       "Name: count, dtype: int64"
      ]
     },
     "execution_count": 9,
     "metadata": {},
     "output_type": "execute_result"
    }
   ],
   "source": [
    "data['exp_id'].value_counts() # просмотр уникальных значений и количество строк"
   ]
  },
  {
   "cell_type": "markdown",
   "id": "d1dc6529-593b-4d7a-a076-19aa4809bd75",
   "metadata": {},
   "source": [
    "<div style=\"border:solid green 2px; padding: 20px\">\n",
    "\n",
    "Не выявлено неявных дубликатов.\n",
    "\n",
    "</div>"
   ]
  },
  {
   "cell_type": "markdown",
   "id": "47f0928c-b8c1-447c-bb87-d307907052c3",
   "metadata": {},
   "source": [
    "### Добавление столбцов с датой и временем"
   ]
  },
  {
   "cell_type": "markdown",
   "id": "c45ce85b-5fe6-474f-aff8-a8943d77fa14",
   "metadata": {},
   "source": [
    "<div style=\"border:solid black 2px; padding: 20px\">\n",
    "\n",
    "Добавим столбец даты и времени, столбец дата и столбец по часам.\n",
    "\n",
    "</div>"
   ]
  },
  {
   "cell_type": "code",
   "execution_count": 10,
   "id": "7470b585-a99e-4b4f-90a0-ccbc4d15e224",
   "metadata": {
    "scrolled": true
   },
   "outputs": [
    {
     "data": {
      "text/html": [
       "<div>\n",
       "<style scoped>\n",
       "    .dataframe tbody tr th:only-of-type {\n",
       "        vertical-align: middle;\n",
       "    }\n",
       "\n",
       "    .dataframe tbody tr th {\n",
       "        vertical-align: top;\n",
       "    }\n",
       "\n",
       "    .dataframe thead th {\n",
       "        text-align: right;\n",
       "    }\n",
       "</style>\n",
       "<table border=\"1\" class=\"dataframe\">\n",
       "  <thead>\n",
       "    <tr style=\"text-align: right;\">\n",
       "      <th></th>\n",
       "      <th>event_name</th>\n",
       "      <th>user_id</th>\n",
       "      <th>event_timestamp</th>\n",
       "      <th>exp_id</th>\n",
       "      <th>event_time</th>\n",
       "      <th>date</th>\n",
       "      <th>hour</th>\n",
       "    </tr>\n",
       "  </thead>\n",
       "  <tbody>\n",
       "    <tr>\n",
       "      <th>0</th>\n",
       "      <td>MainScreenAppear</td>\n",
       "      <td>4575588528974610257</td>\n",
       "      <td>1564029816</td>\n",
       "      <td>246</td>\n",
       "      <td>2019-07-25 04:43:36</td>\n",
       "      <td>2019-07-25</td>\n",
       "      <td>4</td>\n",
       "    </tr>\n",
       "    <tr>\n",
       "      <th>1</th>\n",
       "      <td>MainScreenAppear</td>\n",
       "      <td>7416695313311560658</td>\n",
       "      <td>1564053102</td>\n",
       "      <td>246</td>\n",
       "      <td>2019-07-25 11:11:42</td>\n",
       "      <td>2019-07-25</td>\n",
       "      <td>11</td>\n",
       "    </tr>\n",
       "    <tr>\n",
       "      <th>2</th>\n",
       "      <td>PaymentScreenSuccessful</td>\n",
       "      <td>3518123091307005509</td>\n",
       "      <td>1564054127</td>\n",
       "      <td>248</td>\n",
       "      <td>2019-07-25 11:28:47</td>\n",
       "      <td>2019-07-25</td>\n",
       "      <td>11</td>\n",
       "    </tr>\n",
       "    <tr>\n",
       "      <th>3</th>\n",
       "      <td>CartScreenAppear</td>\n",
       "      <td>3518123091307005509</td>\n",
       "      <td>1564054127</td>\n",
       "      <td>248</td>\n",
       "      <td>2019-07-25 11:28:47</td>\n",
       "      <td>2019-07-25</td>\n",
       "      <td>11</td>\n",
       "    </tr>\n",
       "    <tr>\n",
       "      <th>4</th>\n",
       "      <td>PaymentScreenSuccessful</td>\n",
       "      <td>6217807653094995999</td>\n",
       "      <td>1564055322</td>\n",
       "      <td>248</td>\n",
       "      <td>2019-07-25 11:48:42</td>\n",
       "      <td>2019-07-25</td>\n",
       "      <td>11</td>\n",
       "    </tr>\n",
       "  </tbody>\n",
       "</table>\n",
       "</div>"
      ],
      "text/plain": [
       "                event_name              user_id  event_timestamp  exp_id  \\\n",
       "0         MainScreenAppear  4575588528974610257       1564029816     246   \n",
       "1         MainScreenAppear  7416695313311560658       1564053102     246   \n",
       "2  PaymentScreenSuccessful  3518123091307005509       1564054127     248   \n",
       "3         CartScreenAppear  3518123091307005509       1564054127     248   \n",
       "4  PaymentScreenSuccessful  6217807653094995999       1564055322     248   \n",
       "\n",
       "           event_time        date  hour  \n",
       "0 2019-07-25 04:43:36  2019-07-25     4  \n",
       "1 2019-07-25 11:11:42  2019-07-25    11  \n",
       "2 2019-07-25 11:28:47  2019-07-25    11  \n",
       "3 2019-07-25 11:28:47  2019-07-25    11  \n",
       "4 2019-07-25 11:48:42  2019-07-25    11  "
      ]
     },
     "execution_count": 10,
     "metadata": {},
     "output_type": "execute_result"
    }
   ],
   "source": [
    "data['event_time'] = pd.to_datetime(data['event_timestamp'], unit='s')\n",
    "data['date'] =  pd.to_datetime(data['event_time']).dt.date\n",
    "data['hour'] =  pd.to_datetime(data['event_time']).dt.hour\n",
    "data.head()"
   ]
  },
  {
   "cell_type": "code",
   "execution_count": 11,
   "id": "b769fa2e-5b0d-4317-8f10-59578611c6ca",
   "metadata": {},
   "outputs": [
    {
     "data": {
      "text/plain": [
       "event_name                 object\n",
       "user_id                     int64\n",
       "event_timestamp             int64\n",
       "exp_id                      int64\n",
       "event_time         datetime64[ns]\n",
       "date                       object\n",
       "hour                        int32\n",
       "dtype: object"
      ]
     },
     "execution_count": 11,
     "metadata": {},
     "output_type": "execute_result"
    }
   ],
   "source": [
    "data.dtypes"
   ]
  },
  {
   "cell_type": "markdown",
   "id": "b1710a7f-4ccf-4c42-a269-114751a26422",
   "metadata": {},
   "source": [
    "### Категоризация данных"
   ]
  },
  {
   "cell_type": "markdown",
   "id": "09381e53-1969-4fc0-88af-aa211b454cfb",
   "metadata": {},
   "source": [
    "#### Группы A/A/B-теста"
   ]
  },
  {
   "cell_type": "markdown",
   "id": "39de8033-0893-4295-80c9-994146f4162a",
   "metadata": {},
   "source": [
    "<div style=\"border:solid black 2px; padding: 20px\">\n",
    "\n",
    "Пользователей разбили на 3 группы: 2 контрольные со старыми шрифтами и одну экспериментальную — с новыми.\n",
    "\n",
    "Сделаем категоризацию:\n",
    "* 246 - А1\n",
    "* 247 - А2\n",
    "* 248 - В\n",
    "\n",
    "</div>"
   ]
  },
  {
   "cell_type": "code",
   "execution_count": 12,
   "id": "87f00b06-dcdd-415a-8dce-3f4a1aaefc14",
   "metadata": {},
   "outputs": [
    {
     "data": {
      "text/plain": [
       "exp_id  group\n",
       "246     A1       80181\n",
       "247     A2       77950\n",
       "248     B        85582\n",
       "Name: user_id, dtype: int64"
      ]
     },
     "execution_count": 12,
     "metadata": {},
     "output_type": "execute_result"
    }
   ],
   "source": [
    "# функция возвращает категорию по значению от exp_id, используя правила:\n",
    "def type_exp_id(row): \n",
    "    if row['exp_id'] == 246:\n",
    "        return 'A1'\n",
    "    elif row['exp_id'] == 247:\n",
    "        return 'A2'\n",
    "    elif row['exp_id'] == 248:\n",
    "        return 'B'\n",
    "    return 'Нет данных'\n",
    "\n",
    "data['group'] = data.apply(type_exp_id, axis=1) # добавляем новый столбец\n",
    "\n",
    "# проверяем категоризацию\n",
    "data.groupby(['exp_id', 'group'])['user_id'].agg('count')"
   ]
  },
  {
   "cell_type": "markdown",
   "id": "47ccf2ef-45d3-4b99-a34c-c581f9cdaa13",
   "metadata": {},
   "source": [
    "#### Категоризация событий"
   ]
  },
  {
   "cell_type": "markdown",
   "id": "d5b4bf1b-1c15-409b-99fe-967d37034fb5",
   "metadata": {},
   "source": [
    "<div style=\"border:solid black 2px; padding: 20px\">\n",
    "\n",
    "Сделаем расшифровку названий событий в отдельном столбце.\n",
    "\n",
    "</div>"
   ]
  },
  {
   "cell_type": "code",
   "execution_count": 13,
   "id": "84cab4d6-a699-4db1-9bd9-d4cddc343e2c",
   "metadata": {},
   "outputs": [
    {
     "data": {
      "text/plain": [
       "event_name               event_type                         \n",
       "CartScreenAppear         Перешел на страницу Корзина             42668\n",
       "MainScreenAppear         Просмотрел главную страницу            119101\n",
       "OffersScreenAppear       Перешел на страницу Каталог             46808\n",
       "PaymentScreenSuccessful  Перешел на страницу Успешная оплата     34118\n",
       "Tutorial                 Посмотрел страницу Руководство           1018\n",
       "Name: user_id, dtype: int64"
      ]
     },
     "execution_count": 13,
     "metadata": {},
     "output_type": "execute_result"
    }
   ],
   "source": [
    "# функция возвращает категорию по значению от event_name, используя правила:\n",
    "def type_event_name(row): \n",
    "    if row['event_name'] == 'MainScreenAppear':\n",
    "        return 'Просмотрел главную страницу'\n",
    "    elif row['event_name'] == 'OffersScreenAppear':\n",
    "        return 'Перешел на страницу Каталог'\n",
    "    elif row['event_name'] == 'CartScreenAppear':\n",
    "        return 'Перешел на страницу Корзина'\n",
    "    elif row['event_name'] == 'PaymentScreenSuccessful':\n",
    "        return 'Перешел на страницу Успешная оплата'\n",
    "    elif row['event_name'] == 'Tutorial':\n",
    "        return 'Посмотрел страницу Руководство'\n",
    "    return 'Нет данных'\n",
    "\n",
    "data['event_type'] = data.apply(type_event_name, axis=1) # добавляем новый столбец\n",
    "\n",
    "# проверяем категоризацию\n",
    "data.groupby(['event_name', 'event_type'])['user_id'].agg('count')"
   ]
  },
  {
   "cell_type": "markdown",
   "id": "5daa5c02-9699-4dec-a978-cf2b08c3dadc",
   "metadata": {},
   "source": [
    "#### Добавление столбца с названием магазина"
   ]
  },
  {
   "cell_type": "code",
   "execution_count": 14,
   "id": "eaa66a4b-3043-4592-80f9-757a4d4f5e34",
   "metadata": {},
   "outputs": [
    {
     "data": {
      "text/html": [
       "<div>\n",
       "<style scoped>\n",
       "    .dataframe tbody tr th:only-of-type {\n",
       "        vertical-align: middle;\n",
       "    }\n",
       "\n",
       "    .dataframe tbody tr th {\n",
       "        vertical-align: top;\n",
       "    }\n",
       "\n",
       "    .dataframe thead th {\n",
       "        text-align: right;\n",
       "    }\n",
       "</style>\n",
       "<table border=\"1\" class=\"dataframe\">\n",
       "  <thead>\n",
       "    <tr style=\"text-align: right;\">\n",
       "      <th></th>\n",
       "      <th>event_name</th>\n",
       "      <th>user_id</th>\n",
       "      <th>event_timestamp</th>\n",
       "      <th>exp_id</th>\n",
       "      <th>event_time</th>\n",
       "      <th>date</th>\n",
       "      <th>hour</th>\n",
       "      <th>group</th>\n",
       "      <th>event_type</th>\n",
       "      <th>store</th>\n",
       "    </tr>\n",
       "  </thead>\n",
       "  <tbody>\n",
       "    <tr>\n",
       "      <th>0</th>\n",
       "      <td>MainScreenAppear</td>\n",
       "      <td>4575588528974610257</td>\n",
       "      <td>1564029816</td>\n",
       "      <td>246</td>\n",
       "      <td>2019-07-25 04:43:36</td>\n",
       "      <td>2019-07-25</td>\n",
       "      <td>4</td>\n",
       "      <td>A1</td>\n",
       "      <td>Просмотрел главную страницу</td>\n",
       "      <td>store</td>\n",
       "    </tr>\n",
       "    <tr>\n",
       "      <th>1</th>\n",
       "      <td>MainScreenAppear</td>\n",
       "      <td>7416695313311560658</td>\n",
       "      <td>1564053102</td>\n",
       "      <td>246</td>\n",
       "      <td>2019-07-25 11:11:42</td>\n",
       "      <td>2019-07-25</td>\n",
       "      <td>11</td>\n",
       "      <td>A1</td>\n",
       "      <td>Просмотрел главную страницу</td>\n",
       "      <td>store</td>\n",
       "    </tr>\n",
       "  </tbody>\n",
       "</table>\n",
       "</div>"
      ],
      "text/plain": [
       "         event_name              user_id  event_timestamp  exp_id  \\\n",
       "0  MainScreenAppear  4575588528974610257       1564029816     246   \n",
       "1  MainScreenAppear  7416695313311560658       1564053102     246   \n",
       "\n",
       "           event_time        date  hour group                   event_type  \\\n",
       "0 2019-07-25 04:43:36  2019-07-25     4    A1  Просмотрел главную страницу   \n",
       "1 2019-07-25 11:11:42  2019-07-25    11    A1  Просмотрел главную страницу   \n",
       "\n",
       "   store  \n",
       "0  store  \n",
       "1  store  "
      ]
     },
     "execution_count": 14,
     "metadata": {},
     "output_type": "execute_result"
    }
   ],
   "source": [
    "# добавим столбец с условным названием магазина для удобства построения сводных\n",
    "data['store'] = 'store'\n",
    "data.head(2)"
   ]
  },
  {
   "cell_type": "markdown",
   "id": "728d3a2a-2fd5-40ce-81b6-be626d2d402e",
   "metadata": {},
   "source": [
    "### Проверка дубликатов пользователей в разных группах"
   ]
  },
  {
   "cell_type": "markdown",
   "id": "d6cd1312-af31-4fbb-a02d-8d9933cb156c",
   "metadata": {},
   "source": [
    "<div style=\"border:solid black 2px; padding: 20px\">\n",
    "\n",
    "Проверим, есть ли дубликаты пользователей в группах А1, А2 и В.\n",
    "\n",
    "</div>"
   ]
  },
  {
   "cell_type": "code",
   "execution_count": 15,
   "id": "243dfe34-3f7f-4b8c-bc70-4c48868e5f9a",
   "metadata": {},
   "outputs": [
    {
     "data": {
      "text/html": [
       "<div>\n",
       "<style scoped>\n",
       "    .dataframe tbody tr th:only-of-type {\n",
       "        vertical-align: middle;\n",
       "    }\n",
       "\n",
       "    .dataframe tbody tr th {\n",
       "        vertical-align: top;\n",
       "    }\n",
       "\n",
       "    .dataframe thead th {\n",
       "        text-align: right;\n",
       "    }\n",
       "</style>\n",
       "<table border=\"1\" class=\"dataframe\">\n",
       "  <thead>\n",
       "    <tr style=\"text-align: right;\">\n",
       "      <th></th>\n",
       "      <th>group</th>\n",
       "      <th>user_id</th>\n",
       "      <th>event_name</th>\n",
       "      <th>boolean</th>\n",
       "    </tr>\n",
       "  </thead>\n",
       "  <tbody>\n",
       "    <tr>\n",
       "      <th>0</th>\n",
       "      <td>A1</td>\n",
       "      <td>6888746892508752</td>\n",
       "      <td>1</td>\n",
       "      <td>False</td>\n",
       "    </tr>\n",
       "    <tr>\n",
       "      <th>1</th>\n",
       "      <td>A1</td>\n",
       "      <td>6922444491712477</td>\n",
       "      <td>47</td>\n",
       "      <td>False</td>\n",
       "    </tr>\n",
       "  </tbody>\n",
       "</table>\n",
       "</div>"
      ],
      "text/plain": [
       "  group           user_id  event_name  boolean\n",
       "0    A1  6888746892508752           1    False\n",
       "1    A1  6922444491712477          47    False"
      ]
     },
     "execution_count": 15,
     "metadata": {},
     "output_type": "execute_result"
    }
   ],
   "source": [
    "# Группируем пользователей по группам теста\n",
    "id_duplicates = data.pivot_table(index=['group', 'user_id'], values='event_name', aggfunc='count').reset_index()\n",
    "\n",
    "# Добавляем столбец для определения дубликатов пользователей по группам\n",
    "id_duplicates['boolean'] = id_duplicates['user_id'].duplicated()\n",
    "id_duplicates.head(2)"
   ]
  },
  {
   "cell_type": "code",
   "execution_count": 16,
   "id": "7c8db0d5-cd75-470e-84fb-1ec3207b6888",
   "metadata": {},
   "outputs": [
    {
     "name": "stdout",
     "output_type": "stream",
     "text": [
      "--------------------------------------------------\n",
      "Дубликаты пользователей в группах теста: 0\n",
      "Уникальные пользователи в группах теста: 7551\n",
      "--------------------------------------------------\n"
     ]
    }
   ],
   "source": [
    "print('-'*50)\n",
    "print('Дубликаты пользователей в группах теста:', id_duplicates[id_duplicates['boolean'] == True]['boolean'].count())\n",
    "print('Уникальные пользователи в группах теста:', id_duplicates[id_duplicates['boolean'] == False]['boolean'].count())\n",
    "print('-'*50)"
   ]
  },
  {
   "cell_type": "markdown",
   "id": "f661f434-77e2-4202-9582-018c549fd1b7",
   "metadata": {},
   "source": [
    "<div style=\"border:solid green 2px; padding: 20px\">\n",
    "\n",
    "Нет дубликатов пользователей в разных группах.\n",
    "\n",
    "</div>"
   ]
  },
  {
   "cell_type": "markdown",
   "id": "a3d36e43-1191-40f6-a3bd-0420776345e1",
   "metadata": {},
   "source": [
    "[Начало_проекта](#Начало_проекта)"
   ]
  },
  {
   "cell_type": "markdown",
   "id": "bb470384-0416-486a-84ee-bfc0977eb020",
   "metadata": {},
   "source": [
    "<a id=\"исследовательский\"></a>"
   ]
  },
  {
   "cell_type": "markdown",
   "id": "001d0d2a-66c0-4268-bcd2-97564c2ddb5f",
   "metadata": {},
   "source": [
    "## Исследовательский анализ данных"
   ]
  },
  {
   "cell_type": "markdown",
   "id": "aa38ae57-74c5-499d-bf9f-bfcb58ff24e6",
   "metadata": {},
   "source": [
    "### Количество событий и пользователей в логе"
   ]
  },
  {
   "cell_type": "markdown",
   "id": "31139571-07d7-4802-a1b1-9144ea0985c5",
   "metadata": {},
   "source": [
    "<div style=\"border:solid black 2px; padding: 20px\">\n",
    "\n",
    "Рассмотрим:\n",
    "* Сколько всего событий в логе?\n",
    "* Сколько всего пользователей в логе?\n",
    "* Сколько в среднем событий приходится на пользователя?\n",
    "\n",
    "</div>"
   ]
  },
  {
   "cell_type": "code",
   "execution_count": 17,
   "id": "96d69d4d-548c-4731-be0c-4de2d0c9d5a2",
   "metadata": {},
   "outputs": [
    {
     "data": {
      "text/html": [
       "<div>\n",
       "<style scoped>\n",
       "    .dataframe tbody tr th:only-of-type {\n",
       "        vertical-align: middle;\n",
       "    }\n",
       "\n",
       "    .dataframe tbody tr th {\n",
       "        vertical-align: top;\n",
       "    }\n",
       "\n",
       "    .dataframe thead th {\n",
       "        text-align: right;\n",
       "    }\n",
       "</style>\n",
       "<table border=\"1\" class=\"dataframe\">\n",
       "  <thead>\n",
       "    <tr style=\"text-align: right;\">\n",
       "      <th></th>\n",
       "      <th>Количество уникальных событий</th>\n",
       "      <th>Всего событий</th>\n",
       "      <th>Количество уникальных пользователей</th>\n",
       "      <th>Количество событий на пользователя</th>\n",
       "    </tr>\n",
       "    <tr>\n",
       "      <th>store</th>\n",
       "      <th></th>\n",
       "      <th></th>\n",
       "      <th></th>\n",
       "      <th></th>\n",
       "    </tr>\n",
       "  </thead>\n",
       "  <tbody>\n",
       "    <tr>\n",
       "      <th>store</th>\n",
       "      <td>5</td>\n",
       "      <td>243713</td>\n",
       "      <td>7551</td>\n",
       "      <td>32.0</td>\n",
       "    </tr>\n",
       "  </tbody>\n",
       "</table>\n",
       "</div>"
      ],
      "text/plain": [
       "       Количество уникальных событий  Всего событий  \\\n",
       "store                                                 \n",
       "store                              5         243713   \n",
       "\n",
       "       Количество уникальных пользователей  Количество событий на пользователя  \n",
       "store                                                                           \n",
       "store                                 7551                                32.0  "
      ]
     },
     "execution_count": 17,
     "metadata": {},
     "output_type": "execute_result"
    }
   ],
   "source": [
    "data_store = data.pivot_table(index='store', values=['event_type', 'event_name', 'user_id'],\n",
    "                              aggfunc={'event_type':'count', 'event_name':'nunique','user_id': 'nunique'})\n",
    "data_store['events_per_user'] = (data_store['event_type'] / data_store['user_id']).round()\n",
    "data_store.columns = ['Количество уникальных событий', 'Всего событий',\n",
    "                      'Количество уникальных пользователей', 'Количество событий на пользователя']\n",
    "data_store"
   ]
  },
  {
   "cell_type": "code",
   "execution_count": 18,
   "id": "dabf5a30-eb8b-4f46-b522-ba421138ef49",
   "metadata": {},
   "outputs": [
    {
     "data": {
      "text/html": [
       "<div>\n",
       "<style scoped>\n",
       "    .dataframe tbody tr th:only-of-type {\n",
       "        vertical-align: middle;\n",
       "    }\n",
       "\n",
       "    .dataframe tbody tr th {\n",
       "        vertical-align: top;\n",
       "    }\n",
       "\n",
       "    .dataframe thead th {\n",
       "        text-align: right;\n",
       "    }\n",
       "</style>\n",
       "<table border=\"1\" class=\"dataframe\">\n",
       "  <thead>\n",
       "    <tr style=\"text-align: right;\">\n",
       "      <th></th>\n",
       "      <th>Количество событий на пользователя</th>\n",
       "    </tr>\n",
       "    <tr>\n",
       "      <th>user_id</th>\n",
       "      <th></th>\n",
       "    </tr>\n",
       "  </thead>\n",
       "  <tbody>\n",
       "    <tr>\n",
       "      <th>6888746892508752</th>\n",
       "      <td>1</td>\n",
       "    </tr>\n",
       "    <tr>\n",
       "      <th>6909561520679493</th>\n",
       "      <td>5</td>\n",
       "    </tr>\n",
       "  </tbody>\n",
       "</table>\n",
       "</div>"
      ],
      "text/plain": [
       "                  Количество событий на пользователя\n",
       "user_id                                             \n",
       "6888746892508752                                   1\n",
       "6909561520679493                                   5"
      ]
     },
     "execution_count": 18,
     "metadata": {},
     "output_type": "execute_result"
    }
   ],
   "source": [
    "# сводная для построения графика ниже\n",
    "events_per_user = data.pivot_table(index=['user_id'], values='event_type', aggfunc={'event_type': 'count'})\\\n",
    "                      .rename(columns= {'event_type': 'Количество событий на пользователя'})\n",
    "events_per_user.head(2)"
   ]
  },
  {
   "cell_type": "code",
   "execution_count": 19,
   "id": "31817523-1c41-4807-8142-4449c1997dd9",
   "metadata": {},
   "outputs": [
    {
     "data": {
      "text/plain": [
       "count    7551.000000\n",
       "mean       32.275593\n",
       "std        65.154219\n",
       "min         1.000000\n",
       "25%         9.000000\n",
       "50%        20.000000\n",
       "75%        37.000000\n",
       "max      2307.000000\n",
       "Name: Количество событий на пользователя, dtype: float64"
      ]
     },
     "execution_count": 19,
     "metadata": {},
     "output_type": "execute_result"
    }
   ],
   "source": [
    "events_per_user['Количество событий на пользователя'].describe()"
   ]
  },
  {
   "cell_type": "code",
   "execution_count": 20,
   "id": "64ecd2f5-d2bb-408a-ab0f-16e4704a0258",
   "metadata": {},
   "outputs": [
    {
     "name": "stdout",
     "output_type": "stream",
     "text": [
      "Количество событий на пользователя больше 100: 303\n"
     ]
    }
   ],
   "source": [
    "print('Количество событий на пользователя больше 100:',\n",
    "      len(events_per_user[events_per_user['Количество событий на пользователя'] >= 100]))\n",
    "# считаем количество строк по условию"
   ]
  },
  {
   "cell_type": "code",
   "execution_count": 21,
   "id": "b7a205d0-95f7-4778-bfa1-886ba96fbc5d",
   "metadata": {},
   "outputs": [
    {
     "data": {
      "image/png": "[encoded data removed]"
     },
     "metadata": {},
     "output_type": "display_data"
    }
   ],
   "source": [
    "fig_hist = px.histogram(events_per_user, x='Количество событий на пользователя',\n",
    "                       range_x=[1, 100],\n",
    "                       title='Количество событий на пользователя (срез до 100 событий)')\n",
    "fig_hist.layout.yaxis.title.text = 'Количество пользователей'\n",
    "fig_hist.show('png')"
   ]
  },
  {
   "cell_type": "markdown",
   "id": "df53decb-248e-4556-b5f9-d6332fb749ab",
   "metadata": {},
   "source": [
    "<div style=\"border:solid green 2px; padding: 20px\">\n",
    "\n",
    "**Количество событий и пользователей в логе.**\n",
    "\n",
    "| store  | Количество уникальных событий| Всего событий| Количество уникальных пользователей| Количество событий на пользователя| \n",
    "|:-------|:----------------------------:|:------------:|:----------------------------------:|:---------------------------------:|\n",
    "|store   | 5                            |243713        | 7551                               | 32                                |\n",
    "\n",
    "\n",
    "| Количество событий на пользователя  | mean | median | min | max  | \n",
    "|:------------------------------------|:----:|:------:|:---:|:----:|\n",
    "|Количество событий на пользователя   | 32   |20      | 1   | 2307 |                          \n",
    "\n",
    "На гистограмме видим длинных хвост по количеству событий на пользователя.\n",
    "\n",
    "При срезе до 100 событий на пользователя, пик количества событий на пользователя в диапазоне 5-9 событий.\n",
    "\n",
    "</div>"
   ]
  },
  {
   "cell_type": "markdown",
   "id": "3220def6-0828-4903-8a2f-be6356b6c38e",
   "metadata": {},
   "source": [
    "### Период отчетности"
   ]
  },
  {
   "cell_type": "markdown",
   "id": "0172c3a6-ef10-498c-8e66-7ef9bde485f5",
   "metadata": {},
   "source": [
    "#### Период"
   ]
  },
  {
   "cell_type": "code",
   "execution_count": 22,
   "id": "158f0290-231d-4498-b693-b1318b1bb894",
   "metadata": {},
   "outputs": [
    {
     "data": {
      "text/plain": [
       "date\n",
       "2019-07-25        9\n",
       "2019-07-26       31\n",
       "2019-07-27       55\n",
       "2019-07-28      105\n",
       "2019-07-29      184\n",
       "2019-07-30      412\n",
       "2019-07-31     2030\n",
       "2019-08-01    36141\n",
       "2019-08-02    35554\n",
       "2019-08-03    33282\n",
       "2019-08-04    32968\n",
       "2019-08-05    36058\n",
       "2019-08-06    35788\n",
       "2019-08-07    31096\n",
       "Name: user_id, dtype: int64"
      ]
     },
     "execution_count": 22,
     "metadata": {},
     "output_type": "execute_result"
    }
   ],
   "source": [
    "data.groupby('date')['user_id'].agg('count')"
   ]
  },
  {
   "cell_type": "code",
   "execution_count": 23,
   "id": "bf8c8289-91dc-4074-aa82-9c7bb2c9cc24",
   "metadata": {},
   "outputs": [
    {
     "name": "stdout",
     "output_type": "stream",
     "text": [
      "Минимальная дата 2019-07-25\n",
      "Максимальная дата 2019-08-07\n"
     ]
    }
   ],
   "source": [
    "print('Минимальная дата', data['date'].min())\n",
    "print('Максимальная дата', data['date'].max())"
   ]
  },
  {
   "cell_type": "markdown",
   "id": "0ce519c3-f3c1-46f0-8577-0d5320182354",
   "metadata": {},
   "source": [
    "<div style=\"border:solid green 2px; padding: 20px\">\n",
    "\n",
    "Период: с 2019-07-25 по 2019-08-07 (14 дней):\n",
    "* Минимальная дата 2019-07-25\n",
    "* Максимальная дата 2019-08-07\n",
    "\n",
    "</div>"
   ]
  },
  {
   "cell_type": "markdown",
   "id": "daa75fba-6d4c-451a-bb9e-4a319583e390",
   "metadata": {},
   "source": [
    "#### Количество событий по дням"
   ]
  },
  {
   "cell_type": "markdown",
   "id": "235616c5-19e2-404d-b181-fa263b8fe21f",
   "metadata": {},
   "source": [
    "<div style=\"border:solid black 2px; padding: 20px\">\n",
    "\n",
    "Проверим количество событий по дням в разных группах теста.\n",
    "\n",
    "</div>"
   ]
  },
  {
   "cell_type": "code",
   "execution_count": 24,
   "id": "d030d531-7f33-4e73-b4a1-bea5bbebf9e2",
   "metadata": {},
   "outputs": [
    {
     "data": {
      "text/html": [
       "<style type=\"text/css\">\n",
       "#T_a1552_row0_col1, #T_a1552_row0_col2, #T_a1552_row0_col3, #T_a1552_row1_col1, #T_a1552_row1_col2, #T_a1552_row1_col3, #T_a1552_row2_col1, #T_a1552_row2_col2, #T_a1552_row2_col3, #T_a1552_row3_col1, #T_a1552_row3_col2, #T_a1552_row3_col3 {\n",
       "  background-color: #f7fbff;\n",
       "  color: #000000;\n",
       "}\n",
       "#T_a1552_row4_col1, #T_a1552_row4_col2, #T_a1552_row4_col3 {\n",
       "  background-color: #f6faff;\n",
       "  color: #000000;\n",
       "}\n",
       "#T_a1552_row5_col1, #T_a1552_row5_col2, #T_a1552_row5_col3 {\n",
       "  background-color: #f5fafe;\n",
       "  color: #000000;\n",
       "}\n",
       "#T_a1552_row6_col1 {\n",
       "  background-color: #eef5fc;\n",
       "  color: #000000;\n",
       "}\n",
       "#T_a1552_row6_col2, #T_a1552_row6_col3 {\n",
       "  background-color: #edf4fc;\n",
       "  color: #000000;\n",
       "}\n",
       "#T_a1552_row7_col1, #T_a1552_row11_col3 {\n",
       "  background-color: #084184;\n",
       "  color: #f1f1f1;\n",
       "}\n",
       "#T_a1552_row7_col2, #T_a1552_row8_col3, #T_a1552_row11_col1 {\n",
       "  background-color: #08306b;\n",
       "  color: #f1f1f1;\n",
       "}\n",
       "#T_a1552_row7_col3 {\n",
       "  background-color: #084a91;\n",
       "  color: #f1f1f1;\n",
       "}\n",
       "#T_a1552_row8_col1 {\n",
       "  background-color: #084e98;\n",
       "  color: #f1f1f1;\n",
       "}\n",
       "#T_a1552_row8_col2 {\n",
       "  background-color: #084c95;\n",
       "  color: #f1f1f1;\n",
       "}\n",
       "#T_a1552_row9_col1 {\n",
       "  background-color: #0c56a0;\n",
       "  color: #f1f1f1;\n",
       "}\n",
       "#T_a1552_row9_col2 {\n",
       "  background-color: #084b93;\n",
       "  color: #f1f1f1;\n",
       "}\n",
       "#T_a1552_row9_col3, #T_a1552_row13_col1 {\n",
       "  background-color: #0b559f;\n",
       "  color: #f1f1f1;\n",
       "}\n",
       "#T_a1552_row10_col1 {\n",
       "  background-color: #084285;\n",
       "  color: #f1f1f1;\n",
       "}\n",
       "#T_a1552_row10_col2 {\n",
       "  background-color: #1562a9;\n",
       "  color: #f1f1f1;\n",
       "}\n",
       "#T_a1552_row10_col3 {\n",
       "  background-color: #0e58a2;\n",
       "  color: #f1f1f1;\n",
       "}\n",
       "#T_a1552_row11_col2 {\n",
       "  background-color: #084d96;\n",
       "  color: #f1f1f1;\n",
       "}\n",
       "#T_a1552_row12_col1 {\n",
       "  background-color: #083d7f;\n",
       "  color: #f1f1f1;\n",
       "}\n",
       "#T_a1552_row12_col2 {\n",
       "  background-color: #083c7d;\n",
       "  color: #f1f1f1;\n",
       "}\n",
       "#T_a1552_row12_col3 {\n",
       "  background-color: #08488e;\n",
       "  color: #f1f1f1;\n",
       "}\n",
       "#T_a1552_row13_col2 {\n",
       "  background-color: #135fa7;\n",
       "  color: #f1f1f1;\n",
       "}\n",
       "#T_a1552_row13_col3 {\n",
       "  background-color: #1e6db2;\n",
       "  color: #f1f1f1;\n",
       "}\n",
       "</style>\n",
       "<table id=\"T_a1552\">\n",
       "  <caption>Количество событий по дням</caption>\n",
       "  <thead>\n",
       "    <tr>\n",
       "      <th class=\"index_name level0\" >group</th>\n",
       "      <th id=\"T_a1552_level0_col0\" class=\"col_heading level0 col0\" >date</th>\n",
       "      <th id=\"T_a1552_level0_col1\" class=\"col_heading level0 col1\" >A1</th>\n",
       "      <th id=\"T_a1552_level0_col2\" class=\"col_heading level0 col2\" >A2</th>\n",
       "      <th id=\"T_a1552_level0_col3\" class=\"col_heading level0 col3\" >B</th>\n",
       "    </tr>\n",
       "  </thead>\n",
       "  <tbody>\n",
       "    <tr>\n",
       "      <th id=\"T_a1552_level0_row0\" class=\"row_heading level0 row0\" >0</th>\n",
       "      <td id=\"T_a1552_row0_col0\" class=\"data row0 col0\" >2019-07-25</td>\n",
       "      <td id=\"T_a1552_row0_col1\" class=\"data row0 col1\" >4</td>\n",
       "      <td id=\"T_a1552_row0_col2\" class=\"data row0 col2\" >1</td>\n",
       "      <td id=\"T_a1552_row0_col3\" class=\"data row0 col3\" >4</td>\n",
       "    </tr>\n",
       "    <tr>\n",
       "      <th id=\"T_a1552_level0_row1\" class=\"row_heading level0 row1\" >1</th>\n",
       "      <td id=\"T_a1552_row1_col0\" class=\"data row1 col0\" >2019-07-26</td>\n",
       "      <td id=\"T_a1552_row1_col1\" class=\"data row1 col1\" >14</td>\n",
       "      <td id=\"T_a1552_row1_col2\" class=\"data row1 col2\" >8</td>\n",
       "      <td id=\"T_a1552_row1_col3\" class=\"data row1 col3\" >9</td>\n",
       "    </tr>\n",
       "    <tr>\n",
       "      <th id=\"T_a1552_level0_row2\" class=\"row_heading level0 row2\" >2</th>\n",
       "      <td id=\"T_a1552_row2_col0\" class=\"data row2 col0\" >2019-07-27</td>\n",
       "      <td id=\"T_a1552_row2_col1\" class=\"data row2 col1\" >24</td>\n",
       "      <td id=\"T_a1552_row2_col2\" class=\"data row2 col2\" >23</td>\n",
       "      <td id=\"T_a1552_row2_col3\" class=\"data row2 col3\" >8</td>\n",
       "    </tr>\n",
       "    <tr>\n",
       "      <th id=\"T_a1552_level0_row3\" class=\"row_heading level0 row3\" >3</th>\n",
       "      <td id=\"T_a1552_row3_col0\" class=\"data row3 col0\" >2019-07-28</td>\n",
       "      <td id=\"T_a1552_row3_col1\" class=\"data row3 col1\" >33</td>\n",
       "      <td id=\"T_a1552_row3_col2\" class=\"data row3 col2\" >36</td>\n",
       "      <td id=\"T_a1552_row3_col3\" class=\"data row3 col3\" >36</td>\n",
       "    </tr>\n",
       "    <tr>\n",
       "      <th id=\"T_a1552_level0_row4\" class=\"row_heading level0 row4\" >4</th>\n",
       "      <td id=\"T_a1552_row4_col0\" class=\"data row4 col0\" >2019-07-29</td>\n",
       "      <td id=\"T_a1552_row4_col1\" class=\"data row4 col1\" >55</td>\n",
       "      <td id=\"T_a1552_row4_col2\" class=\"data row4 col2\" >58</td>\n",
       "      <td id=\"T_a1552_row4_col3\" class=\"data row4 col3\" >71</td>\n",
       "    </tr>\n",
       "    <tr>\n",
       "      <th id=\"T_a1552_level0_row5\" class=\"row_heading level0 row5\" >5</th>\n",
       "      <td id=\"T_a1552_row5_col0\" class=\"data row5 col0\" >2019-07-30</td>\n",
       "      <td id=\"T_a1552_row5_col1\" class=\"data row5 col1\" >129</td>\n",
       "      <td id=\"T_a1552_row5_col2\" class=\"data row5 col2\" >138</td>\n",
       "      <td id=\"T_a1552_row5_col3\" class=\"data row5 col3\" >145</td>\n",
       "    </tr>\n",
       "    <tr>\n",
       "      <th id=\"T_a1552_level0_row6\" class=\"row_heading level0 row6\" >6</th>\n",
       "      <td id=\"T_a1552_row6_col0\" class=\"data row6 col0\" >2019-07-31</td>\n",
       "      <td id=\"T_a1552_row6_col1\" class=\"data row6 col1\" >620</td>\n",
       "      <td id=\"T_a1552_row6_col2\" class=\"data row6 col2\" >664</td>\n",
       "      <td id=\"T_a1552_row6_col3\" class=\"data row6 col3\" >746</td>\n",
       "    </tr>\n",
       "    <tr>\n",
       "      <th id=\"T_a1552_level0_row7\" class=\"row_heading level0 row7\" >7</th>\n",
       "      <td id=\"T_a1552_row7_col0\" class=\"data row7 col0\" >2019-08-01</td>\n",
       "      <td id=\"T_a1552_row7_col1\" class=\"data row7 col1\" >11561</td>\n",
       "      <td id=\"T_a1552_row7_col2\" class=\"data row7 col2\" >12306</td>\n",
       "      <td id=\"T_a1552_row7_col3\" class=\"data row7 col3\" >12274</td>\n",
       "    </tr>\n",
       "    <tr>\n",
       "      <th id=\"T_a1552_level0_row8\" class=\"row_heading level0 row8\" >8</th>\n",
       "      <td id=\"T_a1552_row8_col0\" class=\"data row8 col0\" >2019-08-02</td>\n",
       "      <td id=\"T_a1552_row8_col1\" class=\"data row8 col1\" >10946</td>\n",
       "      <td id=\"T_a1552_row8_col2\" class=\"data row8 col2\" >10990</td>\n",
       "      <td id=\"T_a1552_row8_col3\" class=\"data row8 col3\" >13618</td>\n",
       "    </tr>\n",
       "    <tr>\n",
       "      <th id=\"T_a1552_level0_row9\" class=\"row_heading level0 row9\" >9</th>\n",
       "      <td id=\"T_a1552_row9_col0\" class=\"data row9 col0\" >2019-08-03</td>\n",
       "      <td id=\"T_a1552_row9_col1\" class=\"data row9 col1\" >10575</td>\n",
       "      <td id=\"T_a1552_row9_col2\" class=\"data row9 col2\" >11024</td>\n",
       "      <td id=\"T_a1552_row9_col3\" class=\"data row9 col3\" >11683</td>\n",
       "    </tr>\n",
       "    <tr>\n",
       "      <th id=\"T_a1552_level0_row10\" class=\"row_heading level0 row10\" >10</th>\n",
       "      <td id=\"T_a1552_row10_col0\" class=\"data row10 col0\" >2019-08-04</td>\n",
       "      <td id=\"T_a1552_row10_col1\" class=\"data row10 col1\" >11514</td>\n",
       "      <td id=\"T_a1552_row10_col2\" class=\"data row10 col2\" >9942</td>\n",
       "      <td id=\"T_a1552_row10_col3\" class=\"data row10 col3\" >11512</td>\n",
       "    </tr>\n",
       "    <tr>\n",
       "      <th id=\"T_a1552_level0_row11\" class=\"row_heading level0 row11\" >11</th>\n",
       "      <td id=\"T_a1552_row11_col0\" class=\"data row11 col0\" >2019-08-05</td>\n",
       "      <td id=\"T_a1552_row11_col1\" class=\"data row11 col1\" >12368</td>\n",
       "      <td id=\"T_a1552_row11_col2\" class=\"data row11 col2\" >10949</td>\n",
       "      <td id=\"T_a1552_row11_col3\" class=\"data row11 col3\" >12741</td>\n",
       "    </tr>\n",
       "    <tr>\n",
       "      <th id=\"T_a1552_level0_row12\" class=\"row_heading level0 row12\" >12</th>\n",
       "      <td id=\"T_a1552_row12_col0\" class=\"data row12 col0\" >2019-08-06</td>\n",
       "      <td id=\"T_a1552_row12_col1\" class=\"data row12 col1\" >11726</td>\n",
       "      <td id=\"T_a1552_row12_col2\" class=\"data row12 col2\" >11720</td>\n",
       "      <td id=\"T_a1552_row12_col3\" class=\"data row12 col3\" >12342</td>\n",
       "    </tr>\n",
       "    <tr>\n",
       "      <th id=\"T_a1552_level0_row13\" class=\"row_heading level0 row13\" >13</th>\n",
       "      <td id=\"T_a1552_row13_col0\" class=\"data row13 col0\" >2019-08-07</td>\n",
       "      <td id=\"T_a1552_row13_col1\" class=\"data row13 col1\" >10612</td>\n",
       "      <td id=\"T_a1552_row13_col2\" class=\"data row13 col2\" >10091</td>\n",
       "      <td id=\"T_a1552_row13_col3\" class=\"data row13 col3\" >10393</td>\n",
       "    </tr>\n",
       "  </tbody>\n",
       "</table>\n"
      ],
      "text/plain": [
       "<pandas.io.formats.style.Styler at 0x246447fe6d0>"
      ]
     },
     "execution_count": 24,
     "metadata": {},
     "output_type": "execute_result"
    }
   ],
   "source": [
    "event_cnt_group = data.pivot_table(index='date', columns='group', values='event_name', aggfunc='count')\\\n",
    "                      .reset_index()\n",
    "event_cnt_group.style.background_gradient(cmap='Blues', axis=0)\\\n",
    "               .set_caption('Количество событий по дням')"
   ]
  },
  {
   "cell_type": "code",
   "execution_count": 25,
   "id": "0ad84622-d168-4524-8add-fd09beb43086",
   "metadata": {},
   "outputs": [
    {
     "data": {
      "text/html": [
       "<div>\n",
       "<style scoped>\n",
       "    .dataframe tbody tr th:only-of-type {\n",
       "        vertical-align: middle;\n",
       "    }\n",
       "\n",
       "    .dataframe tbody tr th {\n",
       "        vertical-align: top;\n",
       "    }\n",
       "\n",
       "    .dataframe thead th {\n",
       "        text-align: right;\n",
       "    }\n",
       "</style>\n",
       "<table border=\"1\" class=\"dataframe\">\n",
       "  <thead>\n",
       "    <tr style=\"text-align: right;\">\n",
       "      <th></th>\n",
       "      <th>Дата</th>\n",
       "      <th>Группа</th>\n",
       "      <th>Количество событий</th>\n",
       "    </tr>\n",
       "  </thead>\n",
       "  <tbody>\n",
       "    <tr>\n",
       "      <th>0</th>\n",
       "      <td>2019-07-25</td>\n",
       "      <td>A1</td>\n",
       "      <td>4</td>\n",
       "    </tr>\n",
       "    <tr>\n",
       "      <th>1</th>\n",
       "      <td>2019-07-25</td>\n",
       "      <td>A2</td>\n",
       "      <td>1</td>\n",
       "    </tr>\n",
       "  </tbody>\n",
       "</table>\n",
       "</div>"
      ],
      "text/plain": [
       "         Дата Группа  Количество событий\n",
       "0  2019-07-25     A1                   4\n",
       "1  2019-07-25     A2                   1"
      ]
     },
     "execution_count": 25,
     "metadata": {},
     "output_type": "execute_result"
    }
   ],
   "source": [
    "event_cnt = data.pivot_table(index=['date', 'group'], values='event_name', aggfunc='count').reset_index()\n",
    "df_long = event_cnt.set_index('date').reset_index()\n",
    "df_long.columns = ['Дата', 'Группа', 'Количество событий']\n",
    "df_long.head(2)"
   ]
  },
  {
   "cell_type": "code",
   "execution_count": 26,
   "id": "a63d6b71-7b2c-4590-9524-990cd4e87f91",
   "metadata": {},
   "outputs": [
    {
     "data": {
      "image/png": "[encoded data removed]"
     },
     "metadata": {},
     "output_type": "display_data"
    }
   ],
   "source": [
    "fig_event_cnt_group = px.bar(data_frame=df_long, x='Дата', y='Количество событий',\n",
    "                             color='Группа', barmode='stack', title='Количество событий по дням')\n",
    "fig_event_cnt_group.show('png')"
   ]
  },
  {
   "cell_type": "code",
   "execution_count": 27,
   "id": "1910e1c8-376c-4888-a578-76be1fee3ef7",
   "metadata": {},
   "outputs": [
    {
     "data": {
      "text/plain": [
       "Месяц       Дата      \n",
       "(7) Июль    2019-07-25        9\n",
       "            2019-07-26       31\n",
       "            2019-07-27       55\n",
       "            2019-07-28      105\n",
       "            2019-07-29      184\n",
       "            2019-07-30      412\n",
       "            2019-07-31     2030\n",
       "(8) Август  2019-08-01    36141\n",
       "            2019-08-02    35554\n",
       "            2019-08-03    33282\n",
       "            2019-08-04    32968\n",
       "            2019-08-05    36058\n",
       "            2019-08-06    35788\n",
       "            2019-08-07    31096\n",
       "Name: Количество событий, dtype: int64"
      ]
     },
     "execution_count": 27,
     "metadata": {},
     "output_type": "execute_result"
    }
   ],
   "source": [
    "# добавим 'месяц' в таблицу для построения графика pie\n",
    "# функция возвращает категорию по значению от 'Дата', используя правила:\n",
    "july = dt.date(2019, 7, 31)\n",
    "august = dt.date(2019, 8, 7)\n",
    "\n",
    "def type_date(row): \n",
    "    if row['Дата'] <= july:\n",
    "        return '(7) Июль'\n",
    "    elif row['Дата'] <= august:\n",
    "        return '(8) Август'\n",
    "    return 'Нет данных'\n",
    "\n",
    "df_long['Месяц'] = df_long.apply(type_date, axis=1) # добавляем новый столбец\n",
    "\n",
    "# проверяем категоризацию\n",
    "df_long.groupby(['Месяц', 'Дата'])['Количество событий'].agg('sum')"
   ]
  },
  {
   "cell_type": "code",
   "execution_count": 28,
   "id": "e1519f3d-879b-4188-b1bf-e88636222f4a",
   "metadata": {},
   "outputs": [
    {
     "data": {
      "image/png": "[encoded data removed]"
     },
     "metadata": {},
     "output_type": "display_data"
    }
   ],
   "source": [
    "fig_month = px.pie(df_long, values='Количество событий', names='Месяц',\n",
    "                   title = 'Количество событий по месяцам',\n",
    "                   width=500, height=400)\n",
    "fig_month.show('png')"
   ]
  },
  {
   "cell_type": "markdown",
   "id": "98a32bb2-280f-48f6-9f8d-7361a1ccb9f5",
   "metadata": {},
   "source": [
    "<div style=\"border:solid green 2px; padding: 20px\">\n",
    "\n",
    "По графику видим не одинаково полные данные за весь период:\n",
    "* Июль 2826 событий (доля 1.2%).\n",
    "* Август 240887 событий (доля 98.8%).\n",
    "\n",
    "Технически в логи новых дней по некоторым пользователям могут «доезжать» события из прошлого — это может «перекашивать данные». \n",
    "\n",
    "На самом деле мы располагаем полными данные за 7 дней с 1 по 7 августа 2019 г.\n",
    "\n",
    "Таким образом, отбросим данные за июль.\n",
    "\n",
    "</div>"
   ]
  },
  {
   "cell_type": "markdown",
   "id": "6d265617-3aad-40b4-91e8-e3e5dcbd1394",
   "metadata": {},
   "source": [
    "#### Период с одинаково полными данными"
   ]
  },
  {
   "cell_type": "markdown",
   "id": "c966cbd5-d982-4392-a211-baa3f93d8f52",
   "metadata": {},
   "source": [
    "<div style=\"border:solid black 2px; padding: 20px\">\n",
    "\n",
    "Создадим новую таблицу, где уберем данные за июль.\n",
    "\n",
    "</div>"
   ]
  },
  {
   "cell_type": "code",
   "execution_count": 29,
   "id": "195b9ea1-5b7d-4658-8c07-afb06f55f12d",
   "metadata": {},
   "outputs": [
    {
     "data": {
      "text/html": [
       "<div>\n",
       "<style scoped>\n",
       "    .dataframe tbody tr th:only-of-type {\n",
       "        vertical-align: middle;\n",
       "    }\n",
       "\n",
       "    .dataframe tbody tr th {\n",
       "        vertical-align: top;\n",
       "    }\n",
       "\n",
       "    .dataframe thead th {\n",
       "        text-align: right;\n",
       "    }\n",
       "</style>\n",
       "<table border=\"1\" class=\"dataframe\">\n",
       "  <thead>\n",
       "    <tr style=\"text-align: right;\">\n",
       "      <th></th>\n",
       "      <th>event_name</th>\n",
       "      <th>user_id</th>\n",
       "      <th>event_timestamp</th>\n",
       "      <th>exp_id</th>\n",
       "      <th>event_time</th>\n",
       "      <th>date</th>\n",
       "      <th>hour</th>\n",
       "      <th>group</th>\n",
       "      <th>event_type</th>\n",
       "      <th>store</th>\n",
       "    </tr>\n",
       "  </thead>\n",
       "  <tbody>\n",
       "    <tr>\n",
       "      <th>2826</th>\n",
       "      <td>Tutorial</td>\n",
       "      <td>3737462046622621720</td>\n",
       "      <td>1564618048</td>\n",
       "      <td>246</td>\n",
       "      <td>2019-08-01 00:07:28</td>\n",
       "      <td>2019-08-01</td>\n",
       "      <td>0</td>\n",
       "      <td>A1</td>\n",
       "      <td>Посмотрел страницу Руководство</td>\n",
       "      <td>store</td>\n",
       "    </tr>\n",
       "    <tr>\n",
       "      <th>2827</th>\n",
       "      <td>MainScreenAppear</td>\n",
       "      <td>3737462046622621720</td>\n",
       "      <td>1564618080</td>\n",
       "      <td>246</td>\n",
       "      <td>2019-08-01 00:08:00</td>\n",
       "      <td>2019-08-01</td>\n",
       "      <td>0</td>\n",
       "      <td>A1</td>\n",
       "      <td>Просмотрел главную страницу</td>\n",
       "      <td>store</td>\n",
       "    </tr>\n",
       "  </tbody>\n",
       "</table>\n",
       "</div>"
      ],
      "text/plain": [
       "            event_name              user_id  event_timestamp  exp_id  \\\n",
       "2826          Tutorial  3737462046622621720       1564618048     246   \n",
       "2827  MainScreenAppear  3737462046622621720       1564618080     246   \n",
       "\n",
       "              event_time       date  hour group  \\\n",
       "2826 2019-08-01 00:07:28 2019-08-01     0    A1   \n",
       "2827 2019-08-01 00:08:00 2019-08-01     0    A1   \n",
       "\n",
       "                          event_type  store  \n",
       "2826  Посмотрел страницу Руководство  store  \n",
       "2827     Просмотрел главную страницу  store  "
      ]
     },
     "execution_count": 29,
     "metadata": {},
     "output_type": "execute_result"
    }
   ],
   "source": [
    "data['date'] = pd.to_datetime(data['date'])\n",
    "data_aug = data.query('date > \"2019-07-31\"')\n",
    "data_aug.head(2)"
   ]
  },
  {
   "cell_type": "code",
   "execution_count": 30,
   "id": "e800add8-6d43-4116-bd5c-814a88351558",
   "metadata": {},
   "outputs": [
    {
     "data": {
      "text/html": [
       "<style type=\"text/css\">\n",
       "</style>\n",
       "<table id=\"T_ef713\">\n",
       "  <caption>Количество событий август</caption>\n",
       "  <thead>\n",
       "    <tr>\n",
       "      <th class=\"blank level0\" >&nbsp;</th>\n",
       "      <th id=\"T_ef713_level0_col0\" class=\"col_heading level0 col0\" >Количество событий</th>\n",
       "    </tr>\n",
       "    <tr>\n",
       "      <th class=\"index_name level0\" >date</th>\n",
       "      <th class=\"blank col0\" >&nbsp;</th>\n",
       "    </tr>\n",
       "  </thead>\n",
       "  <tbody>\n",
       "    <tr>\n",
       "      <th id=\"T_ef713_level0_row0\" class=\"row_heading level0 row0\" >2019-08-01 00:00:00</th>\n",
       "      <td id=\"T_ef713_row0_col0\" class=\"data row0 col0\" >36141</td>\n",
       "    </tr>\n",
       "    <tr>\n",
       "      <th id=\"T_ef713_level0_row1\" class=\"row_heading level0 row1\" >2019-08-02 00:00:00</th>\n",
       "      <td id=\"T_ef713_row1_col0\" class=\"data row1 col0\" >35554</td>\n",
       "    </tr>\n",
       "    <tr>\n",
       "      <th id=\"T_ef713_level0_row2\" class=\"row_heading level0 row2\" >2019-08-03 00:00:00</th>\n",
       "      <td id=\"T_ef713_row2_col0\" class=\"data row2 col0\" >33282</td>\n",
       "    </tr>\n",
       "    <tr>\n",
       "      <th id=\"T_ef713_level0_row3\" class=\"row_heading level0 row3\" >2019-08-04 00:00:00</th>\n",
       "      <td id=\"T_ef713_row3_col0\" class=\"data row3 col0\" >32968</td>\n",
       "    </tr>\n",
       "    <tr>\n",
       "      <th id=\"T_ef713_level0_row4\" class=\"row_heading level0 row4\" >2019-08-05 00:00:00</th>\n",
       "      <td id=\"T_ef713_row4_col0\" class=\"data row4 col0\" >36058</td>\n",
       "    </tr>\n",
       "    <tr>\n",
       "      <th id=\"T_ef713_level0_row5\" class=\"row_heading level0 row5\" >2019-08-06 00:00:00</th>\n",
       "      <td id=\"T_ef713_row5_col0\" class=\"data row5 col0\" >35788</td>\n",
       "    </tr>\n",
       "    <tr>\n",
       "      <th id=\"T_ef713_level0_row6\" class=\"row_heading level0 row6\" >2019-08-07 00:00:00</th>\n",
       "      <td id=\"T_ef713_row6_col0\" class=\"data row6 col0\" >31096</td>\n",
       "    </tr>\n",
       "  </tbody>\n",
       "</table>\n"
      ],
      "text/plain": [
       "<pandas.io.formats.style.Styler at 0x246435a1fd0>"
      ]
     },
     "execution_count": 30,
     "metadata": {},
     "output_type": "execute_result"
    }
   ],
   "source": [
    "data_aug_date = data_aug.pivot_table(index='date', values='event_name', aggfunc='count')\\\n",
    "                        .rename(columns= {'event_name': 'Количество событий'})\n",
    "data_aug_date.style.set_caption('Количество событий август')"
   ]
  },
  {
   "cell_type": "code",
   "execution_count": 31,
   "id": "65b3ef46-962f-44a4-811a-adb539d3fc7d",
   "metadata": {},
   "outputs": [
    {
     "name": "stdout",
     "output_type": "stream",
     "text": [
      "Количество событий август (новая таблица): 240887\n",
      "Количество событий август (исходник): 240887\n"
     ]
    }
   ],
   "source": [
    "# сравнение исходника и новой таблицы\n",
    "print('Количество событий август (новая таблица):', len(data_aug))\n",
    "print('Количество событий август (исходник):', len(data.query('date > \"2019-07-31\"')))"
   ]
  },
  {
   "cell_type": "code",
   "execution_count": 32,
   "id": "ea298176-b377-45e7-a68e-4cadb70d0ec0",
   "metadata": {},
   "outputs": [
    {
     "data": {
      "text/html": [
       "<div>\n",
       "<style scoped>\n",
       "    .dataframe tbody tr th:only-of-type {\n",
       "        vertical-align: middle;\n",
       "    }\n",
       "\n",
       "    .dataframe tbody tr th {\n",
       "        vertical-align: top;\n",
       "    }\n",
       "\n",
       "    .dataframe thead th {\n",
       "        text-align: right;\n",
       "    }\n",
       "</style>\n",
       "<table border=\"1\" class=\"dataframe\">\n",
       "  <thead>\n",
       "    <tr style=\"text-align: right;\">\n",
       "      <th></th>\n",
       "      <th>Уникальные пользователи весь период</th>\n",
       "      <th>Уникальные пользователи август</th>\n",
       "      <th>Разница</th>\n",
       "    </tr>\n",
       "    <tr>\n",
       "      <th>group</th>\n",
       "      <th></th>\n",
       "      <th></th>\n",
       "      <th></th>\n",
       "    </tr>\n",
       "  </thead>\n",
       "  <tbody>\n",
       "    <tr>\n",
       "      <th>A1</th>\n",
       "      <td>2489</td>\n",
       "      <td>2484</td>\n",
       "      <td>5</td>\n",
       "    </tr>\n",
       "    <tr>\n",
       "      <th>A2</th>\n",
       "      <td>2520</td>\n",
       "      <td>2513</td>\n",
       "      <td>7</td>\n",
       "    </tr>\n",
       "    <tr>\n",
       "      <th>B</th>\n",
       "      <td>2542</td>\n",
       "      <td>2537</td>\n",
       "      <td>5</td>\n",
       "    </tr>\n",
       "    <tr>\n",
       "      <th>total</th>\n",
       "      <td>7551</td>\n",
       "      <td>7534</td>\n",
       "      <td>17</td>\n",
       "    </tr>\n",
       "  </tbody>\n",
       "</table>\n",
       "</div>"
      ],
      "text/plain": [
       "       Уникальные пользователи весь период  Уникальные пользователи август  \\\n",
       "group                                                                        \n",
       "A1                                    2489                            2484   \n",
       "A2                                    2520                            2513   \n",
       "B                                     2542                            2537   \n",
       "total                                 7551                            7534   \n",
       "\n",
       "       Разница  \n",
       "group           \n",
       "A1           5  \n",
       "A2           7  \n",
       "B            5  \n",
       "total       17  "
      ]
     },
     "execution_count": 32,
     "metadata": {},
     "output_type": "execute_result"
    }
   ],
   "source": [
    "data_users = data.pivot_table(index='group', values='user_id', aggfunc='nunique')\\\n",
    "                 .rename(columns= {'user_id': 'Уникальные пользователи весь период'})\n",
    "\n",
    "data_aug_users = data_aug.pivot_table(index='group', values='user_id', aggfunc='nunique')\\\n",
    "                         .rename(columns= {'user_id': 'Уникальные пользователи август'})\n",
    "\n",
    "check_users = data_users.merge(data_aug_users, left_on='group', right_on='group')\n",
    "check_users['Разница'] = check_users['Уникальные пользователи весь период'] - check_users['Уникальные пользователи август']\n",
    "\n",
    "check_users.loc['total'] = check_users.sum(numeric_only=True)\n",
    "check_users"
   ]
  },
  {
   "cell_type": "markdown",
   "id": "ea52ee1d-8867-4745-9d9c-fbae9f17a758",
   "metadata": {},
   "source": [
    "<div style=\"border:solid green 2px; padding: 20px\">\n",
    "\n",
    "Сформировали новую таблицу, где оставили данные только за август.\n",
    "\n",
    "Проверили, что количество событий за август совпадает с исходным файлом (240887 событий).\n",
    "\n",
    "Проверили количество уникальных пользователей. Отбросив данные за июль, потеряли только 17 уникальных пользователей из 7551.\n",
    "\n",
    "</div>"
   ]
  },
  {
   "cell_type": "markdown",
   "id": "5b3da83a-2cee-4eaa-b966-908dff97f00d",
   "metadata": {},
   "source": [
    "#### Время"
   ]
  },
  {
   "cell_type": "markdown",
   "id": "df13cace-c184-45b4-83c3-171be35f7a0e",
   "metadata": {},
   "source": [
    "<div style=\"border:solid black 2px; padding: 20px\">\n",
    "\n",
    "Посмотрим на время, в которое чаще заходят пользователи в приложение.\n",
    "\n",
    "</div>"
   ]
  },
  {
   "cell_type": "code",
   "execution_count": 33,
   "id": "ecd18d7a-e48c-4bef-9cdd-af3b3d96c8c0",
   "metadata": {},
   "outputs": [
    {
     "data": {
      "image/png": "[encoded data removed]"
     },
     "metadata": {},
     "output_type": "display_data"
    }
   ],
   "source": [
    "hour_cnt = data_aug.pivot_table(index=['hour', 'event_type'], values='user_id', aggfunc='count').reset_index()\n",
    "hour_long = hour_cnt.set_index('hour').reset_index()\n",
    "hour_long.columns = ['Время', 'Событие', 'Количество пользователей']\n",
    "fig_hour_long = px.bar(data_frame=hour_long, x='Время', y='Количество пользователей',\n",
    "                       color='Событие', barmode='stack', title='Количество пользователей по часам',\n",
    "                       width=800, height=500)\n",
    "fig_hour_long.show('png')"
   ]
  },
  {
   "cell_type": "code",
   "execution_count": 34,
   "id": "34990efc-0a76-4409-882c-0fd7ea7918d6",
   "metadata": {},
   "outputs": [
    {
     "data": {
      "image/png": "[encoded data removed]"
     },
     "metadata": {},
     "output_type": "display_data"
    }
   ],
   "source": [
    "data_aug_week_day = data_aug.pivot_table(index=['date', 'event_type'], values='user_id', aggfunc='count')\\\n",
    "                            .reset_index()\n",
    "data_aug_week_day['week'] = data_aug_week_day['date'].dt.isocalendar().day\n",
    "week_day = data_aug_week_day.set_index('week').reset_index()\n",
    "week_day.columns = ['День недели', 'День' , 'Событие', 'Количество пользователей']\n",
    "fig_week_day = px.bar(data_frame=week_day, x='День недели', y='Количество пользователей',\n",
    "                      color='Событие', barmode='stack', title='Количество пользователей по дням недели')\n",
    "fig_week_day.show('png')"
   ]
  },
  {
   "cell_type": "markdown",
   "id": "cb646c22-b23c-4392-b26b-726dcc9f5d1f",
   "metadata": {},
   "source": [
    "<div style=\"border:solid green 2px; padding: 20px\">\n",
    "\n",
    "Чаще всего пользователи заходят в приложение с 9:00 до 17:00.\n",
    "\n",
    "Самое популярное время в приложении 14:00 и 15:00.\n",
    "\n",
    "За одну отчетную неделю меньше всего пользователей в среду. Данных за одну неделю недостаточно для того, чтобы говорить о тренде, будем иметь ввиду эту информацию для дальнейших исследований.\n",
    "\n",
    "</div>"
   ]
  },
  {
   "cell_type": "markdown",
   "id": "77f3f9e4-d6ab-4e7a-a978-4c72aa68968d",
   "metadata": {},
   "source": [
    "### Вывод"
   ]
  },
  {
   "cell_type": "markdown",
   "id": "5da97edf-b308-4de4-b757-fe0526b37417",
   "metadata": {},
   "source": [
    "<div style=\"border:solid blue 2px; padding: 20px\">\n",
    "\n",
    "\n",
    "**Количество событий и пользователей в логе.**\n",
    "\n",
    "| store  | Количество уникальных событий| Всего событий| Количество уникальных пользователей| Количество событий на пользователя| \n",
    "|:-------|:----------------------------:|:------------:|:----------------------------------:|:---------------------------------:|\n",
    "|store   | 5                            |243713        | 7551                               | 32                                |\n",
    "\n",
    "\n",
    "| Количество событий на пользователя  | mean | median | min | max  | \n",
    "|:------------------------------------|:----:|:------:|:---:|:----:|\n",
    "|Количество событий на пользователя   | 32   |20      | 1   | 2307 |                          \n",
    "\n",
    "На гистограмме видим длинных хвост по количеству событий на пользователя.\n",
    "\n",
    "При срезе до 100 событий на пользователя, пик количества событий на пользователя в диапазоне 5-9 событий.\n",
    "\n",
    "---\n",
    "\n",
    "**Период отчета:** с 2019-07-25 по 2019-08-07 (14 дней):\n",
    "* Минимальная дата 2019-07-25\n",
    "* Максимальная дата 2019-08-07\n",
    "\n",
    "По графику видим не одинаково полные данные за весь период:\n",
    "* Июль 2826 событий (доля 1.2%).\n",
    "* **Август 240887 событий (доля 98.8%).**\n",
    "\n",
    "Технически в логи новых дней по некоторым пользователям могут «доезжать» события из прошлого — это может «перекашивать данные». \n",
    "\n",
    "На самом деле мы располагаем полными данные за 7 дней с 1 по 7 августа 2019 г.\n",
    "\n",
    "Таким образом, отбросили данные за июль.\n",
    "\n",
    "Отбросив данные за июль, потеряли только 17 уникальных пользователей из 7551.\n",
    "\n",
    "**Время.**\n",
    "\n",
    "Чаще всего пользователи заходят в приложение с 9:00 до 17:00.\n",
    "\n",
    "Самое популярное время в приложении 14:00 и 15:00.\n",
    "\n",
    "За одну отчетную неделю меньше всего пользователей в среду. Данных за одну неделю недостаточно для того, чтобы говорить о тренде, будем иметь ввиду эту информацию для дальнейших исследований.\n",
    "\n",
    "</div>"
   ]
  },
  {
   "cell_type": "markdown",
   "id": "d702030a-2d89-4758-8e46-ed71d82293cf",
   "metadata": {},
   "source": [
    "[Начало_проекта](#Начало_проекта)"
   ]
  },
  {
   "cell_type": "markdown",
   "id": "2ff36dce-0b1f-4824-974d-88eb57dbd7cb",
   "metadata": {},
   "source": [
    "<a id=\"воронка\"></a>"
   ]
  },
  {
   "cell_type": "markdown",
   "id": "38f0b191-fb9b-4bc9-8b91-2063618dd17e",
   "metadata": {},
   "source": [
    "## Воронка событий"
   ]
  },
  {
   "cell_type": "markdown",
   "id": "da042907-623f-4b3d-b6ea-eb72cd7803bf",
   "metadata": {},
   "source": [
    "### Проверка данных в разрезе событий"
   ]
  },
  {
   "cell_type": "markdown",
   "id": "22fbcd31-9a7b-4e53-8360-657f1d405370",
   "metadata": {},
   "source": [
    "<div style=\"border:solid black 2px; padding: 20px\">\n",
    "\n",
    "Посмотрим:\n",
    "* Какие события есть в логах, как часто они встречаются.\n",
    "* Сколько пользователей совершали каждое из этих событий.\n",
    "* Долю пользователей, которые хоть раз совершали событие.\n",
    "\n",
    "</div>"
   ]
  },
  {
   "cell_type": "code",
   "execution_count": 35,
   "id": "7738c56a-093e-42be-a00e-2d52699b28cc",
   "metadata": {},
   "outputs": [
    {
     "data": {
      "text/html": [
       "<style type=\"text/css\">\n",
       "#T_dca1a_row0_col0, #T_dca1a_row0_col1, #T_dca1a_row0_col2, #T_dca1a_row0_col3 {\n",
       "  background-color: #023858;\n",
       "  color: #f1f1f1;\n",
       "}\n",
       "#T_dca1a_row1_col0, #T_dca1a_row1_col2 {\n",
       "  background-color: #a1bbda;\n",
       "  color: #000000;\n",
       "}\n",
       "#T_dca1a_row1_col1, #T_dca1a_row1_col3 {\n",
       "  background-color: #509ac6;\n",
       "  color: #f1f1f1;\n",
       "}\n",
       "#T_dca1a_row2_col0 {\n",
       "  background-color: #adc1dd;\n",
       "  color: #000000;\n",
       "}\n",
       "#T_dca1a_row2_col1, #T_dca1a_row2_col3 {\n",
       "  background-color: #8cb3d5;\n",
       "  color: #000000;\n",
       "}\n",
       "#T_dca1a_row2_col2 {\n",
       "  background-color: #acc0dd;\n",
       "  color: #000000;\n",
       "}\n",
       "#T_dca1a_row3_col0, #T_dca1a_row3_col2 {\n",
       "  background-color: #c5cce3;\n",
       "  color: #000000;\n",
       "}\n",
       "#T_dca1a_row3_col1, #T_dca1a_row3_col3 {\n",
       "  background-color: #97b7d7;\n",
       "  color: #000000;\n",
       "}\n",
       "#T_dca1a_row4_col0, #T_dca1a_row4_col1, #T_dca1a_row4_col2, #T_dca1a_row4_col3 {\n",
       "  background-color: #fff7fb;\n",
       "  color: #000000;\n",
       "}\n",
       "</style>\n",
       "<table id=\"T_dca1a\">\n",
       "  <thead>\n",
       "    <tr>\n",
       "      <th class=\"blank level0\" >&nbsp;</th>\n",
       "      <th id=\"T_dca1a_level0_col0\" class=\"col_heading level0 col0\" >Количество событий итого</th>\n",
       "      <th id=\"T_dca1a_level0_col1\" class=\"col_heading level0 col1\" >Количество уникальных пользователей</th>\n",
       "      <th id=\"T_dca1a_level0_col2\" class=\"col_heading level0 col2\" >Доля по частоте событий (%)</th>\n",
       "      <th id=\"T_dca1a_level0_col3\" class=\"col_heading level0 col3\" >Доля пользователей, хоть раз совершивших событие (%)</th>\n",
       "    </tr>\n",
       "    <tr>\n",
       "      <th class=\"index_name level0\" >event_type</th>\n",
       "      <th class=\"blank col0\" >&nbsp;</th>\n",
       "      <th class=\"blank col1\" >&nbsp;</th>\n",
       "      <th class=\"blank col2\" >&nbsp;</th>\n",
       "      <th class=\"blank col3\" >&nbsp;</th>\n",
       "    </tr>\n",
       "  </thead>\n",
       "  <tbody>\n",
       "    <tr>\n",
       "      <th id=\"T_dca1a_level0_row0\" class=\"row_heading level0 row0\" >Просмотрел главную страницу</th>\n",
       "      <td id=\"T_dca1a_row0_col0\" class=\"data row0 col0\" >117328.0</td>\n",
       "      <td id=\"T_dca1a_row0_col1\" class=\"data row0 col1\" >7419.0</td>\n",
       "      <td id=\"T_dca1a_row0_col2\" class=\"data row0 col2\" >48.7</td>\n",
       "      <td id=\"T_dca1a_row0_col3\" class=\"data row0 col3\" >98.5</td>\n",
       "    </tr>\n",
       "    <tr>\n",
       "      <th id=\"T_dca1a_level0_row1\" class=\"row_heading level0 row1\" >Перешел на страницу Каталог</th>\n",
       "      <td id=\"T_dca1a_row1_col0\" class=\"data row1 col0\" >46333.0</td>\n",
       "      <td id=\"T_dca1a_row1_col1\" class=\"data row1 col1\" >4593.0</td>\n",
       "      <td id=\"T_dca1a_row1_col2\" class=\"data row1 col2\" >19.2</td>\n",
       "      <td id=\"T_dca1a_row1_col3\" class=\"data row1 col3\" >61.0</td>\n",
       "    </tr>\n",
       "    <tr>\n",
       "      <th id=\"T_dca1a_level0_row2\" class=\"row_heading level0 row2\" >Перешел на страницу Корзина</th>\n",
       "      <td id=\"T_dca1a_row2_col0\" class=\"data row2 col0\" >42303.0</td>\n",
       "      <td id=\"T_dca1a_row2_col1\" class=\"data row2 col1\" >3734.0</td>\n",
       "      <td id=\"T_dca1a_row2_col2\" class=\"data row2 col2\" >17.6</td>\n",
       "      <td id=\"T_dca1a_row2_col3\" class=\"data row2 col3\" >49.6</td>\n",
       "    </tr>\n",
       "    <tr>\n",
       "      <th id=\"T_dca1a_level0_row3\" class=\"row_heading level0 row3\" >Перешел на страницу Успешная оплата</th>\n",
       "      <td id=\"T_dca1a_row3_col0\" class=\"data row3 col0\" >33918.0</td>\n",
       "      <td id=\"T_dca1a_row3_col1\" class=\"data row3 col1\" >3539.0</td>\n",
       "      <td id=\"T_dca1a_row3_col2\" class=\"data row3 col2\" >14.1</td>\n",
       "      <td id=\"T_dca1a_row3_col3\" class=\"data row3 col3\" >47.0</td>\n",
       "    </tr>\n",
       "    <tr>\n",
       "      <th id=\"T_dca1a_level0_row4\" class=\"row_heading level0 row4\" >Посмотрел страницу Руководство</th>\n",
       "      <td id=\"T_dca1a_row4_col0\" class=\"data row4 col0\" >1005.0</td>\n",
       "      <td id=\"T_dca1a_row4_col1\" class=\"data row4 col1\" >840.0</td>\n",
       "      <td id=\"T_dca1a_row4_col2\" class=\"data row4 col2\" >0.4</td>\n",
       "      <td id=\"T_dca1a_row4_col3\" class=\"data row4 col3\" >11.1</td>\n",
       "    </tr>\n",
       "  </tbody>\n",
       "</table>\n"
      ],
      "text/plain": [
       "<pandas.io.formats.style.Styler at 0x24644af76d0>"
      ]
     },
     "execution_count": 35,
     "metadata": {},
     "output_type": "execute_result"
    }
   ],
   "source": [
    "chute = data_aug.pivot_table(index='event_type', values=['event_name', 'user_id'],\n",
    "                             aggfunc={'event_name': 'count', 'user_id': 'nunique'})\\\n",
    "                .sort_values(by='event_name', ascending=False)\n",
    "chute['events_share'] = (chute['event_name'] / data_aug['event_name'].count() * 100).round(1)\n",
    "chute['share_users_by_event'] = (chute['user_id'] / data_aug['user_id'].nunique() * 100).round(1)\n",
    "chute.columns = ['Количество событий итого', 'Количество уникальных пользователей',\n",
    "                 'Доля по частоте событий (%)', 'Доля пользователей, хоть раз совершивших событие (%)']\n",
    "\n",
    "chute.style.format(\"{:.1f}\").background_gradient(axis=0)"
   ]
  },
  {
   "cell_type": "code",
   "execution_count": 36,
   "id": "fa8968f0-6b15-477c-b0a1-4dee72251772",
   "metadata": {},
   "outputs": [
    {
     "data": {
      "image/png": "[encoded data removed]"
     },
     "metadata": {},
     "output_type": "display_data"
    }
   ],
   "source": [
    "df_chute = chute.reset_index().rename(columns={'event_type': 'Название события'})\n",
    "fig_chute_event = px.bar(data_frame=df_chute, y='Название события', x='Количество событий итого',\n",
    "                         barmode='group', title='События', width=800, height=350)\n",
    "fig_chute_event.show('png')"
   ]
  },
  {
   "cell_type": "code",
   "execution_count": 37,
   "id": "2cab19d9-f34a-48b3-a06f-6077626e70d0",
   "metadata": {},
   "outputs": [
    {
     "data": {
      "image/png": "[encoded data removed]"
     },
     "metadata": {},
     "output_type": "display_data"
    }
   ],
   "source": [
    "fig_chute_event = px.bar(data_frame=df_chute, y='Название события', x='Количество уникальных пользователей',\n",
    "                         barmode='group', title='Количество уникальных пользователей в разрезе событий',\n",
    "                         width=800, height=350)\n",
    "fig_chute_event.show('png')"
   ]
  },
  {
   "cell_type": "code",
   "execution_count": 38,
   "id": "d68de722-42f5-4a01-82a3-63a3986a90e5",
   "metadata": {},
   "outputs": [
    {
     "data": {
      "image/png": "[encoded data removed]"
     },
     "metadata": {},
     "output_type": "display_data"
    }
   ],
   "source": [
    "labels_events = ['Перешел на страницу Каталог', 'Перешел на страницу Корзина',\n",
    "                 'Перешел на страницу Успешная оплата', 'Посмотрел страницу Руководство', 'Просмотрел главную страницу']\n",
    "\n",
    "values1 = data_aug.groupby('event_type')['event_name'].count()\n",
    "values2 = data_aug.groupby('event_type')['user_id'].nunique()\n",
    "\n",
    "fig_events_show = make_subplots(rows=1, cols=2, specs=[[{\"type\": \"pie\"}, {\"type\": \"pie\"}]],\n",
    "                                subplot_titles=['По количеству событий', 'По количеству пользователей'])\n",
    "\n",
    "fig_events_show.add_trace(go.Pie(values=values1, labels=labels_events, domain=dict(x=[0, 0.5]),\n",
    "     name='Доля по количеству событий'), row=1, col=1)\n",
    "\n",
    "fig_events_show.add_trace(go.Pie(values=values2, labels=labels_events, domain=dict(x=[0.5, 1.0]),\n",
    "     name='Доля по количеству пользователей'), row=1, col=2)\n",
    "\n",
    "fig_events_show.update_layout(title_text='Доля событий',width=850, height=400)\n",
    "\n",
    "fig_events_show.show('png')"
   ]
  },
  {
   "cell_type": "code",
   "execution_count": 39,
   "id": "5a79a171-08ce-4405-a5eb-57ae8eb026d1",
   "metadata": {},
   "outputs": [
    {
     "data": {
      "text/plain": [
       "event_name\n",
       "CartScreenAppear            42303\n",
       "MainScreenAppear           117328\n",
       "OffersScreenAppear          46333\n",
       "PaymentScreenSuccessful     33918\n",
       "Name: event_type, dtype: int64"
      ]
     },
     "execution_count": 39,
     "metadata": {},
     "output_type": "execute_result"
    }
   ],
   "source": [
    "# создаем таблицу без события 'Посмотрел страницу Руководство'\n",
    "data_aug_wo_tutorial = data_aug[data_aug['event_name'] != 'Tutorial']\n",
    "# проверяем срез\n",
    "data_aug_wo_tutorial.groupby('event_name')['event_type'].agg('count')"
   ]
  },
  {
   "cell_type": "markdown",
   "id": "bec1878a-767c-46a3-87b8-b03784b34eca",
   "metadata": {},
   "source": [
    "<div style=\"border:solid green 2px; padding: 20px\">\n",
    "\n",
    "В файле присутствуют 5 событий:\n",
    "\n",
    "| Событие                           | Количество событий | Доля по частоте(%)| Доля пользователей, хоть раз совершивших событие (%)|\n",
    "|:----------------------------------|:------------------:|:-----------------:| ---------------------------------------------------:|\n",
    "|Просмотрел главную страницу        | 117328             |48.7               |  98.5                                               |\n",
    "|Перешел на страницу Каталог        | 46333              |19.2               |  61.0                                               |\n",
    "|Перешел на страницу Корзина        | 42303              |17.6               |  49.6                                               |\n",
    "|Перешел на страницу Успешная оплата| 33918              |14.1               |  47.0                                               |\n",
    "|Посмотрел страницу Руководство     | 1005               |0.4                |  11.1                                               |\n",
    "\n",
    "* Самое популярное событие 'Просмотрел главную страницу':\n",
    "    - Количество событий 117328\n",
    "    - Доля по частоте событий 48.7%.\n",
    "    - Доля по количеству пользователей 36.9%.\n",
    "    - Доля пользователей, хоть раз совершивших данное событие 98.5%. Предположение, почему в первом пункте не 100%: пользователь мог зайти по рекламной ссылке на конкретный товар, или получить ссылку на конкретный товар от знакомого.\n",
    "\n",
    "* Считаем, что все события происходят в порядке, который мы наблюдаем при сортировке частоты событий по убыванию:\n",
    "1. Просмотрел главную страницу\n",
    "2. Перешел на страницу Каталог\n",
    "3. Перешел на страницу Корзина\n",
    "4. Перешел на страницу Успешная оплата\n",
    "\n",
    "* Исключение - это событие 'Посмотрел страницу Руководство'. Данную страницу пользователь мог смотреть в любой последовательности после посещения главной страницы. Доля по частоте событий 0.4%. В связи с этим данное событие не будем учитывать при расчете воронки.\n",
    "\n",
    "</div>"
   ]
  },
  {
   "cell_type": "markdown",
   "id": "dcb7fba1-2067-41ca-a78d-bafb4bb265ce",
   "metadata": {},
   "source": [
    "### Воронка событий"
   ]
  },
  {
   "cell_type": "markdown",
   "id": "8fa1c046-2585-4463-8eb0-7389dd511ec1",
   "metadata": {},
   "source": [
    "<div style=\"border:solid black 2px; padding: 20px\">\n",
    "\n",
    "Построим воронку событий.\n",
    "\n",
    "По воронке событий посчитаем, какая доля пользователей проходит на следующий шаг воронки (от числа пользователей на предыдущем). \n",
    "\n",
    "</div>"
   ]
  },
  {
   "cell_type": "code",
   "execution_count": 40,
   "id": "e0896dd0-53f1-416e-ba2c-ce6a3076590b",
   "metadata": {},
   "outputs": [
    {
     "data": {
      "text/html": [
       "<div>\n",
       "<style scoped>\n",
       "    .dataframe tbody tr th:only-of-type {\n",
       "        vertical-align: middle;\n",
       "    }\n",
       "\n",
       "    .dataframe tbody tr th {\n",
       "        vertical-align: top;\n",
       "    }\n",
       "\n",
       "    .dataframe thead th {\n",
       "        text-align: right;\n",
       "    }\n",
       "</style>\n",
       "<table border=\"1\" class=\"dataframe\">\n",
       "  <thead>\n",
       "    <tr style=\"text-align: right;\">\n",
       "      <th></th>\n",
       "      <th>event_type</th>\n",
       "      <th>user_id</th>\n",
       "    </tr>\n",
       "  </thead>\n",
       "  <tbody>\n",
       "    <tr>\n",
       "      <th>0</th>\n",
       "      <td>Просмотрел главную страницу</td>\n",
       "      <td>7419</td>\n",
       "    </tr>\n",
       "    <tr>\n",
       "      <th>1</th>\n",
       "      <td>Перешел на страницу Каталог</td>\n",
       "      <td>4593</td>\n",
       "    </tr>\n",
       "    <tr>\n",
       "      <th>2</th>\n",
       "      <td>Перешел на страницу Корзина</td>\n",
       "      <td>3734</td>\n",
       "    </tr>\n",
       "    <tr>\n",
       "      <th>3</th>\n",
       "      <td>Перешел на страницу Успешная оплата</td>\n",
       "      <td>3539</td>\n",
       "    </tr>\n",
       "  </tbody>\n",
       "</table>\n",
       "</div>"
      ],
      "text/plain": [
       "                            event_type  user_id\n",
       "0          Просмотрел главную страницу     7419\n",
       "1          Перешел на страницу Каталог     4593\n",
       "2          Перешел на страницу Корзина     3734\n",
       "3  Перешел на страницу Успешная оплата     3539"
      ]
     },
     "execution_count": 40,
     "metadata": {},
     "output_type": "execute_result"
    }
   ],
   "source": [
    "funnel_data_aug = data_aug_wo_tutorial.pivot_table(index='event_type', values='user_id', aggfunc={'user_id': 'nunique'})\\\n",
    "                                      .sort_values(by='user_id', ascending=False)\n",
    "funnel_data_aug = funnel_data_aug.reset_index()\n",
    "funnel_data_aug"
   ]
  },
  {
   "cell_type": "code",
   "execution_count": 41,
   "id": "7935ff1b-e5c1-45db-9b1a-3240c2df6379",
   "metadata": {},
   "outputs": [
    {
     "data": {
      "image/png": "[encoded data removed]"
     },
     "metadata": {},
     "output_type": "display_data"
    }
   ],
   "source": [
    "event_types_list = funnel_data_aug['event_type'].tolist()\n",
    "user_id = funnel_data_aug['user_id'].tolist()\n",
    "\n",
    "fig_funnel = go.Figure(go.Funnel(y=event_types_list, x=user_id,\n",
    "        textfont_size=30, marker={'color': ['deepskyblue', 'lightsalmon', 'tan', 'teal']},\n",
    "        textposition='inside', textinfo='value + percent initial + percent previous'))\n",
    "\n",
    "fig_funnel.update_layout(title='Воронка событий', width=800, height=450)\n",
    "fig_funnel.show('png')"
   ]
  },
  {
   "cell_type": "markdown",
   "id": "73058faf-a01c-415a-8a32-8adfc65abe5a",
   "metadata": {},
   "source": [
    "<div style=\"border:solid green 2px; padding: 20px\">\n",
    "\n",
    "**Воронка событий:**\n",
    "\n",
    "| event                              |  value       | percent initial (%)| percent previous (%) |\n",
    "|:-----------------------------------|:------------:|:------------------:| --------------------:|\n",
    "|Просмотрел главную страницу         | 7419         | 100                | 100                  |\n",
    "|Перешел на страницу Каталог         | 4593         | 62                 | 62                   |\n",
    "|Перешел на страницу Корзина         | 3734         | 50                 | 81                   |\n",
    "|Перешел на страницу Успешная оплата | 3539         | 48                 | 95                   |\n",
    "\n",
    "\n",
    "* На шаге 'Перешел на страницу Каталог' теряем больше всего пользователей (percent previous 62%).\n",
    "\n",
    "* От первого события до оплаты доходит 48% пользователей.\n",
    "\n",
    "</div>"
   ]
  },
  {
   "cell_type": "markdown",
   "id": "cf00fa66-53fb-4dad-9f62-7df94a6f8a90",
   "metadata": {},
   "source": [
    "### Вывод"
   ]
  },
  {
   "cell_type": "markdown",
   "id": "32d615c2-ab50-46f3-99d2-e594f06224ad",
   "metadata": {},
   "source": [
    "<div style=\"border:solid blue 2px; padding: 20px\">\n",
    "\n",
    "В файле присутствуют 5 событий:\n",
    "\n",
    "\n",
    "| Событие                           | Количество событий | Доля по частоте(%)| Доля пользователей, хоть раз совершивших событие (%)|\n",
    "|:----------------------------------|:------------------:|:-----------------:| ---------------------------------------------------:|\n",
    "|Просмотрел главную страницу        | 117328             |48.7               |  98.5                                               |\n",
    "|Перешел на страницу Каталог        | 46333              |19.2               |  61.0                                               |\n",
    "|Перешел на страницу Корзина        | 42303              |17.6               |  49.6                                               |\n",
    "|Перешел на страницу Успешная оплата| 33918              |14.1               |  47.0                                               |\n",
    "|Посмотрел страницу Руководство     | 1005               |0.4                |  11.1                                               |\n",
    "\n",
    "\n",
    "* Самое популярное событие 'Просмотрел главную страницу':\n",
    "    - Доля по частоте событий 48.7%.\n",
    "    - Доля по количеству пользователей 36.9%.\n",
    "    - Доля пользователей, хоть раз совершивших данное событие 98.5%. Предположение, почему в первом пункте не 100%: пользователь мог зайти по рекламной ссылке на конкретный товар, или получить ссылку на конкретный товар от знакомого.\n",
    "\n",
    "* Считаем, что все события происходят в порядке, который мы наблюдаем при сортировке частоты событий по убыванию:\n",
    "1. Просмотрел главную страницу\n",
    "2. Перешел на страницу Каталог\n",
    "3. Перешел на страницу Корзина\n",
    "4. Перешел на страницу Успешная оплата\n",
    "\n",
    "* Исключение - это событие 'Посмотрел страницу Руководство'. Данную страницу пользователь мог смотреть в любой последовательности после посещения главной страницы. Доля по частоте событий 0.4%. В связи с этим данное событие не будем учитывать при расчете воронки.\n",
    "\n",
    "**Воронка событий:**\n",
    "\n",
    "| event                              |  value       | percent initial (%)| percent previous (%) |\n",
    "|:-----------------------------------|:------------:|:------------------:| --------------------:|\n",
    "|Просмотрел главную страницу         | 7419         | 100                | 100                  |\n",
    "|Перешел на страницу Каталог         | 4593         | 62                 | 62                   |\n",
    "|Перешел на страницу Корзина         | 3734         | 50                 | 81                   |\n",
    "|Перешел на страницу Успешная оплата | 3539         | 48                 | 95                   |\n",
    "\n",
    "\n",
    "* На шаге 'Перешел на страницу Каталог' теряем больше всего пользователей (percent previous 62%).\n",
    "\n",
    "* От первого события до оплаты доходит 48% пользователей.\n",
    "\n",
    "</div>"
   ]
  },
  {
   "cell_type": "markdown",
   "id": "9713874d-c4f5-481c-a5e7-bd3f9c46cb29",
   "metadata": {},
   "source": [
    "[Начало_проекта](#Начало_проекта)"
   ]
  },
  {
   "cell_type": "markdown",
   "id": "08981b85-b0dd-44d2-ba86-7980edabd474",
   "metadata": {},
   "source": [
    "<a id=\"эксперимент\"></a>"
   ]
  },
  {
   "cell_type": "markdown",
   "id": "18d467dc-e635-4d71-8a74-0f05accf5668",
   "metadata": {},
   "source": [
    "## Анализ A/A/B-эксперимента"
   ]
  },
  {
   "cell_type": "markdown",
   "id": "a9e8921d-4e47-4780-ab35-e4a48ef3666f",
   "metadata": {},
   "source": [
    "### Пользователи по группам теста"
   ]
  },
  {
   "cell_type": "markdown",
   "id": "328f6790-fb0c-466b-b122-eeebec468f0e",
   "metadata": {},
   "source": [
    "<div style=\"border:solid black 2px; padding: 20px\">\n",
    "\n",
    "Посмотрим: сколько пользователей в каждой экспериментальной группе.\n",
    "Возьмем данные только за август.\n",
    "\n",
    "</div>"
   ]
  },
  {
   "cell_type": "code",
   "execution_count": 42,
   "id": "decf4838-9427-4d53-afc0-3f5594499935",
   "metadata": {},
   "outputs": [
    {
     "data": {
      "text/html": [
       "<div>\n",
       "<style scoped>\n",
       "    .dataframe tbody tr th:only-of-type {\n",
       "        vertical-align: middle;\n",
       "    }\n",
       "\n",
       "    .dataframe tbody tr th {\n",
       "        vertical-align: top;\n",
       "    }\n",
       "\n",
       "    .dataframe thead th {\n",
       "        text-align: right;\n",
       "    }\n",
       "</style>\n",
       "<table border=\"1\" class=\"dataframe\">\n",
       "  <thead>\n",
       "    <tr style=\"text-align: right;\">\n",
       "      <th></th>\n",
       "      <th>Уникальные пользователи август</th>\n",
       "      <th>Доля пользователей</th>\n",
       "    </tr>\n",
       "    <tr>\n",
       "      <th>group</th>\n",
       "      <th></th>\n",
       "      <th></th>\n",
       "    </tr>\n",
       "  </thead>\n",
       "  <tbody>\n",
       "    <tr>\n",
       "      <th>A1</th>\n",
       "      <td>2484</td>\n",
       "      <td>33.0</td>\n",
       "    </tr>\n",
       "    <tr>\n",
       "      <th>A2</th>\n",
       "      <td>2513</td>\n",
       "      <td>33.4</td>\n",
       "    </tr>\n",
       "    <tr>\n",
       "      <th>B</th>\n",
       "      <td>2537</td>\n",
       "      <td>33.7</td>\n",
       "    </tr>\n",
       "  </tbody>\n",
       "</table>\n",
       "</div>"
      ],
      "text/plain": [
       "       Уникальные пользователи август  Доля пользователей\n",
       "group                                                    \n",
       "A1                               2484                33.0\n",
       "A2                               2513                33.4\n",
       "B                                2537                33.7"
      ]
     },
     "execution_count": 42,
     "metadata": {},
     "output_type": "execute_result"
    }
   ],
   "source": [
    "data_aug_users['Доля пользователей'] = (data_aug_users['Уникальные пользователи август']\\\n",
    "                                        .transform(lambda x: 100 * x / x.sum()).round(1))\n",
    "data_aug_users"
   ]
  },
  {
   "cell_type": "markdown",
   "id": "a6e2aa84-b481-4e2d-a22c-6a4c42bea04e",
   "metadata": {},
   "source": [
    "<div style=\"border:solid green 2px; padding: 20px\">\n",
    "\n",
    "На верхнем уровне разница долей пользователей по группам меньше 1%, проверим разницу долей в разрезе событий.\n",
    "\n",
    "</div>"
   ]
  },
  {
   "cell_type": "markdown",
   "id": "b608c66d-6d93-4b3f-931d-a4c6c1f34fdd",
   "metadata": {},
   "source": [
    "### Пользователи в контрольных группах теста"
   ]
  },
  {
   "cell_type": "markdown",
   "id": "f2f0cb08-72e5-48b9-8bee-83dbfa32c221",
   "metadata": {},
   "source": [
    "<div style=\"border:solid black 2px; padding: 20px\">\n",
    "    \n",
    "Посчитаем число пользователей, совершивших событие в каждой из контрольных групп.\n",
    "\n",
    "Посчитаем долю пользователей, совершивших событие.\n",
    "\n",
    "</div>"
   ]
  },
  {
   "cell_type": "code",
   "execution_count": 43,
   "id": "61ec8bfa-adad-48a3-9094-db5a047d3501",
   "metadata": {},
   "outputs": [
    {
     "data": {
      "text/html": [
       "<div>\n",
       "<style scoped>\n",
       "    .dataframe tbody tr th:only-of-type {\n",
       "        vertical-align: middle;\n",
       "    }\n",
       "\n",
       "    .dataframe tbody tr th {\n",
       "        vertical-align: top;\n",
       "    }\n",
       "\n",
       "    .dataframe thead th {\n",
       "        text-align: right;\n",
       "    }\n",
       "</style>\n",
       "<table border=\"1\" class=\"dataframe\">\n",
       "  <thead>\n",
       "    <tr style=\"text-align: right;\">\n",
       "      <th></th>\n",
       "      <th>event_name</th>\n",
       "      <th>user_id</th>\n",
       "      <th>event_timestamp</th>\n",
       "      <th>exp_id</th>\n",
       "      <th>event_time</th>\n",
       "      <th>date</th>\n",
       "      <th>hour</th>\n",
       "      <th>group</th>\n",
       "      <th>event_type</th>\n",
       "      <th>store</th>\n",
       "    </tr>\n",
       "  </thead>\n",
       "  <tbody>\n",
       "    <tr>\n",
       "      <th>2826</th>\n",
       "      <td>Tutorial</td>\n",
       "      <td>3737462046622621720</td>\n",
       "      <td>1564618048</td>\n",
       "      <td>246</td>\n",
       "      <td>2019-08-01 00:07:28</td>\n",
       "      <td>2019-08-01</td>\n",
       "      <td>0</td>\n",
       "      <td>A1</td>\n",
       "      <td>Посмотрел страницу Руководство</td>\n",
       "      <td>store</td>\n",
       "    </tr>\n",
       "    <tr>\n",
       "      <th>2827</th>\n",
       "      <td>MainScreenAppear</td>\n",
       "      <td>3737462046622621720</td>\n",
       "      <td>1564618080</td>\n",
       "      <td>246</td>\n",
       "      <td>2019-08-01 00:08:00</td>\n",
       "      <td>2019-08-01</td>\n",
       "      <td>0</td>\n",
       "      <td>A1</td>\n",
       "      <td>Просмотрел главную страницу</td>\n",
       "      <td>store</td>\n",
       "    </tr>\n",
       "  </tbody>\n",
       "</table>\n",
       "</div>"
      ],
      "text/plain": [
       "            event_name              user_id  event_timestamp  exp_id  \\\n",
       "2826          Tutorial  3737462046622621720       1564618048     246   \n",
       "2827  MainScreenAppear  3737462046622621720       1564618080     246   \n",
       "\n",
       "              event_time       date  hour group  \\\n",
       "2826 2019-08-01 00:07:28 2019-08-01     0    A1   \n",
       "2827 2019-08-01 00:08:00 2019-08-01     0    A1   \n",
       "\n",
       "                          event_type  store  \n",
       "2826  Посмотрел страницу Руководство  store  \n",
       "2827     Просмотрел главную страницу  store  "
      ]
     },
     "execution_count": 43,
     "metadata": {},
     "output_type": "execute_result"
    }
   ],
   "source": [
    "data_aug.head(2)"
   ]
  },
  {
   "cell_type": "code",
   "execution_count": 44,
   "id": "85812f55-f495-44c1-9e16-6cd84efbfb54",
   "metadata": {
    "scrolled": true
   },
   "outputs": [
    {
     "data": {
      "text/html": [
       "<style type=\"text/css\">\n",
       "#T_c4fee_row0_col1, #T_c4fee_row0_col2 {\n",
       "  background-color: #023858;\n",
       "  color: #f1f1f1;\n",
       "}\n",
       "#T_c4fee_row1_col1 {\n",
       "  background-color: #023b5d;\n",
       "  color: #f1f1f1;\n",
       "}\n",
       "#T_c4fee_row1_col2 {\n",
       "  background-color: #023c5f;\n",
       "  color: #f1f1f1;\n",
       "}\n",
       "#T_c4fee_row2_col1 {\n",
       "  background-color: #509ac6;\n",
       "  color: #f1f1f1;\n",
       "}\n",
       "#T_c4fee_row2_col2 {\n",
       "  background-color: #589ec8;\n",
       "  color: #f1f1f1;\n",
       "}\n",
       "#T_c4fee_row3_col1 {\n",
       "  background-color: #89b1d4;\n",
       "  color: #000000;\n",
       "}\n",
       "#T_c4fee_row3_col2 {\n",
       "  background-color: #91b5d6;\n",
       "  color: #000000;\n",
       "}\n",
       "#T_c4fee_row4_col1 {\n",
       "  background-color: #96b6d7;\n",
       "  color: #000000;\n",
       "}\n",
       "#T_c4fee_row4_col2 {\n",
       "  background-color: #9fbad9;\n",
       "  color: #000000;\n",
       "}\n",
       "#T_c4fee_row5_col1, #T_c4fee_row5_col2 {\n",
       "  background-color: #fff7fb;\n",
       "  color: #000000;\n",
       "}\n",
       "</style>\n",
       "<table id=\"T_c4fee\">\n",
       "  <thead>\n",
       "    <tr>\n",
       "      <th class=\"index_name level0\" >group</th>\n",
       "      <th id=\"T_c4fee_level0_col0\" class=\"col_heading level0 col0\" >index</th>\n",
       "      <th id=\"T_c4fee_level0_col1\" class=\"col_heading level0 col1\" >A1</th>\n",
       "      <th id=\"T_c4fee_level0_col2\" class=\"col_heading level0 col2\" >A2</th>\n",
       "      <th id=\"T_c4fee_level0_col3\" class=\"col_heading level0 col3\" >Доля группы A1</th>\n",
       "      <th id=\"T_c4fee_level0_col4\" class=\"col_heading level0 col4\" >Доля группы A2</th>\n",
       "    </tr>\n",
       "  </thead>\n",
       "  <tbody>\n",
       "    <tr>\n",
       "      <th id=\"T_c4fee_level0_row0\" class=\"row_heading level0 row0\" >0</th>\n",
       "      <td id=\"T_c4fee_row0_col0\" class=\"data row0 col0\" >Всего уникальных пользователей</td>\n",
       "      <td id=\"T_c4fee_row0_col1\" class=\"data row0 col1\" >2484</td>\n",
       "      <td id=\"T_c4fee_row0_col2\" class=\"data row0 col2\" >2513</td>\n",
       "      <td id=\"T_c4fee_row0_col3\" class=\"data row0 col3\" >49.700000</td>\n",
       "      <td id=\"T_c4fee_row0_col4\" class=\"data row0 col4\" >50.300000</td>\n",
       "    </tr>\n",
       "    <tr>\n",
       "      <th id=\"T_c4fee_level0_row1\" class=\"row_heading level0 row1\" >1</th>\n",
       "      <td id=\"T_c4fee_row1_col0\" class=\"data row1 col0\" >Просмотрел главную страницу</td>\n",
       "      <td id=\"T_c4fee_row1_col1\" class=\"data row1 col1\" >2450</td>\n",
       "      <td id=\"T_c4fee_row1_col2\" class=\"data row1 col2\" >2476</td>\n",
       "      <td id=\"T_c4fee_row1_col3\" class=\"data row1 col3\" >49.700000</td>\n",
       "      <td id=\"T_c4fee_row1_col4\" class=\"data row1 col4\" >50.300000</td>\n",
       "    </tr>\n",
       "    <tr>\n",
       "      <th id=\"T_c4fee_level0_row2\" class=\"row_heading level0 row2\" >2</th>\n",
       "      <td id=\"T_c4fee_row2_col0\" class=\"data row2 col0\" >Перешел на страницу Каталог</td>\n",
       "      <td id=\"T_c4fee_row2_col1\" class=\"data row2 col1\" >1542</td>\n",
       "      <td id=\"T_c4fee_row2_col2\" class=\"data row2 col2\" >1520</td>\n",
       "      <td id=\"T_c4fee_row2_col3\" class=\"data row2 col3\" >50.400000</td>\n",
       "      <td id=\"T_c4fee_row2_col4\" class=\"data row2 col4\" >49.600000</td>\n",
       "    </tr>\n",
       "    <tr>\n",
       "      <th id=\"T_c4fee_level0_row3\" class=\"row_heading level0 row3\" >3</th>\n",
       "      <td id=\"T_c4fee_row3_col0\" class=\"data row3 col0\" >Перешел на страницу Корзина</td>\n",
       "      <td id=\"T_c4fee_row3_col1\" class=\"data row3 col1\" >1266</td>\n",
       "      <td id=\"T_c4fee_row3_col2\" class=\"data row3 col2\" >1238</td>\n",
       "      <td id=\"T_c4fee_row3_col3\" class=\"data row3 col3\" >50.600000</td>\n",
       "      <td id=\"T_c4fee_row3_col4\" class=\"data row3 col4\" >49.400000</td>\n",
       "    </tr>\n",
       "    <tr>\n",
       "      <th id=\"T_c4fee_level0_row4\" class=\"row_heading level0 row4\" >4</th>\n",
       "      <td id=\"T_c4fee_row4_col0\" class=\"data row4 col0\" >Перешел на страницу Успешная оплата</td>\n",
       "      <td id=\"T_c4fee_row4_col1\" class=\"data row4 col1\" >1200</td>\n",
       "      <td id=\"T_c4fee_row4_col2\" class=\"data row4 col2\" >1158</td>\n",
       "      <td id=\"T_c4fee_row4_col3\" class=\"data row4 col3\" >50.900000</td>\n",
       "      <td id=\"T_c4fee_row4_col4\" class=\"data row4 col4\" >49.100000</td>\n",
       "    </tr>\n",
       "    <tr>\n",
       "      <th id=\"T_c4fee_level0_row5\" class=\"row_heading level0 row5\" >5</th>\n",
       "      <td id=\"T_c4fee_row5_col0\" class=\"data row5 col0\" >Посмотрел страницу Руководство</td>\n",
       "      <td id=\"T_c4fee_row5_col1\" class=\"data row5 col1\" >278</td>\n",
       "      <td id=\"T_c4fee_row5_col2\" class=\"data row5 col2\" >283</td>\n",
       "      <td id=\"T_c4fee_row5_col3\" class=\"data row5 col3\" >49.600000</td>\n",
       "      <td id=\"T_c4fee_row5_col4\" class=\"data row5 col4\" >50.400000</td>\n",
       "    </tr>\n",
       "  </tbody>\n",
       "</table>\n"
      ],
      "text/plain": [
       "<pandas.io.formats.style.Styler at 0x246449a63d0>"
      ]
     },
     "execution_count": 44,
     "metadata": {},
     "output_type": "execute_result"
    }
   ],
   "source": [
    "data_AA = data_aug.query('group == [\"A1\", \"A2\"]').pivot_table(columns='group', values='user_id', aggfunc='nunique')\n",
    "data_AA = data_AA.rename(index={'user_id': 'Всего уникальных пользователей'})\n",
    "\n",
    "data_A1_A2 = data_aug.query('group == [\"A1\", \"A2\"]')\\\n",
    "                     .pivot_table(index='event_type', columns='group', values='user_id', aggfunc='nunique')\n",
    "data_A1_A2 = pd.concat([data_A1_A2, data_AA], axis=0)\n",
    "\n",
    "data_A1_A2['Доля группы A1'] = ((data_A1_A2['A1'] / (data_A1_A2['A1'] + data_A1_A2['A2'])) * 100).round(1)\n",
    "data_A1_A2['Доля группы A2'] = ((data_A1_A2['A2'] / (data_A1_A2['A1'] + data_A1_A2['A2'])) * 100).round(1)\n",
    "\n",
    "data_A1_A2 = data_A1_A2.sort_values(by='A1', ascending=False)\n",
    "data_A1_A2 = data_A1_A2.reset_index()\n",
    "data_A1_A2.style.background_gradient(subset=['A1', 'A2'], axis=0) "
   ]
  },
  {
   "cell_type": "markdown",
   "id": "8cab5c9d-37b7-4c6b-9659-23d0dc4c2e32",
   "metadata": {},
   "source": [
    "<div style=\"border:solid green 2px; padding: 20px\">\n",
    "\n",
    "Самое популярное событие: 'Просмотрел главную страницу'.\n",
    "\n",
    "Ниже проверим статистически значимые различия между данными выборками.\n",
    "\n",
    "</div>"
   ]
  },
  {
   "cell_type": "markdown",
   "id": "aff4be05-e0e1-4889-a26b-ab715a2da31e",
   "metadata": {},
   "source": [
    "### Проверка гипотезы о равенстве долей в контрольных группах"
   ]
  },
  {
   "cell_type": "markdown",
   "id": "e6dfedc1-9262-4603-a843-07a3f779ea0b",
   "metadata": {},
   "source": [
    "<div style=\"border:solid black 2px; padding: 20px\">\n",
    "    \n",
    "Есть 2 контрольные группы для А/А-эксперимента. Проверим, находят ли статистические критерии разницу между данными выборками.\n",
    "    \n",
    "Сформулируем гипотезы:\n",
    "\n",
    "* Нулевая: доли двух контрольных групп равны.\n",
    "* Альтернативная: доли двух контрольных групп не равны.\n",
    "    \n",
    "Проверим гипотезы с помощью Z-теста.\n",
    "\n",
    "</div>"
   ]
  },
  {
   "cell_type": "code",
   "execution_count": 45,
   "id": "a4f44bbd-6979-4b53-8408-e2a985d390cd",
   "metadata": {},
   "outputs": [],
   "source": [
    "def hypotheses(successes, trials):\n",
    "\n",
    "    alpha = .05 # критический уровень статистической значимости\n",
    "\n",
    "    # пропорция успехов в первой группе:\n",
    "    p1 = successes[0]/trials[0]\n",
    "\n",
    "    # пропорция успехов во второй группе:\n",
    "    p2 = successes[1]/trials[1]\n",
    "\n",
    "    # пропорция успехов в комбинированном датасете:\n",
    "    p_combined = (successes[0] + successes[1]) / (trials[0] + trials[1])\n",
    "\n",
    "    # разница пропорций в датасетах\n",
    "    difference = p1 - p2 \n",
    "\n",
    "    # считаем статистику в ст.отклонениях стандартного нормального распределения\n",
    "    z_value = difference / mth.sqrt(p_combined * (1 - p_combined) * (1/trials[0] + 1/trials[1]))\n",
    "\n",
    "    # задаем стандартное нормальное распределение (среднее 0, ст.отклонение 1)\n",
    "    distr = st.norm(0, 1) \n",
    "\n",
    "    p_value = (1 - distr.cdf(abs(z_value))) * 2\n",
    " \n",
    "    print('p-значение: ', p_value.round(3))\n",
    "\n",
    "    if p_value < alpha:\n",
    "        print('Отвергаем нулевую гипотезу: между долями есть значимая разница')\n",
    "    else:\n",
    "        print('Не получилось отвергнуть нулевую гипотезу, нет оснований считать доли разными')\n",
    "\n",
    "    print('- -'*30)"
   ]
  },
  {
   "cell_type": "code",
   "execution_count": 46,
   "id": "7ebc9e4d-3e5e-4437-abd5-44a68186ff96",
   "metadata": {},
   "outputs": [
    {
     "name": "stdout",
     "output_type": "stream",
     "text": [
      "Пропорция: пользователи \"Просмотрел главную страницу\" ко всем уникальным пользователям группы\n",
      "p-значение:  0.757\n",
      "Не получилось отвергнуть нулевую гипотезу, нет оснований считать доли разными\n",
      "- -- -- -- -- -- -- -- -- -- -- -- -- -- -- -- -- -- -- -- -- -- -- -- -- -- -- -- -- -- -\n",
      "Пропорция: пользователи \"Перешел на страницу Каталог\" ко всем уникальным пользователям группы\n",
      "p-значение:  0.248\n",
      "Не получилось отвергнуть нулевую гипотезу, нет оснований считать доли разными\n",
      "- -- -- -- -- -- -- -- -- -- -- -- -- -- -- -- -- -- -- -- -- -- -- -- -- -- -- -- -- -- -\n",
      "Пропорция: пользователи \"Перешел на страницу Корзина\" ко всем уникальным пользователям группы\n",
      "p-значение:  0.229\n",
      "Не получилось отвергнуть нулевую гипотезу, нет оснований считать доли разными\n",
      "- -- -- -- -- -- -- -- -- -- -- -- -- -- -- -- -- -- -- -- -- -- -- -- -- -- -- -- -- -- -\n",
      "Пропорция: пользователи \"Перешел на страницу Успешная оплата\" ко всем уникальным пользователям группы\n",
      "p-значение:  0.115\n",
      "Не получилось отвергнуть нулевую гипотезу, нет оснований считать доли разными\n",
      "- -- -- -- -- -- -- -- -- -- -- -- -- -- -- -- -- -- -- -- -- -- -- -- -- -- -- -- -- -- -\n",
      "Пропорция: пользователи \"Посмотрел страницу Руководство\" ко всем уникальным пользователям группы\n",
      "p-значение:  0.938\n",
      "Не получилось отвергнуть нулевую гипотезу, нет оснований считать доли разными\n",
      "- -- -- -- -- -- -- -- -- -- -- -- -- -- -- -- -- -- -- -- -- -- -- -- -- -- -- -- -- -- -\n"
     ]
    }
   ],
   "source": [
    "total_A1_A2 = [data_A1_A2.loc[0,'A1'], data_A1_A2.loc[0,'A2']]\n",
    "main_A1_A2 = [data_A1_A2.loc[1,'A1'], data_A1_A2.loc[1,'A2']]\n",
    "offers_A1_A2 = [data_A1_A2.loc[2,'A1'], data_A1_A2.loc[2,'A2']]\n",
    "cart_A1_A2 = [data_A1_A2.loc[3,'A1'], data_A1_A2.loc[3,'A2']]\n",
    "payment_A1_A2 = [data_A1_A2.loc[4,'A1'], data_A1_A2.loc[4,'A2']]\n",
    "tutorial_A1_A2 =  [data_A1_A2.loc[5,'A1'], data_A1_A2.loc[5,'A2']]\n",
    "\n",
    "print('Пропорция: пользователи \"Просмотрел главную страницу\" ко всем уникальным пользователям группы')\n",
    "hypotheses(main_A1_A2, total_A1_A2)\n",
    "\n",
    "print('Пропорция: пользователи \"Перешел на страницу Каталог\" ко всем уникальным пользователям группы')\n",
    "hypotheses(offers_A1_A2, total_A1_A2)\n",
    "\n",
    "print('Пропорция: пользователи \"Перешел на страницу Корзина\" ко всем уникальным пользователям группы')\n",
    "hypotheses(cart_A1_A2, total_A1_A2)\n",
    "\n",
    "print('Пропорция: пользователи \"Перешел на страницу Успешная оплата\" ко всем уникальным пользователям группы')\n",
    "hypotheses(payment_A1_A2, total_A1_A2)\n",
    "\n",
    "print('Пропорция: пользователи \"Посмотрел страницу Руководство\" ко всем уникальным пользователям группы')\n",
    "hypotheses(tutorial_A1_A2, total_A1_A2)"
   ]
  },
  {
   "cell_type": "markdown",
   "id": "52a754bb-bd21-4917-80a7-37c73ab3186b",
   "metadata": {},
   "source": [
    "<div style=\"border:solid green 2px; padding: 20px\">\n",
    "\n",
    "P-value значительно больше 0.05 (по долям в каждом событии). Значит, причин отвергать нулевую гипотезу и считать, что есть различия в пропорциях, нет. \n",
    "\n",
    "Разбиение на группы работает корректно.\n",
    "\n",
    "</div>"
   ]
  },
  {
   "cell_type": "markdown",
   "id": "0480ba2f-3aea-4b28-90de-42c400ba0860",
   "metadata": {},
   "source": [
    "### Проверка гипотезы о равенстве долей по всем группам теста"
   ]
  },
  {
   "cell_type": "markdown",
   "id": "f8fb8cd2-4979-4070-ac8a-fe684f3546f7",
   "metadata": {},
   "source": [
    "<div style=\"border:solid black 2px; padding: 20px\">\n",
    "    \n",
    "Сверим пропорции с группой с измененным шрифтом. Сравним результаты с каждой из контрольных групп в отдельности по каждому событию. Сравним результаты с объединённой контрольной группой. \n",
    "    \n",
    "Сформулируем гипотезы:\n",
    "\n",
    "* Нулевая: доли двух групп равны.\n",
    "* Альтернативная: доли двух групп не равны.\n",
    "    \n",
    "Проверим гипотезы с помощью Z-теста.\n",
    "\n",
    "</div>"
   ]
  },
  {
   "cell_type": "code",
   "execution_count": 47,
   "id": "a29f00ac-1407-4cf4-b556-bce32041dab3",
   "metadata": {},
   "outputs": [
    {
     "data": {
      "text/html": [
       "<div>\n",
       "<style scoped>\n",
       "    .dataframe tbody tr th:only-of-type {\n",
       "        vertical-align: middle;\n",
       "    }\n",
       "\n",
       "    .dataframe tbody tr th {\n",
       "        vertical-align: top;\n",
       "    }\n",
       "\n",
       "    .dataframe thead th {\n",
       "        text-align: right;\n",
       "    }\n",
       "</style>\n",
       "<table border=\"1\" class=\"dataframe\">\n",
       "  <thead>\n",
       "    <tr style=\"text-align: right;\">\n",
       "      <th>group</th>\n",
       "      <th>A1</th>\n",
       "      <th>A2</th>\n",
       "      <th>B</th>\n",
       "      <th>AA_sum</th>\n",
       "    </tr>\n",
       "  </thead>\n",
       "  <tbody>\n",
       "    <tr>\n",
       "      <th>Всего уникальных пользователей</th>\n",
       "      <td>2484</td>\n",
       "      <td>2513</td>\n",
       "      <td>2537</td>\n",
       "      <td>4997</td>\n",
       "    </tr>\n",
       "  </tbody>\n",
       "</table>\n",
       "</div>"
      ],
      "text/plain": [
       "group                             A1    A2     B  AA_sum\n",
       "Всего уникальных пользователей  2484  2513  2537    4997"
      ]
     },
     "execution_count": 47,
     "metadata": {},
     "output_type": "execute_result"
    }
   ],
   "source": [
    "data_sum = data_aug.pivot_table(columns='group', values='user_id', aggfunc='nunique')\n",
    "data_sum['AA_sum'] = data_sum['A1'] + data_sum['A2']\n",
    "data_sum = data_sum.rename(index={'user_id': 'Всего уникальных пользователей'})\n",
    "data_sum"
   ]
  },
  {
   "cell_type": "code",
   "execution_count": 48,
   "id": "32ca1889-944e-4bc2-91b5-05a4bdda998c",
   "metadata": {},
   "outputs": [
    {
     "data": {
      "text/html": [
       "<style type=\"text/css\">\n",
       "#T_f6e80_row0_col1, #T_f6e80_row0_col2, #T_f6e80_row0_col3, #T_f6e80_row0_col4 {\n",
       "  background-color: #023858;\n",
       "  color: #f1f1f1;\n",
       "}\n",
       "#T_f6e80_row1_col1 {\n",
       "  background-color: #023b5d;\n",
       "  color: #f1f1f1;\n",
       "}\n",
       "#T_f6e80_row1_col2, #T_f6e80_row1_col3, #T_f6e80_row1_col4 {\n",
       "  background-color: #023c5f;\n",
       "  color: #f1f1f1;\n",
       "}\n",
       "#T_f6e80_row2_col1 {\n",
       "  background-color: #509ac6;\n",
       "  color: #f1f1f1;\n",
       "}\n",
       "#T_f6e80_row2_col2 {\n",
       "  background-color: #589ec8;\n",
       "  color: #f1f1f1;\n",
       "}\n",
       "#T_f6e80_row2_col3 {\n",
       "  background-color: #5a9ec9;\n",
       "  color: #f1f1f1;\n",
       "}\n",
       "#T_f6e80_row2_col4 {\n",
       "  background-color: #549cc7;\n",
       "  color: #f1f1f1;\n",
       "}\n",
       "#T_f6e80_row3_col1 {\n",
       "  background-color: #89b1d4;\n",
       "  color: #000000;\n",
       "}\n",
       "#T_f6e80_row3_col2 {\n",
       "  background-color: #91b5d6;\n",
       "  color: #000000;\n",
       "}\n",
       "#T_f6e80_row3_col3 {\n",
       "  background-color: #94b6d7;\n",
       "  color: #000000;\n",
       "}\n",
       "#T_f6e80_row3_col4 {\n",
       "  background-color: #8cb3d5;\n",
       "  color: #000000;\n",
       "}\n",
       "#T_f6e80_row4_col1 {\n",
       "  background-color: #96b6d7;\n",
       "  color: #000000;\n",
       "}\n",
       "#T_f6e80_row4_col2 {\n",
       "  background-color: #9fbad9;\n",
       "  color: #000000;\n",
       "}\n",
       "#T_f6e80_row4_col3 {\n",
       "  background-color: #9cb9d9;\n",
       "  color: #000000;\n",
       "}\n",
       "#T_f6e80_row4_col4 {\n",
       "  background-color: #9ab8d8;\n",
       "  color: #000000;\n",
       "}\n",
       "#T_f6e80_row5_col1, #T_f6e80_row5_col2, #T_f6e80_row5_col3, #T_f6e80_row5_col4 {\n",
       "  background-color: #fff7fb;\n",
       "  color: #000000;\n",
       "}\n",
       "</style>\n",
       "<table id=\"T_f6e80\">\n",
       "  <thead>\n",
       "    <tr>\n",
       "      <th class=\"index_name level0\" >group</th>\n",
       "      <th id=\"T_f6e80_level0_col0\" class=\"col_heading level0 col0\" >index</th>\n",
       "      <th id=\"T_f6e80_level0_col1\" class=\"col_heading level0 col1\" >A1</th>\n",
       "      <th id=\"T_f6e80_level0_col2\" class=\"col_heading level0 col2\" >A2</th>\n",
       "      <th id=\"T_f6e80_level0_col3\" class=\"col_heading level0 col3\" >B</th>\n",
       "      <th id=\"T_f6e80_level0_col4\" class=\"col_heading level0 col4\" >AA_sum</th>\n",
       "    </tr>\n",
       "  </thead>\n",
       "  <tbody>\n",
       "    <tr>\n",
       "      <th id=\"T_f6e80_level0_row0\" class=\"row_heading level0 row0\" >0</th>\n",
       "      <td id=\"T_f6e80_row0_col0\" class=\"data row0 col0\" >Всего уникальных пользователей</td>\n",
       "      <td id=\"T_f6e80_row0_col1\" class=\"data row0 col1\" >2484</td>\n",
       "      <td id=\"T_f6e80_row0_col2\" class=\"data row0 col2\" >2513</td>\n",
       "      <td id=\"T_f6e80_row0_col3\" class=\"data row0 col3\" >2537</td>\n",
       "      <td id=\"T_f6e80_row0_col4\" class=\"data row0 col4\" >4997</td>\n",
       "    </tr>\n",
       "    <tr>\n",
       "      <th id=\"T_f6e80_level0_row1\" class=\"row_heading level0 row1\" >1</th>\n",
       "      <td id=\"T_f6e80_row1_col0\" class=\"data row1 col0\" >Просмотрел главную страницу</td>\n",
       "      <td id=\"T_f6e80_row1_col1\" class=\"data row1 col1\" >2450</td>\n",
       "      <td id=\"T_f6e80_row1_col2\" class=\"data row1 col2\" >2476</td>\n",
       "      <td id=\"T_f6e80_row1_col3\" class=\"data row1 col3\" >2493</td>\n",
       "      <td id=\"T_f6e80_row1_col4\" class=\"data row1 col4\" >4926</td>\n",
       "    </tr>\n",
       "    <tr>\n",
       "      <th id=\"T_f6e80_level0_row2\" class=\"row_heading level0 row2\" >2</th>\n",
       "      <td id=\"T_f6e80_row2_col0\" class=\"data row2 col0\" >Перешел на страницу Каталог</td>\n",
       "      <td id=\"T_f6e80_row2_col1\" class=\"data row2 col1\" >1542</td>\n",
       "      <td id=\"T_f6e80_row2_col2\" class=\"data row2 col2\" >1520</td>\n",
       "      <td id=\"T_f6e80_row2_col3\" class=\"data row2 col3\" >1531</td>\n",
       "      <td id=\"T_f6e80_row2_col4\" class=\"data row2 col4\" >3062</td>\n",
       "    </tr>\n",
       "    <tr>\n",
       "      <th id=\"T_f6e80_level0_row3\" class=\"row_heading level0 row3\" >3</th>\n",
       "      <td id=\"T_f6e80_row3_col0\" class=\"data row3 col0\" >Перешел на страницу Корзина</td>\n",
       "      <td id=\"T_f6e80_row3_col1\" class=\"data row3 col1\" >1266</td>\n",
       "      <td id=\"T_f6e80_row3_col2\" class=\"data row3 col2\" >1238</td>\n",
       "      <td id=\"T_f6e80_row3_col3\" class=\"data row3 col3\" >1230</td>\n",
       "      <td id=\"T_f6e80_row3_col4\" class=\"data row3 col4\" >2504</td>\n",
       "    </tr>\n",
       "    <tr>\n",
       "      <th id=\"T_f6e80_level0_row4\" class=\"row_heading level0 row4\" >4</th>\n",
       "      <td id=\"T_f6e80_row4_col0\" class=\"data row4 col0\" >Перешел на страницу Успешная оплата</td>\n",
       "      <td id=\"T_f6e80_row4_col1\" class=\"data row4 col1\" >1200</td>\n",
       "      <td id=\"T_f6e80_row4_col2\" class=\"data row4 col2\" >1158</td>\n",
       "      <td id=\"T_f6e80_row4_col3\" class=\"data row4 col3\" >1181</td>\n",
       "      <td id=\"T_f6e80_row4_col4\" class=\"data row4 col4\" >2358</td>\n",
       "    </tr>\n",
       "    <tr>\n",
       "      <th id=\"T_f6e80_level0_row5\" class=\"row_heading level0 row5\" >5</th>\n",
       "      <td id=\"T_f6e80_row5_col0\" class=\"data row5 col0\" >Посмотрел страницу Руководство</td>\n",
       "      <td id=\"T_f6e80_row5_col1\" class=\"data row5 col1\" >278</td>\n",
       "      <td id=\"T_f6e80_row5_col2\" class=\"data row5 col2\" >283</td>\n",
       "      <td id=\"T_f6e80_row5_col3\" class=\"data row5 col3\" >279</td>\n",
       "      <td id=\"T_f6e80_row5_col4\" class=\"data row5 col4\" >561</td>\n",
       "    </tr>\n",
       "  </tbody>\n",
       "</table>\n"
      ],
      "text/plain": [
       "<pandas.io.formats.style.Styler at 0x24646167d50>"
      ]
     },
     "execution_count": 48,
     "metadata": {},
     "output_type": "execute_result"
    }
   ],
   "source": [
    "data_total = data_aug.pivot_table(index='event_type', columns='group', values='user_id', aggfunc='nunique')\n",
    "data_total['AA_sum'] = data_total['A1'] + data_total['A2']\n",
    "data_total = pd.concat([data_total, data_sum], axis=0)\n",
    "\n",
    "data_total = data_total.sort_values(by='AA_sum', ascending=False)\n",
    "data_total = data_total.reset_index()\n",
    "data_total.style.background_gradient(subset=['A1', 'A2', 'B', 'AA_sum'], axis=0)"
   ]
  },
  {
   "cell_type": "code",
   "execution_count": 49,
   "id": "f98e0924",
   "metadata": {},
   "outputs": [
    {
     "data": {
      "image/png": "[encoded data removed]"
     },
     "metadata": {},
     "output_type": "display_data"
    }
   ],
   "source": [
    "fig_group_event = go.Figure()\n",
    "\n",
    "labels_events_total = data_total.query('index !=\"Посмотрел страницу Руководство\"')['index'].tolist()\n",
    "\n",
    "values_A1 = data_total.query('index !=\"Посмотрел страницу Руководство\"')['A1'].tolist()\n",
    "values_A2 = data_total.query('index !=\"Посмотрел страницу Руководство\"')['A2'].tolist()\n",
    "values_B = data_total.query('index !=\"Посмотрел страницу Руководство\"')['B'].tolist()\n",
    "values_AA = data_total.query('index !=\"Посмотрел страницу Руководство\"')['AA_sum'].tolist()\n",
    "\n",
    "fig_group_event.add_trace(go.Funnel(\n",
    "    name = 'A1', y = labels_events_total, x = values_A1, textinfo = 'value+percent initial'))\n",
    "\n",
    "fig_group_event.add_trace(go.Funnel(\n",
    "    name = 'A2', orientation = 'h', y = labels_events_total, x = values_A2,\n",
    "    textposition = 'inside', textinfo = 'value+percent initial'))\n",
    "\n",
    "fig_group_event.add_trace(go.Funnel(\n",
    "    name = 'B', orientation = 'h', y = labels_events_total, x = values_B,\n",
    "    textposition = 'inside', textinfo = 'value+percent initial'))\n",
    "\n",
    "fig_group_event.add_trace(go.Funnel(\n",
    "    name = 'AA_sum', orientation = 'h', y = labels_events_total, x = values_AA,\n",
    "    textposition = 'inside', textinfo = 'value+percent initial'))\n",
    "\n",
    "fig_group_event.update_layout(title='Доля пользователей в рамках событий относительно общего числа пользователей',\n",
    "                              width=800, height=500)\n",
    "fig_group_event.show('png')"
   ]
  },
  {
   "cell_type": "code",
   "execution_count": 50,
   "id": "c65b8a3a-1c6f-424f-8556-07b9bf0a0ba9",
   "metadata": {},
   "outputs": [
    {
     "data": {
      "text/html": [
       "<div>\n",
       "<style scoped>\n",
       "    .dataframe tbody tr th:only-of-type {\n",
       "        vertical-align: middle;\n",
       "    }\n",
       "\n",
       "    .dataframe tbody tr th {\n",
       "        vertical-align: top;\n",
       "    }\n",
       "\n",
       "    .dataframe thead th {\n",
       "        text-align: right;\n",
       "    }\n",
       "</style>\n",
       "<table border=\"1\" class=\"dataframe\">\n",
       "  <thead>\n",
       "    <tr style=\"text-align: right;\">\n",
       "      <th></th>\n",
       "      <th>test_name</th>\n",
       "      <th>event_name</th>\n",
       "      <th>alpha_0.01</th>\n",
       "      <th>alpha_0.05</th>\n",
       "      <th>alpha_0.1</th>\n",
       "      <th>a_event</th>\n",
       "      <th>a_total</th>\n",
       "      <th>b_event</th>\n",
       "      <th>b_total</th>\n",
       "    </tr>\n",
       "  </thead>\n",
       "  <tbody>\n",
       "    <tr>\n",
       "      <th>test1</th>\n",
       "      <td>A1_B</td>\n",
       "      <td>main</td>\n",
       "      <td>0.01</td>\n",
       "      <td>0.05</td>\n",
       "      <td>0.1</td>\n",
       "      <td>2450</td>\n",
       "      <td>2484</td>\n",
       "      <td>2493</td>\n",
       "      <td>2537</td>\n",
       "    </tr>\n",
       "  </tbody>\n",
       "</table>\n",
       "</div>"
      ],
      "text/plain": [
       "      test_name event_name  alpha_0.01  alpha_0.05  alpha_0.1  a_event  \\\n",
       "test1      A1_B       main        0.01        0.05        0.1     2450   \n",
       "\n",
       "       a_total  b_event  b_total  \n",
       "test1     2484     2493     2537  "
      ]
     },
     "execution_count": 50,
     "metadata": {},
     "output_type": "execute_result"
    }
   ],
   "source": [
    "# собираем таблицу для проведения множественной проверки гипотез\n",
    "data_A1_B_1 = {'test_name':['A1_B', 'A1_B', 'A1_B', 'A1_B', 'A1_B'],\n",
    "        'event_name':['main', 'offers', 'cart', 'payment', 'tutorial'],\n",
    "        'alpha_0.01':[0.01, 0.01, 0.01, 0.01, 0.01],\n",
    "        'alpha_0.05':[0.05, 0.05, 0.05, 0.05, 0.05],\n",
    "        'alpha_0.1':[0.1, 0.1, 0.1, 0.1, 0.1],\n",
    "        'a_event':[data_total.loc[1,'A1'], data_total.loc[2,'A1'], data_total.loc[3,'A1'],\n",
    "                   data_total.loc[4,'A1'], data_total.loc[5,'A1']],\n",
    "        'a_total':[data_total.loc[0,'A1'], data_total.loc[0,'A1'], data_total.loc[0,'A1'],\n",
    "                   data_total.loc[0,'A1'], data_total.loc[0,'A1']],\n",
    "        'b_event':[data_total.loc[1,'B'], data_total.loc[2,'B'], data_total.loc[3,'B'],\n",
    "                   data_total.loc[4,'B'], data_total.loc[5,'B']],\n",
    "        'b_total':[data_total.loc[0,'B'], data_total.loc[0,'B'], data_total.loc[0,'B'],\n",
    "                   data_total.loc[0,'B'], data_total.loc[0,'B']]} \n",
    "df_A1_B = pd.DataFrame(data_A1_B_1, index =['test1', 'test2', 'test3', 'test4', 'test5']) \n",
    "df_A1_B.head(1)"
   ]
  },
  {
   "cell_type": "code",
   "execution_count": 51,
   "id": "73565726-386e-4ec7-bf6e-b107500a4af3",
   "metadata": {},
   "outputs": [
    {
     "data": {
      "text/html": [
       "<div>\n",
       "<style scoped>\n",
       "    .dataframe tbody tr th:only-of-type {\n",
       "        vertical-align: middle;\n",
       "    }\n",
       "\n",
       "    .dataframe tbody tr th {\n",
       "        vertical-align: top;\n",
       "    }\n",
       "\n",
       "    .dataframe thead th {\n",
       "        text-align: right;\n",
       "    }\n",
       "</style>\n",
       "<table border=\"1\" class=\"dataframe\">\n",
       "  <thead>\n",
       "    <tr style=\"text-align: right;\">\n",
       "      <th></th>\n",
       "      <th>test_name</th>\n",
       "      <th>event_name</th>\n",
       "      <th>alpha_0.01</th>\n",
       "      <th>alpha_0.05</th>\n",
       "      <th>alpha_0.1</th>\n",
       "      <th>a_event</th>\n",
       "      <th>a_total</th>\n",
       "      <th>b_event</th>\n",
       "      <th>b_total</th>\n",
       "    </tr>\n",
       "  </thead>\n",
       "  <tbody>\n",
       "    <tr>\n",
       "      <th>test6</th>\n",
       "      <td>A2_B</td>\n",
       "      <td>main</td>\n",
       "      <td>0.01</td>\n",
       "      <td>0.05</td>\n",
       "      <td>0.1</td>\n",
       "      <td>2476</td>\n",
       "      <td>2513</td>\n",
       "      <td>2493</td>\n",
       "      <td>2537</td>\n",
       "    </tr>\n",
       "  </tbody>\n",
       "</table>\n",
       "</div>"
      ],
      "text/plain": [
       "      test_name event_name  alpha_0.01  alpha_0.05  alpha_0.1  a_event  \\\n",
       "test6      A2_B       main        0.01        0.05        0.1     2476   \n",
       "\n",
       "       a_total  b_event  b_total  \n",
       "test6     2513     2493     2537  "
      ]
     },
     "execution_count": 51,
     "metadata": {},
     "output_type": "execute_result"
    }
   ],
   "source": [
    "# собираем таблицу для проведения множественной проверки гипотез\n",
    "data_A2_B_2 = {'test_name':['A2_B', 'A2_B', 'A2_B', 'A2_B', 'A2_B'],\n",
    "        'event_name':['main', 'offers', 'cart', 'payment', 'tutorial'],\n",
    "        'alpha_0.01':[0.01, 0.01, 0.01, 0.01, 0.01],\n",
    "        'alpha_0.05':[0.05, 0.05, 0.05, 0.05, 0.05],\n",
    "        'alpha_0.1':[0.1, 0.1, 0.1, 0.1, 0.1],\n",
    "        'a_event':[data_total.loc[1,'A2'], data_total.loc[2,'A2'], data_total.loc[3,'A2'],\n",
    "                   data_total.loc[4,'A2'], data_total.loc[5,'A2']],\n",
    "        'a_total':[data_total.loc[0,'A2'], data_total.loc[0,'A2'], data_total.loc[0,'A2'],\n",
    "                   data_total.loc[0,'A2'], data_total.loc[0,'A2']],\n",
    "        'b_event':[data_total.loc[1,'B'], data_total.loc[2,'B'], data_total.loc[3,'B'],\n",
    "                   data_total.loc[4,'B'], data_total.loc[5,'B']],\n",
    "        'b_total':[data_total.loc[0,'B'], data_total.loc[0,'B'], data_total.loc[0,'B'],\n",
    "                   data_total.loc[0,'B'], data_total.loc[0,'B']]} \n",
    "df_A2_B = pd.DataFrame(data_A2_B_2, index =['test6', 'test7', 'test8', 'test9', 'test10']) \n",
    "df_A2_B.head(1)"
   ]
  },
  {
   "cell_type": "code",
   "execution_count": 52,
   "id": "1b417341-7e67-42b9-9b9b-27f60a87c975",
   "metadata": {},
   "outputs": [
    {
     "data": {
      "text/html": [
       "<div>\n",
       "<style scoped>\n",
       "    .dataframe tbody tr th:only-of-type {\n",
       "        vertical-align: middle;\n",
       "    }\n",
       "\n",
       "    .dataframe tbody tr th {\n",
       "        vertical-align: top;\n",
       "    }\n",
       "\n",
       "    .dataframe thead th {\n",
       "        text-align: right;\n",
       "    }\n",
       "</style>\n",
       "<table border=\"1\" class=\"dataframe\">\n",
       "  <thead>\n",
       "    <tr style=\"text-align: right;\">\n",
       "      <th></th>\n",
       "      <th>test_name</th>\n",
       "      <th>event_name</th>\n",
       "      <th>alpha_0.01</th>\n",
       "      <th>alpha_0.05</th>\n",
       "      <th>alpha_0.1</th>\n",
       "      <th>a_event</th>\n",
       "      <th>a_total</th>\n",
       "      <th>b_event</th>\n",
       "      <th>b_total</th>\n",
       "    </tr>\n",
       "  </thead>\n",
       "  <tbody>\n",
       "    <tr>\n",
       "      <th>test11</th>\n",
       "      <td>AA_B</td>\n",
       "      <td>main</td>\n",
       "      <td>0.01</td>\n",
       "      <td>0.05</td>\n",
       "      <td>0.1</td>\n",
       "      <td>4926</td>\n",
       "      <td>4997</td>\n",
       "      <td>2493</td>\n",
       "      <td>2537</td>\n",
       "    </tr>\n",
       "  </tbody>\n",
       "</table>\n",
       "</div>"
      ],
      "text/plain": [
       "       test_name event_name  alpha_0.01  alpha_0.05  alpha_0.1  a_event  \\\n",
       "test11      AA_B       main        0.01        0.05        0.1     4926   \n",
       "\n",
       "        a_total  b_event  b_total  \n",
       "test11     4997     2493     2537  "
      ]
     },
     "execution_count": 52,
     "metadata": {},
     "output_type": "execute_result"
    }
   ],
   "source": [
    "# собираем таблицу для проведения множественной проверки гипотез\n",
    "data_AA_B_3 = {'test_name':['AA_B', 'AA_B', 'AA_B', 'AA_B', 'AA_B'],\n",
    "        'event_name':['main', 'offers', 'cart', 'payment', 'tutorial'],\n",
    "        'alpha_0.01':[0.01, 0.01, 0.01, 0.01, 0.01],\n",
    "        'alpha_0.05':[0.05, 0.05, 0.05, 0.05, 0.05],\n",
    "        'alpha_0.1':[0.1, 0.1, 0.1, 0.1, 0.1],\n",
    "        'a_event':[data_total.loc[1,'AA_sum'], data_total.loc[2,'AA_sum'],\n",
    "                   data_total.loc[3,'AA_sum'], data_total.loc[4,'AA_sum'], data_total.loc[5,'AA_sum']],\n",
    "        'a_total':[data_total.loc[0,'AA_sum'], data_total.loc[0,'AA_sum'],\n",
    "                   data_total.loc[0,'AA_sum'], data_total.loc[0,'AA_sum'], data_total.loc[0,'AA_sum']],\n",
    "        'b_event':[data_total.loc[1,'B'], data_total.loc[2,'B'], data_total.loc[3,'B'],\n",
    "                   data_total.loc[4,'B'], data_total.loc[5,'B']],\n",
    "        'b_total':[data_total.loc[0,'B'], data_total.loc[0,'B'], data_total.loc[0,'B'],\n",
    "                   data_total.loc[0,'B'], data_total.loc[0,'B']]} \n",
    "df_AA_B = pd.DataFrame(data_AA_B_3, index =['test11', 'test12', 'test13', 'test14', 'test15']) \n",
    "df_AA_B.head(1)"
   ]
  },
  {
   "cell_type": "code",
   "execution_count": 53,
   "id": "04535998-c773-4355-8169-44cb976b1558",
   "metadata": {},
   "outputs": [
    {
     "data": {
      "text/html": [
       "<div>\n",
       "<style scoped>\n",
       "    .dataframe tbody tr th:only-of-type {\n",
       "        vertical-align: middle;\n",
       "    }\n",
       "\n",
       "    .dataframe tbody tr th {\n",
       "        vertical-align: top;\n",
       "    }\n",
       "\n",
       "    .dataframe thead th {\n",
       "        text-align: right;\n",
       "    }\n",
       "</style>\n",
       "<table border=\"1\" class=\"dataframe\">\n",
       "  <thead>\n",
       "    <tr style=\"text-align: right;\">\n",
       "      <th></th>\n",
       "      <th>index</th>\n",
       "      <th>test_name</th>\n",
       "      <th>event_name</th>\n",
       "      <th>alpha_0.01</th>\n",
       "      <th>alpha_0.05</th>\n",
       "      <th>alpha_0.1</th>\n",
       "      <th>a_event</th>\n",
       "      <th>a_total</th>\n",
       "      <th>b_event</th>\n",
       "      <th>b_total</th>\n",
       "    </tr>\n",
       "  </thead>\n",
       "  <tbody>\n",
       "    <tr>\n",
       "      <th>0</th>\n",
       "      <td>test1</td>\n",
       "      <td>A1_B</td>\n",
       "      <td>main</td>\n",
       "      <td>0.01</td>\n",
       "      <td>0.05</td>\n",
       "      <td>0.1</td>\n",
       "      <td>2450</td>\n",
       "      <td>2484</td>\n",
       "      <td>2493</td>\n",
       "      <td>2537</td>\n",
       "    </tr>\n",
       "    <tr>\n",
       "      <th>1</th>\n",
       "      <td>test2</td>\n",
       "      <td>A1_B</td>\n",
       "      <td>offers</td>\n",
       "      <td>0.01</td>\n",
       "      <td>0.05</td>\n",
       "      <td>0.1</td>\n",
       "      <td>1542</td>\n",
       "      <td>2484</td>\n",
       "      <td>1531</td>\n",
       "      <td>2537</td>\n",
       "    </tr>\n",
       "    <tr>\n",
       "      <th>2</th>\n",
       "      <td>test3</td>\n",
       "      <td>A1_B</td>\n",
       "      <td>cart</td>\n",
       "      <td>0.01</td>\n",
       "      <td>0.05</td>\n",
       "      <td>0.1</td>\n",
       "      <td>1266</td>\n",
       "      <td>2484</td>\n",
       "      <td>1230</td>\n",
       "      <td>2537</td>\n",
       "    </tr>\n",
       "    <tr>\n",
       "      <th>3</th>\n",
       "      <td>test4</td>\n",
       "      <td>A1_B</td>\n",
       "      <td>payment</td>\n",
       "      <td>0.01</td>\n",
       "      <td>0.05</td>\n",
       "      <td>0.1</td>\n",
       "      <td>1200</td>\n",
       "      <td>2484</td>\n",
       "      <td>1181</td>\n",
       "      <td>2537</td>\n",
       "    </tr>\n",
       "    <tr>\n",
       "      <th>4</th>\n",
       "      <td>test5</td>\n",
       "      <td>A1_B</td>\n",
       "      <td>tutorial</td>\n",
       "      <td>0.01</td>\n",
       "      <td>0.05</td>\n",
       "      <td>0.1</td>\n",
       "      <td>278</td>\n",
       "      <td>2484</td>\n",
       "      <td>279</td>\n",
       "      <td>2537</td>\n",
       "    </tr>\n",
       "  </tbody>\n",
       "</table>\n",
       "</div>"
      ],
      "text/plain": [
       "   index test_name event_name  alpha_0.01  alpha_0.05  alpha_0.1  a_event  \\\n",
       "0  test1      A1_B       main        0.01        0.05        0.1     2450   \n",
       "1  test2      A1_B     offers        0.01        0.05        0.1     1542   \n",
       "2  test3      A1_B       cart        0.01        0.05        0.1     1266   \n",
       "3  test4      A1_B    payment        0.01        0.05        0.1     1200   \n",
       "4  test5      A1_B   tutorial        0.01        0.05        0.1      278   \n",
       "\n",
       "   a_total  b_event  b_total  \n",
       "0     2484     2493     2537  \n",
       "1     2484     1531     2537  \n",
       "2     2484     1230     2537  \n",
       "3     2484     1181     2537  \n",
       "4     2484      279     2537  "
      ]
     },
     "execution_count": 53,
     "metadata": {},
     "output_type": "execute_result"
    }
   ],
   "source": [
    "# собираем таблицу для проведения множественной проверки гипотез\n",
    "data_all_tests = pd.concat([df_A1_B, df_A2_B, df_AA_B], axis=0).reset_index()\n",
    "data_all_tests.head(5)"
   ]
  },
  {
   "cell_type": "code",
   "execution_count": 54,
   "id": "3b6b7156-86d8-40df-9d2a-f48eb16ba8d6",
   "metadata": {},
   "outputs": [
    {
     "data": {
      "text/html": [
       "<div>\n",
       "<style scoped>\n",
       "    .dataframe tbody tr th:only-of-type {\n",
       "        vertical-align: middle;\n",
       "    }\n",
       "\n",
       "    .dataframe tbody tr th {\n",
       "        vertical-align: top;\n",
       "    }\n",
       "\n",
       "    .dataframe thead th {\n",
       "        text-align: right;\n",
       "    }\n",
       "</style>\n",
       "<table border=\"1\" class=\"dataframe\">\n",
       "  <thead>\n",
       "    <tr style=\"text-align: right;\">\n",
       "      <th></th>\n",
       "      <th>index</th>\n",
       "      <th>test_name</th>\n",
       "      <th>event_name</th>\n",
       "      <th>p_value</th>\n",
       "      <th>alpha_0.01</th>\n",
       "      <th>result_alpha_0.01</th>\n",
       "      <th>alpha_0.05</th>\n",
       "      <th>result_alpha_0.05</th>\n",
       "      <th>alpha_0.1</th>\n",
       "      <th>result_alpha_0.1</th>\n",
       "    </tr>\n",
       "  </thead>\n",
       "  <tbody>\n",
       "    <tr>\n",
       "      <th>0</th>\n",
       "      <td>test1</td>\n",
       "      <td>A1_B</td>\n",
       "      <td>main</td>\n",
       "      <td>0.295</td>\n",
       "      <td>0.01</td>\n",
       "      <td>False</td>\n",
       "      <td>0.05</td>\n",
       "      <td>False</td>\n",
       "      <td>0.1</td>\n",
       "      <td>False</td>\n",
       "    </tr>\n",
       "    <tr>\n",
       "      <th>1</th>\n",
       "      <td>test2</td>\n",
       "      <td>A1_B</td>\n",
       "      <td>offers</td>\n",
       "      <td>0.208</td>\n",
       "      <td>0.01</td>\n",
       "      <td>False</td>\n",
       "      <td>0.05</td>\n",
       "      <td>False</td>\n",
       "      <td>0.1</td>\n",
       "      <td>False</td>\n",
       "    </tr>\n",
       "    <tr>\n",
       "      <th>2</th>\n",
       "      <td>test3</td>\n",
       "      <td>A1_B</td>\n",
       "      <td>cart</td>\n",
       "      <td>0.078</td>\n",
       "      <td>0.01</td>\n",
       "      <td>False</td>\n",
       "      <td>0.05</td>\n",
       "      <td>False</td>\n",
       "      <td>0.1</td>\n",
       "      <td>True</td>\n",
       "    </tr>\n",
       "    <tr>\n",
       "      <th>3</th>\n",
       "      <td>test4</td>\n",
       "      <td>A1_B</td>\n",
       "      <td>payment</td>\n",
       "      <td>0.212</td>\n",
       "      <td>0.01</td>\n",
       "      <td>False</td>\n",
       "      <td>0.05</td>\n",
       "      <td>False</td>\n",
       "      <td>0.1</td>\n",
       "      <td>False</td>\n",
       "    </tr>\n",
       "    <tr>\n",
       "      <th>4</th>\n",
       "      <td>test5</td>\n",
       "      <td>A1_B</td>\n",
       "      <td>tutorial</td>\n",
       "      <td>0.826</td>\n",
       "      <td>0.01</td>\n",
       "      <td>False</td>\n",
       "      <td>0.05</td>\n",
       "      <td>False</td>\n",
       "      <td>0.1</td>\n",
       "      <td>False</td>\n",
       "    </tr>\n",
       "    <tr>\n",
       "      <th>5</th>\n",
       "      <td>test6</td>\n",
       "      <td>A2_B</td>\n",
       "      <td>main</td>\n",
       "      <td>0.459</td>\n",
       "      <td>0.01</td>\n",
       "      <td>False</td>\n",
       "      <td>0.05</td>\n",
       "      <td>False</td>\n",
       "      <td>0.1</td>\n",
       "      <td>False</td>\n",
       "    </tr>\n",
       "    <tr>\n",
       "      <th>6</th>\n",
       "      <td>test7</td>\n",
       "      <td>A2_B</td>\n",
       "      <td>offers</td>\n",
       "      <td>0.920</td>\n",
       "      <td>0.01</td>\n",
       "      <td>False</td>\n",
       "      <td>0.05</td>\n",
       "      <td>False</td>\n",
       "      <td>0.1</td>\n",
       "      <td>False</td>\n",
       "    </tr>\n",
       "    <tr>\n",
       "      <th>7</th>\n",
       "      <td>test8</td>\n",
       "      <td>A2_B</td>\n",
       "      <td>cart</td>\n",
       "      <td>0.579</td>\n",
       "      <td>0.01</td>\n",
       "      <td>False</td>\n",
       "      <td>0.05</td>\n",
       "      <td>False</td>\n",
       "      <td>0.1</td>\n",
       "      <td>False</td>\n",
       "    </tr>\n",
       "    <tr>\n",
       "      <th>8</th>\n",
       "      <td>test9</td>\n",
       "      <td>A2_B</td>\n",
       "      <td>payment</td>\n",
       "      <td>0.737</td>\n",
       "      <td>0.01</td>\n",
       "      <td>False</td>\n",
       "      <td>0.05</td>\n",
       "      <td>False</td>\n",
       "      <td>0.1</td>\n",
       "      <td>False</td>\n",
       "    </tr>\n",
       "    <tr>\n",
       "      <th>9</th>\n",
       "      <td>test10</td>\n",
       "      <td>A2_B</td>\n",
       "      <td>tutorial</td>\n",
       "      <td>0.765</td>\n",
       "      <td>0.01</td>\n",
       "      <td>False</td>\n",
       "      <td>0.05</td>\n",
       "      <td>False</td>\n",
       "      <td>0.1</td>\n",
       "      <td>False</td>\n",
       "    </tr>\n",
       "    <tr>\n",
       "      <th>10</th>\n",
       "      <td>test11</td>\n",
       "      <td>AA_B</td>\n",
       "      <td>main</td>\n",
       "      <td>0.294</td>\n",
       "      <td>0.01</td>\n",
       "      <td>False</td>\n",
       "      <td>0.05</td>\n",
       "      <td>False</td>\n",
       "      <td>0.1</td>\n",
       "      <td>False</td>\n",
       "    </tr>\n",
       "    <tr>\n",
       "      <th>11</th>\n",
       "      <td>test12</td>\n",
       "      <td>AA_B</td>\n",
       "      <td>offers</td>\n",
       "      <td>0.434</td>\n",
       "      <td>0.01</td>\n",
       "      <td>False</td>\n",
       "      <td>0.05</td>\n",
       "      <td>False</td>\n",
       "      <td>0.1</td>\n",
       "      <td>False</td>\n",
       "    </tr>\n",
       "    <tr>\n",
       "      <th>12</th>\n",
       "      <td>test13</td>\n",
       "      <td>AA_B</td>\n",
       "      <td>cart</td>\n",
       "      <td>0.182</td>\n",
       "      <td>0.01</td>\n",
       "      <td>False</td>\n",
       "      <td>0.05</td>\n",
       "      <td>False</td>\n",
       "      <td>0.1</td>\n",
       "      <td>False</td>\n",
       "    </tr>\n",
       "    <tr>\n",
       "      <th>13</th>\n",
       "      <td>test14</td>\n",
       "      <td>AA_B</td>\n",
       "      <td>payment</td>\n",
       "      <td>0.600</td>\n",
       "      <td>0.01</td>\n",
       "      <td>False</td>\n",
       "      <td>0.05</td>\n",
       "      <td>False</td>\n",
       "      <td>0.1</td>\n",
       "      <td>False</td>\n",
       "    </tr>\n",
       "    <tr>\n",
       "      <th>14</th>\n",
       "      <td>test15</td>\n",
       "      <td>AA_B</td>\n",
       "      <td>tutorial</td>\n",
       "      <td>0.765</td>\n",
       "      <td>0.01</td>\n",
       "      <td>False</td>\n",
       "      <td>0.05</td>\n",
       "      <td>False</td>\n",
       "      <td>0.1</td>\n",
       "      <td>False</td>\n",
       "    </tr>\n",
       "  </tbody>\n",
       "</table>\n",
       "</div>"
      ],
      "text/plain": [
       "     index test_name event_name  p_value  alpha_0.01  result_alpha_0.01  \\\n",
       "0    test1      A1_B       main    0.295        0.01              False   \n",
       "1    test2      A1_B     offers    0.208        0.01              False   \n",
       "2    test3      A1_B       cart    0.078        0.01              False   \n",
       "3    test4      A1_B    payment    0.212        0.01              False   \n",
       "4    test5      A1_B   tutorial    0.826        0.01              False   \n",
       "5    test6      A2_B       main    0.459        0.01              False   \n",
       "6    test7      A2_B     offers    0.920        0.01              False   \n",
       "7    test8      A2_B       cart    0.579        0.01              False   \n",
       "8    test9      A2_B    payment    0.737        0.01              False   \n",
       "9   test10      A2_B   tutorial    0.765        0.01              False   \n",
       "10  test11      AA_B       main    0.294        0.01              False   \n",
       "11  test12      AA_B     offers    0.434        0.01              False   \n",
       "12  test13      AA_B       cart    0.182        0.01              False   \n",
       "13  test14      AA_B    payment    0.600        0.01              False   \n",
       "14  test15      AA_B   tutorial    0.765        0.01              False   \n",
       "\n",
       "    alpha_0.05  result_alpha_0.05  alpha_0.1  result_alpha_0.1  \n",
       "0         0.05              False        0.1             False  \n",
       "1         0.05              False        0.1             False  \n",
       "2         0.05              False        0.1              True  \n",
       "3         0.05              False        0.1             False  \n",
       "4         0.05              False        0.1             False  \n",
       "5         0.05              False        0.1             False  \n",
       "6         0.05              False        0.1             False  \n",
       "7         0.05              False        0.1             False  \n",
       "8         0.05              False        0.1             False  \n",
       "9         0.05              False        0.1             False  \n",
       "10        0.05              False        0.1             False  \n",
       "11        0.05              False        0.1             False  \n",
       "12        0.05              False        0.1             False  \n",
       "13        0.05              False        0.1             False  \n",
       "14        0.05              False        0.1             False  "
      ]
     },
     "execution_count": 54,
     "metadata": {},
     "output_type": "execute_result"
    }
   ],
   "source": [
    "# функция для расчёта p-value\n",
    "def get_p(row):\n",
    "    sample1 = row['a_event'] / row['a_total']\n",
    "    sample2 = row['b_event'] / row['b_total']\n",
    "    p_combined = (row['a_event'] + row['b_event']) / (row['a_total'] + row['b_total'])\n",
    "    difference = sample1 - sample2\n",
    "    z_value = difference / mth.sqrt(p_combined * (1 - p_combined) * (1/row['a_total'] + 1/row['b_total']))\n",
    "    distr = st.norm(0, 1)\n",
    "    p_value = (1 - distr.cdf(abs(z_value))) * 2\n",
    "    return p_value.round(3)\n",
    "\n",
    "# считаем p-value для каждого случая\n",
    "data_all_tests['p_value'] = data_all_tests.apply(get_p, axis=1)\n",
    "\n",
    "# столбец result будет содержать True, если p-value меньше alpha\n",
    "data_all_tests['result_alpha_0.01'] = data_all_tests['p_value'] < data_all_tests['alpha_0.01']\n",
    "data_all_tests['result_alpha_0.05'] = data_all_tests['p_value'] < data_all_tests['alpha_0.05']\n",
    "data_all_tests['result_alpha_0.1'] = data_all_tests['p_value'] < data_all_tests['alpha_0.1']\n",
    "data_all_tests[['index', 'test_name', 'event_name', 'p_value', 'alpha_0.01',\n",
    "                'result_alpha_0.01', 'alpha_0.05', 'result_alpha_0.05', 'alpha_0.1', 'result_alpha_0.1']]"
   ]
  },
  {
   "cell_type": "markdown",
   "id": "2fcddc7d-0118-4bef-b63d-59911bc6623b",
   "metadata": {},
   "source": [
    "<div style=\"border:solid green 2px; padding: 20px\">\n",
    "\n",
    "P-value значительно больше 0.05 (по пропорциям в каждом событии). Значит, причин отвергать нулевую гипотезу и считать, что есть различия в пропорциях, нет. \n",
    "\n",
    "Для примера добавили сравнение с уровнем значимости 0.1. Как мы видим при уровне значимости 0.1 в 10% случаев можно ошибочно отклонить нулевую гипотезу при условии, что она верна. \n",
    "\n",
    "</div>"
   ]
  },
  {
   "cell_type": "markdown",
   "id": "81ee65ca-97d2-4d66-9337-043965a0259e",
   "metadata": {},
   "source": [
    "### Уровень значимости, скорректированный методом Холма"
   ]
  },
  {
   "cell_type": "markdown",
   "id": "13540883-ceb1-4915-b7c7-81dfeb808439",
   "metadata": {},
   "source": [
    "<div style=\"border:solid black 2px; padding: 20px\">\n",
    "    \n",
    "Добавим расчет результатов тестирования, используя уровень значимости, скорректированный методом Холма (он позволяет скорректировать уровни значимости и при этом менее других методов снижает мощность тестов). \n",
    "\n",
    "Зададим уровень значимости 0.05.\n",
    "\n",
    "</div>"
   ]
  },
  {
   "cell_type": "code",
   "execution_count": 55,
   "id": "79f1ca62-b38f-4db2-a81b-198ed0dd6adf",
   "metadata": {},
   "outputs": [
    {
     "data": {
      "text/html": [
       "<div>\n",
       "<style scoped>\n",
       "    .dataframe tbody tr th:only-of-type {\n",
       "        vertical-align: middle;\n",
       "    }\n",
       "\n",
       "    .dataframe tbody tr th {\n",
       "        vertical-align: top;\n",
       "    }\n",
       "\n",
       "    .dataframe thead th {\n",
       "        text-align: right;\n",
       "    }\n",
       "</style>\n",
       "<table border=\"1\" class=\"dataframe\">\n",
       "  <thead>\n",
       "    <tr style=\"text-align: right;\">\n",
       "      <th></th>\n",
       "      <th>index</th>\n",
       "      <th>test_name</th>\n",
       "      <th>event_name</th>\n",
       "      <th>p_value</th>\n",
       "      <th>alpha_0.05</th>\n",
       "      <th>result_alpha_0.05</th>\n",
       "      <th>alpha_holm</th>\n",
       "      <th>test_result_corr</th>\n",
       "    </tr>\n",
       "  </thead>\n",
       "  <tbody>\n",
       "    <tr>\n",
       "      <th>0</th>\n",
       "      <td>test1</td>\n",
       "      <td>A1_B</td>\n",
       "      <td>main</td>\n",
       "      <td>0.295</td>\n",
       "      <td>0.05</td>\n",
       "      <td>False</td>\n",
       "      <td>0.003333</td>\n",
       "      <td>False</td>\n",
       "    </tr>\n",
       "    <tr>\n",
       "      <th>1</th>\n",
       "      <td>test2</td>\n",
       "      <td>A1_B</td>\n",
       "      <td>offers</td>\n",
       "      <td>0.208</td>\n",
       "      <td>0.05</td>\n",
       "      <td>False</td>\n",
       "      <td>0.003571</td>\n",
       "      <td>False</td>\n",
       "    </tr>\n",
       "    <tr>\n",
       "      <th>2</th>\n",
       "      <td>test3</td>\n",
       "      <td>A1_B</td>\n",
       "      <td>cart</td>\n",
       "      <td>0.078</td>\n",
       "      <td>0.05</td>\n",
       "      <td>False</td>\n",
       "      <td>0.003846</td>\n",
       "      <td>False</td>\n",
       "    </tr>\n",
       "    <tr>\n",
       "      <th>3</th>\n",
       "      <td>test4</td>\n",
       "      <td>A1_B</td>\n",
       "      <td>payment</td>\n",
       "      <td>0.212</td>\n",
       "      <td>0.05</td>\n",
       "      <td>False</td>\n",
       "      <td>0.004167</td>\n",
       "      <td>False</td>\n",
       "    </tr>\n",
       "    <tr>\n",
       "      <th>4</th>\n",
       "      <td>test5</td>\n",
       "      <td>A1_B</td>\n",
       "      <td>tutorial</td>\n",
       "      <td>0.826</td>\n",
       "      <td>0.05</td>\n",
       "      <td>False</td>\n",
       "      <td>0.004545</td>\n",
       "      <td>False</td>\n",
       "    </tr>\n",
       "    <tr>\n",
       "      <th>5</th>\n",
       "      <td>test6</td>\n",
       "      <td>A2_B</td>\n",
       "      <td>main</td>\n",
       "      <td>0.459</td>\n",
       "      <td>0.05</td>\n",
       "      <td>False</td>\n",
       "      <td>0.005000</td>\n",
       "      <td>False</td>\n",
       "    </tr>\n",
       "    <tr>\n",
       "      <th>6</th>\n",
       "      <td>test7</td>\n",
       "      <td>A2_B</td>\n",
       "      <td>offers</td>\n",
       "      <td>0.920</td>\n",
       "      <td>0.05</td>\n",
       "      <td>False</td>\n",
       "      <td>0.005556</td>\n",
       "      <td>False</td>\n",
       "    </tr>\n",
       "    <tr>\n",
       "      <th>7</th>\n",
       "      <td>test8</td>\n",
       "      <td>A2_B</td>\n",
       "      <td>cart</td>\n",
       "      <td>0.579</td>\n",
       "      <td>0.05</td>\n",
       "      <td>False</td>\n",
       "      <td>0.006250</td>\n",
       "      <td>False</td>\n",
       "    </tr>\n",
       "    <tr>\n",
       "      <th>8</th>\n",
       "      <td>test9</td>\n",
       "      <td>A2_B</td>\n",
       "      <td>payment</td>\n",
       "      <td>0.737</td>\n",
       "      <td>0.05</td>\n",
       "      <td>False</td>\n",
       "      <td>0.007143</td>\n",
       "      <td>False</td>\n",
       "    </tr>\n",
       "    <tr>\n",
       "      <th>9</th>\n",
       "      <td>test10</td>\n",
       "      <td>A2_B</td>\n",
       "      <td>tutorial</td>\n",
       "      <td>0.765</td>\n",
       "      <td>0.05</td>\n",
       "      <td>False</td>\n",
       "      <td>0.008333</td>\n",
       "      <td>False</td>\n",
       "    </tr>\n",
       "    <tr>\n",
       "      <th>10</th>\n",
       "      <td>test11</td>\n",
       "      <td>AA_B</td>\n",
       "      <td>main</td>\n",
       "      <td>0.294</td>\n",
       "      <td>0.05</td>\n",
       "      <td>False</td>\n",
       "      <td>0.010000</td>\n",
       "      <td>False</td>\n",
       "    </tr>\n",
       "    <tr>\n",
       "      <th>11</th>\n",
       "      <td>test12</td>\n",
       "      <td>AA_B</td>\n",
       "      <td>offers</td>\n",
       "      <td>0.434</td>\n",
       "      <td>0.05</td>\n",
       "      <td>False</td>\n",
       "      <td>0.012500</td>\n",
       "      <td>False</td>\n",
       "    </tr>\n",
       "    <tr>\n",
       "      <th>12</th>\n",
       "      <td>test13</td>\n",
       "      <td>AA_B</td>\n",
       "      <td>cart</td>\n",
       "      <td>0.182</td>\n",
       "      <td>0.05</td>\n",
       "      <td>False</td>\n",
       "      <td>0.016667</td>\n",
       "      <td>False</td>\n",
       "    </tr>\n",
       "    <tr>\n",
       "      <th>13</th>\n",
       "      <td>test14</td>\n",
       "      <td>AA_B</td>\n",
       "      <td>payment</td>\n",
       "      <td>0.600</td>\n",
       "      <td>0.05</td>\n",
       "      <td>False</td>\n",
       "      <td>0.025000</td>\n",
       "      <td>False</td>\n",
       "    </tr>\n",
       "    <tr>\n",
       "      <th>14</th>\n",
       "      <td>test15</td>\n",
       "      <td>AA_B</td>\n",
       "      <td>tutorial</td>\n",
       "      <td>0.765</td>\n",
       "      <td>0.05</td>\n",
       "      <td>False</td>\n",
       "      <td>0.050000</td>\n",
       "      <td>False</td>\n",
       "    </tr>\n",
       "  </tbody>\n",
       "</table>\n",
       "</div>"
      ],
      "text/plain": [
       "     index test_name event_name  p_value  alpha_0.05  result_alpha_0.05  \\\n",
       "0    test1      A1_B       main    0.295        0.05              False   \n",
       "1    test2      A1_B     offers    0.208        0.05              False   \n",
       "2    test3      A1_B       cart    0.078        0.05              False   \n",
       "3    test4      A1_B    payment    0.212        0.05              False   \n",
       "4    test5      A1_B   tutorial    0.826        0.05              False   \n",
       "5    test6      A2_B       main    0.459        0.05              False   \n",
       "6    test7      A2_B     offers    0.920        0.05              False   \n",
       "7    test8      A2_B       cart    0.579        0.05              False   \n",
       "8    test9      A2_B    payment    0.737        0.05              False   \n",
       "9   test10      A2_B   tutorial    0.765        0.05              False   \n",
       "10  test11      AA_B       main    0.294        0.05              False   \n",
       "11  test12      AA_B     offers    0.434        0.05              False   \n",
       "12  test13      AA_B       cart    0.182        0.05              False   \n",
       "13  test14      AA_B    payment    0.600        0.05              False   \n",
       "14  test15      AA_B   tutorial    0.765        0.05              False   \n",
       "\n",
       "    alpha_holm  test_result_corr  \n",
       "0     0.003333             False  \n",
       "1     0.003571             False  \n",
       "2     0.003846             False  \n",
       "3     0.004167             False  \n",
       "4     0.004545             False  \n",
       "5     0.005000             False  \n",
       "6     0.005556             False  \n",
       "7     0.006250             False  \n",
       "8     0.007143             False  \n",
       "9     0.008333             False  \n",
       "10    0.010000             False  \n",
       "11    0.012500             False  \n",
       "12    0.016667             False  \n",
       "13    0.025000             False  \n",
       "14    0.050000             False  "
      ]
     },
     "execution_count": 55,
     "metadata": {},
     "output_type": "execute_result"
    }
   ],
   "source": [
    "m = len(data_all_tests) # число тестов\n",
    "alpha = 0.05 # уровень значимости\n",
    "# цикл для расчёта коррекции уровня значимости\n",
    "result = []\n",
    "for i in range(m): # получаем номер текущего теста и считаем коррекцию \n",
    "    result += [alpha / (m - i)]\n",
    "\n",
    "data_all_tests['alpha_holm'] = pd.Series(result) # добавляем результат в столбец\n",
    "\n",
    "# сравним p-value со скорректированным уровнем значимости\n",
    "data_all_tests['test_result_corr'] = data_all_tests['p_value'] < data_all_tests['alpha_holm']\n",
    "data_all_tests[['index', 'test_name', 'event_name', 'p_value', 'alpha_0.05',\n",
    "                'result_alpha_0.05', 'alpha_holm', 'test_result_corr']]"
   ]
  },
  {
   "cell_type": "markdown",
   "id": "dfcb90a6-fef0-4ff6-a070-9a689b40b8cc",
   "metadata": {},
   "source": [
    "<div style=\"border:solid green 2px; padding: 20px\">\n",
    "\n",
    "Результаты тестов не изменились. Нет статистически значимых различий. Нет причин отвергать нулевую гипотезу.\n",
    "\n",
    "Вывод: изменение шрифтов во всем приложении никак не влияет на количество пользователей в приложении в разрезе всех событий. Соответственно, дополнительной выгоды мы из этого изменения не получим.\n",
    "\n",
    "</div>"
   ]
  },
  {
   "cell_type": "markdown",
   "id": "4d38ac6a-5e67-4a23-9238-f9f465e78ec0",
   "metadata": {},
   "source": [
    "### Вывод"
   ]
  },
  {
   "cell_type": "markdown",
   "id": "50a4113c-e0ae-4b3a-8210-83231496a465",
   "metadata": {},
   "source": [
    "<div style=\"border:solid blue 2px; padding: 20px\">\n",
    "\n",
    "**Количество пользователей по группам теста:**\n",
    "\n",
    "| event                                     |  А1      | А2       | В         |\n",
    "|:------------------------------------------|:--------:|:--------:| ---------:|\n",
    "|**Всего уникальных пользователей в группе**| **2484** | **2513** | **2537**  |\n",
    "|Просмотрел главную страницу                | 2450     | 2476     | 2493      |\n",
    "|Перешел на страницу Каталог                | 1542     | 1520     | 1531      |\n",
    "|Перешел на страницу Корзина                | 1266     | 1238     | 1230      |\n",
    "|Перешел на страницу Успешная оплата        | 1200     | 1158     | 1181      |\n",
    "|Посмотрел страницу Руководство             | 278      | 283      | 279       |\n",
    "\n",
    "Провели множественную проверку гипотезы о равенстве долей между группами теста.\n",
    "Нет статистически значимых различий. Нет причин отвергать нулевую гипотезу о равенстве.\n",
    "\n",
    "Вывод: изменение шрифтов во всем приложении никак не влияет на количество пользователей в приложении в разрезе всех событий. Соответственно, дополнительной выгоды мы из этого изменения не получим.\n",
    "\n",
    "</div>"
   ]
  },
  {
   "cell_type": "markdown",
   "id": "0376b1a8-3b2c-4075-9892-7e65d67f9462",
   "metadata": {},
   "source": [
    "[Начало_проекта](#Начало_проекта)"
   ]
  },
  {
   "cell_type": "markdown",
   "id": "8251a86f-db2e-44ca-9e76-aa124f61ca3a",
   "metadata": {},
   "source": [
    "<a id=\"итоги\"></a>"
   ]
  },
  {
   "cell_type": "markdown",
   "id": "2ee2cd58-44cf-441e-bea0-73ee068539a1",
   "metadata": {},
   "source": [
    "## Итоги исследования"
   ]
  },
  {
   "cell_type": "markdown",
   "id": "393e52f6-356d-4889-9883-975161463e1d",
   "metadata": {},
   "source": [
    "<div style=\"border:solid blue 2px; padding: 20px\">\n",
    "\n",
    "Провели исследовательский анализ на данных мобильного приложения стартапа по продажам продуктов питания.\n",
    "\n",
    "**Количество событий и пользователей в логе.**\n",
    "\n",
    "| store  | Количество уникальных событий| Всего событий| Количество уникальных пользователей| Количество событий на пользователя| \n",
    "|:-------|:----------------------------:|:------------:|:----------------------------------:|:---------------------------------:|\n",
    "|store   | 5                            |243713        | 7551                               | 32                                |\n",
    "\n",
    "\n",
    "| Количество событий на пользователя  | mean | median | min | max  | \n",
    "|:------------------------------------|:----:|:------:|:---:|:----:|\n",
    "|Количество событий на пользователя   | 32   |20      | 1   | 2307 |                          \n",
    "\n",
    "На гистограмме видим длинных хвост по количеству событий на пользователя.\n",
    "\n",
    "При срезе до 100 событий на пользователя, пик количества событий на пользователя в диапазоне 5-9 событий.\n",
    "\n",
    "---\n",
    "\n",
    "**Период отчета:** с 2019-07-25 по 2019-08-07 (14 дней):\n",
    "* Минимальная дата 2019-07-25\n",
    "* Максимальная дата 2019-08-07\n",
    "\n",
    "По графику видим не одинаково полные данные за весь период:\n",
    "* Июль 2826 событий (доля 1.2%).\n",
    "* **Август 240887 событий (доля 98.8%).**\n",
    "\n",
    "Технически в логи новых дней по некоторым пользователям могут «доезжать» события из прошлого — это может «перекашивать данные». \n",
    "\n",
    "На самом деле мы располагаем полными данные за 7 дней с 1 по 7 августа 2019 г.\n",
    "\n",
    "Таким образом, отбросим данные за июль.\n",
    "\n",
    "Отбросив данные за июль, потеряли только 17 уникальных пользователей из 7551.\n",
    "\n",
    "**Время.**\n",
    "\n",
    "Чаще всего пользователи заходят в приложение с 9:00 до 17:00.\n",
    "\n",
    "Самое популярное время в приложении 14:00 и 15:00.\n",
    "\n",
    "По за одну отчетную неделю меньше всего пользователей в среду. Данных за одну неделю недостаточно для того, чтобы говорить о тренде, будем иметь ввиду эту информацию для дальнейших исследований.\n",
    "\n",
    "---\n",
    "\n",
    "**События.**\n",
    "\n",
    "В файле присутствуют 5 событий:\n",
    "\n",
    "\n",
    "| Событие                           | Количество событий | Доля по частоте(%)| Доля пользователей, хоть раз совершивших событие (%)|\n",
    "|:----------------------------------|:------------------:|:-----------------:| ---------------------------------------------------:|\n",
    "|Просмотрел главную страницу        | 117328             |48.7               |  98.5                                               |\n",
    "|Перешел на страницу Каталог        | 46333              |19.2               |  61.0                                               |\n",
    "|Перешел на страницу Корзина        | 42303              |17.6               |  49.6                                               |\n",
    "|Перешел на страницу Успешная оплата| 33918              |14.1               |  47.0                                               |\n",
    "|Посмотрел страницу Руководство     | 1005               |0.4                |  11.1                                               |\n",
    "\n",
    "\n",
    "* Самое популярное событие 'Просмотрел главную страницу':\n",
    "    - Доля по частоте событий 48.7%.\n",
    "    - Доля по количеству пользователей 36.9%.\n",
    "    - Доля пользователей, хоть раз совершивших данное событие 98.5%. Предположение, почему в первом пункте не 100%: пользователь мог зайти по рекламной ссылке на конкретный товар, или получить ссылку на конкретный товар от знакомого.\n",
    "\n",
    "* Считаем, что все события происходят в порядке, который мы наблюдаем при сортировке частоты событий по убыванию:\n",
    "1. Просмотрел главную страницу\n",
    "2. Перешел на страницу Каталог\n",
    "3. Перешел на страницу Корзина\n",
    "4. Перешел на страницу Успешная оплата\n",
    "\n",
    "* Исключение - это событие 'Посмотрел страницу Руководство'. Данную страницу пользователь мог смотреть в любой последовательности после посещения главной страницы. Доля по частоте событий 0.4%. В связи с этим данное событие не будем учитывать при расчете воронки.\n",
    "\n",
    "---\n",
    "\n",
    "**Воронка событий:**\n",
    "\n",
    "| event                              |  value       | percent initial (%)| percent previous (%) |\n",
    "|:-----------------------------------|:------------:|:------------------:| --------------------:|\n",
    "|Просмотрел главную страницу         | 7419         | 100                | 100                  |\n",
    "|Перешел на страницу Каталог         | 4593         | 62                 | 62                   |\n",
    "|Перешел на страницу Корзина         | 3734         | 50                 | 81                   |\n",
    "|Перешел на страницу Успешная оплата | 3539         | 48                 | 95                   |\n",
    "\n",
    "\n",
    "* На шаге 'Перешел на страницу Каталог' теряем больше всего пользователей (percent previous 62%).\n",
    "\n",
    "* От первого события до оплаты доходит 48% пользователей.\n",
    "\n",
    "Количество шагов в событиях:\n",
    "* 111 пользователей миновали шаг 'Просмотрел главную страницу'.\n",
    "* У 110 пользователей из 3539, у которых оплата прошла успешно было только 3 шага. У остальных было сделано все 4 шага.\n",
    "\n",
    "---\n",
    "\n",
    "**Количество пользователей по группам теста:**\n",
    "\n",
    "| event                                     |  А1      | А2       | В         |\n",
    "|:------------------------------------------|:--------:|:--------:| ---------:|\n",
    "|**Всего уникальных пользователей в группе**| **2484** | **2513** | **2537**  |\n",
    "|Просмотрел главную страницу                | 2450     | 2476     | 2493      |\n",
    "|Перешел на страницу Каталог                | 1542     | 1520     | 1531      |\n",
    "|Перешел на страницу Корзина                | 1266     | 1238     | 1230      |\n",
    "|Перешел на страницу Успешная оплата        | 1200     | 1158     | 1181      |\n",
    "|Посмотрел страницу Руководство             | 278      | 283      | 279       |\n",
    "\n",
    "Провели множественную проверку гипотезы о равенстве долей между группами теста.\n",
    "Нет статистически значимых различий. Нет причин отвергать нулевую гипотезу о равенстве.\n",
    "\n",
    "**Вывод:** изменение шрифтов во всем приложении никак не влияет на количество пользователей в приложении в разрезе всех событий. Соответственно, дополнительной выгоды мы из этого изменения не получим.\n",
    "\n",
    "</div>"
   ]
  }
 ],
 "metadata": {
  "ExecuteTimeLog": [
   {
    "duration": 1177,
    "start_time": "2024-06-22T10:49:43.408Z"
   },
   {
    "duration": 175,
    "start_time": "2024-06-22T10:49:44.587Z"
   },
   {
    "duration": 5,
    "start_time": "2024-06-22T10:49:44.764Z"
   },
   {
    "duration": 157,
    "start_time": "2024-06-22T10:49:44.771Z"
   },
   {
    "duration": 7,
    "start_time": "2024-06-22T10:49:44.930Z"
   },
   {
    "duration": 86,
    "start_time": "2024-06-22T10:49:44.939Z"
   },
   {
    "duration": 60,
    "start_time": "2024-06-22T10:49:45.027Z"
   },
   {
    "duration": 27,
    "start_time": "2024-06-22T10:49:45.088Z"
   },
   {
    "duration": 40,
    "start_time": "2024-06-22T10:49:45.116Z"
   },
   {
    "duration": 125,
    "start_time": "2024-06-22T10:49:45.158Z"
   },
   {
    "duration": 5,
    "start_time": "2024-06-22T10:49:45.285Z"
   },
   {
    "duration": 2728,
    "start_time": "2024-06-22T10:49:45.291Z"
   },
   {
    "duration": 2792,
    "start_time": "2024-06-22T10:49:48.020Z"
   },
   {
    "duration": 11,
    "start_time": "2024-06-22T10:49:50.813Z"
   },
   {
    "duration": 97,
    "start_time": "2024-06-22T10:49:50.826Z"
   },
   {
    "duration": 7,
    "start_time": "2024-06-22T10:49:50.925Z"
   },
   {
    "duration": 22,
    "start_time": "2024-06-22T10:49:50.933Z"
   },
   {
    "duration": 83,
    "start_time": "2024-06-22T10:49:50.957Z"
   },
   {
    "duration": 32,
    "start_time": "2024-06-22T10:49:51.042Z"
   },
   {
    "duration": 7,
    "start_time": "2024-06-22T10:49:51.076Z"
   },
   {
    "duration": 10,
    "start_time": "2024-06-22T10:49:51.084Z"
   },
   {
    "duration": 522,
    "start_time": "2024-06-22T10:49:51.096Z"
   },
   {
    "duration": 52,
    "start_time": "2024-06-22T10:49:51.620Z"
   },
   {
    "duration": 39,
    "start_time": "2024-06-22T10:49:51.673Z"
   },
   {
    "duration": 143,
    "start_time": "2024-06-22T10:49:51.766Z"
   },
   {
    "duration": 75,
    "start_time": "2024-06-22T10:49:51.910Z"
   },
   {
    "duration": 79,
    "start_time": "2024-06-22T10:49:51.987Z"
   },
   {
    "duration": 15,
    "start_time": "2024-06-22T10:49:52.071Z"
   },
   {
    "duration": 43,
    "start_time": "2024-06-22T10:49:52.087Z"
   },
   {
    "duration": 76,
    "start_time": "2024-06-22T10:49:52.131Z"
   },
   {
    "duration": 26,
    "start_time": "2024-06-22T10:49:52.208Z"
   },
   {
    "duration": 40,
    "start_time": "2024-06-22T10:49:52.236Z"
   },
   {
    "duration": 98,
    "start_time": "2024-06-22T10:49:52.277Z"
   },
   {
    "duration": 112,
    "start_time": "2024-06-22T10:49:52.377Z"
   },
   {
    "duration": 96,
    "start_time": "2024-06-22T10:49:52.490Z"
   },
   {
    "duration": 103,
    "start_time": "2024-06-22T10:49:52.588Z"
   },
   {
    "duration": 42,
    "start_time": "2024-06-22T10:49:52.692Z"
   },
   {
    "duration": 72,
    "start_time": "2024-06-22T10:49:52.736Z"
   },
   {
    "duration": 105,
    "start_time": "2024-06-22T10:49:52.810Z"
   },
   {
    "duration": 64,
    "start_time": "2024-06-22T10:49:52.917Z"
   },
   {
    "duration": 66,
    "start_time": "2024-06-22T10:49:52.983Z"
   },
   {
    "duration": 15,
    "start_time": "2024-06-22T10:49:53.064Z"
   },
   {
    "duration": 129,
    "start_time": "2024-06-22T10:49:53.081Z"
   },
   {
    "duration": 111,
    "start_time": "2024-06-22T10:49:53.212Z"
   },
   {
    "duration": 7,
    "start_time": "2024-06-22T10:49:53.325Z"
   },
   {
    "duration": 10,
    "start_time": "2024-06-22T10:49:53.333Z"
   },
   {
    "duration": 160,
    "start_time": "2024-06-22T10:49:53.344Z"
   },
   {
    "duration": 11,
    "start_time": "2024-06-22T10:49:53.505Z"
   },
   {
    "duration": 68,
    "start_time": "2024-06-22T10:49:53.518Z"
   },
   {
    "duration": 61,
    "start_time": "2024-06-22T10:49:53.588Z"
   },
   {
    "duration": 108,
    "start_time": "2024-06-22T10:49:53.650Z"
   },
   {
    "duration": 18,
    "start_time": "2024-06-22T10:49:53.765Z"
   },
   {
    "duration": 15,
    "start_time": "2024-06-22T10:49:53.784Z"
   },
   {
    "duration": 48,
    "start_time": "2024-06-22T10:49:53.801Z"
   },
   {
    "duration": 27,
    "start_time": "2024-06-22T10:49:53.851Z"
   },
   {
    "duration": 43,
    "start_time": "2024-06-22T10:49:53.879Z"
   },
   {
    "duration": 21,
    "start_time": "2024-06-22T10:49:53.924Z"
   },
   {
    "duration": 1117,
    "start_time": "2024-06-22T11:52:01.890Z"
   },
   {
    "duration": 168,
    "start_time": "2024-06-22T11:52:03.008Z"
   },
   {
    "duration": 5,
    "start_time": "2024-06-22T11:52:03.177Z"
   },
   {
    "duration": 139,
    "start_time": "2024-06-22T11:52:03.183Z"
   },
   {
    "duration": 6,
    "start_time": "2024-06-22T11:52:03.325Z"
   },
   {
    "duration": 78,
    "start_time": "2024-06-22T11:52:03.333Z"
   },
   {
    "duration": 57,
    "start_time": "2024-06-22T11:52:03.413Z"
   },
   {
    "duration": 24,
    "start_time": "2024-06-22T11:52:03.471Z"
   },
   {
    "duration": 7,
    "start_time": "2024-06-22T11:52:03.496Z"
   },
   {
    "duration": 126,
    "start_time": "2024-06-22T11:52:03.504Z"
   },
   {
    "duration": 5,
    "start_time": "2024-06-22T11:52:03.632Z"
   },
   {
    "duration": 2715,
    "start_time": "2024-06-22T11:52:03.638Z"
   },
   {
    "duration": 2672,
    "start_time": "2024-06-22T11:52:06.355Z"
   },
   {
    "duration": 18,
    "start_time": "2024-06-22T11:52:09.031Z"
   },
   {
    "duration": 80,
    "start_time": "2024-06-22T11:52:09.051Z"
   },
   {
    "duration": 8,
    "start_time": "2024-06-22T11:52:09.133Z"
   },
   {
    "duration": 22,
    "start_time": "2024-06-22T11:52:09.143Z"
   },
   {
    "duration": 109,
    "start_time": "2024-06-22T11:52:09.166Z"
   },
   {
    "duration": 30,
    "start_time": "2024-06-22T11:52:09.276Z"
   },
   {
    "duration": 8,
    "start_time": "2024-06-22T11:52:09.308Z"
   },
   {
    "duration": 4,
    "start_time": "2024-06-22T11:52:09.318Z"
   },
   {
    "duration": 503,
    "start_time": "2024-06-22T11:52:09.323Z"
   },
   {
    "duration": 51,
    "start_time": "2024-06-22T11:52:09.828Z"
   },
   {
    "duration": 85,
    "start_time": "2024-06-22T11:52:09.880Z"
   },
   {
    "duration": 145,
    "start_time": "2024-06-22T11:52:09.966Z"
   },
   {
    "duration": 63,
    "start_time": "2024-06-22T11:52:10.113Z"
   },
   {
    "duration": 56,
    "start_time": "2024-06-22T11:52:10.177Z"
   },
   {
    "duration": 10,
    "start_time": "2024-06-22T11:52:10.234Z"
   },
   {
    "duration": 57,
    "start_time": "2024-06-22T11:52:10.246Z"
   },
   {
    "duration": 75,
    "start_time": "2024-06-22T11:52:10.304Z"
   },
   {
    "duration": 41,
    "start_time": "2024-06-22T11:52:10.380Z"
   },
   {
    "duration": 23,
    "start_time": "2024-06-22T11:52:10.423Z"
   },
   {
    "duration": 100,
    "start_time": "2024-06-22T11:52:10.448Z"
   },
   {
    "duration": 99,
    "start_time": "2024-06-22T11:52:10.550Z"
   },
   {
    "duration": 101,
    "start_time": "2024-06-22T11:52:10.651Z"
   },
   {
    "duration": 112,
    "start_time": "2024-06-22T11:52:10.754Z"
   },
   {
    "duration": 57,
    "start_time": "2024-06-22T11:52:10.867Z"
   },
   {
    "duration": 52,
    "start_time": "2024-06-22T11:52:10.926Z"
   },
   {
    "duration": 109,
    "start_time": "2024-06-22T11:52:10.979Z"
   },
   {
    "duration": 65,
    "start_time": "2024-06-22T11:52:11.089Z"
   },
   {
    "duration": 68,
    "start_time": "2024-06-22T11:52:11.158Z"
   },
   {
    "duration": 13,
    "start_time": "2024-06-22T11:52:11.228Z"
   },
   {
    "duration": 124,
    "start_time": "2024-06-22T11:52:11.242Z"
   },
   {
    "duration": 79,
    "start_time": "2024-06-22T11:52:11.367Z"
   },
   {
    "duration": 24,
    "start_time": "2024-06-22T11:52:11.447Z"
   },
   {
    "duration": 16,
    "start_time": "2024-06-22T11:52:11.472Z"
   },
   {
    "duration": 134,
    "start_time": "2024-06-22T11:52:11.490Z"
   },
   {
    "duration": 4,
    "start_time": "2024-06-22T11:52:11.626Z"
   },
   {
    "duration": 16,
    "start_time": "2024-06-22T11:52:11.631Z"
   },
   {
    "duration": 59,
    "start_time": "2024-06-22T11:52:11.649Z"
   },
   {
    "duration": 104,
    "start_time": "2024-06-22T11:52:11.710Z"
   },
   {
    "duration": 22,
    "start_time": "2024-06-22T11:52:11.816Z"
   },
   {
    "duration": 31,
    "start_time": "2024-06-22T11:52:11.839Z"
   },
   {
    "duration": 15,
    "start_time": "2024-06-22T11:52:11.871Z"
   },
   {
    "duration": 46,
    "start_time": "2024-06-22T11:52:11.888Z"
   },
   {
    "duration": 48,
    "start_time": "2024-06-22T11:52:11.936Z"
   },
   {
    "duration": 17,
    "start_time": "2024-06-22T11:52:11.986Z"
   },
   {
    "duration": 1488,
    "start_time": "2024-06-22T13:13:37.188Z"
   },
   {
    "duration": 823,
    "start_time": "2024-06-22T13:13:38.679Z"
   },
   {
    "duration": 5,
    "start_time": "2024-06-22T13:13:39.504Z"
   },
   {
    "duration": 162,
    "start_time": "2024-06-22T13:13:39.511Z"
   },
   {
    "duration": 18,
    "start_time": "2024-06-22T13:13:39.675Z"
   },
   {
    "duration": 77,
    "start_time": "2024-06-22T13:13:39.695Z"
   },
   {
    "duration": 80,
    "start_time": "2024-06-22T13:13:39.773Z"
   },
   {
    "duration": 40,
    "start_time": "2024-06-22T13:13:39.856Z"
   },
   {
    "duration": 8,
    "start_time": "2024-06-22T13:13:39.898Z"
   },
   {
    "duration": 142,
    "start_time": "2024-06-22T13:13:39.908Z"
   },
   {
    "duration": 5,
    "start_time": "2024-06-22T13:13:40.052Z"
   },
   {
    "duration": 2938,
    "start_time": "2024-06-22T13:13:40.059Z"
   },
   {
    "duration": 2941,
    "start_time": "2024-06-22T13:13:42.999Z"
   },
   {
    "duration": 12,
    "start_time": "2024-06-22T13:13:45.941Z"
   },
   {
    "duration": 81,
    "start_time": "2024-06-22T13:13:45.955Z"
   },
   {
    "duration": 8,
    "start_time": "2024-06-22T13:13:46.037Z"
   },
   {
    "duration": 9,
    "start_time": "2024-06-22T13:13:46.046Z"
   },
   {
    "duration": 114,
    "start_time": "2024-06-22T13:13:46.056Z"
   },
   {
    "duration": 38,
    "start_time": "2024-06-22T13:13:46.172Z"
   },
   {
    "duration": 8,
    "start_time": "2024-06-22T13:13:46.212Z"
   },
   {
    "duration": 4,
    "start_time": "2024-06-22T13:13:46.222Z"
   },
   {
    "duration": 475,
    "start_time": "2024-06-22T13:13:46.227Z"
   },
   {
    "duration": 28,
    "start_time": "2024-06-22T13:13:46.704Z"
   },
   {
    "duration": 84,
    "start_time": "2024-06-22T13:13:46.733Z"
   },
   {
    "duration": 163,
    "start_time": "2024-06-22T13:13:46.818Z"
   },
   {
    "duration": 70,
    "start_time": "2024-06-22T13:13:46.983Z"
   },
   {
    "duration": 82,
    "start_time": "2024-06-22T13:13:47.054Z"
   },
   {
    "duration": 13,
    "start_time": "2024-06-22T13:13:47.139Z"
   },
   {
    "duration": 57,
    "start_time": "2024-06-22T13:13:47.153Z"
   },
   {
    "duration": 65,
    "start_time": "2024-06-22T13:13:47.211Z"
   },
   {
    "duration": 43,
    "start_time": "2024-06-22T13:13:47.278Z"
   },
   {
    "duration": 25,
    "start_time": "2024-06-22T13:13:47.323Z"
   },
   {
    "duration": 127,
    "start_time": "2024-06-22T13:13:47.349Z"
   },
   {
    "duration": 104,
    "start_time": "2024-06-22T13:13:47.478Z"
   },
   {
    "duration": 108,
    "start_time": "2024-06-22T13:13:47.591Z"
   },
   {
    "duration": 121,
    "start_time": "2024-06-22T13:13:47.702Z"
   },
   {
    "duration": 49,
    "start_time": "2024-06-22T13:13:47.825Z"
   },
   {
    "duration": 46,
    "start_time": "2024-06-22T13:13:47.892Z"
   },
   {
    "duration": 140,
    "start_time": "2024-06-22T13:13:47.939Z"
   },
   {
    "duration": 73,
    "start_time": "2024-06-22T13:13:48.081Z"
   },
   {
    "duration": 91,
    "start_time": "2024-06-22T13:13:48.155Z"
   },
   {
    "duration": 17,
    "start_time": "2024-06-22T13:13:48.248Z"
   },
   {
    "duration": 141,
    "start_time": "2024-06-22T13:13:48.267Z"
   },
   {
    "duration": 116,
    "start_time": "2024-06-22T13:13:48.409Z"
   },
   {
    "duration": 9,
    "start_time": "2024-06-22T13:13:48.527Z"
   },
   {
    "duration": 14,
    "start_time": "2024-06-22T13:13:48.538Z"
   },
   {
    "duration": 189,
    "start_time": "2024-06-22T13:13:48.554Z"
   },
   {
    "duration": 5,
    "start_time": "2024-06-22T13:13:48.745Z"
   },
   {
    "duration": 28,
    "start_time": "2024-06-22T13:13:48.751Z"
   },
   {
    "duration": 77,
    "start_time": "2024-06-22T13:13:48.781Z"
   },
   {
    "duration": 100,
    "start_time": "2024-06-22T13:13:48.860Z"
   },
   {
    "duration": 18,
    "start_time": "2024-06-22T13:13:48.961Z"
   },
   {
    "duration": 28,
    "start_time": "2024-06-22T13:13:48.981Z"
   },
   {
    "duration": 20,
    "start_time": "2024-06-22T13:13:49.011Z"
   },
   {
    "duration": 19,
    "start_time": "2024-06-22T13:13:49.032Z"
   },
   {
    "duration": 57,
    "start_time": "2024-06-22T13:13:49.053Z"
   },
   {
    "duration": 17,
    "start_time": "2024-06-22T13:13:49.112Z"
   },
   {
    "duration": 55,
    "start_time": "2024-06-22T13:53:14.145Z"
   },
   {
    "duration": 47,
    "start_time": "2024-06-22T14:38:54.094Z"
   },
   {
    "duration": 17,
    "start_time": "2024-06-22T14:47:16.836Z"
   },
   {
    "duration": 15,
    "start_time": "2024-06-22T14:47:35.218Z"
   },
   {
    "duration": 16,
    "start_time": "2024-06-22T14:48:49.438Z"
   },
   {
    "duration": 12,
    "start_time": "2024-06-22T14:50:09.963Z"
   },
   {
    "duration": 14,
    "start_time": "2024-06-22T14:51:11.074Z"
   },
   {
    "duration": 15,
    "start_time": "2024-06-22T14:51:22.711Z"
   },
   {
    "duration": 14,
    "start_time": "2024-06-22T14:51:31.362Z"
   },
   {
    "duration": 16,
    "start_time": "2024-06-22T14:51:45.879Z"
   },
   {
    "duration": 14,
    "start_time": "2024-06-22T14:52:10.683Z"
   },
   {
    "duration": 13,
    "start_time": "2024-06-22T14:52:15.372Z"
   },
   {
    "duration": 14,
    "start_time": "2024-06-22T14:52:24.615Z"
   },
   {
    "duration": 15,
    "start_time": "2024-06-22T14:52:35.758Z"
   },
   {
    "duration": 1285,
    "start_time": "2024-06-22T15:01:30.550Z"
   },
   {
    "duration": 195,
    "start_time": "2024-06-22T15:01:31.837Z"
   },
   {
    "duration": 6,
    "start_time": "2024-06-22T15:01:32.033Z"
   },
   {
    "duration": 194,
    "start_time": "2024-06-22T15:01:32.041Z"
   },
   {
    "duration": 8,
    "start_time": "2024-06-22T15:01:32.236Z"
   },
   {
    "duration": 88,
    "start_time": "2024-06-22T15:01:32.245Z"
   },
   {
    "duration": 67,
    "start_time": "2024-06-22T15:01:32.335Z"
   },
   {
    "duration": 27,
    "start_time": "2024-06-22T15:01:32.403Z"
   },
   {
    "duration": 7,
    "start_time": "2024-06-22T15:01:32.432Z"
   },
   {
    "duration": 154,
    "start_time": "2024-06-22T15:01:32.441Z"
   },
   {
    "duration": 5,
    "start_time": "2024-06-22T15:01:32.596Z"
   },
   {
    "duration": 2860,
    "start_time": "2024-06-22T15:01:32.603Z"
   },
   {
    "duration": 2981,
    "start_time": "2024-06-22T15:01:35.465Z"
   },
   {
    "duration": 16,
    "start_time": "2024-06-22T15:01:38.448Z"
   },
   {
    "duration": 86,
    "start_time": "2024-06-22T15:01:38.465Z"
   },
   {
    "duration": 10,
    "start_time": "2024-06-22T15:01:38.553Z"
   },
   {
    "duration": 26,
    "start_time": "2024-06-22T15:01:38.565Z"
   },
   {
    "duration": 99,
    "start_time": "2024-06-22T15:01:38.593Z"
   },
   {
    "duration": 30,
    "start_time": "2024-06-22T15:01:38.694Z"
   },
   {
    "duration": 8,
    "start_time": "2024-06-22T15:01:38.725Z"
   },
   {
    "duration": 5,
    "start_time": "2024-06-22T15:01:38.734Z"
   },
   {
    "duration": 500,
    "start_time": "2024-06-22T15:01:38.740Z"
   },
   {
    "duration": 28,
    "start_time": "2024-06-22T15:01:39.242Z"
   },
   {
    "duration": 43,
    "start_time": "2024-06-22T15:01:39.292Z"
   },
   {
    "duration": 172,
    "start_time": "2024-06-22T15:01:39.337Z"
   },
   {
    "duration": 62,
    "start_time": "2024-06-22T15:01:39.511Z"
   },
   {
    "duration": 73,
    "start_time": "2024-06-22T15:01:39.575Z"
   },
   {
    "duration": 12,
    "start_time": "2024-06-22T15:01:39.652Z"
   },
   {
    "duration": 58,
    "start_time": "2024-06-22T15:01:39.665Z"
   },
   {
    "duration": 85,
    "start_time": "2024-06-22T15:01:39.725Z"
   },
   {
    "duration": 32,
    "start_time": "2024-06-22T15:01:39.812Z"
   },
   {
    "duration": 46,
    "start_time": "2024-06-22T15:01:39.845Z"
   },
   {
    "duration": 117,
    "start_time": "2024-06-22T15:01:39.893Z"
   },
   {
    "duration": 125,
    "start_time": "2024-06-22T15:01:40.012Z"
   },
   {
    "duration": 112,
    "start_time": "2024-06-22T15:01:40.139Z"
   },
   {
    "duration": 141,
    "start_time": "2024-06-22T15:01:40.253Z"
   },
   {
    "duration": 56,
    "start_time": "2024-06-22T15:01:40.395Z"
   },
   {
    "duration": 66,
    "start_time": "2024-06-22T15:01:40.452Z"
   },
   {
    "duration": 128,
    "start_time": "2024-06-22T15:01:40.519Z"
   },
   {
    "duration": 68,
    "start_time": "2024-06-22T15:01:40.648Z"
   },
   {
    "duration": 81,
    "start_time": "2024-06-22T15:01:40.718Z"
   },
   {
    "duration": 15,
    "start_time": "2024-06-22T15:01:40.801Z"
   },
   {
    "duration": 131,
    "start_time": "2024-06-22T15:01:40.818Z"
   },
   {
    "duration": 108,
    "start_time": "2024-06-22T15:01:40.950Z"
   },
   {
    "duration": 9,
    "start_time": "2024-06-22T15:01:41.059Z"
   },
   {
    "duration": 28,
    "start_time": "2024-06-22T15:01:41.069Z"
   },
   {
    "duration": 168,
    "start_time": "2024-06-22T15:01:41.099Z"
   },
   {
    "duration": 5,
    "start_time": "2024-06-22T15:01:41.269Z"
   },
   {
    "duration": 24,
    "start_time": "2024-06-22T15:01:41.276Z"
   },
   {
    "duration": 53,
    "start_time": "2024-06-22T15:01:41.302Z"
   },
   {
    "duration": 115,
    "start_time": "2024-06-22T15:01:41.357Z"
   },
   {
    "duration": 25,
    "start_time": "2024-06-22T15:01:41.474Z"
   },
   {
    "duration": 21,
    "start_time": "2024-06-22T15:01:41.501Z"
   },
   {
    "duration": 23,
    "start_time": "2024-06-22T15:01:41.525Z"
   },
   {
    "duration": 16,
    "start_time": "2024-06-22T15:01:41.550Z"
   },
   {
    "duration": 15,
    "start_time": "2024-06-22T15:01:41.591Z"
   },
   {
    "duration": 41,
    "start_time": "2024-06-22T15:01:41.610Z"
   },
   {
    "duration": 19,
    "start_time": "2024-06-22T15:01:41.652Z"
   },
   {
    "duration": 24,
    "start_time": "2024-06-22T15:07:58.708Z"
   },
   {
    "duration": 23,
    "start_time": "2024-06-22T15:08:09.917Z"
   },
   {
    "duration": 23,
    "start_time": "2024-06-22T15:09:42.973Z"
   },
   {
    "duration": 23,
    "start_time": "2024-06-22T15:09:53.455Z"
   },
   {
    "duration": 25,
    "start_time": "2024-06-22T15:10:01.090Z"
   },
   {
    "duration": 30,
    "start_time": "2024-06-22T15:18:37.708Z"
   },
   {
    "duration": 35,
    "start_time": "2024-06-22T15:18:54.306Z"
   },
   {
    "duration": 25,
    "start_time": "2024-06-22T15:19:11.437Z"
   },
   {
    "duration": 34,
    "start_time": "2024-06-22T15:19:52.724Z"
   },
   {
    "duration": 24,
    "start_time": "2024-06-22T15:20:37.517Z"
   },
   {
    "duration": 24,
    "start_time": "2024-06-22T15:20:48.233Z"
   },
   {
    "duration": 1335,
    "start_time": "2024-06-22T15:21:58.635Z"
   },
   {
    "duration": 211,
    "start_time": "2024-06-22T15:21:59.972Z"
   },
   {
    "duration": 5,
    "start_time": "2024-06-22T15:22:00.184Z"
   },
   {
    "duration": 335,
    "start_time": "2024-06-22T15:22:00.191Z"
   },
   {
    "duration": 9,
    "start_time": "2024-06-22T15:22:00.528Z"
   },
   {
    "duration": 163,
    "start_time": "2024-06-22T15:22:00.540Z"
   },
   {
    "duration": 72,
    "start_time": "2024-06-22T15:22:00.705Z"
   },
   {
    "duration": 125,
    "start_time": "2024-06-22T15:22:00.780Z"
   },
   {
    "duration": 80,
    "start_time": "2024-06-22T15:22:00.907Z"
   },
   {
    "duration": 154,
    "start_time": "2024-06-22T15:22:00.990Z"
   },
   {
    "duration": 7,
    "start_time": "2024-06-22T15:22:01.146Z"
   },
   {
    "duration": 3083,
    "start_time": "2024-06-22T15:22:01.155Z"
   },
   {
    "duration": 2991,
    "start_time": "2024-06-22T15:22:04.240Z"
   },
   {
    "duration": 12,
    "start_time": "2024-06-22T15:22:07.233Z"
   },
   {
    "duration": 89,
    "start_time": "2024-06-22T15:22:07.247Z"
   },
   {
    "duration": 9,
    "start_time": "2024-06-22T15:22:07.338Z"
   },
   {
    "duration": 13,
    "start_time": "2024-06-22T15:22:07.349Z"
   },
   {
    "duration": 113,
    "start_time": "2024-06-22T15:22:07.363Z"
   },
   {
    "duration": 46,
    "start_time": "2024-06-22T15:22:07.477Z"
   },
   {
    "duration": 8,
    "start_time": "2024-06-22T15:22:07.524Z"
   },
   {
    "duration": 4,
    "start_time": "2024-06-22T15:22:07.534Z"
   },
   {
    "duration": 495,
    "start_time": "2024-06-22T15:22:07.539Z"
   },
   {
    "duration": 59,
    "start_time": "2024-06-22T15:22:08.035Z"
   },
   {
    "duration": 99,
    "start_time": "2024-06-22T15:22:08.096Z"
   },
   {
    "duration": 129,
    "start_time": "2024-06-22T15:22:08.197Z"
   },
   {
    "duration": 73,
    "start_time": "2024-06-22T15:22:08.328Z"
   },
   {
    "duration": 62,
    "start_time": "2024-06-22T15:22:08.403Z"
   },
   {
    "duration": 27,
    "start_time": "2024-06-22T15:22:08.469Z"
   },
   {
    "duration": 40,
    "start_time": "2024-06-22T15:22:08.498Z"
   },
   {
    "duration": 85,
    "start_time": "2024-06-22T15:22:08.540Z"
   },
   {
    "duration": 29,
    "start_time": "2024-06-22T15:22:08.627Z"
   },
   {
    "duration": 37,
    "start_time": "2024-06-22T15:22:08.658Z"
   },
   {
    "duration": 116,
    "start_time": "2024-06-22T15:22:08.697Z"
   },
   {
    "duration": 108,
    "start_time": "2024-06-22T15:22:08.815Z"
   },
   {
    "duration": 122,
    "start_time": "2024-06-22T15:22:08.925Z"
   },
   {
    "duration": 114,
    "start_time": "2024-06-22T15:22:09.049Z"
   },
   {
    "duration": 64,
    "start_time": "2024-06-22T15:22:09.165Z"
   },
   {
    "duration": 61,
    "start_time": "2024-06-22T15:22:09.231Z"
   },
   {
    "duration": 133,
    "start_time": "2024-06-22T15:22:09.294Z"
   },
   {
    "duration": 70,
    "start_time": "2024-06-22T15:22:09.429Z"
   },
   {
    "duration": 73,
    "start_time": "2024-06-22T15:22:09.501Z"
   },
   {
    "duration": 27,
    "start_time": "2024-06-22T15:22:09.576Z"
   },
   {
    "duration": 129,
    "start_time": "2024-06-22T15:22:09.605Z"
   },
   {
    "duration": 120,
    "start_time": "2024-06-22T15:22:09.735Z"
   },
   {
    "duration": 10,
    "start_time": "2024-06-22T15:22:09.857Z"
   },
   {
    "duration": 27,
    "start_time": "2024-06-22T15:22:09.869Z"
   },
   {
    "duration": 161,
    "start_time": "2024-06-22T15:22:09.898Z"
   },
   {
    "duration": 5,
    "start_time": "2024-06-22T15:22:10.061Z"
   },
   {
    "duration": 32,
    "start_time": "2024-06-22T15:22:10.068Z"
   },
   {
    "duration": 65,
    "start_time": "2024-06-22T15:22:10.102Z"
   },
   {
    "duration": 118,
    "start_time": "2024-06-22T15:22:10.169Z"
   },
   {
    "duration": 26,
    "start_time": "2024-06-22T15:22:10.291Z"
   },
   {
    "duration": 20,
    "start_time": "2024-06-22T15:22:10.319Z"
   },
   {
    "duration": 16,
    "start_time": "2024-06-22T15:22:10.341Z"
   },
   {
    "duration": 46,
    "start_time": "2024-06-22T15:22:10.359Z"
   },
   {
    "duration": 26,
    "start_time": "2024-06-22T15:22:10.407Z"
   },
   {
    "duration": 62,
    "start_time": "2024-06-22T15:22:10.435Z"
   },
   {
    "duration": 26,
    "start_time": "2024-06-22T15:22:10.500Z"
   },
   {
    "duration": 1251,
    "start_time": "2024-06-23T09:08:50.640Z"
   },
   {
    "duration": 307,
    "start_time": "2024-06-23T09:08:51.893Z"
   },
   {
    "duration": 5,
    "start_time": "2024-06-23T09:08:52.202Z"
   },
   {
    "duration": 176,
    "start_time": "2024-06-23T09:08:52.209Z"
   },
   {
    "duration": 8,
    "start_time": "2024-06-23T09:08:52.387Z"
   },
   {
    "duration": 92,
    "start_time": "2024-06-23T09:08:52.396Z"
   },
   {
    "duration": 52,
    "start_time": "2024-06-23T09:08:52.490Z"
   },
   {
    "duration": 32,
    "start_time": "2024-06-23T09:08:52.544Z"
   },
   {
    "duration": 16,
    "start_time": "2024-06-23T09:08:52.578Z"
   },
   {
    "duration": 133,
    "start_time": "2024-06-23T09:08:52.595Z"
   },
   {
    "duration": 5,
    "start_time": "2024-06-23T09:08:52.729Z"
   },
   {
    "duration": 2822,
    "start_time": "2024-06-23T09:08:52.735Z"
   },
   {
    "duration": 2981,
    "start_time": "2024-06-23T09:08:55.561Z"
   },
   {
    "duration": 17,
    "start_time": "2024-06-23T09:08:58.545Z"
   },
   {
    "duration": 90,
    "start_time": "2024-06-23T09:08:58.563Z"
   },
   {
    "duration": 11,
    "start_time": "2024-06-23T09:08:58.655Z"
   },
   {
    "duration": 24,
    "start_time": "2024-06-23T09:08:58.668Z"
   },
   {
    "duration": 101,
    "start_time": "2024-06-23T09:08:58.694Z"
   },
   {
    "duration": 39,
    "start_time": "2024-06-23T09:08:58.797Z"
   },
   {
    "duration": 24,
    "start_time": "2024-06-23T09:08:58.838Z"
   },
   {
    "duration": 4,
    "start_time": "2024-06-23T09:08:58.865Z"
   },
   {
    "duration": 604,
    "start_time": "2024-06-23T09:08:58.871Z"
   },
   {
    "duration": 84,
    "start_time": "2024-06-23T09:08:59.477Z"
   },
   {
    "duration": 37,
    "start_time": "2024-06-23T09:08:59.563Z"
   },
   {
    "duration": 178,
    "start_time": "2024-06-23T09:08:59.602Z"
   },
   {
    "duration": 81,
    "start_time": "2024-06-23T09:08:59.782Z"
   },
   {
    "duration": 76,
    "start_time": "2024-06-23T09:08:59.865Z"
   },
   {
    "duration": 27,
    "start_time": "2024-06-23T09:08:59.943Z"
   },
   {
    "duration": 71,
    "start_time": "2024-06-23T09:08:59.972Z"
   },
   {
    "duration": 131,
    "start_time": "2024-06-23T09:09:00.045Z"
   },
   {
    "duration": 33,
    "start_time": "2024-06-23T09:09:00.178Z"
   },
   {
    "duration": 64,
    "start_time": "2024-06-23T09:09:00.214Z"
   },
   {
    "duration": 123,
    "start_time": "2024-06-23T09:09:00.279Z"
   },
   {
    "duration": 152,
    "start_time": "2024-06-23T09:09:00.404Z"
   },
   {
    "duration": 161,
    "start_time": "2024-06-23T09:09:00.561Z"
   },
   {
    "duration": 122,
    "start_time": "2024-06-23T09:09:00.724Z"
   },
   {
    "duration": 52,
    "start_time": "2024-06-23T09:09:00.848Z"
   },
   {
    "duration": 99,
    "start_time": "2024-06-23T09:09:00.902Z"
   },
   {
    "duration": 229,
    "start_time": "2024-06-23T09:09:01.003Z"
   },
   {
    "duration": 75,
    "start_time": "2024-06-23T09:09:01.233Z"
   },
   {
    "duration": 126,
    "start_time": "2024-06-23T09:09:01.313Z"
   },
   {
    "duration": 15,
    "start_time": "2024-06-23T09:09:01.441Z"
   },
   {
    "duration": 187,
    "start_time": "2024-06-23T09:09:01.460Z"
   },
   {
    "duration": 114,
    "start_time": "2024-06-23T09:09:01.649Z"
   },
   {
    "duration": 10,
    "start_time": "2024-06-23T09:09:01.766Z"
   },
   {
    "duration": 35,
    "start_time": "2024-06-23T09:09:01.778Z"
   },
   {
    "duration": 178,
    "start_time": "2024-06-23T09:09:01.815Z"
   },
   {
    "duration": 5,
    "start_time": "2024-06-23T09:09:01.995Z"
   },
   {
    "duration": 60,
    "start_time": "2024-06-23T09:09:02.002Z"
   },
   {
    "duration": 67,
    "start_time": "2024-06-23T09:09:02.064Z"
   },
   {
    "duration": 109,
    "start_time": "2024-06-23T09:09:02.133Z"
   },
   {
    "duration": 40,
    "start_time": "2024-06-23T09:09:02.245Z"
   },
   {
    "duration": 19,
    "start_time": "2024-06-23T09:09:02.288Z"
   },
   {
    "duration": 88,
    "start_time": "2024-06-23T09:09:02.310Z"
   },
   {
    "duration": 36,
    "start_time": "2024-06-23T09:09:02.399Z"
   },
   {
    "duration": 17,
    "start_time": "2024-06-23T09:09:02.436Z"
   },
   {
    "duration": 50,
    "start_time": "2024-06-23T09:09:02.455Z"
   },
   {
    "duration": 28,
    "start_time": "2024-06-23T09:09:02.507Z"
   },
   {
    "duration": 1327,
    "start_time": "2024-06-23T09:10:40.895Z"
   },
   {
    "duration": 189,
    "start_time": "2024-06-23T09:10:42.223Z"
   },
   {
    "duration": 5,
    "start_time": "2024-06-23T09:10:42.414Z"
   },
   {
    "duration": 167,
    "start_time": "2024-06-23T09:10:42.421Z"
   },
   {
    "duration": 7,
    "start_time": "2024-06-23T09:10:42.590Z"
   },
   {
    "duration": 89,
    "start_time": "2024-06-23T09:10:42.598Z"
   },
   {
    "duration": 56,
    "start_time": "2024-06-23T09:10:42.688Z"
   },
   {
    "duration": 39,
    "start_time": "2024-06-23T09:10:42.745Z"
   },
   {
    "duration": 10,
    "start_time": "2024-06-23T09:10:42.786Z"
   },
   {
    "duration": 144,
    "start_time": "2024-06-23T09:10:42.799Z"
   },
   {
    "duration": 6,
    "start_time": "2024-06-23T09:10:42.945Z"
   },
   {
    "duration": 2846,
    "start_time": "2024-06-23T09:10:42.960Z"
   },
   {
    "duration": 3119,
    "start_time": "2024-06-23T09:10:45.808Z"
   },
   {
    "duration": 13,
    "start_time": "2024-06-23T09:10:48.928Z"
   },
   {
    "duration": 113,
    "start_time": "2024-06-23T09:10:48.943Z"
   },
   {
    "duration": 8,
    "start_time": "2024-06-23T09:10:49.057Z"
   },
   {
    "duration": 12,
    "start_time": "2024-06-23T09:10:49.067Z"
   },
   {
    "duration": 103,
    "start_time": "2024-06-23T09:10:49.081Z"
   },
   {
    "duration": 29,
    "start_time": "2024-06-23T09:10:49.185Z"
   },
   {
    "duration": 8,
    "start_time": "2024-06-23T09:10:49.216Z"
   },
   {
    "duration": 11,
    "start_time": "2024-06-23T09:10:49.225Z"
   },
   {
    "duration": 605,
    "start_time": "2024-06-23T09:10:49.261Z"
   },
   {
    "duration": 29,
    "start_time": "2024-06-23T09:10:49.868Z"
   },
   {
    "duration": 86,
    "start_time": "2024-06-23T09:10:49.899Z"
   },
   {
    "duration": 200,
    "start_time": "2024-06-23T09:10:49.987Z"
   },
   {
    "duration": 80,
    "start_time": "2024-06-23T09:10:50.189Z"
   },
   {
    "duration": 61,
    "start_time": "2024-06-23T09:10:50.271Z"
   },
   {
    "duration": 32,
    "start_time": "2024-06-23T09:10:50.337Z"
   },
   {
    "duration": 102,
    "start_time": "2024-06-23T09:10:50.371Z"
   },
   {
    "duration": 68,
    "start_time": "2024-06-23T09:10:50.475Z"
   },
   {
    "duration": 32,
    "start_time": "2024-06-23T09:10:50.560Z"
   },
   {
    "duration": 27,
    "start_time": "2024-06-23T09:10:50.594Z"
   },
   {
    "duration": 128,
    "start_time": "2024-06-23T09:10:50.623Z"
   },
   {
    "duration": 99,
    "start_time": "2024-06-23T09:10:50.753Z"
   },
   {
    "duration": 119,
    "start_time": "2024-06-23T09:10:50.853Z"
   },
   {
    "duration": 120,
    "start_time": "2024-06-23T09:10:50.974Z"
   },
   {
    "duration": 50,
    "start_time": "2024-06-23T09:10:51.096Z"
   },
   {
    "duration": 58,
    "start_time": "2024-06-23T09:10:51.147Z"
   },
   {
    "duration": 134,
    "start_time": "2024-06-23T09:10:51.206Z"
   },
   {
    "duration": 68,
    "start_time": "2024-06-23T09:10:51.342Z"
   },
   {
    "duration": 82,
    "start_time": "2024-06-23T09:10:51.411Z"
   },
   {
    "duration": 15,
    "start_time": "2024-06-23T09:10:51.495Z"
   },
   {
    "duration": 130,
    "start_time": "2024-06-23T09:10:51.512Z"
   },
   {
    "duration": 117,
    "start_time": "2024-06-23T09:10:51.644Z"
   },
   {
    "duration": 10,
    "start_time": "2024-06-23T09:10:51.762Z"
   },
   {
    "duration": 24,
    "start_time": "2024-06-23T09:10:51.774Z"
   },
   {
    "duration": 179,
    "start_time": "2024-06-23T09:10:51.801Z"
   },
   {
    "duration": 7,
    "start_time": "2024-06-23T09:10:51.986Z"
   },
   {
    "duration": 41,
    "start_time": "2024-06-23T09:10:51.995Z"
   },
   {
    "duration": 59,
    "start_time": "2024-06-23T09:10:52.038Z"
   },
   {
    "duration": 117,
    "start_time": "2024-06-23T09:10:52.099Z"
   },
   {
    "duration": 24,
    "start_time": "2024-06-23T09:10:52.218Z"
   },
   {
    "duration": 28,
    "start_time": "2024-06-23T09:10:52.244Z"
   },
   {
    "duration": 23,
    "start_time": "2024-06-23T09:10:52.274Z"
   },
   {
    "duration": 90,
    "start_time": "2024-06-23T09:10:52.298Z"
   },
   {
    "duration": 36,
    "start_time": "2024-06-23T09:10:52.390Z"
   },
   {
    "duration": 48,
    "start_time": "2024-06-23T09:10:52.428Z"
   },
   {
    "duration": 19,
    "start_time": "2024-06-23T09:10:52.478Z"
   }
  ],
  "kernelspec": {
   "display_name": "Python 3 (ipykernel)",
   "language": "python",
   "name": "python3"
  },
  "language_info": {
   "codemirror_mode": {
    "name": "ipython",
    "version": 3
   },
   "file_extension": ".py",
   "mimetype": "text/x-python",
   "name": "python",
   "nbconvert_exporter": "python",
   "pygments_lexer": "ipython3",
   "version": "3.11.7"
  },
  "toc": {
   "base_numbering": 1,
   "nav_menu": {},
   "number_sections": true,
   "sideBar": true,
   "skip_h1_title": true,
   "title_cell": "Table of Contents",
   "title_sidebar": "Contents",
   "toc_cell": false,
   "toc_position": {
    "height": "calc(100% - 180px)",
    "left": "10px",
    "top": "150px",
    "width": "331.391px"
   },
   "toc_section_display": true,
   "toc_window_display": true
  }
 },
 "nbformat": 4,
 "nbformat_minor": 5
}
