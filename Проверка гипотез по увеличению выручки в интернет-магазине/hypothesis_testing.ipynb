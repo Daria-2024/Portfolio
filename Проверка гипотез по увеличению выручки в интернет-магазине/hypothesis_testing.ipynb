{
 "cells": [
  {
   "cell_type": "markdown",
   "id": "efa91395-7cad-421d-9c0f-6e101f10c018",
   "metadata": {},
   "source": [
    "# Исследование интернет-магазина. Проверка гипотез. Анализ A/B-теста"
   ]
  },
  {
   "cell_type": "markdown",
   "id": "15c00042-3dd9-4aed-a975-89ee1ad01550",
   "metadata": {},
   "source": [
    "<a id=\"Начало_проекта\"></a>"
   ]
  },
  {
   "cell_type": "markdown",
   "id": "d1bc7f65-bee9-442f-8068-f36fef1f30b7",
   "metadata": {},
   "source": [
    "<div style=\"border:solid black 2px; padding: 20px\">\n",
    "\n",
    "Проведем исследование на данных интернет-магазина.\n",
    "\n",
    "Вместе с отделом маркетинга подготовили список гипотез для увеличения выручки. \n",
    "\n",
    "**Цели исследования** \n",
    "* Приоритизировать гипотезы.\n",
    "* Проанализировать графики кумулятивных данных. \n",
    "* Запустить A/B-тест.\n",
    "* Проанализировать результаты A/B-теста.\n",
    "* Принять решение по результатам A/B-теста.\n",
    "\n",
    "**Ход исследования**\n",
    "\n",
    "Данные о поведении пользователей получили из файлов:\n",
    "* `/datasets/hypothesis.csv`\n",
    "* `/datasets/orders.csv`\n",
    "* `/datasets/visitors.csv`\n",
    "\n",
    "О качестве данных нам ничего не известно. Поэтому перед проверкой гипотез проведем обзор данных. \n",
    "\n",
    "Таким образом, исследование пройдёт в несколько этапов:\n",
    "1. [Загрузка и обзор данных](#загрузка)\n",
    "2. [Предобработка данных](#предобработка)\n",
    "3. [Приоритизация гипотез](#приоритизация)\n",
    "4. [Проверка пользователей в разрезе групп](#проверка)\n",
    "5. [Анализ A/B-теста](#анализ)\n",
    "7. [Итоги исследования](#итоги)\n",
    "\n",
    "**Описание данных**\n",
    "\n",
    "Файл *hypothesis.csv*:\n",
    "* Hypothesis — краткое описание гипотезы;\n",
    "* Reach — охват пользователей по 10-балльной шкале;\n",
    "* Impact — влияние на пользователей по 10-балльной шкале;\n",
    "* Confidence — уверенность в гипотезе по 10-балльной шкале;\n",
    "* Efforts — затраты ресурсов на проверку гипотезы по 10-балльной шкале. Чем больше значение Efforts, тем дороже проверка гипотезы.\n",
    "\n",
    "Файл *orders.csv*:\n",
    "* transactionId — идентификатор заказа;\n",
    "* visitorId — идентификатор пользователя, совершившего заказ;\n",
    "* date — дата, когда был совершён заказ;\n",
    "* revenue — выручка заказа;\n",
    "* group — группа A/B-теста, в которую попал заказ.\n",
    "\n",
    "Файл *visitors.csv*:\n",
    "* date — дата;\n",
    "* group — группа A/B-теста;\n",
    "* visitors — количество пользователей в указанную дату в указанной группе A/B-теста.\n",
    "\n",
    "</div>"
   ]
  },
  {
   "cell_type": "markdown",
   "id": "b171914c-3174-4f2d-a8d5-f7bcf715089f",
   "metadata": {},
   "source": [
    "[Начало_проекта](#Начало_проекта)"
   ]
  },
  {
   "cell_type": "markdown",
   "id": "c936380a-a700-497b-8a6c-4b783a509ef8",
   "metadata": {},
   "source": [
    "<a id=\"загрузка\"></a>"
   ]
  },
  {
   "cell_type": "markdown",
   "id": "6a6706a3-9b46-4cc1-a837-fc4ecf654f78",
   "metadata": {},
   "source": [
    "## Загрузка и обзор данных"
   ]
  },
  {
   "cell_type": "markdown",
   "id": "19b70690-1b91-401d-b164-8c04f08b9c3a",
   "metadata": {},
   "source": [
    "<div style=\"border:solid black 2px; padding: 20px\">\n",
    "\n",
    "### Импортируем библиотеки. Считываем данные из csv-файлов и сохраняем в переменные\n",
    "\n",
    "</div>"
   ]
  },
  {
   "cell_type": "code",
   "execution_count": 1,
   "id": "c934650d-5264-4f17-895b-645733345f80",
   "metadata": {},
   "outputs": [],
   "source": [
    "import pandas as pd\n",
    "import scipy.stats as stats\n",
    "import datetime as dt\n",
    "import numpy as np\n",
    "from matplotlib import pyplot as plt\n",
    "import math"
   ]
  },
  {
   "cell_type": "code",
   "execution_count": 2,
   "id": "4314ecee-a0b2-4630-8002-fd7d2a8a2978",
   "metadata": {},
   "outputs": [],
   "source": [
    "hypothesis = pd.read_csv('hypothesis.csv') \n",
    "orders = pd.read_csv('orders.csv') \n",
    "visitors = pd.read_csv('visitors.csv')"
   ]
  },
  {
   "cell_type": "markdown",
   "id": "8c846b49-8e59-46a3-902f-9fc4468deab7",
   "metadata": {},
   "source": [
    "### Получим общую информацию о таблицах"
   ]
  },
  {
   "cell_type": "code",
   "execution_count": 3,
   "id": "018e3728-df2b-43dc-b018-d4a41f44c34b",
   "metadata": {},
   "outputs": [],
   "source": [
    "def data_info(data):\n",
    "    print('-'*50)\n",
    "    print('Первые 5 строк таблицы')\n",
    "    print('-'*50)\n",
    "    display(data.head())\n",
    "    print('-'*50)\n",
    "    print('Общая информация о таблице')\n",
    "    print('-'*50)\n",
    "    data.info()\n",
    "    print('-'*50)\n",
    "    print('Основные статистические данные')\n",
    "    print('-'*50)\n",
    "    display(data.describe().T)\n",
    "    print('-'*50)\n",
    "    print('Подсчет пропусков')\n",
    "    print('-'*50)\n",
    "    display(data.isna().sum())\n",
    "    print('-'*50)\n",
    "    print('Проверка явных дубликатов')\n",
    "    print('-'*50)\n",
    "    print(data.duplicated().sum())"
   ]
  },
  {
   "cell_type": "code",
   "execution_count": 4,
   "id": "9f5646f6-db9a-4bbb-b3ce-6a80fd307856",
   "metadata": {},
   "outputs": [
    {
     "name": "stdout",
     "output_type": "stream",
     "text": [
      "--------------------------------------------------\n",
      "Первые 5 строк таблицы\n",
      "--------------------------------------------------\n"
     ]
    },
    {
     "data": {
      "text/html": [
       "<div>\n",
       "<style scoped>\n",
       "    .dataframe tbody tr th:only-of-type {\n",
       "        vertical-align: middle;\n",
       "    }\n",
       "\n",
       "    .dataframe tbody tr th {\n",
       "        vertical-align: top;\n",
       "    }\n",
       "\n",
       "    .dataframe thead th {\n",
       "        text-align: right;\n",
       "    }\n",
       "</style>\n",
       "<table border=\"1\" class=\"dataframe\">\n",
       "  <thead>\n",
       "    <tr style=\"text-align: right;\">\n",
       "      <th></th>\n",
       "      <th>Hypothesis</th>\n",
       "      <th>Reach</th>\n",
       "      <th>Impact</th>\n",
       "      <th>Confidence</th>\n",
       "      <th>Efforts</th>\n",
       "    </tr>\n",
       "  </thead>\n",
       "  <tbody>\n",
       "    <tr>\n",
       "      <th>0</th>\n",
       "      <td>Добавить два новых канала привлечения трафика,...</td>\n",
       "      <td>3</td>\n",
       "      <td>10</td>\n",
       "      <td>8</td>\n",
       "      <td>6</td>\n",
       "    </tr>\n",
       "    <tr>\n",
       "      <th>1</th>\n",
       "      <td>Запустить собственную службу доставки, что сок...</td>\n",
       "      <td>2</td>\n",
       "      <td>5</td>\n",
       "      <td>4</td>\n",
       "      <td>10</td>\n",
       "    </tr>\n",
       "    <tr>\n",
       "      <th>2</th>\n",
       "      <td>Добавить блоки рекомендаций товаров на сайт ин...</td>\n",
       "      <td>8</td>\n",
       "      <td>3</td>\n",
       "      <td>7</td>\n",
       "      <td>3</td>\n",
       "    </tr>\n",
       "    <tr>\n",
       "      <th>3</th>\n",
       "      <td>Изменить структура категорий, что увеличит кон...</td>\n",
       "      <td>8</td>\n",
       "      <td>3</td>\n",
       "      <td>3</td>\n",
       "      <td>8</td>\n",
       "    </tr>\n",
       "    <tr>\n",
       "      <th>4</th>\n",
       "      <td>Изменить цвет фона главной страницы, чтобы уве...</td>\n",
       "      <td>3</td>\n",
       "      <td>1</td>\n",
       "      <td>1</td>\n",
       "      <td>1</td>\n",
       "    </tr>\n",
       "  </tbody>\n",
       "</table>\n",
       "</div>"
      ],
      "text/plain": [
       "                                          Hypothesis  Reach  Impact  \\\n",
       "0  Добавить два новых канала привлечения трафика,...      3      10   \n",
       "1  Запустить собственную службу доставки, что сок...      2       5   \n",
       "2  Добавить блоки рекомендаций товаров на сайт ин...      8       3   \n",
       "3  Изменить структура категорий, что увеличит кон...      8       3   \n",
       "4  Изменить цвет фона главной страницы, чтобы уве...      3       1   \n",
       "\n",
       "   Confidence  Efforts  \n",
       "0           8        6  \n",
       "1           4       10  \n",
       "2           7        3  \n",
       "3           3        8  \n",
       "4           1        1  "
      ]
     },
     "metadata": {},
     "output_type": "display_data"
    },
    {
     "name": "stdout",
     "output_type": "stream",
     "text": [
      "--------------------------------------------------\n",
      "Общая информация о таблице\n",
      "--------------------------------------------------\n",
      "<class 'pandas.core.frame.DataFrame'>\n",
      "RangeIndex: 9 entries, 0 to 8\n",
      "Data columns (total 5 columns):\n",
      " #   Column      Non-Null Count  Dtype \n",
      "---  ------      --------------  ----- \n",
      " 0   Hypothesis  9 non-null      object\n",
      " 1   Reach       9 non-null      int64 \n",
      " 2   Impact      9 non-null      int64 \n",
      " 3   Confidence  9 non-null      int64 \n",
      " 4   Efforts     9 non-null      int64 \n",
      "dtypes: int64(4), object(1)\n",
      "memory usage: 492.0+ bytes\n",
      "--------------------------------------------------\n",
      "Основные статистические данные\n",
      "--------------------------------------------------\n"
     ]
    },
    {
     "data": {
      "text/html": [
       "<div>\n",
       "<style scoped>\n",
       "    .dataframe tbody tr th:only-of-type {\n",
       "        vertical-align: middle;\n",
       "    }\n",
       "\n",
       "    .dataframe tbody tr th {\n",
       "        vertical-align: top;\n",
       "    }\n",
       "\n",
       "    .dataframe thead th {\n",
       "        text-align: right;\n",
       "    }\n",
       "</style>\n",
       "<table border=\"1\" class=\"dataframe\">\n",
       "  <thead>\n",
       "    <tr style=\"text-align: right;\">\n",
       "      <th></th>\n",
       "      <th>count</th>\n",
       "      <th>mean</th>\n",
       "      <th>std</th>\n",
       "      <th>min</th>\n",
       "      <th>25%</th>\n",
       "      <th>50%</th>\n",
       "      <th>75%</th>\n",
       "      <th>max</th>\n",
       "    </tr>\n",
       "  </thead>\n",
       "  <tbody>\n",
       "    <tr>\n",
       "      <th>Reach</th>\n",
       "      <td>9.0</td>\n",
       "      <td>4.777778</td>\n",
       "      <td>3.153481</td>\n",
       "      <td>1.0</td>\n",
       "      <td>3.0</td>\n",
       "      <td>3.0</td>\n",
       "      <td>8.0</td>\n",
       "      <td>10.0</td>\n",
       "    </tr>\n",
       "    <tr>\n",
       "      <th>Impact</th>\n",
       "      <td>9.0</td>\n",
       "      <td>4.777778</td>\n",
       "      <td>3.192874</td>\n",
       "      <td>1.0</td>\n",
       "      <td>3.0</td>\n",
       "      <td>3.0</td>\n",
       "      <td>7.0</td>\n",
       "      <td>10.0</td>\n",
       "    </tr>\n",
       "    <tr>\n",
       "      <th>Confidence</th>\n",
       "      <td>9.0</td>\n",
       "      <td>5.555556</td>\n",
       "      <td>3.045944</td>\n",
       "      <td>1.0</td>\n",
       "      <td>3.0</td>\n",
       "      <td>7.0</td>\n",
       "      <td>8.0</td>\n",
       "      <td>9.0</td>\n",
       "    </tr>\n",
       "    <tr>\n",
       "      <th>Efforts</th>\n",
       "      <td>9.0</td>\n",
       "      <td>4.888889</td>\n",
       "      <td>2.803767</td>\n",
       "      <td>1.0</td>\n",
       "      <td>3.0</td>\n",
       "      <td>5.0</td>\n",
       "      <td>6.0</td>\n",
       "      <td>10.0</td>\n",
       "    </tr>\n",
       "  </tbody>\n",
       "</table>\n",
       "</div>"
      ],
      "text/plain": [
       "            count      mean       std  min  25%  50%  75%   max\n",
       "Reach         9.0  4.777778  3.153481  1.0  3.0  3.0  8.0  10.0\n",
       "Impact        9.0  4.777778  3.192874  1.0  3.0  3.0  7.0  10.0\n",
       "Confidence    9.0  5.555556  3.045944  1.0  3.0  7.0  8.0   9.0\n",
       "Efforts       9.0  4.888889  2.803767  1.0  3.0  5.0  6.0  10.0"
      ]
     },
     "metadata": {},
     "output_type": "display_data"
    },
    {
     "name": "stdout",
     "output_type": "stream",
     "text": [
      "--------------------------------------------------\n",
      "Подсчет пропусков\n",
      "--------------------------------------------------\n"
     ]
    },
    {
     "data": {
      "text/plain": [
       "Hypothesis    0\n",
       "Reach         0\n",
       "Impact        0\n",
       "Confidence    0\n",
       "Efforts       0\n",
       "dtype: int64"
      ]
     },
     "metadata": {},
     "output_type": "display_data"
    },
    {
     "name": "stdout",
     "output_type": "stream",
     "text": [
      "--------------------------------------------------\n",
      "Проверка явных дубликатов\n",
      "--------------------------------------------------\n",
      "0\n"
     ]
    }
   ],
   "source": [
    "data_info(hypothesis)"
   ]
  },
  {
   "cell_type": "code",
   "execution_count": 5,
   "id": "cfa46169-c850-4107-b65f-96ba6b4bb28f",
   "metadata": {},
   "outputs": [
    {
     "name": "stdout",
     "output_type": "stream",
     "text": [
      "--------------------------------------------------\n",
      "Первые 5 строк таблицы\n",
      "--------------------------------------------------\n"
     ]
    },
    {
     "data": {
      "text/html": [
       "<div>\n",
       "<style scoped>\n",
       "    .dataframe tbody tr th:only-of-type {\n",
       "        vertical-align: middle;\n",
       "    }\n",
       "\n",
       "    .dataframe tbody tr th {\n",
       "        vertical-align: top;\n",
       "    }\n",
       "\n",
       "    .dataframe thead th {\n",
       "        text-align: right;\n",
       "    }\n",
       "</style>\n",
       "<table border=\"1\" class=\"dataframe\">\n",
       "  <thead>\n",
       "    <tr style=\"text-align: right;\">\n",
       "      <th></th>\n",
       "      <th>transactionId</th>\n",
       "      <th>visitorId</th>\n",
       "      <th>date</th>\n",
       "      <th>revenue</th>\n",
       "      <th>group</th>\n",
       "    </tr>\n",
       "  </thead>\n",
       "  <tbody>\n",
       "    <tr>\n",
       "      <th>0</th>\n",
       "      <td>3667963787</td>\n",
       "      <td>3312258926</td>\n",
       "      <td>2019-08-15</td>\n",
       "      <td>1650</td>\n",
       "      <td>B</td>\n",
       "    </tr>\n",
       "    <tr>\n",
       "      <th>1</th>\n",
       "      <td>2804400009</td>\n",
       "      <td>3642806036</td>\n",
       "      <td>2019-08-15</td>\n",
       "      <td>730</td>\n",
       "      <td>B</td>\n",
       "    </tr>\n",
       "    <tr>\n",
       "      <th>2</th>\n",
       "      <td>2961555356</td>\n",
       "      <td>4069496402</td>\n",
       "      <td>2019-08-15</td>\n",
       "      <td>400</td>\n",
       "      <td>A</td>\n",
       "    </tr>\n",
       "    <tr>\n",
       "      <th>3</th>\n",
       "      <td>3797467345</td>\n",
       "      <td>1196621759</td>\n",
       "      <td>2019-08-15</td>\n",
       "      <td>9759</td>\n",
       "      <td>B</td>\n",
       "    </tr>\n",
       "    <tr>\n",
       "      <th>4</th>\n",
       "      <td>2282983706</td>\n",
       "      <td>2322279887</td>\n",
       "      <td>2019-08-15</td>\n",
       "      <td>2308</td>\n",
       "      <td>B</td>\n",
       "    </tr>\n",
       "  </tbody>\n",
       "</table>\n",
       "</div>"
      ],
      "text/plain": [
       "   transactionId   visitorId        date  revenue group\n",
       "0     3667963787  3312258926  2019-08-15     1650     B\n",
       "1     2804400009  3642806036  2019-08-15      730     B\n",
       "2     2961555356  4069496402  2019-08-15      400     A\n",
       "3     3797467345  1196621759  2019-08-15     9759     B\n",
       "4     2282983706  2322279887  2019-08-15     2308     B"
      ]
     },
     "metadata": {},
     "output_type": "display_data"
    },
    {
     "name": "stdout",
     "output_type": "stream",
     "text": [
      "--------------------------------------------------\n",
      "Общая информация о таблице\n",
      "--------------------------------------------------\n",
      "<class 'pandas.core.frame.DataFrame'>\n",
      "RangeIndex: 1197 entries, 0 to 1196\n",
      "Data columns (total 5 columns):\n",
      " #   Column         Non-Null Count  Dtype \n",
      "---  ------         --------------  ----- \n",
      " 0   transactionId  1197 non-null   int64 \n",
      " 1   visitorId      1197 non-null   int64 \n",
      " 2   date           1197 non-null   object\n",
      " 3   revenue        1197 non-null   int64 \n",
      " 4   group          1197 non-null   object\n",
      "dtypes: int64(3), object(2)\n",
      "memory usage: 46.9+ KB\n",
      "--------------------------------------------------\n",
      "Основные статистические данные\n",
      "--------------------------------------------------\n"
     ]
    },
    {
     "data": {
      "text/html": [
       "<div>\n",
       "<style scoped>\n",
       "    .dataframe tbody tr th:only-of-type {\n",
       "        vertical-align: middle;\n",
       "    }\n",
       "\n",
       "    .dataframe tbody tr th {\n",
       "        vertical-align: top;\n",
       "    }\n",
       "\n",
       "    .dataframe thead th {\n",
       "        text-align: right;\n",
       "    }\n",
       "</style>\n",
       "<table border=\"1\" class=\"dataframe\">\n",
       "  <thead>\n",
       "    <tr style=\"text-align: right;\">\n",
       "      <th></th>\n",
       "      <th>count</th>\n",
       "      <th>mean</th>\n",
       "      <th>std</th>\n",
       "      <th>min</th>\n",
       "      <th>25%</th>\n",
       "      <th>50%</th>\n",
       "      <th>75%</th>\n",
       "      <th>max</th>\n",
       "    </tr>\n",
       "  </thead>\n",
       "  <tbody>\n",
       "    <tr>\n",
       "      <th>transactionId</th>\n",
       "      <td>1197.0</td>\n",
       "      <td>2.155621e+09</td>\n",
       "      <td>1.229085e+09</td>\n",
       "      <td>1062393.0</td>\n",
       "      <td>1.166776e+09</td>\n",
       "      <td>2.145194e+09</td>\n",
       "      <td>3.237740e+09</td>\n",
       "      <td>4.293856e+09</td>\n",
       "    </tr>\n",
       "    <tr>\n",
       "      <th>visitorId</th>\n",
       "      <td>1197.0</td>\n",
       "      <td>2.165960e+09</td>\n",
       "      <td>1.236014e+09</td>\n",
       "      <td>5114589.0</td>\n",
       "      <td>1.111826e+09</td>\n",
       "      <td>2.217985e+09</td>\n",
       "      <td>3.177606e+09</td>\n",
       "      <td>4.283872e+09</td>\n",
       "    </tr>\n",
       "    <tr>\n",
       "      <th>revenue</th>\n",
       "      <td>1197.0</td>\n",
       "      <td>8.348006e+03</td>\n",
       "      <td>3.919113e+04</td>\n",
       "      <td>50.0</td>\n",
       "      <td>1.220000e+03</td>\n",
       "      <td>2.978000e+03</td>\n",
       "      <td>8.290000e+03</td>\n",
       "      <td>1.294500e+06</td>\n",
       "    </tr>\n",
       "  </tbody>\n",
       "</table>\n",
       "</div>"
      ],
      "text/plain": [
       "                count          mean           std        min           25%  \\\n",
       "transactionId  1197.0  2.155621e+09  1.229085e+09  1062393.0  1.166776e+09   \n",
       "visitorId      1197.0  2.165960e+09  1.236014e+09  5114589.0  1.111826e+09   \n",
       "revenue        1197.0  8.348006e+03  3.919113e+04       50.0  1.220000e+03   \n",
       "\n",
       "                        50%           75%           max  \n",
       "transactionId  2.145194e+09  3.237740e+09  4.293856e+09  \n",
       "visitorId      2.217985e+09  3.177606e+09  4.283872e+09  \n",
       "revenue        2.978000e+03  8.290000e+03  1.294500e+06  "
      ]
     },
     "metadata": {},
     "output_type": "display_data"
    },
    {
     "name": "stdout",
     "output_type": "stream",
     "text": [
      "--------------------------------------------------\n",
      "Подсчет пропусков\n",
      "--------------------------------------------------\n"
     ]
    },
    {
     "data": {
      "text/plain": [
       "transactionId    0\n",
       "visitorId        0\n",
       "date             0\n",
       "revenue          0\n",
       "group            0\n",
       "dtype: int64"
      ]
     },
     "metadata": {},
     "output_type": "display_data"
    },
    {
     "name": "stdout",
     "output_type": "stream",
     "text": [
      "--------------------------------------------------\n",
      "Проверка явных дубликатов\n",
      "--------------------------------------------------\n",
      "0\n"
     ]
    }
   ],
   "source": [
    "data_info(orders)"
   ]
  },
  {
   "cell_type": "code",
   "execution_count": 6,
   "id": "e807a305-8d36-42af-9901-978881a62607",
   "metadata": {},
   "outputs": [
    {
     "name": "stdout",
     "output_type": "stream",
     "text": [
      "--------------------------------------------------\n",
      "Первые 5 строк таблицы\n",
      "--------------------------------------------------\n"
     ]
    },
    {
     "data": {
      "text/html": [
       "<div>\n",
       "<style scoped>\n",
       "    .dataframe tbody tr th:only-of-type {\n",
       "        vertical-align: middle;\n",
       "    }\n",
       "\n",
       "    .dataframe tbody tr th {\n",
       "        vertical-align: top;\n",
       "    }\n",
       "\n",
       "    .dataframe thead th {\n",
       "        text-align: right;\n",
       "    }\n",
       "</style>\n",
       "<table border=\"1\" class=\"dataframe\">\n",
       "  <thead>\n",
       "    <tr style=\"text-align: right;\">\n",
       "      <th></th>\n",
       "      <th>date</th>\n",
       "      <th>group</th>\n",
       "      <th>visitors</th>\n",
       "    </tr>\n",
       "  </thead>\n",
       "  <tbody>\n",
       "    <tr>\n",
       "      <th>0</th>\n",
       "      <td>2019-08-01</td>\n",
       "      <td>A</td>\n",
       "      <td>719</td>\n",
       "    </tr>\n",
       "    <tr>\n",
       "      <th>1</th>\n",
       "      <td>2019-08-02</td>\n",
       "      <td>A</td>\n",
       "      <td>619</td>\n",
       "    </tr>\n",
       "    <tr>\n",
       "      <th>2</th>\n",
       "      <td>2019-08-03</td>\n",
       "      <td>A</td>\n",
       "      <td>507</td>\n",
       "    </tr>\n",
       "    <tr>\n",
       "      <th>3</th>\n",
       "      <td>2019-08-04</td>\n",
       "      <td>A</td>\n",
       "      <td>717</td>\n",
       "    </tr>\n",
       "    <tr>\n",
       "      <th>4</th>\n",
       "      <td>2019-08-05</td>\n",
       "      <td>A</td>\n",
       "      <td>756</td>\n",
       "    </tr>\n",
       "  </tbody>\n",
       "</table>\n",
       "</div>"
      ],
      "text/plain": [
       "         date group  visitors\n",
       "0  2019-08-01     A       719\n",
       "1  2019-08-02     A       619\n",
       "2  2019-08-03     A       507\n",
       "3  2019-08-04     A       717\n",
       "4  2019-08-05     A       756"
      ]
     },
     "metadata": {},
     "output_type": "display_data"
    },
    {
     "name": "stdout",
     "output_type": "stream",
     "text": [
      "--------------------------------------------------\n",
      "Общая информация о таблице\n",
      "--------------------------------------------------\n",
      "<class 'pandas.core.frame.DataFrame'>\n",
      "RangeIndex: 62 entries, 0 to 61\n",
      "Data columns (total 3 columns):\n",
      " #   Column    Non-Null Count  Dtype \n",
      "---  ------    --------------  ----- \n",
      " 0   date      62 non-null     object\n",
      " 1   group     62 non-null     object\n",
      " 2   visitors  62 non-null     int64 \n",
      "dtypes: int64(1), object(2)\n",
      "memory usage: 1.6+ KB\n",
      "--------------------------------------------------\n",
      "Основные статистические данные\n",
      "--------------------------------------------------\n"
     ]
    },
    {
     "data": {
      "text/html": [
       "<div>\n",
       "<style scoped>\n",
       "    .dataframe tbody tr th:only-of-type {\n",
       "        vertical-align: middle;\n",
       "    }\n",
       "\n",
       "    .dataframe tbody tr th {\n",
       "        vertical-align: top;\n",
       "    }\n",
       "\n",
       "    .dataframe thead th {\n",
       "        text-align: right;\n",
       "    }\n",
       "</style>\n",
       "<table border=\"1\" class=\"dataframe\">\n",
       "  <thead>\n",
       "    <tr style=\"text-align: right;\">\n",
       "      <th></th>\n",
       "      <th>count</th>\n",
       "      <th>mean</th>\n",
       "      <th>std</th>\n",
       "      <th>min</th>\n",
       "      <th>25%</th>\n",
       "      <th>50%</th>\n",
       "      <th>75%</th>\n",
       "      <th>max</th>\n",
       "    </tr>\n",
       "  </thead>\n",
       "  <tbody>\n",
       "    <tr>\n",
       "      <th>visitors</th>\n",
       "      <td>62.0</td>\n",
       "      <td>607.290323</td>\n",
       "      <td>114.40056</td>\n",
       "      <td>361.0</td>\n",
       "      <td>534.0</td>\n",
       "      <td>624.5</td>\n",
       "      <td>710.5</td>\n",
       "      <td>770.0</td>\n",
       "    </tr>\n",
       "  </tbody>\n",
       "</table>\n",
       "</div>"
      ],
      "text/plain": [
       "          count        mean        std    min    25%    50%    75%    max\n",
       "visitors   62.0  607.290323  114.40056  361.0  534.0  624.5  710.5  770.0"
      ]
     },
     "metadata": {},
     "output_type": "display_data"
    },
    {
     "name": "stdout",
     "output_type": "stream",
     "text": [
      "--------------------------------------------------\n",
      "Подсчет пропусков\n",
      "--------------------------------------------------\n"
     ]
    },
    {
     "data": {
      "text/plain": [
       "date        0\n",
       "group       0\n",
       "visitors    0\n",
       "dtype: int64"
      ]
     },
     "metadata": {},
     "output_type": "display_data"
    },
    {
     "name": "stdout",
     "output_type": "stream",
     "text": [
      "--------------------------------------------------\n",
      "Проверка явных дубликатов\n",
      "--------------------------------------------------\n",
      "0\n"
     ]
    }
   ],
   "source": [
    "data_info(visitors)"
   ]
  },
  {
   "cell_type": "markdown",
   "id": "81b5aabc-63bb-470f-82aa-6fed673d43bd",
   "metadata": {},
   "source": [
    "### Выводы по загрузке и обзору данных"
   ]
  },
  {
   "cell_type": "markdown",
   "id": "b47c0a71-8794-466f-b42d-3eccba6f91ea",
   "metadata": {},
   "source": [
    "<div style=\"border:solid green 2px; padding: 20px\">\n",
    "\n",
    "Выводы:\n",
    "* Пропусков нет.\n",
    "* Явных дубликатов нет.\n",
    "* Изменим тип данных на datetime в столбцах с датами.\n",
    "* Приведем заголовки столбцов hypothesis и orders к хорошему стилю (змеиный регистр).\n",
    "\n",
    "</div>"
   ]
  },
  {
   "cell_type": "markdown",
   "id": "276f20ee-210b-4ca6-9e56-7185004bdb99",
   "metadata": {},
   "source": [
    "[Начало_проекта](#Начало_проекта)"
   ]
  },
  {
   "cell_type": "markdown",
   "id": "303a9bb6-2e16-48c7-beb5-cb340a863879",
   "metadata": {},
   "source": [
    "<a id=\"предобработка\"></a>"
   ]
  },
  {
   "cell_type": "markdown",
   "id": "033bfe5c-504c-427d-b223-36d2cee28168",
   "metadata": {},
   "source": [
    "## Предобработка данных"
   ]
  },
  {
   "cell_type": "markdown",
   "id": "154e8f89-206b-4fa9-a2ce-bf9c39f93005",
   "metadata": {},
   "source": [
    "### Переименование заголовков столбцов"
   ]
  },
  {
   "cell_type": "code",
   "execution_count": 7,
   "id": "174470c5-54bc-4218-947b-04055cc183ef",
   "metadata": {},
   "outputs": [],
   "source": [
    "def lower_columns(data):\n",
    "    data.columns = [x.lower() for x in data.columns]\n",
    "    display(data.head(1))"
   ]
  },
  {
   "cell_type": "code",
   "execution_count": 8,
   "id": "6bf6413a-c487-4cbc-9260-5bed8ef5e6a5",
   "metadata": {},
   "outputs": [
    {
     "data": {
      "text/html": [
       "<div>\n",
       "<style scoped>\n",
       "    .dataframe tbody tr th:only-of-type {\n",
       "        vertical-align: middle;\n",
       "    }\n",
       "\n",
       "    .dataframe tbody tr th {\n",
       "        vertical-align: top;\n",
       "    }\n",
       "\n",
       "    .dataframe thead th {\n",
       "        text-align: right;\n",
       "    }\n",
       "</style>\n",
       "<table border=\"1\" class=\"dataframe\">\n",
       "  <thead>\n",
       "    <tr style=\"text-align: right;\">\n",
       "      <th></th>\n",
       "      <th>hypothesis</th>\n",
       "      <th>reach</th>\n",
       "      <th>impact</th>\n",
       "      <th>confidence</th>\n",
       "      <th>efforts</th>\n",
       "    </tr>\n",
       "  </thead>\n",
       "  <tbody>\n",
       "    <tr>\n",
       "      <th>0</th>\n",
       "      <td>Добавить два новых канала привлечения трафика,...</td>\n",
       "      <td>3</td>\n",
       "      <td>10</td>\n",
       "      <td>8</td>\n",
       "      <td>6</td>\n",
       "    </tr>\n",
       "  </tbody>\n",
       "</table>\n",
       "</div>"
      ],
      "text/plain": [
       "                                          hypothesis  reach  impact  \\\n",
       "0  Добавить два новых канала привлечения трафика,...      3      10   \n",
       "\n",
       "   confidence  efforts  \n",
       "0           8        6  "
      ]
     },
     "metadata": {},
     "output_type": "display_data"
    }
   ],
   "source": [
    "lower_columns(hypothesis)"
   ]
  },
  {
   "cell_type": "code",
   "execution_count": 9,
   "id": "a7721ea2-6670-4431-8286-0439f7c77666",
   "metadata": {},
   "outputs": [
    {
     "data": {
      "text/html": [
       "<div>\n",
       "<style scoped>\n",
       "    .dataframe tbody tr th:only-of-type {\n",
       "        vertical-align: middle;\n",
       "    }\n",
       "\n",
       "    .dataframe tbody tr th {\n",
       "        vertical-align: top;\n",
       "    }\n",
       "\n",
       "    .dataframe thead th {\n",
       "        text-align: right;\n",
       "    }\n",
       "</style>\n",
       "<table border=\"1\" class=\"dataframe\">\n",
       "  <thead>\n",
       "    <tr style=\"text-align: right;\">\n",
       "      <th></th>\n",
       "      <th>transaction_id</th>\n",
       "      <th>visitor_id</th>\n",
       "      <th>date</th>\n",
       "      <th>revenue</th>\n",
       "      <th>group</th>\n",
       "    </tr>\n",
       "  </thead>\n",
       "  <tbody>\n",
       "    <tr>\n",
       "      <th>0</th>\n",
       "      <td>3667963787</td>\n",
       "      <td>3312258926</td>\n",
       "      <td>2019-08-15</td>\n",
       "      <td>1650</td>\n",
       "      <td>B</td>\n",
       "    </tr>\n",
       "  </tbody>\n",
       "</table>\n",
       "</div>"
      ],
      "text/plain": [
       "   transaction_id  visitor_id        date  revenue group\n",
       "0      3667963787  3312258926  2019-08-15     1650     B"
      ]
     },
     "execution_count": 9,
     "metadata": {},
     "output_type": "execute_result"
    }
   ],
   "source": [
    "orders = orders.rename(columns={'transactionId': 'transaction_id', 'visitorId': 'visitor_id'})\n",
    "orders.head(1)"
   ]
  },
  {
   "cell_type": "markdown",
   "id": "e4b0790c-d488-45e8-9c7c-0ae4350fcb3f",
   "metadata": {},
   "source": [
    "<div style=\"border:solid green 2px; padding: 20px\">\n",
    "    \n",
    "Привели заголовки столбцов hypothesis и orders к хорошему стилю (змеиному регистру).\n",
    "\n",
    "</div>"
   ]
  },
  {
   "cell_type": "markdown",
   "id": "881b1df1-a333-40e0-84e6-268f144ffeb1",
   "metadata": {},
   "source": [
    "### Изменение типов данных"
   ]
  },
  {
   "cell_type": "markdown",
   "id": "e7958a75-1e18-4c11-9280-88521573e6f1",
   "metadata": {},
   "source": [
    "<div style=\"border:solid black 2px; padding: 20px\">\n",
    "\n",
    "Приводим столбцы с датой к типу datetime.\n",
    "\n",
    "</div>"
   ]
  },
  {
   "cell_type": "code",
   "execution_count": 10,
   "id": "444708f9-64d6-41cb-b64f-197c835dd829",
   "metadata": {},
   "outputs": [],
   "source": [
    "orders['date'] = orders['date'].map(lambda x: dt.datetime.strptime(x, '%Y-%m-%d'))"
   ]
  },
  {
   "cell_type": "code",
   "execution_count": 11,
   "id": "296a83f7-feca-429e-bee8-e43fd16f2864",
   "metadata": {},
   "outputs": [],
   "source": [
    "visitors['date'] = visitors['date'].map(lambda x: dt.datetime.strptime(x, '%Y-%m-%d'))"
   ]
  },
  {
   "cell_type": "code",
   "execution_count": 12,
   "id": "826e95e9-dc9e-4029-ba44-4a8f69dc3668",
   "metadata": {},
   "outputs": [
    {
     "data": {
      "text/plain": [
       "transaction_id             int64\n",
       "visitor_id                 int64\n",
       "date              datetime64[ns]\n",
       "revenue                    int64\n",
       "group                     object\n",
       "dtype: object"
      ]
     },
     "execution_count": 12,
     "metadata": {},
     "output_type": "execute_result"
    }
   ],
   "source": [
    "orders.dtypes"
   ]
  },
  {
   "cell_type": "code",
   "execution_count": 13,
   "id": "04059f18-7a05-428e-8fda-26c70d6db052",
   "metadata": {},
   "outputs": [
    {
     "data": {
      "text/plain": [
       "date        datetime64[ns]\n",
       "group               object\n",
       "visitors             int64\n",
       "dtype: object"
      ]
     },
     "execution_count": 13,
     "metadata": {},
     "output_type": "execute_result"
    }
   ],
   "source": [
    "visitors.dtypes"
   ]
  },
  {
   "cell_type": "markdown",
   "id": "50925a0b-fad2-4e3e-bc50-413e00726ce4",
   "metadata": {},
   "source": [
    "### Проверка неявных дубликатов"
   ]
  },
  {
   "cell_type": "code",
   "execution_count": 14,
   "id": "fe2db192-9240-4ef3-a2af-3a3f96d5c329",
   "metadata": {},
   "outputs": [
    {
     "data": {
      "text/plain": [
       "hypothesis\n",
       "Добавить два новых канала привлечения трафика, что позволит привлекать на 30% больше пользователей              1\n",
       "Запустить собственную службу доставки, что сократит срок доставки заказов                                       1\n",
       "Добавить блоки рекомендаций товаров на сайт интернет магазина, чтобы повысить конверсию и средний чек заказа    1\n",
       "Изменить структура категорий, что увеличит конверсию, т.к. пользователи быстрее найдут нужный товар             1\n",
       "Изменить цвет фона главной страницы, чтобы увеличить вовлеченность пользователей                                1\n",
       "Добавить страницу отзывов клиентов о магазине, что позволит увеличить количество заказов                        1\n",
       "Показать на главной странице баннеры с актуальными акциями и распродажами, чтобы увеличить конверсию            1\n",
       "Добавить форму подписки на все основные страницы, чтобы собрать базу клиентов для email-рассылок                1\n",
       "Запустить акцию, дающую скидку на товар в день рождения                                                         1\n",
       "Name: count, dtype: int64"
      ]
     },
     "execution_count": 14,
     "metadata": {},
     "output_type": "execute_result"
    }
   ],
   "source": [
    "hypothesis['hypothesis'].value_counts() # просмотр уникальных значений и количество строк"
   ]
  },
  {
   "cell_type": "code",
   "execution_count": 15,
   "id": "3bafea75-f916-467b-8505-0853d2e239b7",
   "metadata": {},
   "outputs": [
    {
     "data": {
      "text/plain": [
       "group\n",
       "B    640\n",
       "A    557\n",
       "Name: count, dtype: int64"
      ]
     },
     "execution_count": 15,
     "metadata": {},
     "output_type": "execute_result"
    }
   ],
   "source": [
    "orders['group'].value_counts() # просмотр уникальных значений и количество строк"
   ]
  },
  {
   "cell_type": "code",
   "execution_count": 16,
   "id": "f334338f-ba65-4aac-af8f-7b1c25baa226",
   "metadata": {},
   "outputs": [
    {
     "data": {
      "text/plain": [
       "group\n",
       "A    31\n",
       "B    31\n",
       "Name: count, dtype: int64"
      ]
     },
     "execution_count": 16,
     "metadata": {},
     "output_type": "execute_result"
    }
   ],
   "source": [
    "visitors['group'].value_counts() # просмотр уникальных значений и количество строк"
   ]
  },
  {
   "cell_type": "markdown",
   "id": "ae621122-128e-4420-8427-f97cf7c0ee47",
   "metadata": {},
   "source": [
    "<div style=\"border:solid green 2px; padding: 20px\">\n",
    "\n",
    "Не выявлено неявных дубликатов.\n",
    "\n",
    "</div>"
   ]
  },
  {
   "cell_type": "markdown",
   "id": "9796070e-3569-4355-a4ee-8e439644f69b",
   "metadata": {},
   "source": [
    "### Проверка периода"
   ]
  },
  {
   "cell_type": "code",
   "execution_count": 17,
   "id": "88e4aff4-309c-49d2-8ce9-b0544df5d2b2",
   "metadata": {},
   "outputs": [
    {
     "data": {
      "text/plain": [
       "date\n",
       "2019-08-01    45\n",
       "2019-08-02    44\n",
       "2019-08-03    40\n",
       "2019-08-04    33\n",
       "2019-08-05    48\n",
       "2019-08-06    46\n",
       "2019-08-07    42\n",
       "2019-08-08    43\n",
       "2019-08-09    41\n",
       "2019-08-10    39\n",
       "2019-08-11    26\n",
       "2019-08-12    47\n",
       "2019-08-13    35\n",
       "2019-08-14    47\n",
       "2019-08-15    46\n",
       "2019-08-16    38\n",
       "2019-08-17    24\n",
       "2019-08-18    26\n",
       "2019-08-19    43\n",
       "2019-08-20    32\n",
       "2019-08-21    37\n",
       "2019-08-22    41\n",
       "2019-08-23    40\n",
       "2019-08-24    31\n",
       "2019-08-25    24\n",
       "2019-08-26    41\n",
       "2019-08-27    44\n",
       "2019-08-28    45\n",
       "2019-08-29    42\n",
       "2019-08-30    35\n",
       "2019-08-31    32\n",
       "Name: transaction_id, dtype: int64"
      ]
     },
     "execution_count": 17,
     "metadata": {},
     "output_type": "execute_result"
    }
   ],
   "source": [
    "orders.groupby('date')['transaction_id'].agg('count')"
   ]
  },
  {
   "cell_type": "code",
   "execution_count": 18,
   "id": "f681c5c6-fe0e-47bb-815d-a20419b84089",
   "metadata": {},
   "outputs": [
    {
     "data": {
      "text/plain": [
       "date\n",
       "2019-08-01    1432\n",
       "2019-08-02    1200\n",
       "2019-08-03    1016\n",
       "2019-08-04    1487\n",
       "2019-08-05    1463\n",
       "2019-08-06    1322\n",
       "2019-08-07    1353\n",
       "2019-08-08    1264\n",
       "2019-08-09    1227\n",
       "2019-08-10     775\n",
       "2019-08-11    1439\n",
       "2019-08-12    1138\n",
       "2019-08-13    1517\n",
       "2019-08-14    1481\n",
       "2019-08-15    1172\n",
       "2019-08-16     774\n",
       "2019-08-17     833\n",
       "2019-08-18    1405\n",
       "2019-08-19     989\n",
       "2019-08-20    1135\n",
       "2019-08-21    1302\n",
       "2019-08-22    1259\n",
       "2019-08-23    1014\n",
       "2019-08-24     773\n",
       "2019-08-25    1300\n",
       "2019-08-26    1398\n",
       "2019-08-27    1431\n",
       "2019-08-28    1248\n",
       "2019-08-29    1108\n",
       "2019-08-30     980\n",
       "2019-08-31    1417\n",
       "Name: visitors, dtype: int64"
      ]
     },
     "execution_count": 18,
     "metadata": {},
     "output_type": "execute_result"
    }
   ],
   "source": [
    "visitors.groupby('date')['visitors'].agg('sum')"
   ]
  },
  {
   "cell_type": "code",
   "execution_count": 19,
   "id": "6e91f6b0-28cc-4b6a-979d-641f423ed917",
   "metadata": {},
   "outputs": [
    {
     "name": "stdout",
     "output_type": "stream",
     "text": [
      "Количество дней в таблице orders: 31\n",
      "Количество дней в таблице visitors: 31\n"
     ]
    }
   ],
   "source": [
    "print('Количество дней в таблице orders:', orders['date'].nunique())\n",
    "print('Количество дней в таблице visitors:', visitors['date'].nunique())"
   ]
  },
  {
   "cell_type": "markdown",
   "id": "1b49bd8e-7de4-4d5d-ab5f-3db30043e89c",
   "metadata": {},
   "source": [
    "<div style=\"border:solid green 2px; padding: 20px\">\n",
    "\n",
    "Период данных август 2019 г. Даты в двух таблицах идентичны.\n",
    "\n",
    "</div>"
   ]
  },
  {
   "cell_type": "markdown",
   "id": "ea4bdf21-4f0e-406a-9b69-fd4300b18ac1",
   "metadata": {},
   "source": [
    "[Начало_проекта](#Начало_проекта)"
   ]
  },
  {
   "cell_type": "markdown",
   "id": "5862674a-af5f-4dc5-a37a-7836633003af",
   "metadata": {},
   "source": [
    "<a id=\"приоритизация\"></a>"
   ]
  },
  {
   "cell_type": "markdown",
   "id": "09ae5b45-690f-4d17-9f2a-08edface4ed7",
   "metadata": {},
   "source": [
    "## Приоритизация гипотез"
   ]
  },
  {
   "cell_type": "markdown",
   "id": "e16947c1-856d-430e-8f7d-01be99b657fd",
   "metadata": {},
   "source": [
    "### Расчет ICE для гипотез "
   ]
  },
  {
   "cell_type": "markdown",
   "id": "21fe336a-820a-45f2-bdd4-2ca3b1996b37",
   "metadata": {},
   "source": [
    "<div style=\"border:solid black 2px; padding: 20px\">\n",
    "    \n",
    "Применим фреймворк ICE для приоритизации гипотез.\n",
    "\n",
    "</div>"
   ]
  },
  {
   "cell_type": "code",
   "execution_count": 20,
   "id": "2c484829-5173-4079-aaa3-df84d2840dc4",
   "metadata": {},
   "outputs": [],
   "source": [
    "hypothesis['ICE'] = (hypothesis['impact'] * hypothesis['confidence'] / hypothesis['efforts'])"
   ]
  },
  {
   "cell_type": "code",
   "execution_count": 21,
   "id": "6b3afb34-28e0-4df6-9ad1-a669633cf08d",
   "metadata": {},
   "outputs": [
    {
     "data": {
      "text/html": [
       "<style type=\"text/css\">\n",
       "#T_40b80_row0_col5 {\n",
       "  width: 10em;\n",
       "  background: linear-gradient(90deg, #d65f5f 100.0%, transparent 100.0%);\n",
       "}\n",
       "#T_40b80_row1_col5 {\n",
       "  width: 10em;\n",
       "  background: linear-gradient(90deg, #d65f5f 82.3%, transparent 82.3%);\n",
       "}\n",
       "#T_40b80_row2_col5 {\n",
       "  width: 10em;\n",
       "  background: linear-gradient(90deg, #d65f5f 69.1%, transparent 69.1%);\n",
       "}\n",
       "#T_40b80_row3_col5 {\n",
       "  width: 10em;\n",
       "  background: linear-gradient(90deg, #d65f5f 49.4%, transparent 49.4%);\n",
       "}\n",
       "#T_40b80_row4_col5 {\n",
       "  width: 10em;\n",
       "  background: linear-gradient(90deg, #d65f5f 43.2%, transparent 43.2%);\n",
       "}\n",
       "#T_40b80_row5_col5 {\n",
       "  width: 10em;\n",
       "  background: linear-gradient(90deg, #d65f5f 12.3%, transparent 12.3%);\n",
       "}\n",
       "#T_40b80_row6_col5 {\n",
       "  width: 10em;\n",
       "  background: linear-gradient(90deg, #d65f5f 8.2%, transparent 8.2%);\n",
       "}\n",
       "#T_40b80_row7_col5 {\n",
       "  width: 10em;\n",
       "  background: linear-gradient(90deg, #d65f5f 6.9%, transparent 6.9%);\n",
       "}\n",
       "#T_40b80_row8_col5 {\n",
       "  width: 10em;\n",
       "  background: linear-gradient(90deg, #d65f5f 6.2%, transparent 6.2%);\n",
       "}\n",
       "</style>\n",
       "<table id=\"T_40b80\">\n",
       "  <caption>Приоритизация гипотез способом ICE</caption>\n",
       "  <thead>\n",
       "    <tr>\n",
       "      <th class=\"blank level0\" >&nbsp;</th>\n",
       "      <th id=\"T_40b80_level0_col0\" class=\"col_heading level0 col0\" >hypothesis</th>\n",
       "      <th id=\"T_40b80_level0_col1\" class=\"col_heading level0 col1\" >reach</th>\n",
       "      <th id=\"T_40b80_level0_col2\" class=\"col_heading level0 col2\" >impact</th>\n",
       "      <th id=\"T_40b80_level0_col3\" class=\"col_heading level0 col3\" >confidence</th>\n",
       "      <th id=\"T_40b80_level0_col4\" class=\"col_heading level0 col4\" >efforts</th>\n",
       "      <th id=\"T_40b80_level0_col5\" class=\"col_heading level0 col5\" >ICE</th>\n",
       "    </tr>\n",
       "  </thead>\n",
       "  <tbody>\n",
       "    <tr>\n",
       "      <th id=\"T_40b80_level0_row0\" class=\"row_heading level0 row0\" >8</th>\n",
       "      <td id=\"T_40b80_row0_col0\" class=\"data row0 col0\" >Запустить акцию, дающую скидку на товар в день рождения</td>\n",
       "      <td id=\"T_40b80_row0_col1\" class=\"data row0 col1\" >1</td>\n",
       "      <td id=\"T_40b80_row0_col2\" class=\"data row0 col2\" >9</td>\n",
       "      <td id=\"T_40b80_row0_col3\" class=\"data row0 col3\" >9</td>\n",
       "      <td id=\"T_40b80_row0_col4\" class=\"data row0 col4\" >5</td>\n",
       "      <td id=\"T_40b80_row0_col5\" class=\"data row0 col5\" >16.2</td>\n",
       "    </tr>\n",
       "    <tr>\n",
       "      <th id=\"T_40b80_level0_row1\" class=\"row_heading level0 row1\" >0</th>\n",
       "      <td id=\"T_40b80_row1_col0\" class=\"data row1 col0\" >Добавить два новых канала привлечения трафика, что позволит привлекать на 30% больше пользователей</td>\n",
       "      <td id=\"T_40b80_row1_col1\" class=\"data row1 col1\" >3</td>\n",
       "      <td id=\"T_40b80_row1_col2\" class=\"data row1 col2\" >10</td>\n",
       "      <td id=\"T_40b80_row1_col3\" class=\"data row1 col3\" >8</td>\n",
       "      <td id=\"T_40b80_row1_col4\" class=\"data row1 col4\" >6</td>\n",
       "      <td id=\"T_40b80_row1_col5\" class=\"data row1 col5\" >13.3</td>\n",
       "    </tr>\n",
       "    <tr>\n",
       "      <th id=\"T_40b80_level0_row2\" class=\"row_heading level0 row2\" >7</th>\n",
       "      <td id=\"T_40b80_row2_col0\" class=\"data row2 col0\" >Добавить форму подписки на все основные страницы, чтобы собрать базу клиентов для email-рассылок</td>\n",
       "      <td id=\"T_40b80_row2_col1\" class=\"data row2 col1\" >10</td>\n",
       "      <td id=\"T_40b80_row2_col2\" class=\"data row2 col2\" >7</td>\n",
       "      <td id=\"T_40b80_row2_col3\" class=\"data row2 col3\" >8</td>\n",
       "      <td id=\"T_40b80_row2_col4\" class=\"data row2 col4\" >5</td>\n",
       "      <td id=\"T_40b80_row2_col5\" class=\"data row2 col5\" >11.2</td>\n",
       "    </tr>\n",
       "    <tr>\n",
       "      <th id=\"T_40b80_level0_row3\" class=\"row_heading level0 row3\" >6</th>\n",
       "      <td id=\"T_40b80_row3_col0\" class=\"data row3 col0\" >Показать на главной странице баннеры с актуальными акциями и распродажами, чтобы увеличить конверсию</td>\n",
       "      <td id=\"T_40b80_row3_col1\" class=\"data row3 col1\" >5</td>\n",
       "      <td id=\"T_40b80_row3_col2\" class=\"data row3 col2\" >3</td>\n",
       "      <td id=\"T_40b80_row3_col3\" class=\"data row3 col3\" >8</td>\n",
       "      <td id=\"T_40b80_row3_col4\" class=\"data row3 col4\" >3</td>\n",
       "      <td id=\"T_40b80_row3_col5\" class=\"data row3 col5\" >8.0</td>\n",
       "    </tr>\n",
       "    <tr>\n",
       "      <th id=\"T_40b80_level0_row4\" class=\"row_heading level0 row4\" >2</th>\n",
       "      <td id=\"T_40b80_row4_col0\" class=\"data row4 col0\" >Добавить блоки рекомендаций товаров на сайт интернет магазина, чтобы повысить конверсию и средний чек заказа</td>\n",
       "      <td id=\"T_40b80_row4_col1\" class=\"data row4 col1\" >8</td>\n",
       "      <td id=\"T_40b80_row4_col2\" class=\"data row4 col2\" >3</td>\n",
       "      <td id=\"T_40b80_row4_col3\" class=\"data row4 col3\" >7</td>\n",
       "      <td id=\"T_40b80_row4_col4\" class=\"data row4 col4\" >3</td>\n",
       "      <td id=\"T_40b80_row4_col5\" class=\"data row4 col5\" >7.0</td>\n",
       "    </tr>\n",
       "    <tr>\n",
       "      <th id=\"T_40b80_level0_row5\" class=\"row_heading level0 row5\" >1</th>\n",
       "      <td id=\"T_40b80_row5_col0\" class=\"data row5 col0\" >Запустить собственную службу доставки, что сократит срок доставки заказов</td>\n",
       "      <td id=\"T_40b80_row5_col1\" class=\"data row5 col1\" >2</td>\n",
       "      <td id=\"T_40b80_row5_col2\" class=\"data row5 col2\" >5</td>\n",
       "      <td id=\"T_40b80_row5_col3\" class=\"data row5 col3\" >4</td>\n",
       "      <td id=\"T_40b80_row5_col4\" class=\"data row5 col4\" >10</td>\n",
       "      <td id=\"T_40b80_row5_col5\" class=\"data row5 col5\" >2.0</td>\n",
       "    </tr>\n",
       "    <tr>\n",
       "      <th id=\"T_40b80_level0_row6\" class=\"row_heading level0 row6\" >5</th>\n",
       "      <td id=\"T_40b80_row6_col0\" class=\"data row6 col0\" >Добавить страницу отзывов клиентов о магазине, что позволит увеличить количество заказов</td>\n",
       "      <td id=\"T_40b80_row6_col1\" class=\"data row6 col1\" >3</td>\n",
       "      <td id=\"T_40b80_row6_col2\" class=\"data row6 col2\" >2</td>\n",
       "      <td id=\"T_40b80_row6_col3\" class=\"data row6 col3\" >2</td>\n",
       "      <td id=\"T_40b80_row6_col4\" class=\"data row6 col4\" >3</td>\n",
       "      <td id=\"T_40b80_row6_col5\" class=\"data row6 col5\" >1.3</td>\n",
       "    </tr>\n",
       "    <tr>\n",
       "      <th id=\"T_40b80_level0_row7\" class=\"row_heading level0 row7\" >3</th>\n",
       "      <td id=\"T_40b80_row7_col0\" class=\"data row7 col0\" >Изменить структура категорий, что увеличит конверсию, т.к. пользователи быстрее найдут нужный товар</td>\n",
       "      <td id=\"T_40b80_row7_col1\" class=\"data row7 col1\" >8</td>\n",
       "      <td id=\"T_40b80_row7_col2\" class=\"data row7 col2\" >3</td>\n",
       "      <td id=\"T_40b80_row7_col3\" class=\"data row7 col3\" >3</td>\n",
       "      <td id=\"T_40b80_row7_col4\" class=\"data row7 col4\" >8</td>\n",
       "      <td id=\"T_40b80_row7_col5\" class=\"data row7 col5\" >1.1</td>\n",
       "    </tr>\n",
       "    <tr>\n",
       "      <th id=\"T_40b80_level0_row8\" class=\"row_heading level0 row8\" >4</th>\n",
       "      <td id=\"T_40b80_row8_col0\" class=\"data row8 col0\" >Изменить цвет фона главной страницы, чтобы увеличить вовлеченность пользователей</td>\n",
       "      <td id=\"T_40b80_row8_col1\" class=\"data row8 col1\" >3</td>\n",
       "      <td id=\"T_40b80_row8_col2\" class=\"data row8 col2\" >1</td>\n",
       "      <td id=\"T_40b80_row8_col3\" class=\"data row8 col3\" >1</td>\n",
       "      <td id=\"T_40b80_row8_col4\" class=\"data row8 col4\" >1</td>\n",
       "      <td id=\"T_40b80_row8_col5\" class=\"data row8 col5\" >1.0</td>\n",
       "    </tr>\n",
       "  </tbody>\n",
       "</table>\n"
      ],
      "text/plain": [
       "<pandas.io.formats.style.Styler at 0x1b8d984dd10>"
      ]
     },
     "execution_count": 21,
     "metadata": {},
     "output_type": "execute_result"
    }
   ],
   "source": [
    "hypothesis.sort_values(by='ICE', ascending=False)\\\n",
    "           .style.format({'ICE': '{:.1f}'}).bar(subset='ICE')\\\n",
    "           .set_caption('Приоритизация гипотез способом ICE')"
   ]
  },
  {
   "cell_type": "markdown",
   "id": "55e98da4-da96-4b19-8af0-57a123e8b4d4",
   "metadata": {},
   "source": [
    "<div style=\"border:solid green 2px; padding: 20px\">\n",
    "    \n",
    "Top-3 приоритетных гипотезы по фреймворку ICE:\n",
    "\n",
    "| hypothesis                                                                                          | ICE       | \n",
    "|:----------------------------------------------------------------------------------------------------|:---------:| \n",
    "|8 Запустить акцию, дающую скидку на товар в день рождения                                            | 16.2      | \n",
    "|0 Добавить два новых канала привлечения трафика, что позволит привлекать на 30% больше пользователей | 13.3      | \n",
    "|7 Добавить форму подписки на все основные страницы, чтобы собрать базу клиентов для email-рассылок   | 11.2      | \n",
    "\n",
    "</div>"
   ]
  },
  {
   "cell_type": "markdown",
   "id": "a9369bac-2883-4a30-8dec-69f97312204f",
   "metadata": {},
   "source": [
    "### Расчет RICE для гипотез"
   ]
  },
  {
   "cell_type": "markdown",
   "id": "2113140c-860f-4744-aea0-2ae5f9964985",
   "metadata": {},
   "source": [
    "<div style=\"border:solid black 2px; padding: 20px\">\n",
    "    \n",
    "Применим фреймворк RICE для приоритизации гипотез.\n",
    "\n",
    "</div>"
   ]
  },
  {
   "cell_type": "code",
   "execution_count": 22,
   "id": "4a979f7e-60f0-461e-a496-46d7cd2922d6",
   "metadata": {},
   "outputs": [],
   "source": [
    "hypothesis['RICE'] = ((hypothesis['reach'] * hypothesis['impact'] * hypothesis['confidence']) / hypothesis['efforts']).round(1)"
   ]
  },
  {
   "cell_type": "code",
   "execution_count": 23,
   "id": "f8a26363-1962-4136-829d-e02a0b6b154a",
   "metadata": {},
   "outputs": [
    {
     "data": {
      "text/html": [
       "<style type=\"text/css\">\n",
       "#T_0efcf_row0_col6 {\n",
       "  color: red;\n",
       "  background-color: #ffffb3;\n",
       "}\n",
       "#T_0efcf_row1_col6, #T_0efcf_row2_col6, #T_0efcf_row3_col6, #T_0efcf_row4_col6, #T_0efcf_row5_col6, #T_0efcf_row6_col6, #T_0efcf_row7_col6, #T_0efcf_row8_col6 {\n",
       "  background-color: #ffffb3;\n",
       "}\n",
       "</style>\n",
       "<table id=\"T_0efcf\">\n",
       "  <caption>Приоритизация гипотез способом RICE</caption>\n",
       "  <thead>\n",
       "    <tr>\n",
       "      <th class=\"blank level0\" >&nbsp;</th>\n",
       "      <th id=\"T_0efcf_level0_col0\" class=\"col_heading level0 col0\" >hypothesis</th>\n",
       "      <th id=\"T_0efcf_level0_col1\" class=\"col_heading level0 col1\" >reach</th>\n",
       "      <th id=\"T_0efcf_level0_col2\" class=\"col_heading level0 col2\" >impact</th>\n",
       "      <th id=\"T_0efcf_level0_col3\" class=\"col_heading level0 col3\" >confidence</th>\n",
       "      <th id=\"T_0efcf_level0_col4\" class=\"col_heading level0 col4\" >efforts</th>\n",
       "      <th id=\"T_0efcf_level0_col5\" class=\"col_heading level0 col5\" >ICE</th>\n",
       "      <th id=\"T_0efcf_level0_col6\" class=\"col_heading level0 col6\" >RICE</th>\n",
       "    </tr>\n",
       "  </thead>\n",
       "  <tbody>\n",
       "    <tr>\n",
       "      <th id=\"T_0efcf_level0_row0\" class=\"row_heading level0 row0\" >7</th>\n",
       "      <td id=\"T_0efcf_row0_col0\" class=\"data row0 col0\" >Добавить форму подписки на все основные страницы, чтобы собрать базу клиентов для email-рассылок</td>\n",
       "      <td id=\"T_0efcf_row0_col1\" class=\"data row0 col1\" >10</td>\n",
       "      <td id=\"T_0efcf_row0_col2\" class=\"data row0 col2\" >7</td>\n",
       "      <td id=\"T_0efcf_row0_col3\" class=\"data row0 col3\" >8</td>\n",
       "      <td id=\"T_0efcf_row0_col4\" class=\"data row0 col4\" >5</td>\n",
       "      <td id=\"T_0efcf_row0_col5\" class=\"data row0 col5\" >11.2</td>\n",
       "      <td id=\"T_0efcf_row0_col6\" class=\"data row0 col6\" >112.0</td>\n",
       "    </tr>\n",
       "    <tr>\n",
       "      <th id=\"T_0efcf_level0_row1\" class=\"row_heading level0 row1\" >2</th>\n",
       "      <td id=\"T_0efcf_row1_col0\" class=\"data row1 col0\" >Добавить блоки рекомендаций товаров на сайт интернет магазина, чтобы повысить конверсию и средний чек заказа</td>\n",
       "      <td id=\"T_0efcf_row1_col1\" class=\"data row1 col1\" >8</td>\n",
       "      <td id=\"T_0efcf_row1_col2\" class=\"data row1 col2\" >3</td>\n",
       "      <td id=\"T_0efcf_row1_col3\" class=\"data row1 col3\" >7</td>\n",
       "      <td id=\"T_0efcf_row1_col4\" class=\"data row1 col4\" >3</td>\n",
       "      <td id=\"T_0efcf_row1_col5\" class=\"data row1 col5\" >7.0</td>\n",
       "      <td id=\"T_0efcf_row1_col6\" class=\"data row1 col6\" >56.0</td>\n",
       "    </tr>\n",
       "    <tr>\n",
       "      <th id=\"T_0efcf_level0_row2\" class=\"row_heading level0 row2\" >0</th>\n",
       "      <td id=\"T_0efcf_row2_col0\" class=\"data row2 col0\" >Добавить два новых канала привлечения трафика, что позволит привлекать на 30% больше пользователей</td>\n",
       "      <td id=\"T_0efcf_row2_col1\" class=\"data row2 col1\" >3</td>\n",
       "      <td id=\"T_0efcf_row2_col2\" class=\"data row2 col2\" >10</td>\n",
       "      <td id=\"T_0efcf_row2_col3\" class=\"data row2 col3\" >8</td>\n",
       "      <td id=\"T_0efcf_row2_col4\" class=\"data row2 col4\" >6</td>\n",
       "      <td id=\"T_0efcf_row2_col5\" class=\"data row2 col5\" >13.3</td>\n",
       "      <td id=\"T_0efcf_row2_col6\" class=\"data row2 col6\" >40.0</td>\n",
       "    </tr>\n",
       "    <tr>\n",
       "      <th id=\"T_0efcf_level0_row3\" class=\"row_heading level0 row3\" >6</th>\n",
       "      <td id=\"T_0efcf_row3_col0\" class=\"data row3 col0\" >Показать на главной странице баннеры с актуальными акциями и распродажами, чтобы увеличить конверсию</td>\n",
       "      <td id=\"T_0efcf_row3_col1\" class=\"data row3 col1\" >5</td>\n",
       "      <td id=\"T_0efcf_row3_col2\" class=\"data row3 col2\" >3</td>\n",
       "      <td id=\"T_0efcf_row3_col3\" class=\"data row3 col3\" >8</td>\n",
       "      <td id=\"T_0efcf_row3_col4\" class=\"data row3 col4\" >3</td>\n",
       "      <td id=\"T_0efcf_row3_col5\" class=\"data row3 col5\" >8.0</td>\n",
       "      <td id=\"T_0efcf_row3_col6\" class=\"data row3 col6\" >40.0</td>\n",
       "    </tr>\n",
       "    <tr>\n",
       "      <th id=\"T_0efcf_level0_row4\" class=\"row_heading level0 row4\" >8</th>\n",
       "      <td id=\"T_0efcf_row4_col0\" class=\"data row4 col0\" >Запустить акцию, дающую скидку на товар в день рождения</td>\n",
       "      <td id=\"T_0efcf_row4_col1\" class=\"data row4 col1\" >1</td>\n",
       "      <td id=\"T_0efcf_row4_col2\" class=\"data row4 col2\" >9</td>\n",
       "      <td id=\"T_0efcf_row4_col3\" class=\"data row4 col3\" >9</td>\n",
       "      <td id=\"T_0efcf_row4_col4\" class=\"data row4 col4\" >5</td>\n",
       "      <td id=\"T_0efcf_row4_col5\" class=\"data row4 col5\" >16.2</td>\n",
       "      <td id=\"T_0efcf_row4_col6\" class=\"data row4 col6\" >16.2</td>\n",
       "    </tr>\n",
       "    <tr>\n",
       "      <th id=\"T_0efcf_level0_row5\" class=\"row_heading level0 row5\" >3</th>\n",
       "      <td id=\"T_0efcf_row5_col0\" class=\"data row5 col0\" >Изменить структура категорий, что увеличит конверсию, т.к. пользователи быстрее найдут нужный товар</td>\n",
       "      <td id=\"T_0efcf_row5_col1\" class=\"data row5 col1\" >8</td>\n",
       "      <td id=\"T_0efcf_row5_col2\" class=\"data row5 col2\" >3</td>\n",
       "      <td id=\"T_0efcf_row5_col3\" class=\"data row5 col3\" >3</td>\n",
       "      <td id=\"T_0efcf_row5_col4\" class=\"data row5 col4\" >8</td>\n",
       "      <td id=\"T_0efcf_row5_col5\" class=\"data row5 col5\" >1.1</td>\n",
       "      <td id=\"T_0efcf_row5_col6\" class=\"data row5 col6\" >9.0</td>\n",
       "    </tr>\n",
       "    <tr>\n",
       "      <th id=\"T_0efcf_level0_row6\" class=\"row_heading level0 row6\" >1</th>\n",
       "      <td id=\"T_0efcf_row6_col0\" class=\"data row6 col0\" >Запустить собственную службу доставки, что сократит срок доставки заказов</td>\n",
       "      <td id=\"T_0efcf_row6_col1\" class=\"data row6 col1\" >2</td>\n",
       "      <td id=\"T_0efcf_row6_col2\" class=\"data row6 col2\" >5</td>\n",
       "      <td id=\"T_0efcf_row6_col3\" class=\"data row6 col3\" >4</td>\n",
       "      <td id=\"T_0efcf_row6_col4\" class=\"data row6 col4\" >10</td>\n",
       "      <td id=\"T_0efcf_row6_col5\" class=\"data row6 col5\" >2.0</td>\n",
       "      <td id=\"T_0efcf_row6_col6\" class=\"data row6 col6\" >4.0</td>\n",
       "    </tr>\n",
       "    <tr>\n",
       "      <th id=\"T_0efcf_level0_row7\" class=\"row_heading level0 row7\" >5</th>\n",
       "      <td id=\"T_0efcf_row7_col0\" class=\"data row7 col0\" >Добавить страницу отзывов клиентов о магазине, что позволит увеличить количество заказов</td>\n",
       "      <td id=\"T_0efcf_row7_col1\" class=\"data row7 col1\" >3</td>\n",
       "      <td id=\"T_0efcf_row7_col2\" class=\"data row7 col2\" >2</td>\n",
       "      <td id=\"T_0efcf_row7_col3\" class=\"data row7 col3\" >2</td>\n",
       "      <td id=\"T_0efcf_row7_col4\" class=\"data row7 col4\" >3</td>\n",
       "      <td id=\"T_0efcf_row7_col5\" class=\"data row7 col5\" >1.3</td>\n",
       "      <td id=\"T_0efcf_row7_col6\" class=\"data row7 col6\" >4.0</td>\n",
       "    </tr>\n",
       "    <tr>\n",
       "      <th id=\"T_0efcf_level0_row8\" class=\"row_heading level0 row8\" >4</th>\n",
       "      <td id=\"T_0efcf_row8_col0\" class=\"data row8 col0\" >Изменить цвет фона главной страницы, чтобы увеличить вовлеченность пользователей</td>\n",
       "      <td id=\"T_0efcf_row8_col1\" class=\"data row8 col1\" >3</td>\n",
       "      <td id=\"T_0efcf_row8_col2\" class=\"data row8 col2\" >1</td>\n",
       "      <td id=\"T_0efcf_row8_col3\" class=\"data row8 col3\" >1</td>\n",
       "      <td id=\"T_0efcf_row8_col4\" class=\"data row8 col4\" >1</td>\n",
       "      <td id=\"T_0efcf_row8_col5\" class=\"data row8 col5\" >1.0</td>\n",
       "      <td id=\"T_0efcf_row8_col6\" class=\"data row8 col6\" >3.0</td>\n",
       "    </tr>\n",
       "  </tbody>\n",
       "</table>\n"
      ],
      "text/plain": [
       "<pandas.io.formats.style.Styler at 0x1b8d9c12450>"
      ]
     },
     "execution_count": 23,
     "metadata": {},
     "output_type": "execute_result"
    }
   ],
   "source": [
    "def highlight_max(s, props=''):\n",
    "    return np.where(s == np.nanmax(s.values), props, '')\n",
    "\n",
    "slice_RICE = 'RICE'\n",
    "\n",
    "hypothesis.sort_values(by='RICE', ascending=False)\\\n",
    "          .style.format({'RICE': '{:.1f}', 'ICE': '{:.1f}'})\\\n",
    "          .apply(highlight_max, props='color:red;', axis=0, subset=slice_RICE)\\\n",
    "          .set_properties(**{'background-color': '#ffffb3'}, subset=slice_RICE)\\\n",
    "          .set_caption('Приоритизация гипотез способом RICE')"
   ]
  },
  {
   "cell_type": "markdown",
   "id": "7bf7668b-e528-4921-9094-815c703071a0",
   "metadata": {},
   "source": [
    "<div style=\"border:solid green 2px; padding: 20px\">\n",
    "    \n",
    "Top-4 приоритетных гипотезы по фреймворку RICE:\n",
    "\n",
    "| hypothesis                                                                                                     | RICE  | \n",
    "|:---------------------------------------------------------------------------------------------------------------|:-----:| \n",
    "|7 Добавить форму подписки на все основные страницы, чтобы собрать базу клиентов для email-рассылок              | 112   | \n",
    "|2 Добавить блоки рекомендаций товаров на сайт интернет магазина, чтобы повысить конверсию и средний чек заказа  | 56    | \n",
    "|0 Добавить два новых канала привлечения трафика, что позволит привлекать на 30% больше пользователей            | 40    |\n",
    "|6 Показать на главной странице баннеры с актуальными акциями и распродажами, чтобы увеличить конверсию          | 40    | \n",
    "\n",
    "</div>"
   ]
  },
  {
   "cell_type": "markdown",
   "id": "2dda7376-62e1-4168-a00e-dabd41589f49",
   "metadata": {},
   "source": [
    "### Сравнение приоритизаций"
   ]
  },
  {
   "cell_type": "markdown",
   "id": "197eb94b-4b07-4c5e-92fb-4e5b3bca93b5",
   "metadata": {},
   "source": [
    "<div style=\"border:solid black 2px; padding: 20px\">\n",
    "    \n",
    "Рассмотрим, как изменилась приоритизация гипотез при применении RICE вместо ICE.\n",
    "\n",
    "</div>"
   ]
  },
  {
   "cell_type": "code",
   "execution_count": 24,
   "id": "42219b94-1709-4680-82f8-4f0dee2b0fa0",
   "metadata": {},
   "outputs": [
    {
     "data": {
      "text/html": [
       "<style type=\"text/css\">\n",
       "#T_c9440_row0_col0, #T_c9440_row0_col5, #T_c9440_row2_col1, #T_c9440_row4_col2, #T_c9440_row4_col4, #T_c9440_row7_col3 {\n",
       "  background-color: #3f007d;\n",
       "  color: #f1f1f1;\n",
       "}\n",
       "#T_c9440_row0_col1 {\n",
       "  background-color: #796eb2;\n",
       "  color: #f1f1f1;\n",
       "}\n",
       "#T_c9440_row0_col2, #T_c9440_row2_col2, #T_c9440_row3_col2 {\n",
       "  background-color: #53268f;\n",
       "  color: #f1f1f1;\n",
       "}\n",
       "#T_c9440_row0_col3, #T_c9440_row3_col0, #T_c9440_row4_col3, #T_c9440_row7_col1 {\n",
       "  background-color: #acaad1;\n",
       "  color: #000000;\n",
       "}\n",
       "#T_c9440_row0_col4 {\n",
       "  background-color: #786db2;\n",
       "  color: #f1f1f1;\n",
       "}\n",
       "#T_c9440_row1_col0, #T_c9440_row5_col0, #T_c9440_row5_col3 {\n",
       "  background-color: #65479e;\n",
       "  color: #f1f1f1;\n",
       "}\n",
       "#T_c9440_row1_col1, #T_c9440_row1_col3, #T_c9440_row2_col0, #T_c9440_row3_col1, #T_c9440_row3_col3, #T_c9440_row5_col1, #T_c9440_row6_col0, #T_c9440_row6_col3, #T_c9440_row8_col0 {\n",
       "  background-color: #dfdfed;\n",
       "  color: #000000;\n",
       "}\n",
       "#T_c9440_row1_col2 {\n",
       "  background-color: #6950a3;\n",
       "  color: #f1f1f1;\n",
       "}\n",
       "#T_c9440_row1_col4 {\n",
       "  background-color: #b7b7d9;\n",
       "  color: #000000;\n",
       "}\n",
       "#T_c9440_row1_col5 {\n",
       "  background-color: #a19eca;\n",
       "  color: #f1f1f1;\n",
       "}\n",
       "#T_c9440_row2_col3 {\n",
       "  background-color: #908dc2;\n",
       "  color: #f1f1f1;\n",
       "}\n",
       "#T_c9440_row2_col4 {\n",
       "  background-color: #5f3c99;\n",
       "  color: #f1f1f1;\n",
       "}\n",
       "#T_c9440_row2_col5, #T_c9440_row3_col5 {\n",
       "  background-color: #c5c6e1;\n",
       "  color: #000000;\n",
       "}\n",
       "#T_c9440_row3_col4 {\n",
       "  background-color: #a8a6cf;\n",
       "  color: #f1f1f1;\n",
       "}\n",
       "#T_c9440_row4_col0, #T_c9440_row8_col1, #T_c9440_row8_col2, #T_c9440_row8_col3, #T_c9440_row8_col4, #T_c9440_row8_col5 {\n",
       "  background-color: #fcfbfd;\n",
       "  color: #000000;\n",
       "}\n",
       "#T_c9440_row4_col1 {\n",
       "  background-color: #51228d;\n",
       "  color: #f1f1f1;\n",
       "}\n",
       "#T_c9440_row4_col5, #T_c9440_row6_col2 {\n",
       "  background-color: #efedf5;\n",
       "  color: #000000;\n",
       "}\n",
       "#T_c9440_row5_col2 {\n",
       "  background-color: #dadaeb;\n",
       "  color: #000000;\n",
       "}\n",
       "#T_c9440_row5_col4, #T_c9440_row6_col5, #T_c9440_row7_col5 {\n",
       "  background-color: #fbfafc;\n",
       "  color: #000000;\n",
       "}\n",
       "#T_c9440_row5_col5 {\n",
       "  background-color: #f6f5f9;\n",
       "  color: #000000;\n",
       "}\n",
       "#T_c9440_row6_col1, #T_c9440_row7_col0 {\n",
       "  background-color: #f1eff6;\n",
       "  color: #000000;\n",
       "}\n",
       "#T_c9440_row6_col4 {\n",
       "  background-color: #faf9fc;\n",
       "  color: #000000;\n",
       "}\n",
       "#T_c9440_row7_col2 {\n",
       "  background-color: #bcbddc;\n",
       "  color: #000000;\n",
       "}\n",
       "#T_c9440_row7_col4 {\n",
       "  background-color: #f5f4f9;\n",
       "  color: #000000;\n",
       "}\n",
       "</style>\n",
       "<table id=\"T_c9440\">\n",
       "  <thead>\n",
       "    <tr>\n",
       "      <th class=\"blank level0\" >&nbsp;</th>\n",
       "      <th id=\"T_c9440_level0_col0\" class=\"col_heading level0 col0\" >reach</th>\n",
       "      <th id=\"T_c9440_level0_col1\" class=\"col_heading level0 col1\" >impact</th>\n",
       "      <th id=\"T_c9440_level0_col2\" class=\"col_heading level0 col2\" >confidence</th>\n",
       "      <th id=\"T_c9440_level0_col3\" class=\"col_heading level0 col3\" >efforts</th>\n",
       "      <th id=\"T_c9440_level0_col4\" class=\"col_heading level0 col4\" >ICE</th>\n",
       "      <th id=\"T_c9440_level0_col5\" class=\"col_heading level0 col5\" >RICE</th>\n",
       "    </tr>\n",
       "    <tr>\n",
       "      <th class=\"index_name level0\" >hypothesis</th>\n",
       "      <th class=\"blank col0\" >&nbsp;</th>\n",
       "      <th class=\"blank col1\" >&nbsp;</th>\n",
       "      <th class=\"blank col2\" >&nbsp;</th>\n",
       "      <th class=\"blank col3\" >&nbsp;</th>\n",
       "      <th class=\"blank col4\" >&nbsp;</th>\n",
       "      <th class=\"blank col5\" >&nbsp;</th>\n",
       "    </tr>\n",
       "  </thead>\n",
       "  <tbody>\n",
       "    <tr>\n",
       "      <th id=\"T_c9440_level0_row0\" class=\"row_heading level0 row0\" >Добавить форму подписки на все основные страницы, чтобы собрать базу клиентов для email-рассылок</th>\n",
       "      <td id=\"T_c9440_row0_col0\" class=\"data row0 col0\" >10.0</td>\n",
       "      <td id=\"T_c9440_row0_col1\" class=\"data row0 col1\" >7.0</td>\n",
       "      <td id=\"T_c9440_row0_col2\" class=\"data row0 col2\" >8.0</td>\n",
       "      <td id=\"T_c9440_row0_col3\" class=\"data row0 col3\" >5.0</td>\n",
       "      <td id=\"T_c9440_row0_col4\" class=\"data row0 col4\" >11.2</td>\n",
       "      <td id=\"T_c9440_row0_col5\" class=\"data row0 col5\" >112.0</td>\n",
       "    </tr>\n",
       "    <tr>\n",
       "      <th id=\"T_c9440_level0_row1\" class=\"row_heading level0 row1\" >Добавить блоки рекомендаций товаров на сайт интернет магазина, чтобы повысить конверсию и средний чек заказа</th>\n",
       "      <td id=\"T_c9440_row1_col0\" class=\"data row1 col0\" >8.0</td>\n",
       "      <td id=\"T_c9440_row1_col1\" class=\"data row1 col1\" >3.0</td>\n",
       "      <td id=\"T_c9440_row1_col2\" class=\"data row1 col2\" >7.0</td>\n",
       "      <td id=\"T_c9440_row1_col3\" class=\"data row1 col3\" >3.0</td>\n",
       "      <td id=\"T_c9440_row1_col4\" class=\"data row1 col4\" >7.0</td>\n",
       "      <td id=\"T_c9440_row1_col5\" class=\"data row1 col5\" >56.0</td>\n",
       "    </tr>\n",
       "    <tr>\n",
       "      <th id=\"T_c9440_level0_row2\" class=\"row_heading level0 row2\" >Добавить два новых канала привлечения трафика, что позволит привлекать на 30% больше пользователей</th>\n",
       "      <td id=\"T_c9440_row2_col0\" class=\"data row2 col0\" >3.0</td>\n",
       "      <td id=\"T_c9440_row2_col1\" class=\"data row2 col1\" >10.0</td>\n",
       "      <td id=\"T_c9440_row2_col2\" class=\"data row2 col2\" >8.0</td>\n",
       "      <td id=\"T_c9440_row2_col3\" class=\"data row2 col3\" >6.0</td>\n",
       "      <td id=\"T_c9440_row2_col4\" class=\"data row2 col4\" >13.3</td>\n",
       "      <td id=\"T_c9440_row2_col5\" class=\"data row2 col5\" >40.0</td>\n",
       "    </tr>\n",
       "    <tr>\n",
       "      <th id=\"T_c9440_level0_row3\" class=\"row_heading level0 row3\" >Показать на главной странице баннеры с актуальными акциями и распродажами, чтобы увеличить конверсию</th>\n",
       "      <td id=\"T_c9440_row3_col0\" class=\"data row3 col0\" >5.0</td>\n",
       "      <td id=\"T_c9440_row3_col1\" class=\"data row3 col1\" >3.0</td>\n",
       "      <td id=\"T_c9440_row3_col2\" class=\"data row3 col2\" >8.0</td>\n",
       "      <td id=\"T_c9440_row3_col3\" class=\"data row3 col3\" >3.0</td>\n",
       "      <td id=\"T_c9440_row3_col4\" class=\"data row3 col4\" >8.0</td>\n",
       "      <td id=\"T_c9440_row3_col5\" class=\"data row3 col5\" >40.0</td>\n",
       "    </tr>\n",
       "    <tr>\n",
       "      <th id=\"T_c9440_level0_row4\" class=\"row_heading level0 row4\" >Запустить акцию, дающую скидку на товар в день рождения</th>\n",
       "      <td id=\"T_c9440_row4_col0\" class=\"data row4 col0\" >1.0</td>\n",
       "      <td id=\"T_c9440_row4_col1\" class=\"data row4 col1\" >9.0</td>\n",
       "      <td id=\"T_c9440_row4_col2\" class=\"data row4 col2\" >9.0</td>\n",
       "      <td id=\"T_c9440_row4_col3\" class=\"data row4 col3\" >5.0</td>\n",
       "      <td id=\"T_c9440_row4_col4\" class=\"data row4 col4\" >16.2</td>\n",
       "      <td id=\"T_c9440_row4_col5\" class=\"data row4 col5\" >16.2</td>\n",
       "    </tr>\n",
       "    <tr>\n",
       "      <th id=\"T_c9440_level0_row5\" class=\"row_heading level0 row5\" >Изменить структура категорий, что увеличит конверсию, т.к. пользователи быстрее найдут нужный товар</th>\n",
       "      <td id=\"T_c9440_row5_col0\" class=\"data row5 col0\" >8.0</td>\n",
       "      <td id=\"T_c9440_row5_col1\" class=\"data row5 col1\" >3.0</td>\n",
       "      <td id=\"T_c9440_row5_col2\" class=\"data row5 col2\" >3.0</td>\n",
       "      <td id=\"T_c9440_row5_col3\" class=\"data row5 col3\" >8.0</td>\n",
       "      <td id=\"T_c9440_row5_col4\" class=\"data row5 col4\" >1.1</td>\n",
       "      <td id=\"T_c9440_row5_col5\" class=\"data row5 col5\" >9.0</td>\n",
       "    </tr>\n",
       "    <tr>\n",
       "      <th id=\"T_c9440_level0_row6\" class=\"row_heading level0 row6\" >Добавить страницу отзывов клиентов о магазине, что позволит увеличить количество заказов</th>\n",
       "      <td id=\"T_c9440_row6_col0\" class=\"data row6 col0\" >3.0</td>\n",
       "      <td id=\"T_c9440_row6_col1\" class=\"data row6 col1\" >2.0</td>\n",
       "      <td id=\"T_c9440_row6_col2\" class=\"data row6 col2\" >2.0</td>\n",
       "      <td id=\"T_c9440_row6_col3\" class=\"data row6 col3\" >3.0</td>\n",
       "      <td id=\"T_c9440_row6_col4\" class=\"data row6 col4\" >1.3</td>\n",
       "      <td id=\"T_c9440_row6_col5\" class=\"data row6 col5\" >4.0</td>\n",
       "    </tr>\n",
       "    <tr>\n",
       "      <th id=\"T_c9440_level0_row7\" class=\"row_heading level0 row7\" >Запустить собственную службу доставки, что сократит срок доставки заказов</th>\n",
       "      <td id=\"T_c9440_row7_col0\" class=\"data row7 col0\" >2.0</td>\n",
       "      <td id=\"T_c9440_row7_col1\" class=\"data row7 col1\" >5.0</td>\n",
       "      <td id=\"T_c9440_row7_col2\" class=\"data row7 col2\" >4.0</td>\n",
       "      <td id=\"T_c9440_row7_col3\" class=\"data row7 col3\" >10.0</td>\n",
       "      <td id=\"T_c9440_row7_col4\" class=\"data row7 col4\" >2.0</td>\n",
       "      <td id=\"T_c9440_row7_col5\" class=\"data row7 col5\" >4.0</td>\n",
       "    </tr>\n",
       "    <tr>\n",
       "      <th id=\"T_c9440_level0_row8\" class=\"row_heading level0 row8\" >Изменить цвет фона главной страницы, чтобы увеличить вовлеченность пользователей</th>\n",
       "      <td id=\"T_c9440_row8_col0\" class=\"data row8 col0\" >3.0</td>\n",
       "      <td id=\"T_c9440_row8_col1\" class=\"data row8 col1\" >1.0</td>\n",
       "      <td id=\"T_c9440_row8_col2\" class=\"data row8 col2\" >1.0</td>\n",
       "      <td id=\"T_c9440_row8_col3\" class=\"data row8 col3\" >1.0</td>\n",
       "      <td id=\"T_c9440_row8_col4\" class=\"data row8 col4\" >1.0</td>\n",
       "      <td id=\"T_c9440_row8_col5\" class=\"data row8 col5\" >3.0</td>\n",
       "    </tr>\n",
       "  </tbody>\n",
       "</table>\n"
      ],
      "text/plain": [
       "<pandas.io.formats.style.Styler at 0x1b8d4532450>"
      ]
     },
     "execution_count": 24,
     "metadata": {},
     "output_type": "execute_result"
    }
   ],
   "source": [
    "hypothesis.groupby('hypothesis').agg('mean').sort_values(by='RICE', ascending=False)\\\n",
    " .style.format(\"{:.1f}\")\\\n",
    " .background_gradient(cmap='Purples', axis=0)"
   ]
  },
  {
   "cell_type": "markdown",
   "id": "729249a4-f150-4060-b609-a45703dd399f",
   "metadata": {},
   "source": [
    "<div style=\"border:solid green 2px; padding: 20px\">\n",
    "    \n",
    "Как мы видим, приоритизации гипотез фреймворком ICE\tи фреймворком RICE различаются.\n",
    "\n",
    "Когда мы делали приоритизации способом ICE, имели большое влияние высокие оценки параметров impact (насколько сильно изменение повлияет на пользователей) и confidence (насколько уверены, что это изменение повлияет на пользователей именно так).\n",
    "\n",
    "А при приоритизации способом RICE высокие оценки параметра reach (скольких пользователей затронет изменение, которое вы хотите внести) изменили порядок приоритизации. Получается, когда важно учесть охват пользователей при приоритизации гипотез, используем фреймворк RICE.\n",
    "\n",
    "Две гипотезы, которые попали в топ по приоритизации и ICE и RICE:\n",
    "* (7) Добавить форму подписки на все основные страницы, чтобы собрать базу клиентов для email-рассылок\n",
    "* (0) Добавить два новых канала привлечения трафика, что позволит привлекать на 30% больше пользователей\n",
    "\n",
    "Обратить внимание на гипотезу (8) Запустить акцию, дающую скидку на товар в день рождения. Топ-1 по приоритизации способом ICE. По охвату пользователей самая низкая оценка. Но важно понимать, что это значимая активность с точки зрения лояльности клиента, которая влияет на формирование долгосрочного позитивного отношения клиента к бренду. Поэтому эту гипотезу надо отнести к важным, но не срочным.\n",
    "\n",
    "А также обратить внимание на гипотезу (2) Добавить блоки рекомендаций товаров на сайт интернет магазина, чтобы повысить конверсию и средний чек заказа. Топ-2 по приоритизации способом RICE. Так как предполагается, что данное обновление имеет прямое влияние на количество штук в чеке, соответственно и на средний чек, и как итог общую выручку, то стоит отнести к важным, но не срочным.\n",
    "\n",
    "</div>"
   ]
  },
  {
   "cell_type": "markdown",
   "id": "89e888a7-ef21-4c44-9958-a30607216315",
   "metadata": {},
   "source": [
    "[Начало_проекта](#Начало_проекта)"
   ]
  },
  {
   "cell_type": "markdown",
   "id": "7846eb96-b5b1-465f-b66a-4feebf63f768",
   "metadata": {},
   "source": [
    "<a id=\"проверка\"></a>"
   ]
  },
  {
   "cell_type": "markdown",
   "id": "a160cd48-1374-4492-a627-2972d06b710d",
   "metadata": {},
   "source": [
    "## Проверка пользователей в разрезе групп"
   ]
  },
  {
   "cell_type": "markdown",
   "id": "07473237-91d0-492a-9476-4709a7f44106",
   "metadata": {},
   "source": [
    "### Количество пользователей по группам"
   ]
  },
  {
   "cell_type": "markdown",
   "id": "db8a3607-8dd5-4a7a-a580-7e2bf3162938",
   "metadata": {},
   "source": [
    "<div style=\"border:solid black 2px; padding: 20px\">\n",
    "    \n",
    "Мы провели A/B-тест. Перед оценкой теста дополнительно проверим как были распределены пользователи по группам.\n",
    "\n",
    "</div>"
   ]
  },
  {
   "cell_type": "code",
   "execution_count": 25,
   "id": "d16cb169-288e-43c2-a5e6-67a70b98e4f2",
   "metadata": {},
   "outputs": [
    {
     "data": {
      "image/png": "[encoded data removed]",
      "text/plain": [
       "<Figure size 640x480 with 2 Axes>"
      ]
     },
     "metadata": {},
     "output_type": "display_data"
    }
   ],
   "source": [
    "labels_group = ['A', 'B']\n",
    "\n",
    "data1 = orders.groupby('group')['visitor_id'].nunique()\n",
    "data2 = visitors.groupby('group')['visitors'].sum()\n",
    "\n",
    "fig, (ax1, ax2) = plt.subplots(1, 2)\n",
    "\n",
    "ax1.pie(data1, labels = labels_group, autopct = '%1.1f%%')\n",
    "ax1.set_title('Пользователи файл orders')\n",
    "ax2.pie(data2, labels = labels_group, autopct = '%1.1f%%')\n",
    "ax2.set_title('Пользователи файл visitors')\n",
    "\n",
    "plt.show()"
   ]
  },
  {
   "cell_type": "code",
   "execution_count": 26,
   "id": "9965aaa3-3584-49b3-b92d-359b6958a163",
   "metadata": {},
   "outputs": [
    {
     "name": "stdout",
     "output_type": "stream",
     "text": [
      "Group A orders (visitor_id): 557\n",
      "Group B orders (visitor_id) 640\n",
      "Difference B vs A (%): 0.15\n"
     ]
    }
   ],
   "source": [
    "print('Group A orders (visitor_id):', orders[orders['group'] == 'A']['visitor_id'].count())\n",
    "print('Group B orders (visitor_id)', orders[orders['group'] == 'B']['visitor_id'].count())\n",
    "print('Difference B vs A (%):', (orders[orders['group'] == 'B']['visitor_id'].count()\n",
    "                                 / orders[orders['group'] == 'A']['visitor_id'].count() -1).round(2))"
   ]
  },
  {
   "cell_type": "code",
   "execution_count": 27,
   "id": "9bdc529a-6d1b-4c72-a644-593b9f6ddec4",
   "metadata": {},
   "outputs": [
    {
     "name": "stdout",
     "output_type": "stream",
     "text": [
      "Group A visitors (visitors): 18736\n",
      "Group B visitors (visitors) 18916\n",
      "Difference B vs A (%): 0.01\n"
     ]
    }
   ],
   "source": [
    "print('Group A visitors (visitors):', visitors[visitors['group'] == 'A']['visitors'].sum())\n",
    "print('Group B visitors (visitors)', visitors[visitors['group'] == 'B']['visitors'].sum())\n",
    "print('Difference B vs A (%):', (visitors[visitors['group'] == 'B']['visitors'].sum()\n",
    "                                 / visitors[visitors['group'] == 'A']['visitors'].sum() -1).round(2))"
   ]
  },
  {
   "cell_type": "markdown",
   "id": "b8e3870a-4e70-43a0-99c0-04974743302d",
   "metadata": {},
   "source": [
    "<div style=\"border:solid green 2px; padding: 20px\">\n",
    "\n",
    "Пользователи разделены практически на равные доли по группам А и В (по файлу visitors). Разница количества пользователей между группами 1%. Что является приемлемым.\n",
    "\n",
    "Но разница долей пользователей, оформивших заказ, по группам уже больше: 7.6%.\n",
    "\n",
    "</div>"
   ]
  },
  {
   "cell_type": "markdown",
   "id": "d6c25c95-eefc-4dfc-b667-35f90245554a",
   "metadata": {},
   "source": [
    "### Проверка дубликатов пользователей в разных группах"
   ]
  },
  {
   "cell_type": "markdown",
   "id": "8fe29d79-d626-48fd-a806-babb012031f0",
   "metadata": {},
   "source": [
    "<div style=\"border:solid black 2px; padding: 20px\">\n",
    "    \n",
    "Проверим дубликаты пользователей в разных группах по файлу с заказами.\n",
    "\n",
    "</div>"
   ]
  },
  {
   "cell_type": "code",
   "execution_count": 28,
   "id": "743de9b3-6efa-43c1-a598-e2e80a8963f2",
   "metadata": {},
   "outputs": [
    {
     "name": "stdout",
     "output_type": "stream",
     "text": [
      "--------------------------------------------------\n",
      "Количество дубликатов: 58\n",
      "--------------------------------------------------\n"
     ]
    }
   ],
   "source": [
    "duplicates = np.intersect1d(orders.query('group == \"A\"')['visitor_id'], orders.query('group == \"B\"')['visitor_id'])\n",
    "\n",
    "print('-'*50)\n",
    "print('Количество дубликатов:', len(duplicates))\n",
    "print('-'*50)"
   ]
  },
  {
   "cell_type": "code",
   "execution_count": 29,
   "id": "f8a944ea-c01f-4ef8-9c99-3e774a1d6056",
   "metadata": {},
   "outputs": [
    {
     "data": {
      "text/html": [
       "<div>\n",
       "<style scoped>\n",
       "    .dataframe tbody tr th:only-of-type {\n",
       "        vertical-align: middle;\n",
       "    }\n",
       "\n",
       "    .dataframe tbody tr th {\n",
       "        vertical-align: top;\n",
       "    }\n",
       "\n",
       "    .dataframe thead th {\n",
       "        text-align: right;\n",
       "    }\n",
       "</style>\n",
       "<table border=\"1\" class=\"dataframe\">\n",
       "  <thead>\n",
       "    <tr style=\"text-align: right;\">\n",
       "      <th></th>\n",
       "      <th>group</th>\n",
       "      <th>visitor_id</th>\n",
       "      <th>revenue</th>\n",
       "      <th>boolean</th>\n",
       "    </tr>\n",
       "  </thead>\n",
       "  <tbody>\n",
       "    <tr>\n",
       "      <th>0</th>\n",
       "      <td>A</td>\n",
       "      <td>8300375</td>\n",
       "      <td>1790</td>\n",
       "      <td>False</td>\n",
       "    </tr>\n",
       "    <tr>\n",
       "      <th>1</th>\n",
       "      <td>A</td>\n",
       "      <td>11685486</td>\n",
       "      <td>6201</td>\n",
       "      <td>False</td>\n",
       "    </tr>\n",
       "    <tr>\n",
       "      <th>2</th>\n",
       "      <td>A</td>\n",
       "      <td>54447517</td>\n",
       "      <td>130</td>\n",
       "      <td>False</td>\n",
       "    </tr>\n",
       "    <tr>\n",
       "      <th>3</th>\n",
       "      <td>A</td>\n",
       "      <td>66685450</td>\n",
       "      <td>7990</td>\n",
       "      <td>False</td>\n",
       "    </tr>\n",
       "    <tr>\n",
       "      <th>4</th>\n",
       "      <td>A</td>\n",
       "      <td>78758296</td>\n",
       "      <td>1044</td>\n",
       "      <td>False</td>\n",
       "    </tr>\n",
       "  </tbody>\n",
       "</table>\n",
       "</div>"
      ],
      "text/plain": [
       "  group  visitor_id  revenue  boolean\n",
       "0     A     8300375     1790    False\n",
       "1     A    11685486     6201    False\n",
       "2     A    54447517      130    False\n",
       "3     A    66685450     7990    False\n",
       "4     A    78758296     1044    False"
      ]
     },
     "execution_count": 29,
     "metadata": {},
     "output_type": "execute_result"
    }
   ],
   "source": [
    "# Группируем пользователей по группам теста\n",
    "id_dupl = orders.pivot_table(index=['group', 'visitor_id'] , values='revenue', aggfunc='sum').reset_index()\n",
    "\n",
    "# Добавляем столбец для определения дубликатов пользователей по группам\n",
    "id_dupl['boolean'] = id_dupl['visitor_id'].duplicated()\n",
    "id_dupl.head()"
   ]
  },
  {
   "cell_type": "code",
   "execution_count": 30,
   "id": "f29f4c31-572c-4a52-987b-9bb046c80370",
   "metadata": {},
   "outputs": [
    {
     "name": "stdout",
     "output_type": "stream",
     "text": [
      "--------------------------------------------------\n",
      "Дубликаты в группах теста: 58\n",
      "Уникальные пользователи в группах теста: 1031\n",
      "Доля дубликатов: 0.053\n",
      "--------------------------------------------------\n"
     ]
    }
   ],
   "source": [
    "print('-'*50)\n",
    "print('Дубликаты в группах теста:', id_dupl[id_dupl['boolean'] == True]['boolean'].count())\n",
    "print('Уникальные пользователи в группах теста:', id_dupl[id_dupl['boolean'] == False]['boolean'].count())\n",
    "print('Доля дубликатов:', (id_dupl[id_dupl['boolean'] == True]['boolean'].count() / id_dupl['boolean'].count()).round(3))\n",
    "print('-'*50)"
   ]
  },
  {
   "cell_type": "code",
   "execution_count": 31,
   "id": "3e4bb26b-bc56-4110-9c17-2d0514ae5cdd",
   "metadata": {},
   "outputs": [
    {
     "data": {
      "text/html": [
       "<div>\n",
       "<style scoped>\n",
       "    .dataframe tbody tr th:only-of-type {\n",
       "        vertical-align: middle;\n",
       "    }\n",
       "\n",
       "    .dataframe tbody tr th {\n",
       "        vertical-align: top;\n",
       "    }\n",
       "\n",
       "    .dataframe thead th {\n",
       "        text-align: right;\n",
       "    }\n",
       "</style>\n",
       "<table border=\"1\" class=\"dataframe\">\n",
       "  <thead>\n",
       "    <tr style=\"text-align: right;\">\n",
       "      <th></th>\n",
       "      <th></th>\n",
       "      <th></th>\n",
       "      <th>revenue</th>\n",
       "    </tr>\n",
       "    <tr>\n",
       "      <th>visitor_id</th>\n",
       "      <th>group</th>\n",
       "      <th>date</th>\n",
       "      <th></th>\n",
       "    </tr>\n",
       "  </thead>\n",
       "  <tbody>\n",
       "    <tr>\n",
       "      <th rowspan=\"2\" valign=\"top\">8300375</th>\n",
       "      <th>A</th>\n",
       "      <th>2019-08-07</th>\n",
       "      <td>1790</td>\n",
       "    </tr>\n",
       "    <tr>\n",
       "      <th>B</th>\n",
       "      <th>2019-08-01</th>\n",
       "      <td>10510</td>\n",
       "    </tr>\n",
       "    <tr>\n",
       "      <th rowspan=\"5\" valign=\"top\">199603092</th>\n",
       "      <th rowspan=\"4\" valign=\"top\">A</th>\n",
       "      <th>2019-08-12</th>\n",
       "      <td>6438</td>\n",
       "    </tr>\n",
       "    <tr>\n",
       "      <th>2019-08-15</th>\n",
       "      <td>3488</td>\n",
       "    </tr>\n",
       "    <tr>\n",
       "      <th>2019-08-22</th>\n",
       "      <td>6976</td>\n",
       "    </tr>\n",
       "    <tr>\n",
       "      <th>2019-08-27</th>\n",
       "      <td>2790</td>\n",
       "    </tr>\n",
       "    <tr>\n",
       "      <th>B</th>\n",
       "      <th>2019-08-02</th>\n",
       "      <td>3488</td>\n",
       "    </tr>\n",
       "    <tr>\n",
       "      <th rowspan=\"2\" valign=\"top\">232979603</th>\n",
       "      <th>A</th>\n",
       "      <th>2019-08-31</th>\n",
       "      <td>60</td>\n",
       "    </tr>\n",
       "    <tr>\n",
       "      <th>B</th>\n",
       "      <th>2019-08-31</th>\n",
       "      <td>2640</td>\n",
       "    </tr>\n",
       "    <tr>\n",
       "      <th rowspan=\"5\" valign=\"top\">237748145</th>\n",
       "      <th rowspan=\"4\" valign=\"top\">A</th>\n",
       "      <th>2019-08-12</th>\n",
       "      <td>340</td>\n",
       "    </tr>\n",
       "    <tr>\n",
       "      <th>2019-08-15</th>\n",
       "      <td>1090</td>\n",
       "    </tr>\n",
       "    <tr>\n",
       "      <th>2019-08-20</th>\n",
       "      <td>1290</td>\n",
       "    </tr>\n",
       "    <tr>\n",
       "      <th>2019-08-27</th>\n",
       "      <td>470</td>\n",
       "    </tr>\n",
       "    <tr>\n",
       "      <th>B</th>\n",
       "      <th>2019-08-15</th>\n",
       "      <td>7620</td>\n",
       "    </tr>\n",
       "    <tr>\n",
       "      <th>276558944</th>\n",
       "      <th>A</th>\n",
       "      <th>2019-08-12</th>\n",
       "      <td>5050</td>\n",
       "    </tr>\n",
       "  </tbody>\n",
       "</table>\n",
       "</div>"
      ],
      "text/plain": [
       "                             revenue\n",
       "visitor_id group date               \n",
       "8300375    A     2019-08-07     1790\n",
       "           B     2019-08-01    10510\n",
       "199603092  A     2019-08-12     6438\n",
       "                 2019-08-15     3488\n",
       "                 2019-08-22     6976\n",
       "                 2019-08-27     2790\n",
       "           B     2019-08-02     3488\n",
       "232979603  A     2019-08-31       60\n",
       "           B     2019-08-31     2640\n",
       "237748145  A     2019-08-12      340\n",
       "                 2019-08-15     1090\n",
       "                 2019-08-20     1290\n",
       "                 2019-08-27      470\n",
       "           B     2019-08-15     7620\n",
       "276558944  A     2019-08-12     5050"
      ]
     },
     "execution_count": 31,
     "metadata": {},
     "output_type": "execute_result"
    }
   ],
   "source": [
    "# проверяем группы у дубликатов по дням\n",
    "\n",
    "orders.query('visitor_id in @duplicates')\\\n",
    "      .pivot_table(index=['visitor_id', 'group', 'date'], values='revenue', aggfunc='sum').head(15)"
   ]
  },
  {
   "cell_type": "code",
   "execution_count": 32,
   "id": "337506f8-5825-4980-af48-945a8b0c9cc3",
   "metadata": {},
   "outputs": [],
   "source": [
    "# создаем таблицу без дубликатов\n",
    "orders_wo_dupl = orders[orders['visitor_id'].isin(duplicates) == False]"
   ]
  },
  {
   "cell_type": "code",
   "execution_count": 33,
   "id": "20191585-2b49-476b-9deb-e3cb6580b224",
   "metadata": {},
   "outputs": [
    {
     "data": {
      "text/plain": [
       "array([], dtype=int64)"
      ]
     },
     "execution_count": 33,
     "metadata": {},
     "output_type": "execute_result"
    }
   ],
   "source": [
    "# проверка дубликатов после удаления\n",
    "np.intersect1d(orders_wo_dupl.query('group == \"A\"')['visitor_id'], orders_wo_dupl.query('group == \"B\"')['visitor_id'])"
   ]
  },
  {
   "cell_type": "code",
   "execution_count": 34,
   "id": "fca3169b-918c-4454-bf98-6273ced42457",
   "metadata": {},
   "outputs": [
    {
     "data": {
      "text/html": [
       "<div>\n",
       "<style scoped>\n",
       "    .dataframe tbody tr th:only-of-type {\n",
       "        vertical-align: middle;\n",
       "    }\n",
       "\n",
       "    .dataframe tbody tr th {\n",
       "        vertical-align: top;\n",
       "    }\n",
       "\n",
       "    .dataframe thead th {\n",
       "        text-align: right;\n",
       "    }\n",
       "</style>\n",
       "<table border=\"1\" class=\"dataframe\">\n",
       "  <thead>\n",
       "    <tr style=\"text-align: right;\">\n",
       "      <th></th>\n",
       "      <th>Количество уникальных покупателей в группах исходный файл</th>\n",
       "    </tr>\n",
       "    <tr>\n",
       "      <th>group</th>\n",
       "      <th></th>\n",
       "    </tr>\n",
       "  </thead>\n",
       "  <tbody>\n",
       "    <tr>\n",
       "      <th>A</th>\n",
       "      <td>503</td>\n",
       "    </tr>\n",
       "    <tr>\n",
       "      <th>B</th>\n",
       "      <td>586</td>\n",
       "    </tr>\n",
       "  </tbody>\n",
       "</table>\n",
       "</div>"
      ],
      "text/plain": [
       "       Количество уникальных покупателей в группах исходный файл\n",
       "group                                                           \n",
       "A                                                    503        \n",
       "B                                                    586        "
      ]
     },
     "execution_count": 34,
     "metadata": {},
     "output_type": "execute_result"
    }
   ],
   "source": [
    "orders.pivot_table(index='group', values='visitor_id', aggfunc='nunique')\\\n",
    "      .rename(columns= {'visitor_id': 'Количество уникальных покупателей в группах исходный файл'})"
   ]
  },
  {
   "cell_type": "code",
   "execution_count": 35,
   "id": "f26784d3-d44b-4426-a19e-bc837e573f69",
   "metadata": {},
   "outputs": [
    {
     "data": {
      "text/html": [
       "<div>\n",
       "<style scoped>\n",
       "    .dataframe tbody tr th:only-of-type {\n",
       "        vertical-align: middle;\n",
       "    }\n",
       "\n",
       "    .dataframe tbody tr th {\n",
       "        vertical-align: top;\n",
       "    }\n",
       "\n",
       "    .dataframe thead th {\n",
       "        text-align: right;\n",
       "    }\n",
       "</style>\n",
       "<table border=\"1\" class=\"dataframe\">\n",
       "  <thead>\n",
       "    <tr style=\"text-align: right;\">\n",
       "      <th></th>\n",
       "      <th>Количество уникальных покупателей в группах после удаления дубликатов</th>\n",
       "    </tr>\n",
       "    <tr>\n",
       "      <th>group</th>\n",
       "      <th></th>\n",
       "    </tr>\n",
       "  </thead>\n",
       "  <tbody>\n",
       "    <tr>\n",
       "      <th>A</th>\n",
       "      <td>445</td>\n",
       "    </tr>\n",
       "    <tr>\n",
       "      <th>B</th>\n",
       "      <td>528</td>\n",
       "    </tr>\n",
       "  </tbody>\n",
       "</table>\n",
       "</div>"
      ],
      "text/plain": [
       "       Количество уникальных покупателей в группах после удаления дубликатов\n",
       "group                                                                       \n",
       "A                                                    445                    \n",
       "B                                                    528                    "
      ]
     },
     "execution_count": 35,
     "metadata": {},
     "output_type": "execute_result"
    }
   ],
   "source": [
    "orders_wo_dupl.pivot_table(index='group', values='visitor_id', aggfunc='nunique')\\\n",
    "            .rename(columns= {'visitor_id': 'Количество уникальных покупателей в группах после удаления дубликатов'})"
   ]
  },
  {
   "cell_type": "markdown",
   "id": "e7c291a3-b529-4c54-bc13-fff4218a0faa",
   "metadata": {},
   "source": [
    "<div style=\"border:solid green 2px; padding: 20px\">\n",
    "\n",
    "Есть дубликаты пользователей в файле с заказами в разных группах:\n",
    "* 58 пользователей попали и в группу А и в группу В.\n",
    "* Доля дубликатов пользователей 5.3%.\n",
    "* Пользователь попадал в разные группы даже в один день. Необходимо уточнить у ответственного сотрудника, как происходило деление по группам, чтобы в дальнейшем понимать, как действовать с такой аномалией.\n",
    "\n",
    "Как мы знаем, пользователи в группах должны быть уникальны для чистоты теста. Поэтому мы удалили дублирующихся пользователей для последующего анализа данных.\n",
    "\n",
    "\n",
    "| group      | Количество уникальных покупателей в группах после удаления дубликатов   | \n",
    "|:-----------|:-----------------------------------------------------------------------:| \n",
    "|А           | 445                                                                     | \n",
    "|В           | 528                                                                     |  \n",
    "|**TOTAL**   | **973**                                                                 |    \n",
    "\n",
    "\n",
    "\n",
    "</div>"
   ]
  },
  {
   "cell_type": "markdown",
   "id": "b99af5ac-5092-4df7-b5f9-3f607d16ff81",
   "metadata": {},
   "source": [
    "[Начало_проекта](#Начало_проекта)"
   ]
  },
  {
   "cell_type": "markdown",
   "id": "591778d3-3e42-49dc-9cf4-c858f847c23a",
   "metadata": {},
   "source": [
    "<a id=\"анализ\"></a>"
   ]
  },
  {
   "cell_type": "markdown",
   "id": "6668dc0d-2ebd-4ceb-a501-8e5896a4bdf6",
   "metadata": {},
   "source": [
    "## Анализ A/B-теста"
   ]
  },
  {
   "cell_type": "markdown",
   "id": "599a187d-36ff-4810-bc18-2989e04b1711",
   "metadata": {},
   "source": [
    "### Объединение таблиц"
   ]
  },
  {
   "cell_type": "markdown",
   "id": "5ae8c635-9db6-44b7-9b20-68a89822f78a",
   "metadata": {},
   "source": [
    "<div style=\"border:solid black 2px; padding: 20px\">\n",
    "    \n",
    "Объединим таблицы orders (без дубликатов) и visitors в одну.\n",
    "\n",
    "</div>"
   ]
  },
  {
   "cell_type": "code",
   "execution_count": 36,
   "id": "fd67e201-ed97-48de-a7f8-9f64b221ef49",
   "metadata": {},
   "outputs": [
    {
     "data": {
      "text/html": [
       "<div>\n",
       "<style scoped>\n",
       "    .dataframe tbody tr th:only-of-type {\n",
       "        vertical-align: middle;\n",
       "    }\n",
       "\n",
       "    .dataframe tbody tr th {\n",
       "        vertical-align: top;\n",
       "    }\n",
       "\n",
       "    .dataframe thead th {\n",
       "        text-align: right;\n",
       "    }\n",
       "</style>\n",
       "<table border=\"1\" class=\"dataframe\">\n",
       "  <thead>\n",
       "    <tr style=\"text-align: right;\">\n",
       "      <th></th>\n",
       "      <th>date</th>\n",
       "      <th>group</th>\n",
       "      <th>orders</th>\n",
       "      <th>buyers</th>\n",
       "      <th>revenue</th>\n",
       "      <th>visitors</th>\n",
       "    </tr>\n",
       "  </thead>\n",
       "  <tbody>\n",
       "    <tr>\n",
       "      <th>0</th>\n",
       "      <td>2019-08-01</td>\n",
       "      <td>A</td>\n",
       "      <td>23</td>\n",
       "      <td>19</td>\n",
       "      <td>142779</td>\n",
       "      <td>719</td>\n",
       "    </tr>\n",
       "    <tr>\n",
       "      <th>1</th>\n",
       "      <td>2019-08-01</td>\n",
       "      <td>B</td>\n",
       "      <td>17</td>\n",
       "      <td>17</td>\n",
       "      <td>59758</td>\n",
       "      <td>713</td>\n",
       "    </tr>\n",
       "    <tr>\n",
       "      <th>2</th>\n",
       "      <td>2019-08-02</td>\n",
       "      <td>A</td>\n",
       "      <td>42</td>\n",
       "      <td>36</td>\n",
       "      <td>234381</td>\n",
       "      <td>1338</td>\n",
       "    </tr>\n",
       "    <tr>\n",
       "      <th>3</th>\n",
       "      <td>2019-08-02</td>\n",
       "      <td>B</td>\n",
       "      <td>40</td>\n",
       "      <td>39</td>\n",
       "      <td>221801</td>\n",
       "      <td>1294</td>\n",
       "    </tr>\n",
       "    <tr>\n",
       "      <th>4</th>\n",
       "      <td>2019-08-03</td>\n",
       "      <td>A</td>\n",
       "      <td>66</td>\n",
       "      <td>60</td>\n",
       "      <td>346854</td>\n",
       "      <td>1845</td>\n",
       "    </tr>\n",
       "  </tbody>\n",
       "</table>\n",
       "</div>"
      ],
      "text/plain": [
       "        date group  orders  buyers  revenue  visitors\n",
       "0 2019-08-01     A      23      19   142779       719\n",
       "1 2019-08-01     B      17      17    59758       713\n",
       "2 2019-08-02     A      42      36   234381      1338\n",
       "3 2019-08-02     B      40      39   221801      1294\n",
       "4 2019-08-03     A      66      60   346854      1845"
      ]
     },
     "execution_count": 36,
     "metadata": {},
     "output_type": "execute_result"
    }
   ],
   "source": [
    "# создаем массив уникальных пар значений дат и групп теста\n",
    "datesGroups = orders[['date','group']].drop_duplicates()\n",
    "\n",
    "# получаем агрегированные кумулятивные по дням данные о заказах \n",
    "ordersAggregated = datesGroups.apply(lambda x: orders_wo_dupl[np.logical_and(orders_wo_dupl['date'] <= x['date'],\n",
    "                                                                             orders_wo_dupl['group'] == x['group'])]\\\n",
    "                              .agg({'date':'max','group':'max','transaction_id':'nunique',\n",
    "                                    'visitor_id':'nunique','revenue':'sum'}), axis=1)\\\n",
    "                              .sort_values(by=['date','group'])\n",
    "\n",
    "# получаем агрегированные кумулятивные по дням данные о посетителях интернет-магазина \n",
    "visitorsAggregated = datesGroups.apply(lambda x: visitors[np.logical_and(visitors['date'] <= x['date'],\n",
    "                                                                         visitors['group'] == x['group'])]\\\n",
    "                                .agg({'date':'max','group':'max','visitors':'sum'}), axis=1)\\\n",
    "                                .sort_values(by=['date','group'])\n",
    "\n",
    "# объединяем кумулятивные данные в одной таблице и присваиваем ее столбцам понятные названия\n",
    "cumulativeData = ordersAggregated.merge(visitorsAggregated, left_on=['date', 'group'], right_on=['date', 'group'])\n",
    "cumulativeData.columns = ['date', 'group', 'orders', 'buyers', 'revenue', 'visitors']\n",
    "\n",
    "cumulativeData.head()"
   ]
  },
  {
   "cell_type": "code",
   "execution_count": 37,
   "id": "b404d0c7",
   "metadata": {},
   "outputs": [
    {
     "name": "stdout",
     "output_type": "stream",
     "text": [
      "cumulativeData минимальная дата: 2019-08-01 00:00:00 , cumulativeData максимальная дата: 2019-08-31 00:00:00\n",
      "visitors минимальная дата: 2019-08-01 00:00:00 , visitors максимальная дата: 2019-08-31 00:00:00\n",
      "orders минимальная дата: 2019-08-01 00:00:00 , orders максимальная дата: 2019-08-31 00:00:00\n"
     ]
    }
   ],
   "source": [
    "# сверка по датам, что совпадают максимальная и минальная дата.\n",
    "\n",
    "print('cumulativeData минимальная дата:', cumulativeData['date'].min(),\n",
    "      ', cumulativeData максимальная дата:', cumulativeData['date'].max())\n",
    "\n",
    "print('visitors минимальная дата:', visitors['date'].min(),\n",
    "         ', visitors максимальная дата:', visitors['date'].max())\n",
    "\n",
    "print('orders минимальная дата:', orders_wo_dupl['date'].min(),\n",
    "      ', orders максимальная дата:', orders_wo_dupl['date'].max())"
   ]
  },
  {
   "cell_type": "markdown",
   "id": "5b37959b-51d7-4345-bf95-9cd95b932a82",
   "metadata": {},
   "source": [
    "### Графики кумулятивных значений"
   ]
  },
  {
   "cell_type": "markdown",
   "id": "cc0d26cc-2d59-4302-967b-9e01c165062d",
   "metadata": {},
   "source": [
    "#### График кумулятивной выручки по группам"
   ]
  },
  {
   "cell_type": "markdown",
   "id": "2f2488d1-5e27-4cd5-b182-cac36ec6fb44",
   "metadata": {},
   "source": [
    "<div style=\"border:solid black 2px; padding: 20px\">\n",
    "    \n",
    "Построим графики кумулятивной выручки по дням и группам A/B-тестирования. \n",
    "\n",
    "</div>"
   ]
  },
  {
   "cell_type": "code",
   "execution_count": 38,
   "id": "547b073b-f810-4783-a68a-b0fb5234c49f",
   "metadata": {},
   "outputs": [
    {
     "data": {
      "image/png": "[encoded data removed]",
      "text/plain": [
       "<Figure size 640x480 with 1 Axes>"
      ]
     },
     "metadata": {},
     "output_type": "display_data"
    }
   ],
   "source": [
    "# датафрейм с кумулятивным количеством заказов и кумулятивной выручкой по дням в группе А\n",
    "cumulativeRevenueA = cumulativeData[cumulativeData['group']=='A'][['date','revenue', 'orders']]\n",
    "\n",
    "# датафрейм с кумулятивным количеством заказов и кумулятивной выручкой по дням в группе B\n",
    "cumulativeRevenueB = cumulativeData[cumulativeData['group']=='B'][['date','revenue', 'orders']]\n",
    "\n",
    "# Строим график выручки группы А\n",
    "plt.plot(cumulativeRevenueA['date'], cumulativeRevenueA['revenue'], label='A')\n",
    "\n",
    "# Строим график выручки группы B\n",
    "plt.plot(cumulativeRevenueB['date'], cumulativeRevenueB['revenue'], label='B')\n",
    "\n",
    "plt.xticks(rotation=90)\n",
    "plt.title('График кумулятивной выручки по группам')\n",
    "plt.ylabel('Кумулятивная выручка')\n",
    "plt.xlabel('Дата')\n",
    "plt.legend()\n",
    "plt.show()"
   ]
  },
  {
   "cell_type": "code",
   "execution_count": 39,
   "id": "01e22c0b-1ec6-44e1-b981-92bfe7022b50",
   "metadata": {},
   "outputs": [
    {
     "data": {
      "text/html": [
       "<style type=\"text/css\">\n",
       "#T_259d8_row0_col0 {\n",
       "  background-color: #77b5d9;\n",
       "  color: #000000;\n",
       "}\n",
       "#T_259d8_row0_col1, #T_259d8_row27_col1 {\n",
       "  background-color: #f4f9fe;\n",
       "  color: #000000;\n",
       "}\n",
       "#T_259d8_row0_col2, #T_259d8_row26_col2 {\n",
       "  background-color: #083e81;\n",
       "  color: #f1f1f1;\n",
       "}\n",
       "#T_259d8_row0_col3, #T_259d8_row0_col5, #T_259d8_row9_col4, #T_259d8_row27_col4, #T_259d8_row30_col3, #T_259d8_row30_col5 {\n",
       "  background-color: #63a8d3;\n",
       "  color: #f1f1f1;\n",
       "}\n",
       "#T_259d8_row0_col4, #T_259d8_row4_col3, #T_259d8_row4_col5, #T_259d8_row11_col4, #T_259d8_row18_col3, #T_259d8_row20_col4, #T_259d8_row21_col3, #T_259d8_row21_col5, #T_259d8_row29_col3, #T_259d8_row29_col5 {\n",
       "  background-color: #2474b7;\n",
       "  color: #f1f1f1;\n",
       "}\n",
       "#T_259d8_row1_col0 {\n",
       "  background-color: #c7dbef;\n",
       "  color: #000000;\n",
       "}\n",
       "#T_259d8_row1_col1 {\n",
       "  background-color: #e5eff9;\n",
       "  color: #000000;\n",
       "}\n",
       "#T_259d8_row1_col2, #T_259d8_row11_col2 {\n",
       "  background-color: #2979b9;\n",
       "  color: #f1f1f1;\n",
       "}\n",
       "#T_259d8_row1_col3, #T_259d8_row5_col3, #T_259d8_row6_col3, #T_259d8_row6_col5, #T_259d8_row18_col4 {\n",
       "  background-color: #0e59a2;\n",
       "  color: #f1f1f1;\n",
       "}\n",
       "#T_259d8_row1_col4, #T_259d8_row12_col3, #T_259d8_row12_col5, #T_259d8_row15_col4, #T_259d8_row18_col5, #T_259d8_row19_col3, #T_259d8_row19_col5 {\n",
       "  background-color: #3282be;\n",
       "  color: #f1f1f1;\n",
       "}\n",
       "#T_259d8_row1_col5, #T_259d8_row5_col5, #T_259d8_row7_col3, #T_259d8_row7_col5, #T_259d8_row9_col3, #T_259d8_row9_col5, #T_259d8_row22_col4, #T_259d8_row25_col3, #T_259d8_row25_col5, #T_259d8_row27_col3, #T_259d8_row27_col5 {\n",
       "  background-color: #1966ad;\n",
       "  color: #f1f1f1;\n",
       "}\n",
       "#T_259d8_row2_col0 {\n",
       "  background-color: #aacfe5;\n",
       "  color: #000000;\n",
       "}\n",
       "#T_259d8_row2_col1 {\n",
       "  background-color: #f3f8fe;\n",
       "  color: #000000;\n",
       "}\n",
       "#T_259d8_row2_col2, #T_259d8_row2_col4, #T_259d8_row12_col0, #T_259d8_row14_col3, #T_259d8_row14_col5, #T_259d8_row18_col1 {\n",
       "  background-color: #08306b;\n",
       "  color: #f1f1f1;\n",
       "}\n",
       "#T_259d8_row2_col3, #T_259d8_row2_col5, #T_259d8_row3_col3, #T_259d8_row5_col4, #T_259d8_row13_col3, #T_259d8_row13_col5, #T_259d8_row23_col3, #T_259d8_row23_col5 {\n",
       "  background-color: #a0cbe2;\n",
       "  color: #000000;\n",
       "}\n",
       "#T_259d8_row3_col0, #T_259d8_row22_col1 {\n",
       "  background-color: #f2f7fd;\n",
       "  color: #000000;\n",
       "}\n",
       "#T_259d8_row3_col1, #T_259d8_row8_col1, #T_259d8_row9_col1, #T_259d8_row11_col1, #T_259d8_row28_col1 {\n",
       "  background-color: #eef5fc;\n",
       "  color: #000000;\n",
       "}\n",
       "#T_259d8_row3_col2, #T_259d8_row8_col2, #T_259d8_row10_col2 {\n",
       "  background-color: #bdd7ec;\n",
       "  color: #000000;\n",
       "}\n",
       "#T_259d8_row3_col4, #T_259d8_row3_col5, #T_259d8_row8_col4, #T_259d8_row10_col4, #T_259d8_row16_col3, #T_259d8_row16_col5, #T_259d8_row22_col3, #T_259d8_row22_col5 {\n",
       "  background-color: #b2d2e8;\n",
       "  color: #000000;\n",
       "}\n",
       "#T_259d8_row4_col0 {\n",
       "  background-color: #cbdef1;\n",
       "  color: #000000;\n",
       "}\n",
       "#T_259d8_row4_col1 {\n",
       "  background-color: #eff6fc;\n",
       "  color: #000000;\n",
       "}\n",
       "#T_259d8_row4_col2 {\n",
       "  background-color: #084d96;\n",
       "  color: #f1f1f1;\n",
       "}\n",
       "#T_259d8_row4_col4 {\n",
       "  background-color: #084b93;\n",
       "  color: #f1f1f1;\n",
       "}\n",
       "#T_259d8_row5_col0 {\n",
       "  background-color: #f2f8fd;\n",
       "  color: #000000;\n",
       "}\n",
       "#T_259d8_row5_col1 {\n",
       "  background-color: #deebf7;\n",
       "  color: #000000;\n",
       "}\n",
       "#T_259d8_row5_col2, #T_259d8_row9_col2, #T_259d8_row27_col2 {\n",
       "  background-color: #6aaed6;\n",
       "  color: #f1f1f1;\n",
       "}\n",
       "#T_259d8_row6_col0 {\n",
       "  background-color: #9ac8e0;\n",
       "  color: #000000;\n",
       "}\n",
       "#T_259d8_row6_col1 {\n",
       "  background-color: #ddeaf7;\n",
       "  color: #000000;\n",
       "}\n",
       "#T_259d8_row6_col2, #T_259d8_row25_col2 {\n",
       "  background-color: #58a1cf;\n",
       "  color: #f1f1f1;\n",
       "}\n",
       "#T_259d8_row6_col4, #T_259d8_row15_col3, #T_259d8_row15_col5, #T_259d8_row25_col4 {\n",
       "  background-color: #519ccc;\n",
       "  color: #f1f1f1;\n",
       "}\n",
       "#T_259d8_row7_col0 {\n",
       "  background-color: #c9ddf0;\n",
       "  color: #000000;\n",
       "}\n",
       "#T_259d8_row7_col1 {\n",
       "  background-color: #e7f0fa;\n",
       "  color: #000000;\n",
       "}\n",
       "#T_259d8_row7_col2, #T_259d8_row12_col2 {\n",
       "  background-color: #82bbdb;\n",
       "  color: #000000;\n",
       "}\n",
       "#T_259d8_row7_col4, #T_259d8_row12_col4 {\n",
       "  background-color: #75b4d8;\n",
       "  color: #000000;\n",
       "}\n",
       "#T_259d8_row8_col0 {\n",
       "  background-color: #85bcdc;\n",
       "  color: #000000;\n",
       "}\n",
       "#T_259d8_row8_col3, #T_259d8_row8_col5, #T_259d8_row11_col3, #T_259d8_row11_col5, #T_259d8_row13_col4, #T_259d8_row28_col4 {\n",
       "  background-color: #4090c5;\n",
       "  color: #f1f1f1;\n",
       "}\n",
       "#T_259d8_row9_col0 {\n",
       "  background-color: #66abd4;\n",
       "  color: #f1f1f1;\n",
       "}\n",
       "#T_259d8_row10_col0, #T_259d8_row24_col2, #T_259d8_row30_col2 {\n",
       "  background-color: #e1edf8;\n",
       "  color: #000000;\n",
       "}\n",
       "#T_259d8_row10_col1 {\n",
       "  background-color: #f5f9fe;\n",
       "  color: #000000;\n",
       "}\n",
       "#T_259d8_row10_col3, #T_259d8_row10_col5, #T_259d8_row14_col4, #T_259d8_row19_col4, #T_259d8_row20_col3, #T_259d8_row20_col5, #T_259d8_row21_col4, #T_259d8_row24_col3, #T_259d8_row24_col5 {\n",
       "  background-color: #c2d9ee;\n",
       "  color: #000000;\n",
       "}\n",
       "#T_259d8_row11_col0 {\n",
       "  background-color: #1561a9;\n",
       "  color: #f1f1f1;\n",
       "}\n",
       "#T_259d8_row12_col1 {\n",
       "  background-color: #ebf3fb;\n",
       "  color: #000000;\n",
       "}\n",
       "#T_259d8_row13_col0, #T_259d8_row23_col1 {\n",
       "  background-color: #f0f6fd;\n",
       "  color: #000000;\n",
       "}\n",
       "#T_259d8_row13_col1, #T_259d8_row26_col1 {\n",
       "  background-color: #edf4fc;\n",
       "  color: #000000;\n",
       "}\n",
       "#T_259d8_row13_col2, #T_259d8_row28_col2 {\n",
       "  background-color: #4695c8;\n",
       "  color: #f1f1f1;\n",
       "}\n",
       "#T_259d8_row14_col0 {\n",
       "  background-color: #d0e1f2;\n",
       "  color: #000000;\n",
       "}\n",
       "#T_259d8_row14_col1 {\n",
       "  background-color: #d0e2f2;\n",
       "  color: #000000;\n",
       "}\n",
       "#T_259d8_row14_col2, #T_259d8_row19_col2, #T_259d8_row21_col2 {\n",
       "  background-color: #ccdff1;\n",
       "  color: #000000;\n",
       "}\n",
       "#T_259d8_row15_col0 {\n",
       "  background-color: #bcd7eb;\n",
       "  color: #000000;\n",
       "}\n",
       "#T_259d8_row15_col1, #T_259d8_row30_col1 {\n",
       "  background-color: #ecf4fb;\n",
       "  color: #000000;\n",
       "}\n",
       "#T_259d8_row15_col2 {\n",
       "  background-color: #3787c0;\n",
       "  color: #f1f1f1;\n",
       "}\n",
       "#T_259d8_row16_col0, #T_259d8_row16_col2, #T_259d8_row16_col4, #T_259d8_row17_col1, #T_259d8_row17_col3, #T_259d8_row17_col5 {\n",
       "  background-color: #f7fbff;\n",
       "  color: #000000;\n",
       "}\n",
       "#T_259d8_row16_col1, #T_259d8_row24_col1 {\n",
       "  background-color: #f1f7fd;\n",
       "  color: #000000;\n",
       "}\n",
       "#T_259d8_row17_col0 {\n",
       "  background-color: #e2edf8;\n",
       "  color: #000000;\n",
       "}\n",
       "#T_259d8_row17_col2, #T_259d8_row23_col2 {\n",
       "  background-color: #99c7e0;\n",
       "  color: #000000;\n",
       "}\n",
       "#T_259d8_row17_col4, #T_259d8_row23_col4, #T_259d8_row28_col3, #T_259d8_row28_col5 {\n",
       "  background-color: #8cc0dd;\n",
       "  color: #000000;\n",
       "}\n",
       "#T_259d8_row18_col0 {\n",
       "  background-color: #4f9bcb;\n",
       "  color: #f1f1f1;\n",
       "}\n",
       "#T_259d8_row18_col2 {\n",
       "  background-color: #105ba4;\n",
       "  color: #f1f1f1;\n",
       "}\n",
       "#T_259d8_row19_col0 {\n",
       "  background-color: #e3eef8;\n",
       "  color: #000000;\n",
       "}\n",
       "#T_259d8_row19_col1, #T_259d8_row30_col0 {\n",
       "  background-color: #e7f1fa;\n",
       "  color: #000000;\n",
       "}\n",
       "#T_259d8_row20_col0 {\n",
       "  background-color: #4d99ca;\n",
       "  color: #f1f1f1;\n",
       "}\n",
       "#T_259d8_row20_col1, #T_259d8_row21_col1, #T_259d8_row24_col0 {\n",
       "  background-color: #e8f1fa;\n",
       "  color: #000000;\n",
       "}\n",
       "#T_259d8_row20_col2, #T_259d8_row22_col2 {\n",
       "  background-color: #1b69af;\n",
       "  color: #f1f1f1;\n",
       "}\n",
       "#T_259d8_row21_col0 {\n",
       "  background-color: #c6dbef;\n",
       "  color: #000000;\n",
       "}\n",
       "#T_259d8_row22_col0, #T_259d8_row25_col1 {\n",
       "  background-color: #e3eef9;\n",
       "  color: #000000;\n",
       "}\n",
       "#T_259d8_row23_col0 {\n",
       "  background-color: #9cc9e1;\n",
       "  color: #000000;\n",
       "}\n",
       "#T_259d8_row24_col4, #T_259d8_row29_col4, #T_259d8_row30_col4 {\n",
       "  background-color: #d8e7f5;\n",
       "  color: #000000;\n",
       "}\n",
       "#T_259d8_row25_col0 {\n",
       "  background-color: #60a7d2;\n",
       "  color: #f1f1f1;\n",
       "}\n",
       "#T_259d8_row26_col0 {\n",
       "  background-color: #3989c1;\n",
       "  color: #f1f1f1;\n",
       "}\n",
       "#T_259d8_row26_col3, #T_259d8_row26_col5 {\n",
       "  background-color: #cee0f2;\n",
       "  color: #000000;\n",
       "}\n",
       "#T_259d8_row26_col4 {\n",
       "  background-color: #083d7f;\n",
       "  color: #f1f1f1;\n",
       "}\n",
       "#T_259d8_row27_col0 {\n",
       "  background-color: #bfd8ed;\n",
       "  color: #000000;\n",
       "}\n",
       "#T_259d8_row28_col0 {\n",
       "  background-color: #2d7dbb;\n",
       "  color: #f1f1f1;\n",
       "}\n",
       "#T_259d8_row29_col0 {\n",
       "  background-color: #d2e3f3;\n",
       "  color: #000000;\n",
       "}\n",
       "#T_259d8_row29_col1 {\n",
       "  background-color: #dfebf7;\n",
       "  color: #000000;\n",
       "}\n",
       "#T_259d8_row29_col2 {\n",
       "  background-color: #d6e6f4;\n",
       "  color: #000000;\n",
       "}\n",
       "</style>\n",
       "<table id=\"T_259d8\">\n",
       "  <caption>Продажи, количество заказов, количество покупателей по дням в разрезе групп</caption>\n",
       "  <thead>\n",
       "    <tr>\n",
       "      <th class=\"blank level0\" >&nbsp;</th>\n",
       "      <th id=\"T_259d8_level0_col0\" class=\"col_heading level0 col0\" colspan=\"2\">revenue</th>\n",
       "      <th id=\"T_259d8_level0_col2\" class=\"col_heading level0 col2\" colspan=\"2\">transaction_id</th>\n",
       "      <th id=\"T_259d8_level0_col4\" class=\"col_heading level0 col4\" colspan=\"2\">visitor_id</th>\n",
       "    </tr>\n",
       "    <tr>\n",
       "      <th class=\"index_name level1\" >group</th>\n",
       "      <th id=\"T_259d8_level1_col0\" class=\"col_heading level1 col0\" >A</th>\n",
       "      <th id=\"T_259d8_level1_col1\" class=\"col_heading level1 col1\" >B</th>\n",
       "      <th id=\"T_259d8_level1_col2\" class=\"col_heading level1 col2\" >A</th>\n",
       "      <th id=\"T_259d8_level1_col3\" class=\"col_heading level1 col3\" >B</th>\n",
       "      <th id=\"T_259d8_level1_col4\" class=\"col_heading level1 col4\" >A</th>\n",
       "      <th id=\"T_259d8_level1_col5\" class=\"col_heading level1 col5\" >B</th>\n",
       "    </tr>\n",
       "    <tr>\n",
       "      <th class=\"index_name level0\" >date</th>\n",
       "      <th class=\"blank col0\" >&nbsp;</th>\n",
       "      <th class=\"blank col1\" >&nbsp;</th>\n",
       "      <th class=\"blank col2\" >&nbsp;</th>\n",
       "      <th class=\"blank col3\" >&nbsp;</th>\n",
       "      <th class=\"blank col4\" >&nbsp;</th>\n",
       "      <th class=\"blank col5\" >&nbsp;</th>\n",
       "    </tr>\n",
       "  </thead>\n",
       "  <tbody>\n",
       "    <tr>\n",
       "      <th id=\"T_259d8_level0_row0\" class=\"row_heading level0 row0\" >2019-08-01 00:00:00</th>\n",
       "      <td id=\"T_259d8_row0_col0\" class=\"data row0 col0\" >142779.0</td>\n",
       "      <td id=\"T_259d8_row0_col1\" class=\"data row0 col1\" >59758.0</td>\n",
       "      <td id=\"T_259d8_row0_col2\" class=\"data row0 col2\" >23.0</td>\n",
       "      <td id=\"T_259d8_row0_col3\" class=\"data row0 col3\" >17.0</td>\n",
       "      <td id=\"T_259d8_row0_col4\" class=\"data row0 col4\" >19.0</td>\n",
       "      <td id=\"T_259d8_row0_col5\" class=\"data row0 col5\" >17.0</td>\n",
       "    </tr>\n",
       "    <tr>\n",
       "      <th id=\"T_259d8_level0_row1\" class=\"row_heading level0 row1\" >2019-08-02 00:00:00</th>\n",
       "      <td id=\"T_259d8_row1_col0\" class=\"data row1 col0\" >91602.0</td>\n",
       "      <td id=\"T_259d8_row1_col1\" class=\"data row1 col1\" >162043.0</td>\n",
       "      <td id=\"T_259d8_row1_col2\" class=\"data row1 col2\" >19.0</td>\n",
       "      <td id=\"T_259d8_row1_col3\" class=\"data row1 col3\" >23.0</td>\n",
       "      <td id=\"T_259d8_row1_col4\" class=\"data row1 col4\" >18.0</td>\n",
       "      <td id=\"T_259d8_row1_col5\" class=\"data row1 col5\" >22.0</td>\n",
       "    </tr>\n",
       "    <tr>\n",
       "      <th id=\"T_259d8_level0_row2\" class=\"row_heading level0 row2\" >2019-08-03 00:00:00</th>\n",
       "      <td id=\"T_259d8_row2_col0\" class=\"data row2 col0\" >112473.0</td>\n",
       "      <td id=\"T_259d8_row2_col1\" class=\"data row2 col1\" >67049.0</td>\n",
       "      <td id=\"T_259d8_row2_col2\" class=\"data row2 col2\" >24.0</td>\n",
       "      <td id=\"T_259d8_row2_col3\" class=\"data row2 col3\" >14.0</td>\n",
       "      <td id=\"T_259d8_row2_col4\" class=\"data row2 col4\" >24.0</td>\n",
       "      <td id=\"T_259d8_row2_col5\" class=\"data row2 col5\" >14.0</td>\n",
       "    </tr>\n",
       "    <tr>\n",
       "      <th id=\"T_259d8_level0_row3\" class=\"row_heading level0 row3\" >2019-08-04 00:00:00</th>\n",
       "      <td id=\"T_259d8_row3_col0\" class=\"data row3 col0\" >41176.0</td>\n",
       "      <td id=\"T_259d8_row3_col1\" class=\"data row3 col1\" >96890.0</td>\n",
       "      <td id=\"T_259d8_row3_col2\" class=\"data row3 col2\" >11.0</td>\n",
       "      <td id=\"T_259d8_row3_col3\" class=\"data row3 col3\" >14.0</td>\n",
       "      <td id=\"T_259d8_row3_col4\" class=\"data row3 col4\" >11.0</td>\n",
       "      <td id=\"T_259d8_row3_col5\" class=\"data row3 col5\" >13.0</td>\n",
       "    </tr>\n",
       "    <tr>\n",
       "      <th id=\"T_259d8_level0_row4\" class=\"row_heading level0 row4\" >2019-08-05 00:00:00</th>\n",
       "      <td id=\"T_259d8_row4_col0\" class=\"data row4 col0\" >86383.0</td>\n",
       "      <td id=\"T_259d8_row4_col1\" class=\"data row4 col1\" >89908.0</td>\n",
       "      <td id=\"T_259d8_row4_col2\" class=\"data row4 col2\" >22.0</td>\n",
       "      <td id=\"T_259d8_row4_col3\" class=\"data row4 col3\" >21.0</td>\n",
       "      <td id=\"T_259d8_row4_col4\" class=\"data row4 col4\" >22.0</td>\n",
       "      <td id=\"T_259d8_row4_col5\" class=\"data row4 col5\" >21.0</td>\n",
       "    </tr>\n",
       "    <tr>\n",
       "      <th id=\"T_259d8_level0_row5\" class=\"row_heading level0 row5\" >2019-08-06 00:00:00</th>\n",
       "      <td id=\"T_259d8_row5_col0\" class=\"data row5 col0\" >40919.0</td>\n",
       "      <td id=\"T_259d8_row5_col1\" class=\"data row5 col1\" >214842.0</td>\n",
       "      <td id=\"T_259d8_row5_col2\" class=\"data row5 col2\" >15.0</td>\n",
       "      <td id=\"T_259d8_row5_col3\" class=\"data row5 col3\" >23.0</td>\n",
       "      <td id=\"T_259d8_row5_col4\" class=\"data row5 col4\" >12.0</td>\n",
       "      <td id=\"T_259d8_row5_col5\" class=\"data row5 col5\" >22.0</td>\n",
       "    </tr>\n",
       "    <tr>\n",
       "      <th id=\"T_259d8_level0_row6\" class=\"row_heading level0 row6\" >2019-08-07 00:00:00</th>\n",
       "      <td id=\"T_259d8_row6_col0\" class=\"data row6 col0\" >123248.0</td>\n",
       "      <td id=\"T_259d8_row6_col1\" class=\"data row6 col1\" >219164.0</td>\n",
       "      <td id=\"T_259d8_row6_col2\" class=\"data row6 col2\" >16.0</td>\n",
       "      <td id=\"T_259d8_row6_col3\" class=\"data row6 col3\" >23.0</td>\n",
       "      <td id=\"T_259d8_row6_col4\" class=\"data row6 col4\" >16.0</td>\n",
       "      <td id=\"T_259d8_row6_col5\" class=\"data row6 col5\" >23.0</td>\n",
       "    </tr>\n",
       "    <tr>\n",
       "      <th id=\"T_259d8_level0_row7\" class=\"row_heading level0 row7\" >2019-08-08 00:00:00</th>\n",
       "      <td id=\"T_259d8_row7_col0\" class=\"data row7 col0\" >88639.0</td>\n",
       "      <td id=\"T_259d8_row7_col1\" class=\"data row7 col1\" >150141.0</td>\n",
       "      <td id=\"T_259d8_row7_col2\" class=\"data row7 col2\" >14.0</td>\n",
       "      <td id=\"T_259d8_row7_col3\" class=\"data row7 col3\" >22.0</td>\n",
       "      <td id=\"T_259d8_row7_col4\" class=\"data row7 col4\" >14.0</td>\n",
       "      <td id=\"T_259d8_row7_col5\" class=\"data row7 col5\" >22.0</td>\n",
       "    </tr>\n",
       "    <tr>\n",
       "      <th id=\"T_259d8_level0_row8\" class=\"row_heading level0 row8\" >2019-08-09 00:00:00</th>\n",
       "      <td id=\"T_259d8_row8_col0\" class=\"data row8 col0\" >134237.0</td>\n",
       "      <td id=\"T_259d8_row8_col1\" class=\"data row8 col1\" >103166.0</td>\n",
       "      <td id=\"T_259d8_row8_col2\" class=\"data row8 col2\" >11.0</td>\n",
       "      <td id=\"T_259d8_row8_col3\" class=\"data row8 col3\" >19.0</td>\n",
       "      <td id=\"T_259d8_row8_col4\" class=\"data row8 col4\" >11.0</td>\n",
       "      <td id=\"T_259d8_row8_col5\" class=\"data row8 col5\" >19.0</td>\n",
       "    </tr>\n",
       "    <tr>\n",
       "      <th id=\"T_259d8_level0_row9\" class=\"row_heading level0 row9\" >2019-08-10 00:00:00</th>\n",
       "      <td id=\"T_259d8_row9_col0\" class=\"data row9 col0\" >152275.0</td>\n",
       "      <td id=\"T_259d8_row9_col1\" class=\"data row9 col1\" >105162.0</td>\n",
       "      <td id=\"T_259d8_row9_col2\" class=\"data row9 col2\" >15.0</td>\n",
       "      <td id=\"T_259d8_row9_col3\" class=\"data row9 col3\" >22.0</td>\n",
       "      <td id=\"T_259d8_row9_col4\" class=\"data row9 col4\" >15.0</td>\n",
       "      <td id=\"T_259d8_row9_col5\" class=\"data row9 col5\" >22.0</td>\n",
       "    </tr>\n",
       "    <tr>\n",
       "      <th id=\"T_259d8_level0_row10\" class=\"row_heading level0 row10\" >2019-08-11 00:00:00</th>\n",
       "      <td id=\"T_259d8_row10_col0\" class=\"data row10 col0\" >60665.0</td>\n",
       "      <td id=\"T_259d8_row10_col1\" class=\"data row10 col1\" >53060.0</td>\n",
       "      <td id=\"T_259d8_row10_col2\" class=\"data row10 col2\" >11.0</td>\n",
       "      <td id=\"T_259d8_row10_col3\" class=\"data row10 col3\" >12.0</td>\n",
       "      <td id=\"T_259d8_row10_col4\" class=\"data row10 col4\" >11.0</td>\n",
       "      <td id=\"T_259d8_row10_col5\" class=\"data row10 col5\" >12.0</td>\n",
       "    </tr>\n",
       "    <tr>\n",
       "      <th id=\"T_259d8_level0_row11\" class=\"row_heading level0 row11\" >2019-08-12 00:00:00</th>\n",
       "      <td id=\"T_259d8_row11_col0\" class=\"data row11 col0\" >220392.0</td>\n",
       "      <td id=\"T_259d8_row11_col1\" class=\"data row11 col1\" >104054.0</td>\n",
       "      <td id=\"T_259d8_row11_col2\" class=\"data row11 col2\" >19.0</td>\n",
       "      <td id=\"T_259d8_row11_col3\" class=\"data row11 col3\" >19.0</td>\n",
       "      <td id=\"T_259d8_row11_col4\" class=\"data row11 col4\" >19.0</td>\n",
       "      <td id=\"T_259d8_row11_col5\" class=\"data row11 col5\" >19.0</td>\n",
       "    </tr>\n",
       "    <tr>\n",
       "      <th id=\"T_259d8_level0_row12\" class=\"row_heading level0 row12\" >2019-08-13 00:00:00</th>\n",
       "      <td id=\"T_259d8_row12_col0\" class=\"data row12 col0\" >263638.0</td>\n",
       "      <td id=\"T_259d8_row12_col1\" class=\"data row12 col1\" >117691.0</td>\n",
       "      <td id=\"T_259d8_row12_col2\" class=\"data row12 col2\" >14.0</td>\n",
       "      <td id=\"T_259d8_row12_col3\" class=\"data row12 col3\" >20.0</td>\n",
       "      <td id=\"T_259d8_row12_col4\" class=\"data row12 col4\" >14.0</td>\n",
       "      <td id=\"T_259d8_row12_col5\" class=\"data row12 col5\" >20.0</td>\n",
       "    </tr>\n",
       "    <tr>\n",
       "      <th id=\"T_259d8_level0_row13\" class=\"row_heading level0 row13\" >2019-08-14 00:00:00</th>\n",
       "      <td id=\"T_259d8_row13_col0\" class=\"data row13 col0\" >43266.0</td>\n",
       "      <td id=\"T_259d8_row13_col1\" class=\"data row13 col1\" >107340.0</td>\n",
       "      <td id=\"T_259d8_row13_col2\" class=\"data row13 col2\" >17.0</td>\n",
       "      <td id=\"T_259d8_row13_col3\" class=\"data row13 col3\" >14.0</td>\n",
       "      <td id=\"T_259d8_row13_col4\" class=\"data row13 col4\" >17.0</td>\n",
       "      <td id=\"T_259d8_row13_col5\" class=\"data row13 col5\" >14.0</td>\n",
       "    </tr>\n",
       "    <tr>\n",
       "      <th id=\"T_259d8_level0_row14\" class=\"row_heading level0 row14\" >2019-08-15 00:00:00</th>\n",
       "      <td id=\"T_259d8_row14_col0\" class=\"data row14 col0\" >80877.0</td>\n",
       "      <td id=\"T_259d8_row14_col1\" class=\"data row14 col1\" >310159.0</td>\n",
       "      <td id=\"T_259d8_row14_col2\" class=\"data row14 col2\" >10.0</td>\n",
       "      <td id=\"T_259d8_row14_col3\" class=\"data row14 col3\" >26.0</td>\n",
       "      <td id=\"T_259d8_row14_col4\" class=\"data row14 col4\" >10.0</td>\n",
       "      <td id=\"T_259d8_row14_col5\" class=\"data row14 col5\" >26.0</td>\n",
       "    </tr>\n",
       "    <tr>\n",
       "      <th id=\"T_259d8_level0_row15\" class=\"row_heading level0 row15\" >2019-08-16 00:00:00</th>\n",
       "      <td id=\"T_259d8_row15_col0\" class=\"data row15 col0\" >99851.0</td>\n",
       "      <td id=\"T_259d8_row15_col1\" class=\"data row15 col1\" >114250.0</td>\n",
       "      <td id=\"T_259d8_row15_col2\" class=\"data row15 col2\" >18.0</td>\n",
       "      <td id=\"T_259d8_row15_col3\" class=\"data row15 col3\" >18.0</td>\n",
       "      <td id=\"T_259d8_row15_col4\" class=\"data row15 col4\" >18.0</td>\n",
       "      <td id=\"T_259d8_row15_col5\" class=\"data row15 col5\" >18.0</td>\n",
       "    </tr>\n",
       "    <tr>\n",
       "      <th id=\"T_259d8_level0_row16\" class=\"row_heading level0 row16\" >2019-08-17 00:00:00</th>\n",
       "      <td id=\"T_259d8_row16_col0\" class=\"data row16 col0\" >34740.0</td>\n",
       "      <td id=\"T_259d8_row16_col1\" class=\"data row16 col1\" >80865.0</td>\n",
       "      <td id=\"T_259d8_row16_col2\" class=\"data row16 col2\" >6.0</td>\n",
       "      <td id=\"T_259d8_row16_col3\" class=\"data row16 col3\" >13.0</td>\n",
       "      <td id=\"T_259d8_row16_col4\" class=\"data row16 col4\" >5.0</td>\n",
       "      <td id=\"T_259d8_row16_col5\" class=\"data row16 col5\" >13.0</td>\n",
       "    </tr>\n",
       "    <tr>\n",
       "      <th id=\"T_259d8_level0_row17\" class=\"row_heading level0 row17\" >2019-08-18 00:00:00</th>\n",
       "      <td id=\"T_259d8_row17_col0\" class=\"data row17 col0\" >59581.0</td>\n",
       "      <td id=\"T_259d8_row17_col1\" class=\"data row17 col1\" >35323.0</td>\n",
       "      <td id=\"T_259d8_row17_col2\" class=\"data row17 col2\" >13.0</td>\n",
       "      <td id=\"T_259d8_row17_col3\" class=\"data row17 col3\" >7.0</td>\n",
       "      <td id=\"T_259d8_row17_col4\" class=\"data row17 col4\" >13.0</td>\n",
       "      <td id=\"T_259d8_row17_col5\" class=\"data row17 col5\" >7.0</td>\n",
       "    </tr>\n",
       "    <tr>\n",
       "      <th id=\"T_259d8_level0_row18\" class=\"row_heading level0 row18\" >2019-08-19 00:00:00</th>\n",
       "      <td id=\"T_259d8_row18_col0\" class=\"data row18 col0\" >168193.0</td>\n",
       "      <td id=\"T_259d8_row18_col1\" class=\"data row18 col1\" >1429920.0</td>\n",
       "      <td id=\"T_259d8_row18_col2\" class=\"data row18 col2\" >21.0</td>\n",
       "      <td id=\"T_259d8_row18_col3\" class=\"data row18 col3\" >21.0</td>\n",
       "      <td id=\"T_259d8_row18_col4\" class=\"data row18 col4\" >21.0</td>\n",
       "      <td id=\"T_259d8_row18_col5\" class=\"data row18 col5\" >20.0</td>\n",
       "    </tr>\n",
       "    <tr>\n",
       "      <th id=\"T_259d8_level0_row19\" class=\"row_heading level0 row19\" >2019-08-20 00:00:00</th>\n",
       "      <td id=\"T_259d8_row19_col0\" class=\"data row19 col0\" >58679.0</td>\n",
       "      <td id=\"T_259d8_row19_col1\" class=\"data row19 col1\" >147274.0</td>\n",
       "      <td id=\"T_259d8_row19_col2\" class=\"data row19 col2\" >10.0</td>\n",
       "      <td id=\"T_259d8_row19_col3\" class=\"data row19 col3\" >20.0</td>\n",
       "      <td id=\"T_259d8_row19_col4\" class=\"data row19 col4\" >10.0</td>\n",
       "      <td id=\"T_259d8_row19_col5\" class=\"data row19 col5\" >20.0</td>\n",
       "    </tr>\n",
       "    <tr>\n",
       "      <th id=\"T_259d8_level0_row20\" class=\"row_heading level0 row20\" >2019-08-21 00:00:00</th>\n",
       "      <td id=\"T_259d8_row20_col0\" class=\"data row20 col0\" >170169.0</td>\n",
       "      <td id=\"T_259d8_row20_col1\" class=\"data row20 col1\" >140347.0</td>\n",
       "      <td id=\"T_259d8_row20_col2\" class=\"data row20 col2\" >20.0</td>\n",
       "      <td id=\"T_259d8_row20_col3\" class=\"data row20 col3\" >12.0</td>\n",
       "      <td id=\"T_259d8_row20_col4\" class=\"data row20 col4\" >19.0</td>\n",
       "      <td id=\"T_259d8_row20_col5\" class=\"data row20 col5\" >12.0</td>\n",
       "    </tr>\n",
       "    <tr>\n",
       "      <th id=\"T_259d8_level0_row21\" class=\"row_heading level0 row21\" >2019-08-22 00:00:00</th>\n",
       "      <td id=\"T_259d8_row21_col0\" class=\"data row21 col0\" >92365.0</td>\n",
       "      <td id=\"T_259d8_row21_col1\" class=\"data row21 col1\" >141728.0</td>\n",
       "      <td id=\"T_259d8_row21_col2\" class=\"data row21 col2\" >10.0</td>\n",
       "      <td id=\"T_259d8_row21_col3\" class=\"data row21 col3\" >21.0</td>\n",
       "      <td id=\"T_259d8_row21_col4\" class=\"data row21 col4\" >10.0</td>\n",
       "      <td id=\"T_259d8_row21_col5\" class=\"data row21 col5\" >21.0</td>\n",
       "    </tr>\n",
       "    <tr>\n",
       "      <th id=\"T_259d8_level0_row22\" class=\"row_heading level0 row22\" >2019-08-23 00:00:00</th>\n",
       "      <td id=\"T_259d8_row22_col0\" class=\"data row22 col0\" >57863.0</td>\n",
       "      <td id=\"T_259d8_row22_col1\" class=\"data row22 col1\" >77269.0</td>\n",
       "      <td id=\"T_259d8_row22_col2\" class=\"data row22 col2\" >20.0</td>\n",
       "      <td id=\"T_259d8_row22_col3\" class=\"data row22 col3\" >13.0</td>\n",
       "      <td id=\"T_259d8_row22_col4\" class=\"data row22 col4\" >20.0</td>\n",
       "      <td id=\"T_259d8_row22_col5\" class=\"data row22 col5\" >13.0</td>\n",
       "    </tr>\n",
       "    <tr>\n",
       "      <th id=\"T_259d8_level0_row23\" class=\"row_heading level0 row23\" >2019-08-24 00:00:00</th>\n",
       "      <td id=\"T_259d8_row23_col0\" class=\"data row23 col0\" >122013.0</td>\n",
       "      <td id=\"T_259d8_row23_col1\" class=\"data row23 col1\" >87866.0</td>\n",
       "      <td id=\"T_259d8_row23_col2\" class=\"data row23 col2\" >13.0</td>\n",
       "      <td id=\"T_259d8_row23_col3\" class=\"data row23 col3\" >14.0</td>\n",
       "      <td id=\"T_259d8_row23_col4\" class=\"data row23 col4\" >13.0</td>\n",
       "      <td id=\"T_259d8_row23_col5\" class=\"data row23 col5\" >14.0</td>\n",
       "    </tr>\n",
       "    <tr>\n",
       "      <th id=\"T_259d8_level0_row24\" class=\"row_heading level0 row24\" >2019-08-25 00:00:00</th>\n",
       "      <td id=\"T_259d8_row24_col0\" class=\"data row24 col0\" >51884.0</td>\n",
       "      <td id=\"T_259d8_row24_col1\" class=\"data row24 col1\" >79257.0</td>\n",
       "      <td id=\"T_259d8_row24_col2\" class=\"data row24 col2\" >8.0</td>\n",
       "      <td id=\"T_259d8_row24_col3\" class=\"data row24 col3\" >12.0</td>\n",
       "      <td id=\"T_259d8_row24_col4\" class=\"data row24 col4\" >8.0</td>\n",
       "      <td id=\"T_259d8_row24_col5\" class=\"data row24 col5\" >12.0</td>\n",
       "    </tr>\n",
       "    <tr>\n",
       "      <th id=\"T_259d8_level0_row25\" class=\"row_heading level0 row25\" >2019-08-26 00:00:00</th>\n",
       "      <td id=\"T_259d8_row25_col0\" class=\"data row25 col0\" >157214.0</td>\n",
       "      <td id=\"T_259d8_row25_col1\" class=\"data row25 col1\" >173439.0</td>\n",
       "      <td id=\"T_259d8_row25_col2\" class=\"data row25 col2\" >16.0</td>\n",
       "      <td id=\"T_259d8_row25_col3\" class=\"data row25 col3\" >22.0</td>\n",
       "      <td id=\"T_259d8_row25_col4\" class=\"data row25 col4\" >16.0</td>\n",
       "      <td id=\"T_259d8_row25_col5\" class=\"data row25 col5\" >22.0</td>\n",
       "    </tr>\n",
       "    <tr>\n",
       "      <th id=\"T_259d8_level0_row26\" class=\"row_heading level0 row26\" >2019-08-27 00:00:00</th>\n",
       "      <td id=\"T_259d8_row26_col0\" class=\"data row26 col0\" >185350.0</td>\n",
       "      <td id=\"T_259d8_row26_col1\" class=\"data row26 col1\" >111347.0</td>\n",
       "      <td id=\"T_259d8_row26_col2\" class=\"data row26 col2\" >23.0</td>\n",
       "      <td id=\"T_259d8_row26_col3\" class=\"data row26 col3\" >11.0</td>\n",
       "      <td id=\"T_259d8_row26_col4\" class=\"data row26 col4\" >23.0</td>\n",
       "      <td id=\"T_259d8_row26_col5\" class=\"data row26 col5\" >11.0</td>\n",
       "    </tr>\n",
       "    <tr>\n",
       "      <th id=\"T_259d8_level0_row27\" class=\"row_heading level0 row27\" >2019-08-28 00:00:00</th>\n",
       "      <td id=\"T_259d8_row27_col0\" class=\"data row27 col0\" >96462.0</td>\n",
       "      <td id=\"T_259d8_row27_col1\" class=\"data row27 col1\" >61198.0</td>\n",
       "      <td id=\"T_259d8_row27_col2\" class=\"data row27 col2\" >15.0</td>\n",
       "      <td id=\"T_259d8_row27_col3\" class=\"data row27 col3\" >22.0</td>\n",
       "      <td id=\"T_259d8_row27_col4\" class=\"data row27 col4\" >15.0</td>\n",
       "      <td id=\"T_259d8_row27_col5\" class=\"data row27 col5\" >22.0</td>\n",
       "    </tr>\n",
       "    <tr>\n",
       "      <th id=\"T_259d8_level0_row28\" class=\"row_heading level0 row28\" >2019-08-29 00:00:00</th>\n",
       "      <td id=\"T_259d8_row28_col0\" class=\"data row28 col0\" >196300.0</td>\n",
       "      <td id=\"T_259d8_row28_col1\" class=\"data row28 col1\" >106100.0</td>\n",
       "      <td id=\"T_259d8_row28_col2\" class=\"data row28 col2\" >17.0</td>\n",
       "      <td id=\"T_259d8_row28_col3\" class=\"data row28 col3\" >15.0</td>\n",
       "      <td id=\"T_259d8_row28_col4\" class=\"data row28 col4\" >17.0</td>\n",
       "      <td id=\"T_259d8_row28_col5\" class=\"data row28 col5\" >15.0</td>\n",
       "    </tr>\n",
       "    <tr>\n",
       "      <th id=\"T_259d8_level0_row29\" class=\"row_heading level0 row29\" >2019-08-30 00:00:00</th>\n",
       "      <td id=\"T_259d8_row29_col0\" class=\"data row29 col0\" >78180.0</td>\n",
       "      <td id=\"T_259d8_row29_col1\" class=\"data row29 col1\" >209223.0</td>\n",
       "      <td id=\"T_259d8_row29_col2\" class=\"data row29 col2\" >9.0</td>\n",
       "      <td id=\"T_259d8_row29_col3\" class=\"data row29 col3\" >21.0</td>\n",
       "      <td id=\"T_259d8_row29_col4\" class=\"data row29 col4\" >8.0</td>\n",
       "      <td id=\"T_259d8_row29_col5\" class=\"data row29 col5\" >21.0</td>\n",
       "    </tr>\n",
       "    <tr>\n",
       "      <th id=\"T_259d8_level0_row30\" class=\"row_heading level0 row30\" >2019-08-31 00:00:00</th>\n",
       "      <td id=\"T_259d8_row30_col0\" class=\"data row30 col0\" >53243.0</td>\n",
       "      <td id=\"T_259d8_row30_col1\" class=\"data row30 col1\" >113139.0</td>\n",
       "      <td id=\"T_259d8_row30_col2\" class=\"data row30 col2\" >8.0</td>\n",
       "      <td id=\"T_259d8_row30_col3\" class=\"data row30 col3\" >17.0</td>\n",
       "      <td id=\"T_259d8_row30_col4\" class=\"data row30 col4\" >8.0</td>\n",
       "      <td id=\"T_259d8_row30_col5\" class=\"data row30 col5\" >17.0</td>\n",
       "    </tr>\n",
       "  </tbody>\n",
       "</table>\n"
      ],
      "text/plain": [
       "<pandas.io.formats.style.Styler at 0x1b8d9a33550>"
      ]
     },
     "execution_count": 39,
     "metadata": {},
     "output_type": "execute_result"
    }
   ],
   "source": [
    "orders_wo_dupl.pivot_table(index='date', columns='group', values=['visitor_id', 'transaction_id', 'revenue'],\n",
    "                           aggfunc={'visitor_id':'nunique', 'transaction_id' : 'nunique', 'revenue':'sum'})\\\n",
    "              .style.format(\"{:.1f}\")\\\n",
    "              .background_gradient(cmap='Blues', axis=0)\\\n",
    "              .set_caption('Продажи, количество заказов, количество покупателей по дням в разрезе групп')"
   ]
  },
  {
   "cell_type": "code",
   "execution_count": 40,
   "id": "c3a4fba8-1307-4f31-bfd6-5951e1d0350c",
   "metadata": {},
   "outputs": [
    {
     "data": {
      "text/html": [
       "<style type=\"text/css\">\n",
       "</style>\n",
       "<table id=\"T_1164a\">\n",
       "  <caption>Кумулятивные данные по продажам группы B</caption>\n",
       "  <thead>\n",
       "    <tr>\n",
       "      <th class=\"index_name level0\" >group</th>\n",
       "      <th id=\"T_1164a_level0_col0\" class=\"col_heading level0 col0\" >revenue_day</th>\n",
       "      <th id=\"T_1164a_level0_col1\" class=\"col_heading level0 col1\" >revenue_cumulative</th>\n",
       "    </tr>\n",
       "    <tr>\n",
       "      <th class=\"index_name level0\" >date</th>\n",
       "      <th class=\"blank col0\" >&nbsp;</th>\n",
       "      <th class=\"blank col1\" >&nbsp;</th>\n",
       "    </tr>\n",
       "  </thead>\n",
       "  <tbody>\n",
       "    <tr>\n",
       "      <th id=\"T_1164a_level0_row0\" class=\"row_heading level0 row0\" >2019-08-01 00:00:00</th>\n",
       "      <td id=\"T_1164a_row0_col0\" class=\"data row0 col0\" >59758</td>\n",
       "      <td id=\"T_1164a_row0_col1\" class=\"data row0 col1\" >59758</td>\n",
       "    </tr>\n",
       "    <tr>\n",
       "      <th id=\"T_1164a_level0_row1\" class=\"row_heading level0 row1\" >2019-08-02 00:00:00</th>\n",
       "      <td id=\"T_1164a_row1_col0\" class=\"data row1 col0\" >162043</td>\n",
       "      <td id=\"T_1164a_row1_col1\" class=\"data row1 col1\" >221801</td>\n",
       "    </tr>\n",
       "    <tr>\n",
       "      <th id=\"T_1164a_level0_row2\" class=\"row_heading level0 row2\" >2019-08-03 00:00:00</th>\n",
       "      <td id=\"T_1164a_row2_col0\" class=\"data row2 col0\" >67049</td>\n",
       "      <td id=\"T_1164a_row2_col1\" class=\"data row2 col1\" >288850</td>\n",
       "    </tr>\n",
       "    <tr>\n",
       "      <th id=\"T_1164a_level0_row3\" class=\"row_heading level0 row3\" >2019-08-04 00:00:00</th>\n",
       "      <td id=\"T_1164a_row3_col0\" class=\"data row3 col0\" >96890</td>\n",
       "      <td id=\"T_1164a_row3_col1\" class=\"data row3 col1\" >385740</td>\n",
       "    </tr>\n",
       "    <tr>\n",
       "      <th id=\"T_1164a_level0_row4\" class=\"row_heading level0 row4\" >2019-08-05 00:00:00</th>\n",
       "      <td id=\"T_1164a_row4_col0\" class=\"data row4 col0\" >89908</td>\n",
       "      <td id=\"T_1164a_row4_col1\" class=\"data row4 col1\" >475648</td>\n",
       "    </tr>\n",
       "    <tr>\n",
       "      <th id=\"T_1164a_level0_row5\" class=\"row_heading level0 row5\" >2019-08-06 00:00:00</th>\n",
       "      <td id=\"T_1164a_row5_col0\" class=\"data row5 col0\" >214842</td>\n",
       "      <td id=\"T_1164a_row5_col1\" class=\"data row5 col1\" >690490</td>\n",
       "    </tr>\n",
       "    <tr>\n",
       "      <th id=\"T_1164a_level0_row6\" class=\"row_heading level0 row6\" >2019-08-07 00:00:00</th>\n",
       "      <td id=\"T_1164a_row6_col0\" class=\"data row6 col0\" >219164</td>\n",
       "      <td id=\"T_1164a_row6_col1\" class=\"data row6 col1\" >909654</td>\n",
       "    </tr>\n",
       "    <tr>\n",
       "      <th id=\"T_1164a_level0_row7\" class=\"row_heading level0 row7\" >2019-08-08 00:00:00</th>\n",
       "      <td id=\"T_1164a_row7_col0\" class=\"data row7 col0\" >150141</td>\n",
       "      <td id=\"T_1164a_row7_col1\" class=\"data row7 col1\" >1059795</td>\n",
       "    </tr>\n",
       "    <tr>\n",
       "      <th id=\"T_1164a_level0_row8\" class=\"row_heading level0 row8\" >2019-08-09 00:00:00</th>\n",
       "      <td id=\"T_1164a_row8_col0\" class=\"data row8 col0\" >103166</td>\n",
       "      <td id=\"T_1164a_row8_col1\" class=\"data row8 col1\" >1162961</td>\n",
       "    </tr>\n",
       "    <tr>\n",
       "      <th id=\"T_1164a_level0_row9\" class=\"row_heading level0 row9\" >2019-08-10 00:00:00</th>\n",
       "      <td id=\"T_1164a_row9_col0\" class=\"data row9 col0\" >105162</td>\n",
       "      <td id=\"T_1164a_row9_col1\" class=\"data row9 col1\" >1268123</td>\n",
       "    </tr>\n",
       "    <tr>\n",
       "      <th id=\"T_1164a_level0_row10\" class=\"row_heading level0 row10\" >2019-08-11 00:00:00</th>\n",
       "      <td id=\"T_1164a_row10_col0\" class=\"data row10 col0\" >53060</td>\n",
       "      <td id=\"T_1164a_row10_col1\" class=\"data row10 col1\" >1321183</td>\n",
       "    </tr>\n",
       "    <tr>\n",
       "      <th id=\"T_1164a_level0_row11\" class=\"row_heading level0 row11\" >2019-08-12 00:00:00</th>\n",
       "      <td id=\"T_1164a_row11_col0\" class=\"data row11 col0\" >104054</td>\n",
       "      <td id=\"T_1164a_row11_col1\" class=\"data row11 col1\" >1425237</td>\n",
       "    </tr>\n",
       "    <tr>\n",
       "      <th id=\"T_1164a_level0_row12\" class=\"row_heading level0 row12\" >2019-08-13 00:00:00</th>\n",
       "      <td id=\"T_1164a_row12_col0\" class=\"data row12 col0\" >117691</td>\n",
       "      <td id=\"T_1164a_row12_col1\" class=\"data row12 col1\" >1542928</td>\n",
       "    </tr>\n",
       "    <tr>\n",
       "      <th id=\"T_1164a_level0_row13\" class=\"row_heading level0 row13\" >2019-08-14 00:00:00</th>\n",
       "      <td id=\"T_1164a_row13_col0\" class=\"data row13 col0\" >107340</td>\n",
       "      <td id=\"T_1164a_row13_col1\" class=\"data row13 col1\" >1650268</td>\n",
       "    </tr>\n",
       "    <tr>\n",
       "      <th id=\"T_1164a_level0_row14\" class=\"row_heading level0 row14\" >2019-08-15 00:00:00</th>\n",
       "      <td id=\"T_1164a_row14_col0\" class=\"data row14 col0\" >310159</td>\n",
       "      <td id=\"T_1164a_row14_col1\" class=\"data row14 col1\" >1960427</td>\n",
       "    </tr>\n",
       "    <tr>\n",
       "      <th id=\"T_1164a_level0_row15\" class=\"row_heading level0 row15\" >2019-08-16 00:00:00</th>\n",
       "      <td id=\"T_1164a_row15_col0\" class=\"data row15 col0\" >114250</td>\n",
       "      <td id=\"T_1164a_row15_col1\" class=\"data row15 col1\" >2074677</td>\n",
       "    </tr>\n",
       "    <tr>\n",
       "      <th id=\"T_1164a_level0_row16\" class=\"row_heading level0 row16\" >2019-08-17 00:00:00</th>\n",
       "      <td id=\"T_1164a_row16_col0\" class=\"data row16 col0\" >80865</td>\n",
       "      <td id=\"T_1164a_row16_col1\" class=\"data row16 col1\" >2155542</td>\n",
       "    </tr>\n",
       "    <tr>\n",
       "      <th id=\"T_1164a_level0_row17\" class=\"row_heading level0 row17\" >2019-08-18 00:00:00</th>\n",
       "      <td id=\"T_1164a_row17_col0\" class=\"data row17 col0\" >35323</td>\n",
       "      <td id=\"T_1164a_row17_col1\" class=\"data row17 col1\" >2190865</td>\n",
       "    </tr>\n",
       "    <tr>\n",
       "      <th id=\"T_1164a_level0_row18\" class=\"row_heading level0 row18\" >2019-08-19 00:00:00</th>\n",
       "      <td id=\"T_1164a_row18_col0\" class=\"data row18 col0\" >1429920</td>\n",
       "      <td id=\"T_1164a_row18_col1\" class=\"data row18 col1\" >3620785</td>\n",
       "    </tr>\n",
       "    <tr>\n",
       "      <th id=\"T_1164a_level0_row19\" class=\"row_heading level0 row19\" >2019-08-20 00:00:00</th>\n",
       "      <td id=\"T_1164a_row19_col0\" class=\"data row19 col0\" >147274</td>\n",
       "      <td id=\"T_1164a_row19_col1\" class=\"data row19 col1\" >3768059</td>\n",
       "    </tr>\n",
       "    <tr>\n",
       "      <th id=\"T_1164a_level0_row20\" class=\"row_heading level0 row20\" >2019-08-21 00:00:00</th>\n",
       "      <td id=\"T_1164a_row20_col0\" class=\"data row20 col0\" >140347</td>\n",
       "      <td id=\"T_1164a_row20_col1\" class=\"data row20 col1\" >3908406</td>\n",
       "    </tr>\n",
       "    <tr>\n",
       "      <th id=\"T_1164a_level0_row21\" class=\"row_heading level0 row21\" >2019-08-22 00:00:00</th>\n",
       "      <td id=\"T_1164a_row21_col0\" class=\"data row21 col0\" >141728</td>\n",
       "      <td id=\"T_1164a_row21_col1\" class=\"data row21 col1\" >4050134</td>\n",
       "    </tr>\n",
       "    <tr>\n",
       "      <th id=\"T_1164a_level0_row22\" class=\"row_heading level0 row22\" >2019-08-23 00:00:00</th>\n",
       "      <td id=\"T_1164a_row22_col0\" class=\"data row22 col0\" >77269</td>\n",
       "      <td id=\"T_1164a_row22_col1\" class=\"data row22 col1\" >4127403</td>\n",
       "    </tr>\n",
       "    <tr>\n",
       "      <th id=\"T_1164a_level0_row23\" class=\"row_heading level0 row23\" >2019-08-24 00:00:00</th>\n",
       "      <td id=\"T_1164a_row23_col0\" class=\"data row23 col0\" >87866</td>\n",
       "      <td id=\"T_1164a_row23_col1\" class=\"data row23 col1\" >4215269</td>\n",
       "    </tr>\n",
       "    <tr>\n",
       "      <th id=\"T_1164a_level0_row24\" class=\"row_heading level0 row24\" >2019-08-25 00:00:00</th>\n",
       "      <td id=\"T_1164a_row24_col0\" class=\"data row24 col0\" >79257</td>\n",
       "      <td id=\"T_1164a_row24_col1\" class=\"data row24 col1\" >4294526</td>\n",
       "    </tr>\n",
       "    <tr>\n",
       "      <th id=\"T_1164a_level0_row25\" class=\"row_heading level0 row25\" >2019-08-26 00:00:00</th>\n",
       "      <td id=\"T_1164a_row25_col0\" class=\"data row25 col0\" >173439</td>\n",
       "      <td id=\"T_1164a_row25_col1\" class=\"data row25 col1\" >4467965</td>\n",
       "    </tr>\n",
       "    <tr>\n",
       "      <th id=\"T_1164a_level0_row26\" class=\"row_heading level0 row26\" >2019-08-27 00:00:00</th>\n",
       "      <td id=\"T_1164a_row26_col0\" class=\"data row26 col0\" >111347</td>\n",
       "      <td id=\"T_1164a_row26_col1\" class=\"data row26 col1\" >4579312</td>\n",
       "    </tr>\n",
       "    <tr>\n",
       "      <th id=\"T_1164a_level0_row27\" class=\"row_heading level0 row27\" >2019-08-28 00:00:00</th>\n",
       "      <td id=\"T_1164a_row27_col0\" class=\"data row27 col0\" >61198</td>\n",
       "      <td id=\"T_1164a_row27_col1\" class=\"data row27 col1\" >4640510</td>\n",
       "    </tr>\n",
       "    <tr>\n",
       "      <th id=\"T_1164a_level0_row28\" class=\"row_heading level0 row28\" >2019-08-29 00:00:00</th>\n",
       "      <td id=\"T_1164a_row28_col0\" class=\"data row28 col0\" >106100</td>\n",
       "      <td id=\"T_1164a_row28_col1\" class=\"data row28 col1\" >4746610</td>\n",
       "    </tr>\n",
       "    <tr>\n",
       "      <th id=\"T_1164a_level0_row29\" class=\"row_heading level0 row29\" >2019-08-30 00:00:00</th>\n",
       "      <td id=\"T_1164a_row29_col0\" class=\"data row29 col0\" >209223</td>\n",
       "      <td id=\"T_1164a_row29_col1\" class=\"data row29 col1\" >4955833</td>\n",
       "    </tr>\n",
       "    <tr>\n",
       "      <th id=\"T_1164a_level0_row30\" class=\"row_heading level0 row30\" >2019-08-31 00:00:00</th>\n",
       "      <td id=\"T_1164a_row30_col0\" class=\"data row30 col0\" >113139</td>\n",
       "      <td id=\"T_1164a_row30_col1\" class=\"data row30 col1\" >5068972</td>\n",
       "    </tr>\n",
       "  </tbody>\n",
       "</table>\n"
      ],
      "text/plain": [
       "<pandas.io.formats.style.Styler at 0x1b8d9c0b5d0>"
      ]
     },
     "execution_count": 40,
     "metadata": {},
     "output_type": "execute_result"
    }
   ],
   "source": [
    "# кумулятивные данные по продажам группа 'B'\n",
    "cumulativeData_cumulative = orders_wo_dupl[orders_wo_dupl['group'] == 'B']\\\n",
    "                            .pivot_table(index='date', columns='group', values= 'revenue', aggfunc='sum')\\\n",
    "                            .rename(columns= {'B': 'revenue_day'})\n",
    "cumulativeData_cumulative['revenue_cumulative'] = cumulativeData_cumulative['revenue_day'].cumsum()\n",
    "cumulativeData_cumulative.style.set_caption('Кумулятивные данные по продажам группы B')"
   ]
  },
  {
   "cell_type": "code",
   "execution_count": 41,
   "id": "da44a0f0-7f4a-49c7-8c9c-fa3eb145137a",
   "metadata": {},
   "outputs": [
    {
     "data": {
      "text/html": [
       "<style type=\"text/css\">\n",
       "</style>\n",
       "<table id=\"T_b846a\">\n",
       "  <caption>Данные по продажам группы B за 2019-08-19</caption>\n",
       "  <thead>\n",
       "    <tr>\n",
       "      <th class=\"blank level0\" >&nbsp;</th>\n",
       "      <th id=\"T_b846a_level0_col0\" class=\"col_heading level0 col0\" >date</th>\n",
       "      <th id=\"T_b846a_level0_col1\" class=\"col_heading level0 col1\" >visitor_id</th>\n",
       "      <th id=\"T_b846a_level0_col2\" class=\"col_heading level0 col2\" >transaction_id</th>\n",
       "      <th id=\"T_b846a_level0_col3\" class=\"col_heading level0 col3\" >revenue</th>\n",
       "    </tr>\n",
       "  </thead>\n",
       "  <tbody>\n",
       "    <tr>\n",
       "      <th id=\"T_b846a_level0_row0\" class=\"row_heading level0 row0\" >7</th>\n",
       "      <td id=\"T_b846a_row0_col0\" class=\"data row0 col0\" >2019-08-19 00:00:00</td>\n",
       "      <td id=\"T_b846a_row0_col1\" class=\"data row0 col1\" >1920142716</td>\n",
       "      <td id=\"T_b846a_row0_col2\" class=\"data row0 col2\" >590470918</td>\n",
       "      <td id=\"T_b846a_row0_col3\" class=\"data row0 col3\" >1294500</td>\n",
       "    </tr>\n",
       "    <tr>\n",
       "      <th id=\"T_b846a_level0_row1\" class=\"row_heading level0 row1\" >18</th>\n",
       "      <td id=\"T_b846a_row1_col0\" class=\"data row1 col0\" >2019-08-19 00:00:00</td>\n",
       "      <td id=\"T_b846a_row1_col1\" class=\"data row1 col1\" >2837914161</td>\n",
       "      <td id=\"T_b846a_row1_col2\" class=\"data row1 col2\" >1570513684</td>\n",
       "      <td id=\"T_b846a_row1_col3\" class=\"data row1 col3\" >33405</td>\n",
       "    </tr>\n",
       "    <tr>\n",
       "      <th id=\"T_b846a_level0_row2\" class=\"row_heading level0 row2\" >0</th>\n",
       "      <td id=\"T_b846a_row2_col0\" class=\"data row2 col0\" >2019-08-19 00:00:00</td>\n",
       "      <td id=\"T_b846a_row2_col1\" class=\"data row2 col1\" >154576532</td>\n",
       "      <td id=\"T_b846a_row2_col2\" class=\"data row2 col2\" >2683113224</td>\n",
       "      <td id=\"T_b846a_row2_col3\" class=\"data row2 col3\" >26550</td>\n",
       "    </tr>\n",
       "    <tr>\n",
       "      <th id=\"T_b846a_level0_row3\" class=\"row_heading level0 row3\" >14</th>\n",
       "      <td id=\"T_b846a_row3_col0\" class=\"data row3 col0\" >2019-08-19 00:00:00</td>\n",
       "      <td id=\"T_b846a_row3_col1\" class=\"data row3 col1\" >2536252163</td>\n",
       "      <td id=\"T_b846a_row3_col2\" class=\"data row3 col2\" >3268879337</td>\n",
       "      <td id=\"T_b846a_row3_col3\" class=\"data row3 col3\" >20026</td>\n",
       "    </tr>\n",
       "    <tr>\n",
       "      <th id=\"T_b846a_level0_row4\" class=\"row_heading level0 row4\" >2</th>\n",
       "      <td id=\"T_b846a_row4_col0\" class=\"data row4 col0\" >2019-08-19 00:00:00</td>\n",
       "      <td id=\"T_b846a_row4_col1\" class=\"data row4 col1\" >290022471</td>\n",
       "      <td id=\"T_b846a_row4_col2\" class=\"data row4 col2\" >4170537404</td>\n",
       "      <td id=\"T_b846a_row4_col3\" class=\"data row4 col3\" >16480</td>\n",
       "    </tr>\n",
       "    <tr>\n",
       "      <th id=\"T_b846a_level0_row5\" class=\"row_heading level0 row5\" >4</th>\n",
       "      <td id=\"T_b846a_row5_col0\" class=\"data row5 col0\" >2019-08-19 00:00:00</td>\n",
       "      <td id=\"T_b846a_row5_col1\" class=\"data row5 col1\" >990904712</td>\n",
       "      <td id=\"T_b846a_row5_col2\" class=\"data row5 col2\" >4161654914</td>\n",
       "      <td id=\"T_b846a_row5_col3\" class=\"data row5 col3\" >11249</td>\n",
       "    </tr>\n",
       "    <tr>\n",
       "      <th id=\"T_b846a_level0_row6\" class=\"row_heading level0 row6\" >3</th>\n",
       "      <td id=\"T_b846a_row6_col0\" class=\"data row6 col0\" >2019-08-19 00:00:00</td>\n",
       "      <td id=\"T_b846a_row6_col1\" class=\"data row6 col1\" >522292794</td>\n",
       "      <td id=\"T_b846a_row6_col2\" class=\"data row6 col2\" >1739748874</td>\n",
       "      <td id=\"T_b846a_row6_col3\" class=\"data row6 col3\" >4880</td>\n",
       "    </tr>\n",
       "    <tr>\n",
       "      <th id=\"T_b846a_level0_row7\" class=\"row_heading level0 row7\" >19</th>\n",
       "      <td id=\"T_b846a_row7_col0\" class=\"data row7 col0\" >2019-08-19 00:00:00</td>\n",
       "      <td id=\"T_b846a_row7_col1\" class=\"data row7 col1\" >3860669668</td>\n",
       "      <td id=\"T_b846a_row7_col2\" class=\"data row7 col2\" >1033377712</td>\n",
       "      <td id=\"T_b846a_row7_col3\" class=\"data row7 col3\" >3990</td>\n",
       "    </tr>\n",
       "    <tr>\n",
       "      <th id=\"T_b846a_level0_row8\" class=\"row_heading level0 row8\" >8</th>\n",
       "      <td id=\"T_b846a_row8_col0\" class=\"data row8 col0\" >2019-08-19 00:00:00</td>\n",
       "      <td id=\"T_b846a_row8_col1\" class=\"data row8 col1\" >2075769885</td>\n",
       "      <td id=\"T_b846a_row8_col2\" class=\"data row8 col2\" >90109939</td>\n",
       "      <td id=\"T_b846a_row8_col3\" class=\"data row8 col3\" >3525</td>\n",
       "    </tr>\n",
       "    <tr>\n",
       "      <th id=\"T_b846a_level0_row9\" class=\"row_heading level0 row9\" >11</th>\n",
       "      <td id=\"T_b846a_row9_col0\" class=\"data row9 col0\" >2019-08-19 00:00:00</td>\n",
       "      <td id=\"T_b846a_row9_col1\" class=\"data row9 col1\" >2397843657</td>\n",
       "      <td id=\"T_b846a_row9_col2\" class=\"data row9 col2\" >19467429</td>\n",
       "      <td id=\"T_b846a_row9_col3\" class=\"data row9 col3\" >2630</td>\n",
       "    </tr>\n",
       "    <tr>\n",
       "      <th id=\"T_b846a_level0_row10\" class=\"row_heading level0 row10\" >20</th>\n",
       "      <td id=\"T_b846a_row10_col0\" class=\"data row10 col0\" >2019-08-19 00:00:00</td>\n",
       "      <td id=\"T_b846a_row10_col1\" class=\"data row10 col1\" >4251115836</td>\n",
       "      <td id=\"T_b846a_row10_col2\" class=\"data row10 col2\" >2096847394</td>\n",
       "      <td id=\"T_b846a_row10_col3\" class=\"data row10 col3\" >2500</td>\n",
       "    </tr>\n",
       "    <tr>\n",
       "      <th id=\"T_b846a_level0_row11\" class=\"row_heading level0 row11\" >1</th>\n",
       "      <td id=\"T_b846a_row11_col0\" class=\"data row11 col0\" >2019-08-19 00:00:00</td>\n",
       "      <td id=\"T_b846a_row11_col1\" class=\"data row11 col1\" >157579733</td>\n",
       "      <td id=\"T_b846a_row11_col2\" class=\"data row11 col2\" >1939633950</td>\n",
       "      <td id=\"T_b846a_row11_col3\" class=\"data row11 col3\" >2330</td>\n",
       "    </tr>\n",
       "    <tr>\n",
       "      <th id=\"T_b846a_level0_row12\" class=\"row_heading level0 row12\" >12</th>\n",
       "      <td id=\"T_b846a_row12_col0\" class=\"data row12 col0\" >2019-08-19 00:00:00</td>\n",
       "      <td id=\"T_b846a_row12_col1\" class=\"data row12 col1\" >2397843657</td>\n",
       "      <td id=\"T_b846a_row12_col2\" class=\"data row12 col2\" >3019510679</td>\n",
       "      <td id=\"T_b846a_row12_col3\" class=\"data row12 col3\" >1460</td>\n",
       "    </tr>\n",
       "    <tr>\n",
       "      <th id=\"T_b846a_level0_row13\" class=\"row_heading level0 row13\" >17</th>\n",
       "      <td id=\"T_b846a_row13_col0\" class=\"data row13 col0\" >2019-08-19 00:00:00</td>\n",
       "      <td id=\"T_b846a_row13_col1\" class=\"data row13 col1\" >2763027084</td>\n",
       "      <td id=\"T_b846a_row13_col2\" class=\"data row13 col2\" >1652782757</td>\n",
       "      <td id=\"T_b846a_row13_col3\" class=\"data row13 col3\" >1460</td>\n",
       "    </tr>\n",
       "    <tr>\n",
       "      <th id=\"T_b846a_level0_row14\" class=\"row_heading level0 row14\" >10</th>\n",
       "      <td id=\"T_b846a_row14_col0\" class=\"data row14 col0\" >2019-08-19 00:00:00</td>\n",
       "      <td id=\"T_b846a_row14_col1\" class=\"data row14 col1\" >2247745159</td>\n",
       "      <td id=\"T_b846a_row14_col2\" class=\"data row14 col2\" >2414788465</td>\n",
       "      <td id=\"T_b846a_row14_col3\" class=\"data row14 col3\" >1435</td>\n",
       "    </tr>\n",
       "    <tr>\n",
       "      <th id=\"T_b846a_level0_row15\" class=\"row_heading level0 row15\" >16</th>\n",
       "      <td id=\"T_b846a_row15_col0\" class=\"data row15 col0\" >2019-08-19 00:00:00</td>\n",
       "      <td id=\"T_b846a_row15_col1\" class=\"data row15 col1\" >2758621772</td>\n",
       "      <td id=\"T_b846a_row15_col2\" class=\"data row15 col2\" >752294429</td>\n",
       "      <td id=\"T_b846a_row15_col3\" class=\"data row15 col3\" >1130</td>\n",
       "    </tr>\n",
       "    <tr>\n",
       "      <th id=\"T_b846a_level0_row16\" class=\"row_heading level0 row16\" >5</th>\n",
       "      <td id=\"T_b846a_row16_col0\" class=\"data row16 col0\" >2019-08-19 00:00:00</td>\n",
       "      <td id=\"T_b846a_row16_col1\" class=\"data row16 col1\" >1060341621</td>\n",
       "      <td id=\"T_b846a_row16_col2\" class=\"data row16 col2\" >2436528253</td>\n",
       "      <td id=\"T_b846a_row16_col3\" class=\"data row16 col3\" >1100</td>\n",
       "    </tr>\n",
       "    <tr>\n",
       "      <th id=\"T_b846a_level0_row17\" class=\"row_heading level0 row17\" >6</th>\n",
       "      <td id=\"T_b846a_row17_col0\" class=\"data row17 col0\" >2019-08-19 00:00:00</td>\n",
       "      <td id=\"T_b846a_row17_col1\" class=\"data row17 col1\" >1335154194</td>\n",
       "      <td id=\"T_b846a_row17_col2\" class=\"data row17 col2\" >1654949825</td>\n",
       "      <td id=\"T_b846a_row17_col3\" class=\"data row17 col3\" >500</td>\n",
       "    </tr>\n",
       "    <tr>\n",
       "      <th id=\"T_b846a_level0_row18\" class=\"row_heading level0 row18\" >13</th>\n",
       "      <td id=\"T_b846a_row18_col0\" class=\"data row18 col0\" >2019-08-19 00:00:00</td>\n",
       "      <td id=\"T_b846a_row18_col1\" class=\"data row18 col1\" >2406916810</td>\n",
       "      <td id=\"T_b846a_row18_col2\" class=\"data row18 col2\" >2609443403</td>\n",
       "      <td id=\"T_b846a_row18_col3\" class=\"data row18 col3\" >470</td>\n",
       "    </tr>\n",
       "    <tr>\n",
       "      <th id=\"T_b846a_level0_row19\" class=\"row_heading level0 row19\" >9</th>\n",
       "      <td id=\"T_b846a_row19_col0\" class=\"data row19 col0\" >2019-08-19 00:00:00</td>\n",
       "      <td id=\"T_b846a_row19_col1\" class=\"data row19 col1\" >2091902649</td>\n",
       "      <td id=\"T_b846a_row19_col2\" class=\"data row19 col2\" >3154167297</td>\n",
       "      <td id=\"T_b846a_row19_col3\" class=\"data row19 col3\" >250</td>\n",
       "    </tr>\n",
       "    <tr>\n",
       "      <th id=\"T_b846a_level0_row20\" class=\"row_heading level0 row20\" >15</th>\n",
       "      <td id=\"T_b846a_row20_col0\" class=\"data row20 col0\" >2019-08-19 00:00:00</td>\n",
       "      <td id=\"T_b846a_row20_col1\" class=\"data row20 col1\" >2738601405</td>\n",
       "      <td id=\"T_b846a_row20_col2\" class=\"data row20 col2\" >863448794</td>\n",
       "      <td id=\"T_b846a_row20_col3\" class=\"data row20 col3\" >50</td>\n",
       "    </tr>\n",
       "  </tbody>\n",
       "</table>\n"
      ],
      "text/plain": [
       "<pandas.io.formats.style.Styler at 0x1b8d9c6fad0>"
      ]
     },
     "execution_count": 41,
     "metadata": {},
     "output_type": "execute_result"
    }
   ],
   "source": [
    "# группа 'B' данные за \"2019-08-19\"\n",
    "orders_wo_dupl.query('date == \"2019-08-19\" and group == \"B\"')\\\n",
    "              .pivot_table(index=['date', 'visitor_id', 'transaction_id'], values= 'revenue', aggfunc={'revenue':'sum'})\\\n",
    "              .reset_index().sort_values(by='revenue', ascending=False)\\\n",
    "              .style.set_caption('Данные по продажам группы B за 2019-08-19')"
   ]
  },
  {
   "cell_type": "code",
   "execution_count": 42,
   "id": "b83fc6c7-0c62-4299-9c5b-7ad0fe7315e2",
   "metadata": {},
   "outputs": [
    {
     "data": {
      "text/html": [
       "<div>\n",
       "<style scoped>\n",
       "    .dataframe tbody tr th:only-of-type {\n",
       "        vertical-align: middle;\n",
       "    }\n",
       "\n",
       "    .dataframe tbody tr th {\n",
       "        vertical-align: top;\n",
       "    }\n",
       "\n",
       "    .dataframe thead th {\n",
       "        text-align: right;\n",
       "    }\n",
       "</style>\n",
       "<table border=\"1\" class=\"dataframe\">\n",
       "  <thead>\n",
       "    <tr style=\"text-align: right;\">\n",
       "      <th></th>\n",
       "      <th>date</th>\n",
       "      <th>group</th>\n",
       "      <th>orders</th>\n",
       "      <th>buyers</th>\n",
       "      <th>revenue</th>\n",
       "      <th>visitors</th>\n",
       "    </tr>\n",
       "  </thead>\n",
       "  <tbody>\n",
       "    <tr>\n",
       "      <th>0</th>\n",
       "      <td>2019-08-01</td>\n",
       "      <td>A</td>\n",
       "      <td>23</td>\n",
       "      <td>19</td>\n",
       "      <td>142779</td>\n",
       "      <td>719</td>\n",
       "    </tr>\n",
       "    <tr>\n",
       "      <th>1</th>\n",
       "      <td>2019-08-01</td>\n",
       "      <td>B</td>\n",
       "      <td>17</td>\n",
       "      <td>17</td>\n",
       "      <td>59758</td>\n",
       "      <td>713</td>\n",
       "    </tr>\n",
       "    <tr>\n",
       "      <th>2</th>\n",
       "      <td>2019-08-02</td>\n",
       "      <td>A</td>\n",
       "      <td>42</td>\n",
       "      <td>36</td>\n",
       "      <td>234381</td>\n",
       "      <td>1338</td>\n",
       "    </tr>\n",
       "    <tr>\n",
       "      <th>3</th>\n",
       "      <td>2019-08-02</td>\n",
       "      <td>B</td>\n",
       "      <td>40</td>\n",
       "      <td>39</td>\n",
       "      <td>221801</td>\n",
       "      <td>1294</td>\n",
       "    </tr>\n",
       "    <tr>\n",
       "      <th>4</th>\n",
       "      <td>2019-08-03</td>\n",
       "      <td>A</td>\n",
       "      <td>66</td>\n",
       "      <td>60</td>\n",
       "      <td>346854</td>\n",
       "      <td>1845</td>\n",
       "    </tr>\n",
       "  </tbody>\n",
       "</table>\n",
       "</div>"
      ],
      "text/plain": [
       "        date group  orders  buyers  revenue  visitors\n",
       "0 2019-08-01     A      23      19   142779       719\n",
       "1 2019-08-01     B      17      17    59758       713\n",
       "2 2019-08-02     A      42      36   234381      1338\n",
       "3 2019-08-02     B      40      39   221801      1294\n",
       "4 2019-08-03     A      66      60   346854      1845"
      ]
     },
     "execution_count": 42,
     "metadata": {},
     "output_type": "execute_result"
    }
   ],
   "source": [
    "# создаем массив уникальных пар значений дат и групп теста\n",
    "datesGroups_590470918 = orders[['date','group']].drop_duplicates()\n",
    "\n",
    "orders_wo_dupl_590470918 = orders_wo_dupl[orders_wo_dupl['transaction_id'] != 590470918]\n",
    "\n",
    "# получаем агрегированные кумулятивные по дням данные о заказах \n",
    "ordersAggregated_590470918 = datesGroups_590470918.apply(lambda x: orders_wo_dupl_590470918[np.logical_and(\n",
    "                               orders_wo_dupl_590470918['date'] <= x['date'], orders_wo_dupl_590470918['group'] == x['group'])]\\\n",
    "                              .agg({'date':'max', 'group':'max', 'transaction_id':'nunique',\n",
    "                                    'visitor_id':'nunique', 'revenue':'sum'}), axis=1)\\\n",
    "                              .sort_values(by=['date','group'])\n",
    "\n",
    "# получаем агрегированные кумулятивные по дням данные о посетителях интернет-магазина \n",
    "visitorsAggregated_590470918 = datesGroups_590470918.apply(lambda x: visitors[np.logical_and(\n",
    "                                 visitors['date'] <= x['date'], visitors['group'] == x['group'])]\\\n",
    "                                .agg({'date':'max', 'group':'max', 'visitors':'sum'}), axis=1)\\\n",
    "                                .sort_values(by=['date','group'])\n",
    "\n",
    "# объединяем кумулятивные данные в одной таблице и присваиваем ее столбцам понятные названия\n",
    "cumulativeData_590470918 = ordersAggregated_590470918.merge(visitorsAggregated_590470918,\n",
    "                                                            left_on=['date', 'group'], right_on=['date', 'group'])\n",
    "cumulativeData_590470918.columns = ['date', 'group', 'orders', 'buyers', 'revenue', 'visitors']\n",
    "\n",
    "cumulativeData_590470918.head()"
   ]
  },
  {
   "cell_type": "code",
   "execution_count": 43,
   "id": "547ed4f4-b30c-415b-bc0a-860a73573a64",
   "metadata": {},
   "outputs": [
    {
     "data": {
      "image/png": "[encoded data removed]",
      "text/plain": [
       "<Figure size 640x480 with 1 Axes>"
      ]
     },
     "metadata": {},
     "output_type": "display_data"
    }
   ],
   "source": [
    "# датафрейм с кумулятивным количеством заказов и кумулятивной выручкой по дням в группе А\n",
    "cumulativeRevenueA_590470918 = cumulativeData_590470918[cumulativeData_590470918['group']=='A'][['date','revenue', 'orders']]\n",
    "\n",
    "# датафрейм с кумулятивным количеством заказов и кумулятивной выручкой по дням в группе B\n",
    "cumulativeRevenueB_590470918 = cumulativeData_590470918[cumulativeData_590470918['group']=='B'][['date','revenue', 'orders']]\n",
    "\n",
    "# Строим график выручки группы А\n",
    "plt.plot(cumulativeRevenueA_590470918['date'], cumulativeRevenueA_590470918['revenue'], label='A')\n",
    "\n",
    "# Строим график выручки группы B\n",
    "plt.plot(cumulativeRevenueB_590470918['date'], cumulativeRevenueB_590470918['revenue'], label='B')\n",
    "\n",
    "plt.xticks(rotation=90)\n",
    "plt.title('График кумулятивной выручки по группам (без дорогого заказа №590470918)')\n",
    "plt.ylabel('Кумулятивная выручка')\n",
    "plt.xlabel('Дата')\n",
    "plt.legend()\n",
    "plt.show()"
   ]
  },
  {
   "cell_type": "markdown",
   "id": "cd2c33b7-69ca-49e5-ba35-dcf223e390a1",
   "metadata": {},
   "source": [
    "<div style=\"border:solid green 2px; padding: 20px\">\n",
    "\n",
    "Выручка почти равномерно увеличивается в течение всего теста. \n",
    "\n",
    "Однако выручка группы 'В' 19.08.2019 резко выросла (с 2.2 млн. у.е. до 3.6 млн. у.е.):\n",
    "* Это может сигнализировать о всплесках числа заказов, либо о появлении очень дорогих заказов в выборке.\n",
    "* Судя по таблице выше в нашем случае это вероятно влияние дорогих заказов 19.08.2019, когда сумма заказов за один день составила 1.4 млн. у.е., что выше средней выручки остальных дней группы 'В' почти в 12 раз.\n",
    "* Проверили заказы 19.08.2019, видим один заказ № 590470918 стоимостью 1294500 у.е., этот заказ можно считать выбросом.\n",
    "\n",
    "Убрав аномальный заказ № 590470918 стоимостью 1294500 у.е., мы видим, что уже со второй половины периода кумулятивная выручка группы 'В' стабильно выше значений группы 'А'.\n",
    "\n",
    "</div>"
   ]
  },
  {
   "cell_type": "markdown",
   "id": "eb5c2a11-cc46-4481-b4eb-3615873985b6",
   "metadata": {},
   "source": [
    "#### График кумулятивного среднего чека по группам"
   ]
  },
  {
   "cell_type": "markdown",
   "id": "023668bf-9baf-4354-a56a-00b7a923a5a5",
   "metadata": {},
   "source": [
    "<div style=\"border:solid black 2px; padding: 20px\">\n",
    "    \n",
    "Построим графики среднего чека по группам — разделим кумулятивную выручку на кумулятивное число заказов.\n",
    "\n",
    "</div>"
   ]
  },
  {
   "cell_type": "code",
   "execution_count": 44,
   "id": "3cf4fafd-0bef-4ad0-a39d-83280b9ea93f",
   "metadata": {},
   "outputs": [
    {
     "data": {
      "image/png": "[encoded data removed]",
      "text/plain": [
       "<Figure size 640x480 with 1 Axes>"
      ]
     },
     "metadata": {},
     "output_type": "display_data"
    }
   ],
   "source": [
    "plt.plot(cumulativeRevenueA['date'], cumulativeRevenueA['revenue']/cumulativeRevenueA['orders'], label='A')\n",
    "plt.plot(cumulativeRevenueB['date'], cumulativeRevenueB['revenue']/cumulativeRevenueB['orders'], label='B')\n",
    "plt.xticks(rotation=90)\n",
    "plt.title('График кумулятивного среднего чека по группам')\n",
    "plt.ylabel('Средний чек')\n",
    "plt.xlabel('Дата')\n",
    "plt.legend()\n",
    "plt.show()"
   ]
  },
  {
   "cell_type": "code",
   "execution_count": 45,
   "id": "f5de4c1e-8f85-4dc5-b66a-f50375b7a850",
   "metadata": {},
   "outputs": [
    {
     "data": {
      "image/png": "[encoded data removed]",
      "text/plain": [
       "<Figure size 640x480 with 1 Axes>"
      ]
     },
     "metadata": {},
     "output_type": "display_data"
    }
   ],
   "source": [
    "plt.plot(cumulativeRevenueA_590470918['date'],\n",
    "         cumulativeRevenueA_590470918['revenue']/cumulativeRevenueA_590470918['orders'], label='A')\n",
    "plt.plot(cumulativeRevenueB_590470918['date'],\n",
    "         cumulativeRevenueB_590470918['revenue']/cumulativeRevenueB_590470918['orders'], label='B')\n",
    "plt.xticks(rotation=90)\n",
    "plt.title('График кумулятивного среднего чека по группам (без дорогого заказа №590470918)')\n",
    "plt.ylabel('Средний чек')\n",
    "plt.xlabel('Дата')\n",
    "plt.legend()\n",
    "plt.show()"
   ]
  },
  {
   "cell_type": "markdown",
   "id": "51bafd3d-6298-4ff6-baaa-b5f2cb3e3724",
   "metadata": {},
   "source": [
    "<div style=\"border:solid green 2px; padding: 20px\">\n",
    "\n",
    "По графику видим аналогичную картину, как в предыдущем пункте. Кумулятивный средний чек группы 'В' вырос 19.08.2019. Как мы выяснили ранее, это связано с одним заказом № 590470918 в группе 'В'.\n",
    "\n",
    "Убрав аномальный заказ № 590470918 стоимостью 1294500 у.е., мы видим, что вначале периода есть колебания по среднему чеку, но ближе к концу теста средний чек становится более равномерным, и находится в одном диапазоне для обеих групп (в районе 7000 у.е.).\n",
    "\n",
    "</div>"
   ]
  },
  {
   "cell_type": "markdown",
   "id": "2ebef4c9-96f8-4328-9f76-33cfcd3e4559",
   "metadata": {},
   "source": [
    "#### График относительного изменения кумулятивного среднего чека группы B к группе A"
   ]
  },
  {
   "cell_type": "markdown",
   "id": "85f553bc-99d4-46eb-90d4-927cdc466dd2",
   "metadata": {},
   "source": [
    "<div style=\"border:solid black 2px; padding: 20px\">\n",
    "    \n",
    "Построим график относительного различия для среднего чека. Добавим горизонтальную ось на уровне 0.\n",
    "\n",
    "</div>"
   ]
  },
  {
   "cell_type": "code",
   "execution_count": 46,
   "id": "9ff194d7-62ef-4ee1-8cec-3e9c257c0eef",
   "metadata": {},
   "outputs": [
    {
     "data": {
      "image/png": "[encoded data removed]",
      "text/plain": [
       "<Figure size 640x480 with 1 Axes>"
      ]
     },
     "metadata": {},
     "output_type": "display_data"
    }
   ],
   "source": [
    "# собираем данные в одном датафрейме\n",
    "mergedCumulativeRevenue = cumulativeRevenueA.merge(cumulativeRevenueB,\n",
    "                                                   left_on='date', right_on='date', how='left', suffixes=['A', 'B'])\n",
    "\n",
    "# cтроим отношение средних чеков\n",
    "plt.plot(mergedCumulativeRevenue['date'],\n",
    "         (mergedCumulativeRevenue['revenueB']/mergedCumulativeRevenue['ordersB'])\n",
    "         /(mergedCumulativeRevenue['revenueA']/mergedCumulativeRevenue['ordersA']) - 1)\n",
    "\n",
    "# добавляем ось X\n",
    "plt.axhline(y=0, color='black', linestyle='--')\n",
    "plt.xticks(rotation=90)\n",
    "plt.title('График относительного изменения кумулятивного среднего чека группы B к группе A')\n",
    "plt.ylabel('Относительное изменение')\n",
    "plt.xlabel('Дата')\n",
    "plt.show()"
   ]
  },
  {
   "cell_type": "code",
   "execution_count": 47,
   "id": "7c394fd0-61e3-49b5-ace0-ed01122d1a86",
   "metadata": {},
   "outputs": [
    {
     "data": {
      "image/png": "[encoded data removed]",
      "text/plain": [
       "<Figure size 640x480 with 1 Axes>"
      ]
     },
     "metadata": {},
     "output_type": "display_data"
    }
   ],
   "source": [
    "# собираем данные в одном датафрейме\n",
    "mergedCumulativeRevenue_590470918 = cumulativeRevenueA_590470918.merge(cumulativeRevenueB_590470918,\n",
    "                                    left_on='date', right_on='date', how='left', suffixes=['A', 'B'])\n",
    "\n",
    "# cтроим отношение средних чеков\n",
    "plt.plot(mergedCumulativeRevenue_590470918['date'],\n",
    "         (mergedCumulativeRevenue_590470918['revenueB']/mergedCumulativeRevenue_590470918['ordersB'])\n",
    "         /(mergedCumulativeRevenue_590470918['revenueA']/mergedCumulativeRevenue_590470918['ordersA']) - 1)\n",
    "\n",
    "# добавляем ось X\n",
    "plt.axhline(y=0, color='black', linestyle='--')\n",
    "plt.xticks(rotation=90)\n",
    "plt.title('График относительного изменения кумулятивного среднего чека группы B к группе A (без заказа №590470918)')\n",
    "plt.ylabel('Относительное изменение')\n",
    "plt.xlabel('Дата')\n",
    "plt.show()"
   ]
  },
  {
   "cell_type": "markdown",
   "id": "88b7fb05-b941-42fc-b34b-2cb27c6df755",
   "metadata": {},
   "source": [
    "<div style=\"border:solid green 2px; padding: 20px\">\n",
    "\n",
    "В нескольких точках график различия между сегментами резко «скачет». В данных точках мы наблюдали крупные заказы и выбросы на графике 'кумулятивный средний чек по группам'.\n",
    "\n",
    "Убрав аномальный заказ № 590470918 стоимостью 1294500 у.е., мы наблюдаем то, что во второй половине теста нет значительных колебаний среднего чека по группам.\n",
    "\n",
    "Всплеск в районе 6-9 августа можно объяснить не высоким средним чеком группы 'В', а скорее низкими показателями по среднему чеку группы 'А' в этот период.\n",
    "\n",
    "</div>"
   ]
  },
  {
   "cell_type": "markdown",
   "id": "b274ca89-3067-4883-9430-2abb20cef3aa",
   "metadata": {},
   "source": [
    "####  График кумулятивного среднего количества заказов на посетителя по группам"
   ]
  },
  {
   "cell_type": "markdown",
   "id": "22e9e54e-fe4d-47c3-92b1-99e93fdcc093",
   "metadata": {},
   "source": [
    "<div style=\"border:solid black 2px; padding: 20px\">\n",
    "    \n",
    "Проанализируем график кумулятивного среднего количества заказов на посетителя по группам. Зададим масштаб осей.\n",
    "\n",
    "</div>"
   ]
  },
  {
   "cell_type": "code",
   "execution_count": 48,
   "id": "814c8a1d-a855-499a-ba30-ee8b3f638498",
   "metadata": {},
   "outputs": [
    {
     "data": {
      "image/png": "[encoded data removed]",
      "text/plain": [
       "<Figure size 640x480 with 1 Axes>"
      ]
     },
     "metadata": {},
     "output_type": "display_data"
    }
   ],
   "source": [
    "# считаем среднее количество заказов на посетителя\n",
    "cumulativeData['conversion'] = cumulativeData['orders']/cumulativeData['visitors']\n",
    "\n",
    "# отделяем данные по группе A\n",
    "cumulativeDataA = cumulativeData[cumulativeData['group']=='A']\n",
    "\n",
    "# отделяем данные по группе B\n",
    "cumulativeDataB = cumulativeData[cumulativeData['group']=='B']\n",
    "\n",
    "# строим графики\n",
    "plt.plot(cumulativeDataA['date'], cumulativeDataA['conversion'], label='A')\n",
    "plt.plot(cumulativeDataB['date'], cumulativeDataB['conversion'], label='B')\n",
    "plt.legend()\n",
    "plt.xticks(rotation=90)\n",
    "plt.title('График кумулятивного среднего количества заказов на посетителя по группам')\n",
    "plt.ylabel('Конверсия')\n",
    "plt.xlabel('Дата')\n",
    "\n",
    "# задаем масштаб осей\n",
    "plt.axis([np.datetime64('2019-08-01'), np.datetime64('2019-08-31'), 0, 0.06]) \n",
    "plt.show()"
   ]
  },
  {
   "cell_type": "markdown",
   "id": "41e52818-0126-41b4-9ef2-44e2c31d4a0b",
   "metadata": {},
   "source": [
    "<div style=\"border:solid green 2px; padding: 20px\">\n",
    "\n",
    "Группы колебались в начале периода, но примерно с 06.08.2019 конверсия группы 'В' стала стабильно выше конверсии группы 'А'.\n",
    "\n",
    "</div>"
   ]
  },
  {
   "cell_type": "markdown",
   "id": "82458723-3e73-48ce-abd5-0c685a60fddd",
   "metadata": {},
   "source": [
    "#### График относительного изменения кумулятивного среднего количества заказов на посетителя группы B к группе A"
   ]
  },
  {
   "cell_type": "markdown",
   "id": "7a3ec7e2-db18-4cc0-9a06-c014d8cef20b",
   "metadata": {},
   "source": [
    "<div style=\"border:solid black 2px; padding: 20px\">\n",
    "    \n",
    "Построим график изменения кумулятивного среднего количества заказов на посетителя группы B к группе A.\n",
    "\n",
    "</div>"
   ]
  },
  {
   "cell_type": "code",
   "execution_count": 49,
   "id": "b63424a2-81ac-4678-b2aa-60065289d253",
   "metadata": {},
   "outputs": [
    {
     "data": {
      "image/png": "[encoded data removed]",
      "text/plain": [
       "<Figure size 640x480 with 1 Axes>"
      ]
     },
     "metadata": {},
     "output_type": "display_data"
    }
   ],
   "source": [
    "mergedCumulativeConversions = cumulativeDataA[['date','conversion']].merge(\n",
    "                              cumulativeDataB[['date','conversion']],\n",
    "                              left_on='date', right_on='date', how='left', suffixes=['A', 'B'])\n",
    "\n",
    "plt.plot(mergedCumulativeConversions['date'],\n",
    "         mergedCumulativeConversions['conversionB']/mergedCumulativeConversions['conversionA'] - 1)\n",
    "\n",
    "plt.axhline(y=0, color='black', linestyle='--')\n",
    "plt.axhline(y=0.15, color='grey', linestyle='--')\n",
    "plt.axis([np.datetime64('2019-08-01'), np.datetime64('2019-08-31'), -0.3, 0.3])\n",
    "plt.title('Относительный прирост кумулятивного среднего количества заказов на посетителя группы B относительно группы A')\n",
    "plt.xticks(rotation=90)\n",
    "plt.ylabel('Относительное изменение')\n",
    "plt.xlabel('Дата')\n",
    "plt.show()"
   ]
  },
  {
   "cell_type": "markdown",
   "id": "80bb8053-6e20-4bc4-9fe2-8bdf321b49ba",
   "metadata": {},
   "source": [
    "<div style=\"border:solid green 2px; padding: 20px\">\n",
    "\n",
    "В начале теста группа 'B' значительно проигрывала группе 'A' по конверсии, затем вырвалась вперёд и зафиксировалась на одном уровне (относительный прирост примерно 15%).\n",
    "\n",
    "</div>"
   ]
  },
  {
   "cell_type": "markdown",
   "id": "f4f35f7d-3277-486c-af44-43054ccab74b",
   "metadata": {},
   "source": [
    "#### Вывод"
   ]
  },
  {
   "cell_type": "markdown",
   "id": "bbc5137f-195e-4606-87da-fcee9e8dfb1d",
   "metadata": {},
   "source": [
    "<div style=\"border:solid green 2px; padding: 20px\">\n",
    "\n",
    "**Графики кумулятивных значений.**\n",
    "\n",
    "**Кумулятивная выручка.**\n",
    "\n",
    "Выручка почти равномерно увеличивается в течение всего теста. \n",
    "\n",
    "Однако выручка группы 'В' 19.08.2019 резко выросла (с 2.2 млн. у.е. до 3.6 млн. у.е.):\n",
    "* Это может сигнализировать о всплесках числа заказов, либо о появлении очень дорогих заказов в выборке.\n",
    "* Судя по таблице выше в нашем случае это вероятно влияние дорогих заказов 19.08.2019, когда сумма заказов за один день составила 1.4 млн. у.е., что выше средней выручки остальных дней группы 'В' почти в 12 раз.\n",
    "* Проверили заказы 19.08.2019, видим один заказ № 590470918 стоимостью 1294500 у.е., этот заказ можно считать выбросом.\n",
    "\n",
    "Убрав аномальный заказ № 590470918 стоимостью 1294500 у.е., мы видим, что уже со второй половины периода кумулятивная выручка группы 'В' стабильно выше значений группы 'А'.\n",
    "\n",
    "**Кумулятивный средний чек по группам.**\n",
    "\n",
    "По графику видим аналогичную картину, как в предыдущем пункте. Кумулятивный средний чек группы 'В' вырос 19.08.2019. Как мы выяснили ранее, это связано с одним заказом № 590470918 в группе 'В'.\n",
    "\n",
    "Убрав аномальный заказ № 590470918 стоимостью 1294500 у.е., мы видим, что вначале периода есть колебания по среднему чеку, но ближе к концу теста средний чек становится более равномерным. И одном диапазоне для обеих групп (в районе 7000 у.е.)\n",
    "\n",
    "**Относительное изменение кумулятивного среднего чека группы B к группе A.**\n",
    "\n",
    "В нескольких точках график различия между сегментами резко «скачет». В данных точках мы наблюдали крупные заказы и выбросы на графике 'кумулятивный средний чек по группам'.\n",
    "\n",
    "Убрав аномальный заказ № 590470918 стоимостью 1294500 у.е., мы наблюдаем то, что во второй половине теста нет значительных колебаний среднего чека по группам.\n",
    "\n",
    "Всплеск в районе 6-9 августа можно объяснить не высоким средним чекам группы 'В', а скорее низкими показателями по среднему чеку группы 'А' в этот период.\n",
    "\n",
    "**Кумулятивное среднее количество заказов на посетителя по группам.**\n",
    "\n",
    "Группы колебались в начале периода, но примерно с 06.08.2019 конверсия группы 'В' стала стабильно выше конверсии группы 'А'.\n",
    "\n",
    "**Относительное изменение кумулятивного среднего количества заказов на посетителя группы B к группе A.**\n",
    "\n",
    "В начале теста группа 'B' значительно проигрывала группе 'A' по конверсии, затем вырвалась вперёд и зафиксировалась на одном уровне (относительный прирост примерно 15%).\n",
    "\n",
    "</div>"
   ]
  },
  {
   "cell_type": "markdown",
   "id": "a4171719-f3ef-4b1e-97e4-b234c45158a1",
   "metadata": {},
   "source": [
    "### Точечные графики и перцентили"
   ]
  },
  {
   "cell_type": "markdown",
   "id": "d548a54b-32d0-4896-a270-ff64ba8b9d50",
   "metadata": {},
   "source": [
    "#### Точечный график количества заказов по пользователям"
   ]
  },
  {
   "cell_type": "markdown",
   "id": "270c41a9-99e7-464b-87ec-4f219658af8e",
   "metadata": {},
   "source": [
    "<div style=\"border:solid black 2px; padding: 20px\">\n",
    "    \n",
    "Построим точечный график количества заказов по пользователям.\n",
    "\n",
    "Зачастую «обычный» пользователь совершает не больше двух заказов за короткий срок, проверим полученные данные.\n",
    "\n",
    "</div>"
   ]
  },
  {
   "cell_type": "code",
   "execution_count": 50,
   "id": "3c0624e6-5827-4809-b2cb-18ae8eb59852",
   "metadata": {},
   "outputs": [
    {
     "data": {
      "text/html": [
       "<style type=\"text/css\">\n",
       "</style>\n",
       "<table id=\"T_62446\">\n",
       "  <caption>Количество заказов по пользователям (без дубликатов)</caption>\n",
       "  <thead>\n",
       "    <tr>\n",
       "      <th class=\"blank level0\" >&nbsp;</th>\n",
       "      <th id=\"T_62446_level0_col0\" class=\"col_heading level0 col0\" >visitor_id_wo_duplicated</th>\n",
       "      <th id=\"T_62446_level0_col1\" class=\"col_heading level0 col1\" >orders</th>\n",
       "    </tr>\n",
       "  </thead>\n",
       "  <tbody>\n",
       "    <tr>\n",
       "      <th id=\"T_62446_level0_row0\" class=\"row_heading level0 row0\" >908</th>\n",
       "      <td id=\"T_62446_row0_col0\" class=\"data row0 col0\" >3967698036</td>\n",
       "      <td id=\"T_62446_row0_col1\" class=\"data row0 col1\" >3</td>\n",
       "    </tr>\n",
       "    <tr>\n",
       "      <th id=\"T_62446_level0_row1\" class=\"row_heading level0 row1\" >55</th>\n",
       "      <td id=\"T_62446_row1_col0\" class=\"data row1 col0\" >249864742</td>\n",
       "      <td id=\"T_62446_row1_col1\" class=\"data row1 col1\" >3</td>\n",
       "    </tr>\n",
       "    <tr>\n",
       "      <th id=\"T_62446_level0_row2\" class=\"row_heading level0 row2\" >478</th>\n",
       "      <td id=\"T_62446_row2_col0\" class=\"data row2 col0\" >2108163459</td>\n",
       "      <td id=\"T_62446_row2_col1\" class=\"data row2 col1\" >3</td>\n",
       "    </tr>\n",
       "    <tr>\n",
       "      <th id=\"T_62446_level0_row3\" class=\"row_heading level0 row3\" >687</th>\n",
       "      <td id=\"T_62446_row3_col0\" class=\"data row3 col0\" >2988190573</td>\n",
       "      <td id=\"T_62446_row3_col1\" class=\"data row3 col1\" >3</td>\n",
       "    </tr>\n",
       "    <tr>\n",
       "      <th id=\"T_62446_level0_row4\" class=\"row_heading level0 row4\" >890</th>\n",
       "      <td id=\"T_62446_row4_col0\" class=\"data row4 col0\" >3908431265</td>\n",
       "      <td id=\"T_62446_row4_col1\" class=\"data row4 col1\" >3</td>\n",
       "    </tr>\n",
       "    <tr>\n",
       "      <th id=\"T_62446_level0_row5\" class=\"row_heading level0 row5\" >138</th>\n",
       "      <td id=\"T_62446_row5_col0\" class=\"data row5 col0\" >611059232</td>\n",
       "      <td id=\"T_62446_row5_col1\" class=\"data row5 col1\" >3</td>\n",
       "    </tr>\n",
       "    <tr>\n",
       "      <th id=\"T_62446_level0_row6\" class=\"row_heading level0 row6\" >632</th>\n",
       "      <td id=\"T_62446_row6_col0\" class=\"data row6 col0\" >2742574263</td>\n",
       "      <td id=\"T_62446_row6_col1\" class=\"data row6 col1\" >3</td>\n",
       "    </tr>\n",
       "    <tr>\n",
       "      <th id=\"T_62446_level0_row7\" class=\"row_heading level0 row7\" >157</th>\n",
       "      <td id=\"T_62446_row7_col0\" class=\"data row7 col0\" >678354126</td>\n",
       "      <td id=\"T_62446_row7_col1\" class=\"data row7 col1\" >2</td>\n",
       "    </tr>\n",
       "    <tr>\n",
       "      <th id=\"T_62446_level0_row8\" class=\"row_heading level0 row8\" >323</th>\n",
       "      <td id=\"T_62446_row8_col0\" class=\"data row8 col0\" >1404560065</td>\n",
       "      <td id=\"T_62446_row8_col1\" class=\"data row8 col1\" >2</td>\n",
       "    </tr>\n",
       "    <tr>\n",
       "      <th id=\"T_62446_level0_row9\" class=\"row_heading level0 row9\" >452</th>\n",
       "      <td id=\"T_62446_row9_col0\" class=\"data row9 col0\" >1985475298</td>\n",
       "      <td id=\"T_62446_row9_col1\" class=\"data row9 col1\" >2</td>\n",
       "    </tr>\n",
       "  </tbody>\n",
       "</table>\n"
      ],
      "text/plain": [
       "<pandas.io.formats.style.Styler at 0x1b8d9f8f090>"
      ]
     },
     "execution_count": 50,
     "metadata": {},
     "output_type": "execute_result"
    }
   ],
   "source": [
    "# данные без дубликатов пользователей в группах\n",
    "ordersByUsers = orders_wo_dupl.groupby('visitor_id', as_index=False).agg({'transaction_id': 'nunique'})\n",
    "ordersByUsers.columns = ['visitor_id_wo_duplicated', 'orders']\n",
    "ordersByUsers.sort_values(by='orders', ascending=False).head(10)\\\n",
    "             .style.set_caption('Количество заказов по пользователям (без дубликатов)')"
   ]
  },
  {
   "cell_type": "code",
   "execution_count": 51,
   "id": "680eb22c-c2fc-4344-a109-345c9ae43095",
   "metadata": {},
   "outputs": [
    {
     "data": {
      "text/html": [
       "<style type=\"text/css\">\n",
       "</style>\n",
       "<table id=\"T_7801f\">\n",
       "  <caption>Количество заказов по пользователям (исходный файл)</caption>\n",
       "  <thead>\n",
       "    <tr>\n",
       "      <th class=\"blank level0\" >&nbsp;</th>\n",
       "      <th id=\"T_7801f_level0_col0\" class=\"col_heading level0 col0\" >visitor_id</th>\n",
       "      <th id=\"T_7801f_level0_col1\" class=\"col_heading level0 col1\" >orders</th>\n",
       "    </tr>\n",
       "  </thead>\n",
       "  <tbody>\n",
       "    <tr>\n",
       "      <th id=\"T_7801f_level0_row0\" class=\"row_heading level0 row0\" >1023</th>\n",
       "      <td id=\"T_7801f_row0_col0\" class=\"data row0 col0\" >4256040402</td>\n",
       "      <td id=\"T_7801f_row0_col1\" class=\"data row0 col1\" >11</td>\n",
       "    </tr>\n",
       "    <tr>\n",
       "      <th id=\"T_7801f_level0_row1\" class=\"row_heading level0 row1\" >591</th>\n",
       "      <td id=\"T_7801f_row1_col0\" class=\"data row1 col0\" >2458001652</td>\n",
       "      <td id=\"T_7801f_row1_col1\" class=\"data row1 col1\" >11</td>\n",
       "    </tr>\n",
       "    <tr>\n",
       "      <th id=\"T_7801f_level0_row2\" class=\"row_heading level0 row2\" >569</th>\n",
       "      <td id=\"T_7801f_row2_col0\" class=\"data row2 col0\" >2378935119</td>\n",
       "      <td id=\"T_7801f_row2_col1\" class=\"data row2 col1\" >9</td>\n",
       "    </tr>\n",
       "    <tr>\n",
       "      <th id=\"T_7801f_level0_row3\" class=\"row_heading level0 row3\" >487</th>\n",
       "      <td id=\"T_7801f_row3_col0\" class=\"data row3 col0\" >2038680547</td>\n",
       "      <td id=\"T_7801f_row3_col1\" class=\"data row3 col1\" >8</td>\n",
       "    </tr>\n",
       "    <tr>\n",
       "      <th id=\"T_7801f_level0_row4\" class=\"row_heading level0 row4\" >44</th>\n",
       "      <td id=\"T_7801f_row4_col0\" class=\"data row4 col0\" >199603092</td>\n",
       "      <td id=\"T_7801f_row4_col1\" class=\"data row4 col1\" >5</td>\n",
       "    </tr>\n",
       "    <tr>\n",
       "      <th id=\"T_7801f_level0_row5\" class=\"row_heading level0 row5\" >744</th>\n",
       "      <td id=\"T_7801f_row5_col0\" class=\"data row5 col0\" >3062433592</td>\n",
       "      <td id=\"T_7801f_row5_col1\" class=\"data row5 col1\" >5</td>\n",
       "    </tr>\n",
       "    <tr>\n",
       "      <th id=\"T_7801f_level0_row6\" class=\"row_heading level0 row6\" >55</th>\n",
       "      <td id=\"T_7801f_row6_col0\" class=\"data row6 col0\" >237748145</td>\n",
       "      <td id=\"T_7801f_row6_col1\" class=\"data row6 col1\" >5</td>\n",
       "    </tr>\n",
       "    <tr>\n",
       "      <th id=\"T_7801f_level0_row7\" class=\"row_heading level0 row7\" >917</th>\n",
       "      <td id=\"T_7801f_row7_col0\" class=\"data row7 col0\" >3803269165</td>\n",
       "      <td id=\"T_7801f_row7_col1\" class=\"data row7 col1\" >5</td>\n",
       "    </tr>\n",
       "    <tr>\n",
       "      <th id=\"T_7801f_level0_row8\" class=\"row_heading level0 row8\" >299</th>\n",
       "      <td id=\"T_7801f_row8_col0\" class=\"data row8 col0\" >1230306981</td>\n",
       "      <td id=\"T_7801f_row8_col1\" class=\"data row8 col1\" >5</td>\n",
       "    </tr>\n",
       "    <tr>\n",
       "      <th id=\"T_7801f_level0_row9\" class=\"row_heading level0 row9\" >897</th>\n",
       "      <td id=\"T_7801f_row9_col0\" class=\"data row9 col0\" >3717692402</td>\n",
       "      <td id=\"T_7801f_row9_col1\" class=\"data row9 col1\" >5</td>\n",
       "    </tr>\n",
       "  </tbody>\n",
       "</table>\n"
      ],
      "text/plain": [
       "<pandas.io.formats.style.Styler at 0x1b8d9d95c50>"
      ]
     },
     "execution_count": 51,
     "metadata": {},
     "output_type": "execute_result"
    }
   ],
   "source": [
    "# данные исходник\n",
    "ordersByUsers_source = orders.groupby('visitor_id', as_index=False).agg({'transaction_id': 'nunique'})\n",
    "ordersByUsers_source.columns = ['visitor_id', 'orders']\n",
    "ordersByUsers_source.sort_values(by='orders', ascending=False).head(10)\\\n",
    "                     .style.set_caption('Количество заказов по пользователям (исходный файл)')"
   ]
  },
  {
   "cell_type": "code",
   "execution_count": 52,
   "id": "4f552486-b134-4144-aeae-4a3720d52dc6",
   "metadata": {},
   "outputs": [
    {
     "data": {
      "image/png": "[encoded data removed]",
      "text/plain": [
       "<Figure size 1008x1008 with 2 Axes>"
      ]
     },
     "metadata": {},
     "output_type": "display_data"
    }
   ],
   "source": [
    "var1 = ordersByUsers.groupby('orders')['visitor_id_wo_duplicated'].count()\n",
    "var2 = ordersByUsers_source.groupby('orders')['visitor_id'].count()\n",
    "\n",
    "label_ax1 = [1,2,3]\n",
    "label_ax2 = [1,2,3,4,5,8,9,11]\n",
    "\n",
    "explode_ax1 = [0.1,0.2,0.2]\n",
    "\n",
    "fig = plt.figure(figsize=(7,7),dpi=144)\n",
    "ax1 = fig.add_subplot(121)\n",
    "ax1.pie(var1, explode=explode_ax1, autopct='%.1f%%')\n",
    "ax1.legend(label_ax1, bbox_to_anchor=(0.9, 0.8))\n",
    "ax1.set_title('Доля пользователей по количеству заказов (без дубликатов)', fontsize=7)\n",
    "\n",
    "ax2 = fig.add_subplot(122)\n",
    "ax2.pie(var2)\n",
    "ax2.legend(label_ax2, loc='right', bbox_to_anchor=(1.4, 0.5))\n",
    "ax2.set_title('Доля пользователей по количеству заказов', fontsize=7)\n",
    "\n",
    "plt.show()"
   ]
  },
  {
   "cell_type": "code",
   "execution_count": 53,
   "id": "c0160ecd-7fc8-4d1d-a299-bcd92cff29b3",
   "metadata": {},
   "outputs": [
    {
     "data": {
      "image/png": "[encoded data removed]",
      "text/plain": [
       "<Figure size 640x480 with 1 Axes>"
      ]
     },
     "metadata": {},
     "output_type": "display_data"
    }
   ],
   "source": [
    "# строим диаграмму рассеяния для двух таблиц\n",
    "x1_orders = pd.Series(range(0,len(ordersByUsers)))\n",
    "y1_orders = ordersByUsers['orders']\n",
    "\n",
    "x2_orders = pd.Series(range(0,len(ordersByUsers_source)))\n",
    "y2_orders = ordersByUsers_source['orders']\n",
    "\n",
    "plt.scatter(x1_orders, y1_orders, c = 'b', marker = 'x', label='Файл без дубликатов в группе')\n",
    "plt.scatter(x2_orders, y2_orders, c = 'r', marker = 'o', label='Исходный файл')\n",
    "plt.title('Точечный график количества заказов по пользователям')\n",
    "plt.ylabel('Количество заказов по пользователям')\n",
    "plt.legend(loc='upper left')\n",
    "plt.show()"
   ]
  },
  {
   "cell_type": "markdown",
   "id": "80cfbcb4-2458-4db8-838c-eebf5cb6f5ff",
   "metadata": {},
   "source": [
    "<div style=\"border:solid green 2px; padding: 20px\">\n",
    "\n",
    "Выборка без дубликатов пользователей по группам:\n",
    "* Только 7 пользователей совершили 3 заказа за август 2019, остальные меньше трех.\n",
    "* У большинства пользователей 1 заказ (доля 96.3%).\n",
    "\n",
    "Исходник (есть дубликаты пользователей по группам):\n",
    "* У большинства пользователей 1 заказ (доля 90.9%).\n",
    "* У 6.2% пользователей 2 заказа.\n",
    "* Доля 2.9% - где больше трех заказов у пользователя.\n",
    "\n",
    "</div>"
   ]
  },
  {
   "cell_type": "markdown",
   "id": "6d7dcd13-ae99-47a0-99bc-f3535fcfe49d",
   "metadata": {},
   "source": [
    "#### 95-й и 99-й перцентили количества заказов на пользователя"
   ]
  },
  {
   "cell_type": "markdown",
   "id": "9e14a08b-9f77-4bb0-8845-65e86e2e5c37",
   "metadata": {},
   "source": [
    "<div style=\"border:solid black 2px; padding: 20px\">\n",
    "    \n",
    "Посчитаем 95-й и 99-й перцентили количества заказов на пользователя.\n",
    "\n",
    "Выберем границу для определения аномальных пользователей.\n",
    "\n",
    "</div>"
   ]
  },
  {
   "cell_type": "code",
   "execution_count": 54,
   "id": "b4504907-4562-4a0d-9f8c-6966cdfd7b62",
   "metadata": {},
   "outputs": [
    {
     "name": "stdout",
     "output_type": "stream",
     "text": [
      "Перцентили (95, 99) количества заказов на одного пользователя (данные без дубликатов): [1. 2.]\n"
     ]
    }
   ],
   "source": [
    "print('Перцентили (95, 99) количества заказов на одного пользователя (данные без дубликатов):',\n",
    "      np.percentile(ordersByUsers['orders'], [95, 99]))"
   ]
  },
  {
   "cell_type": "code",
   "execution_count": 55,
   "id": "94063b6c-cb25-496d-8202-f2bc93ccf831",
   "metadata": {},
   "outputs": [
    {
     "name": "stdout",
     "output_type": "stream",
     "text": [
      "Перцентили (95, 99) количества заказов на одного пользователя (исходник): [2. 4.]\n"
     ]
    }
   ],
   "source": [
    "print('Перцентили (95, 99) количества заказов на одного пользователя (исходник):',\n",
    "      np.percentile(ordersByUsers_source['orders'], [95, 99]))"
   ]
  },
  {
   "cell_type": "markdown",
   "id": "6a23bd1e-92f4-488f-a1a6-4ca4487236a6",
   "metadata": {},
   "source": [
    "<div style=\"border:solid green 2px; padding: 20px\">\n",
    "\n",
    "Посчитав перцентили (95 и 99) количества заказов на пользователя для двух таблиц (с дубликатами и без дубликатов), будем предполагать, что можно выбрать от 3х заказов на пользователя за верхнюю границу числа заказов, и отсеять аномальных пользователей по ней.\n",
    "\n",
    "</div>"
   ]
  },
  {
   "cell_type": "markdown",
   "id": "88ff433e-eb02-4229-8c73-f48d43b6b519",
   "metadata": {},
   "source": [
    "#### Точечный график стоимостей заказов"
   ]
  },
  {
   "cell_type": "markdown",
   "id": "a7505680-881c-46d1-9001-f82d954d2b0e",
   "metadata": {},
   "source": [
    "<div style=\"border:solid black 2px; padding: 20px\">\n",
    "    \n",
    "Построим точечный график стоимостей заказов.\n",
    "\n",
    "</div>"
   ]
  },
  {
   "cell_type": "code",
   "execution_count": 56,
   "id": "7a9afb47-5cbd-4795-af27-ba7b9f33b5e8",
   "metadata": {},
   "outputs": [
    {
     "data": {
      "text/html": [
       "<style type=\"text/css\">\n",
       "</style>\n",
       "<table id=\"T_82460\">\n",
       "  <caption>Стоимость заказов (без дубликатов)</caption>\n",
       "  <thead>\n",
       "    <tr>\n",
       "      <th class=\"blank level0\" >&nbsp;</th>\n",
       "      <th id=\"T_82460_level0_col0\" class=\"col_heading level0 col0\" >transaction_id</th>\n",
       "      <th id=\"T_82460_level0_col1\" class=\"col_heading level0 col1\" >revenue</th>\n",
       "    </tr>\n",
       "  </thead>\n",
       "  <tbody>\n",
       "    <tr>\n",
       "      <th id=\"T_82460_level0_row0\" class=\"row_heading level0 row0\" >143</th>\n",
       "      <td id=\"T_82460_row0_col0\" class=\"data row0 col0\" >590470918</td>\n",
       "      <td id=\"T_82460_row0_col1\" class=\"data row0 col1\" >1294500</td>\n",
       "    </tr>\n",
       "    <tr>\n",
       "      <th id=\"T_82460_level0_row1\" class=\"row_heading level0 row1\" >939</th>\n",
       "      <td id=\"T_82460_row1_col0\" class=\"data row1 col0\" >3936777065</td>\n",
       "      <td id=\"T_82460_row1_col1\" class=\"data row1 col1\" >202740</td>\n",
       "    </tr>\n",
       "    <tr>\n",
       "      <th id=\"T_82460_level0_row2\" class=\"row_heading level0 row2\" >161</th>\n",
       "      <td id=\"T_82460_row2_col0\" class=\"data row2 col0\" >666610489</td>\n",
       "      <td id=\"T_82460_row2_col1\" class=\"data row2 col1\" >92550</td>\n",
       "    </tr>\n",
       "    <tr>\n",
       "      <th id=\"T_82460_level0_row3\" class=\"row_heading level0 row3\" >875</th>\n",
       "      <td id=\"T_82460_row3_col0\" class=\"data row3 col0\" >3668308183</td>\n",
       "      <td id=\"T_82460_row3_col1\" class=\"data row3 col1\" >86620</td>\n",
       "    </tr>\n",
       "    <tr>\n",
       "      <th id=\"T_82460_level0_row4\" class=\"row_heading level0 row4\" >850</th>\n",
       "      <td id=\"T_82460_row4_col0\" class=\"data row4 col0\" >3603576309</td>\n",
       "      <td id=\"T_82460_row4_col1\" class=\"data row4 col1\" >67990</td>\n",
       "    </tr>\n",
       "    <tr>\n",
       "      <th id=\"T_82460_level0_row5\" class=\"row_heading level0 row5\" >311</th>\n",
       "      <td id=\"T_82460_row5_col0\" class=\"data row5 col0\" >1348774318</td>\n",
       "      <td id=\"T_82460_row5_col1\" class=\"data row5 col1\" >66350</td>\n",
       "    </tr>\n",
       "    <tr>\n",
       "      <th id=\"T_82460_level0_row6\" class=\"row_heading level0 row6\" >71</th>\n",
       "      <td id=\"T_82460_row6_col0\" class=\"data row6 col0\" >316924019</td>\n",
       "      <td id=\"T_82460_row6_col1\" class=\"data row6 col1\" >65710</td>\n",
       "    </tr>\n",
       "    <tr>\n",
       "      <th id=\"T_82460_level0_row7\" class=\"row_heading level0 row7\" >310</th>\n",
       "      <td id=\"T_82460_row7_col0\" class=\"data row7 col0\" >1347999392</td>\n",
       "      <td id=\"T_82460_row7_col1\" class=\"data row7 col1\" >60450</td>\n",
       "    </tr>\n",
       "    <tr>\n",
       "      <th id=\"T_82460_level0_row8\" class=\"row_heading level0 row8\" >585</th>\n",
       "      <td id=\"T_82460_row8_col0\" class=\"data row8 col0\" >2420050534</td>\n",
       "      <td id=\"T_82460_row8_col1\" class=\"data row8 col1\" >58550</td>\n",
       "    </tr>\n",
       "    <tr>\n",
       "      <th id=\"T_82460_level0_row9\" class=\"row_heading level0 row9\" >738</th>\n",
       "      <td id=\"T_82460_row9_col0\" class=\"data row9 col0\" >3163614039</td>\n",
       "      <td id=\"T_82460_row9_col1\" class=\"data row9 col1\" >53904</td>\n",
       "    </tr>\n",
       "  </tbody>\n",
       "</table>\n"
      ],
      "text/plain": [
       "<pandas.io.formats.style.Styler at 0x1b8da339ad0>"
      ]
     },
     "execution_count": 56,
     "metadata": {},
     "output_type": "execute_result"
    }
   ],
   "source": [
    "# данные без дубликатов пользователей в группах\n",
    "ordersByUsers_revenue = orders_wo_dupl.groupby('transaction_id', as_index=False).agg({'revenue': 'sum'})\n",
    "ordersByUsers_revenue.sort_values(by='revenue', ascending=False).head(10)\\\n",
    "                     .style.set_caption('Стоимость заказов (без дубликатов)')"
   ]
  },
  {
   "cell_type": "code",
   "execution_count": 57,
   "id": "929919af-4467-42e0-b243-fd3639a2a179",
   "metadata": {},
   "outputs": [
    {
     "data": {
      "text/html": [
       "<style type=\"text/css\">\n",
       "</style>\n",
       "<table id=\"T_c8a34\">\n",
       "  <caption>Стоимость заказов (исходный файл)</caption>\n",
       "  <thead>\n",
       "    <tr>\n",
       "      <th class=\"blank level0\" >&nbsp;</th>\n",
       "      <th id=\"T_c8a34_level0_col0\" class=\"col_heading level0 col0\" >transaction_id</th>\n",
       "      <th id=\"T_c8a34_level0_col1\" class=\"col_heading level0 col1\" >revenue</th>\n",
       "    </tr>\n",
       "  </thead>\n",
       "  <tbody>\n",
       "    <tr>\n",
       "      <th id=\"T_c8a34_level0_row0\" class=\"row_heading level0 row0\" >168</th>\n",
       "      <td id=\"T_c8a34_row0_col0\" class=\"data row0 col0\" >590470918</td>\n",
       "      <td id=\"T_c8a34_row0_col1\" class=\"data row0 col1\" >1294500</td>\n",
       "    </tr>\n",
       "    <tr>\n",
       "      <th id=\"T_c8a34_level0_row1\" class=\"row_heading level0 row1\" >1107</th>\n",
       "      <td id=\"T_c8a34_row1_col0\" class=\"data row1 col0\" >3936777065</td>\n",
       "      <td id=\"T_c8a34_row1_col1\" class=\"data row1 col1\" >202740</td>\n",
       "    </tr>\n",
       "    <tr>\n",
       "      <th id=\"T_c8a34_level0_row2\" class=\"row_heading level0 row2\" >49</th>\n",
       "      <td id=\"T_c8a34_row2_col0\" class=\"data row2 col0\" >192721366</td>\n",
       "      <td id=\"T_c8a34_row2_col1\" class=\"data row2 col1\" >93940</td>\n",
       "    </tr>\n",
       "    <tr>\n",
       "      <th id=\"T_c8a34_level0_row3\" class=\"row_heading level0 row3\" >188</th>\n",
       "      <td id=\"T_c8a34_row3_col0\" class=\"data row3 col0\" >666610489</td>\n",
       "      <td id=\"T_c8a34_row3_col1\" class=\"data row3 col1\" >92550</td>\n",
       "    </tr>\n",
       "    <tr>\n",
       "      <th id=\"T_c8a34_level0_row4\" class=\"row_heading level0 row4\" >1029</th>\n",
       "      <td id=\"T_c8a34_row4_col0\" class=\"data row4 col0\" >3668308183</td>\n",
       "      <td id=\"T_c8a34_row4_col1\" class=\"data row4 col1\" >86620</td>\n",
       "    </tr>\n",
       "    <tr>\n",
       "      <th id=\"T_c8a34_level0_row5\" class=\"row_heading level0 row5\" >322</th>\n",
       "      <td id=\"T_c8a34_row5_col0\" class=\"data row5 col0\" >1216533772</td>\n",
       "      <td id=\"T_c8a34_row5_col1\" class=\"data row5 col1\" >78990</td>\n",
       "    </tr>\n",
       "    <tr>\n",
       "      <th id=\"T_c8a34_level0_row6\" class=\"row_heading level0 row6\" >503</th>\n",
       "      <td id=\"T_c8a34_row6_col0\" class=\"data row6 col0\" >1811671147</td>\n",
       "      <td id=\"T_c8a34_row6_col1\" class=\"data row6 col1\" >78990</td>\n",
       "    </tr>\n",
       "    <tr>\n",
       "      <th id=\"T_c8a34_level0_row7\" class=\"row_heading level0 row7\" >1000</th>\n",
       "      <td id=\"T_c8a34_row7_col0\" class=\"data row7 col0\" >3603576309</td>\n",
       "      <td id=\"T_c8a34_row7_col1\" class=\"data row7 col1\" >67990</td>\n",
       "    </tr>\n",
       "    <tr>\n",
       "      <th id=\"T_c8a34_level0_row8\" class=\"row_heading level0 row8\" >364</th>\n",
       "      <td id=\"T_c8a34_row8_col0\" class=\"data row8 col0\" >1348774318</td>\n",
       "      <td id=\"T_c8a34_row8_col1\" class=\"data row8 col1\" >66350</td>\n",
       "    </tr>\n",
       "    <tr>\n",
       "      <th id=\"T_c8a34_level0_row9\" class=\"row_heading level0 row9\" >81</th>\n",
       "      <td id=\"T_c8a34_row9_col0\" class=\"data row9 col0\" >316924019</td>\n",
       "      <td id=\"T_c8a34_row9_col1\" class=\"data row9 col1\" >65710</td>\n",
       "    </tr>\n",
       "  </tbody>\n",
       "</table>\n"
      ],
      "text/plain": [
       "<pandas.io.formats.style.Styler at 0x1b8da243a90>"
      ]
     },
     "execution_count": 57,
     "metadata": {},
     "output_type": "execute_result"
    }
   ],
   "source": [
    "# данные исходник\n",
    "ordersByUsers_source_revenue = orders.groupby('transaction_id', as_index=False).agg({'revenue': 'sum'})\n",
    "ordersByUsers_source_revenue.sort_values(by='revenue', ascending=False).head(10)\\\n",
    "                            .style.set_caption('Стоимость заказов (исходный файл)')"
   ]
  },
  {
   "cell_type": "code",
   "execution_count": 58,
   "id": "46918623-425c-4055-82b7-322bdd191276",
   "metadata": {},
   "outputs": [
    {
     "data": {
      "image/png": "[encoded data removed]",
      "text/plain": [
       "<Figure size 640x480 with 1 Axes>"
      ]
     },
     "metadata": {},
     "output_type": "display_data"
    }
   ],
   "source": [
    "# строим диаграмму рассеяния для двух таблиц\n",
    "x1 = pd.Series(range(0,len(ordersByUsers_revenue['revenue'])))\n",
    "y1 = ordersByUsers_revenue['revenue']\n",
    "\n",
    "x2 = pd.Series(range(0,len(ordersByUsers_source_revenue['revenue'])))\n",
    "y2 = ordersByUsers_source_revenue['revenue']\n",
    "\n",
    "plt.scatter(x1, y1, c = 'b', marker = 'x', label='Без дубликатов в группе')\n",
    "plt.scatter(x2, y2, c = 'r', marker = 'o', label='Исходник')\n",
    "plt.title('Точечный график стоимостей заказов')\n",
    "plt.ylabel('Стоимость заказа')\n",
    "plt.legend(loc='upper right')\n",
    "plt.show()"
   ]
  },
  {
   "cell_type": "markdown",
   "id": "7c48dc2f-e73f-4d67-8b5b-c557dc87956e",
   "metadata": {},
   "source": [
    "<div style=\"border:solid green 2px; padding: 20px\">\n",
    "\n",
    "Есть немного дорогих заказов. По графику предположительно можно выбрать границу аномальных заказов до 50 000 у.е. Однако ниже посчитаем перцентили, что точно отсеять крайние значения. \n",
    "\n",
    "</div>"
   ]
  },
  {
   "cell_type": "markdown",
   "id": "88a20690-1bc9-4a1a-989f-4d478ff0c615",
   "metadata": {},
   "source": [
    "#### 95-й и 99-й перцентили стоимости заказов"
   ]
  },
  {
   "cell_type": "markdown",
   "id": "e429bd38-5820-4d14-876c-343d7035d853",
   "metadata": {},
   "source": [
    "<div style=\"border:solid black 2px; padding: 20px\">\n",
    "    \n",
    "Посчитаем 95-й и 99-й перцентили стоимости заказов. Выберем границу для определения аномальных заказов.\n",
    "\n",
    "</div>"
   ]
  },
  {
   "cell_type": "code",
   "execution_count": 59,
   "id": "d64eeb61-7d90-4710-a360-faa7d53bda05",
   "metadata": {},
   "outputs": [
    {
     "name": "stdout",
     "output_type": "stream",
     "text": [
      "Перцентили (95, 99) стоимости заказов (данные без дубликатов): [26785. 53904.]\n"
     ]
    }
   ],
   "source": [
    "print('Перцентили (95, 99) стоимости заказов (данные без дубликатов):',\n",
    "      np.percentile(ordersByUsers_revenue['revenue'], [95, 99]))"
   ]
  },
  {
   "cell_type": "code",
   "execution_count": 60,
   "id": "77df18d7-65b2-4935-a3b3-01e569ff7041",
   "metadata": {},
   "outputs": [
    {
     "name": "stdout",
     "output_type": "stream",
     "text": [
      "Перцентили (95, 99) стоимости заказов (исходник): [28000.  58233.2]\n"
     ]
    }
   ],
   "source": [
    "print('Перцентили (95, 99) стоимости заказов (исходник):',\n",
    "      np.percentile(ordersByUsers_source_revenue['revenue'], [95, 99]))"
   ]
  },
  {
   "cell_type": "markdown",
   "id": "784618eb-d225-4f55-968c-e0a69a6d9c1d",
   "metadata": {},
   "source": [
    "<div style=\"border:solid green 2px; padding: 20px\">\n",
    "\n",
    "Границы у двух выборок схожи.\n",
    "\n",
    "Будем смотреть по таблице без дубликатов пользователей.\n",
    "\n",
    "Не более 5% заказов дороже 26 785 у.е. и не более 1% дороже 53 904 у.е.\n",
    "\n",
    "</div>"
   ]
  },
  {
   "cell_type": "markdown",
   "id": "312138ff-b71a-437a-97e4-46b1223d2739",
   "metadata": {},
   "source": [
    "#### Вывод"
   ]
  },
  {
   "cell_type": "markdown",
   "id": "4f4f39a3-0dc2-404b-b806-a069f0f0171b",
   "metadata": {},
   "source": [
    "<div style=\"border:solid green 2px; padding: 20px\">\n",
    "\n",
    "**Проверка аномальных значений.**\n",
    "\n",
    "**Количество заказов на пользователя.**\n",
    "\n",
    "Выборка без дубликатов пользователей по группам:\n",
    "* Только 7 пользователей совершили 3 заказа за август 2019, остальные меньше трех.\n",
    "* У большинства пользователей 1 заказ (доля 96.3%).\n",
    "\n",
    "Исходник (есть дубликаты пользователей по группам):\n",
    "* У большинства пользователей 1 заказ (доля 90.9%).\n",
    "* У 6.2% пользователей 2 заказа.\n",
    "* Доля 2.9%  - где больше трех заказов у пользователя.\n",
    "\n",
    "Посчитав перцентили (95 и 99) количества заказов на пользователя для двух таблиц (с дубликатами и без дубликатов), будем предполагать, что можно выбрать от 3х заказов на пользователя за верхнюю границу числа заказов, и отсеять аномальных пользователей по ней.\n",
    "\n",
    "**Стоимость заказов.**\n",
    "\n",
    "По таблице без дубликатов пользователей: не более 5% заказов дороже 26 785 у.е. и не более 1% дороже 53 904 у.е.\n",
    "\n",
    "</div>"
   ]
  },
  {
   "cell_type": "markdown",
   "id": "7684bf69-2549-428e-b361-fb4a48edde3c",
   "metadata": {},
   "source": [
    "### Статистическая значимость различий"
   ]
  },
  {
   "cell_type": "markdown",
   "id": "21ea7955-ab30-48f7-b87b-3474114bf392",
   "metadata": {},
   "source": [
    "#### Статистическая значимость различий в среднем количестве заказов на посетителя между группами по «сырым» данным"
   ]
  },
  {
   "cell_type": "markdown",
   "id": "1d14d692-cbf4-4b2c-986b-79e7184091da",
   "metadata": {},
   "source": [
    "<div style=\"border:solid black 2px; padding: 20px\">\n",
    "    \n",
    "Посчитаем статистическую значимость различий в среднем количестве заказов на посетителя между группами по «сырым» данным.\n",
    "\n",
    "Возьмем данные без дубликатов пользователей в группах А и В.\n",
    "\n",
    "</div>"
   ]
  },
  {
   "cell_type": "markdown",
   "id": "d3236fba-5560-434c-a9a2-6e19965b68c0",
   "metadata": {},
   "source": [
    "<div style=\"border:solid black 2px; padding: 20px\">\n",
    "    \n",
    "Сформулируем гипотезы:\n",
    "* Нулевая: различий в среднем количестве заказов между группами нет.\n",
    "* Альтернативная: различия в среднем количестве заказов между группами есть.\n",
    "\n",
    "Применим статистический критерий Манна-Уитни к полученным выборкам. \n",
    "\n",
    "</div>"
   ]
  },
  {
   "cell_type": "code",
   "execution_count": 61,
   "id": "d526ec9a",
   "metadata": {},
   "outputs": [
    {
     "data": {
      "text/html": [
       "<div>\n",
       "<style scoped>\n",
       "    .dataframe tbody tr th:only-of-type {\n",
       "        vertical-align: middle;\n",
       "    }\n",
       "\n",
       "    .dataframe tbody tr th {\n",
       "        vertical-align: top;\n",
       "    }\n",
       "\n",
       "    .dataframe thead th {\n",
       "        text-align: right;\n",
       "    }\n",
       "</style>\n",
       "<table border=\"1\" class=\"dataframe\">\n",
       "  <thead>\n",
       "    <tr style=\"text-align: right;\">\n",
       "      <th></th>\n",
       "      <th>date</th>\n",
       "      <th>visitorsPerDateA</th>\n",
       "      <th>visitorsPerDateB</th>\n",
       "    </tr>\n",
       "  </thead>\n",
       "  <tbody>\n",
       "    <tr>\n",
       "      <th>0</th>\n",
       "      <td>2019-08-01</td>\n",
       "      <td>719</td>\n",
       "      <td>713</td>\n",
       "    </tr>\n",
       "    <tr>\n",
       "      <th>1</th>\n",
       "      <td>2019-08-02</td>\n",
       "      <td>619</td>\n",
       "      <td>581</td>\n",
       "    </tr>\n",
       "    <tr>\n",
       "      <th>2</th>\n",
       "      <td>2019-08-03</td>\n",
       "      <td>507</td>\n",
       "      <td>509</td>\n",
       "    </tr>\n",
       "    <tr>\n",
       "      <th>3</th>\n",
       "      <td>2019-08-04</td>\n",
       "      <td>717</td>\n",
       "      <td>770</td>\n",
       "    </tr>\n",
       "    <tr>\n",
       "      <th>4</th>\n",
       "      <td>2019-08-05</td>\n",
       "      <td>756</td>\n",
       "      <td>707</td>\n",
       "    </tr>\n",
       "  </tbody>\n",
       "</table>\n",
       "</div>"
      ],
      "text/plain": [
       "        date  visitorsPerDateA  visitorsPerDateB\n",
       "0 2019-08-01               719               713\n",
       "1 2019-08-02               619               581\n",
       "2 2019-08-03               507               509\n",
       "3 2019-08-04               717               770\n",
       "4 2019-08-05               756               707"
      ]
     },
     "execution_count": 61,
     "metadata": {},
     "output_type": "execute_result"
    }
   ],
   "source": [
    "visitorsADaily = visitors[visitors['group'] == 'A'][['date', 'visitors']]\n",
    "visitorsADaily.columns = ['date', 'visitorsPerDateA']\n",
    "\n",
    "visitorsBDaily = visitors[visitors['group'] == 'B'][['date', 'visitors']]\n",
    "visitorsBDaily.columns = ['date', 'visitorsPerDateB']\n",
    "\n",
    "data = visitorsADaily.merge(visitorsBDaily, left_on='date', right_on='date')\n",
    "\n",
    "data.head()"
   ]
  },
  {
   "cell_type": "code",
   "execution_count": 62,
   "id": "aaf8ffcb-ffb7-43bf-a459-42946fb5287d",
   "metadata": {},
   "outputs": [],
   "source": [
    "# Создадим переменные ordersByUsersA и ordersByUsersB со столбцами ['visitor_id', 'orders'].\n",
    "# В них для пользователей, которые заказывали хотя бы 1 раз, укажем число совершённых заказов.\n",
    "\n",
    "ordersByUsersA = (\n",
    "    orders_wo_dupl[orders_wo_dupl['group'] == 'A']\n",
    "    .groupby('visitor_id', as_index=False)\n",
    "    .agg({'transaction_id': pd.Series.nunique})\n",
    ")\n",
    "ordersByUsersA.columns = ['visitor_id', 'orders']\n",
    "\n",
    "ordersByUsersB = (\n",
    "    orders_wo_dupl[orders_wo_dupl['group'] == 'B']\n",
    "    .groupby('visitor_id', as_index=False)\n",
    "    .agg({'transaction_id': pd.Series.nunique})\n",
    ")\n",
    "ordersByUsersB.columns = ['visitor_id', 'orders'] "
   ]
  },
  {
   "cell_type": "code",
   "execution_count": 63,
   "id": "303a2da3-4b1f-4645-bd39-e7853480fc35",
   "metadata": {},
   "outputs": [],
   "source": [
    "# Объявим переменные sampleA и sampleB, в которых пользователям из разных групп будет соответствовать количество заказов.\n",
    "# Тем, кто ничего не заказал, будут соответствовать нули.\n",
    "\n",
    "sampleA = pd.concat([ordersByUsersA['orders'],\n",
    "                     pd.Series(0, index=np.arange(data['visitorsPerDateA'].sum() - len(ordersByUsersA['orders'])),\n",
    "                               name='orders')],axis=0)\n",
    "sampleB = pd.concat([ordersByUsersB['orders'],\n",
    "                     pd.Series(0, index=np.arange(data['visitorsPerDateB'].sum() - len(ordersByUsersB['orders'])),\n",
    "                               name='orders')],axis=0) "
   ]
  },
  {
   "cell_type": "code",
   "execution_count": 64,
   "id": "4038e6a3-70a9-4005-9414-97482b291133",
   "metadata": {},
   "outputs": [
    {
     "name": "stdout",
     "output_type": "stream",
     "text": [
      "p-value: 0.011\n",
      "Относительный прирост среднего числа заказов группы B: 0.160\n"
     ]
    }
   ],
   "source": [
    "print('p-value:', \"{0:.3f}\".format(stats.mannwhitneyu(sampleA, sampleB)[1]))\n",
    "print('Относительный прирост среднего числа заказов группы B:',\"{0:.3f}\".format(sampleB.mean() / sampleA.mean() - 1))"
   ]
  },
  {
   "cell_type": "markdown",
   "id": "f9d1d0a9-fc89-4d15-9372-68af38a30815",
   "metadata": {},
   "source": [
    "<div style=\"border:solid green 2px; padding: 20px\">\n",
    "\n",
    "По «сырым» данным различия в среднем числе заказов групп A и B есть.\n",
    "*  p-value =0.011 меньше 0.05. Значит, нулевую гипотезу о том, что статистически значимых различий в среднем числе заказов между группами нет, отвергаем.\n",
    "* Относительный прирост группы B равен 16%.\n",
    "\n",
    "</div>"
   ]
  },
  {
   "cell_type": "markdown",
   "id": "26bcbdea-f022-4c9b-9134-f24142de3185",
   "metadata": {},
   "source": [
    "#### Cтатистическая значимость различий в среднем чеке заказа между группами по «сырым» данным"
   ]
  },
  {
   "cell_type": "markdown",
   "id": "b6671e55-68b8-440a-a797-5d33e364eee8",
   "metadata": {},
   "source": [
    "<div style=\"border:solid black 2px; padding: 20px\">\n",
    "    \n",
    "Посчитаем статистическую значимость различий в среднем чеке заказа между группами по «сырым» данным.\n",
    "\n",
    "Возьмем данные без дубликатов пользователей в группах А и В.\n",
    "\n",
    "</div>"
   ]
  },
  {
   "cell_type": "markdown",
   "id": "8de33434-9c0e-4002-bbfc-7a69016f2576",
   "metadata": {},
   "source": [
    "<div style=\"border:solid black 2px; padding: 20px\">\n",
    "    \n",
    "Сформулируем гипотезы:\n",
    "* Нулевая гипотеза: различий в среднем чеке между группами нет.\n",
    "* Альтернативная гипотеза: различия в среднем чеке между группами есть.\n",
    "\n",
    "Чтобы рассчитать статистическую значимость различий в среднем чеке, передадим критерию mannwhitneyu() данные о выручке с заказов. \n",
    "\n",
    "</div>"
   ]
  },
  {
   "cell_type": "code",
   "execution_count": 65,
   "id": "8ae0101a-309a-4ed0-b3f1-fd4327cb16ac",
   "metadata": {},
   "outputs": [
    {
     "name": "stdout",
     "output_type": "stream",
     "text": [
      "p-value: 0.829\n",
      "Относительный прирост среднего чека группы B: 0.287\n"
     ]
    }
   ],
   "source": [
    "print('p-value:', '{0:.3f}'.format(stats.mannwhitneyu(\n",
    "    orders_wo_dupl[orders_wo_dupl['group']=='A']['revenue'],\n",
    "    orders_wo_dupl[orders_wo_dupl['group']=='B']['revenue'])[1]))\n",
    "print('Относительный прирост среднего чека группы B:','{0:.3f}'.format(\n",
    "    orders_wo_dupl[orders_wo_dupl['group']=='B']['revenue'].mean()\n",
    "    /orders_wo_dupl[orders_wo_dupl['group']=='A']['revenue'].mean()-1)) "
   ]
  },
  {
   "cell_type": "markdown",
   "id": "f3cff5b6-a2a7-40f9-80e7-26f0f876034d",
   "metadata": {},
   "source": [
    "<div style=\"border:solid green 2px; padding: 20px\">\n",
    "\n",
    "По «сырым» данным различий в среднем чеке заказа между группами нет.\n",
    "*  p-value =0.829 больше 0.05. P-value значительно больше 0.05. Значит, причин отвергать нулевую гипотезу и считать, что в среднем чеке есть различия, нет. \n",
    "* При этом относительный прирост группы B равен 28.7%.\n",
    "\n",
    "</div>"
   ]
  },
  {
   "cell_type": "markdown",
   "id": "eec05521-55b5-40dc-b15f-753c9dd298d6",
   "metadata": {},
   "source": [
    "#### Статистическая значимость различий в среднем количестве заказов на посетителя между группами по «очищенным» данным"
   ]
  },
  {
   "cell_type": "markdown",
   "id": "dcc29507-39cc-4302-a781-688f8e9b03f9",
   "metadata": {},
   "source": [
    "<div style=\"border:solid black 2px; padding: 20px\">\n",
    "    \n",
    "Посчитаем статистическую значимость различий в среднем количестве заказов на посетителя между группами по «очищенным» данным.\n",
    "\n",
    "Возьмем данные без дубликатов пользователей в группах А и В.\n",
    "\n",
    "Сделаем срезы пользователей с числом заказов больше 2 — usersWithManyOrders и пользователей, совершивших заказы дороже 53904 — usersWithExpensiveOrders. \n",
    "\n",
    "</div>"
   ]
  },
  {
   "cell_type": "markdown",
   "id": "93711112-d2c5-4c2f-bd48-a70f5bd7adac",
   "metadata": {},
   "source": [
    "<div style=\"border:solid black 2px; padding: 20px\">\n",
    "    \n",
    "Сформулируем гипотезы:\n",
    "* Нулевая: различий в среднем количестве заказов между группами нет.\n",
    "* Альтернативная: различия в среднем количестве заказов между группами есть.\n",
    "\n",
    "Применим статистический критерий Манна-Уитни к полученным выборкам. \n",
    "\n",
    "</div>"
   ]
  },
  {
   "cell_type": "code",
   "execution_count": 66,
   "id": "bf6c807b",
   "metadata": {},
   "outputs": [
    {
     "name": "stdout",
     "output_type": "stream",
     "text": [
      "percentile99_orders 2.0\n",
      "percentile99_revenue 53904.0\n"
     ]
    }
   ],
   "source": [
    "print('percentile99_orders', np.percentile(ordersByUsers['orders'], 99))\n",
    "print('percentile99_revenue', np.percentile(ordersByUsers_revenue['revenue'], 99))"
   ]
  },
  {
   "cell_type": "code",
   "execution_count": 67,
   "id": "fd26d187-b3ec-4668-9c4e-a05a861b29bc",
   "metadata": {},
   "outputs": [
    {
     "name": "stdout",
     "output_type": "stream",
     "text": [
      "1099    148427295\n",
      "33      249864742\n",
      "58      611059232\n",
      "949     887908475\n",
      "744     888512513\n",
      "Name: visitor_id, dtype: int64\n",
      "16\n"
     ]
    }
   ],
   "source": [
    "# Узнаем, сколько всего аномальных пользователей атрибутом shape\n",
    "\n",
    "usersWithManyOrders = pd.concat(\n",
    "    [\n",
    "        ordersByUsersA[ordersByUsersA['orders'] > np.percentile(ordersByUsers['orders'], 99)]['visitor_id'],\n",
    "        ordersByUsersB[ordersByUsersB['orders'] > np.percentile(ordersByUsers['orders'], 99)]['visitor_id'],\n",
    "    ],\n",
    "    axis=0,\n",
    ")\n",
    "usersWithExpensiveOrders = (orders_wo_dupl[orders_wo_dupl['revenue'] > np.percentile(ordersByUsers_revenue['revenue'], 99)]\\\n",
    "                            ['visitor_id'])\n",
    "\n",
    "abnormalUsers = (\n",
    "    pd.concat([usersWithManyOrders, usersWithExpensiveOrders], axis=0)\n",
    "    .drop_duplicates()\n",
    "    .sort_values()\n",
    ")\n",
    "print(abnormalUsers.head())\n",
    "print(abnormalUsers.shape[0]) "
   ]
  },
  {
   "cell_type": "code",
   "execution_count": 68,
   "id": "d94552cc-7b5b-4562-b093-f2fbe69148dc",
   "metadata": {},
   "outputs": [],
   "source": [
    "sampleAFiltered = pd.concat(\n",
    "    [\n",
    "        ordersByUsersA[\n",
    "            np.logical_not(ordersByUsersA['visitor_id'].isin(abnormalUsers))\n",
    "        ]['orders'],\n",
    "        pd.Series(0,index=np.arange(data['visitorsPerDateA'].sum() - len(ordersByUsersA['orders'])\n",
    "            ),name='orders'),\n",
    "    ],axis=0)\n",
    "\n",
    "sampleBFiltered = pd.concat(\n",
    "    [\n",
    "        ordersByUsersB[\n",
    "            np.logical_not(ordersByUsersB['visitor_id'].isin(abnormalUsers))\n",
    "        ]['orders'],\n",
    "        pd.Series(0,index=np.arange(data['visitorsPerDateB'].sum() - len(ordersByUsersB['orders'])\n",
    "            ),name='orders'),\n",
    "    ],axis=0) "
   ]
  },
  {
   "cell_type": "code",
   "execution_count": 69,
   "id": "410e2e7e-7d18-4b05-9642-9a71687de849",
   "metadata": {},
   "outputs": [
    {
     "name": "stdout",
     "output_type": "stream",
     "text": [
      "p-value: 0.007\n",
      "Относительный прирост среднего числа заказов группы B: 0.189\n"
     ]
    }
   ],
   "source": [
    "print('p-value:', \"{0:.3f}\".format(stats.mannwhitneyu(sampleAFiltered, sampleBFiltered)[1]))\n",
    "print('Относительный прирост среднего числа заказов группы B:',\"{0:.3f}\".format(sampleBFiltered.mean()\n",
    "                                                                                / sampleAFiltered.mean() - 1))"
   ]
  },
  {
   "cell_type": "markdown",
   "id": "1693d6b5-9a92-48fa-9949-afcc4c5dd97d",
   "metadata": {},
   "source": [
    "<div style=\"border:solid green 2px; padding: 20px\">\n",
    "\n",
    "Результаты по среднему количеству заказов практически не изменились. Предполагаем, различия в среднем числе заказов групп A и B есть.\n",
    "\n",
    "По «сырым» данным:\n",
    "* p-value =0.011 меньше 0.05\n",
    "* Относительный прирост группы B равен 16%.\n",
    "\n",
    "По «очищенным» данным:\n",
    "* p-value =0.007 меньше 0.05\n",
    "* Относительный прирост группы B равен 18.9%.\n",
    "\n",
    "</div>"
   ]
  },
  {
   "cell_type": "markdown",
   "id": "2d271c43-0c30-4338-a599-426f6ef29b56",
   "metadata": {},
   "source": [
    "#### Статистическая значимость различий в среднем чеке заказа между группами по «очищенным» данным"
   ]
  },
  {
   "cell_type": "markdown",
   "id": "a2c8adef-7bf0-4d0e-91b7-907ac4b3eace",
   "metadata": {},
   "source": [
    "<div style=\"border:solid black 2px; padding: 20px\">\n",
    "    \n",
    "Посчитаем статистическую значимость различий в среднем чеке заказа между группами по «очищенным» данным.\n",
    "\n",
    "Возьмем данные без дубликатов пользователей в группах А и В.\n",
    "\n",
    "Сделаем срезы пользователей с числом заказов больше 2 — usersWithManyOrders и пользователей, совершивших заказы дороже 53904 — usersWithExpensiveOrders. \n",
    "\n",
    "</div>"
   ]
  },
  {
   "cell_type": "markdown",
   "id": "57665d8e-1f93-4115-b423-774f026a8b56",
   "metadata": {},
   "source": [
    "<div style=\"border:solid black 2px; padding: 20px\">\n",
    "    \n",
    "Сформулируем гипотезы:\n",
    "* Нулевая гипотеза: различий в среднем чеке между группами нет.\n",
    "* Альтернативная гипотеза: различия в среднем чеке между группами есть.\n",
    "\n",
    "Чтобы рассчитать статистическую значимость различий в среднем чеке, передадим критерию mannwhitneyu() данные о выручке с заказов. \n",
    "\n",
    "</div>"
   ]
  },
  {
   "cell_type": "code",
   "execution_count": 70,
   "id": "beab03b0-bd2c-449d-80c4-628bedff7966",
   "metadata": {},
   "outputs": [
    {
     "name": "stdout",
     "output_type": "stream",
     "text": [
      "p-value: 0.788\n",
      "Относительный прирост среднего чека группы B: -0.032\n"
     ]
    }
   ],
   "source": [
    "print('p-value:',\n",
    "    '{0:.3f}'.format(stats.mannwhitneyu(orders_wo_dupl[np.logical_and(orders_wo_dupl['group'] == 'A',\n",
    "     np.logical_not(orders_wo_dupl['visitor_id'].isin(abnormalUsers)))]['revenue'],\n",
    "     orders_wo_dupl[np.logical_and(orders_wo_dupl['group'] == 'B',\n",
    "     np.logical_not(orders_wo_dupl['visitor_id'].isin(abnormalUsers)),)]['revenue'])[1])\n",
    "     )\n",
    "\n",
    "print('Относительный прирост среднего чека группы B:',\n",
    "    \"{0:.3f}\".format(orders_wo_dupl[np.logical_and(orders_wo_dupl['group'] == 'B',\n",
    "     np.logical_not(orders_wo_dupl['visitor_id'].isin(abnormalUsers)))]['revenue'].mean()\n",
    "     / orders_wo_dupl[np.logical_and(orders_wo_dupl['group'] == 'A',\n",
    "     np.logical_not(orders_wo_dupl['visitor_id'].isin(abnormalUsers)))]['revenue'].mean()- 1)\n",
    "     ) "
   ]
  },
  {
   "cell_type": "markdown",
   "id": "90424a1d-a5d7-4608-8dbd-034a23e7c905",
   "metadata": {},
   "source": [
    "<div style=\"border:solid green 2px; padding: 20px\">\n",
    "\n",
    "Результаты по среднему чеку практически не изменились. Предполагаем, различий по среднему чеку групп A и B нет.\n",
    "\n",
    "Результаты по «очищенным» данным:\n",
    "\n",
    "* P-value уменьшился (с 0.829 до 0.788). P-value значительно больше 0.05. Значит, причин отвергать нулевую гипотезу и считать, что в среднем чеке есть различия, нет. \n",
    "* Разница между сегментами сократилась с 28.7% («сырые» данные) до -3.2% («очищенные» данные).\n",
    "\n",
    "</div>"
   ]
  },
  {
   "cell_type": "markdown",
   "id": "e6d66f64-c8ae-4295-8a2c-599439d8c9d4",
   "metadata": {},
   "source": [
    "#### Решение по результатам теста"
   ]
  },
  {
   "cell_type": "markdown",
   "id": "08e70bc0-7abc-4297-bdb1-94fe5ced9c25",
   "metadata": {},
   "source": [
    "<div style=\"border:solid green 2px; padding: 20px\">\n",
    "\n",
    "Имеющиеся факты:\n",
    "* Есть статистически значимые различия по среднему количеству заказов между группами и по «сырым», и по данным после фильтрации аномалий. Относительный прирост группы 'B' равен 18.9% (по «очищенным» данным).\n",
    "* Нет статистически значимого различия по среднему чеку между группами ни по «сырым», ни по данным после фильтрации аномалий. Средний чек группы 'B' ниже среднего чека группы 'A' -3.2% (по «очищенным» данным).\n",
    "* График различия среднего количества заказов между группами сообщает, что результаты группы 'B' лучше группы 'A' (примерно на 15% зафиксировались данные в конце периода).\n",
    "* График различия среднего чека (без аномально дорогого заказа 19.08.2019) говорит о том, что результаты обеих групп во второй половине периода теста были практически на одном уровне.\n",
    "\n",
    "Исходя из обнаруженных фактов, тест следует остановить и признать его успешным. Мы видим значительно лучшие показатели по конверсии у группы 'В'.\n",
    "\n",
    "</div>"
   ]
  },
  {
   "cell_type": "markdown",
   "id": "6d6d2dfc-0f02-4884-82b5-9e19e804ebd2",
   "metadata": {},
   "source": [
    "[Начало_проекта](#Начало_проекта)"
   ]
  },
  {
   "cell_type": "markdown",
   "id": "37cac45d-489d-4484-9b74-c67f305cdfe5",
   "metadata": {},
   "source": [
    "<a id=\"итоги\"></a>"
   ]
  },
  {
   "cell_type": "markdown",
   "id": "2d405f65-0d19-4df5-bb06-40604b0d9763",
   "metadata": {},
   "source": [
    "## Итоги исследования"
   ]
  },
  {
   "cell_type": "markdown",
   "id": "dddb2400-635e-4d60-9417-edd275e6e04c",
   "metadata": {},
   "source": [
    "<div style=\"border:solid blue 2px; padding: 20px\">\n",
    "\n",
    "Путем исследования данных о визитах и продажах нашего интернет-магазина, мы достигли целей нашего проекта.\n",
    "* Приоритизировали гипотезы (подготовленные совместно с отделом маркетинга для увеличения выручки).\n",
    "* Проанализировали графики кумулятивных данных.\n",
    "* Запустили A/B-тест.\n",
    "* Проанализировали результаты A/B-теста.\n",
    "* Приняли решение по результатам теста.\n",
    "\n",
    "***  \n",
    "<span style=\"color:green;font-weight:700;font-size:15px\">**Приоритизация гипотез.**</span>\n",
    "***\n",
    "\n",
    "Сделали приоритизации гипотез фреймворком ICE и фреймворком RICE. Всего было 9 гипотез.\n",
    "\n",
    "Результаты приоритизаций различаются. Когда мы делали приоритизации способом ICE, имели большое влияние высокие оценки параметров impact и confidence. А при приоритизации способом RICE высокие оценки параметра reach (охват пользователей) изменили порядок приоритизации. Получается, когда важно учесть охват пользователей при приоритизации гипотез, используем фреймворк RICE.\n",
    "\n",
    "Две гипотезы, которые попали в топ по приоритизации и ICE и RICE:\n",
    "* **(7) Добавить форму подписки на все основные страницы, чтобы собрать базу клиентов для email-рассылок**\n",
    "* **(0) Добавить два новых канала привлечения трафика, что позволит привлекать на 30% больше пользователей**\n",
    "\n",
    "Обратить внимание на гипотезу **(8) Запустить акцию, дающую скидку на товар в день рождения**. Топ-1 по приоритизации способом ICE. По охвату пользователей самая низкая оценка. Но важно понимать, что это значимая активность с точки зрения лояльности клиента, которая влияет на формирование долгосрочного позитивного отношения клиента к бренду. Поэтому эту гипотезу надо отнести к важным, но не срочным.\n",
    "\n",
    "А также обратить внимание на гипотезу **(2) Добавить блоки рекомендаций товаров на сайт интернет магазина, чтобы повысить конверсию и средний чек заказа**. Топ-2 по приоритизации способом RICE. Так как предполагается, что данное обновление имеет прямое влияние на количество штук в чеке, соответственно и на средний чек, и как итог общую выручку, то стоит отнести к важным, но не срочным.\n",
    "\n",
    "***  \n",
    "<span style=\"color:green;font-weight:700;font-size:15px\">**Количество пользователей в группах теста и дубликаты покупателей в группах теста.**</span>\n",
    "***\n",
    "\n",
    "Пользователи разделены практически на равные доли по группам А и В (по файлу visitors). Разница долей между группами 1%. Что является приемлемым. Но разница долей пользователей, оформивших заказ, по группам уже больше: 7.6%.\n",
    "\n",
    "Есть дубликаты пользователей в файле с заказами в разных группах:\n",
    "* 58 пользователей попали и в группу А и в группу В.\n",
    "* Доля дубликатов пользователей 5.3%, доля продаж данных пользователей 8.4%.\n",
    "* Пользователь попадал в разные группы даже в один день. Необходимо уточнить у ответственного сотрудника, как происходило деление по группам, чтобы в дальнейшем понимать, как действовать с такой аномалией.\n",
    "\n",
    "Как мы знаем, пользователи в группах должны быть уникальны для чистоты теста. Поэтому мы удалили дублирующихся пользователей для последующего анализа данных.\n",
    "\n",
    "| group      | Количество уникальных покупателей в группах после удаления дубликатов   | \n",
    "|:-----------|:-----------------------------------------------------------------------:| \n",
    "|А           | 445                                                                     | \n",
    "|В           | 528                                                                     |  \n",
    "|**TOTAL**   | **973**                                                                 |  \n",
    "\n",
    "\n",
    "***  \n",
    "<span style=\"color:green;font-weight:700;font-size:15px\">**Графики кумулятивных значений.**</span>\n",
    "***\n",
    "\n",
    "**Кумулятивная выручка.**\n",
    "\n",
    "Выручка почти равномерно увеличивается в течение всего теста. \n",
    "\n",
    "Однако выручка группы 'В' 19.08.2019 резко выросла (с 2.2 млн. у.е. до 3.6 млн. у.е.):\n",
    "* Это может сигнализировать о всплесках числа заказов, либо о появлении очень дорогих заказов в выборке.\n",
    "* Судя по таблице выше в нашем случае это вероятно влияние дорогих заказов 19.08.2019, когда сумма заказов за один день составила 1.4 млн. у.е., что выше средней выручки остальных дней группы 'В' почти в 12 раз.\n",
    "* Проверили заказы 19.08.2019, видим один заказ № 590470918 стоимостью 1294500 у.е., этот заказ можно считать выбросом.\n",
    "\n",
    "Убрав аномальный заказ № 590470918 стоимостью 1294500 у.е., мы видим, что уже со второй половины периода кумулятивная выручка группы 'В' стабильно выше значений группы 'А'.\n",
    "\n",
    "**Кумулятивный средний чек по группам.**\n",
    "\n",
    "По графику видим аналогичную картину, как в предыдущем пункте. Кумулятивный средний чек группы 'В' вырос 19.08.2019. Как мы выяснили ранее, это связано с одним заказом № 590470918 в группе 'В'.\n",
    "\n",
    "Убрав аномальный заказ № 590470918 стоимостью 1294500 у.е., мы видим, что вначале периода есть колебания по среднему чеку, но ближе к концу теста средний чек становится более равномерным, и находится в одном диапазоне для обеих групп (в районе 7000 у.е.)\n",
    "\n",
    "**Относительное изменение кумулятивного среднего чека группы B к группе A.**\n",
    "\n",
    "В нескольких точках график различия между сегментами резко «скачет». В данных точках мы наблюдали крупные заказы и выбросы на графике кумулятивный средний чек по группам.\n",
    "\n",
    "Убрав аномальный заказ № 590470918 стоимостью 1294500 у.е., мы наблюдаем то, что во второй половине теста нет значительных колебаний среднего чека по группам.\n",
    "\n",
    "Всплеск в районе 6-9 августа можно объяснить не высоким средним чекам группы 'В', а скорее низкими показателями по среднему чеку группы 'А' в этот период.\n",
    "\n",
    "**Кумулятивное среднее количество заказов на посетителя по группам.**\n",
    "\n",
    "Группы колебались в начале периода, но примерно с 06.08.2019 конверсия группы 'В' стала стабильно выше конверсии группы 'А'.\n",
    "\n",
    "**Относительное изменение кумулятивного среднего количества заказов на посетителя группы B к группе A.**\n",
    "\n",
    "В начале теста по конверсии группа B значительно проигрывала группе A, затем вырвалась вперёд и зафиксировалась на одном уровне (относительный прирост примерно 15%).\n",
    "\n",
    "***  \n",
    "<span style=\"color:green;font-weight:700;font-size:15px\">**Проверка аномальных значений.**</span>\n",
    "***\n",
    "\n",
    "**Количество заказов на пользователя.**\n",
    "\n",
    "Выборка без дубликатов пользователей по группам:\n",
    "* Только 7 пользователей совершили 3 заказа за август 2019, остальные меньше трех.\n",
    "* У большинства пользователей 1 заказ (доля 96.3%).\n",
    "\n",
    "Исходник (есть дубликаты пользователей по группам):\n",
    "* У большинства пользователей 1 заказ (доля 90.9%).\n",
    "* У 6.2% пользователей 2 заказа, доля 2.9% где больше трех заказов у пользователя.\n",
    "\n",
    "Посчитав перцентили (95 и 99) количества заказов на пользователя для двух таблиц (с дубликатами и без дубликатов), будем предполагать, что можно выбрать от 3х заказов на пользователя за верхнюю границу числа заказов, и отсеять аномальных пользователей по ней.\n",
    "\n",
    "**Стоимость заказов.**\n",
    "\n",
    "По таблице без дубликатов пользователей: не более 5% заказов дороже 26 785 у.е. и не более 1% дороже 53 904 у.е.\n",
    "\n",
    "***  \n",
    "<span style=\"color:green;font-weight:700;font-size:15px\">**Решение по результатам теста.**</span>\n",
    "***\n",
    "\n",
    "Имеющиеся факты:\n",
    "* Есть статистически значимые различия по среднему количеству заказов между группами и по «сырым», и по данным после фильтрации аномалий. Относительный прирост группы 'B' равен 18.9% (по «очищенным» данным).\n",
    "* Нет статистически значимого различия по среднему чеку между группами ни по «сырым», ни по данным после фильтрации аномалий. Средний чек группы 'B' ниже среднего чека группы 'A' -3.2% (по «очищенным» данным).\n",
    "* График различия среднего количества заказов между группами сообщает, что результаты группы 'B' лучше группы 'A' (примерно на 15% зафиксировались данные в конце периода).\n",
    "* График различия среднего чека (без аномально дорогого заказа 19.08.2019) говорит о том, что результаты обеих групп во второй половине периода теста были практически на одном уровне.\n",
    "\n",
    "Исходя из обнаруженных фактов, тест следует остановить и признать его успешным. Мы видим значительно лучшие показатели по конверсии у группы 'В'. У группы 'В' увеличилась конверсия, средний чек у обеих групп был на одном уровне, в следствии этого мы получили дополнительную выручку у группы 'В'.\n",
    "\n",
    "</div>"
   ]
  }
 ],
 "metadata": {
  "ExecuteTimeLog": [
   {
    "duration": 930,
    "start_time": "2024-06-16T21:36:36.587Z"
   },
   {
    "duration": 223,
    "start_time": "2024-06-16T21:36:37.518Z"
   },
   {
    "duration": 4,
    "start_time": "2024-06-16T21:36:37.742Z"
   },
   {
    "duration": 34,
    "start_time": "2024-06-16T21:36:37.747Z"
   },
   {
    "duration": 27,
    "start_time": "2024-06-16T21:36:37.782Z"
   },
   {
    "duration": 22,
    "start_time": "2024-06-16T21:36:37.810Z"
   },
   {
    "duration": 3,
    "start_time": "2024-06-16T21:36:37.833Z"
   },
   {
    "duration": 9,
    "start_time": "2024-06-16T21:36:37.837Z"
   },
   {
    "duration": 9,
    "start_time": "2024-06-16T21:36:37.847Z"
   },
   {
    "duration": 31,
    "start_time": "2024-06-16T21:36:37.858Z"
   },
   {
    "duration": 3,
    "start_time": "2024-06-16T21:36:37.890Z"
   },
   {
    "duration": 6,
    "start_time": "2024-06-16T21:36:37.894Z"
   },
   {
    "duration": 5,
    "start_time": "2024-06-16T21:36:37.901Z"
   },
   {
    "duration": 6,
    "start_time": "2024-06-16T21:36:37.907Z"
   },
   {
    "duration": 9,
    "start_time": "2024-06-16T21:36:37.914Z"
   },
   {
    "duration": 5,
    "start_time": "2024-06-16T21:36:37.923Z"
   },
   {
    "duration": 9,
    "start_time": "2024-06-16T21:36:37.929Z"
   },
   {
    "duration": 9,
    "start_time": "2024-06-16T21:36:37.939Z"
   },
   {
    "duration": 8,
    "start_time": "2024-06-16T21:36:37.949Z"
   },
   {
    "duration": 29,
    "start_time": "2024-06-16T21:36:37.958Z"
   },
   {
    "duration": 49,
    "start_time": "2024-06-16T21:36:37.988Z"
   },
   {
    "duration": 3,
    "start_time": "2024-06-16T21:36:38.038Z"
   },
   {
    "duration": 41,
    "start_time": "2024-06-16T21:36:38.042Z"
   },
   {
    "duration": 29,
    "start_time": "2024-06-16T21:36:38.085Z"
   },
   {
    "duration": 97,
    "start_time": "2024-06-16T21:36:38.115Z"
   },
   {
    "duration": 7,
    "start_time": "2024-06-16T21:36:38.213Z"
   },
   {
    "duration": 10,
    "start_time": "2024-06-16T21:36:38.221Z"
   },
   {
    "duration": 8,
    "start_time": "2024-06-16T21:36:38.234Z"
   },
   {
    "duration": 10,
    "start_time": "2024-06-16T21:36:38.244Z"
   },
   {
    "duration": 18,
    "start_time": "2024-06-16T21:36:38.256Z"
   },
   {
    "duration": 7,
    "start_time": "2024-06-16T21:36:38.275Z"
   },
   {
    "duration": 20,
    "start_time": "2024-06-16T21:36:38.283Z"
   },
   {
    "duration": 89,
    "start_time": "2024-06-16T21:36:38.304Z"
   },
   {
    "duration": 14,
    "start_time": "2024-06-16T21:36:38.395Z"
   },
   {
    "duration": 3,
    "start_time": "2024-06-16T21:36:38.410Z"
   },
   {
    "duration": 13,
    "start_time": "2024-06-16T21:36:38.415Z"
   },
   {
    "duration": 18,
    "start_time": "2024-06-16T21:36:38.430Z"
   },
   {
    "duration": 9,
    "start_time": "2024-06-16T21:36:38.449Z"
   },
   {
    "duration": 231,
    "start_time": "2024-06-16T21:36:38.459Z"
   },
   {
    "duration": 202,
    "start_time": "2024-06-16T21:36:38.691Z"
   },
   {
    "duration": 42,
    "start_time": "2024-06-16T21:36:38.894Z"
   },
   {
    "duration": 15,
    "start_time": "2024-06-16T21:36:38.938Z"
   },
   {
    "duration": 16,
    "start_time": "2024-06-16T21:36:38.954Z"
   },
   {
    "duration": 231,
    "start_time": "2024-06-16T21:36:38.972Z"
   },
   {
    "duration": 163,
    "start_time": "2024-06-16T21:36:39.204Z"
   },
   {
    "duration": 156,
    "start_time": "2024-06-16T21:36:39.369Z"
   },
   {
    "duration": 181,
    "start_time": "2024-06-16T21:36:39.526Z"
   },
   {
    "duration": 246,
    "start_time": "2024-06-16T21:36:39.708Z"
   },
   {
    "duration": 318,
    "start_time": "2024-06-16T21:36:39.955Z"
   },
   {
    "duration": 151,
    "start_time": "2024-06-16T21:36:40.275Z"
   },
   {
    "duration": 248,
    "start_time": "2024-06-16T21:36:40.428Z"
   },
   {
    "duration": 17,
    "start_time": "2024-06-16T21:36:40.677Z"
   },
   {
    "duration": 40,
    "start_time": "2024-06-16T21:36:40.695Z"
   },
   {
    "duration": 242,
    "start_time": "2024-06-16T21:36:40.736Z"
   },
   {
    "duration": 124,
    "start_time": "2024-06-16T21:36:40.980Z"
   },
   {
    "duration": 4,
    "start_time": "2024-06-16T21:36:41.106Z"
   },
   {
    "duration": 18,
    "start_time": "2024-06-16T21:36:41.111Z"
   },
   {
    "duration": 8,
    "start_time": "2024-06-16T21:36:41.131Z"
   },
   {
    "duration": 19,
    "start_time": "2024-06-16T21:36:41.140Z"
   },
   {
    "duration": 122,
    "start_time": "2024-06-16T21:36:41.161Z"
   },
   {
    "duration": 5,
    "start_time": "2024-06-16T21:36:41.284Z"
   },
   {
    "duration": 3,
    "start_time": "2024-06-16T21:36:41.290Z"
   },
   {
    "duration": 178,
    "start_time": "2024-06-16T21:36:41.294Z"
   },
   {
    "duration": 105,
    "start_time": "2024-06-16T21:36:41.473Z"
   },
   {
    "duration": 10,
    "start_time": "2024-06-16T21:36:41.579Z"
   },
   {
    "duration": 18,
    "start_time": "2024-06-16T21:36:41.590Z"
   },
   {
    "duration": 7,
    "start_time": "2024-06-16T21:36:41.609Z"
   },
   {
    "duration": 6,
    "start_time": "2024-06-16T21:36:41.617Z"
   },
   {
    "duration": 7,
    "start_time": "2024-06-16T21:36:41.624Z"
   },
   {
    "duration": 17,
    "start_time": "2024-06-16T21:36:41.632Z"
   },
   {
    "duration": 9,
    "start_time": "2024-06-16T21:36:41.651Z"
   },
   {
    "duration": 1193,
    "start_time": "2024-06-17T05:55:45.025Z"
   },
   {
    "duration": 282,
    "start_time": "2024-06-17T05:55:46.220Z"
   },
   {
    "duration": 4,
    "start_time": "2024-06-17T05:55:46.504Z"
   },
   {
    "duration": 48,
    "start_time": "2024-06-17T05:55:46.510Z"
   },
   {
    "duration": 36,
    "start_time": "2024-06-17T05:55:46.561Z"
   },
   {
    "duration": 28,
    "start_time": "2024-06-17T05:55:46.598Z"
   },
   {
    "duration": 53,
    "start_time": "2024-06-17T05:55:46.628Z"
   },
   {
    "duration": 8,
    "start_time": "2024-06-17T05:55:46.683Z"
   },
   {
    "duration": 7,
    "start_time": "2024-06-17T05:55:46.693Z"
   },
   {
    "duration": 23,
    "start_time": "2024-06-17T05:55:46.702Z"
   },
   {
    "duration": 4,
    "start_time": "2024-06-17T05:55:46.727Z"
   },
   {
    "duration": 5,
    "start_time": "2024-06-17T05:55:46.732Z"
   },
   {
    "duration": 7,
    "start_time": "2024-06-17T05:55:46.739Z"
   },
   {
    "duration": 6,
    "start_time": "2024-06-17T05:55:46.748Z"
   },
   {
    "duration": 4,
    "start_time": "2024-06-17T05:55:46.756Z"
   },
   {
    "duration": 5,
    "start_time": "2024-06-17T05:55:46.762Z"
   },
   {
    "duration": 8,
    "start_time": "2024-06-17T05:55:46.769Z"
   },
   {
    "duration": 7,
    "start_time": "2024-06-17T05:55:46.779Z"
   },
   {
    "duration": 5,
    "start_time": "2024-06-17T05:55:46.787Z"
   },
   {
    "duration": 5,
    "start_time": "2024-06-17T05:55:46.793Z"
   },
   {
    "duration": 69,
    "start_time": "2024-06-17T05:55:46.799Z"
   },
   {
    "duration": 3,
    "start_time": "2024-06-17T05:55:46.870Z"
   },
   {
    "duration": 14,
    "start_time": "2024-06-17T05:55:46.875Z"
   },
   {
    "duration": 21,
    "start_time": "2024-06-17T05:55:46.890Z"
   },
   {
    "duration": 141,
    "start_time": "2024-06-17T05:55:46.912Z"
   },
   {
    "duration": 15,
    "start_time": "2024-06-17T05:55:47.055Z"
   },
   {
    "duration": 24,
    "start_time": "2024-06-17T05:55:47.072Z"
   },
   {
    "duration": 9,
    "start_time": "2024-06-17T05:55:47.101Z"
   },
   {
    "duration": 5,
    "start_time": "2024-06-17T05:55:47.112Z"
   },
   {
    "duration": 12,
    "start_time": "2024-06-17T05:55:47.119Z"
   },
   {
    "duration": 8,
    "start_time": "2024-06-17T05:55:47.132Z"
   },
   {
    "duration": 32,
    "start_time": "2024-06-17T05:55:47.141Z"
   },
   {
    "duration": 105,
    "start_time": "2024-06-17T05:55:47.175Z"
   },
   {
    "duration": 19,
    "start_time": "2024-06-17T05:55:47.281Z"
   },
   {
    "duration": 4,
    "start_time": "2024-06-17T05:55:47.301Z"
   },
   {
    "duration": 19,
    "start_time": "2024-06-17T05:55:47.307Z"
   },
   {
    "duration": 105,
    "start_time": "2024-06-17T05:55:47.328Z"
   },
   {
    "duration": 12,
    "start_time": "2024-06-17T05:55:47.434Z"
   },
   {
    "duration": 272,
    "start_time": "2024-06-17T05:55:47.447Z"
   },
   {
    "duration": 257,
    "start_time": "2024-06-17T05:55:47.721Z"
   },
   {
    "duration": 52,
    "start_time": "2024-06-17T05:55:47.980Z"
   },
   {
    "duration": 33,
    "start_time": "2024-06-17T05:55:48.034Z"
   },
   {
    "duration": 20,
    "start_time": "2024-06-17T05:55:48.068Z"
   },
   {
    "duration": 269,
    "start_time": "2024-06-17T05:55:48.090Z"
   },
   {
    "duration": 197,
    "start_time": "2024-06-17T05:55:48.361Z"
   },
   {
    "duration": 195,
    "start_time": "2024-06-17T05:55:48.560Z"
   },
   {
    "duration": 237,
    "start_time": "2024-06-17T05:55:48.757Z"
   },
   {
    "duration": 345,
    "start_time": "2024-06-17T05:55:48.996Z"
   },
   {
    "duration": 343,
    "start_time": "2024-06-17T05:55:49.342Z"
   },
   {
    "duration": 201,
    "start_time": "2024-06-17T05:55:49.686Z"
   },
   {
    "duration": 289,
    "start_time": "2024-06-17T05:55:49.889Z"
   },
   {
    "duration": 10,
    "start_time": "2024-06-17T05:55:50.179Z"
   },
   {
    "duration": 8,
    "start_time": "2024-06-17T05:55:50.191Z"
   },
   {
    "duration": 330,
    "start_time": "2024-06-17T05:55:50.201Z"
   },
   {
    "duration": 152,
    "start_time": "2024-06-17T05:55:50.532Z"
   },
   {
    "duration": 5,
    "start_time": "2024-06-17T05:55:50.685Z"
   },
   {
    "duration": 14,
    "start_time": "2024-06-17T05:55:50.691Z"
   },
   {
    "duration": 15,
    "start_time": "2024-06-17T05:55:50.707Z"
   },
   {
    "duration": 13,
    "start_time": "2024-06-17T05:55:50.723Z"
   },
   {
    "duration": 187,
    "start_time": "2024-06-17T05:55:50.737Z"
   },
   {
    "duration": 4,
    "start_time": "2024-06-17T05:55:50.926Z"
   },
   {
    "duration": 7,
    "start_time": "2024-06-17T05:55:50.931Z"
   },
   {
    "duration": 214,
    "start_time": "2024-06-17T05:55:50.940Z"
   },
   {
    "duration": 136,
    "start_time": "2024-06-17T05:55:51.155Z"
   },
   {
    "duration": 5,
    "start_time": "2024-06-17T05:55:51.293Z"
   },
   {
    "duration": 25,
    "start_time": "2024-06-17T05:55:51.300Z"
   },
   {
    "duration": 76,
    "start_time": "2024-06-17T05:55:51.327Z"
   },
   {
    "duration": 8,
    "start_time": "2024-06-17T05:55:51.405Z"
   },
   {
    "duration": 8,
    "start_time": "2024-06-17T05:55:51.414Z"
   },
   {
    "duration": 36,
    "start_time": "2024-06-17T05:55:51.423Z"
   },
   {
    "duration": 12,
    "start_time": "2024-06-17T05:55:51.460Z"
   },
   {
    "duration": 6,
    "start_time": "2024-06-17T06:30:43.828Z"
   },
   {
    "duration": 4,
    "start_time": "2024-06-17T06:31:44.725Z"
   },
   {
    "duration": 7,
    "start_time": "2024-06-17T06:33:18.490Z"
   },
   {
    "duration": 7,
    "start_time": "2024-06-17T06:34:18.958Z"
   },
   {
    "duration": 6,
    "start_time": "2024-06-17T06:34:40.751Z"
   },
   {
    "duration": 26,
    "start_time": "2024-06-17T06:49:58.884Z"
   },
   {
    "duration": 219,
    "start_time": "2024-06-17T06:54:43.500Z"
   },
   {
    "duration": 222,
    "start_time": "2024-06-17T06:58:53.363Z"
   },
   {
    "duration": 15,
    "start_time": "2024-06-17T07:00:47.987Z"
   },
   {
    "duration": 15,
    "start_time": "2024-06-17T07:01:17.432Z"
   },
   {
    "duration": 188,
    "start_time": "2024-06-17T07:28:14.690Z"
   },
   {
    "duration": 103,
    "start_time": "2024-06-17T07:36:02.003Z"
   },
   {
    "duration": 4,
    "start_time": "2024-06-17T07:36:39.760Z"
   },
   {
    "duration": 11,
    "start_time": "2024-06-17T07:38:03.138Z"
   },
   {
    "duration": 9,
    "start_time": "2024-06-17T07:40:31.174Z"
   },
   {
    "duration": 26,
    "start_time": "2024-06-17T07:40:36.507Z"
   },
   {
    "duration": 13,
    "start_time": "2024-06-17T07:46:17.220Z"
   },
   {
    "duration": 1036,
    "start_time": "2024-06-17T07:55:26.707Z"
   },
   {
    "duration": 131,
    "start_time": "2024-06-17T07:55:27.744Z"
   },
   {
    "duration": 4,
    "start_time": "2024-06-17T07:55:27.877Z"
   },
   {
    "duration": 40,
    "start_time": "2024-06-17T07:55:27.883Z"
   },
   {
    "duration": 56,
    "start_time": "2024-06-17T07:55:27.924Z"
   },
   {
    "duration": 26,
    "start_time": "2024-06-17T07:55:27.982Z"
   },
   {
    "duration": 2,
    "start_time": "2024-06-17T07:55:28.010Z"
   },
   {
    "duration": 12,
    "start_time": "2024-06-17T07:55:28.013Z"
   },
   {
    "duration": 11,
    "start_time": "2024-06-17T07:55:28.027Z"
   },
   {
    "duration": 32,
    "start_time": "2024-06-17T07:55:28.040Z"
   },
   {
    "duration": 13,
    "start_time": "2024-06-17T07:55:28.073Z"
   },
   {
    "duration": 23,
    "start_time": "2024-06-17T07:55:28.087Z"
   },
   {
    "duration": 6,
    "start_time": "2024-06-17T07:55:28.111Z"
   },
   {
    "duration": 7,
    "start_time": "2024-06-17T07:55:28.118Z"
   },
   {
    "duration": 7,
    "start_time": "2024-06-17T07:55:28.126Z"
   },
   {
    "duration": 7,
    "start_time": "2024-06-17T07:55:28.134Z"
   },
   {
    "duration": 8,
    "start_time": "2024-06-17T07:55:28.142Z"
   },
   {
    "duration": 6,
    "start_time": "2024-06-17T07:55:28.151Z"
   },
   {
    "duration": 4,
    "start_time": "2024-06-17T07:55:28.164Z"
   },
   {
    "duration": 5,
    "start_time": "2024-06-17T07:55:28.169Z"
   },
   {
    "duration": 42,
    "start_time": "2024-06-17T07:55:28.175Z"
   },
   {
    "duration": 3,
    "start_time": "2024-06-17T07:55:28.219Z"
   },
   {
    "duration": 15,
    "start_time": "2024-06-17T07:55:28.223Z"
   },
   {
    "duration": 21,
    "start_time": "2024-06-17T07:55:28.265Z"
   },
   {
    "duration": 130,
    "start_time": "2024-06-17T07:55:28.287Z"
   },
   {
    "duration": 9,
    "start_time": "2024-06-17T07:55:28.419Z"
   },
   {
    "duration": 9,
    "start_time": "2024-06-17T07:55:28.429Z"
   },
   {
    "duration": 28,
    "start_time": "2024-06-17T07:55:28.442Z"
   },
   {
    "duration": 6,
    "start_time": "2024-06-17T07:55:28.471Z"
   },
   {
    "duration": 14,
    "start_time": "2024-06-17T07:55:28.478Z"
   },
   {
    "duration": 11,
    "start_time": "2024-06-17T07:55:28.493Z"
   },
   {
    "duration": 8,
    "start_time": "2024-06-17T07:55:28.505Z"
   },
   {
    "duration": 107,
    "start_time": "2024-06-17T07:55:28.514Z"
   },
   {
    "duration": 18,
    "start_time": "2024-06-17T07:55:28.623Z"
   },
   {
    "duration": 4,
    "start_time": "2024-06-17T07:55:28.643Z"
   },
   {
    "duration": 8,
    "start_time": "2024-06-17T07:55:28.664Z"
   },
   {
    "duration": 15,
    "start_time": "2024-06-17T07:55:28.674Z"
   },
   {
    "duration": 11,
    "start_time": "2024-06-17T07:55:28.690Z"
   },
   {
    "duration": 307,
    "start_time": "2024-06-17T07:55:28.702Z"
   },
   {
    "duration": 7,
    "start_time": "2024-06-17T07:55:29.011Z"
   },
   {
    "duration": 296,
    "start_time": "2024-06-17T07:55:29.020Z"
   },
   {
    "duration": 61,
    "start_time": "2024-06-17T07:55:29.318Z"
   },
   {
    "duration": 21,
    "start_time": "2024-06-17T07:55:29.381Z"
   },
   {
    "duration": 20,
    "start_time": "2024-06-17T07:55:29.404Z"
   },
   {
    "duration": 289,
    "start_time": "2024-06-17T07:55:29.426Z"
   },
   {
    "duration": 204,
    "start_time": "2024-06-17T07:55:29.717Z"
   },
   {
    "duration": 193,
    "start_time": "2024-06-17T07:55:29.922Z"
   },
   {
    "duration": 216,
    "start_time": "2024-06-17T07:55:30.116Z"
   },
   {
    "duration": 333,
    "start_time": "2024-06-17T07:55:30.334Z"
   },
   {
    "duration": 415,
    "start_time": "2024-06-17T07:55:30.669Z"
   },
   {
    "duration": 185,
    "start_time": "2024-06-17T07:55:31.086Z"
   },
   {
    "duration": 301,
    "start_time": "2024-06-17T07:55:31.272Z"
   },
   {
    "duration": 9,
    "start_time": "2024-06-17T07:55:31.575Z"
   },
   {
    "duration": 20,
    "start_time": "2024-06-17T07:55:31.585Z"
   },
   {
    "duration": 312,
    "start_time": "2024-06-17T07:55:31.607Z"
   },
   {
    "duration": 158,
    "start_time": "2024-06-17T07:55:31.920Z"
   },
   {
    "duration": 5,
    "start_time": "2024-06-17T07:55:32.079Z"
   },
   {
    "duration": 11,
    "start_time": "2024-06-17T07:55:32.085Z"
   },
   {
    "duration": 11,
    "start_time": "2024-06-17T07:55:32.097Z"
   },
   {
    "duration": 15,
    "start_time": "2024-06-17T07:55:32.109Z"
   },
   {
    "duration": 173,
    "start_time": "2024-06-17T07:55:32.126Z"
   },
   {
    "duration": 4,
    "start_time": "2024-06-17T07:55:32.301Z"
   },
   {
    "duration": 19,
    "start_time": "2024-06-17T07:55:32.307Z"
   },
   {
    "duration": 238,
    "start_time": "2024-06-17T07:55:32.328Z"
   },
   {
    "duration": 12,
    "start_time": "2024-06-17T07:55:32.568Z"
   },
   {
    "duration": 141,
    "start_time": "2024-06-17T07:55:32.581Z"
   },
   {
    "duration": 6,
    "start_time": "2024-06-17T07:55:32.724Z"
   },
   {
    "duration": 43,
    "start_time": "2024-06-17T07:55:32.731Z"
   },
   {
    "duration": 11,
    "start_time": "2024-06-17T07:55:32.775Z"
   },
   {
    "duration": 7,
    "start_time": "2024-06-17T07:55:32.787Z"
   },
   {
    "duration": 9,
    "start_time": "2024-06-17T07:55:32.796Z"
   },
   {
    "duration": 7,
    "start_time": "2024-06-17T07:55:32.806Z"
   },
   {
    "duration": 51,
    "start_time": "2024-06-17T07:55:32.815Z"
   },
   {
    "duration": 12,
    "start_time": "2024-06-17T07:55:32.867Z"
   },
   {
    "duration": 1129,
    "start_time": "2024-06-17T08:26:09.669Z"
   },
   {
    "duration": 242,
    "start_time": "2024-06-17T08:26:10.800Z"
   },
   {
    "duration": 3,
    "start_time": "2024-06-17T08:26:11.044Z"
   },
   {
    "duration": 44,
    "start_time": "2024-06-17T08:26:11.049Z"
   },
   {
    "duration": 29,
    "start_time": "2024-06-17T08:26:11.094Z"
   },
   {
    "duration": 24,
    "start_time": "2024-06-17T08:26:11.124Z"
   },
   {
    "duration": 3,
    "start_time": "2024-06-17T08:26:11.149Z"
   },
   {
    "duration": 40,
    "start_time": "2024-06-17T08:26:11.153Z"
   },
   {
    "duration": 8,
    "start_time": "2024-06-17T08:26:11.195Z"
   },
   {
    "duration": 16,
    "start_time": "2024-06-17T08:26:11.205Z"
   },
   {
    "duration": 4,
    "start_time": "2024-06-17T08:26:11.222Z"
   },
   {
    "duration": 5,
    "start_time": "2024-06-17T08:26:11.228Z"
   },
   {
    "duration": 4,
    "start_time": "2024-06-17T08:26:11.235Z"
   },
   {
    "duration": 6,
    "start_time": "2024-06-17T08:26:11.240Z"
   },
   {
    "duration": 6,
    "start_time": "2024-06-17T08:26:11.247Z"
   },
   {
    "duration": 5,
    "start_time": "2024-06-17T08:26:11.254Z"
   },
   {
    "duration": 7,
    "start_time": "2024-06-17T08:26:11.260Z"
   },
   {
    "duration": 4,
    "start_time": "2024-06-17T08:26:11.289Z"
   },
   {
    "duration": 5,
    "start_time": "2024-06-17T08:26:11.294Z"
   },
   {
    "duration": 10,
    "start_time": "2024-06-17T08:26:11.300Z"
   },
   {
    "duration": 73,
    "start_time": "2024-06-17T08:26:11.311Z"
   },
   {
    "duration": 3,
    "start_time": "2024-06-17T08:26:11.385Z"
   },
   {
    "duration": 20,
    "start_time": "2024-06-17T08:26:11.389Z"
   },
   {
    "duration": 18,
    "start_time": "2024-06-17T08:26:11.410Z"
   },
   {
    "duration": 99,
    "start_time": "2024-06-17T08:26:11.430Z"
   },
   {
    "duration": 7,
    "start_time": "2024-06-17T08:26:11.530Z"
   },
   {
    "duration": 7,
    "start_time": "2024-06-17T08:26:11.538Z"
   },
   {
    "duration": 7,
    "start_time": "2024-06-17T08:26:11.548Z"
   },
   {
    "duration": 8,
    "start_time": "2024-06-17T08:26:11.556Z"
   },
   {
    "duration": 24,
    "start_time": "2024-06-17T08:26:11.565Z"
   },
   {
    "duration": 7,
    "start_time": "2024-06-17T08:26:11.590Z"
   },
   {
    "duration": 9,
    "start_time": "2024-06-17T08:26:11.599Z"
   },
   {
    "duration": 82,
    "start_time": "2024-06-17T08:26:11.609Z"
   },
   {
    "duration": 18,
    "start_time": "2024-06-17T08:26:11.693Z"
   },
   {
    "duration": 4,
    "start_time": "2024-06-17T08:26:11.712Z"
   },
   {
    "duration": 8,
    "start_time": "2024-06-17T08:26:11.717Z"
   },
   {
    "duration": 9,
    "start_time": "2024-06-17T08:26:11.727Z"
   },
   {
    "duration": 10,
    "start_time": "2024-06-17T08:26:11.737Z"
   },
   {
    "duration": 252,
    "start_time": "2024-06-17T08:26:11.748Z"
   },
   {
    "duration": 6,
    "start_time": "2024-06-17T08:26:12.001Z"
   },
   {
    "duration": 228,
    "start_time": "2024-06-17T08:26:12.008Z"
   },
   {
    "duration": 59,
    "start_time": "2024-06-17T08:26:12.237Z"
   },
   {
    "duration": 18,
    "start_time": "2024-06-17T08:26:12.297Z"
   },
   {
    "duration": 26,
    "start_time": "2024-06-17T08:26:12.316Z"
   },
   {
    "duration": 227,
    "start_time": "2024-06-17T08:26:12.343Z"
   },
   {
    "duration": 166,
    "start_time": "2024-06-17T08:26:12.571Z"
   },
   {
    "duration": 149,
    "start_time": "2024-06-17T08:26:12.739Z"
   },
   {
    "duration": 183,
    "start_time": "2024-06-17T08:26:12.890Z"
   },
   {
    "duration": 320,
    "start_time": "2024-06-17T08:26:13.074Z"
   },
   {
    "duration": 294,
    "start_time": "2024-06-17T08:26:13.395Z"
   },
   {
    "duration": 168,
    "start_time": "2024-06-17T08:26:13.690Z"
   },
   {
    "duration": 251,
    "start_time": "2024-06-17T08:26:13.859Z"
   },
   {
    "duration": 8,
    "start_time": "2024-06-17T08:26:14.112Z"
   },
   {
    "duration": 23,
    "start_time": "2024-06-17T08:26:14.121Z"
   },
   {
    "duration": 245,
    "start_time": "2024-06-17T08:26:14.146Z"
   },
   {
    "duration": 143,
    "start_time": "2024-06-17T08:26:14.392Z"
   },
   {
    "duration": 3,
    "start_time": "2024-06-17T08:26:14.536Z"
   },
   {
    "duration": 4,
    "start_time": "2024-06-17T08:26:14.540Z"
   },
   {
    "duration": 9,
    "start_time": "2024-06-17T08:26:14.546Z"
   },
   {
    "duration": 8,
    "start_time": "2024-06-17T08:26:14.556Z"
   },
   {
    "duration": 147,
    "start_time": "2024-06-17T08:26:14.565Z"
   },
   {
    "duration": 3,
    "start_time": "2024-06-17T08:26:14.713Z"
   },
   {
    "duration": 32,
    "start_time": "2024-06-17T08:26:14.717Z"
   },
   {
    "duration": 163,
    "start_time": "2024-06-17T08:26:14.751Z"
   },
   {
    "duration": 10,
    "start_time": "2024-06-17T08:26:14.916Z"
   },
   {
    "duration": 115,
    "start_time": "2024-06-17T08:26:14.927Z"
   },
   {
    "duration": 6,
    "start_time": "2024-06-17T08:26:15.044Z"
   },
   {
    "duration": 97,
    "start_time": "2024-06-17T08:26:15.051Z"
   },
   {
    "duration": 47,
    "start_time": "2024-06-17T08:26:15.150Z"
   },
   {
    "duration": 32,
    "start_time": "2024-06-17T08:26:15.198Z"
   },
   {
    "duration": 35,
    "start_time": "2024-06-17T08:26:15.231Z"
   },
   {
    "duration": 20,
    "start_time": "2024-06-17T08:26:15.267Z"
   },
   {
    "duration": 30,
    "start_time": "2024-06-17T08:26:15.288Z"
   },
   {
    "duration": 20,
    "start_time": "2024-06-17T08:26:15.319Z"
   }
  ],
  "kernelspec": {
   "display_name": "Python 3 (ipykernel)",
   "language": "python",
   "name": "python3"
  },
  "language_info": {
   "codemirror_mode": {
    "name": "ipython",
    "version": 3
   },
   "file_extension": ".py",
   "mimetype": "text/x-python",
   "name": "python",
   "nbconvert_exporter": "python",
   "pygments_lexer": "ipython3",
   "version": "3.11.7"
  },
  "toc": {
   "base_numbering": 1,
   "nav_menu": {},
   "number_sections": true,
   "sideBar": true,
   "skip_h1_title": true,
   "title_cell": "Table of Contents",
   "title_sidebar": "Contents",
   "toc_cell": false,
   "toc_position": {
    "height": "calc(100% - 180px)",
    "left": "10px",
    "top": "150px",
    "width": "333.391px"
   },
   "toc_section_display": true,
   "toc_window_display": false
  }
 },
 "nbformat": 4,
 "nbformat_minor": 5
}
