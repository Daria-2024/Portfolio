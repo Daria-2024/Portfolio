{
 "cells": [
  {
   "cell_type": "markdown",
   "metadata": {},
   "source": [
    "# Анализ базы данных крупного сервиса для чтения книг по подписке"
   ]
  },
  {
   "cell_type": "markdown",
   "metadata": {},
   "source": [
    "<a id=\"Начало_проекта\"></a>"
   ]
  },
  {
   "cell_type": "markdown",
   "metadata": {},
   "source": [
    "<div style=\"border:solid black 2px; padding: 20px\">\n",
    "\n",
    "Компания купила крупный сервис для чтения книг по подписке. И аналитикам поставлена задача — проанализировать базу данных.\n",
    "В ней — информация о книгах, издательствах, авторах, а также пользовательские обзоры книг. Эти данные помогут нам сформулировать ценностное предложение для нового продукта.\n",
    "\n",
    "**Цель исследования** \n",
    "* Проанализировать базу данных;\n",
    "* Исследовать количество обзоров и среднюю оценку по книгам;\n",
    "* Определить топовое издательство по количеству выпущенных книг;\n",
    "* Определить топового автора по средней оценке книг;\n",
    "* Исследовать среднее количество обзоров от пользователей.\n",
    "\n",
    "**Ход исследования**\n",
    "\n",
    "В нашем распоряжении есть база данных. О качестве данных нам ничего не известно. Поэтому перед исследованием проведем обзор данных.\n",
    "\n",
    "Таким образом, исследование пройдёт в 4 этапа:\n",
    "1. [Загрузка данных](#Загрузка)\n",
    "2. [Обзор данных](#Обзор)\n",
    "3. [Исследовательский анализ данных](#Исследовательский_анализ_данных)\n",
    "4. [Итоги исследования](#Итоги_исследования)\n",
    "\n",
    "\n",
    "</div>"
   ]
  },
  {
   "cell_type": "markdown",
   "metadata": {},
   "source": [
    "<div style=\"border:solid black 2px; padding: 20px\">\n",
    "\n",
    "**Описание данных.**\n",
    "\n",
    "**Таблица books**\n",
    "\n",
    "Содержит данные о книгах:\n",
    "* book_id — идентификатор книги;\n",
    "* author_id — идентификатор автора;\n",
    "* title — название книги;\n",
    "* num_pages — количество страниц;\n",
    "* publication_date — дата публикации книги;\n",
    "* publisher_id — идентификатор издателя.\n",
    "\n",
    "**Таблица authors**\n",
    "\n",
    "Содержит данные об авторах:\n",
    "* author_id — идентификатор автора;\n",
    "* author — имя автора.\n",
    "\n",
    "**Таблица publishers**\n",
    "\n",
    "Содержит данные об издательствах:\n",
    "* publisher_id — идентификатор издательства;\n",
    "* publisher — название издательства;\n",
    "\n",
    "**Таблица ratings**\n",
    "\n",
    "Содержит данные о пользовательских оценках книг:\n",
    "* rating_id — идентификатор оценки;\n",
    "* book_id — идентификатор книги;\n",
    "* username — имя пользователя, оставившего оценку;\n",
    "* rating — оценка книги.\n",
    "\n",
    "**Таблица reviews**\n",
    "\n",
    "Содержит данные о пользовательских обзорах:\n",
    "* review_id — идентификатор обзора;\n",
    "* book_id — идентификатор книги;\n",
    "* username — имя автора обзора;\n",
    "* text — текст обзора.\n",
    "\n",
    "</div>"
   ]
  },
  {
   "cell_type": "markdown",
   "metadata": {},
   "source": [
    "[Начало_проекта](#Начало_проекта)"
   ]
  },
  {
   "cell_type": "markdown",
   "metadata": {},
   "source": [
    "<a id=\"Загрузка\"></a>"
   ]
  },
  {
   "cell_type": "markdown",
   "metadata": {},
   "source": [
    "## Загрузка данных"
   ]
  },
  {
   "cell_type": "code",
   "execution_count": 1,
   "metadata": {},
   "outputs": [],
   "source": [
    "# импортируем библиотеки\n",
    "import pandas as pd\n",
    "from sqlalchemy import text, create_engine\n",
    "import plotly.express as px"
   ]
  },
  {
   "cell_type": "code",
   "execution_count": 2,
   "metadata": {},
   "outputs": [],
   "source": [
    "# устанавливаем параметры\n",
    "db_config = {'user': 'praktikum_student', # имя пользователя\n",
    "'pwd': 'Sdf4$2;d-d30pp', # пароль\n",
    "'host': 'rc1b-wcoijxj3yxfsf3fs.mdb.yandexcloud.net',\n",
    "'port': 6432, # порт подключения\n",
    "'db': 'data-analyst-final-project-db'} # название базы данных\n",
    "connection_string = 'postgresql://{user}:{pwd}@{host}:{port}/{db}'.format(**db_config)\n",
    "\n",
    "# сохраняем коннектор\n",
    "engine = create_engine(connection_string, connect_args={'sslmode':'require'})\n",
    "\n",
    "con=engine.connect()"
   ]
  },
  {
   "cell_type": "markdown",
   "metadata": {},
   "source": [
    "[Начало_проекта](#Начало_проекта)"
   ]
  },
  {
   "cell_type": "markdown",
   "metadata": {},
   "source": [
    "<a id=\"Обзор\"></a>"
   ]
  },
  {
   "cell_type": "markdown",
   "metadata": {},
   "source": [
    "## Обзор данных"
   ]
  },
  {
   "cell_type": "markdown",
   "metadata": {},
   "source": [
    "### Таблица books"
   ]
  },
  {
   "cell_type": "code",
   "execution_count": 3,
   "metadata": {},
   "outputs": [
    {
     "name": "stdout",
     "output_type": "stream",
     "text": [
      "--------------------------------------------------\n",
      "Информация о таблице books\n",
      "--------------------------------------------------\n"
     ]
    },
    {
     "data": {
      "text/html": [
       "<div>\n",
       "<style scoped>\n",
       "    .dataframe tbody tr th:only-of-type {\n",
       "        vertical-align: middle;\n",
       "    }\n",
       "\n",
       "    .dataframe tbody tr th {\n",
       "        vertical-align: top;\n",
       "    }\n",
       "\n",
       "    .dataframe thead th {\n",
       "        text-align: right;\n",
       "    }\n",
       "</style>\n",
       "<table border=\"1\" class=\"dataframe\">\n",
       "  <thead>\n",
       "    <tr style=\"text-align: right;\">\n",
       "      <th></th>\n",
       "      <th>table_name</th>\n",
       "      <th>column_name</th>\n",
       "      <th>data_type</th>\n",
       "    </tr>\n",
       "  </thead>\n",
       "  <tbody>\n",
       "    <tr>\n",
       "      <th>0</th>\n",
       "      <td>books</td>\n",
       "      <td>book_id</td>\n",
       "      <td>integer</td>\n",
       "    </tr>\n",
       "    <tr>\n",
       "      <th>1</th>\n",
       "      <td>books</td>\n",
       "      <td>author_id</td>\n",
       "      <td>integer</td>\n",
       "    </tr>\n",
       "    <tr>\n",
       "      <th>2</th>\n",
       "      <td>books</td>\n",
       "      <td>num_pages</td>\n",
       "      <td>integer</td>\n",
       "    </tr>\n",
       "    <tr>\n",
       "      <th>3</th>\n",
       "      <td>books</td>\n",
       "      <td>publication_date</td>\n",
       "      <td>date</td>\n",
       "    </tr>\n",
       "    <tr>\n",
       "      <th>4</th>\n",
       "      <td>books</td>\n",
       "      <td>publisher_id</td>\n",
       "      <td>integer</td>\n",
       "    </tr>\n",
       "    <tr>\n",
       "      <th>5</th>\n",
       "      <td>books</td>\n",
       "      <td>title</td>\n",
       "      <td>text</td>\n",
       "    </tr>\n",
       "  </tbody>\n",
       "</table>\n",
       "</div>"
      ],
      "text/plain": [
       "  table_name       column_name data_type\n",
       "0      books           book_id   integer\n",
       "1      books         author_id   integer\n",
       "2      books         num_pages   integer\n",
       "3      books  publication_date      date\n",
       "4      books      publisher_id   integer\n",
       "5      books             title      text"
      ]
     },
     "metadata": {},
     "output_type": "display_data"
    },
    {
     "data": {
      "text/html": [
       "<div>\n",
       "<style scoped>\n",
       "    .dataframe tbody tr th:only-of-type {\n",
       "        vertical-align: middle;\n",
       "    }\n",
       "\n",
       "    .dataframe tbody tr th {\n",
       "        vertical-align: top;\n",
       "    }\n",
       "\n",
       "    .dataframe thead th {\n",
       "        text-align: right;\n",
       "    }\n",
       "</style>\n",
       "<table border=\"1\" class=\"dataframe\">\n",
       "  <thead>\n",
       "    <tr style=\"text-align: right;\">\n",
       "      <th></th>\n",
       "      <th>cnt_total</th>\n",
       "      <th>cnt_book_id</th>\n",
       "      <th>cnt_author_id</th>\n",
       "      <th>cnt_num_pages</th>\n",
       "      <th>cnt_publication_date</th>\n",
       "      <th>cnt_publisher_id</th>\n",
       "      <th>cnt_title</th>\n",
       "      <th>dist_book_id</th>\n",
       "      <th>dist_author_id</th>\n",
       "      <th>dist_publisher_id</th>\n",
       "    </tr>\n",
       "  </thead>\n",
       "  <tbody>\n",
       "    <tr>\n",
       "      <th>0</th>\n",
       "      <td>1000</td>\n",
       "      <td>1000</td>\n",
       "      <td>1000</td>\n",
       "      <td>1000</td>\n",
       "      <td>1000</td>\n",
       "      <td>1000</td>\n",
       "      <td>1000</td>\n",
       "      <td>1000</td>\n",
       "      <td>636</td>\n",
       "      <td>340</td>\n",
       "    </tr>\n",
       "  </tbody>\n",
       "</table>\n",
       "</div>"
      ],
      "text/plain": [
       "   cnt_total  cnt_book_id  cnt_author_id  cnt_num_pages  cnt_publication_date  \\\n",
       "0       1000         1000           1000           1000                  1000   \n",
       "\n",
       "   cnt_publisher_id  cnt_title  dist_book_id  dist_author_id  \\\n",
       "0              1000       1000          1000             636   \n",
       "\n",
       "   dist_publisher_id  \n",
       "0                340  "
      ]
     },
     "metadata": {},
     "output_type": "display_data"
    },
    {
     "data": {
      "text/html": [
       "<div>\n",
       "<style scoped>\n",
       "    .dataframe tbody tr th:only-of-type {\n",
       "        vertical-align: middle;\n",
       "    }\n",
       "\n",
       "    .dataframe tbody tr th {\n",
       "        vertical-align: top;\n",
       "    }\n",
       "\n",
       "    .dataframe thead th {\n",
       "        text-align: right;\n",
       "    }\n",
       "</style>\n",
       "<table border=\"1\" class=\"dataframe\">\n",
       "  <thead>\n",
       "    <tr style=\"text-align: right;\">\n",
       "      <th></th>\n",
       "      <th>book_id</th>\n",
       "      <th>author_id</th>\n",
       "      <th>title</th>\n",
       "      <th>num_pages</th>\n",
       "      <th>publication_date</th>\n",
       "      <th>publisher_id</th>\n",
       "    </tr>\n",
       "  </thead>\n",
       "  <tbody>\n",
       "    <tr>\n",
       "      <th>0</th>\n",
       "      <td>1</td>\n",
       "      <td>546</td>\n",
       "      <td>'Salem's Lot</td>\n",
       "      <td>594</td>\n",
       "      <td>2005-11-01</td>\n",
       "      <td>93</td>\n",
       "    </tr>\n",
       "    <tr>\n",
       "      <th>1</th>\n",
       "      <td>2</td>\n",
       "      <td>465</td>\n",
       "      <td>1 000 Places to See Before You Die</td>\n",
       "      <td>992</td>\n",
       "      <td>2003-05-22</td>\n",
       "      <td>336</td>\n",
       "    </tr>\n",
       "    <tr>\n",
       "      <th>2</th>\n",
       "      <td>3</td>\n",
       "      <td>407</td>\n",
       "      <td>13 Little Blue Envelopes (Little Blue Envelope...</td>\n",
       "      <td>322</td>\n",
       "      <td>2010-12-21</td>\n",
       "      <td>135</td>\n",
       "    </tr>\n",
       "    <tr>\n",
       "      <th>3</th>\n",
       "      <td>4</td>\n",
       "      <td>82</td>\n",
       "      <td>1491: New Revelations of the Americas Before C...</td>\n",
       "      <td>541</td>\n",
       "      <td>2006-10-10</td>\n",
       "      <td>309</td>\n",
       "    </tr>\n",
       "    <tr>\n",
       "      <th>4</th>\n",
       "      <td>5</td>\n",
       "      <td>125</td>\n",
       "      <td>1776</td>\n",
       "      <td>386</td>\n",
       "      <td>2006-07-04</td>\n",
       "      <td>268</td>\n",
       "    </tr>\n",
       "  </tbody>\n",
       "</table>\n",
       "</div>"
      ],
      "text/plain": [
       "   book_id  author_id                                              title  \\\n",
       "0        1        546                                       'Salem's Lot   \n",
       "1        2        465                 1 000 Places to See Before You Die   \n",
       "2        3        407  13 Little Blue Envelopes (Little Blue Envelope...   \n",
       "3        4         82  1491: New Revelations of the Americas Before C...   \n",
       "4        5        125                                               1776   \n",
       "\n",
       "   num_pages publication_date  publisher_id  \n",
       "0        594       2005-11-01            93  \n",
       "1        992       2003-05-22           336  \n",
       "2        322       2010-12-21           135  \n",
       "3        541       2006-10-10           309  \n",
       "4        386       2006-07-04           268  "
      ]
     },
     "metadata": {},
     "output_type": "display_data"
    }
   ],
   "source": [
    "# books\n",
    "total_books = ('''\n",
    "SELECT TABLE_NAME, \n",
    "       COLUMN_NAME,\n",
    "       DATA_TYPE\n",
    "FROM information_schema.columns\n",
    "WHERE table_name = 'books'\n",
    ";''')\n",
    "\n",
    "books_cnt = ('''\n",
    "SELECT COUNT(*) AS cnt_total,\n",
    "       COUNT(book_id) AS cnt_book_id,\n",
    "       COUNT(author_id) AS cnt_author_id,\n",
    "       COUNT(num_pages) AS cnt_num_pages,\n",
    "       COUNT(publication_date) AS cnt_publication_date,\n",
    "       COUNT(publisher_id) AS cnt_publisher_id,\n",
    "       COUNT(title) AS cnt_title,\n",
    "       COUNT(DISTINCT book_id) AS dist_book_id,\n",
    "       COUNT(DISTINCT author_id) AS dist_author_id,\n",
    "       COUNT(DISTINCT publisher_id) AS dist_publisher_id\n",
    "FROM books\n",
    ";''')\n",
    "\n",
    "books_head = ('''\n",
    "SELECT *\n",
    "FROM books\n",
    "LIMIT 5\n",
    ";''')\n",
    "\n",
    "print('-'*50)\n",
    "print('Информация о таблице books')\n",
    "print('-'*50)\n",
    "display(pd.io.sql.read_sql(sql=text(total_books), con = con))\n",
    "display(pd.io.sql.read_sql(sql=text(books_cnt), con = con))\n",
    "display(pd.io.sql.read_sql(sql=text(books_head), con = con))"
   ]
  },
  {
   "cell_type": "markdown",
   "metadata": {},
   "source": [
    "### Таблица authors"
   ]
  },
  {
   "cell_type": "code",
   "execution_count": 4,
   "metadata": {},
   "outputs": [
    {
     "name": "stdout",
     "output_type": "stream",
     "text": [
      "--------------------------------------------------\n",
      "Информация о таблице authors\n",
      "--------------------------------------------------\n"
     ]
    },
    {
     "data": {
      "text/html": [
       "<div>\n",
       "<style scoped>\n",
       "    .dataframe tbody tr th:only-of-type {\n",
       "        vertical-align: middle;\n",
       "    }\n",
       "\n",
       "    .dataframe tbody tr th {\n",
       "        vertical-align: top;\n",
       "    }\n",
       "\n",
       "    .dataframe thead th {\n",
       "        text-align: right;\n",
       "    }\n",
       "</style>\n",
       "<table border=\"1\" class=\"dataframe\">\n",
       "  <thead>\n",
       "    <tr style=\"text-align: right;\">\n",
       "      <th></th>\n",
       "      <th>table_name</th>\n",
       "      <th>column_name</th>\n",
       "      <th>data_type</th>\n",
       "    </tr>\n",
       "  </thead>\n",
       "  <tbody>\n",
       "    <tr>\n",
       "      <th>0</th>\n",
       "      <td>authors</td>\n",
       "      <td>author_id</td>\n",
       "      <td>integer</td>\n",
       "    </tr>\n",
       "    <tr>\n",
       "      <th>1</th>\n",
       "      <td>authors</td>\n",
       "      <td>author</td>\n",
       "      <td>text</td>\n",
       "    </tr>\n",
       "  </tbody>\n",
       "</table>\n",
       "</div>"
      ],
      "text/plain": [
       "  table_name column_name data_type\n",
       "0    authors   author_id   integer\n",
       "1    authors      author      text"
      ]
     },
     "metadata": {},
     "output_type": "display_data"
    },
    {
     "data": {
      "text/html": [
       "<div>\n",
       "<style scoped>\n",
       "    .dataframe tbody tr th:only-of-type {\n",
       "        vertical-align: middle;\n",
       "    }\n",
       "\n",
       "    .dataframe tbody tr th {\n",
       "        vertical-align: top;\n",
       "    }\n",
       "\n",
       "    .dataframe thead th {\n",
       "        text-align: right;\n",
       "    }\n",
       "</style>\n",
       "<table border=\"1\" class=\"dataframe\">\n",
       "  <thead>\n",
       "    <tr style=\"text-align: right;\">\n",
       "      <th></th>\n",
       "      <th>cnt_total</th>\n",
       "      <th>cnt_author_id</th>\n",
       "      <th>cnt_author</th>\n",
       "      <th>dist_author_id</th>\n",
       "    </tr>\n",
       "  </thead>\n",
       "  <tbody>\n",
       "    <tr>\n",
       "      <th>0</th>\n",
       "      <td>636</td>\n",
       "      <td>636</td>\n",
       "      <td>636</td>\n",
       "      <td>636</td>\n",
       "    </tr>\n",
       "  </tbody>\n",
       "</table>\n",
       "</div>"
      ],
      "text/plain": [
       "   cnt_total  cnt_author_id  cnt_author  dist_author_id\n",
       "0        636            636         636             636"
      ]
     },
     "metadata": {},
     "output_type": "display_data"
    },
    {
     "data": {
      "text/html": [
       "<div>\n",
       "<style scoped>\n",
       "    .dataframe tbody tr th:only-of-type {\n",
       "        vertical-align: middle;\n",
       "    }\n",
       "\n",
       "    .dataframe tbody tr th {\n",
       "        vertical-align: top;\n",
       "    }\n",
       "\n",
       "    .dataframe thead th {\n",
       "        text-align: right;\n",
       "    }\n",
       "</style>\n",
       "<table border=\"1\" class=\"dataframe\">\n",
       "  <thead>\n",
       "    <tr style=\"text-align: right;\">\n",
       "      <th></th>\n",
       "      <th>author_id</th>\n",
       "      <th>author</th>\n",
       "    </tr>\n",
       "  </thead>\n",
       "  <tbody>\n",
       "    <tr>\n",
       "      <th>0</th>\n",
       "      <td>1</td>\n",
       "      <td>A.S. Byatt</td>\n",
       "    </tr>\n",
       "    <tr>\n",
       "      <th>1</th>\n",
       "      <td>2</td>\n",
       "      <td>Aesop/Laura Harris/Laura Gibbs</td>\n",
       "    </tr>\n",
       "    <tr>\n",
       "      <th>2</th>\n",
       "      <td>3</td>\n",
       "      <td>Agatha Christie</td>\n",
       "    </tr>\n",
       "    <tr>\n",
       "      <th>3</th>\n",
       "      <td>4</td>\n",
       "      <td>Alan Brennert</td>\n",
       "    </tr>\n",
       "    <tr>\n",
       "      <th>4</th>\n",
       "      <td>5</td>\n",
       "      <td>Alan Moore/David   Lloyd</td>\n",
       "    </tr>\n",
       "  </tbody>\n",
       "</table>\n",
       "</div>"
      ],
      "text/plain": [
       "   author_id                          author\n",
       "0          1                      A.S. Byatt\n",
       "1          2  Aesop/Laura Harris/Laura Gibbs\n",
       "2          3                 Agatha Christie\n",
       "3          4                   Alan Brennert\n",
       "4          5        Alan Moore/David   Lloyd"
      ]
     },
     "metadata": {},
     "output_type": "display_data"
    }
   ],
   "source": [
    "# authors\n",
    "total_authors = ('''\n",
    "SELECT TABLE_NAME, \n",
    "       COLUMN_NAME,\n",
    "       DATA_TYPE\n",
    "FROM information_schema.columns\n",
    "WHERE table_name = 'authors'\n",
    ";''')\n",
    "\n",
    "authors_cnt = ('''\n",
    "SELECT COUNT(*) AS cnt_total,\n",
    "       COUNT(author_id) AS cnt_author_id,\n",
    "       COUNT(author) AS cnt_author,\n",
    "       COUNT(DISTINCT author_id) AS dist_author_id\n",
    "FROM authors\n",
    ";''')\n",
    "\n",
    "authors_head = ('''\n",
    "SELECT *\n",
    "FROM authors\n",
    "LIMIT 5\n",
    ";''')\n",
    "\n",
    "print('-'*50)\n",
    "print('Информация о таблице authors')\n",
    "print('-'*50)\n",
    "display(pd.io.sql.read_sql(sql=text(total_authors), con = con))\n",
    "display(pd.io.sql.read_sql(sql=text(authors_cnt), con = con))\n",
    "display(pd.io.sql.read_sql(sql=text(authors_head), con = con))"
   ]
  },
  {
   "cell_type": "markdown",
   "metadata": {},
   "source": [
    "### Таблица ratings"
   ]
  },
  {
   "cell_type": "code",
   "execution_count": 5,
   "metadata": {},
   "outputs": [
    {
     "name": "stdout",
     "output_type": "stream",
     "text": [
      "--------------------------------------------------\n",
      "Информация о таблице ratings\n",
      "--------------------------------------------------\n"
     ]
    },
    {
     "data": {
      "text/html": [
       "<div>\n",
       "<style scoped>\n",
       "    .dataframe tbody tr th:only-of-type {\n",
       "        vertical-align: middle;\n",
       "    }\n",
       "\n",
       "    .dataframe tbody tr th {\n",
       "        vertical-align: top;\n",
       "    }\n",
       "\n",
       "    .dataframe thead th {\n",
       "        text-align: right;\n",
       "    }\n",
       "</style>\n",
       "<table border=\"1\" class=\"dataframe\">\n",
       "  <thead>\n",
       "    <tr style=\"text-align: right;\">\n",
       "      <th></th>\n",
       "      <th>table_name</th>\n",
       "      <th>column_name</th>\n",
       "      <th>data_type</th>\n",
       "    </tr>\n",
       "  </thead>\n",
       "  <tbody>\n",
       "    <tr>\n",
       "      <th>0</th>\n",
       "      <td>ratings</td>\n",
       "      <td>rating_id</td>\n",
       "      <td>integer</td>\n",
       "    </tr>\n",
       "    <tr>\n",
       "      <th>1</th>\n",
       "      <td>ratings</td>\n",
       "      <td>book_id</td>\n",
       "      <td>integer</td>\n",
       "    </tr>\n",
       "    <tr>\n",
       "      <th>2</th>\n",
       "      <td>ratings</td>\n",
       "      <td>rating</td>\n",
       "      <td>integer</td>\n",
       "    </tr>\n",
       "    <tr>\n",
       "      <th>3</th>\n",
       "      <td>ratings</td>\n",
       "      <td>username</td>\n",
       "      <td>text</td>\n",
       "    </tr>\n",
       "  </tbody>\n",
       "</table>\n",
       "</div>"
      ],
      "text/plain": [
       "  table_name column_name data_type\n",
       "0    ratings   rating_id   integer\n",
       "1    ratings     book_id   integer\n",
       "2    ratings      rating   integer\n",
       "3    ratings    username      text"
      ]
     },
     "metadata": {},
     "output_type": "display_data"
    },
    {
     "data": {
      "text/html": [
       "<div>\n",
       "<style scoped>\n",
       "    .dataframe tbody tr th:only-of-type {\n",
       "        vertical-align: middle;\n",
       "    }\n",
       "\n",
       "    .dataframe tbody tr th {\n",
       "        vertical-align: top;\n",
       "    }\n",
       "\n",
       "    .dataframe thead th {\n",
       "        text-align: right;\n",
       "    }\n",
       "</style>\n",
       "<table border=\"1\" class=\"dataframe\">\n",
       "  <thead>\n",
       "    <tr style=\"text-align: right;\">\n",
       "      <th></th>\n",
       "      <th>cnt_total</th>\n",
       "      <th>cnt_rating_id</th>\n",
       "      <th>cnt_book_id</th>\n",
       "      <th>cnt_username</th>\n",
       "      <th>cnt_rating</th>\n",
       "      <th>dist_book_id</th>\n",
       "    </tr>\n",
       "  </thead>\n",
       "  <tbody>\n",
       "    <tr>\n",
       "      <th>0</th>\n",
       "      <td>6456</td>\n",
       "      <td>6456</td>\n",
       "      <td>6456</td>\n",
       "      <td>6456</td>\n",
       "      <td>6456</td>\n",
       "      <td>1000</td>\n",
       "    </tr>\n",
       "  </tbody>\n",
       "</table>\n",
       "</div>"
      ],
      "text/plain": [
       "   cnt_total  cnt_rating_id  cnt_book_id  cnt_username  cnt_rating  \\\n",
       "0       6456           6456         6456          6456        6456   \n",
       "\n",
       "   dist_book_id  \n",
       "0          1000  "
      ]
     },
     "metadata": {},
     "output_type": "display_data"
    },
    {
     "data": {
      "text/html": [
       "<div>\n",
       "<style scoped>\n",
       "    .dataframe tbody tr th:only-of-type {\n",
       "        vertical-align: middle;\n",
       "    }\n",
       "\n",
       "    .dataframe tbody tr th {\n",
       "        vertical-align: top;\n",
       "    }\n",
       "\n",
       "    .dataframe thead th {\n",
       "        text-align: right;\n",
       "    }\n",
       "</style>\n",
       "<table border=\"1\" class=\"dataframe\">\n",
       "  <thead>\n",
       "    <tr style=\"text-align: right;\">\n",
       "      <th></th>\n",
       "      <th>rating_id</th>\n",
       "      <th>book_id</th>\n",
       "      <th>username</th>\n",
       "      <th>rating</th>\n",
       "    </tr>\n",
       "  </thead>\n",
       "  <tbody>\n",
       "    <tr>\n",
       "      <th>0</th>\n",
       "      <td>1</td>\n",
       "      <td>1</td>\n",
       "      <td>ryanfranco</td>\n",
       "      <td>4</td>\n",
       "    </tr>\n",
       "    <tr>\n",
       "      <th>1</th>\n",
       "      <td>2</td>\n",
       "      <td>1</td>\n",
       "      <td>grantpatricia</td>\n",
       "      <td>2</td>\n",
       "    </tr>\n",
       "    <tr>\n",
       "      <th>2</th>\n",
       "      <td>3</td>\n",
       "      <td>1</td>\n",
       "      <td>brandtandrea</td>\n",
       "      <td>5</td>\n",
       "    </tr>\n",
       "    <tr>\n",
       "      <th>3</th>\n",
       "      <td>4</td>\n",
       "      <td>2</td>\n",
       "      <td>lorichen</td>\n",
       "      <td>3</td>\n",
       "    </tr>\n",
       "    <tr>\n",
       "      <th>4</th>\n",
       "      <td>5</td>\n",
       "      <td>2</td>\n",
       "      <td>mariokeller</td>\n",
       "      <td>2</td>\n",
       "    </tr>\n",
       "  </tbody>\n",
       "</table>\n",
       "</div>"
      ],
      "text/plain": [
       "   rating_id  book_id       username  rating\n",
       "0          1        1     ryanfranco       4\n",
       "1          2        1  grantpatricia       2\n",
       "2          3        1   brandtandrea       5\n",
       "3          4        2       lorichen       3\n",
       "4          5        2    mariokeller       2"
      ]
     },
     "metadata": {},
     "output_type": "display_data"
    }
   ],
   "source": [
    "# ratings\n",
    "total_ratings = ('''\n",
    "SELECT TABLE_NAME, \n",
    "       COLUMN_NAME,\n",
    "       DATA_TYPE\n",
    "FROM information_schema.columns\n",
    "WHERE table_name = 'ratings'\n",
    ";''')\n",
    "\n",
    "ratings_cnt = ('''\n",
    "SELECT COUNT(*) AS cnt_total,\n",
    "       COUNT(rating_id) AS cnt_rating_id,\n",
    "       COUNT(book_id) AS cnt_book_id,\n",
    "       COUNT(username) AS cnt_username,\n",
    "       COUNT(rating) AS cnt_rating,\n",
    "       COUNT(DISTINCT book_id) AS dist_book_id\n",
    "FROM ratings\n",
    ";''')\n",
    "\n",
    "ratings_head = ('''\n",
    "SELECT *\n",
    "FROM ratings\n",
    "LIMIT 5\n",
    ";''')\n",
    "\n",
    "print('-'*50)\n",
    "print('Информация о таблице ratings')\n",
    "print('-'*50)\n",
    "display(pd.io.sql.read_sql(sql=text(total_ratings), con = con))\n",
    "display(pd.io.sql.read_sql(sql=text(ratings_cnt), con = con))\n",
    "display(pd.io.sql.read_sql(sql=text(ratings_head), con = con))"
   ]
  },
  {
   "cell_type": "markdown",
   "metadata": {},
   "source": [
    "### Таблица reviews"
   ]
  },
  {
   "cell_type": "code",
   "execution_count": 6,
   "metadata": {},
   "outputs": [
    {
     "name": "stdout",
     "output_type": "stream",
     "text": [
      "--------------------------------------------------\n",
      "Информация о таблице reviews\n",
      "--------------------------------------------------\n"
     ]
    },
    {
     "data": {
      "text/html": [
       "<div>\n",
       "<style scoped>\n",
       "    .dataframe tbody tr th:only-of-type {\n",
       "        vertical-align: middle;\n",
       "    }\n",
       "\n",
       "    .dataframe tbody tr th {\n",
       "        vertical-align: top;\n",
       "    }\n",
       "\n",
       "    .dataframe thead th {\n",
       "        text-align: right;\n",
       "    }\n",
       "</style>\n",
       "<table border=\"1\" class=\"dataframe\">\n",
       "  <thead>\n",
       "    <tr style=\"text-align: right;\">\n",
       "      <th></th>\n",
       "      <th>table_name</th>\n",
       "      <th>column_name</th>\n",
       "      <th>data_type</th>\n",
       "    </tr>\n",
       "  </thead>\n",
       "  <tbody>\n",
       "    <tr>\n",
       "      <th>0</th>\n",
       "      <td>reviews</td>\n",
       "      <td>review_id</td>\n",
       "      <td>integer</td>\n",
       "    </tr>\n",
       "    <tr>\n",
       "      <th>1</th>\n",
       "      <td>reviews</td>\n",
       "      <td>book_id</td>\n",
       "      <td>integer</td>\n",
       "    </tr>\n",
       "    <tr>\n",
       "      <th>2</th>\n",
       "      <td>reviews</td>\n",
       "      <td>username</td>\n",
       "      <td>text</td>\n",
       "    </tr>\n",
       "    <tr>\n",
       "      <th>3</th>\n",
       "      <td>reviews</td>\n",
       "      <td>text</td>\n",
       "      <td>text</td>\n",
       "    </tr>\n",
       "  </tbody>\n",
       "</table>\n",
       "</div>"
      ],
      "text/plain": [
       "  table_name column_name data_type\n",
       "0    reviews   review_id   integer\n",
       "1    reviews     book_id   integer\n",
       "2    reviews    username      text\n",
       "3    reviews        text      text"
      ]
     },
     "metadata": {},
     "output_type": "display_data"
    },
    {
     "data": {
      "text/html": [
       "<div>\n",
       "<style scoped>\n",
       "    .dataframe tbody tr th:only-of-type {\n",
       "        vertical-align: middle;\n",
       "    }\n",
       "\n",
       "    .dataframe tbody tr th {\n",
       "        vertical-align: top;\n",
       "    }\n",
       "\n",
       "    .dataframe thead th {\n",
       "        text-align: right;\n",
       "    }\n",
       "</style>\n",
       "<table border=\"1\" class=\"dataframe\">\n",
       "  <thead>\n",
       "    <tr style=\"text-align: right;\">\n",
       "      <th></th>\n",
       "      <th>cnt_total</th>\n",
       "      <th>cnt_review_id</th>\n",
       "      <th>cnt_book_id</th>\n",
       "      <th>cnt_username</th>\n",
       "      <th>cnt_text</th>\n",
       "      <th>dist_book_id</th>\n",
       "      <th>dist_username</th>\n",
       "    </tr>\n",
       "  </thead>\n",
       "  <tbody>\n",
       "    <tr>\n",
       "      <th>0</th>\n",
       "      <td>2793</td>\n",
       "      <td>2793</td>\n",
       "      <td>2793</td>\n",
       "      <td>2793</td>\n",
       "      <td>2793</td>\n",
       "      <td>994</td>\n",
       "      <td>160</td>\n",
       "    </tr>\n",
       "  </tbody>\n",
       "</table>\n",
       "</div>"
      ],
      "text/plain": [
       "   cnt_total  cnt_review_id  cnt_book_id  cnt_username  cnt_text  \\\n",
       "0       2793           2793         2793          2793      2793   \n",
       "\n",
       "   dist_book_id  dist_username  \n",
       "0           994            160  "
      ]
     },
     "metadata": {},
     "output_type": "display_data"
    },
    {
     "data": {
      "text/html": [
       "<div>\n",
       "<style scoped>\n",
       "    .dataframe tbody tr th:only-of-type {\n",
       "        vertical-align: middle;\n",
       "    }\n",
       "\n",
       "    .dataframe tbody tr th {\n",
       "        vertical-align: top;\n",
       "    }\n",
       "\n",
       "    .dataframe thead th {\n",
       "        text-align: right;\n",
       "    }\n",
       "</style>\n",
       "<table border=\"1\" class=\"dataframe\">\n",
       "  <thead>\n",
       "    <tr style=\"text-align: right;\">\n",
       "      <th></th>\n",
       "      <th>review_id</th>\n",
       "      <th>book_id</th>\n",
       "      <th>username</th>\n",
       "      <th>text</th>\n",
       "    </tr>\n",
       "  </thead>\n",
       "  <tbody>\n",
       "    <tr>\n",
       "      <th>0</th>\n",
       "      <td>1</td>\n",
       "      <td>1</td>\n",
       "      <td>brandtandrea</td>\n",
       "      <td>Mention society tell send professor analysis. ...</td>\n",
       "    </tr>\n",
       "    <tr>\n",
       "      <th>1</th>\n",
       "      <td>2</td>\n",
       "      <td>1</td>\n",
       "      <td>ryanfranco</td>\n",
       "      <td>Foot glass pretty audience hit themselves. Amo...</td>\n",
       "    </tr>\n",
       "    <tr>\n",
       "      <th>2</th>\n",
       "      <td>3</td>\n",
       "      <td>2</td>\n",
       "      <td>lorichen</td>\n",
       "      <td>Listen treat keep worry. Miss husband tax but ...</td>\n",
       "    </tr>\n",
       "    <tr>\n",
       "      <th>3</th>\n",
       "      <td>4</td>\n",
       "      <td>3</td>\n",
       "      <td>johnsonamanda</td>\n",
       "      <td>Finally month interesting blue could nature cu...</td>\n",
       "    </tr>\n",
       "    <tr>\n",
       "      <th>4</th>\n",
       "      <td>5</td>\n",
       "      <td>3</td>\n",
       "      <td>scotttamara</td>\n",
       "      <td>Nation purpose heavy give wait song will. List...</td>\n",
       "    </tr>\n",
       "  </tbody>\n",
       "</table>\n",
       "</div>"
      ],
      "text/plain": [
       "   review_id  book_id       username  \\\n",
       "0          1        1   brandtandrea   \n",
       "1          2        1     ryanfranco   \n",
       "2          3        2       lorichen   \n",
       "3          4        3  johnsonamanda   \n",
       "4          5        3    scotttamara   \n",
       "\n",
       "                                                text  \n",
       "0  Mention society tell send professor analysis. ...  \n",
       "1  Foot glass pretty audience hit themselves. Amo...  \n",
       "2  Listen treat keep worry. Miss husband tax but ...  \n",
       "3  Finally month interesting blue could nature cu...  \n",
       "4  Nation purpose heavy give wait song will. List...  "
      ]
     },
     "metadata": {},
     "output_type": "display_data"
    }
   ],
   "source": [
    "# reviews\n",
    "total_reviews = ('''\n",
    "SELECT TABLE_NAME, \n",
    "       COLUMN_NAME,\n",
    "       DATA_TYPE\n",
    "FROM information_schema.columns\n",
    "WHERE table_name = 'reviews'\n",
    ";''')\n",
    "\n",
    "reviews_cnt = ('''\n",
    "SELECT COUNT(*) AS cnt_total,\n",
    "       COUNT(review_id) AS cnt_review_id,\n",
    "       COUNT(book_id) AS cnt_book_id,\n",
    "       COUNT(username) AS cnt_username,\n",
    "       COUNT(text) AS cnt_text,\n",
    "       COUNT(DISTINCT book_id) AS dist_book_id,\n",
    "       COUNT(DISTINCT username) AS dist_username\n",
    "FROM reviews\n",
    ";''')\n",
    "\n",
    "reviews_head = ('''\n",
    "SELECT *\n",
    "FROM reviews\n",
    "LIMIT 5\n",
    ";''')\n",
    "\n",
    "print('-'*50)\n",
    "print('Информация о таблице reviews')\n",
    "print('-'*50)\n",
    "display(pd.io.sql.read_sql(sql=text(total_reviews), con = con))\n",
    "display(pd.io.sql.read_sql(sql=text(reviews_cnt), con = con))\n",
    "display(pd.io.sql.read_sql(sql=text(reviews_head), con = con))"
   ]
  },
  {
   "cell_type": "markdown",
   "metadata": {},
   "source": [
    "### Таблица publishers"
   ]
  },
  {
   "cell_type": "code",
   "execution_count": 7,
   "metadata": {},
   "outputs": [
    {
     "name": "stdout",
     "output_type": "stream",
     "text": [
      "--------------------------------------------------\n",
      "Информация о таблице publishers\n",
      "--------------------------------------------------\n"
     ]
    },
    {
     "data": {
      "text/html": [
       "<div>\n",
       "<style scoped>\n",
       "    .dataframe tbody tr th:only-of-type {\n",
       "        vertical-align: middle;\n",
       "    }\n",
       "\n",
       "    .dataframe tbody tr th {\n",
       "        vertical-align: top;\n",
       "    }\n",
       "\n",
       "    .dataframe thead th {\n",
       "        text-align: right;\n",
       "    }\n",
       "</style>\n",
       "<table border=\"1\" class=\"dataframe\">\n",
       "  <thead>\n",
       "    <tr style=\"text-align: right;\">\n",
       "      <th></th>\n",
       "      <th>table_name</th>\n",
       "      <th>column_name</th>\n",
       "      <th>data_type</th>\n",
       "    </tr>\n",
       "  </thead>\n",
       "  <tbody>\n",
       "    <tr>\n",
       "      <th>0</th>\n",
       "      <td>publishers</td>\n",
       "      <td>publisher_id</td>\n",
       "      <td>integer</td>\n",
       "    </tr>\n",
       "    <tr>\n",
       "      <th>1</th>\n",
       "      <td>publishers</td>\n",
       "      <td>publisher</td>\n",
       "      <td>text</td>\n",
       "    </tr>\n",
       "  </tbody>\n",
       "</table>\n",
       "</div>"
      ],
      "text/plain": [
       "   table_name   column_name data_type\n",
       "0  publishers  publisher_id   integer\n",
       "1  publishers     publisher      text"
      ]
     },
     "metadata": {},
     "output_type": "display_data"
    },
    {
     "data": {
      "text/html": [
       "<div>\n",
       "<style scoped>\n",
       "    .dataframe tbody tr th:only-of-type {\n",
       "        vertical-align: middle;\n",
       "    }\n",
       "\n",
       "    .dataframe tbody tr th {\n",
       "        vertical-align: top;\n",
       "    }\n",
       "\n",
       "    .dataframe thead th {\n",
       "        text-align: right;\n",
       "    }\n",
       "</style>\n",
       "<table border=\"1\" class=\"dataframe\">\n",
       "  <thead>\n",
       "    <tr style=\"text-align: right;\">\n",
       "      <th></th>\n",
       "      <th>cnt_total</th>\n",
       "      <th>cnt_publisher_id</th>\n",
       "      <th>cnt_publisher</th>\n",
       "      <th>dist_publisher_id</th>\n",
       "      <th>dist_publisher</th>\n",
       "    </tr>\n",
       "  </thead>\n",
       "  <tbody>\n",
       "    <tr>\n",
       "      <th>0</th>\n",
       "      <td>340</td>\n",
       "      <td>340</td>\n",
       "      <td>340</td>\n",
       "      <td>340</td>\n",
       "      <td>340</td>\n",
       "    </tr>\n",
       "  </tbody>\n",
       "</table>\n",
       "</div>"
      ],
      "text/plain": [
       "   cnt_total  cnt_publisher_id  cnt_publisher  dist_publisher_id  \\\n",
       "0        340               340            340                340   \n",
       "\n",
       "   dist_publisher  \n",
       "0             340  "
      ]
     },
     "metadata": {},
     "output_type": "display_data"
    },
    {
     "data": {
      "text/html": [
       "<div>\n",
       "<style scoped>\n",
       "    .dataframe tbody tr th:only-of-type {\n",
       "        vertical-align: middle;\n",
       "    }\n",
       "\n",
       "    .dataframe tbody tr th {\n",
       "        vertical-align: top;\n",
       "    }\n",
       "\n",
       "    .dataframe thead th {\n",
       "        text-align: right;\n",
       "    }\n",
       "</style>\n",
       "<table border=\"1\" class=\"dataframe\">\n",
       "  <thead>\n",
       "    <tr style=\"text-align: right;\">\n",
       "      <th></th>\n",
       "      <th>publisher_id</th>\n",
       "      <th>publisher</th>\n",
       "    </tr>\n",
       "  </thead>\n",
       "  <tbody>\n",
       "    <tr>\n",
       "      <th>0</th>\n",
       "      <td>1</td>\n",
       "      <td>Ace</td>\n",
       "    </tr>\n",
       "    <tr>\n",
       "      <th>1</th>\n",
       "      <td>2</td>\n",
       "      <td>Ace Book</td>\n",
       "    </tr>\n",
       "    <tr>\n",
       "      <th>2</th>\n",
       "      <td>3</td>\n",
       "      <td>Ace Books</td>\n",
       "    </tr>\n",
       "    <tr>\n",
       "      <th>3</th>\n",
       "      <td>4</td>\n",
       "      <td>Ace Hardcover</td>\n",
       "    </tr>\n",
       "    <tr>\n",
       "      <th>4</th>\n",
       "      <td>5</td>\n",
       "      <td>Addison Wesley Publishing Company</td>\n",
       "    </tr>\n",
       "  </tbody>\n",
       "</table>\n",
       "</div>"
      ],
      "text/plain": [
       "   publisher_id                          publisher\n",
       "0             1                                Ace\n",
       "1             2                           Ace Book\n",
       "2             3                          Ace Books\n",
       "3             4                      Ace Hardcover\n",
       "4             5  Addison Wesley Publishing Company"
      ]
     },
     "metadata": {},
     "output_type": "display_data"
    }
   ],
   "source": [
    "# publishers\n",
    "total_publishers = ('''\n",
    "SELECT TABLE_NAME, \n",
    "       COLUMN_NAME,\n",
    "       DATA_TYPE\n",
    "FROM information_schema.columns\n",
    "WHERE table_name = 'publishers'\n",
    ";''')\n",
    "\n",
    "publishers_cnt = ('''\n",
    "SELECT COUNT(*) AS cnt_total,\n",
    "       COUNT(publisher_id) AS cnt_publisher_id,\n",
    "       COUNT(publisher) AS cnt_publisher,\n",
    "       COUNT(DISTINCT publisher_id) AS dist_publisher_id,\n",
    "       COUNT(DISTINCT publisher) AS dist_publisher\n",
    "FROM publishers\n",
    ";''')\n",
    "\n",
    "publishers_head = ('''\n",
    "SELECT *\n",
    "FROM publishers\n",
    "LIMIT 5\n",
    ";''')\n",
    "\n",
    "print('-'*50)\n",
    "print('Информация о таблице publishers')\n",
    "print('-'*50)\n",
    "display(pd.io.sql.read_sql(sql=text(total_publishers), con = con))\n",
    "display(pd.io.sql.read_sql(sql=text(publishers_cnt), con = con))\n",
    "display(pd.io.sql.read_sql(sql=text(publishers_head), con = con))"
   ]
  },
  {
   "cell_type": "markdown",
   "metadata": {},
   "source": [
    "### Вывод"
   ]
  },
  {
   "cell_type": "markdown",
   "metadata": {},
   "source": [
    "<div style=\"border:solid green 2px; padding: 20px\">\n",
    "\n",
    "*Структура базы данных:*\n",
    "    \n",
    "* В базе данных 5 таблиц.\n",
    "    * books 1000 строк\n",
    "    * authors 636 строк\n",
    "    * ratings 6456 строк\n",
    "    * reviews 2793 строк\n",
    "    * publishers 340 строк\n",
    "* Пропусков нет.\n",
    "* Типы данных корректные.\n",
    "* В таблице reviews уникальных значений book_id 994, в таблице books 1000 уникальных значений book_id. Можно предположить, что не все книги имеют пользовательские обзоры.\n",
    "    \n",
    "\n",
    "</div>"
   ]
  },
  {
   "cell_type": "markdown",
   "metadata": {},
   "source": [
    "[Начало_проекта](#Начало_проекта)"
   ]
  },
  {
   "cell_type": "markdown",
   "metadata": {},
   "source": [
    "<a id=\"Исследовательский_анализ_данных\"></a>"
   ]
  },
  {
   "cell_type": "markdown",
   "metadata": {},
   "source": [
    "## Исследовательский анализ данных"
   ]
  },
  {
   "cell_type": "markdown",
   "metadata": {},
   "source": [
    "### Количество выпущенных книг по годам"
   ]
  },
  {
   "cell_type": "markdown",
   "metadata": {},
   "source": [
    "<div style=\"border:solid black 2px; padding: 20px\">\n",
    "\n",
    "Исследуем год публикации книг в сервисе.\n",
    "\n",
    "Посчитаем, сколько книг вышло после 1 января 2000 г. (эту дату включать не будем).\n",
    "\n",
    "</div>"
   ]
  },
  {
   "cell_type": "code",
   "execution_count": 8,
   "metadata": {},
   "outputs": [
    {
     "name": "stdout",
     "output_type": "stream",
     "text": [
      "Количество книг, изданных после 1 января 2000г.\n",
      "--------------------------------------------------\n"
     ]
    },
    {
     "data": {
      "text/html": [
       "<div>\n",
       "<style scoped>\n",
       "    .dataframe tbody tr th:only-of-type {\n",
       "        vertical-align: middle;\n",
       "    }\n",
       "\n",
       "    .dataframe tbody tr th {\n",
       "        vertical-align: top;\n",
       "    }\n",
       "\n",
       "    .dataframe thead th {\n",
       "        text-align: right;\n",
       "    }\n",
       "</style>\n",
       "<table border=\"1\" class=\"dataframe\">\n",
       "  <thead>\n",
       "    <tr style=\"text-align: right;\">\n",
       "      <th></th>\n",
       "      <th>books_cnt_after_2000_01_01</th>\n",
       "    </tr>\n",
       "  </thead>\n",
       "  <tbody>\n",
       "    <tr>\n",
       "      <th>0</th>\n",
       "      <td>819</td>\n",
       "    </tr>\n",
       "  </tbody>\n",
       "</table>\n",
       "</div>"
      ],
      "text/plain": [
       "   books_cnt_after_2000_01_01\n",
       "0                         819"
      ]
     },
     "metadata": {},
     "output_type": "display_data"
    },
    {
     "name": "stdout",
     "output_type": "stream",
     "text": [
      "Общее количество книг в каталоге\n",
      "--------------------------------------------------\n"
     ]
    },
    {
     "data": {
      "text/html": [
       "<div>\n",
       "<style scoped>\n",
       "    .dataframe tbody tr th:only-of-type {\n",
       "        vertical-align: middle;\n",
       "    }\n",
       "\n",
       "    .dataframe tbody tr th {\n",
       "        vertical-align: top;\n",
       "    }\n",
       "\n",
       "    .dataframe thead th {\n",
       "        text-align: right;\n",
       "    }\n",
       "</style>\n",
       "<table border=\"1\" class=\"dataframe\">\n",
       "  <thead>\n",
       "    <tr style=\"text-align: right;\">\n",
       "      <th></th>\n",
       "      <th>books_cnt_total</th>\n",
       "    </tr>\n",
       "  </thead>\n",
       "  <tbody>\n",
       "    <tr>\n",
       "      <th>0</th>\n",
       "      <td>1000</td>\n",
       "    </tr>\n",
       "  </tbody>\n",
       "</table>\n",
       "</div>"
      ],
      "text/plain": [
       "   books_cnt_total\n",
       "0             1000"
      ]
     },
     "metadata": {},
     "output_type": "display_data"
    }
   ],
   "source": [
    "books_cnt_after_2000_01_01 = ('''\n",
    "SELECT COUNT(book_id) AS books_cnt_after_2000_01_01\n",
    "FROM books\n",
    "WHERE publication_date > '2000-01-01'\n",
    ";''')\n",
    "\n",
    "print('Количество книг, изданных после 1 января 2000г.')\n",
    "print('-'*50)\n",
    "display(pd.io.sql.read_sql(sql=text(books_cnt_after_2000_01_01), con = con))\n",
    "\n",
    "books_cnt_total = ('''\n",
    "SELECT COUNT(book_id) AS books_cnt_total\n",
    "FROM books\n",
    ";''')\n",
    "\n",
    "print('Общее количество книг в каталоге')\n",
    "print('-'*50)\n",
    "display(pd.io.sql.read_sql(sql=text(books_cnt_total), con = con))"
   ]
  },
  {
   "cell_type": "code",
   "execution_count": 9,
   "metadata": {},
   "outputs": [
    {
     "name": "stdout",
     "output_type": "stream",
     "text": [
      "Количество книг по году публикации\n",
      "--------------------------------------------------\n"
     ]
    },
    {
     "data": {
      "text/html": [
       "<div>\n",
       "<style scoped>\n",
       "    .dataframe tbody tr th:only-of-type {\n",
       "        vertical-align: middle;\n",
       "    }\n",
       "\n",
       "    .dataframe tbody tr th {\n",
       "        vertical-align: top;\n",
       "    }\n",
       "\n",
       "    .dataframe thead th {\n",
       "        text-align: right;\n",
       "    }\n",
       "</style>\n",
       "<table border=\"1\" class=\"dataframe\">\n",
       "  <thead>\n",
       "    <tr style=\"text-align: right;\">\n",
       "      <th></th>\n",
       "      <th>publication_year</th>\n",
       "      <th>cnt_books</th>\n",
       "    </tr>\n",
       "  </thead>\n",
       "  <tbody>\n",
       "    <tr>\n",
       "      <th>0</th>\n",
       "      <td>1952.0</td>\n",
       "      <td>1</td>\n",
       "    </tr>\n",
       "    <tr>\n",
       "      <th>1</th>\n",
       "      <td>1977.0</td>\n",
       "      <td>1</td>\n",
       "    </tr>\n",
       "    <tr>\n",
       "      <th>2</th>\n",
       "      <td>1980.0</td>\n",
       "      <td>2</td>\n",
       "    </tr>\n",
       "    <tr>\n",
       "      <th>3</th>\n",
       "      <td>1982.0</td>\n",
       "      <td>5</td>\n",
       "    </tr>\n",
       "    <tr>\n",
       "      <th>4</th>\n",
       "      <td>1983.0</td>\n",
       "      <td>1</td>\n",
       "    </tr>\n",
       "    <tr>\n",
       "      <th>5</th>\n",
       "      <td>1984.0</td>\n",
       "      <td>1</td>\n",
       "    </tr>\n",
       "    <tr>\n",
       "      <th>6</th>\n",
       "      <td>1986.0</td>\n",
       "      <td>2</td>\n",
       "    </tr>\n",
       "    <tr>\n",
       "      <th>7</th>\n",
       "      <td>1987.0</td>\n",
       "      <td>7</td>\n",
       "    </tr>\n",
       "    <tr>\n",
       "      <th>8</th>\n",
       "      <td>1988.0</td>\n",
       "      <td>5</td>\n",
       "    </tr>\n",
       "    <tr>\n",
       "      <th>9</th>\n",
       "      <td>1989.0</td>\n",
       "      <td>5</td>\n",
       "    </tr>\n",
       "    <tr>\n",
       "      <th>10</th>\n",
       "      <td>1990.0</td>\n",
       "      <td>5</td>\n",
       "    </tr>\n",
       "    <tr>\n",
       "      <th>11</th>\n",
       "      <td>1991.0</td>\n",
       "      <td>9</td>\n",
       "    </tr>\n",
       "    <tr>\n",
       "      <th>12</th>\n",
       "      <td>1992.0</td>\n",
       "      <td>2</td>\n",
       "    </tr>\n",
       "    <tr>\n",
       "      <th>13</th>\n",
       "      <td>1993.0</td>\n",
       "      <td>10</td>\n",
       "    </tr>\n",
       "    <tr>\n",
       "      <th>14</th>\n",
       "      <td>1994.0</td>\n",
       "      <td>14</td>\n",
       "    </tr>\n",
       "    <tr>\n",
       "      <th>15</th>\n",
       "      <td>1995.0</td>\n",
       "      <td>11</td>\n",
       "    </tr>\n",
       "    <tr>\n",
       "      <th>16</th>\n",
       "      <td>1996.0</td>\n",
       "      <td>13</td>\n",
       "    </tr>\n",
       "    <tr>\n",
       "      <th>17</th>\n",
       "      <td>1997.0</td>\n",
       "      <td>14</td>\n",
       "    </tr>\n",
       "    <tr>\n",
       "      <th>18</th>\n",
       "      <td>1998.0</td>\n",
       "      <td>30</td>\n",
       "    </tr>\n",
       "    <tr>\n",
       "      <th>19</th>\n",
       "      <td>1999.0</td>\n",
       "      <td>41</td>\n",
       "    </tr>\n",
       "    <tr>\n",
       "      <th>20</th>\n",
       "      <td>2000.0</td>\n",
       "      <td>38</td>\n",
       "    </tr>\n",
       "    <tr>\n",
       "      <th>21</th>\n",
       "      <td>2001.0</td>\n",
       "      <td>60</td>\n",
       "    </tr>\n",
       "    <tr>\n",
       "      <th>22</th>\n",
       "      <td>2002.0</td>\n",
       "      <td>94</td>\n",
       "    </tr>\n",
       "    <tr>\n",
       "      <th>23</th>\n",
       "      <td>2003.0</td>\n",
       "      <td>105</td>\n",
       "    </tr>\n",
       "    <tr>\n",
       "      <th>24</th>\n",
       "      <td>2004.0</td>\n",
       "      <td>124</td>\n",
       "    </tr>\n",
       "    <tr>\n",
       "      <th>25</th>\n",
       "      <td>2005.0</td>\n",
       "      <td>139</td>\n",
       "    </tr>\n",
       "    <tr>\n",
       "      <th>26</th>\n",
       "      <td>2006.0</td>\n",
       "      <td>184</td>\n",
       "    </tr>\n",
       "    <tr>\n",
       "      <th>27</th>\n",
       "      <td>2007.0</td>\n",
       "      <td>50</td>\n",
       "    </tr>\n",
       "    <tr>\n",
       "      <th>28</th>\n",
       "      <td>2008.0</td>\n",
       "      <td>4</td>\n",
       "    </tr>\n",
       "    <tr>\n",
       "      <th>29</th>\n",
       "      <td>2009.0</td>\n",
       "      <td>6</td>\n",
       "    </tr>\n",
       "    <tr>\n",
       "      <th>30</th>\n",
       "      <td>2010.0</td>\n",
       "      <td>7</td>\n",
       "    </tr>\n",
       "    <tr>\n",
       "      <th>31</th>\n",
       "      <td>2011.0</td>\n",
       "      <td>1</td>\n",
       "    </tr>\n",
       "    <tr>\n",
       "      <th>32</th>\n",
       "      <td>2012.0</td>\n",
       "      <td>3</td>\n",
       "    </tr>\n",
       "    <tr>\n",
       "      <th>33</th>\n",
       "      <td>2013.0</td>\n",
       "      <td>1</td>\n",
       "    </tr>\n",
       "    <tr>\n",
       "      <th>34</th>\n",
       "      <td>2014.0</td>\n",
       "      <td>2</td>\n",
       "    </tr>\n",
       "    <tr>\n",
       "      <th>35</th>\n",
       "      <td>2019.0</td>\n",
       "      <td>2</td>\n",
       "    </tr>\n",
       "    <tr>\n",
       "      <th>36</th>\n",
       "      <td>2020.0</td>\n",
       "      <td>1</td>\n",
       "    </tr>\n",
       "  </tbody>\n",
       "</table>\n",
       "</div>"
      ],
      "text/plain": [
       "    publication_year  cnt_books\n",
       "0             1952.0          1\n",
       "1             1977.0          1\n",
       "2             1980.0          2\n",
       "3             1982.0          5\n",
       "4             1983.0          1\n",
       "5             1984.0          1\n",
       "6             1986.0          2\n",
       "7             1987.0          7\n",
       "8             1988.0          5\n",
       "9             1989.0          5\n",
       "10            1990.0          5\n",
       "11            1991.0          9\n",
       "12            1992.0          2\n",
       "13            1993.0         10\n",
       "14            1994.0         14\n",
       "15            1995.0         11\n",
       "16            1996.0         13\n",
       "17            1997.0         14\n",
       "18            1998.0         30\n",
       "19            1999.0         41\n",
       "20            2000.0         38\n",
       "21            2001.0         60\n",
       "22            2002.0         94\n",
       "23            2003.0        105\n",
       "24            2004.0        124\n",
       "25            2005.0        139\n",
       "26            2006.0        184\n",
       "27            2007.0         50\n",
       "28            2008.0          4\n",
       "29            2009.0          6\n",
       "30            2010.0          7\n",
       "31            2011.0          1\n",
       "32            2012.0          3\n",
       "33            2013.0          1\n",
       "34            2014.0          2\n",
       "35            2019.0          2\n",
       "36            2020.0          1"
      ]
     },
     "execution_count": 9,
     "metadata": {},
     "output_type": "execute_result"
    }
   ],
   "source": [
    "books_cnt_by_year = ('''\n",
    "SELECT EXTRACT(YEAR FROM publication_date) AS publication_year,\n",
    "       COUNT(book_id) AS cnt_books\n",
    "FROM books\n",
    "GROUP BY EXTRACT(YEAR FROM publication_date)\n",
    "ORDER BY EXTRACT(YEAR FROM publication_date)\n",
    ";''')\n",
    "\n",
    "print('Количество книг по году публикации')\n",
    "print('-'*50)\n",
    "books_cnt_years = pd.io.sql.read_sql(sql=text(books_cnt_by_year), con = con)\n",
    "books_cnt_years"
   ]
  },
  {
   "cell_type": "code",
   "execution_count": 10,
   "metadata": {},
   "outputs": [
    {
     "data": {
      "image/png": "[encoded data removed]"
     },
     "metadata": {},
     "output_type": "display_data"
    }
   ],
   "source": [
    "fig_books_cnt_years = px.bar(books_cnt_years, x='publication_year', y='cnt_books',\n",
    "                             title='Количество книг по году публикации')\n",
    "fig_books_cnt_years.update_layout(width=800, height=400,\n",
    "                                  yaxis_title='Количество книг', xaxis_title='Год публикации')\n",
    "fig_books_cnt_years.show('png')"
   ]
  },
  {
   "cell_type": "markdown",
   "metadata": {},
   "source": [
    "<div style=\"border:solid green 2px; padding: 20px\">\n",
    "\n",
    "**Количество книг в разрезе даты публикации.**    \n",
    "    \n",
    "Всего в базе 1000 уникальных книг.\n",
    "\n",
    "Книги были изданы в период с 1952г. по 2020г.\n",
    "    \n",
    "После 1 января 2000г. было издано 819 книг, т.е. большая часть из нашего каталога.\n",
    "    \n",
    "В каталоге больше всего книг, изданных в 2006г.\n",
    "    \n",
    "В каталоге мало книг последнего десятилетия, возможно стоит уделить внимание в ассортименте современной литературе.\n",
    "\n",
    "</div>"
   ]
  },
  {
   "cell_type": "markdown",
   "metadata": {},
   "source": [
    "### Количество обзоров и средняя оценка книги"
   ]
  },
  {
   "cell_type": "markdown",
   "metadata": {},
   "source": [
    "<div style=\"border:solid black 2px; padding: 20px\">\n",
    "\n",
    "Для каждой книги посчитаем количество обзоров и среднюю оценку.\n",
    "\n",
    "</div>"
   ]
  },
  {
   "cell_type": "code",
   "execution_count": 11,
   "metadata": {},
   "outputs": [
    {
     "name": "stdout",
     "output_type": "stream",
     "text": [
      "Минимальный и максимальный рейтинг книг\n",
      "--------------------------------------------------\n"
     ]
    },
    {
     "data": {
      "text/html": [
       "<div>\n",
       "<style scoped>\n",
       "    .dataframe tbody tr th:only-of-type {\n",
       "        vertical-align: middle;\n",
       "    }\n",
       "\n",
       "    .dataframe tbody tr th {\n",
       "        vertical-align: top;\n",
       "    }\n",
       "\n",
       "    .dataframe thead th {\n",
       "        text-align: right;\n",
       "    }\n",
       "</style>\n",
       "<table border=\"1\" class=\"dataframe\">\n",
       "  <thead>\n",
       "    <tr style=\"text-align: right;\">\n",
       "      <th></th>\n",
       "      <th>min</th>\n",
       "      <th>max</th>\n",
       "      <th>dist</th>\n",
       "      <th>count</th>\n",
       "    </tr>\n",
       "  </thead>\n",
       "  <tbody>\n",
       "    <tr>\n",
       "      <th>0</th>\n",
       "      <td>1</td>\n",
       "      <td>5</td>\n",
       "      <td>5</td>\n",
       "      <td>6456</td>\n",
       "    </tr>\n",
       "  </tbody>\n",
       "</table>\n",
       "</div>"
      ],
      "text/plain": [
       "   min  max  dist  count\n",
       "0    1    5     5   6456"
      ]
     },
     "execution_count": 11,
     "metadata": {},
     "output_type": "execute_result"
    }
   ],
   "source": [
    "min_max_rating = ('''\n",
    "SELECT MIN(rating),\n",
    "       MAX(rating),\n",
    "       COUNT(DISTINCT rating) AS dist,\n",
    "       COUNT(rating)\n",
    "FROM ratings\n",
    ";''')\n",
    "\n",
    "print('Минимальный и максимальный рейтинг книг')\n",
    "print('-'*50)\n",
    "pd.io.sql.read_sql(sql=text(min_max_rating), con = con)"
   ]
  },
  {
   "cell_type": "code",
   "execution_count": 12,
   "metadata": {},
   "outputs": [
    {
     "name": "stdout",
     "output_type": "stream",
     "text": [
      "Количество обзоров\n",
      "--------------------------------------------------\n"
     ]
    },
    {
     "data": {
      "text/html": [
       "<div>\n",
       "<style scoped>\n",
       "    .dataframe tbody tr th:only-of-type {\n",
       "        vertical-align: middle;\n",
       "    }\n",
       "\n",
       "    .dataframe tbody tr th {\n",
       "        vertical-align: top;\n",
       "    }\n",
       "\n",
       "    .dataframe thead th {\n",
       "        text-align: right;\n",
       "    }\n",
       "</style>\n",
       "<table border=\"1\" class=\"dataframe\">\n",
       "  <thead>\n",
       "    <tr style=\"text-align: right;\">\n",
       "      <th></th>\n",
       "      <th>min</th>\n",
       "      <th>max</th>\n",
       "      <th>cnt_review</th>\n",
       "    </tr>\n",
       "  </thead>\n",
       "  <tbody>\n",
       "    <tr>\n",
       "      <th>0</th>\n",
       "      <td>1</td>\n",
       "      <td>7</td>\n",
       "      <td>2793.0</td>\n",
       "    </tr>\n",
       "  </tbody>\n",
       "</table>\n",
       "</div>"
      ],
      "text/plain": [
       "   min  max  cnt_review\n",
       "0    1    7      2793.0"
      ]
     },
     "execution_count": 12,
     "metadata": {},
     "output_type": "execute_result"
    }
   ],
   "source": [
    "min_max_cnt_reviews = ('''\n",
    "SELECT MIN(r.cnt_review),\n",
    "       MAX(r.cnt_review),\n",
    "       SUM(r.cnt_review) AS cnt_review\n",
    "FROM\n",
    "(\n",
    "SELECT book_id,\n",
    "       COUNT(review_id) AS cnt_review\n",
    "FROM reviews\n",
    "GROUP BY book_id\n",
    ") r\n",
    ";''')\n",
    "\n",
    "print('Количество обзоров')\n",
    "print('-'*50)\n",
    "pd.io.sql.read_sql(sql=text(min_max_cnt_reviews), con = con)"
   ]
  },
  {
   "cell_type": "code",
   "execution_count": 13,
   "metadata": {},
   "outputs": [
    {
     "name": "stdout",
     "output_type": "stream",
     "text": [
      "TOP-10 по рейтингу\n",
      "--------------------------------------------------\n"
     ]
    },
    {
     "data": {
      "text/html": [
       "<div>\n",
       "<style scoped>\n",
       "    .dataframe tbody tr th:only-of-type {\n",
       "        vertical-align: middle;\n",
       "    }\n",
       "\n",
       "    .dataframe tbody tr th {\n",
       "        vertical-align: top;\n",
       "    }\n",
       "\n",
       "    .dataframe thead th {\n",
       "        text-align: right;\n",
       "    }\n",
       "</style>\n",
       "<table border=\"1\" class=\"dataframe\">\n",
       "  <thead>\n",
       "    <tr style=\"text-align: right;\">\n",
       "      <th></th>\n",
       "      <th>id</th>\n",
       "      <th>title</th>\n",
       "      <th>publication_date</th>\n",
       "      <th>cnt_review</th>\n",
       "      <th>avg_rating</th>\n",
       "    </tr>\n",
       "  </thead>\n",
       "  <tbody>\n",
       "    <tr>\n",
       "      <th>0</th>\n",
       "      <td>17</td>\n",
       "      <td>A Dirty Job (Grim Reaper  #1)</td>\n",
       "      <td>2006-03-21</td>\n",
       "      <td>4</td>\n",
       "      <td>5.0</td>\n",
       "    </tr>\n",
       "    <tr>\n",
       "      <th>1</th>\n",
       "      <td>553</td>\n",
       "      <td>School's Out—Forever (Maximum Ride  #2)</td>\n",
       "      <td>2006-05-23</td>\n",
       "      <td>3</td>\n",
       "      <td>5.0</td>\n",
       "    </tr>\n",
       "    <tr>\n",
       "      <th>2</th>\n",
       "      <td>444</td>\n",
       "      <td>Moneyball: The Art of Winning an Unfair Game</td>\n",
       "      <td>2004-03-17</td>\n",
       "      <td>3</td>\n",
       "      <td>5.0</td>\n",
       "    </tr>\n",
       "    <tr>\n",
       "      <th>3</th>\n",
       "      <td>642</td>\n",
       "      <td>The Big Bad Wolf  (Alex Cross  #9)</td>\n",
       "      <td>2004-10-01</td>\n",
       "      <td>2</td>\n",
       "      <td>5.0</td>\n",
       "    </tr>\n",
       "    <tr>\n",
       "      <th>4</th>\n",
       "      <td>967</td>\n",
       "      <td>Welcome to Temptation (Dempseys  #1)</td>\n",
       "      <td>2004-07-11</td>\n",
       "      <td>2</td>\n",
       "      <td>5.0</td>\n",
       "    </tr>\n",
       "    <tr>\n",
       "      <th>5</th>\n",
       "      <td>513</td>\n",
       "      <td>Piercing the Darkness (Darkness  #2)</td>\n",
       "      <td>2003-06-26</td>\n",
       "      <td>2</td>\n",
       "      <td>5.0</td>\n",
       "    </tr>\n",
       "    <tr>\n",
       "      <th>6</th>\n",
       "      <td>390</td>\n",
       "      <td>Light in August</td>\n",
       "      <td>1991-01-30</td>\n",
       "      <td>2</td>\n",
       "      <td>5.0</td>\n",
       "    </tr>\n",
       "    <tr>\n",
       "      <th>7</th>\n",
       "      <td>516</td>\n",
       "      <td>Plum Island (John Corey  #1)</td>\n",
       "      <td>2002-01-01</td>\n",
       "      <td>2</td>\n",
       "      <td>5.0</td>\n",
       "    </tr>\n",
       "    <tr>\n",
       "      <th>8</th>\n",
       "      <td>224</td>\n",
       "      <td>Evening Class</td>\n",
       "      <td>2005-06-30</td>\n",
       "      <td>2</td>\n",
       "      <td>5.0</td>\n",
       "    </tr>\n",
       "    <tr>\n",
       "      <th>9</th>\n",
       "      <td>598</td>\n",
       "      <td>Stolen (Women of the Otherworld  #2)</td>\n",
       "      <td>2004-09-28</td>\n",
       "      <td>2</td>\n",
       "      <td>5.0</td>\n",
       "    </tr>\n",
       "  </tbody>\n",
       "</table>\n",
       "</div>"
      ],
      "text/plain": [
       "    id                                         title publication_date  \\\n",
       "0   17                 A Dirty Job (Grim Reaper  #1)       2006-03-21   \n",
       "1  553       School's Out—Forever (Maximum Ride  #2)       2006-05-23   \n",
       "2  444  Moneyball: The Art of Winning an Unfair Game       2004-03-17   \n",
       "3  642            The Big Bad Wolf  (Alex Cross  #9)       2004-10-01   \n",
       "4  967          Welcome to Temptation (Dempseys  #1)       2004-07-11   \n",
       "5  513          Piercing the Darkness (Darkness  #2)       2003-06-26   \n",
       "6  390                               Light in August       1991-01-30   \n",
       "7  516                  Plum Island (John Corey  #1)       2002-01-01   \n",
       "8  224                                 Evening Class       2005-06-30   \n",
       "9  598          Stolen (Women of the Otherworld  #2)       2004-09-28   \n",
       "\n",
       "   cnt_review  avg_rating  \n",
       "0           4         5.0  \n",
       "1           3         5.0  \n",
       "2           3         5.0  \n",
       "3           2         5.0  \n",
       "4           2         5.0  \n",
       "5           2         5.0  \n",
       "6           2         5.0  \n",
       "7           2         5.0  \n",
       "8           2         5.0  \n",
       "9           2         5.0  "
      ]
     },
     "execution_count": 13,
     "metadata": {},
     "output_type": "execute_result"
    }
   ],
   "source": [
    "rating_books = ('''\n",
    "SELECT b.book_id AS id,\n",
    "       b.title,\n",
    "       b.publication_date,\n",
    "       COALESCE(COUNT(DISTINCT re.review_id)) AS cnt_review,\n",
    "       COALESCE(ROUND(AVG(ra.rating), 2)) AS avg_rating\n",
    "FROM books AS b\n",
    "JOIN ratings AS ra ON b.book_id = ra.book_id\n",
    "LEFT JOIN reviews AS re ON b.book_id = re.book_id\n",
    "GROUP BY b.book_id,\n",
    "         b.title,\n",
    "         b.publication_date\n",
    "ORDER BY avg_rating DESC,\n",
    "cnt_review DESC\n",
    ";''')\n",
    "\n",
    "rating_books = pd.io.sql.read_sql(rating_books, con = engine)\n",
    "print('TOP-10 по рейтингу')\n",
    "print('-'*50)\n",
    "rating_books.head(10)"
   ]
  },
  {
   "cell_type": "code",
   "execution_count": 14,
   "metadata": {},
   "outputs": [
    {
     "name": "stdout",
     "output_type": "stream",
     "text": [
      "TOP-10 по количеству обзоров\n",
      "--------------------------------------------------\n"
     ]
    },
    {
     "data": {
      "text/html": [
       "<div>\n",
       "<style scoped>\n",
       "    .dataframe tbody tr th:only-of-type {\n",
       "        vertical-align: middle;\n",
       "    }\n",
       "\n",
       "    .dataframe tbody tr th {\n",
       "        vertical-align: top;\n",
       "    }\n",
       "\n",
       "    .dataframe thead th {\n",
       "        text-align: right;\n",
       "    }\n",
       "</style>\n",
       "<table border=\"1\" class=\"dataframe\">\n",
       "  <thead>\n",
       "    <tr style=\"text-align: right;\">\n",
       "      <th></th>\n",
       "      <th>id</th>\n",
       "      <th>title</th>\n",
       "      <th>publication_date</th>\n",
       "      <th>cnt_review</th>\n",
       "      <th>avg_rating</th>\n",
       "    </tr>\n",
       "  </thead>\n",
       "  <tbody>\n",
       "    <tr>\n",
       "      <th>0</th>\n",
       "      <td>948</td>\n",
       "      <td>Twilight (Twilight  #1)</td>\n",
       "      <td>2006-09-06</td>\n",
       "      <td>7</td>\n",
       "      <td>3.66</td>\n",
       "    </tr>\n",
       "    <tr>\n",
       "      <th>1</th>\n",
       "      <td>302</td>\n",
       "      <td>Harry Potter and the Prisoner of Azkaban (Harr...</td>\n",
       "      <td>2004-05-01</td>\n",
       "      <td>6</td>\n",
       "      <td>4.41</td>\n",
       "    </tr>\n",
       "    <tr>\n",
       "      <th>2</th>\n",
       "      <td>299</td>\n",
       "      <td>Harry Potter and the Chamber of Secrets (Harry...</td>\n",
       "      <td>1999-06-02</td>\n",
       "      <td>6</td>\n",
       "      <td>4.29</td>\n",
       "    </tr>\n",
       "    <tr>\n",
       "      <th>3</th>\n",
       "      <td>656</td>\n",
       "      <td>The Book Thief</td>\n",
       "      <td>2006-03-14</td>\n",
       "      <td>6</td>\n",
       "      <td>4.26</td>\n",
       "    </tr>\n",
       "    <tr>\n",
       "      <th>4</th>\n",
       "      <td>734</td>\n",
       "      <td>The Glass Castle</td>\n",
       "      <td>2006-01-17</td>\n",
       "      <td>6</td>\n",
       "      <td>4.21</td>\n",
       "    </tr>\n",
       "    <tr>\n",
       "      <th>5</th>\n",
       "      <td>750</td>\n",
       "      <td>The Hobbit  or There and Back Again</td>\n",
       "      <td>2002-08-15</td>\n",
       "      <td>6</td>\n",
       "      <td>4.13</td>\n",
       "    </tr>\n",
       "    <tr>\n",
       "      <th>6</th>\n",
       "      <td>497</td>\n",
       "      <td>Outlander (Outlander  #1)</td>\n",
       "      <td>2005-07-26</td>\n",
       "      <td>6</td>\n",
       "      <td>4.13</td>\n",
       "    </tr>\n",
       "    <tr>\n",
       "      <th>7</th>\n",
       "      <td>779</td>\n",
       "      <td>The Lightning Thief (Percy Jackson and the Oly...</td>\n",
       "      <td>2006-03-01</td>\n",
       "      <td>6</td>\n",
       "      <td>4.08</td>\n",
       "    </tr>\n",
       "    <tr>\n",
       "      <th>8</th>\n",
       "      <td>695</td>\n",
       "      <td>The Curious Incident of the Dog in the Night-Time</td>\n",
       "      <td>2004-05-18</td>\n",
       "      <td>6</td>\n",
       "      <td>4.08</td>\n",
       "    </tr>\n",
       "    <tr>\n",
       "      <th>9</th>\n",
       "      <td>963</td>\n",
       "      <td>Water for Elephants</td>\n",
       "      <td>2007-05-01</td>\n",
       "      <td>6</td>\n",
       "      <td>3.98</td>\n",
       "    </tr>\n",
       "  </tbody>\n",
       "</table>\n",
       "</div>"
      ],
      "text/plain": [
       "    id                                              title publication_date  \\\n",
       "0  948                            Twilight (Twilight  #1)       2006-09-06   \n",
       "1  302  Harry Potter and the Prisoner of Azkaban (Harr...       2004-05-01   \n",
       "2  299  Harry Potter and the Chamber of Secrets (Harry...       1999-06-02   \n",
       "3  656                                     The Book Thief       2006-03-14   \n",
       "4  734                                   The Glass Castle       2006-01-17   \n",
       "5  750                The Hobbit  or There and Back Again       2002-08-15   \n",
       "6  497                          Outlander (Outlander  #1)       2005-07-26   \n",
       "7  779  The Lightning Thief (Percy Jackson and the Oly...       2006-03-01   \n",
       "8  695  The Curious Incident of the Dog in the Night-Time       2004-05-18   \n",
       "9  963                                Water for Elephants       2007-05-01   \n",
       "\n",
       "   cnt_review  avg_rating  \n",
       "0           7        3.66  \n",
       "1           6        4.41  \n",
       "2           6        4.29  \n",
       "3           6        4.26  \n",
       "4           6        4.21  \n",
       "5           6        4.13  \n",
       "6           6        4.13  \n",
       "7           6        4.08  \n",
       "8           6        4.08  \n",
       "9           6        3.98  "
      ]
     },
     "execution_count": 14,
     "metadata": {},
     "output_type": "execute_result"
    }
   ],
   "source": [
    "reviews_books = ('''\n",
    "SELECT b.book_id AS id,\n",
    "       b.title,\n",
    "       b.publication_date,\n",
    "       COALESCE(COUNT(DISTINCT re.review_id)) AS cnt_review,\n",
    "       COALESCE(ROUND(AVG(ra.rating), 2)) AS avg_rating\n",
    "FROM books AS b\n",
    "JOIN ratings AS ra ON b.book_id = ra.book_id\n",
    "LEFT JOIN reviews AS re ON b.book_id = re.book_id\n",
    "GROUP BY b.book_id,\n",
    "         b.title,\n",
    "         b.publication_date\n",
    "         ORDER BY cnt_review DESC,\n",
    "                  avg_rating DESC\n",
    ";''')\n",
    "\n",
    "reviews_books = pd.io.sql.read_sql(reviews_books, con = engine)\n",
    "print('TOP-10 по количеству обзоров')\n",
    "print('-'*50)\n",
    "reviews_books.head(10)"
   ]
  },
  {
   "cell_type": "code",
   "execution_count": 15,
   "metadata": {},
   "outputs": [
    {
     "data": {
      "image/png": "[encoded data removed]"
     },
     "metadata": {},
     "output_type": "display_data"
    }
   ],
   "source": [
    "fig_rating = px.histogram(rating_books, x='avg_rating', title='Средний рейтинг книги') \n",
    "fig_rating.update_layout(width=800, height=400,\n",
    "                         yaxis_title='Частота', xaxis_title='Средний рейтинг книги')\n",
    "fig_rating.show('png')"
   ]
  },
  {
   "cell_type": "code",
   "execution_count": 16,
   "metadata": {},
   "outputs": [
    {
     "data": {
      "image/png": "[encoded data removed]"
     },
     "metadata": {},
     "output_type": "display_data"
    }
   ],
   "source": [
    "fig_review = px.histogram(reviews_books, x='cnt_review', title='Количество обзоров на книгу')\n",
    "\n",
    "fig_review.update_layout(width=800, height=400,\n",
    "                         yaxis_title='Частота', xaxis_title='Количество обзоров на книгу')\n",
    "fig_review.show('png')"
   ]
  },
  {
   "cell_type": "markdown",
   "metadata": {},
   "source": [
    "<div style=\"border:solid green 2px; padding: 20px\">\n",
    "\n",
    "\n",
    "**Количество обзоров и средняя оценка книги.**    \n",
    "    \n",
    "*Рейтинги.*\n",
    "\n",
    "* Минимальный рейтинг в таблице: 1, максимальный: 5. Уникальных значений 5. \n",
    "* Минимальный средний рейтинг книги: 1.5.\n",
    "* Максимальный средний рейтинг книги: 5. 44 книги имеют рейтинг 5.\n",
    "* Самый частый средний рейтинг книги: 4.\n",
    "    \n",
    "*Количество обзоров.*\n",
    "* Минимальное количество обзоров у книги: 0.\n",
    "* Максимальное количество обзоров у книги: 7.\n",
    "* Чаще всего у книги 2 обзора.\n",
    "* Книга с самым большим количеством обзоров Twilight (Twilight 1) - Сумерки, книга 1.\n",
    "\n",
    "Так как в большинстве случаев у книг 2 обзора необходимо разработать программу мотивации пользователей на написание обзоров.\n",
    "\n",
    "</div>"
   ]
  },
  {
   "cell_type": "markdown",
   "metadata": {},
   "source": [
    "### Популярное издательство"
   ]
  },
  {
   "cell_type": "markdown",
   "metadata": {},
   "source": [
    "<div style=\"border:solid black 2px; padding: 20px\">\n",
    "\n",
    "Определим издательство, которое выпустило наибольшее число книг толще 50 страниц (так исключим из анализа брошюры).\n",
    "\n",
    "</div>"
   ]
  },
  {
   "cell_type": "code",
   "execution_count": 17,
   "metadata": {},
   "outputs": [
    {
     "name": "stdout",
     "output_type": "stream",
     "text": [
      "Популярное издательство по количеству выпущенных книг толще 50 страниц\n",
      "--------------------------------------------------\n"
     ]
    },
    {
     "data": {
      "text/html": [
       "<div>\n",
       "<style scoped>\n",
       "    .dataframe tbody tr th:only-of-type {\n",
       "        vertical-align: middle;\n",
       "    }\n",
       "\n",
       "    .dataframe tbody tr th {\n",
       "        vertical-align: top;\n",
       "    }\n",
       "\n",
       "    .dataframe thead th {\n",
       "        text-align: right;\n",
       "    }\n",
       "</style>\n",
       "<table border=\"1\" class=\"dataframe\">\n",
       "  <thead>\n",
       "    <tr style=\"text-align: right;\">\n",
       "      <th></th>\n",
       "      <th>publisher</th>\n",
       "      <th>count_books</th>\n",
       "    </tr>\n",
       "  </thead>\n",
       "  <tbody>\n",
       "    <tr>\n",
       "      <th>0</th>\n",
       "      <td>Penguin Books</td>\n",
       "      <td>42</td>\n",
       "    </tr>\n",
       "  </tbody>\n",
       "</table>\n",
       "</div>"
      ],
      "text/plain": [
       "       publisher  count_books\n",
       "0  Penguin Books           42"
      ]
     },
     "execution_count": 17,
     "metadata": {},
     "output_type": "execute_result"
    }
   ],
   "source": [
    "p = ('''\n",
    "SELECT p.publisher, \n",
    "       COUNT(b.publisher_id) AS count_books\n",
    "FROM publishers AS p\n",
    "LEFT JOIN books AS b ON b.publisher_id = p.publisher_id\n",
    "WHERE b.num_pages > 50\n",
    "GROUP BY p.publisher\n",
    "ORDER BY COUNT(b.publisher_id) DESC\n",
    "LIMIT 1;''')\n",
    "\n",
    "print('Популярное издательство по количеству выпущенных книг толще 50 страниц')\n",
    "print('-'*50)\n",
    "p = pd.io.sql.read_sql(p, con = engine)\n",
    "p"
   ]
  },
  {
   "cell_type": "markdown",
   "metadata": {},
   "source": [
    "<div style=\"border:solid green 2px; padding: 20px\">\n",
    "\n",
    "Самое крупное издательство по количеству выпущенных книг (толще 50 страниц) - Penguin Books 42 книги.\n",
    "    \n",
    "> В 2001 году издательство стало проигрывать в США своему основному местному конкуренту — издательству Random House. В 2013 году они объединились, создав первую в мире глобальную издательскую компанию (Penguin Random House).\n",
    "\n",
    "Информация из статьи [Penguin_Books](https://ru.wikipedia.org/wiki/Penguin_Books)\n",
    "\n",
    "\n",
    "</div>"
   ]
  },
  {
   "cell_type": "markdown",
   "metadata": {},
   "source": [
    "### Популярный автор книг"
   ]
  },
  {
   "cell_type": "markdown",
   "metadata": {},
   "source": [
    "<div style=\"border:solid black 2px; padding: 20px\">\n",
    "\n",
    "Определим автора с самой высокой средней оценкой книг, будем учитывать только книги с 50 и более оценками.\n",
    "\n",
    "</div>"
   ]
  },
  {
   "cell_type": "code",
   "execution_count": 18,
   "metadata": {},
   "outputs": [
    {
     "name": "stdout",
     "output_type": "stream",
     "text": [
      "Top-3 автора с самой высокой средней оценкой книг\n",
      "--------------------------------------------------\n"
     ]
    },
    {
     "data": {
      "text/html": [
       "<div>\n",
       "<style scoped>\n",
       "    .dataframe tbody tr th:only-of-type {\n",
       "        vertical-align: middle;\n",
       "    }\n",
       "\n",
       "    .dataframe tbody tr th {\n",
       "        vertical-align: top;\n",
       "    }\n",
       "\n",
       "    .dataframe thead th {\n",
       "        text-align: right;\n",
       "    }\n",
       "</style>\n",
       "<table border=\"1\" class=\"dataframe\">\n",
       "  <thead>\n",
       "    <tr style=\"text-align: right;\">\n",
       "      <th></th>\n",
       "      <th>author_id</th>\n",
       "      <th>author</th>\n",
       "      <th>avg_rating</th>\n",
       "    </tr>\n",
       "  </thead>\n",
       "  <tbody>\n",
       "    <tr>\n",
       "      <th>0</th>\n",
       "      <td>236</td>\n",
       "      <td>J.K. Rowling/Mary GrandPré</td>\n",
       "      <td>4.28</td>\n",
       "    </tr>\n",
       "    <tr>\n",
       "      <th>1</th>\n",
       "      <td>240</td>\n",
       "      <td>J.R.R. Tolkien</td>\n",
       "      <td>4.26</td>\n",
       "    </tr>\n",
       "    <tr>\n",
       "      <th>2</th>\n",
       "      <td>402</td>\n",
       "      <td>Markus Zusak/Cao Xuân Việt Khương</td>\n",
       "      <td>4.26</td>\n",
       "    </tr>\n",
       "  </tbody>\n",
       "</table>\n",
       "</div>"
      ],
      "text/plain": [
       "   author_id                             author  avg_rating\n",
       "0        236         J.K. Rowling/Mary GrandPré        4.28\n",
       "1        240                     J.R.R. Tolkien        4.26\n",
       "2        402  Markus Zusak/Cao Xuân Việt Khương        4.26"
      ]
     },
     "execution_count": 18,
     "metadata": {},
     "output_type": "execute_result"
    }
   ],
   "source": [
    "top_author = ('''\n",
    "WITH\n",
    "r AS\n",
    "(\n",
    "SELECT book_id,\n",
    "       AVG(rating) AS avg_rating\n",
    "FROM ratings book_id\n",
    "GROUP BY book_id\n",
    "HAVING COUNT(rating) >= 50\n",
    ")\n",
    "\n",
    "SELECT a.author_id,\n",
    "       a.author,\n",
    "       ROUND(AVG(avg_rating), 2) AS avg_rating\n",
    "FROM authors AS a\n",
    "INNER JOIN books AS b ON a.author_id = b.author_id\n",
    "INNER JOIN r ON b.book_id = r.book_id\n",
    "GROUP BY a.author_id,\n",
    "         a.author\n",
    "ORDER BY ROUND(AVG(avg_rating), 2) DESC\n",
    "LIMIT 3\n",
    ";''')\n",
    "\n",
    "print('Top-3 автора с самой высокой средней оценкой книг')\n",
    "print('-'*50)\n",
    "pd.io.sql.read_sql(sql=text(top_author), con = con)"
   ]
  },
  {
   "cell_type": "code",
   "execution_count": 19,
   "metadata": {},
   "outputs": [
    {
     "name": "stdout",
     "output_type": "stream",
     "text": [
      "Top-5 книг с самой высокой средней оценкой, где оценок больше 50\n",
      "--------------------------------------------------\n"
     ]
    },
    {
     "data": {
      "text/html": [
       "<div>\n",
       "<style scoped>\n",
       "    .dataframe tbody tr th:only-of-type {\n",
       "        vertical-align: middle;\n",
       "    }\n",
       "\n",
       "    .dataframe tbody tr th {\n",
       "        vertical-align: top;\n",
       "    }\n",
       "\n",
       "    .dataframe thead th {\n",
       "        text-align: right;\n",
       "    }\n",
       "</style>\n",
       "<table border=\"1\" class=\"dataframe\">\n",
       "  <thead>\n",
       "    <tr style=\"text-align: right;\">\n",
       "      <th></th>\n",
       "      <th>book_id</th>\n",
       "      <th>title</th>\n",
       "      <th>author</th>\n",
       "      <th>publication_year</th>\n",
       "      <th>avg_rating</th>\n",
       "    </tr>\n",
       "  </thead>\n",
       "  <tbody>\n",
       "    <tr>\n",
       "      <th>0</th>\n",
       "      <td>302</td>\n",
       "      <td>Harry Potter and the Prisoner of Azkaban (Harr...</td>\n",
       "      <td>J.K. Rowling/Mary GrandPré</td>\n",
       "      <td>2004.0</td>\n",
       "      <td>4.41</td>\n",
       "    </tr>\n",
       "    <tr>\n",
       "      <th>1</th>\n",
       "      <td>722</td>\n",
       "      <td>The Fellowship of the Ring (The Lord of the Ri...</td>\n",
       "      <td>J.R.R. Tolkien</td>\n",
       "      <td>2003.0</td>\n",
       "      <td>4.39</td>\n",
       "    </tr>\n",
       "    <tr>\n",
       "      <th>2</th>\n",
       "      <td>299</td>\n",
       "      <td>Harry Potter and the Chamber of Secrets (Harry...</td>\n",
       "      <td>J.K. Rowling/Mary GrandPré</td>\n",
       "      <td>1999.0</td>\n",
       "      <td>4.29</td>\n",
       "    </tr>\n",
       "    <tr>\n",
       "      <th>3</th>\n",
       "      <td>656</td>\n",
       "      <td>The Book Thief</td>\n",
       "      <td>Markus Zusak/Cao Xuân Việt Khương</td>\n",
       "      <td>2006.0</td>\n",
       "      <td>4.26</td>\n",
       "    </tr>\n",
       "    <tr>\n",
       "      <th>4</th>\n",
       "      <td>300</td>\n",
       "      <td>Harry Potter and the Half-Blood Prince (Harry ...</td>\n",
       "      <td>J.K. Rowling/Mary GrandPré</td>\n",
       "      <td>2006.0</td>\n",
       "      <td>4.25</td>\n",
       "    </tr>\n",
       "  </tbody>\n",
       "</table>\n",
       "</div>"
      ],
      "text/plain": [
       "   book_id                                              title  \\\n",
       "0      302  Harry Potter and the Prisoner of Azkaban (Harr...   \n",
       "1      722  The Fellowship of the Ring (The Lord of the Ri...   \n",
       "2      299  Harry Potter and the Chamber of Secrets (Harry...   \n",
       "3      656                                     The Book Thief   \n",
       "4      300  Harry Potter and the Half-Blood Prince (Harry ...   \n",
       "\n",
       "                              author  publication_year  avg_rating  \n",
       "0         J.K. Rowling/Mary GrandPré            2004.0        4.41  \n",
       "1                     J.R.R. Tolkien            2003.0        4.39  \n",
       "2         J.K. Rowling/Mary GrandPré            1999.0        4.29  \n",
       "3  Markus Zusak/Cao Xuân Việt Khương            2006.0        4.26  \n",
       "4         J.K. Rowling/Mary GrandPré            2006.0        4.25  "
      ]
     },
     "execution_count": 19,
     "metadata": {},
     "output_type": "execute_result"
    }
   ],
   "source": [
    "top_books = ('''\n",
    "WITH\n",
    "r AS\n",
    "(\n",
    "SELECT book_id,\n",
    "       AVG(rating) AS avg_rating\n",
    "FROM ratings book_id\n",
    "GROUP BY book_id\n",
    "HAVING COUNT(rating) >= 50\n",
    ")\n",
    "\n",
    "SELECT b.book_id,\n",
    "       b.title,\n",
    "       a.author,\n",
    "       EXTRACT(YEAR FROM b.publication_date) AS publication_year,\n",
    "       ROUND(AVG(avg_rating), 2) AS avg_rating\n",
    "FROM authors AS a\n",
    "INNER JOIN books AS b ON a.author_id = b.author_id\n",
    "INNER JOIN r ON b.book_id = r.book_id\n",
    "GROUP BY b.book_id,\n",
    "         b.title,\n",
    "         a.author,\n",
    "         EXTRACT(YEAR FROM b.publication_date)\n",
    "ORDER BY ROUND(AVG(avg_rating), 2) DESC\n",
    "LIMIT 5\n",
    ";''')\n",
    "\n",
    "print('Top-5 книг с самой высокой средней оценкой, где оценок больше 50')\n",
    "print('-'*50)\n",
    "pd.io.sql.read_sql(sql=text(top_books), con = con)"
   ]
  },
  {
   "cell_type": "markdown",
   "metadata": {},
   "source": [
    "<div style=\"border:solid green 2px; padding: 20px\">\n",
    "\n",
    "Автор с самой высокой средней оценкой книг (4.28) - J.K. Rowling/Mary GrandPré. J.K. Rowling - автор книг, Mary GrandPré - иллюстратор книг J.K. Rowling.\n",
    "    \n",
    "В top-5 по среднему рейтингу книг (где оценок больше 50) входит сразу 3 книги J.K. Rowling о Гарри Поттере.\n",
    "\n",
    "</div>"
   ]
  },
  {
   "cell_type": "markdown",
   "metadata": {},
   "source": [
    "### Cреднее количество обзоров от пользователей"
   ]
  },
  {
   "cell_type": "markdown",
   "metadata": {},
   "source": [
    "<div style=\"border:solid black 2px; padding: 20px\">\n",
    "\n",
    "Посчитаем среднее количество обзоров от пользователей, которые поставили больше 48 оценок.\n",
    "\n",
    "</div>"
   ]
  },
  {
   "cell_type": "code",
   "execution_count": 20,
   "metadata": {},
   "outputs": [
    {
     "name": "stdout",
     "output_type": "stream",
     "text": [
      "Среднее количество обзоров от пользователей, которые поставили больше 48 оценок\n",
      "--------------------------------------------------\n"
     ]
    },
    {
     "data": {
      "text/html": [
       "<div>\n",
       "<style scoped>\n",
       "    .dataframe tbody tr th:only-of-type {\n",
       "        vertical-align: middle;\n",
       "    }\n",
       "\n",
       "    .dataframe tbody tr th {\n",
       "        vertical-align: top;\n",
       "    }\n",
       "\n",
       "    .dataframe thead th {\n",
       "        text-align: right;\n",
       "    }\n",
       "</style>\n",
       "<table border=\"1\" class=\"dataframe\">\n",
       "  <thead>\n",
       "    <tr style=\"text-align: right;\">\n",
       "      <th></th>\n",
       "      <th>avg</th>\n",
       "    </tr>\n",
       "  </thead>\n",
       "  <tbody>\n",
       "    <tr>\n",
       "      <th>0</th>\n",
       "      <td>24.0</td>\n",
       "    </tr>\n",
       "  </tbody>\n",
       "</table>\n",
       "</div>"
      ],
      "text/plain": [
       "    avg\n",
       "0  24.0"
      ]
     },
     "execution_count": 20,
     "metadata": {},
     "output_type": "execute_result"
    }
   ],
   "source": [
    "cnt_reviews_users = ('''\n",
    "SELECT AVG(cnt)\n",
    "FROM\n",
    "(\n",
    "SELECT username,\n",
    "       COUNT(review_id) as cnt\n",
    "FROM reviews\n",
    "WHERE username IN (\n",
    "                   SELECT username\n",
    "                   FROM ratings\n",
    "                   GROUP BY username\n",
    "                   HAVING COUNT(rating_id) > 48\n",
    "                   )\n",
    "GROUP BY username\n",
    ")\n",
    "AS cnt\n",
    ";''')\n",
    "\n",
    "print('Среднее количество обзоров от пользователей, которые поставили больше 48 оценок')\n",
    "print('-'*50)\n",
    "pd.io.sql.read_sql(sql=text(cnt_reviews_users), con = con)"
   ]
  },
  {
   "cell_type": "code",
   "execution_count": 21,
   "metadata": {},
   "outputs": [
    {
     "name": "stdout",
     "output_type": "stream",
     "text": [
      "Количество обзоров от пользователей\n",
      "--------------------------------------------------\n"
     ]
    },
    {
     "data": {
      "text/html": [
       "<div>\n",
       "<style scoped>\n",
       "    .dataframe tbody tr th:only-of-type {\n",
       "        vertical-align: middle;\n",
       "    }\n",
       "\n",
       "    .dataframe tbody tr th {\n",
       "        vertical-align: top;\n",
       "    }\n",
       "\n",
       "    .dataframe thead th {\n",
       "        text-align: right;\n",
       "    }\n",
       "</style>\n",
       "<table border=\"1\" class=\"dataframe\">\n",
       "  <thead>\n",
       "    <tr style=\"text-align: right;\">\n",
       "      <th></th>\n",
       "      <th>username</th>\n",
       "      <th>cnt_reviews</th>\n",
       "    </tr>\n",
       "  </thead>\n",
       "  <tbody>\n",
       "    <tr>\n",
       "      <th>0</th>\n",
       "      <td>susan85</td>\n",
       "      <td>29</td>\n",
       "    </tr>\n",
       "    <tr>\n",
       "      <th>1</th>\n",
       "      <td>sfitzgerald</td>\n",
       "      <td>28</td>\n",
       "    </tr>\n",
       "    <tr>\n",
       "      <th>2</th>\n",
       "      <td>martinadam</td>\n",
       "      <td>27</td>\n",
       "    </tr>\n",
       "    <tr>\n",
       "      <th>3</th>\n",
       "      <td>lesliegibbs</td>\n",
       "      <td>26</td>\n",
       "    </tr>\n",
       "    <tr>\n",
       "      <th>4</th>\n",
       "      <td>eallen</td>\n",
       "      <td>26</td>\n",
       "    </tr>\n",
       "    <tr>\n",
       "      <th>...</th>\n",
       "      <td>...</td>\n",
       "      <td>...</td>\n",
       "    </tr>\n",
       "    <tr>\n",
       "      <th>155</th>\n",
       "      <td>todd65</td>\n",
       "      <td>10</td>\n",
       "    </tr>\n",
       "    <tr>\n",
       "      <th>156</th>\n",
       "      <td>joseph14</td>\n",
       "      <td>10</td>\n",
       "    </tr>\n",
       "    <tr>\n",
       "      <th>157</th>\n",
       "      <td>dwayne09</td>\n",
       "      <td>10</td>\n",
       "    </tr>\n",
       "    <tr>\n",
       "      <th>158</th>\n",
       "      <td>robert00</td>\n",
       "      <td>9</td>\n",
       "    </tr>\n",
       "    <tr>\n",
       "      <th>159</th>\n",
       "      <td>millernicholas</td>\n",
       "      <td>5</td>\n",
       "    </tr>\n",
       "  </tbody>\n",
       "</table>\n",
       "<p>160 rows × 2 columns</p>\n",
       "</div>"
      ],
      "text/plain": [
       "           username  cnt_reviews\n",
       "0           susan85           29\n",
       "1       sfitzgerald           28\n",
       "2        martinadam           27\n",
       "3       lesliegibbs           26\n",
       "4            eallen           26\n",
       "..              ...          ...\n",
       "155          todd65           10\n",
       "156        joseph14           10\n",
       "157        dwayne09           10\n",
       "158        robert00            9\n",
       "159  millernicholas            5\n",
       "\n",
       "[160 rows x 2 columns]"
      ]
     },
     "execution_count": 21,
     "metadata": {},
     "output_type": "execute_result"
    }
   ],
   "source": [
    "cnt_reviews_users_all = ('''\n",
    "SELECT username,\n",
    "       COUNT(review_id) as cnt_reviews\n",
    "FROM reviews\n",
    "GROUP BY username\n",
    "ORDER BY COUNT(review_id) DESC\n",
    ";''')\n",
    "\n",
    "print('Количество обзоров от пользователей')\n",
    "print('-'*50)\n",
    "cnt_reviews_users_all = pd.io.sql.read_sql(sql=text(cnt_reviews_users_all), con = con)\n",
    "cnt_reviews_users_all"
   ]
  },
  {
   "cell_type": "code",
   "execution_count": 22,
   "metadata": {},
   "outputs": [
    {
     "data": {
      "image/png": "[encoded data removed]"
     },
     "metadata": {},
     "output_type": "display_data"
    }
   ],
   "source": [
    "fig_reviews_users = px.histogram(cnt_reviews_users_all, x='cnt_reviews', title='Количество обзоров от пользователей') \n",
    "fig_reviews_users.update_layout(width=800, height=400,\n",
    "                                yaxis_title='Частота', xaxis_title='Количество обзоров от пользователей')\n",
    "fig_reviews_users.show('png')"
   ]
  },
  {
   "cell_type": "markdown",
   "metadata": {},
   "source": [
    "<div style=\"border:solid green 2px; padding: 20px\">\n",
    "\n",
    "**Количество обзоров от пользователей.**\n",
    "    \n",
    "160 пользователей писали обзоры.\n",
    "    \n",
    "В большинстве случаев у пользователей 16-19 обзоров.\n",
    "    \n",
    "Среднее количество обзоров от пользователей, которые поставили больше 48 оценок: 24.\n",
    "    \n",
    "</div>"
   ]
  },
  {
   "cell_type": "markdown",
   "metadata": {},
   "source": [
    "[Начало_проекта](#Начало_проекта)"
   ]
  },
  {
   "cell_type": "markdown",
   "metadata": {},
   "source": [
    "<a id=\"Итоги_исследования\"></a>"
   ]
  },
  {
   "cell_type": "markdown",
   "metadata": {},
   "source": [
    "## Итоги исследования"
   ]
  },
  {
   "cell_type": "markdown",
   "metadata": {},
   "source": [
    "<div style=\"border:solid blue 2px; padding: 20px\">\n",
    "\n",
    "    \n",
    "**Количество книг в разрезе даты публикации.**    \n",
    "    \n",
    "Всего в базе 1000 уникальных книг.\n",
    "\n",
    "Книги были изданы в период с 1952г. по 2020г.\n",
    "    \n",
    "После 1 января 2000г. было издано 819 книг, т.е. большая часть из нашего каталога.\n",
    "    \n",
    "В каталоге больше всего книг, изданных в 2006г.\n",
    "    \n",
    "В каталоге мало книг последнего десятилетия, возможно стоит уделить внимание в ассортименте современной литературе.\n",
    "    \n",
    "\n",
    "**Количество обзоров и средняя оценка книги.**    \n",
    " \n",
    "*Рейтинги.*   \n",
    "    \n",
    "* Минимальный рейтинг в таблице: 1, максимальный: 5. Уникальных значений 5.  \n",
    "* Минимальный средний рейтинг книги: 1.5.\n",
    "* Максимальный средний рейтинг книги: 5. 44 книги имеют рейтинг 5.\n",
    "* Самый частый средний рейтинг книги: 4.\n",
    "    \n",
    "*Количество обзоров.*\n",
    "* Минимальное количество обзоров у книги: 0.\n",
    "* Максимальное количество обзоров у книги: 7.\n",
    "* Чаще всего у книги 2 обзора.\n",
    "* Книга с самым большим количеством обзоров Twilight (Twilight 1) - Сумерки, книга 1.\t\n",
    "\n",
    "Так как в большинстве случаев у книг 2 обзора необходимо разработать программу мотивации пользователей на написание обзоров.\n",
    "\n",
    "**Популярное издательство.**      \n",
    "    \n",
    "Самое крупное издательство по количеству выпущенных книг (толще 50 страниц) - Penguin Books 42 книги.\n",
    "    \n",
    "> В 2001 году издательство стало проигрывать в США своему основному местному конкуренту — издательству Random House. В 2013 году они объединились, создав первую в мире глобальную издательскую компанию (Penguin Random House).\n",
    "\n",
    "Информация из статьи [Penguin_Books](https://ru.wikipedia.org/wiki/Penguin_Books)\n",
    "  \n",
    "**Популярный автор.**     \n",
    "    \n",
    "Автор с самой высокой средней оценкой книг (4.28) - J.K. Rowling/Mary GrandPré. J.K. Rowling - автор книг, Mary GrandPré - иллюстратор книг J.K. Rowling.\n",
    "    \n",
    "В top-5 по среднему рейтингу книг (где оценок больше 50) входит сразу 3 книги J.K. Rowling о Гарри Поттере.\n",
    "    \n",
    "**Количество обзоров от пользователей.**\n",
    "    \n",
    "160 пользователей писали обзоры.\n",
    "    \n",
    "В большинстве случаев у пользователей 16-19 обзоров.\n",
    "    \n",
    "Среднее количество обзоров от пользователей, которые поставили больше 48 оценок: 24.    \n",
    "    \n",
    "    \n",
    "</div>"
   ]
  }
 ],
 "metadata": {
  "ExecuteTimeLog": [
   {
    "duration": 575,
    "start_time": "2024-07-30T09:12:26.265Z"
   },
   {
    "duration": 6240,
    "start_time": "2024-07-30T09:12:47.040Z"
   },
   {
    "duration": 56,
    "start_time": "2024-07-30T09:13:21.664Z"
   },
   {
    "duration": 39,
    "start_time": "2024-07-30T09:23:41.422Z"
   },
   {
    "duration": 37,
    "start_time": "2024-07-30T09:43:48.279Z"
   },
   {
    "duration": 46,
    "start_time": "2024-07-30T09:43:51.261Z"
   },
   {
    "duration": 12,
    "start_time": "2024-07-30T09:44:09.437Z"
   },
   {
    "duration": 80,
    "start_time": "2024-07-30T09:46:36.110Z"
   },
   {
    "duration": 12,
    "start_time": "2024-07-30T09:46:40.110Z"
   },
   {
    "duration": 29,
    "start_time": "2024-07-30T09:53:59.932Z"
   },
   {
    "duration": 26,
    "start_time": "2024-07-30T09:56:24.446Z"
   },
   {
    "duration": 25,
    "start_time": "2024-07-30T09:58:31.315Z"
   },
   {
    "duration": 27,
    "start_time": "2024-07-30T09:58:55.573Z"
   },
   {
    "duration": 27,
    "start_time": "2024-07-30T10:01:35.672Z"
   },
   {
    "duration": 26,
    "start_time": "2024-07-30T10:02:56.484Z"
   },
   {
    "duration": 26,
    "start_time": "2024-07-30T10:04:45.550Z"
   },
   {
    "duration": 27,
    "start_time": "2024-07-30T10:06:36.377Z"
   },
   {
    "duration": 27,
    "start_time": "2024-07-30T10:07:08.378Z"
   },
   {
    "duration": 20,
    "start_time": "2024-07-30T10:10:48.940Z"
   },
   {
    "duration": 20,
    "start_time": "2024-07-30T10:12:13.060Z"
   },
   {
    "duration": 12,
    "start_time": "2024-07-30T10:12:36.814Z"
   },
   {
    "duration": 20,
    "start_time": "2024-07-30T10:12:39.879Z"
   },
   {
    "duration": 518,
    "start_time": "2024-07-30T10:13:04.701Z"
   },
   {
    "duration": 6115,
    "start_time": "2024-07-30T10:13:05.221Z"
   },
   {
    "duration": 72,
    "start_time": "2024-07-30T10:13:11.337Z"
   },
   {
    "duration": 0,
    "start_time": "2024-07-30T10:13:11.411Z"
   },
   {
    "duration": 565,
    "start_time": "2024-07-30T10:13:45.560Z"
   },
   {
    "duration": 5910,
    "start_time": "2024-07-30T10:13:46.127Z"
   },
   {
    "duration": 21,
    "start_time": "2024-07-30T10:13:52.039Z"
   },
   {
    "duration": 12,
    "start_time": "2024-07-30T10:13:52.062Z"
   },
   {
    "duration": 9,
    "start_time": "2024-07-30T10:15:25.572Z"
   },
   {
    "duration": 12,
    "start_time": "2024-07-30T10:15:56.106Z"
   },
   {
    "duration": 86,
    "start_time": "2024-07-30T10:24:37.692Z"
   },
   {
    "duration": 21,
    "start_time": "2024-07-30T10:24:50.162Z"
   },
   {
    "duration": 19,
    "start_time": "2024-07-30T10:24:57.906Z"
   },
   {
    "duration": 18,
    "start_time": "2024-07-30T10:25:43.877Z"
   },
   {
    "duration": 13,
    "start_time": "2024-07-30T10:27:37.737Z"
   },
   {
    "duration": 21,
    "start_time": "2024-07-30T10:30:26.133Z"
   },
   {
    "duration": 13,
    "start_time": "2024-07-30T10:30:40.461Z"
   },
   {
    "duration": 13,
    "start_time": "2024-07-30T10:31:37.322Z"
   },
   {
    "duration": 31,
    "start_time": "2024-07-30T10:36:10.558Z"
   },
   {
    "duration": 21,
    "start_time": "2024-07-30T10:36:26.080Z"
   },
   {
    "duration": 18,
    "start_time": "2024-07-30T10:40:21.221Z"
   },
   {
    "duration": 14,
    "start_time": "2024-07-30T10:43:36.761Z"
   },
   {
    "duration": 20,
    "start_time": "2024-07-30T10:44:48.999Z"
   },
   {
    "duration": 14,
    "start_time": "2024-07-30T10:44:54.639Z"
   },
   {
    "duration": 23,
    "start_time": "2024-07-30T10:45:45.355Z"
   },
   {
    "duration": 29,
    "start_time": "2024-07-30T11:10:48.576Z"
   },
   {
    "duration": 29,
    "start_time": "2024-07-30T11:11:18.787Z"
   },
   {
    "duration": 28,
    "start_time": "2024-07-30T11:16:41.696Z"
   },
   {
    "duration": 10,
    "start_time": "2024-07-30T11:18:48.298Z"
   },
   {
    "duration": 10,
    "start_time": "2024-07-30T11:19:07.684Z"
   },
   {
    "duration": 28,
    "start_time": "2024-07-30T11:20:40.723Z"
   },
   {
    "duration": 29,
    "start_time": "2024-07-30T11:28:02.070Z"
   },
   {
    "duration": 29,
    "start_time": "2024-07-30T11:29:15.576Z"
   },
   {
    "duration": 29,
    "start_time": "2024-07-30T11:41:28.689Z"
   },
   {
    "duration": 57,
    "start_time": "2024-07-30T11:46:09.276Z"
   },
   {
    "duration": 55,
    "start_time": "2024-07-30T11:47:00.566Z"
   },
   {
    "duration": 73,
    "start_time": "2024-07-30T11:54:20.667Z"
   },
   {
    "duration": 102,
    "start_time": "2024-07-30T11:57:28.421Z"
   },
   {
    "duration": 120,
    "start_time": "2024-07-30T12:21:17.428Z"
   },
   {
    "duration": 119,
    "start_time": "2024-07-30T12:22:26.244Z"
   },
   {
    "duration": 121,
    "start_time": "2024-07-30T12:23:06.808Z"
   },
   {
    "duration": 128,
    "start_time": "2024-07-30T12:23:41.519Z"
   },
   {
    "duration": 23,
    "start_time": "2024-07-30T13:03:18.096Z"
   },
   {
    "duration": 10,
    "start_time": "2024-07-30T13:04:21.247Z"
   },
   {
    "duration": 9,
    "start_time": "2024-07-30T13:10:11.572Z"
   },
   {
    "duration": 8,
    "start_time": "2024-07-30T13:11:29.487Z"
   },
   {
    "duration": 8,
    "start_time": "2024-07-30T13:11:42.526Z"
   },
   {
    "duration": 8,
    "start_time": "2024-07-30T13:11:50.718Z"
   },
   {
    "duration": 20,
    "start_time": "2024-07-30T13:13:54.894Z"
   },
   {
    "duration": 17,
    "start_time": "2024-07-30T13:24:32.444Z"
   },
   {
    "duration": 16,
    "start_time": "2024-07-30T13:41:50.383Z"
   },
   {
    "duration": 20,
    "start_time": "2024-07-30T13:46:12.316Z"
   },
   {
    "duration": 9,
    "start_time": "2024-07-30T13:52:45.698Z"
   },
   {
    "duration": 9,
    "start_time": "2024-07-30T13:53:53.946Z"
   },
   {
    "duration": 8,
    "start_time": "2024-07-30T13:54:08.576Z"
   },
   {
    "duration": 14,
    "start_time": "2024-07-30T13:56:22.187Z"
   },
   {
    "duration": 8,
    "start_time": "2024-07-30T13:58:55.434Z"
   },
   {
    "duration": 12,
    "start_time": "2024-07-30T13:59:08.765Z"
   },
   {
    "duration": 18,
    "start_time": "2024-07-30T14:01:31.184Z"
   },
   {
    "duration": 16,
    "start_time": "2024-07-30T14:01:48.993Z"
   },
   {
    "duration": 13,
    "start_time": "2024-07-30T14:03:31.567Z"
   },
   {
    "duration": 16,
    "start_time": "2024-07-30T14:04:20.932Z"
   },
   {
    "duration": 819,
    "start_time": "2024-07-30T14:15:41.210Z"
   },
   {
    "duration": 359,
    "start_time": "2024-07-30T14:16:54.708Z"
   },
   {
    "duration": 14,
    "start_time": "2024-07-30T14:18:55.997Z"
   },
   {
    "duration": 18,
    "start_time": "2024-07-30T14:19:11.521Z"
   },
   {
    "duration": 7,
    "start_time": "2024-07-30T14:19:34.278Z"
   },
   {
    "duration": 160,
    "start_time": "2024-07-30T14:19:51.862Z"
   },
   {
    "duration": 172,
    "start_time": "2024-07-30T14:20:30.739Z"
   },
   {
    "duration": 545,
    "start_time": "2024-07-30T14:22:35.864Z"
   },
   {
    "duration": 48,
    "start_time": "2024-07-30T14:25:34.706Z"
   },
   {
    "duration": 595,
    "start_time": "2024-07-30T14:25:39.249Z"
   },
   {
    "duration": 6212,
    "start_time": "2024-07-30T14:25:39.846Z"
   },
   {
    "duration": 143,
    "start_time": "2024-07-30T14:25:46.059Z"
   },
   {
    "duration": 16,
    "start_time": "2024-07-30T14:25:46.205Z"
   },
   {
    "duration": 13,
    "start_time": "2024-07-30T14:25:46.223Z"
   },
   {
    "duration": 47,
    "start_time": "2024-07-30T14:25:46.238Z"
   },
   {
    "duration": 364,
    "start_time": "2024-07-30T14:26:02.369Z"
   },
   {
    "duration": 161,
    "start_time": "2024-07-30T14:26:25.592Z"
   },
   {
    "duration": 47,
    "start_time": "2024-07-30T14:26:34.439Z"
   },
   {
    "duration": 46,
    "start_time": "2024-07-30T14:26:43.888Z"
   },
   {
    "duration": 104,
    "start_time": "2024-07-30T14:28:27.240Z"
   },
   {
    "duration": 17,
    "start_time": "2024-07-30T14:54:21.464Z"
   },
   {
    "duration": 20,
    "start_time": "2024-07-30T14:54:55.784Z"
   },
   {
    "duration": 14,
    "start_time": "2024-07-30T15:17:55.521Z"
   },
   {
    "duration": 24,
    "start_time": "2024-07-30T15:18:04.781Z"
   },
   {
    "duration": 22,
    "start_time": "2024-07-30T15:18:27.853Z"
   },
   {
    "duration": 21,
    "start_time": "2024-07-30T15:18:36.543Z"
   },
   {
    "duration": 21,
    "start_time": "2024-07-30T15:19:29.021Z"
   },
   {
    "duration": 21,
    "start_time": "2024-07-30T15:22:51.493Z"
   },
   {
    "duration": 25,
    "start_time": "2024-07-30T16:55:48.293Z"
   },
   {
    "duration": 21,
    "start_time": "2024-07-30T16:57:00.090Z"
   },
   {
    "duration": 21,
    "start_time": "2024-07-30T16:57:26.443Z"
   },
   {
    "duration": 22,
    "start_time": "2024-07-30T16:59:40.118Z"
   },
   {
    "duration": 18,
    "start_time": "2024-07-30T17:00:13.355Z"
   },
   {
    "duration": 5,
    "start_time": "2024-07-30T17:12:29.479Z"
   },
   {
    "duration": 21,
    "start_time": "2024-07-30T17:12:52.385Z"
   },
   {
    "duration": 22,
    "start_time": "2024-07-30T17:21:26.992Z"
   },
   {
    "duration": 23,
    "start_time": "2024-07-30T17:21:45.790Z"
   },
   {
    "duration": 14,
    "start_time": "2024-07-30T17:22:19.439Z"
   },
   {
    "duration": 15,
    "start_time": "2024-07-30T17:23:24.610Z"
   },
   {
    "duration": 30,
    "start_time": "2024-07-30T17:25:30.203Z"
   },
   {
    "duration": 21,
    "start_time": "2024-07-30T17:27:38.119Z"
   },
   {
    "duration": 20,
    "start_time": "2024-07-30T17:31:49.721Z"
   },
   {
    "duration": 9,
    "start_time": "2024-07-30T17:39:56.515Z"
   },
   {
    "duration": 13,
    "start_time": "2024-07-30T17:41:14.879Z"
   },
   {
    "duration": 23,
    "start_time": "2024-07-30T17:43:19.515Z"
   },
   {
    "duration": 12,
    "start_time": "2024-07-30T17:44:01.314Z"
   },
   {
    "duration": 10,
    "start_time": "2024-07-30T17:44:41.446Z"
   },
   {
    "duration": 14,
    "start_time": "2024-07-30T17:47:49.732Z"
   },
   {
    "duration": 21,
    "start_time": "2024-07-30T17:48:46.603Z"
   },
   {
    "duration": 626,
    "start_time": "2024-07-30T17:48:57.012Z"
   },
   {
    "duration": 8225,
    "start_time": "2024-07-30T17:48:57.640Z"
   },
   {
    "duration": 148,
    "start_time": "2024-07-30T17:49:05.866Z"
   },
   {
    "duration": 84,
    "start_time": "2024-07-30T17:49:06.016Z"
   },
   {
    "duration": 0,
    "start_time": "2024-07-30T17:49:06.102Z"
   },
   {
    "duration": 0,
    "start_time": "2024-07-30T17:49:06.103Z"
   },
   {
    "duration": 0,
    "start_time": "2024-07-30T17:49:06.103Z"
   },
   {
    "duration": 0,
    "start_time": "2024-07-30T17:49:06.104Z"
   },
   {
    "duration": 0,
    "start_time": "2024-07-30T17:49:06.105Z"
   },
   {
    "duration": 21,
    "start_time": "2024-07-30T17:50:03.784Z"
   },
   {
    "duration": 14,
    "start_time": "2024-07-30T17:50:12.064Z"
   },
   {
    "duration": 351,
    "start_time": "2024-07-30T17:50:15.153Z"
   },
   {
    "duration": 11,
    "start_time": "2024-07-30T17:51:01.429Z"
   },
   {
    "duration": 12,
    "start_time": "2024-07-30T17:51:51.049Z"
   },
   {
    "duration": 11,
    "start_time": "2024-07-30T17:52:19.007Z"
   },
   {
    "duration": 23,
    "start_time": "2024-07-30T17:52:28.559Z"
   },
   {
    "duration": 111,
    "start_time": "2024-07-30T17:56:37.560Z"
   },
   {
    "duration": 21,
    "start_time": "2024-07-30T17:58:27.805Z"
   },
   {
    "duration": 20,
    "start_time": "2024-07-30T17:58:41.688Z"
   },
   {
    "duration": 23,
    "start_time": "2024-07-30T17:59:02.578Z"
   },
   {
    "duration": 23,
    "start_time": "2024-07-30T17:59:51.144Z"
   },
   {
    "duration": 21,
    "start_time": "2024-07-30T18:01:49.570Z"
   },
   {
    "duration": 21,
    "start_time": "2024-07-30T18:02:05.931Z"
   },
   {
    "duration": 22,
    "start_time": "2024-07-30T18:02:55.064Z"
   },
   {
    "duration": 21,
    "start_time": "2024-07-30T18:07:39.207Z"
   },
   {
    "duration": 123,
    "start_time": "2024-07-30T18:11:43.463Z"
   },
   {
    "duration": 77,
    "start_time": "2024-07-30T18:13:32.333Z"
   },
   {
    "duration": 11,
    "start_time": "2024-07-30T18:14:11.294Z"
   },
   {
    "duration": 11,
    "start_time": "2024-07-30T18:14:28.267Z"
   },
   {
    "duration": 10,
    "start_time": "2024-07-30T18:14:38.363Z"
   },
   {
    "duration": 10,
    "start_time": "2024-07-30T18:15:26.175Z"
   },
   {
    "duration": 23,
    "start_time": "2024-07-30T18:16:31.706Z"
   },
   {
    "duration": 23,
    "start_time": "2024-07-30T18:16:59.655Z"
   },
   {
    "duration": 23,
    "start_time": "2024-07-30T18:17:30.899Z"
   },
   {
    "duration": 23,
    "start_time": "2024-07-30T18:17:54.613Z"
   },
   {
    "duration": 21,
    "start_time": "2024-07-30T18:18:49.322Z"
   },
   {
    "duration": 27,
    "start_time": "2024-07-30T18:19:16.591Z"
   },
   {
    "duration": 26,
    "start_time": "2024-07-30T18:20:57.436Z"
   },
   {
    "duration": 41,
    "start_time": "2024-07-30T18:22:36.772Z"
   },
   {
    "duration": 32,
    "start_time": "2024-07-30T18:23:14.929Z"
   },
   {
    "duration": 31,
    "start_time": "2024-07-30T18:23:39.105Z"
   },
   {
    "duration": 50,
    "start_time": "2024-07-30T18:25:05.054Z"
   },
   {
    "duration": 50,
    "start_time": "2024-07-30T18:26:06.630Z"
   },
   {
    "duration": 52,
    "start_time": "2024-07-30T18:26:15.867Z"
   },
   {
    "duration": 54,
    "start_time": "2024-07-30T18:26:24.146Z"
   },
   {
    "duration": 52,
    "start_time": "2024-07-30T18:26:32.366Z"
   },
   {
    "duration": 47,
    "start_time": "2024-07-30T18:26:39.678Z"
   },
   {
    "duration": 50,
    "start_time": "2024-07-30T18:26:53.036Z"
   },
   {
    "duration": 56,
    "start_time": "2024-07-30T18:28:14.047Z"
   },
   {
    "duration": 16,
    "start_time": "2024-07-30T18:30:49.603Z"
   },
   {
    "duration": 55,
    "start_time": "2024-07-30T18:31:03.144Z"
   },
   {
    "duration": 54,
    "start_time": "2024-07-30T18:31:32.881Z"
   },
   {
    "duration": 55,
    "start_time": "2024-07-30T18:35:06.728Z"
   },
   {
    "duration": 1035,
    "start_time": "2024-07-30T18:35:29.200Z"
   },
   {
    "duration": 50,
    "start_time": "2024-07-30T18:35:36.245Z"
   },
   {
    "duration": 595,
    "start_time": "2024-07-31T05:54:11.830Z"
   },
   {
    "duration": 6714,
    "start_time": "2024-07-31T05:54:12.427Z"
   },
   {
    "duration": 475,
    "start_time": "2024-07-31T05:54:19.143Z"
   },
   {
    "duration": 87,
    "start_time": "2024-07-31T05:54:19.620Z"
   },
   {
    "duration": 39,
    "start_time": "2024-07-31T05:54:19.709Z"
   },
   {
    "duration": 394,
    "start_time": "2024-07-31T05:54:19.750Z"
   },
   {
    "duration": 32,
    "start_time": "2024-07-31T05:54:20.146Z"
   },
   {
    "duration": 40,
    "start_time": "2024-07-31T05:54:20.180Z"
   },
   {
    "duration": 74,
    "start_time": "2024-07-31T05:54:20.221Z"
   },
   {
    "duration": 120,
    "start_time": "2024-07-31T05:54:20.297Z"
   },
   {
    "duration": 60,
    "start_time": "2024-07-31T05:54:20.419Z"
   },
   {
    "duration": 59,
    "start_time": "2024-07-31T05:54:20.481Z"
   },
   {
    "duration": 95,
    "start_time": "2024-07-31T05:56:23.585Z"
   },
   {
    "duration": 91,
    "start_time": "2024-07-31T05:58:01.217Z"
   },
   {
    "duration": 96,
    "start_time": "2024-07-31T05:59:18.375Z"
   },
   {
    "duration": 93,
    "start_time": "2024-07-31T06:00:14.432Z"
   },
   {
    "duration": 90,
    "start_time": "2024-07-31T06:01:35.088Z"
   },
   {
    "duration": 84,
    "start_time": "2024-07-31T06:03:34.549Z"
   },
   {
    "duration": 85,
    "start_time": "2024-07-31T06:03:49.217Z"
   },
   {
    "duration": 97,
    "start_time": "2024-07-31T06:05:33.755Z"
   },
   {
    "duration": 89,
    "start_time": "2024-07-31T06:07:15.403Z"
   },
   {
    "duration": 93,
    "start_time": "2024-07-31T06:08:23.613Z"
   },
   {
    "duration": 619,
    "start_time": "2024-07-31T06:11:15.424Z"
   },
   {
    "duration": 7293,
    "start_time": "2024-07-31T06:11:16.045Z"
   },
   {
    "duration": 109,
    "start_time": "2024-07-31T06:11:23.340Z"
   },
   {
    "duration": 88,
    "start_time": "2024-07-31T06:11:23.451Z"
   },
   {
    "duration": 89,
    "start_time": "2024-07-31T06:11:23.541Z"
   },
   {
    "duration": 91,
    "start_time": "2024-07-31T06:11:23.632Z"
   },
   {
    "duration": 88,
    "start_time": "2024-07-31T06:11:23.725Z"
   },
   {
    "duration": 84,
    "start_time": "2024-07-31T06:11:23.815Z"
   },
   {
    "duration": 34,
    "start_time": "2024-07-31T06:11:23.901Z"
   },
   {
    "duration": 363,
    "start_time": "2024-07-31T06:11:23.937Z"
   },
   {
    "duration": 31,
    "start_time": "2024-07-31T06:11:24.301Z"
   },
   {
    "duration": 32,
    "start_time": "2024-07-31T06:11:24.334Z"
   },
   {
    "duration": 70,
    "start_time": "2024-07-31T06:11:24.368Z"
   },
   {
    "duration": 58,
    "start_time": "2024-07-31T06:11:24.439Z"
   },
   {
    "duration": 111,
    "start_time": "2024-07-31T06:11:24.498Z"
   },
   {
    "duration": 70,
    "start_time": "2024-07-31T06:11:24.611Z"
   },
   {
    "duration": 55,
    "start_time": "2024-07-31T06:20:38.787Z"
   },
   {
    "duration": 52,
    "start_time": "2024-07-31T06:21:44.718Z"
   },
   {
    "duration": 46,
    "start_time": "2024-07-31T06:22:51.309Z"
   },
   {
    "duration": 53,
    "start_time": "2024-07-31T06:27:23.192Z"
   },
   {
    "duration": 59,
    "start_time": "2024-07-31T06:31:37.144Z"
   },
   {
    "duration": 54,
    "start_time": "2024-07-31T06:31:49.785Z"
   },
   {
    "duration": 64,
    "start_time": "2024-07-31T06:32:26.432Z"
   },
   {
    "duration": 59,
    "start_time": "2024-07-31T06:32:34.746Z"
   },
   {
    "duration": 72,
    "start_time": "2024-07-31T06:34:10.340Z"
   },
   {
    "duration": 184,
    "start_time": "2024-07-31T06:42:38.521Z"
   },
   {
    "duration": 62,
    "start_time": "2024-07-31T06:43:36.176Z"
   },
   {
    "duration": 43,
    "start_time": "2024-07-31T06:43:40.688Z"
   },
   {
    "duration": 75,
    "start_time": "2024-07-31T06:51:11.771Z"
   },
   {
    "duration": 53,
    "start_time": "2024-07-31T06:51:20.252Z"
   },
   {
    "duration": 50,
    "start_time": "2024-07-31T06:51:22.848Z"
   },
   {
    "duration": 58,
    "start_time": "2024-07-31T06:51:27.783Z"
   },
   {
    "duration": 20,
    "start_time": "2024-07-31T07:05:33.342Z"
   },
   {
    "duration": 9,
    "start_time": "2024-07-31T07:06:01.603Z"
   },
   {
    "duration": 6,
    "start_time": "2024-07-31T07:06:24.220Z"
   },
   {
    "duration": 18,
    "start_time": "2024-07-31T07:12:16.342Z"
   },
   {
    "duration": 17,
    "start_time": "2024-07-31T07:13:11.334Z"
   },
   {
    "duration": 587,
    "start_time": "2024-07-31T07:16:34.500Z"
   },
   {
    "duration": 7625,
    "start_time": "2024-07-31T07:16:35.089Z"
   },
   {
    "duration": 124,
    "start_time": "2024-07-31T07:16:42.716Z"
   },
   {
    "duration": 91,
    "start_time": "2024-07-31T07:16:42.842Z"
   },
   {
    "duration": 95,
    "start_time": "2024-07-31T07:16:42.935Z"
   },
   {
    "duration": 95,
    "start_time": "2024-07-31T07:16:43.032Z"
   },
   {
    "duration": 89,
    "start_time": "2024-07-31T07:16:43.129Z"
   },
   {
    "duration": 86,
    "start_time": "2024-07-31T07:16:43.220Z"
   },
   {
    "duration": 35,
    "start_time": "2024-07-31T07:16:43.308Z"
   },
   {
    "duration": 365,
    "start_time": "2024-07-31T07:16:43.346Z"
   },
   {
    "duration": 32,
    "start_time": "2024-07-31T07:16:43.713Z"
   },
   {
    "duration": 32,
    "start_time": "2024-07-31T07:16:43.747Z"
   },
   {
    "duration": 91,
    "start_time": "2024-07-31T07:16:43.781Z"
   },
   {
    "duration": 16,
    "start_time": "2024-07-31T07:16:43.874Z"
   },
   {
    "duration": 73,
    "start_time": "2024-07-31T07:16:43.892Z"
   },
   {
    "duration": 114,
    "start_time": "2024-07-31T07:16:43.967Z"
   },
   {
    "duration": 59,
    "start_time": "2024-07-31T07:16:44.083Z"
   },
   {
    "duration": 47,
    "start_time": "2024-07-31T07:42:50.784Z"
   },
   {
    "duration": 164,
    "start_time": "2024-07-31T07:43:27.776Z"
   },
   {
    "duration": 46,
    "start_time": "2024-07-31T07:43:44.608Z"
   },
   {
    "duration": 33,
    "start_time": "2024-07-31T07:44:25.601Z"
   },
   {
    "duration": 38,
    "start_time": "2024-07-31T07:50:18.455Z"
   },
   {
    "duration": 35,
    "start_time": "2024-07-31T07:58:20.816Z"
   },
   {
    "duration": 33,
    "start_time": "2024-07-31T08:02:45.884Z"
   },
   {
    "duration": 32,
    "start_time": "2024-07-31T08:03:20.340Z"
   },
   {
    "duration": 2,
    "start_time": "2024-07-31T08:08:05.034Z"
   },
   {
    "duration": 49,
    "start_time": "2024-07-31T08:08:25.296Z"
   },
   {
    "duration": 33,
    "start_time": "2024-07-31T08:09:08.986Z"
   },
   {
    "duration": 38,
    "start_time": "2024-07-31T08:09:24.222Z"
   },
   {
    "duration": 38,
    "start_time": "2024-07-31T08:09:48.629Z"
   },
   {
    "duration": 34,
    "start_time": "2024-07-31T08:10:22.885Z"
   },
   {
    "duration": 39,
    "start_time": "2024-07-31T08:10:30.617Z"
   },
   {
    "duration": 56,
    "start_time": "2024-07-31T08:12:44.854Z"
   },
   {
    "duration": 183,
    "start_time": "2024-07-31T08:12:44.912Z"
   },
   {
    "duration": 104,
    "start_time": "2024-07-31T08:12:45.096Z"
   },
   {
    "duration": 84,
    "start_time": "2024-07-31T08:12:45.201Z"
   },
   {
    "duration": 140,
    "start_time": "2024-07-31T08:12:45.287Z"
   },
   {
    "duration": 88,
    "start_time": "2024-07-31T08:12:45.428Z"
   },
   {
    "duration": 85,
    "start_time": "2024-07-31T08:12:45.517Z"
   },
   {
    "duration": 83,
    "start_time": "2024-07-31T08:12:45.603Z"
   },
   {
    "duration": 32,
    "start_time": "2024-07-31T08:12:45.689Z"
   },
   {
    "duration": 42,
    "start_time": "2024-07-31T08:12:45.723Z"
   },
   {
    "duration": 36,
    "start_time": "2024-07-31T08:12:45.767Z"
   },
   {
    "duration": 33,
    "start_time": "2024-07-31T08:12:45.805Z"
   },
   {
    "duration": 80,
    "start_time": "2024-07-31T08:12:45.840Z"
   },
   {
    "duration": 15,
    "start_time": "2024-07-31T08:12:45.922Z"
   },
   {
    "duration": 82,
    "start_time": "2024-07-31T08:12:45.939Z"
   },
   {
    "duration": 47,
    "start_time": "2024-07-31T08:12:46.023Z"
   },
   {
    "duration": 54,
    "start_time": "2024-07-31T08:12:46.072Z"
   },
   {
    "duration": 37,
    "start_time": "2024-07-31T08:12:46.128Z"
   },
   {
    "duration": 33,
    "start_time": "2024-07-31T08:12:46.167Z"
   },
   {
    "duration": 164,
    "start_time": "2024-07-31T08:13:48.744Z"
   },
   {
    "duration": 62,
    "start_time": "2024-07-31T08:14:06.721Z"
   },
   {
    "duration": 62,
    "start_time": "2024-07-31T08:14:32.422Z"
   },
   {
    "duration": 61,
    "start_time": "2024-07-31T08:15:03.190Z"
   },
   {
    "duration": 44,
    "start_time": "2024-07-31T08:15:06.730Z"
   },
   {
    "duration": 34,
    "start_time": "2024-07-31T08:28:08.579Z"
   },
   {
    "duration": 32,
    "start_time": "2024-07-31T08:35:13.981Z"
   },
   {
    "duration": 85,
    "start_time": "2024-07-31T08:36:47.221Z"
   },
   {
    "duration": 70,
    "start_time": "2024-07-31T08:56:02.697Z"
   },
   {
    "duration": 72,
    "start_time": "2024-07-31T08:56:31.718Z"
   },
   {
    "duration": 56,
    "start_time": "2024-07-31T08:57:15.440Z"
   },
   {
    "duration": 61,
    "start_time": "2024-07-31T08:57:19.153Z"
   },
   {
    "duration": 60,
    "start_time": "2024-07-31T08:57:40.478Z"
   },
   {
    "duration": 53,
    "start_time": "2024-07-31T08:58:10.804Z"
   },
   {
    "duration": 45,
    "start_time": "2024-07-31T08:58:15.948Z"
   },
   {
    "duration": 30,
    "start_time": "2024-07-31T08:59:38.269Z"
   },
   {
    "duration": 32,
    "start_time": "2024-07-31T09:03:26.373Z"
   },
   {
    "duration": 50,
    "start_time": "2024-07-31T09:03:38.224Z"
   },
   {
    "duration": 43,
    "start_time": "2024-07-31T09:03:51.673Z"
   },
   {
    "duration": 34,
    "start_time": "2024-07-31T09:05:37.685Z"
   },
   {
    "duration": 32,
    "start_time": "2024-07-31T09:05:46.129Z"
   },
   {
    "duration": 33,
    "start_time": "2024-07-31T09:06:27.058Z"
   },
   {
    "duration": 37,
    "start_time": "2024-07-31T09:07:57.251Z"
   },
   {
    "duration": 33,
    "start_time": "2024-07-31T09:08:28.037Z"
   },
   {
    "duration": 52,
    "start_time": "2024-07-31T09:09:54.661Z"
   },
   {
    "duration": 69,
    "start_time": "2024-07-31T09:10:07.524Z"
   },
   {
    "duration": 59,
    "start_time": "2024-07-31T09:10:14.526Z"
   },
   {
    "duration": 61,
    "start_time": "2024-07-31T09:10:40.464Z"
   },
   {
    "duration": 60,
    "start_time": "2024-07-31T09:11:08.987Z"
   },
   {
    "duration": 62,
    "start_time": "2024-07-31T09:11:49.864Z"
   },
   {
    "duration": 67,
    "start_time": "2024-07-31T09:12:15.613Z"
   },
   {
    "duration": 62,
    "start_time": "2024-07-31T09:12:24.299Z"
   },
   {
    "duration": 70,
    "start_time": "2024-07-31T09:12:50.782Z"
   },
   {
    "duration": 60,
    "start_time": "2024-07-31T09:14:14.594Z"
   },
   {
    "duration": 117,
    "start_time": "2024-07-31T09:14:28.881Z"
   },
   {
    "duration": 49,
    "start_time": "2024-07-31T09:15:29.358Z"
   },
   {
    "duration": 199,
    "start_time": "2024-07-31T09:15:34.668Z"
   },
   {
    "duration": 108,
    "start_time": "2024-07-31T09:16:30.441Z"
   },
   {
    "duration": 49,
    "start_time": "2024-07-31T09:16:53.895Z"
   },
   {
    "duration": 62,
    "start_time": "2024-07-31T09:17:24.246Z"
   },
   {
    "duration": 112,
    "start_time": "2024-07-31T09:25:03.646Z"
   },
   {
    "duration": 51,
    "start_time": "2024-07-31T09:25:45.192Z"
   },
   {
    "duration": 100,
    "start_time": "2024-07-31T09:25:50.061Z"
   },
   {
    "duration": 50,
    "start_time": "2024-07-31T09:28:56.658Z"
   },
   {
    "duration": 61,
    "start_time": "2024-07-31T09:29:21.658Z"
   },
   {
    "duration": 61,
    "start_time": "2024-07-31T09:29:50.557Z"
   },
   {
    "duration": 112,
    "start_time": "2024-07-31T09:30:06.505Z"
   },
   {
    "duration": 78,
    "start_time": "2024-07-31T09:30:27.744Z"
   },
   {
    "duration": 50,
    "start_time": "2024-07-31T09:34:05.078Z"
   },
   {
    "duration": 74,
    "start_time": "2024-07-31T09:37:24.747Z"
   },
   {
    "duration": 58,
    "start_time": "2024-07-31T09:37:49.589Z"
   },
   {
    "duration": 36,
    "start_time": "2024-07-31T09:38:23.566Z"
   },
   {
    "duration": 38,
    "start_time": "2024-07-31T09:38:41.511Z"
   },
   {
    "duration": 4,
    "start_time": "2024-07-31T09:48:34.943Z"
   },
   {
    "duration": 59,
    "start_time": "2024-07-31T09:48:55.365Z"
   },
   {
    "duration": 59,
    "start_time": "2024-07-31T09:49:32.742Z"
   },
   {
    "duration": 61,
    "start_time": "2024-07-31T09:50:18.039Z"
   },
   {
    "duration": 61,
    "start_time": "2024-07-31T09:50:24.295Z"
   },
   {
    "duration": 70,
    "start_time": "2024-07-31T09:50:49.012Z"
   },
   {
    "duration": 66,
    "start_time": "2024-07-31T09:51:14.553Z"
   },
   {
    "duration": 61,
    "start_time": "2024-07-31T09:52:27.603Z"
   },
   {
    "duration": 70,
    "start_time": "2024-07-31T09:52:52.498Z"
   },
   {
    "duration": 51,
    "start_time": "2024-07-31T09:54:17.214Z"
   },
   {
    "duration": 39,
    "start_time": "2024-07-31T09:54:42.697Z"
   },
   {
    "duration": 34,
    "start_time": "2024-07-31T09:55:08.631Z"
   },
   {
    "duration": 50,
    "start_time": "2024-07-31T09:55:54.892Z"
   },
   {
    "duration": 46,
    "start_time": "2024-07-31T09:56:16.540Z"
   },
   {
    "duration": 41,
    "start_time": "2024-07-31T09:59:57.378Z"
   },
   {
    "duration": 38,
    "start_time": "2024-07-31T10:01:04.416Z"
   },
   {
    "duration": 60,
    "start_time": "2024-07-31T10:01:24.138Z"
   },
   {
    "duration": 60,
    "start_time": "2024-07-31T10:01:47.151Z"
   },
   {
    "duration": 50,
    "start_time": "2024-07-31T10:02:33.907Z"
   },
   {
    "duration": 60,
    "start_time": "2024-07-31T10:03:48.177Z"
   },
   {
    "duration": 45,
    "start_time": "2024-07-31T10:03:56.849Z"
   },
   {
    "duration": 34,
    "start_time": "2024-07-31T10:04:11.746Z"
   },
   {
    "duration": 35,
    "start_time": "2024-07-31T10:08:19.261Z"
   },
   {
    "duration": 35,
    "start_time": "2024-07-31T10:09:00.743Z"
   },
   {
    "duration": 35,
    "start_time": "2024-07-31T10:09:07.758Z"
   },
   {
    "duration": 34,
    "start_time": "2024-07-31T10:11:38.916Z"
   },
   {
    "duration": 33,
    "start_time": "2024-07-31T10:14:40.643Z"
   },
   {
    "duration": 34,
    "start_time": "2024-07-31T10:14:45.045Z"
   },
   {
    "duration": 58,
    "start_time": "2024-07-31T10:15:57.731Z"
   },
   {
    "duration": 45,
    "start_time": "2024-07-31T10:16:13.414Z"
   },
   {
    "duration": 54,
    "start_time": "2024-07-31T10:16:54.773Z"
   },
   {
    "duration": 52,
    "start_time": "2024-07-31T10:17:17.114Z"
   },
   {
    "duration": 38,
    "start_time": "2024-07-31T10:17:39.369Z"
   },
   {
    "duration": 32,
    "start_time": "2024-07-31T10:19:03.751Z"
   },
   {
    "duration": 34,
    "start_time": "2024-07-31T10:20:35.319Z"
   },
   {
    "duration": 34,
    "start_time": "2024-07-31T10:21:10.042Z"
   },
   {
    "duration": 36,
    "start_time": "2024-07-31T10:57:28.453Z"
   },
   {
    "duration": 38,
    "start_time": "2024-07-31T10:57:41.077Z"
   },
   {
    "duration": 71,
    "start_time": "2024-07-31T11:04:29.110Z"
   },
   {
    "duration": 42,
    "start_time": "2024-07-31T11:04:53.575Z"
   },
   {
    "duration": 63,
    "start_time": "2024-07-31T11:06:02.022Z"
   },
   {
    "duration": 46,
    "start_time": "2024-07-31T11:06:23.196Z"
   },
   {
    "duration": 32,
    "start_time": "2024-07-31T11:06:42.283Z"
   },
   {
    "duration": 51,
    "start_time": "2024-07-31T11:12:01.585Z"
   },
   {
    "duration": 46,
    "start_time": "2024-07-31T11:12:27.632Z"
   },
   {
    "duration": 54,
    "start_time": "2024-07-31T11:13:19.738Z"
   },
   {
    "duration": 34,
    "start_time": "2024-07-31T11:18:46.479Z"
   },
   {
    "duration": 47,
    "start_time": "2024-07-31T11:21:58.440Z"
   },
   {
    "duration": 37,
    "start_time": "2024-07-31T11:22:07.371Z"
   },
   {
    "duration": 36,
    "start_time": "2024-07-31T11:22:50.810Z"
   },
   {
    "duration": 32,
    "start_time": "2024-07-31T11:22:58.017Z"
   },
   {
    "duration": 95,
    "start_time": "2024-07-31T11:24:50.492Z"
   },
   {
    "duration": 36,
    "start_time": "2024-07-31T11:26:14.583Z"
   },
   {
    "duration": 50,
    "start_time": "2024-07-31T11:27:57.579Z"
   },
   {
    "duration": 136,
    "start_time": "2024-07-31T11:37:56.705Z"
   },
   {
    "duration": 80,
    "start_time": "2024-07-31T11:38:21.181Z"
   },
   {
    "duration": 80,
    "start_time": "2024-07-31T11:39:15.180Z"
   },
   {
    "duration": 87,
    "start_time": "2024-07-31T11:40:08.505Z"
   },
   {
    "duration": 66,
    "start_time": "2024-07-31T11:40:11.935Z"
   },
   {
    "duration": 31,
    "start_time": "2024-07-31T11:49:37.983Z"
   },
   {
    "duration": 629,
    "start_time": "2024-07-31T11:49:44.289Z"
   },
   {
    "duration": 8254,
    "start_time": "2024-07-31T11:49:44.920Z"
   },
   {
    "duration": 122,
    "start_time": "2024-07-31T11:49:53.180Z"
   },
   {
    "duration": 88,
    "start_time": "2024-07-31T11:49:53.304Z"
   },
   {
    "duration": 96,
    "start_time": "2024-07-31T11:49:53.393Z"
   },
   {
    "duration": 98,
    "start_time": "2024-07-31T11:49:53.490Z"
   },
   {
    "duration": 92,
    "start_time": "2024-07-31T11:49:53.590Z"
   },
   {
    "duration": 93,
    "start_time": "2024-07-31T11:49:53.683Z"
   },
   {
    "duration": 34,
    "start_time": "2024-07-31T11:49:53.778Z"
   },
   {
    "duration": 395,
    "start_time": "2024-07-31T11:49:53.814Z"
   },
   {
    "duration": 30,
    "start_time": "2024-07-31T11:49:54.211Z"
   },
   {
    "duration": 34,
    "start_time": "2024-07-31T11:49:54.242Z"
   },
   {
    "duration": 94,
    "start_time": "2024-07-31T11:49:54.283Z"
   },
   {
    "duration": 56,
    "start_time": "2024-07-31T11:49:54.380Z"
   },
   {
    "duration": 150,
    "start_time": "2024-07-31T11:49:54.438Z"
   },
   {
    "duration": 54,
    "start_time": "2024-07-31T11:49:54.590Z"
   },
   {
    "duration": 38,
    "start_time": "2024-07-31T11:49:54.646Z"
   },
   {
    "duration": 32,
    "start_time": "2024-07-31T11:49:54.686Z"
   },
   {
    "duration": 34,
    "start_time": "2024-07-31T11:49:54.720Z"
   },
   {
    "duration": 36,
    "start_time": "2024-07-31T11:49:54.757Z"
   },
   {
    "duration": 37,
    "start_time": "2024-07-31T11:49:54.795Z"
   },
   {
    "duration": 42,
    "start_time": "2024-07-31T11:49:54.834Z"
   },
   {
    "duration": 69,
    "start_time": "2024-07-31T11:49:54.878Z"
   },
   {
    "duration": 58,
    "start_time": "2024-07-31T11:56:06.543Z"
   },
   {
    "duration": 34,
    "start_time": "2024-07-31T11:57:08.356Z"
   },
   {
    "duration": 50,
    "start_time": "2024-07-31T11:57:57.823Z"
   },
   {
    "duration": 46,
    "start_time": "2024-07-31T11:58:25.177Z"
   },
   {
    "duration": 51,
    "start_time": "2024-07-31T11:58:41.792Z"
   },
   {
    "duration": 44,
    "start_time": "2024-07-31T11:59:07.040Z"
   },
   {
    "duration": 169,
    "start_time": "2024-07-31T13:19:50.908Z"
   },
   {
    "duration": 42,
    "start_time": "2024-07-31T13:19:56.713Z"
   },
   {
    "duration": 53,
    "start_time": "2024-07-31T13:20:45.267Z"
   },
   {
    "duration": 43,
    "start_time": "2024-07-31T13:20:48.957Z"
   },
   {
    "duration": 52,
    "start_time": "2024-07-31T13:22:05.202Z"
   },
   {
    "duration": 60,
    "start_time": "2024-07-31T13:22:13.376Z"
   },
   {
    "duration": 70,
    "start_time": "2024-07-31T13:23:05.798Z"
   },
   {
    "duration": 42,
    "start_time": "2024-07-31T13:24:37.373Z"
   },
   {
    "duration": 33,
    "start_time": "2024-07-31T13:25:37.126Z"
   },
   {
    "duration": 62,
    "start_time": "2024-07-31T13:32:06.795Z"
   },
   {
    "duration": 52,
    "start_time": "2024-07-31T13:33:24.793Z"
   },
   {
    "duration": 72,
    "start_time": "2024-07-31T13:33:58.157Z"
   },
   {
    "duration": 77,
    "start_time": "2024-07-31T13:34:21.617Z"
   },
   {
    "duration": 74,
    "start_time": "2024-07-31T13:35:05.221Z"
   },
   {
    "duration": 619,
    "start_time": "2024-07-31T13:37:01.528Z"
   },
   {
    "duration": 7024,
    "start_time": "2024-07-31T13:37:02.149Z"
   },
   {
    "duration": 117,
    "start_time": "2024-07-31T13:37:09.175Z"
   },
   {
    "duration": 91,
    "start_time": "2024-07-31T13:37:09.294Z"
   },
   {
    "duration": 94,
    "start_time": "2024-07-31T13:37:09.386Z"
   },
   {
    "duration": 94,
    "start_time": "2024-07-31T13:37:09.481Z"
   },
   {
    "duration": 91,
    "start_time": "2024-07-31T13:37:09.577Z"
   },
   {
    "duration": 57,
    "start_time": "2024-07-31T13:37:09.670Z"
   },
   {
    "duration": 41,
    "start_time": "2024-07-31T13:37:09.729Z"
   },
   {
    "duration": 376,
    "start_time": "2024-07-31T13:37:09.775Z"
   },
   {
    "duration": 35,
    "start_time": "2024-07-31T13:37:10.153Z"
   },
   {
    "duration": 33,
    "start_time": "2024-07-31T13:37:10.190Z"
   },
   {
    "duration": 73,
    "start_time": "2024-07-31T13:37:10.225Z"
   },
   {
    "duration": 73,
    "start_time": "2024-07-31T13:37:10.300Z"
   },
   {
    "duration": 119,
    "start_time": "2024-07-31T13:37:10.374Z"
   },
   {
    "duration": 55,
    "start_time": "2024-07-31T13:37:10.495Z"
   },
   {
    "duration": 42,
    "start_time": "2024-07-31T13:37:10.552Z"
   },
   {
    "duration": 34,
    "start_time": "2024-07-31T13:37:10.596Z"
   },
   {
    "duration": 37,
    "start_time": "2024-07-31T13:37:10.632Z"
   },
   {
    "duration": 37,
    "start_time": "2024-07-31T13:37:10.670Z"
   },
   {
    "duration": 35,
    "start_time": "2024-07-31T13:37:10.708Z"
   },
   {
    "duration": 35,
    "start_time": "2024-07-31T13:37:10.745Z"
   },
   {
    "duration": 46,
    "start_time": "2024-07-31T13:37:10.782Z"
   },
   {
    "duration": 32,
    "start_time": "2024-07-31T13:42:47.458Z"
   },
   {
    "duration": 32,
    "start_time": "2024-07-31T13:46:10.399Z"
   },
   {
    "duration": 34,
    "start_time": "2024-07-31T13:46:55.196Z"
   },
   {
    "duration": 48,
    "start_time": "2024-07-31T13:58:50.491Z"
   },
   {
    "duration": 604,
    "start_time": "2024-07-31T14:02:24.531Z"
   },
   {
    "duration": 7401,
    "start_time": "2024-07-31T14:02:25.137Z"
   },
   {
    "duration": 119,
    "start_time": "2024-07-31T14:02:32.540Z"
   },
   {
    "duration": 90,
    "start_time": "2024-07-31T14:02:32.661Z"
   },
   {
    "duration": 92,
    "start_time": "2024-07-31T14:02:32.752Z"
   },
   {
    "duration": 95,
    "start_time": "2024-07-31T14:02:32.845Z"
   },
   {
    "duration": 89,
    "start_time": "2024-07-31T14:02:32.942Z"
   },
   {
    "duration": 57,
    "start_time": "2024-07-31T14:02:33.033Z"
   },
   {
    "duration": 34,
    "start_time": "2024-07-31T14:02:33.091Z"
   },
   {
    "duration": 350,
    "start_time": "2024-07-31T14:02:33.129Z"
   },
   {
    "duration": 35,
    "start_time": "2024-07-31T14:02:33.481Z"
   },
   {
    "duration": 52,
    "start_time": "2024-07-31T14:02:33.518Z"
   },
   {
    "duration": 77,
    "start_time": "2024-07-31T14:02:33.572Z"
   },
   {
    "duration": 56,
    "start_time": "2024-07-31T14:02:33.650Z"
   },
   {
    "duration": 114,
    "start_time": "2024-07-31T14:02:33.708Z"
   },
   {
    "duration": 73,
    "start_time": "2024-07-31T14:02:33.823Z"
   },
   {
    "duration": 34,
    "start_time": "2024-07-31T14:02:33.898Z"
   },
   {
    "duration": 34,
    "start_time": "2024-07-31T14:02:33.933Z"
   },
   {
    "duration": 35,
    "start_time": "2024-07-31T14:02:33.968Z"
   },
   {
    "duration": 35,
    "start_time": "2024-07-31T14:02:34.004Z"
   },
   {
    "duration": 35,
    "start_time": "2024-07-31T14:02:34.041Z"
   },
   {
    "duration": 34,
    "start_time": "2024-07-31T14:02:34.077Z"
   },
   {
    "duration": 47,
    "start_time": "2024-07-31T14:02:34.113Z"
   },
   {
    "duration": 601,
    "start_time": "2024-07-31T17:13:33.059Z"
   },
   {
    "duration": 7267,
    "start_time": "2024-07-31T17:13:33.662Z"
   },
   {
    "duration": 45,
    "start_time": "2024-07-31T17:13:40.931Z"
   },
   {
    "duration": 25,
    "start_time": "2024-07-31T17:13:40.977Z"
   },
   {
    "duration": 32,
    "start_time": "2024-07-31T17:13:41.004Z"
   },
   {
    "duration": 31,
    "start_time": "2024-07-31T17:13:41.037Z"
   },
   {
    "duration": 44,
    "start_time": "2024-07-31T17:13:41.069Z"
   },
   {
    "duration": 15,
    "start_time": "2024-07-31T17:13:41.115Z"
   },
   {
    "duration": 51,
    "start_time": "2024-07-31T17:13:41.131Z"
   },
   {
    "duration": 376,
    "start_time": "2024-07-31T17:13:41.183Z"
   },
   {
    "duration": 12,
    "start_time": "2024-07-31T17:13:41.561Z"
   },
   {
    "duration": 34,
    "start_time": "2024-07-31T17:13:41.574Z"
   },
   {
    "duration": 38,
    "start_time": "2024-07-31T17:13:41.609Z"
   },
   {
    "duration": 107,
    "start_time": "2024-07-31T17:13:41.650Z"
   },
   {
    "duration": 148,
    "start_time": "2024-07-31T17:13:41.759Z"
   },
   {
    "duration": 59,
    "start_time": "2024-07-31T17:13:41.909Z"
   },
   {
    "duration": 12,
    "start_time": "2024-07-31T17:13:41.969Z"
   },
   {
    "duration": 37,
    "start_time": "2024-07-31T17:13:41.982Z"
   },
   {
    "duration": 13,
    "start_time": "2024-07-31T17:13:42.021Z"
   },
   {
    "duration": 15,
    "start_time": "2024-07-31T17:13:42.035Z"
   },
   {
    "duration": 16,
    "start_time": "2024-07-31T17:13:42.052Z"
   },
   {
    "duration": 13,
    "start_time": "2024-07-31T17:13:42.070Z"
   },
   {
    "duration": 67,
    "start_time": "2024-07-31T17:13:42.085Z"
   },
   {
    "duration": 602,
    "start_time": "2024-07-31T18:51:36.365Z"
   },
   {
    "duration": 5702,
    "start_time": "2024-07-31T18:51:36.969Z"
   },
   {
    "duration": 49,
    "start_time": "2024-07-31T18:51:42.672Z"
   },
   {
    "duration": 34,
    "start_time": "2024-07-31T18:51:42.725Z"
   },
   {
    "duration": 48,
    "start_time": "2024-07-31T18:51:42.761Z"
   },
   {
    "duration": 34,
    "start_time": "2024-07-31T18:51:42.811Z"
   },
   {
    "duration": 28,
    "start_time": "2024-07-31T18:51:42.848Z"
   },
   {
    "duration": 47,
    "start_time": "2024-07-31T18:51:42.878Z"
   },
   {
    "duration": 18,
    "start_time": "2024-07-31T18:51:42.927Z"
   },
   {
    "duration": 396,
    "start_time": "2024-07-31T18:51:42.948Z"
   },
   {
    "duration": 12,
    "start_time": "2024-07-31T18:51:43.346Z"
   },
   {
    "duration": 12,
    "start_time": "2024-07-31T18:51:43.359Z"
   },
   {
    "duration": 52,
    "start_time": "2024-07-31T18:51:43.373Z"
   },
   {
    "duration": 115,
    "start_time": "2024-07-31T18:51:43.426Z"
   },
   {
    "duration": 127,
    "start_time": "2024-07-31T18:51:43.543Z"
   },
   {
    "duration": 66,
    "start_time": "2024-07-31T18:51:43.672Z"
   },
   {
    "duration": 11,
    "start_time": "2024-07-31T18:51:43.740Z"
   },
   {
    "duration": 18,
    "start_time": "2024-07-31T18:51:43.753Z"
   },
   {
    "duration": 30,
    "start_time": "2024-07-31T18:51:43.773Z"
   },
   {
    "duration": 18,
    "start_time": "2024-07-31T18:51:43.805Z"
   },
   {
    "duration": 21,
    "start_time": "2024-07-31T18:51:43.825Z"
   },
   {
    "duration": 19,
    "start_time": "2024-07-31T18:51:43.847Z"
   },
   {
    "duration": 60,
    "start_time": "2024-07-31T18:51:43.867Z"
   },
   {
    "duration": 13,
    "start_time": "2024-07-31T19:01:03.366Z"
   },
   {
    "duration": 15,
    "start_time": "2024-07-31T19:02:51.471Z"
   },
   {
    "duration": 14,
    "start_time": "2024-07-31T19:03:43.434Z"
   },
   {
    "duration": 17,
    "start_time": "2024-07-31T19:04:08.576Z"
   },
   {
    "duration": 15,
    "start_time": "2024-07-31T19:05:09.927Z"
   },
   {
    "duration": 638,
    "start_time": "2024-07-31T19:06:03.725Z"
   },
   {
    "duration": 5669,
    "start_time": "2024-07-31T19:06:04.365Z"
   },
   {
    "duration": 41,
    "start_time": "2024-07-31T19:06:10.039Z"
   },
   {
    "duration": 28,
    "start_time": "2024-07-31T19:06:10.082Z"
   },
   {
    "duration": 31,
    "start_time": "2024-07-31T19:06:10.112Z"
   },
   {
    "duration": 35,
    "start_time": "2024-07-31T19:06:10.144Z"
   },
   {
    "duration": 47,
    "start_time": "2024-07-31T19:06:10.181Z"
   },
   {
    "duration": 18,
    "start_time": "2024-07-31T19:06:10.230Z"
   },
   {
    "duration": 16,
    "start_time": "2024-07-31T19:06:10.250Z"
   },
   {
    "duration": 408,
    "start_time": "2024-07-31T19:06:10.267Z"
   },
   {
    "duration": 13,
    "start_time": "2024-07-31T19:06:10.677Z"
   },
   {
    "duration": 16,
    "start_time": "2024-07-31T19:06:10.692Z"
   },
   {
    "duration": 44,
    "start_time": "2024-07-31T19:06:10.710Z"
   },
   {
    "duration": 107,
    "start_time": "2024-07-31T19:06:10.756Z"
   },
   {
    "duration": 142,
    "start_time": "2024-07-31T19:06:10.865Z"
   },
   {
    "duration": 59,
    "start_time": "2024-07-31T19:06:11.008Z"
   },
   {
    "duration": 11,
    "start_time": "2024-07-31T19:06:11.069Z"
   },
   {
    "duration": 38,
    "start_time": "2024-07-31T19:06:11.082Z"
   },
   {
    "duration": 15,
    "start_time": "2024-07-31T19:06:11.121Z"
   },
   {
    "duration": 16,
    "start_time": "2024-07-31T19:06:11.137Z"
   },
   {
    "duration": 12,
    "start_time": "2024-07-31T19:06:11.154Z"
   },
   {
    "duration": 44,
    "start_time": "2024-07-31T19:06:11.168Z"
   },
   {
    "duration": 51,
    "start_time": "2024-07-31T19:06:11.213Z"
   },
   {
    "duration": 17,
    "start_time": "2024-07-31T19:07:12.717Z"
   },
   {
    "duration": 674,
    "start_time": "2024-07-31T19:09:59.712Z"
   },
   {
    "duration": 6120,
    "start_time": "2024-07-31T19:10:00.388Z"
   },
   {
    "duration": 41,
    "start_time": "2024-07-31T19:10:06.509Z"
   },
   {
    "duration": 26,
    "start_time": "2024-07-31T19:10:06.552Z"
   },
   {
    "duration": 55,
    "start_time": "2024-07-31T19:10:06.579Z"
   },
   {
    "duration": 33,
    "start_time": "2024-07-31T19:10:06.635Z"
   },
   {
    "duration": 39,
    "start_time": "2024-07-31T19:10:06.670Z"
   },
   {
    "duration": 15,
    "start_time": "2024-07-31T19:10:06.711Z"
   },
   {
    "duration": 17,
    "start_time": "2024-07-31T19:10:06.727Z"
   },
   {
    "duration": 129,
    "start_time": "2024-07-31T19:10:06.747Z"
   },
   {
    "duration": 0,
    "start_time": "2024-07-31T19:10:06.877Z"
   },
   {
    "duration": 0,
    "start_time": "2024-07-31T19:10:06.878Z"
   },
   {
    "duration": 0,
    "start_time": "2024-07-31T19:10:06.880Z"
   },
   {
    "duration": 0,
    "start_time": "2024-07-31T19:10:06.881Z"
   },
   {
    "duration": 0,
    "start_time": "2024-07-31T19:10:06.882Z"
   },
   {
    "duration": 0,
    "start_time": "2024-07-31T19:10:06.883Z"
   },
   {
    "duration": 0,
    "start_time": "2024-07-31T19:10:06.884Z"
   },
   {
    "duration": 0,
    "start_time": "2024-07-31T19:10:06.885Z"
   },
   {
    "duration": 0,
    "start_time": "2024-07-31T19:10:06.886Z"
   },
   {
    "duration": 0,
    "start_time": "2024-07-31T19:10:06.907Z"
   },
   {
    "duration": 0,
    "start_time": "2024-07-31T19:10:06.908Z"
   },
   {
    "duration": 0,
    "start_time": "2024-07-31T19:10:06.909Z"
   },
   {
    "duration": 0,
    "start_time": "2024-07-31T19:10:06.910Z"
   },
   {
    "duration": 650,
    "start_time": "2024-07-31T19:12:56.530Z"
   },
   {
    "duration": 5874,
    "start_time": "2024-07-31T19:12:57.182Z"
   },
   {
    "duration": 40,
    "start_time": "2024-07-31T19:13:03.058Z"
   },
   {
    "duration": 47,
    "start_time": "2024-07-31T19:13:03.100Z"
   },
   {
    "duration": 64,
    "start_time": "2024-07-31T19:13:03.148Z"
   },
   {
    "duration": 31,
    "start_time": "2024-07-31T19:13:03.213Z"
   },
   {
    "duration": 29,
    "start_time": "2024-07-31T19:13:03.246Z"
   },
   {
    "duration": 36,
    "start_time": "2024-07-31T19:13:03.277Z"
   },
   {
    "duration": 16,
    "start_time": "2024-07-31T19:13:03.314Z"
   },
   {
    "duration": 424,
    "start_time": "2024-07-31T19:13:03.333Z"
   },
   {
    "duration": 13,
    "start_time": "2024-07-31T19:13:03.759Z"
   },
   {
    "duration": 19,
    "start_time": "2024-07-31T19:13:03.774Z"
   },
   {
    "duration": 43,
    "start_time": "2024-07-31T19:13:03.795Z"
   },
   {
    "duration": 110,
    "start_time": "2024-07-31T19:13:03.839Z"
   },
   {
    "duration": 132,
    "start_time": "2024-07-31T19:13:03.951Z"
   },
   {
    "duration": 70,
    "start_time": "2024-07-31T19:13:04.085Z"
   },
   {
    "duration": 14,
    "start_time": "2024-07-31T19:13:04.156Z"
   },
   {
    "duration": 40,
    "start_time": "2024-07-31T19:13:04.171Z"
   },
   {
    "duration": 15,
    "start_time": "2024-07-31T19:13:04.213Z"
   },
   {
    "duration": 20,
    "start_time": "2024-07-31T19:13:04.229Z"
   },
   {
    "duration": 13,
    "start_time": "2024-07-31T19:13:04.251Z"
   },
   {
    "duration": 41,
    "start_time": "2024-07-31T19:13:04.266Z"
   },
   {
    "duration": 57,
    "start_time": "2024-07-31T19:13:04.309Z"
   },
   {
    "duration": 630,
    "start_time": "2024-07-31T19:38:48.232Z"
   },
   {
    "duration": 5820,
    "start_time": "2024-07-31T19:38:48.865Z"
   },
   {
    "duration": 46,
    "start_time": "2024-07-31T19:38:54.686Z"
   },
   {
    "duration": 25,
    "start_time": "2024-07-31T19:38:54.735Z"
   },
   {
    "duration": 47,
    "start_time": "2024-07-31T19:38:54.761Z"
   },
   {
    "duration": 29,
    "start_time": "2024-07-31T19:38:54.810Z"
   },
   {
    "duration": 31,
    "start_time": "2024-07-31T19:38:54.841Z"
   },
   {
    "duration": 43,
    "start_time": "2024-07-31T19:38:54.874Z"
   },
   {
    "duration": 17,
    "start_time": "2024-07-31T19:38:54.919Z"
   },
   {
    "duration": 420,
    "start_time": "2024-07-31T19:38:54.938Z"
   },
   {
    "duration": 16,
    "start_time": "2024-07-31T19:38:55.361Z"
   },
   {
    "duration": 30,
    "start_time": "2024-07-31T19:38:55.379Z"
   },
   {
    "duration": 37,
    "start_time": "2024-07-31T19:38:55.410Z"
   },
   {
    "duration": 114,
    "start_time": "2024-07-31T19:38:55.449Z"
   },
   {
    "duration": 166,
    "start_time": "2024-07-31T19:38:55.565Z"
   },
   {
    "duration": 77,
    "start_time": "2024-07-31T19:38:55.733Z"
   },
   {
    "duration": 13,
    "start_time": "2024-07-31T19:38:55.812Z"
   },
   {
    "duration": 17,
    "start_time": "2024-07-31T19:38:55.828Z"
   },
   {
    "duration": 18,
    "start_time": "2024-07-31T19:38:55.847Z"
   },
   {
    "duration": 57,
    "start_time": "2024-07-31T19:38:55.868Z"
   },
   {
    "duration": 26,
    "start_time": "2024-07-31T19:38:55.928Z"
   },
   {
    "duration": 16,
    "start_time": "2024-07-31T19:38:55.956Z"
   },
   {
    "duration": 92,
    "start_time": "2024-07-31T19:38:55.974Z"
   },
   {
    "duration": 644,
    "start_time": "2024-07-31T23:38:50.126Z"
   },
   {
    "duration": 7536,
    "start_time": "2024-07-31T23:38:50.772Z"
   },
   {
    "duration": 110,
    "start_time": "2024-07-31T23:38:58.309Z"
   },
   {
    "duration": 83,
    "start_time": "2024-07-31T23:38:58.422Z"
   },
   {
    "duration": 85,
    "start_time": "2024-07-31T23:38:58.507Z"
   },
   {
    "duration": 90,
    "start_time": "2024-07-31T23:38:58.593Z"
   },
   {
    "duration": 87,
    "start_time": "2024-07-31T23:38:58.684Z"
   },
   {
    "duration": 55,
    "start_time": "2024-07-31T23:38:58.773Z"
   },
   {
    "duration": 34,
    "start_time": "2024-07-31T23:38:58.830Z"
   },
   {
    "duration": 654,
    "start_time": "2024-07-31T23:38:58.867Z"
   },
   {
    "duration": 45,
    "start_time": "2024-07-31T23:38:59.522Z"
   },
   {
    "duration": 30,
    "start_time": "2024-07-31T23:38:59.569Z"
   },
   {
    "duration": 72,
    "start_time": "2024-07-31T23:38:59.601Z"
   },
   {
    "duration": 55,
    "start_time": "2024-07-31T23:38:59.674Z"
   },
   {
    "duration": 131,
    "start_time": "2024-07-31T23:38:59.730Z"
   },
   {
    "duration": 52,
    "start_time": "2024-07-31T23:38:59.864Z"
   },
   {
    "duration": 31,
    "start_time": "2024-07-31T23:38:59.917Z"
   },
   {
    "duration": 33,
    "start_time": "2024-07-31T23:38:59.949Z"
   },
   {
    "duration": 33,
    "start_time": "2024-07-31T23:38:59.984Z"
   },
   {
    "duration": 35,
    "start_time": "2024-07-31T23:39:00.019Z"
   },
   {
    "duration": 60,
    "start_time": "2024-07-31T23:39:00.056Z"
   },
   {
    "duration": 63,
    "start_time": "2024-07-31T23:39:00.118Z"
   },
   {
    "duration": 141,
    "start_time": "2024-07-31T23:39:00.183Z"
   },
   {
    "duration": 74,
    "start_time": "2024-07-31T23:48:37.352Z"
   },
   {
    "duration": 72,
    "start_time": "2024-07-31T23:48:43.940Z"
   },
   {
    "duration": 34,
    "start_time": "2024-07-31T23:49:55.592Z"
   },
   {
    "duration": 32,
    "start_time": "2024-07-31T23:50:04.598Z"
   }
  ],
  "kernelspec": {
   "display_name": "Python 3 (ipykernel)",
   "language": "python",
   "name": "python3"
  },
  "language_info": {
   "codemirror_mode": {
    "name": "ipython",
    "version": 3
   },
   "file_extension": ".py",
   "mimetype": "text/x-python",
   "name": "python",
   "nbconvert_exporter": "python",
   "pygments_lexer": "ipython3",
   "version": "3.11.7"
  },
  "toc": {
   "base_numbering": 1,
   "nav_menu": {},
   "number_sections": true,
   "sideBar": true,
   "skip_h1_title": true,
   "title_cell": "Table of Contents",
   "title_sidebar": "Contents",
   "toc_cell": false,
   "toc_position": {
    "height": "calc(100% - 180px)",
    "left": "10px",
    "top": "150px",
    "width": "165px"
   },
   "toc_section_display": true,
   "toc_window_display": true
  }
 },
 "nbformat": 4,
 "nbformat_minor": 4
}
